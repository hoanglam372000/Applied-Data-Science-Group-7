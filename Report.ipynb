{
  "metadata": {
    "kernelspec": {
      "language": "python",
      "display_name": "Python 3",
      "name": "python3"
    },
    "language_info": {
      "pygments_lexer": "ipython3",
      "nbconvert_exporter": "python",
      "version": "3.6.4",
      "file_extension": ".py",
      "codemirror_mode": {
        "name": "ipython",
        "version": 3
      },
      "name": "python",
      "mimetype": "text/x-python"
    },
    "colab": {
      "name": "Report.ipynb",
      "provenance": [],
      "collapsed_sections": [],
      "include_colab_link": true
    },
    "accelerator": "GPU",
    "widgets": {
      "application/vnd.jupyter.widget-state+json": {
        "b6affcc4603a4052aa2df8252e84025c": {
          "model_module": "@jupyter-widgets/controls",
          "model_name": "HBoxModel",
          "model_module_version": "1.5.0",
          "state": {
            "_view_name": "HBoxView",
            "_dom_classes": [],
            "_model_name": "HBoxModel",
            "_view_module": "@jupyter-widgets/controls",
            "_model_module_version": "1.5.0",
            "_view_count": null,
            "_view_module_version": "1.5.0",
            "box_style": "",
            "layout": "IPY_MODEL_175197a9cf0748aab901275a3f86caaf",
            "_model_module": "@jupyter-widgets/controls",
            "children": [
              "IPY_MODEL_e421ccd827e74f3d8617a1b3b4a589ee",
              "IPY_MODEL_9520989980704ee7b715db7e27b034d6",
              "IPY_MODEL_c872e2ff3317459c9eb65a6f6290e794"
            ]
          }
        },
        "175197a9cf0748aab901275a3f86caaf": {
          "model_module": "@jupyter-widgets/base",
          "model_name": "LayoutModel",
          "model_module_version": "1.2.0",
          "state": {
            "_view_name": "LayoutView",
            "grid_template_rows": null,
            "right": null,
            "justify_content": null,
            "_view_module": "@jupyter-widgets/base",
            "overflow": null,
            "_model_module_version": "1.2.0",
            "_view_count": null,
            "flex_flow": null,
            "width": null,
            "min_width": null,
            "border": null,
            "align_items": null,
            "bottom": null,
            "_model_module": "@jupyter-widgets/base",
            "top": null,
            "grid_column": null,
            "overflow_y": null,
            "overflow_x": null,
            "grid_auto_flow": null,
            "grid_area": null,
            "grid_template_columns": null,
            "flex": null,
            "_model_name": "LayoutModel",
            "justify_items": null,
            "grid_row": null,
            "max_height": null,
            "align_content": null,
            "visibility": null,
            "align_self": null,
            "height": null,
            "min_height": null,
            "padding": null,
            "grid_auto_rows": null,
            "grid_gap": null,
            "max_width": null,
            "order": null,
            "_view_module_version": "1.2.0",
            "grid_template_areas": null,
            "object_position": null,
            "object_fit": null,
            "grid_auto_columns": null,
            "margin": null,
            "display": null,
            "left": null
          }
        },
        "e421ccd827e74f3d8617a1b3b4a589ee": {
          "model_module": "@jupyter-widgets/controls",
          "model_name": "HTMLModel",
          "model_module_version": "1.5.0",
          "state": {
            "_view_name": "HTMLView",
            "style": "IPY_MODEL_6839bfa4ad764590b79545328866d2b4",
            "_dom_classes": [],
            "description": "",
            "_model_name": "HTMLModel",
            "placeholder": "​",
            "_view_module": "@jupyter-widgets/controls",
            "_model_module_version": "1.5.0",
            "value": "Downloading: 100%",
            "_view_count": null,
            "_view_module_version": "1.5.0",
            "description_tooltip": null,
            "_model_module": "@jupyter-widgets/controls",
            "layout": "IPY_MODEL_4d4991eba4b94d829f6a6b66ca658724"
          }
        },
        "9520989980704ee7b715db7e27b034d6": {
          "model_module": "@jupyter-widgets/controls",
          "model_name": "FloatProgressModel",
          "model_module_version": "1.5.0",
          "state": {
            "_view_name": "ProgressView",
            "style": "IPY_MODEL_76dfc746811c46068f63d5121b5e12ed",
            "_dom_classes": [],
            "description": "",
            "_model_name": "FloatProgressModel",
            "bar_style": "success",
            "max": 231508,
            "_view_module": "@jupyter-widgets/controls",
            "_model_module_version": "1.5.0",
            "value": 231508,
            "_view_count": null,
            "_view_module_version": "1.5.0",
            "orientation": "horizontal",
            "min": 0,
            "description_tooltip": null,
            "_model_module": "@jupyter-widgets/controls",
            "layout": "IPY_MODEL_3808d02e31cc4f5abad08932ea7ec991"
          }
        },
        "c872e2ff3317459c9eb65a6f6290e794": {
          "model_module": "@jupyter-widgets/controls",
          "model_name": "HTMLModel",
          "model_module_version": "1.5.0",
          "state": {
            "_view_name": "HTMLView",
            "style": "IPY_MODEL_60f83d61ca0b4efeaaaae288732bb28e",
            "_dom_classes": [],
            "description": "",
            "_model_name": "HTMLModel",
            "placeholder": "​",
            "_view_module": "@jupyter-widgets/controls",
            "_model_module_version": "1.5.0",
            "value": " 226k/226k [00:00&lt;00:00, 659kB/s]",
            "_view_count": null,
            "_view_module_version": "1.5.0",
            "description_tooltip": null,
            "_model_module": "@jupyter-widgets/controls",
            "layout": "IPY_MODEL_f95eb890c0dc49d4bd7146dbcbca2290"
          }
        },
        "6839bfa4ad764590b79545328866d2b4": {
          "model_module": "@jupyter-widgets/controls",
          "model_name": "DescriptionStyleModel",
          "model_module_version": "1.5.0",
          "state": {
            "_view_name": "StyleView",
            "_model_name": "DescriptionStyleModel",
            "description_width": "",
            "_view_module": "@jupyter-widgets/base",
            "_model_module_version": "1.5.0",
            "_view_count": null,
            "_view_module_version": "1.2.0",
            "_model_module": "@jupyter-widgets/controls"
          }
        },
        "4d4991eba4b94d829f6a6b66ca658724": {
          "model_module": "@jupyter-widgets/base",
          "model_name": "LayoutModel",
          "model_module_version": "1.2.0",
          "state": {
            "_view_name": "LayoutView",
            "grid_template_rows": null,
            "right": null,
            "justify_content": null,
            "_view_module": "@jupyter-widgets/base",
            "overflow": null,
            "_model_module_version": "1.2.0",
            "_view_count": null,
            "flex_flow": null,
            "width": null,
            "min_width": null,
            "border": null,
            "align_items": null,
            "bottom": null,
            "_model_module": "@jupyter-widgets/base",
            "top": null,
            "grid_column": null,
            "overflow_y": null,
            "overflow_x": null,
            "grid_auto_flow": null,
            "grid_area": null,
            "grid_template_columns": null,
            "flex": null,
            "_model_name": "LayoutModel",
            "justify_items": null,
            "grid_row": null,
            "max_height": null,
            "align_content": null,
            "visibility": null,
            "align_self": null,
            "height": null,
            "min_height": null,
            "padding": null,
            "grid_auto_rows": null,
            "grid_gap": null,
            "max_width": null,
            "order": null,
            "_view_module_version": "1.2.0",
            "grid_template_areas": null,
            "object_position": null,
            "object_fit": null,
            "grid_auto_columns": null,
            "margin": null,
            "display": null,
            "left": null
          }
        },
        "76dfc746811c46068f63d5121b5e12ed": {
          "model_module": "@jupyter-widgets/controls",
          "model_name": "ProgressStyleModel",
          "model_module_version": "1.5.0",
          "state": {
            "_view_name": "StyleView",
            "_model_name": "ProgressStyleModel",
            "description_width": "",
            "_view_module": "@jupyter-widgets/base",
            "_model_module_version": "1.5.0",
            "_view_count": null,
            "_view_module_version": "1.2.0",
            "bar_color": null,
            "_model_module": "@jupyter-widgets/controls"
          }
        },
        "3808d02e31cc4f5abad08932ea7ec991": {
          "model_module": "@jupyter-widgets/base",
          "model_name": "LayoutModel",
          "model_module_version": "1.2.0",
          "state": {
            "_view_name": "LayoutView",
            "grid_template_rows": null,
            "right": null,
            "justify_content": null,
            "_view_module": "@jupyter-widgets/base",
            "overflow": null,
            "_model_module_version": "1.2.0",
            "_view_count": null,
            "flex_flow": null,
            "width": null,
            "min_width": null,
            "border": null,
            "align_items": null,
            "bottom": null,
            "_model_module": "@jupyter-widgets/base",
            "top": null,
            "grid_column": null,
            "overflow_y": null,
            "overflow_x": null,
            "grid_auto_flow": null,
            "grid_area": null,
            "grid_template_columns": null,
            "flex": null,
            "_model_name": "LayoutModel",
            "justify_items": null,
            "grid_row": null,
            "max_height": null,
            "align_content": null,
            "visibility": null,
            "align_self": null,
            "height": null,
            "min_height": null,
            "padding": null,
            "grid_auto_rows": null,
            "grid_gap": null,
            "max_width": null,
            "order": null,
            "_view_module_version": "1.2.0",
            "grid_template_areas": null,
            "object_position": null,
            "object_fit": null,
            "grid_auto_columns": null,
            "margin": null,
            "display": null,
            "left": null
          }
        },
        "60f83d61ca0b4efeaaaae288732bb28e": {
          "model_module": "@jupyter-widgets/controls",
          "model_name": "DescriptionStyleModel",
          "model_module_version": "1.5.0",
          "state": {
            "_view_name": "StyleView",
            "_model_name": "DescriptionStyleModel",
            "description_width": "",
            "_view_module": "@jupyter-widgets/base",
            "_model_module_version": "1.5.0",
            "_view_count": null,
            "_view_module_version": "1.2.0",
            "_model_module": "@jupyter-widgets/controls"
          }
        },
        "f95eb890c0dc49d4bd7146dbcbca2290": {
          "model_module": "@jupyter-widgets/base",
          "model_name": "LayoutModel",
          "model_module_version": "1.2.0",
          "state": {
            "_view_name": "LayoutView",
            "grid_template_rows": null,
            "right": null,
            "justify_content": null,
            "_view_module": "@jupyter-widgets/base",
            "overflow": null,
            "_model_module_version": "1.2.0",
            "_view_count": null,
            "flex_flow": null,
            "width": null,
            "min_width": null,
            "border": null,
            "align_items": null,
            "bottom": null,
            "_model_module": "@jupyter-widgets/base",
            "top": null,
            "grid_column": null,
            "overflow_y": null,
            "overflow_x": null,
            "grid_auto_flow": null,
            "grid_area": null,
            "grid_template_columns": null,
            "flex": null,
            "_model_name": "LayoutModel",
            "justify_items": null,
            "grid_row": null,
            "max_height": null,
            "align_content": null,
            "visibility": null,
            "align_self": null,
            "height": null,
            "min_height": null,
            "padding": null,
            "grid_auto_rows": null,
            "grid_gap": null,
            "max_width": null,
            "order": null,
            "_view_module_version": "1.2.0",
            "grid_template_areas": null,
            "object_position": null,
            "object_fit": null,
            "grid_auto_columns": null,
            "margin": null,
            "display": null,
            "left": null
          }
        },
        "19b3faf67105413e853bbbcd4d64ef57": {
          "model_module": "@jupyter-widgets/controls",
          "model_name": "HBoxModel",
          "model_module_version": "1.5.0",
          "state": {
            "_view_name": "HBoxView",
            "_dom_classes": [],
            "_model_name": "HBoxModel",
            "_view_module": "@jupyter-widgets/controls",
            "_model_module_version": "1.5.0",
            "_view_count": null,
            "_view_module_version": "1.5.0",
            "box_style": "",
            "layout": "IPY_MODEL_f0b0d362b4554bd89d64fda409126c45",
            "_model_module": "@jupyter-widgets/controls",
            "children": [
              "IPY_MODEL_fab1152ef14e4f07b7029857dad2ec6b",
              "IPY_MODEL_dc65cdd39ded47b58abaad923fc614ed",
              "IPY_MODEL_fab3fbd0c0d94896b009bb20333fe451"
            ]
          }
        },
        "f0b0d362b4554bd89d64fda409126c45": {
          "model_module": "@jupyter-widgets/base",
          "model_name": "LayoutModel",
          "model_module_version": "1.2.0",
          "state": {
            "_view_name": "LayoutView",
            "grid_template_rows": null,
            "right": null,
            "justify_content": null,
            "_view_module": "@jupyter-widgets/base",
            "overflow": null,
            "_model_module_version": "1.2.0",
            "_view_count": null,
            "flex_flow": null,
            "width": null,
            "min_width": null,
            "border": null,
            "align_items": null,
            "bottom": null,
            "_model_module": "@jupyter-widgets/base",
            "top": null,
            "grid_column": null,
            "overflow_y": null,
            "overflow_x": null,
            "grid_auto_flow": null,
            "grid_area": null,
            "grid_template_columns": null,
            "flex": null,
            "_model_name": "LayoutModel",
            "justify_items": null,
            "grid_row": null,
            "max_height": null,
            "align_content": null,
            "visibility": null,
            "align_self": null,
            "height": null,
            "min_height": null,
            "padding": null,
            "grid_auto_rows": null,
            "grid_gap": null,
            "max_width": null,
            "order": null,
            "_view_module_version": "1.2.0",
            "grid_template_areas": null,
            "object_position": null,
            "object_fit": null,
            "grid_auto_columns": null,
            "margin": null,
            "display": null,
            "left": null
          }
        },
        "fab1152ef14e4f07b7029857dad2ec6b": {
          "model_module": "@jupyter-widgets/controls",
          "model_name": "HTMLModel",
          "model_module_version": "1.5.0",
          "state": {
            "_view_name": "HTMLView",
            "style": "IPY_MODEL_4e0af87fab3948e994c3a26dbfd0597a",
            "_dom_classes": [],
            "description": "",
            "_model_name": "HTMLModel",
            "placeholder": "​",
            "_view_module": "@jupyter-widgets/controls",
            "_model_module_version": "1.5.0",
            "value": "Downloading: 100%",
            "_view_count": null,
            "_view_module_version": "1.5.0",
            "description_tooltip": null,
            "_model_module": "@jupyter-widgets/controls",
            "layout": "IPY_MODEL_578e91f281b3431a9f6b5da298171bec"
          }
        },
        "dc65cdd39ded47b58abaad923fc614ed": {
          "model_module": "@jupyter-widgets/controls",
          "model_name": "FloatProgressModel",
          "model_module_version": "1.5.0",
          "state": {
            "_view_name": "ProgressView",
            "style": "IPY_MODEL_f5e1fc9c4db14108b78bf1b58c85efb1",
            "_dom_classes": [],
            "description": "",
            "_model_name": "FloatProgressModel",
            "bar_style": "success",
            "max": 28,
            "_view_module": "@jupyter-widgets/controls",
            "_model_module_version": "1.5.0",
            "value": 28,
            "_view_count": null,
            "_view_module_version": "1.5.0",
            "orientation": "horizontal",
            "min": 0,
            "description_tooltip": null,
            "_model_module": "@jupyter-widgets/controls",
            "layout": "IPY_MODEL_dc1926610952469a935c3872bc452c3c"
          }
        },
        "fab3fbd0c0d94896b009bb20333fe451": {
          "model_module": "@jupyter-widgets/controls",
          "model_name": "HTMLModel",
          "model_module_version": "1.5.0",
          "state": {
            "_view_name": "HTMLView",
            "style": "IPY_MODEL_e18a476765d745d39d9bab128e2753b1",
            "_dom_classes": [],
            "description": "",
            "_model_name": "HTMLModel",
            "placeholder": "​",
            "_view_module": "@jupyter-widgets/controls",
            "_model_module_version": "1.5.0",
            "value": " 28.0/28.0 [00:00&lt;00:00, 709B/s]",
            "_view_count": null,
            "_view_module_version": "1.5.0",
            "description_tooltip": null,
            "_model_module": "@jupyter-widgets/controls",
            "layout": "IPY_MODEL_a80ea467132344f0847bea8cb50db748"
          }
        },
        "4e0af87fab3948e994c3a26dbfd0597a": {
          "model_module": "@jupyter-widgets/controls",
          "model_name": "DescriptionStyleModel",
          "model_module_version": "1.5.0",
          "state": {
            "_view_name": "StyleView",
            "_model_name": "DescriptionStyleModel",
            "description_width": "",
            "_view_module": "@jupyter-widgets/base",
            "_model_module_version": "1.5.0",
            "_view_count": null,
            "_view_module_version": "1.2.0",
            "_model_module": "@jupyter-widgets/controls"
          }
        },
        "578e91f281b3431a9f6b5da298171bec": {
          "model_module": "@jupyter-widgets/base",
          "model_name": "LayoutModel",
          "model_module_version": "1.2.0",
          "state": {
            "_view_name": "LayoutView",
            "grid_template_rows": null,
            "right": null,
            "justify_content": null,
            "_view_module": "@jupyter-widgets/base",
            "overflow": null,
            "_model_module_version": "1.2.0",
            "_view_count": null,
            "flex_flow": null,
            "width": null,
            "min_width": null,
            "border": null,
            "align_items": null,
            "bottom": null,
            "_model_module": "@jupyter-widgets/base",
            "top": null,
            "grid_column": null,
            "overflow_y": null,
            "overflow_x": null,
            "grid_auto_flow": null,
            "grid_area": null,
            "grid_template_columns": null,
            "flex": null,
            "_model_name": "LayoutModel",
            "justify_items": null,
            "grid_row": null,
            "max_height": null,
            "align_content": null,
            "visibility": null,
            "align_self": null,
            "height": null,
            "min_height": null,
            "padding": null,
            "grid_auto_rows": null,
            "grid_gap": null,
            "max_width": null,
            "order": null,
            "_view_module_version": "1.2.0",
            "grid_template_areas": null,
            "object_position": null,
            "object_fit": null,
            "grid_auto_columns": null,
            "margin": null,
            "display": null,
            "left": null
          }
        },
        "f5e1fc9c4db14108b78bf1b58c85efb1": {
          "model_module": "@jupyter-widgets/controls",
          "model_name": "ProgressStyleModel",
          "model_module_version": "1.5.0",
          "state": {
            "_view_name": "StyleView",
            "_model_name": "ProgressStyleModel",
            "description_width": "",
            "_view_module": "@jupyter-widgets/base",
            "_model_module_version": "1.5.0",
            "_view_count": null,
            "_view_module_version": "1.2.0",
            "bar_color": null,
            "_model_module": "@jupyter-widgets/controls"
          }
        },
        "dc1926610952469a935c3872bc452c3c": {
          "model_module": "@jupyter-widgets/base",
          "model_name": "LayoutModel",
          "model_module_version": "1.2.0",
          "state": {
            "_view_name": "LayoutView",
            "grid_template_rows": null,
            "right": null,
            "justify_content": null,
            "_view_module": "@jupyter-widgets/base",
            "overflow": null,
            "_model_module_version": "1.2.0",
            "_view_count": null,
            "flex_flow": null,
            "width": null,
            "min_width": null,
            "border": null,
            "align_items": null,
            "bottom": null,
            "_model_module": "@jupyter-widgets/base",
            "top": null,
            "grid_column": null,
            "overflow_y": null,
            "overflow_x": null,
            "grid_auto_flow": null,
            "grid_area": null,
            "grid_template_columns": null,
            "flex": null,
            "_model_name": "LayoutModel",
            "justify_items": null,
            "grid_row": null,
            "max_height": null,
            "align_content": null,
            "visibility": null,
            "align_self": null,
            "height": null,
            "min_height": null,
            "padding": null,
            "grid_auto_rows": null,
            "grid_gap": null,
            "max_width": null,
            "order": null,
            "_view_module_version": "1.2.0",
            "grid_template_areas": null,
            "object_position": null,
            "object_fit": null,
            "grid_auto_columns": null,
            "margin": null,
            "display": null,
            "left": null
          }
        },
        "e18a476765d745d39d9bab128e2753b1": {
          "model_module": "@jupyter-widgets/controls",
          "model_name": "DescriptionStyleModel",
          "model_module_version": "1.5.0",
          "state": {
            "_view_name": "StyleView",
            "_model_name": "DescriptionStyleModel",
            "description_width": "",
            "_view_module": "@jupyter-widgets/base",
            "_model_module_version": "1.5.0",
            "_view_count": null,
            "_view_module_version": "1.2.0",
            "_model_module": "@jupyter-widgets/controls"
          }
        },
        "a80ea467132344f0847bea8cb50db748": {
          "model_module": "@jupyter-widgets/base",
          "model_name": "LayoutModel",
          "model_module_version": "1.2.0",
          "state": {
            "_view_name": "LayoutView",
            "grid_template_rows": null,
            "right": null,
            "justify_content": null,
            "_view_module": "@jupyter-widgets/base",
            "overflow": null,
            "_model_module_version": "1.2.0",
            "_view_count": null,
            "flex_flow": null,
            "width": null,
            "min_width": null,
            "border": null,
            "align_items": null,
            "bottom": null,
            "_model_module": "@jupyter-widgets/base",
            "top": null,
            "grid_column": null,
            "overflow_y": null,
            "overflow_x": null,
            "grid_auto_flow": null,
            "grid_area": null,
            "grid_template_columns": null,
            "flex": null,
            "_model_name": "LayoutModel",
            "justify_items": null,
            "grid_row": null,
            "max_height": null,
            "align_content": null,
            "visibility": null,
            "align_self": null,
            "height": null,
            "min_height": null,
            "padding": null,
            "grid_auto_rows": null,
            "grid_gap": null,
            "max_width": null,
            "order": null,
            "_view_module_version": "1.2.0",
            "grid_template_areas": null,
            "object_position": null,
            "object_fit": null,
            "grid_auto_columns": null,
            "margin": null,
            "display": null,
            "left": null
          }
        },
        "a0919d220af24acaa650c14aeee7e9cc": {
          "model_module": "@jupyter-widgets/controls",
          "model_name": "HBoxModel",
          "model_module_version": "1.5.0",
          "state": {
            "_view_name": "HBoxView",
            "_dom_classes": [],
            "_model_name": "HBoxModel",
            "_view_module": "@jupyter-widgets/controls",
            "_model_module_version": "1.5.0",
            "_view_count": null,
            "_view_module_version": "1.5.0",
            "box_style": "",
            "layout": "IPY_MODEL_49b35f39f0ae4dc9a6b5ffe9a720f957",
            "_model_module": "@jupyter-widgets/controls",
            "children": [
              "IPY_MODEL_560551be70254a6dac6359aca969bb4b",
              "IPY_MODEL_7e75a548a4f343b19eef12081e1ef9ea",
              "IPY_MODEL_f1739a7d1847439f85ba21ab8f5ef679"
            ]
          }
        },
        "49b35f39f0ae4dc9a6b5ffe9a720f957": {
          "model_module": "@jupyter-widgets/base",
          "model_name": "LayoutModel",
          "model_module_version": "1.2.0",
          "state": {
            "_view_name": "LayoutView",
            "grid_template_rows": null,
            "right": null,
            "justify_content": null,
            "_view_module": "@jupyter-widgets/base",
            "overflow": null,
            "_model_module_version": "1.2.0",
            "_view_count": null,
            "flex_flow": null,
            "width": null,
            "min_width": null,
            "border": null,
            "align_items": null,
            "bottom": null,
            "_model_module": "@jupyter-widgets/base",
            "top": null,
            "grid_column": null,
            "overflow_y": null,
            "overflow_x": null,
            "grid_auto_flow": null,
            "grid_area": null,
            "grid_template_columns": null,
            "flex": null,
            "_model_name": "LayoutModel",
            "justify_items": null,
            "grid_row": null,
            "max_height": null,
            "align_content": null,
            "visibility": null,
            "align_self": null,
            "height": null,
            "min_height": null,
            "padding": null,
            "grid_auto_rows": null,
            "grid_gap": null,
            "max_width": null,
            "order": null,
            "_view_module_version": "1.2.0",
            "grid_template_areas": null,
            "object_position": null,
            "object_fit": null,
            "grid_auto_columns": null,
            "margin": null,
            "display": null,
            "left": null
          }
        },
        "560551be70254a6dac6359aca969bb4b": {
          "model_module": "@jupyter-widgets/controls",
          "model_name": "HTMLModel",
          "model_module_version": "1.5.0",
          "state": {
            "_view_name": "HTMLView",
            "style": "IPY_MODEL_2b3ade4e9c3e47408c1b13de24430992",
            "_dom_classes": [],
            "description": "",
            "_model_name": "HTMLModel",
            "placeholder": "​",
            "_view_module": "@jupyter-widgets/controls",
            "_model_module_version": "1.5.0",
            "value": "Downloading: 100%",
            "_view_count": null,
            "_view_module_version": "1.5.0",
            "description_tooltip": null,
            "_model_module": "@jupyter-widgets/controls",
            "layout": "IPY_MODEL_0806164684fb46b2ae1528ace0db8bec"
          }
        },
        "7e75a548a4f343b19eef12081e1ef9ea": {
          "model_module": "@jupyter-widgets/controls",
          "model_name": "FloatProgressModel",
          "model_module_version": "1.5.0",
          "state": {
            "_view_name": "ProgressView",
            "style": "IPY_MODEL_e4f24ec3a78e44368d2d8b5fae470570",
            "_dom_classes": [],
            "description": "",
            "_model_name": "FloatProgressModel",
            "bar_style": "success",
            "max": 466062,
            "_view_module": "@jupyter-widgets/controls",
            "_model_module_version": "1.5.0",
            "value": 466062,
            "_view_count": null,
            "_view_module_version": "1.5.0",
            "orientation": "horizontal",
            "min": 0,
            "description_tooltip": null,
            "_model_module": "@jupyter-widgets/controls",
            "layout": "IPY_MODEL_d3988be6593f4ccea19de9a93638d592"
          }
        },
        "f1739a7d1847439f85ba21ab8f5ef679": {
          "model_module": "@jupyter-widgets/controls",
          "model_name": "HTMLModel",
          "model_module_version": "1.5.0",
          "state": {
            "_view_name": "HTMLView",
            "style": "IPY_MODEL_272d4dc9123348beaa085ced9ba99640",
            "_dom_classes": [],
            "description": "",
            "_model_name": "HTMLModel",
            "placeholder": "​",
            "_view_module": "@jupyter-widgets/controls",
            "_model_module_version": "1.5.0",
            "value": " 455k/455k [00:00&lt;00:00, 1.34MB/s]",
            "_view_count": null,
            "_view_module_version": "1.5.0",
            "description_tooltip": null,
            "_model_module": "@jupyter-widgets/controls",
            "layout": "IPY_MODEL_59a716fac16746b5aa511d294c93a51a"
          }
        },
        "2b3ade4e9c3e47408c1b13de24430992": {
          "model_module": "@jupyter-widgets/controls",
          "model_name": "DescriptionStyleModel",
          "model_module_version": "1.5.0",
          "state": {
            "_view_name": "StyleView",
            "_model_name": "DescriptionStyleModel",
            "description_width": "",
            "_view_module": "@jupyter-widgets/base",
            "_model_module_version": "1.5.0",
            "_view_count": null,
            "_view_module_version": "1.2.0",
            "_model_module": "@jupyter-widgets/controls"
          }
        },
        "0806164684fb46b2ae1528ace0db8bec": {
          "model_module": "@jupyter-widgets/base",
          "model_name": "LayoutModel",
          "model_module_version": "1.2.0",
          "state": {
            "_view_name": "LayoutView",
            "grid_template_rows": null,
            "right": null,
            "justify_content": null,
            "_view_module": "@jupyter-widgets/base",
            "overflow": null,
            "_model_module_version": "1.2.0",
            "_view_count": null,
            "flex_flow": null,
            "width": null,
            "min_width": null,
            "border": null,
            "align_items": null,
            "bottom": null,
            "_model_module": "@jupyter-widgets/base",
            "top": null,
            "grid_column": null,
            "overflow_y": null,
            "overflow_x": null,
            "grid_auto_flow": null,
            "grid_area": null,
            "grid_template_columns": null,
            "flex": null,
            "_model_name": "LayoutModel",
            "justify_items": null,
            "grid_row": null,
            "max_height": null,
            "align_content": null,
            "visibility": null,
            "align_self": null,
            "height": null,
            "min_height": null,
            "padding": null,
            "grid_auto_rows": null,
            "grid_gap": null,
            "max_width": null,
            "order": null,
            "_view_module_version": "1.2.0",
            "grid_template_areas": null,
            "object_position": null,
            "object_fit": null,
            "grid_auto_columns": null,
            "margin": null,
            "display": null,
            "left": null
          }
        },
        "e4f24ec3a78e44368d2d8b5fae470570": {
          "model_module": "@jupyter-widgets/controls",
          "model_name": "ProgressStyleModel",
          "model_module_version": "1.5.0",
          "state": {
            "_view_name": "StyleView",
            "_model_name": "ProgressStyleModel",
            "description_width": "",
            "_view_module": "@jupyter-widgets/base",
            "_model_module_version": "1.5.0",
            "_view_count": null,
            "_view_module_version": "1.2.0",
            "bar_color": null,
            "_model_module": "@jupyter-widgets/controls"
          }
        },
        "d3988be6593f4ccea19de9a93638d592": {
          "model_module": "@jupyter-widgets/base",
          "model_name": "LayoutModel",
          "model_module_version": "1.2.0",
          "state": {
            "_view_name": "LayoutView",
            "grid_template_rows": null,
            "right": null,
            "justify_content": null,
            "_view_module": "@jupyter-widgets/base",
            "overflow": null,
            "_model_module_version": "1.2.0",
            "_view_count": null,
            "flex_flow": null,
            "width": null,
            "min_width": null,
            "border": null,
            "align_items": null,
            "bottom": null,
            "_model_module": "@jupyter-widgets/base",
            "top": null,
            "grid_column": null,
            "overflow_y": null,
            "overflow_x": null,
            "grid_auto_flow": null,
            "grid_area": null,
            "grid_template_columns": null,
            "flex": null,
            "_model_name": "LayoutModel",
            "justify_items": null,
            "grid_row": null,
            "max_height": null,
            "align_content": null,
            "visibility": null,
            "align_self": null,
            "height": null,
            "min_height": null,
            "padding": null,
            "grid_auto_rows": null,
            "grid_gap": null,
            "max_width": null,
            "order": null,
            "_view_module_version": "1.2.0",
            "grid_template_areas": null,
            "object_position": null,
            "object_fit": null,
            "grid_auto_columns": null,
            "margin": null,
            "display": null,
            "left": null
          }
        },
        "272d4dc9123348beaa085ced9ba99640": {
          "model_module": "@jupyter-widgets/controls",
          "model_name": "DescriptionStyleModel",
          "model_module_version": "1.5.0",
          "state": {
            "_view_name": "StyleView",
            "_model_name": "DescriptionStyleModel",
            "description_width": "",
            "_view_module": "@jupyter-widgets/base",
            "_model_module_version": "1.5.0",
            "_view_count": null,
            "_view_module_version": "1.2.0",
            "_model_module": "@jupyter-widgets/controls"
          }
        },
        "59a716fac16746b5aa511d294c93a51a": {
          "model_module": "@jupyter-widgets/base",
          "model_name": "LayoutModel",
          "model_module_version": "1.2.0",
          "state": {
            "_view_name": "LayoutView",
            "grid_template_rows": null,
            "right": null,
            "justify_content": null,
            "_view_module": "@jupyter-widgets/base",
            "overflow": null,
            "_model_module_version": "1.2.0",
            "_view_count": null,
            "flex_flow": null,
            "width": null,
            "min_width": null,
            "border": null,
            "align_items": null,
            "bottom": null,
            "_model_module": "@jupyter-widgets/base",
            "top": null,
            "grid_column": null,
            "overflow_y": null,
            "overflow_x": null,
            "grid_auto_flow": null,
            "grid_area": null,
            "grid_template_columns": null,
            "flex": null,
            "_model_name": "LayoutModel",
            "justify_items": null,
            "grid_row": null,
            "max_height": null,
            "align_content": null,
            "visibility": null,
            "align_self": null,
            "height": null,
            "min_height": null,
            "padding": null,
            "grid_auto_rows": null,
            "grid_gap": null,
            "max_width": null,
            "order": null,
            "_view_module_version": "1.2.0",
            "grid_template_areas": null,
            "object_position": null,
            "object_fit": null,
            "grid_auto_columns": null,
            "margin": null,
            "display": null,
            "left": null
          }
        },
        "76be231ba414443eba9a60ce815ad791": {
          "model_module": "@jupyter-widgets/controls",
          "model_name": "HBoxModel",
          "model_module_version": "1.5.0",
          "state": {
            "_view_name": "HBoxView",
            "_dom_classes": [],
            "_model_name": "HBoxModel",
            "_view_module": "@jupyter-widgets/controls",
            "_model_module_version": "1.5.0",
            "_view_count": null,
            "_view_module_version": "1.5.0",
            "box_style": "",
            "layout": "IPY_MODEL_75353d334b794cd48d491b232c47367d",
            "_model_module": "@jupyter-widgets/controls",
            "children": [
              "IPY_MODEL_cc1ede90c219475fa03ba632d96b694c",
              "IPY_MODEL_4f45a62cfd5a49008560c988d5930d99",
              "IPY_MODEL_62368863ee894431b45c693e4670a5de"
            ]
          }
        },
        "75353d334b794cd48d491b232c47367d": {
          "model_module": "@jupyter-widgets/base",
          "model_name": "LayoutModel",
          "model_module_version": "1.2.0",
          "state": {
            "_view_name": "LayoutView",
            "grid_template_rows": null,
            "right": null,
            "justify_content": null,
            "_view_module": "@jupyter-widgets/base",
            "overflow": null,
            "_model_module_version": "1.2.0",
            "_view_count": null,
            "flex_flow": null,
            "width": null,
            "min_width": null,
            "border": null,
            "align_items": null,
            "bottom": null,
            "_model_module": "@jupyter-widgets/base",
            "top": null,
            "grid_column": null,
            "overflow_y": null,
            "overflow_x": null,
            "grid_auto_flow": null,
            "grid_area": null,
            "grid_template_columns": null,
            "flex": null,
            "_model_name": "LayoutModel",
            "justify_items": null,
            "grid_row": null,
            "max_height": null,
            "align_content": null,
            "visibility": null,
            "align_self": null,
            "height": null,
            "min_height": null,
            "padding": null,
            "grid_auto_rows": null,
            "grid_gap": null,
            "max_width": null,
            "order": null,
            "_view_module_version": "1.2.0",
            "grid_template_areas": null,
            "object_position": null,
            "object_fit": null,
            "grid_auto_columns": null,
            "margin": null,
            "display": null,
            "left": null
          }
        },
        "cc1ede90c219475fa03ba632d96b694c": {
          "model_module": "@jupyter-widgets/controls",
          "model_name": "HTMLModel",
          "model_module_version": "1.5.0",
          "state": {
            "_view_name": "HTMLView",
            "style": "IPY_MODEL_03a2cdd4079d43b1829938525785e092",
            "_dom_classes": [],
            "description": "",
            "_model_name": "HTMLModel",
            "placeholder": "​",
            "_view_module": "@jupyter-widgets/controls",
            "_model_module_version": "1.5.0",
            "value": "Downloading: 100%",
            "_view_count": null,
            "_view_module_version": "1.5.0",
            "description_tooltip": null,
            "_model_module": "@jupyter-widgets/controls",
            "layout": "IPY_MODEL_b74f26e089e84ded9fadb83bf307366a"
          }
        },
        "4f45a62cfd5a49008560c988d5930d99": {
          "model_module": "@jupyter-widgets/controls",
          "model_name": "FloatProgressModel",
          "model_module_version": "1.5.0",
          "state": {
            "_view_name": "ProgressView",
            "style": "IPY_MODEL_b7b27a23480f4bc5ba4cd2d8993571a0",
            "_dom_classes": [],
            "description": "",
            "_model_name": "FloatProgressModel",
            "bar_style": "success",
            "max": 570,
            "_view_module": "@jupyter-widgets/controls",
            "_model_module_version": "1.5.0",
            "value": 570,
            "_view_count": null,
            "_view_module_version": "1.5.0",
            "orientation": "horizontal",
            "min": 0,
            "description_tooltip": null,
            "_model_module": "@jupyter-widgets/controls",
            "layout": "IPY_MODEL_655c1a6fb4b24861a7f5dcc6dde63d2d"
          }
        },
        "62368863ee894431b45c693e4670a5de": {
          "model_module": "@jupyter-widgets/controls",
          "model_name": "HTMLModel",
          "model_module_version": "1.5.0",
          "state": {
            "_view_name": "HTMLView",
            "style": "IPY_MODEL_f40c72315a82411cbe325583029ca5d3",
            "_dom_classes": [],
            "description": "",
            "_model_name": "HTMLModel",
            "placeholder": "​",
            "_view_module": "@jupyter-widgets/controls",
            "_model_module_version": "1.5.0",
            "value": " 570/570 [00:00&lt;00:00, 13.9kB/s]",
            "_view_count": null,
            "_view_module_version": "1.5.0",
            "description_tooltip": null,
            "_model_module": "@jupyter-widgets/controls",
            "layout": "IPY_MODEL_a9fd0dc388b640269b14f7314ea01a26"
          }
        },
        "03a2cdd4079d43b1829938525785e092": {
          "model_module": "@jupyter-widgets/controls",
          "model_name": "DescriptionStyleModel",
          "model_module_version": "1.5.0",
          "state": {
            "_view_name": "StyleView",
            "_model_name": "DescriptionStyleModel",
            "description_width": "",
            "_view_module": "@jupyter-widgets/base",
            "_model_module_version": "1.5.0",
            "_view_count": null,
            "_view_module_version": "1.2.0",
            "_model_module": "@jupyter-widgets/controls"
          }
        },
        "b74f26e089e84ded9fadb83bf307366a": {
          "model_module": "@jupyter-widgets/base",
          "model_name": "LayoutModel",
          "model_module_version": "1.2.0",
          "state": {
            "_view_name": "LayoutView",
            "grid_template_rows": null,
            "right": null,
            "justify_content": null,
            "_view_module": "@jupyter-widgets/base",
            "overflow": null,
            "_model_module_version": "1.2.0",
            "_view_count": null,
            "flex_flow": null,
            "width": null,
            "min_width": null,
            "border": null,
            "align_items": null,
            "bottom": null,
            "_model_module": "@jupyter-widgets/base",
            "top": null,
            "grid_column": null,
            "overflow_y": null,
            "overflow_x": null,
            "grid_auto_flow": null,
            "grid_area": null,
            "grid_template_columns": null,
            "flex": null,
            "_model_name": "LayoutModel",
            "justify_items": null,
            "grid_row": null,
            "max_height": null,
            "align_content": null,
            "visibility": null,
            "align_self": null,
            "height": null,
            "min_height": null,
            "padding": null,
            "grid_auto_rows": null,
            "grid_gap": null,
            "max_width": null,
            "order": null,
            "_view_module_version": "1.2.0",
            "grid_template_areas": null,
            "object_position": null,
            "object_fit": null,
            "grid_auto_columns": null,
            "margin": null,
            "display": null,
            "left": null
          }
        },
        "b7b27a23480f4bc5ba4cd2d8993571a0": {
          "model_module": "@jupyter-widgets/controls",
          "model_name": "ProgressStyleModel",
          "model_module_version": "1.5.0",
          "state": {
            "_view_name": "StyleView",
            "_model_name": "ProgressStyleModel",
            "description_width": "",
            "_view_module": "@jupyter-widgets/base",
            "_model_module_version": "1.5.0",
            "_view_count": null,
            "_view_module_version": "1.2.0",
            "bar_color": null,
            "_model_module": "@jupyter-widgets/controls"
          }
        },
        "655c1a6fb4b24861a7f5dcc6dde63d2d": {
          "model_module": "@jupyter-widgets/base",
          "model_name": "LayoutModel",
          "model_module_version": "1.2.0",
          "state": {
            "_view_name": "LayoutView",
            "grid_template_rows": null,
            "right": null,
            "justify_content": null,
            "_view_module": "@jupyter-widgets/base",
            "overflow": null,
            "_model_module_version": "1.2.0",
            "_view_count": null,
            "flex_flow": null,
            "width": null,
            "min_width": null,
            "border": null,
            "align_items": null,
            "bottom": null,
            "_model_module": "@jupyter-widgets/base",
            "top": null,
            "grid_column": null,
            "overflow_y": null,
            "overflow_x": null,
            "grid_auto_flow": null,
            "grid_area": null,
            "grid_template_columns": null,
            "flex": null,
            "_model_name": "LayoutModel",
            "justify_items": null,
            "grid_row": null,
            "max_height": null,
            "align_content": null,
            "visibility": null,
            "align_self": null,
            "height": null,
            "min_height": null,
            "padding": null,
            "grid_auto_rows": null,
            "grid_gap": null,
            "max_width": null,
            "order": null,
            "_view_module_version": "1.2.0",
            "grid_template_areas": null,
            "object_position": null,
            "object_fit": null,
            "grid_auto_columns": null,
            "margin": null,
            "display": null,
            "left": null
          }
        },
        "f40c72315a82411cbe325583029ca5d3": {
          "model_module": "@jupyter-widgets/controls",
          "model_name": "DescriptionStyleModel",
          "model_module_version": "1.5.0",
          "state": {
            "_view_name": "StyleView",
            "_model_name": "DescriptionStyleModel",
            "description_width": "",
            "_view_module": "@jupyter-widgets/base",
            "_model_module_version": "1.5.0",
            "_view_count": null,
            "_view_module_version": "1.2.0",
            "_model_module": "@jupyter-widgets/controls"
          }
        },
        "a9fd0dc388b640269b14f7314ea01a26": {
          "model_module": "@jupyter-widgets/base",
          "model_name": "LayoutModel",
          "model_module_version": "1.2.0",
          "state": {
            "_view_name": "LayoutView",
            "grid_template_rows": null,
            "right": null,
            "justify_content": null,
            "_view_module": "@jupyter-widgets/base",
            "overflow": null,
            "_model_module_version": "1.2.0",
            "_view_count": null,
            "flex_flow": null,
            "width": null,
            "min_width": null,
            "border": null,
            "align_items": null,
            "bottom": null,
            "_model_module": "@jupyter-widgets/base",
            "top": null,
            "grid_column": null,
            "overflow_y": null,
            "overflow_x": null,
            "grid_auto_flow": null,
            "grid_area": null,
            "grid_template_columns": null,
            "flex": null,
            "_model_name": "LayoutModel",
            "justify_items": null,
            "grid_row": null,
            "max_height": null,
            "align_content": null,
            "visibility": null,
            "align_self": null,
            "height": null,
            "min_height": null,
            "padding": null,
            "grid_auto_rows": null,
            "grid_gap": null,
            "max_width": null,
            "order": null,
            "_view_module_version": "1.2.0",
            "grid_template_areas": null,
            "object_position": null,
            "object_fit": null,
            "grid_auto_columns": null,
            "margin": null,
            "display": null,
            "left": null
          }
        },
        "09ac94431c474423bf49d33045c9ffc8": {
          "model_module": "@jupyter-widgets/controls",
          "model_name": "HBoxModel",
          "model_module_version": "1.5.0",
          "state": {
            "_view_name": "HBoxView",
            "_dom_classes": [],
            "_model_name": "HBoxModel",
            "_view_module": "@jupyter-widgets/controls",
            "_model_module_version": "1.5.0",
            "_view_count": null,
            "_view_module_version": "1.5.0",
            "box_style": "",
            "layout": "IPY_MODEL_edf4482a867841fc8566ddf4b5444ebb",
            "_model_module": "@jupyter-widgets/controls",
            "children": [
              "IPY_MODEL_c4e86794108a4b1da6f555e1794b5c4b",
              "IPY_MODEL_5e68b8d39a81423f865b332031dbf0e4",
              "IPY_MODEL_cc8c1c579fdc4a8aae1a0ff3e4a095d0"
            ]
          }
        },
        "edf4482a867841fc8566ddf4b5444ebb": {
          "model_module": "@jupyter-widgets/base",
          "model_name": "LayoutModel",
          "model_module_version": "1.2.0",
          "state": {
            "_view_name": "LayoutView",
            "grid_template_rows": null,
            "right": null,
            "justify_content": null,
            "_view_module": "@jupyter-widgets/base",
            "overflow": null,
            "_model_module_version": "1.2.0",
            "_view_count": null,
            "flex_flow": null,
            "width": null,
            "min_width": null,
            "border": null,
            "align_items": null,
            "bottom": null,
            "_model_module": "@jupyter-widgets/base",
            "top": null,
            "grid_column": null,
            "overflow_y": null,
            "overflow_x": null,
            "grid_auto_flow": null,
            "grid_area": null,
            "grid_template_columns": null,
            "flex": null,
            "_model_name": "LayoutModel",
            "justify_items": null,
            "grid_row": null,
            "max_height": null,
            "align_content": null,
            "visibility": null,
            "align_self": null,
            "height": null,
            "min_height": null,
            "padding": null,
            "grid_auto_rows": null,
            "grid_gap": null,
            "max_width": null,
            "order": null,
            "_view_module_version": "1.2.0",
            "grid_template_areas": null,
            "object_position": null,
            "object_fit": null,
            "grid_auto_columns": null,
            "margin": null,
            "display": null,
            "left": null
          }
        },
        "c4e86794108a4b1da6f555e1794b5c4b": {
          "model_module": "@jupyter-widgets/controls",
          "model_name": "HTMLModel",
          "model_module_version": "1.5.0",
          "state": {
            "_view_name": "HTMLView",
            "style": "IPY_MODEL_d9edc05804cc4a819c9ff237e4741627",
            "_dom_classes": [],
            "description": "",
            "_model_name": "HTMLModel",
            "placeholder": "​",
            "_view_module": "@jupyter-widgets/controls",
            "_model_module_version": "1.5.0",
            "value": "Downloading: 100%",
            "_view_count": null,
            "_view_module_version": "1.5.0",
            "description_tooltip": null,
            "_model_module": "@jupyter-widgets/controls",
            "layout": "IPY_MODEL_65500b2d03ce4289a08580834f2767da"
          }
        },
        "5e68b8d39a81423f865b332031dbf0e4": {
          "model_module": "@jupyter-widgets/controls",
          "model_name": "FloatProgressModel",
          "model_module_version": "1.5.0",
          "state": {
            "_view_name": "ProgressView",
            "style": "IPY_MODEL_27d094d1815a4f25b55d6d3128d787a5",
            "_dom_classes": [],
            "description": "",
            "_model_name": "FloatProgressModel",
            "bar_style": "success",
            "max": 570,
            "_view_module": "@jupyter-widgets/controls",
            "_model_module_version": "1.5.0",
            "value": 570,
            "_view_count": null,
            "_view_module_version": "1.5.0",
            "orientation": "horizontal",
            "min": 0,
            "description_tooltip": null,
            "_model_module": "@jupyter-widgets/controls",
            "layout": "IPY_MODEL_9536ceba80994e229c8072f12285ece2"
          }
        },
        "cc8c1c579fdc4a8aae1a0ff3e4a095d0": {
          "model_module": "@jupyter-widgets/controls",
          "model_name": "HTMLModel",
          "model_module_version": "1.5.0",
          "state": {
            "_view_name": "HTMLView",
            "style": "IPY_MODEL_9087fbcfd7d94e3d9a4684fb13b9858d",
            "_dom_classes": [],
            "description": "",
            "_model_name": "HTMLModel",
            "placeholder": "​",
            "_view_module": "@jupyter-widgets/controls",
            "_model_module_version": "1.5.0",
            "value": " 570/570 [00:00&lt;00:00, 13.5kB/s]",
            "_view_count": null,
            "_view_module_version": "1.5.0",
            "description_tooltip": null,
            "_model_module": "@jupyter-widgets/controls",
            "layout": "IPY_MODEL_b607e021262f4bac9157ca8aec1efe7c"
          }
        },
        "d9edc05804cc4a819c9ff237e4741627": {
          "model_module": "@jupyter-widgets/controls",
          "model_name": "DescriptionStyleModel",
          "model_module_version": "1.5.0",
          "state": {
            "_view_name": "StyleView",
            "_model_name": "DescriptionStyleModel",
            "description_width": "",
            "_view_module": "@jupyter-widgets/base",
            "_model_module_version": "1.5.0",
            "_view_count": null,
            "_view_module_version": "1.2.0",
            "_model_module": "@jupyter-widgets/controls"
          }
        },
        "65500b2d03ce4289a08580834f2767da": {
          "model_module": "@jupyter-widgets/base",
          "model_name": "LayoutModel",
          "model_module_version": "1.2.0",
          "state": {
            "_view_name": "LayoutView",
            "grid_template_rows": null,
            "right": null,
            "justify_content": null,
            "_view_module": "@jupyter-widgets/base",
            "overflow": null,
            "_model_module_version": "1.2.0",
            "_view_count": null,
            "flex_flow": null,
            "width": null,
            "min_width": null,
            "border": null,
            "align_items": null,
            "bottom": null,
            "_model_module": "@jupyter-widgets/base",
            "top": null,
            "grid_column": null,
            "overflow_y": null,
            "overflow_x": null,
            "grid_auto_flow": null,
            "grid_area": null,
            "grid_template_columns": null,
            "flex": null,
            "_model_name": "LayoutModel",
            "justify_items": null,
            "grid_row": null,
            "max_height": null,
            "align_content": null,
            "visibility": null,
            "align_self": null,
            "height": null,
            "min_height": null,
            "padding": null,
            "grid_auto_rows": null,
            "grid_gap": null,
            "max_width": null,
            "order": null,
            "_view_module_version": "1.2.0",
            "grid_template_areas": null,
            "object_position": null,
            "object_fit": null,
            "grid_auto_columns": null,
            "margin": null,
            "display": null,
            "left": null
          }
        },
        "27d094d1815a4f25b55d6d3128d787a5": {
          "model_module": "@jupyter-widgets/controls",
          "model_name": "ProgressStyleModel",
          "model_module_version": "1.5.0",
          "state": {
            "_view_name": "StyleView",
            "_model_name": "ProgressStyleModel",
            "description_width": "",
            "_view_module": "@jupyter-widgets/base",
            "_model_module_version": "1.5.0",
            "_view_count": null,
            "_view_module_version": "1.2.0",
            "bar_color": null,
            "_model_module": "@jupyter-widgets/controls"
          }
        },
        "9536ceba80994e229c8072f12285ece2": {
          "model_module": "@jupyter-widgets/base",
          "model_name": "LayoutModel",
          "model_module_version": "1.2.0",
          "state": {
            "_view_name": "LayoutView",
            "grid_template_rows": null,
            "right": null,
            "justify_content": null,
            "_view_module": "@jupyter-widgets/base",
            "overflow": null,
            "_model_module_version": "1.2.0",
            "_view_count": null,
            "flex_flow": null,
            "width": null,
            "min_width": null,
            "border": null,
            "align_items": null,
            "bottom": null,
            "_model_module": "@jupyter-widgets/base",
            "top": null,
            "grid_column": null,
            "overflow_y": null,
            "overflow_x": null,
            "grid_auto_flow": null,
            "grid_area": null,
            "grid_template_columns": null,
            "flex": null,
            "_model_name": "LayoutModel",
            "justify_items": null,
            "grid_row": null,
            "max_height": null,
            "align_content": null,
            "visibility": null,
            "align_self": null,
            "height": null,
            "min_height": null,
            "padding": null,
            "grid_auto_rows": null,
            "grid_gap": null,
            "max_width": null,
            "order": null,
            "_view_module_version": "1.2.0",
            "grid_template_areas": null,
            "object_position": null,
            "object_fit": null,
            "grid_auto_columns": null,
            "margin": null,
            "display": null,
            "left": null
          }
        },
        "9087fbcfd7d94e3d9a4684fb13b9858d": {
          "model_module": "@jupyter-widgets/controls",
          "model_name": "DescriptionStyleModel",
          "model_module_version": "1.5.0",
          "state": {
            "_view_name": "StyleView",
            "_model_name": "DescriptionStyleModel",
            "description_width": "",
            "_view_module": "@jupyter-widgets/base",
            "_model_module_version": "1.5.0",
            "_view_count": null,
            "_view_module_version": "1.2.0",
            "_model_module": "@jupyter-widgets/controls"
          }
        },
        "b607e021262f4bac9157ca8aec1efe7c": {
          "model_module": "@jupyter-widgets/base",
          "model_name": "LayoutModel",
          "model_module_version": "1.2.0",
          "state": {
            "_view_name": "LayoutView",
            "grid_template_rows": null,
            "right": null,
            "justify_content": null,
            "_view_module": "@jupyter-widgets/base",
            "overflow": null,
            "_model_module_version": "1.2.0",
            "_view_count": null,
            "flex_flow": null,
            "width": null,
            "min_width": null,
            "border": null,
            "align_items": null,
            "bottom": null,
            "_model_module": "@jupyter-widgets/base",
            "top": null,
            "grid_column": null,
            "overflow_y": null,
            "overflow_x": null,
            "grid_auto_flow": null,
            "grid_area": null,
            "grid_template_columns": null,
            "flex": null,
            "_model_name": "LayoutModel",
            "justify_items": null,
            "grid_row": null,
            "max_height": null,
            "align_content": null,
            "visibility": null,
            "align_self": null,
            "height": null,
            "min_height": null,
            "padding": null,
            "grid_auto_rows": null,
            "grid_gap": null,
            "max_width": null,
            "order": null,
            "_view_module_version": "1.2.0",
            "grid_template_areas": null,
            "object_position": null,
            "object_fit": null,
            "grid_auto_columns": null,
            "margin": null,
            "display": null,
            "left": null
          }
        },
        "dc1c309ba6534ad883243c83f9ebd27c": {
          "model_module": "@jupyter-widgets/controls",
          "model_name": "HBoxModel",
          "model_module_version": "1.5.0",
          "state": {
            "_view_name": "HBoxView",
            "_dom_classes": [],
            "_model_name": "HBoxModel",
            "_view_module": "@jupyter-widgets/controls",
            "_model_module_version": "1.5.0",
            "_view_count": null,
            "_view_module_version": "1.5.0",
            "box_style": "",
            "layout": "IPY_MODEL_458cd12e6f9342c0a12b350d85c2402e",
            "_model_module": "@jupyter-widgets/controls",
            "children": [
              "IPY_MODEL_ad31c4aca4794d4094f2220b0e2a604a",
              "IPY_MODEL_adeeec238a5c423a8cab5859139ceef1",
              "IPY_MODEL_84a1966eb78248c4b7d0eb74b2065b87"
            ]
          }
        },
        "458cd12e6f9342c0a12b350d85c2402e": {
          "model_module": "@jupyter-widgets/base",
          "model_name": "LayoutModel",
          "model_module_version": "1.2.0",
          "state": {
            "_view_name": "LayoutView",
            "grid_template_rows": null,
            "right": null,
            "justify_content": null,
            "_view_module": "@jupyter-widgets/base",
            "overflow": null,
            "_model_module_version": "1.2.0",
            "_view_count": null,
            "flex_flow": null,
            "width": null,
            "min_width": null,
            "border": null,
            "align_items": null,
            "bottom": null,
            "_model_module": "@jupyter-widgets/base",
            "top": null,
            "grid_column": null,
            "overflow_y": null,
            "overflow_x": null,
            "grid_auto_flow": null,
            "grid_area": null,
            "grid_template_columns": null,
            "flex": null,
            "_model_name": "LayoutModel",
            "justify_items": null,
            "grid_row": null,
            "max_height": null,
            "align_content": null,
            "visibility": null,
            "align_self": null,
            "height": null,
            "min_height": null,
            "padding": null,
            "grid_auto_rows": null,
            "grid_gap": null,
            "max_width": null,
            "order": null,
            "_view_module_version": "1.2.0",
            "grid_template_areas": null,
            "object_position": null,
            "object_fit": null,
            "grid_auto_columns": null,
            "margin": null,
            "display": null,
            "left": null
          }
        },
        "ad31c4aca4794d4094f2220b0e2a604a": {
          "model_module": "@jupyter-widgets/controls",
          "model_name": "HTMLModel",
          "model_module_version": "1.5.0",
          "state": {
            "_view_name": "HTMLView",
            "style": "IPY_MODEL_0df57029783b4f44a9859166a84547b1",
            "_dom_classes": [],
            "description": "",
            "_model_name": "HTMLModel",
            "placeholder": "​",
            "_view_module": "@jupyter-widgets/controls",
            "_model_module_version": "1.5.0",
            "value": "Downloading: 100%",
            "_view_count": null,
            "_view_module_version": "1.5.0",
            "description_tooltip": null,
            "_model_module": "@jupyter-widgets/controls",
            "layout": "IPY_MODEL_0c086a6dd6db40899ba963a8dbe190ea"
          }
        },
        "adeeec238a5c423a8cab5859139ceef1": {
          "model_module": "@jupyter-widgets/controls",
          "model_name": "FloatProgressModel",
          "model_module_version": "1.5.0",
          "state": {
            "_view_name": "ProgressView",
            "style": "IPY_MODEL_25081e091a064552a25583c07f2f0434",
            "_dom_classes": [],
            "description": "",
            "_model_name": "FloatProgressModel",
            "bar_style": "success",
            "max": 526681800,
            "_view_module": "@jupyter-widgets/controls",
            "_model_module_version": "1.5.0",
            "value": 526681800,
            "_view_count": null,
            "_view_module_version": "1.5.0",
            "orientation": "horizontal",
            "min": 0,
            "description_tooltip": null,
            "_model_module": "@jupyter-widgets/controls",
            "layout": "IPY_MODEL_28ff7a007ab745bba28c2aa8f37c20ca"
          }
        },
        "84a1966eb78248c4b7d0eb74b2065b87": {
          "model_module": "@jupyter-widgets/controls",
          "model_name": "HTMLModel",
          "model_module_version": "1.5.0",
          "state": {
            "_view_name": "HTMLView",
            "style": "IPY_MODEL_3653810f0187404496f0f9307fba6697",
            "_dom_classes": [],
            "description": "",
            "_model_name": "HTMLModel",
            "placeholder": "​",
            "_view_module": "@jupyter-widgets/controls",
            "_model_module_version": "1.5.0",
            "value": " 502M/502M [00:16&lt;00:00, 34.5MB/s]",
            "_view_count": null,
            "_view_module_version": "1.5.0",
            "description_tooltip": null,
            "_model_module": "@jupyter-widgets/controls",
            "layout": "IPY_MODEL_aa90a17ba18946cfb62e85f9989df6ed"
          }
        },
        "0df57029783b4f44a9859166a84547b1": {
          "model_module": "@jupyter-widgets/controls",
          "model_name": "DescriptionStyleModel",
          "model_module_version": "1.5.0",
          "state": {
            "_view_name": "StyleView",
            "_model_name": "DescriptionStyleModel",
            "description_width": "",
            "_view_module": "@jupyter-widgets/base",
            "_model_module_version": "1.5.0",
            "_view_count": null,
            "_view_module_version": "1.2.0",
            "_model_module": "@jupyter-widgets/controls"
          }
        },
        "0c086a6dd6db40899ba963a8dbe190ea": {
          "model_module": "@jupyter-widgets/base",
          "model_name": "LayoutModel",
          "model_module_version": "1.2.0",
          "state": {
            "_view_name": "LayoutView",
            "grid_template_rows": null,
            "right": null,
            "justify_content": null,
            "_view_module": "@jupyter-widgets/base",
            "overflow": null,
            "_model_module_version": "1.2.0",
            "_view_count": null,
            "flex_flow": null,
            "width": null,
            "min_width": null,
            "border": null,
            "align_items": null,
            "bottom": null,
            "_model_module": "@jupyter-widgets/base",
            "top": null,
            "grid_column": null,
            "overflow_y": null,
            "overflow_x": null,
            "grid_auto_flow": null,
            "grid_area": null,
            "grid_template_columns": null,
            "flex": null,
            "_model_name": "LayoutModel",
            "justify_items": null,
            "grid_row": null,
            "max_height": null,
            "align_content": null,
            "visibility": null,
            "align_self": null,
            "height": null,
            "min_height": null,
            "padding": null,
            "grid_auto_rows": null,
            "grid_gap": null,
            "max_width": null,
            "order": null,
            "_view_module_version": "1.2.0",
            "grid_template_areas": null,
            "object_position": null,
            "object_fit": null,
            "grid_auto_columns": null,
            "margin": null,
            "display": null,
            "left": null
          }
        },
        "25081e091a064552a25583c07f2f0434": {
          "model_module": "@jupyter-widgets/controls",
          "model_name": "ProgressStyleModel",
          "model_module_version": "1.5.0",
          "state": {
            "_view_name": "StyleView",
            "_model_name": "ProgressStyleModel",
            "description_width": "",
            "_view_module": "@jupyter-widgets/base",
            "_model_module_version": "1.5.0",
            "_view_count": null,
            "_view_module_version": "1.2.0",
            "bar_color": null,
            "_model_module": "@jupyter-widgets/controls"
          }
        },
        "28ff7a007ab745bba28c2aa8f37c20ca": {
          "model_module": "@jupyter-widgets/base",
          "model_name": "LayoutModel",
          "model_module_version": "1.2.0",
          "state": {
            "_view_name": "LayoutView",
            "grid_template_rows": null,
            "right": null,
            "justify_content": null,
            "_view_module": "@jupyter-widgets/base",
            "overflow": null,
            "_model_module_version": "1.2.0",
            "_view_count": null,
            "flex_flow": null,
            "width": null,
            "min_width": null,
            "border": null,
            "align_items": null,
            "bottom": null,
            "_model_module": "@jupyter-widgets/base",
            "top": null,
            "grid_column": null,
            "overflow_y": null,
            "overflow_x": null,
            "grid_auto_flow": null,
            "grid_area": null,
            "grid_template_columns": null,
            "flex": null,
            "_model_name": "LayoutModel",
            "justify_items": null,
            "grid_row": null,
            "max_height": null,
            "align_content": null,
            "visibility": null,
            "align_self": null,
            "height": null,
            "min_height": null,
            "padding": null,
            "grid_auto_rows": null,
            "grid_gap": null,
            "max_width": null,
            "order": null,
            "_view_module_version": "1.2.0",
            "grid_template_areas": null,
            "object_position": null,
            "object_fit": null,
            "grid_auto_columns": null,
            "margin": null,
            "display": null,
            "left": null
          }
        },
        "3653810f0187404496f0f9307fba6697": {
          "model_module": "@jupyter-widgets/controls",
          "model_name": "DescriptionStyleModel",
          "model_module_version": "1.5.0",
          "state": {
            "_view_name": "StyleView",
            "_model_name": "DescriptionStyleModel",
            "description_width": "",
            "_view_module": "@jupyter-widgets/base",
            "_model_module_version": "1.5.0",
            "_view_count": null,
            "_view_module_version": "1.2.0",
            "_model_module": "@jupyter-widgets/controls"
          }
        },
        "aa90a17ba18946cfb62e85f9989df6ed": {
          "model_module": "@jupyter-widgets/base",
          "model_name": "LayoutModel",
          "model_module_version": "1.2.0",
          "state": {
            "_view_name": "LayoutView",
            "grid_template_rows": null,
            "right": null,
            "justify_content": null,
            "_view_module": "@jupyter-widgets/base",
            "overflow": null,
            "_model_module_version": "1.2.0",
            "_view_count": null,
            "flex_flow": null,
            "width": null,
            "min_width": null,
            "border": null,
            "align_items": null,
            "bottom": null,
            "_model_module": "@jupyter-widgets/base",
            "top": null,
            "grid_column": null,
            "overflow_y": null,
            "overflow_x": null,
            "grid_auto_flow": null,
            "grid_area": null,
            "grid_template_columns": null,
            "flex": null,
            "_model_name": "LayoutModel",
            "justify_items": null,
            "grid_row": null,
            "max_height": null,
            "align_content": null,
            "visibility": null,
            "align_self": null,
            "height": null,
            "min_height": null,
            "padding": null,
            "grid_auto_rows": null,
            "grid_gap": null,
            "max_width": null,
            "order": null,
            "_view_module_version": "1.2.0",
            "grid_template_areas": null,
            "object_position": null,
            "object_fit": null,
            "grid_auto_columns": null,
            "margin": null,
            "display": null,
            "left": null
          }
        }
      }
    }
  },
  "nbformat_minor": 0,
  "nbformat": 4,
  "cells": [
    {
      "cell_type": "markdown",
      "metadata": {
        "id": "view-in-github",
        "colab_type": "text"
      },
      "source": [
        "<a href=\"https://colab.research.google.com/github/hoanglam372000/Applied-Data-Science-Group-7/blob/main/Report.ipynb\" target=\"_parent\"><img src=\"https://colab.research.google.com/assets/colab-badge.svg\" alt=\"Open In Colab\"/></a>"
      ]
    },
    {
      "cell_type": "markdown",
      "source": [
        "# Báo cáo đồ án môn \"Khoa học dữ liệu ứng dụng\"\n",
        "\n",
        "Nhóm 7:\n",
        "1. 18120429 – Phạm Trung Kiên - trungkien2000\n",
        "2. 18120431 – A Ly Ha Kim - kim-ali\n",
        "3. 18120434 – Thái Hoàng Lâm - hoanglam372000\n",
        "4. 18120462 – Nguyễn Thị Mận - ManCB26\n",
        "Link thùng chứa Github của nhóm: \\\n",
        "https://github.com/hoanglam372000/Applied-Data-Science-Group-7"
      ],
      "metadata": {
        "id": "F4PnOCchUmrY",
        "papermill": {
          "duration": 0.16658,
          "end_time": "2022-01-03T09:49:04.003353",
          "exception": false,
          "start_time": "2022-01-03T09:49:03.836773",
          "status": "completed"
        },
        "tags": []
      }
    },
    {
      "cell_type": "markdown",
      "source": [
        "# I. Mô tả bài toán: \n",
        "## 1. Mô tả:\n",
        "Link: https://www.kaggle.com/c/tweet-sentiment-extraction \\\n",
        "\n",
        "- Bài toán thuộc lĩnh vực NLP, cụ thể là bài toán phân tích cảm xúc (Sentiment Analysis)\n",
        "- Không giống như những bài toán phân tích cảm xúc khác chỉ dừng ở việc phân lớp, bài toán yêu cầu phải rút trích những từ ngữ trong câu đóng góp cho cảm xúc tương ứng. Vì vậy, đây là thách thức mới\n",
        "- Ví dụ: \"I am happy\": positive -> \"happy\" \\\n",
        "=> Input của bài toán: text và sentiment (positive,neutral, negative) tương ứng của text. Output là: các từ/ cụm từ/ câu đại diện sentiment cho text (như ví dụ bên trên: từ \"happy\" là từ đại diện cho sentiment \"positive\" cho câu)\n",
        "\n",
        "## 2. Hướng giải quyết của nhóm \n",
        "Ban đầu nhóm định theo hướng giải quyết của người đứng hạng 3 trên private leaderboard, đó là sử dụng RoBerta, code bằng Pytorch. Nhóm đã cố gắng tìm hiểu nhưng do phần code tác giả không giải thích gì thêm và phần kiến thức vượt quá tầm tay của các thành viên trong nhóm. Vì vậy, nhóm quyết định giải quyết theo hướng khác và cuối cùng có áp dụng RoBerta bằng Keras.\n",
        "\n",
        "- Đầu tiên, áp dụng phương pháp học thống kê, phân tích lỗi sai, rút ra một số luật bổ sung vào mô hình thống kê. \\\n",
        "- Thử áp dụng một số mô hình deep learning như: LSTM, LSTM + Attention. Tuy nhiên, các mô hình đều cho kết quả thấp dưới 0.6 \\\n",
        "- Tiếp tục, thử nghiệm với các mô hình \"state-of-the-art\": BERT (base), Roberta (base) \\\n",
        "- Sau cùng, do kết quả chưa được như mong đợi là 0.72 (top 20) nên nhóm cải thiện mô hình bằng cách tích hợp 2 mô hình Deep learning và thống kê, trong đó bao gồm: Bert + thống kê và RoBerta + thống kê. Kết quả sau cùng: Bert và thống kê đạt kết quả cao nhất trên tập test.\n",
        "\n",
        "\n",
        "\n",
        "\n"
      ],
      "metadata": {
        "id": "buOs0j5cul30",
        "papermill": {
          "duration": 0.143906,
          "end_time": "2022-01-03T09:49:04.295521",
          "exception": false,
          "start_time": "2022-01-03T09:49:04.151615",
          "status": "completed"
        },
        "tags": []
      }
    },
    {
      "cell_type": "code",
      "source": [
        ""
      ],
      "metadata": {
        "id": "0lEVJVe6jive",
        "papermill": {
          "duration": 0.145707,
          "end_time": "2022-01-03T09:49:04.872665",
          "exception": false,
          "start_time": "2022-01-03T09:49:04.726958",
          "status": "completed"
        },
        "tags": []
      },
      "execution_count": null,
      "outputs": []
    },
    {
      "cell_type": "markdown",
      "source": [
        "# II. Giải quyết bài toán và cài đặt:"
      ],
      "metadata": {
        "id": "k4Sq7RjgxK20",
        "papermill": {
          "duration": 0.143715,
          "end_time": "2022-01-03T09:49:05.159586",
          "exception": false,
          "start_time": "2022-01-03T09:49:05.015871",
          "status": "completed"
        },
        "tags": []
      }
    },
    {
      "cell_type": "markdown",
      "source": [
        "**Tóm tắt các bước chính:** \\\n",
        "\n",
        "- Tiền xử lý và khám phá dữ liệu\n",
        "- Mô hình hoá theo học thống kê\n",
        "- Mô hình hoá theo deep learning\n",
        "- Kết hợp 2 mô hình trên\n",
        "- Dự đoán rút trích trên tập test\n",
        "- Nộp bài "
      ],
      "metadata": {
        "id": "N_ulm98oBHzT",
        "papermill": {
          "duration": 0.147584,
          "end_time": "2022-01-03T09:49:05.452912",
          "exception": false,
          "start_time": "2022-01-03T09:49:05.305328",
          "status": "completed"
        },
        "tags": []
      }
    },
    {
      "cell_type": "markdown",
      "source": [
        "- Kết quả: 0.6249 trên train, 0.6137 trên val"
      ],
      "metadata": {
        "id": "ZsmZkW3GgA3l",
        "papermill": {
          "duration": 0.145444,
          "end_time": "2022-01-03T09:49:05.743594",
          "exception": false,
          "start_time": "2022-01-03T09:49:05.598150",
          "status": "completed"
        },
        "tags": []
      }
    },
    {
      "cell_type": "markdown",
      "source": [
        "\n",
        "##1)  Lấy dữ liệu, Khám phá và tiền xử lý:\n",
        "\n",
        "\n",
        "\n",
        "\n"
      ],
      "metadata": {
        "id": "lvBSxcg5B1Jv",
        "papermill": {
          "duration": 0.150478,
          "end_time": "2022-01-03T09:49:06.039175",
          "exception": false,
          "start_time": "2022-01-03T09:49:05.888697",
          "status": "completed"
        },
        "tags": []
      }
    },
    {
      "cell_type": "markdown",
      "source": [
        "### 1.1 Download dữ liệu và import thư viện cần thiết:"
      ],
      "metadata": {
        "id": "8Weea1SUCBmz",
        "papermill": {
          "duration": 0.147847,
          "end_time": "2022-01-03T09:49:06.334954",
          "exception": false,
          "start_time": "2022-01-03T09:49:06.187107",
          "status": "completed"
        },
        "tags": []
      }
    },
    {
      "cell_type": "code",
      "source": [
        "# Lấy tập dữ liệu mà Kaggle cung cấp thông qua github (nhóm đã upload datasets lên github)\n",
        "!git clone https://github.com/hoanglam372000/Applied-Data-Science-Group-7.git"
      ],
      "metadata": {
        "execution": {
          "iopub.execute_input": "2022-01-03T09:49:06.636195Z",
          "iopub.status.busy": "2022-01-03T09:49:06.633997Z",
          "iopub.status.idle": "2022-01-03T09:49:06.637670Z",
          "shell.execute_reply": "2022-01-03T09:49:06.638951Z"
        },
        "id": "b0c2dbd1",
        "outputId": "19bc20b2-ab47-4f58-9725-d1661bb47ba3",
        "papermill": {
          "duration": 0.153972,
          "end_time": "2022-01-03T09:49:06.639226",
          "exception": false,
          "start_time": "2022-01-03T09:49:06.485254",
          "status": "completed"
        },
        "tags": [],
        "colab": {
          "base_uri": "https://localhost:8080/"
        }
      },
      "execution_count": 1,
      "outputs": [
        {
          "output_type": "stream",
          "name": "stdout",
          "text": [
            "Cloning into 'Applied-Data-Science-Group-7'...\n",
            "remote: Enumerating objects: 188, done.\u001b[K\n",
            "remote: Counting objects: 100% (188/188), done.\u001b[K\n",
            "remote: Compressing objects: 100% (186/186), done.\u001b[K\n",
            "remote: Total 188 (delta 102), reused 0 (delta 0), pack-reused 0\u001b[K\n",
            "Receiving objects: 100% (188/188), 5.36 MiB | 4.61 MiB/s, done.\n",
            "Resolving deltas: 100% (102/102), done.\n"
          ]
        }
      ]
    },
    {
      "cell_type": "code",
      "source": [
        "# Cài đặt thư viện mà môi trường Google Colab không cài đặt sẵn\n",
        "!pip install emoji        #Xử lý các emoji\n",
        "!pip install transformers #Thư viện dùng cho các mô hình Deep learning: Bert, Roberta"
      ],
      "metadata": {
        "execution": {
          "iopub.execute_input": "2022-01-03T09:49:06.940901Z",
          "iopub.status.busy": "2022-01-03T09:49:06.939908Z",
          "iopub.status.idle": "2022-01-03T09:50:06.808876Z",
          "shell.execute_reply": "2022-01-03T09:50:06.808309Z",
          "shell.execute_reply.started": "2022-01-03T09:04:04.118403Z"
        },
        "id": "eff8fbcf",
        "outputId": "0716d8cd-01a3-4385-bf65-d890584a91c7",
        "papermill": {
          "duration": 60.023423,
          "end_time": "2022-01-03T09:50:06.809050",
          "exception": false,
          "start_time": "2022-01-03T09:49:06.785627",
          "status": "completed"
        },
        "tags": [],
        "colab": {
          "base_uri": "https://localhost:8080/"
        }
      },
      "execution_count": 2,
      "outputs": [
        {
          "output_type": "stream",
          "name": "stdout",
          "text": [
            "Collecting emoji\n",
            "  Downloading emoji-1.6.1.tar.gz (170 kB)\n",
            "\u001b[?25l\r\u001b[K     |██                              | 10 kB 23.3 MB/s eta 0:00:01\r\u001b[K     |███▉                            | 20 kB 28.4 MB/s eta 0:00:01\r\u001b[K     |█████▉                          | 30 kB 31.9 MB/s eta 0:00:01\r\u001b[K     |███████▊                        | 40 kB 34.2 MB/s eta 0:00:01\r\u001b[K     |█████████▋                      | 51 kB 5.9 MB/s eta 0:00:01\r\u001b[K     |███████████▋                    | 61 kB 6.9 MB/s eta 0:00:01\r\u001b[K     |█████████████▌                  | 71 kB 7.8 MB/s eta 0:00:01\r\u001b[K     |███████████████▍                | 81 kB 8.6 MB/s eta 0:00:01\r\u001b[K     |█████████████████▍              | 92 kB 4.9 MB/s eta 0:00:01\r\u001b[K     |███████████████████▎            | 102 kB 5.4 MB/s eta 0:00:01\r\u001b[K     |█████████████████████▏          | 112 kB 5.4 MB/s eta 0:00:01\r\u001b[K     |███████████████████████▏        | 122 kB 5.4 MB/s eta 0:00:01\r\u001b[K     |█████████████████████████       | 133 kB 5.4 MB/s eta 0:00:01\r\u001b[K     |███████████████████████████     | 143 kB 5.4 MB/s eta 0:00:01\r\u001b[K     |█████████████████████████████   | 153 kB 5.4 MB/s eta 0:00:01\r\u001b[K     |██████████████████████████████▉ | 163 kB 5.4 MB/s eta 0:00:01\r\u001b[K     |████████████████████████████████| 170 kB 5.4 MB/s \n",
            "\u001b[?25hBuilding wheels for collected packages: emoji\n",
            "  Building wheel for emoji (setup.py) ... \u001b[?25l\u001b[?25hdone\n",
            "  Created wheel for emoji: filename=emoji-1.6.1-py3-none-any.whl size=169314 sha256=d6c301b669084392df25160baf1c21de7d828fef860fdd8eacc9645e271f9052\n",
            "  Stored in directory: /root/.cache/pip/wheels/ea/5f/d3/03d313ddb3c2a1a427bb4690f1621eea60fe6f2a30cc95940f\n",
            "Successfully built emoji\n",
            "Installing collected packages: emoji\n",
            "Successfully installed emoji-1.6.1\n",
            "Collecting transformers\n",
            "  Downloading transformers-4.15.0-py3-none-any.whl (3.4 MB)\n",
            "\u001b[K     |████████████████████████████████| 3.4 MB 5.3 MB/s \n",
            "\u001b[?25hCollecting huggingface-hub<1.0,>=0.1.0\n",
            "  Downloading huggingface_hub-0.2.1-py3-none-any.whl (61 kB)\n",
            "\u001b[K     |████████████████████████████████| 61 kB 475 kB/s \n",
            "\u001b[?25hRequirement already satisfied: numpy>=1.17 in /usr/local/lib/python3.7/dist-packages (from transformers) (1.19.5)\n",
            "Collecting pyyaml>=5.1\n",
            "  Downloading PyYAML-6.0-cp37-cp37m-manylinux_2_5_x86_64.manylinux1_x86_64.manylinux_2_12_x86_64.manylinux2010_x86_64.whl (596 kB)\n",
            "\u001b[K     |████████████████████████████████| 596 kB 47.9 MB/s \n",
            "\u001b[?25hRequirement already satisfied: regex!=2019.12.17 in /usr/local/lib/python3.7/dist-packages (from transformers) (2019.12.20)\n",
            "Requirement already satisfied: importlib-metadata in /usr/local/lib/python3.7/dist-packages (from transformers) (4.8.2)\n",
            "Requirement already satisfied: requests in /usr/local/lib/python3.7/dist-packages (from transformers) (2.23.0)\n",
            "Requirement already satisfied: packaging>=20.0 in /usr/local/lib/python3.7/dist-packages (from transformers) (21.3)\n",
            "Requirement already satisfied: filelock in /usr/local/lib/python3.7/dist-packages (from transformers) (3.4.0)\n",
            "Requirement already satisfied: tqdm>=4.27 in /usr/local/lib/python3.7/dist-packages (from transformers) (4.62.3)\n",
            "Collecting tokenizers<0.11,>=0.10.1\n",
            "  Downloading tokenizers-0.10.3-cp37-cp37m-manylinux_2_5_x86_64.manylinux1_x86_64.manylinux_2_12_x86_64.manylinux2010_x86_64.whl (3.3 MB)\n",
            "\u001b[K     |████████████████████████████████| 3.3 MB 34.1 MB/s \n",
            "\u001b[?25hCollecting sacremoses\n",
            "  Downloading sacremoses-0.0.46-py3-none-any.whl (895 kB)\n",
            "\u001b[K     |████████████████████████████████| 895 kB 35.6 MB/s \n",
            "\u001b[?25hRequirement already satisfied: typing-extensions>=3.7.4.3 in /usr/local/lib/python3.7/dist-packages (from huggingface-hub<1.0,>=0.1.0->transformers) (3.10.0.2)\n",
            "Requirement already satisfied: pyparsing!=3.0.5,>=2.0.2 in /usr/local/lib/python3.7/dist-packages (from packaging>=20.0->transformers) (3.0.6)\n",
            "Requirement already satisfied: zipp>=0.5 in /usr/local/lib/python3.7/dist-packages (from importlib-metadata->transformers) (3.6.0)\n",
            "Requirement already satisfied: idna<3,>=2.5 in /usr/local/lib/python3.7/dist-packages (from requests->transformers) (2.10)\n",
            "Requirement already satisfied: certifi>=2017.4.17 in /usr/local/lib/python3.7/dist-packages (from requests->transformers) (2021.10.8)\n",
            "Requirement already satisfied: urllib3!=1.25.0,!=1.25.1,<1.26,>=1.21.1 in /usr/local/lib/python3.7/dist-packages (from requests->transformers) (1.24.3)\n",
            "Requirement already satisfied: chardet<4,>=3.0.2 in /usr/local/lib/python3.7/dist-packages (from requests->transformers) (3.0.4)\n",
            "Requirement already satisfied: click in /usr/local/lib/python3.7/dist-packages (from sacremoses->transformers) (7.1.2)\n",
            "Requirement already satisfied: six in /usr/local/lib/python3.7/dist-packages (from sacremoses->transformers) (1.15.0)\n",
            "Requirement already satisfied: joblib in /usr/local/lib/python3.7/dist-packages (from sacremoses->transformers) (1.1.0)\n",
            "Installing collected packages: pyyaml, tokenizers, sacremoses, huggingface-hub, transformers\n",
            "  Attempting uninstall: pyyaml\n",
            "    Found existing installation: PyYAML 3.13\n",
            "    Uninstalling PyYAML-3.13:\n",
            "      Successfully uninstalled PyYAML-3.13\n",
            "Successfully installed huggingface-hub-0.2.1 pyyaml-6.0 sacremoses-0.0.46 tokenizers-0.10.3 transformers-4.15.0\n"
          ]
        }
      ]
    },
    {
      "cell_type": "code",
      "source": [
        "# Import các thư viện cần thiết và download các tập dữ liệu bổ trợ cho thư viện NLTK\n",
        "import math\n",
        "import pandas as pd\n",
        "import nltk\n",
        "import numpy as np\n",
        "import emoji\n",
        "import re\n",
        "import string\n",
        "from nltk.stem import PorterStemmer\n",
        "from nltk.tokenize import TweetTokenizer\n",
        "from sklearn.model_selection import train_test_split\n",
        "from sklearn.preprocessing import OneHotEncoder, StandardScaler\n",
        "from sklearn.impute import SimpleImputer\n",
        "from sklearn.base import BaseEstimator, TransformerMixin\n",
        "from sklearn.pipeline import Pipeline, make_pipeline\n",
        "from sklearn.compose import ColumnTransformer, make_column_transformer\n",
        "from sklearn.feature_extraction.text import TfidfVectorizer\n",
        "from sklearn.svm import SVC\n",
        "from sklearn.ensemble import RandomForestClassifier\n",
        "import scipy.stats as st\n",
        "import matplotlib.pyplot as plt\n",
        "import nltk\n",
        "from nltk.corpus import wordnet\n",
        "from nltk.corpus import stopwords\n",
        "from tensorflow.keras.preprocessing.text import Tokenizer\n",
        "from tensorflow.keras.preprocessing.sequence import pad_sequences\n",
        "import tensorflow as tf\n",
        "from keras.layers import *\n",
        "from keras.models import Model\n",
        "from keras.callbacks import ModelCheckpoint\n",
        "pd.set_option('display.max_colwidth', 200)\n",
        "nltk.download('punkt')\n",
        "nltk.download('wordnet')\n",
        "nltk.download('averaged_perceptron_tagger')\n",
        "nltk.download('names')\n",
        "names = nltk.corpus.names.words('male.txt')+nltk.corpus.names.words('female.txt')\n",
        "names_lower = [name.lower() for name in names]"
      ],
      "metadata": {
        "execution": {
          "iopub.execute_input": "2022-01-03T09:50:07.121058Z",
          "iopub.status.busy": "2022-01-03T09:50:07.120166Z",
          "iopub.status.idle": "2022-01-03T09:51:34.787244Z",
          "shell.execute_reply": "2022-01-03T09:51:34.787733Z",
          "shell.execute_reply.started": "2022-01-03T09:05:00.144886Z"
        },
        "id": "9b92498d",
        "outputId": "03e02468-5f5c-4536-88bd-761cf5972eb0",
        "papermill": {
          "duration": 87.82886,
          "end_time": "2022-01-03T09:51:34.787920",
          "exception": false,
          "start_time": "2022-01-03T09:50:06.959060",
          "status": "completed"
        },
        "tags": [],
        "colab": {
          "base_uri": "https://localhost:8080/"
        }
      },
      "execution_count": 3,
      "outputs": [
        {
          "output_type": "stream",
          "name": "stdout",
          "text": [
            "[nltk_data] Downloading package punkt to /root/nltk_data...\n",
            "[nltk_data]   Unzipping tokenizers/punkt.zip.\n",
            "[nltk_data] Downloading package wordnet to /root/nltk_data...\n",
            "[nltk_data]   Unzipping corpora/wordnet.zip.\n",
            "[nltk_data] Downloading package averaged_perceptron_tagger to\n",
            "[nltk_data]     /root/nltk_data...\n",
            "[nltk_data]   Unzipping taggers/averaged_perceptron_tagger.zip.\n",
            "[nltk_data] Downloading package names to /root/nltk_data...\n",
            "[nltk_data]   Unzipping corpora/names.zip.\n"
          ]
        }
      ]
    },
    {
      "cell_type": "markdown",
      "source": [
        "### 1.2 Khám phá dữ liệu"
      ],
      "metadata": {
        "id": "qLIRG_m1CdvD",
        "papermill": {
          "duration": 0.144568,
          "end_time": "2022-01-03T09:51:35.664125",
          "exception": false,
          "start_time": "2022-01-03T09:51:35.519557",
          "status": "completed"
        },
        "tags": []
      }
    },
    {
      "cell_type": "code",
      "source": [
        "# Đọc dữ liệu:\n",
        "df = pd.read_csv('Applied-Data-Science-Group-7/train.csv')\n",
        "test_df = pd.read_csv('Applied-Data-Science-Group-7/test.csv')"
      ],
      "metadata": {
        "execution": {
          "iopub.execute_input": "2022-01-03T09:51:35.968344Z",
          "iopub.status.busy": "2022-01-03T09:51:35.967566Z",
          "iopub.status.idle": "2022-01-03T09:51:36.117657Z",
          "shell.execute_reply": "2022-01-03T09:51:36.117071Z",
          "shell.execute_reply.started": "2022-01-03T09:06:26.487356Z"
        },
        "id": "cae6a810",
        "papermill": {
          "duration": 0.306875,
          "end_time": "2022-01-03T09:51:36.117810",
          "exception": false,
          "start_time": "2022-01-03T09:51:35.810935",
          "status": "completed"
        },
        "tags": []
      },
      "execution_count": 4,
      "outputs": []
    },
    {
      "cell_type": "code",
      "source": [
        "df"
      ],
      "metadata": {
        "execution": {
          "iopub.execute_input": "2022-01-03T09:51:36.434381Z",
          "iopub.status.busy": "2022-01-03T09:51:36.433593Z",
          "iopub.status.idle": "2022-01-03T09:51:36.451235Z",
          "shell.execute_reply": "2022-01-03T09:51:36.450685Z",
          "shell.execute_reply.started": "2022-01-03T09:06:26.634987Z"
        },
        "id": "004d834b",
        "outputId": "7b225ac8-1cf1-4515-ffa1-7957459cd12f",
        "papermill": {
          "duration": 0.175995,
          "end_time": "2022-01-03T09:51:36.451384",
          "exception": false,
          "start_time": "2022-01-03T09:51:36.275389",
          "status": "completed"
        },
        "tags": [],
        "colab": {
          "base_uri": "https://localhost:8080/",
          "height": 502
        }
      },
      "execution_count": 5,
      "outputs": [
        {
          "output_type": "execute_result",
          "data": {
            "text/html": [
              "\n",
              "  <div id=\"df-9cf0042b-c653-495d-ab62-27044f4fa9e9\">\n",
              "    <div class=\"colab-df-container\">\n",
              "      <div>\n",
              "<style scoped>\n",
              "    .dataframe tbody tr th:only-of-type {\n",
              "        vertical-align: middle;\n",
              "    }\n",
              "\n",
              "    .dataframe tbody tr th {\n",
              "        vertical-align: top;\n",
              "    }\n",
              "\n",
              "    .dataframe thead th {\n",
              "        text-align: right;\n",
              "    }\n",
              "</style>\n",
              "<table border=\"1\" class=\"dataframe\">\n",
              "  <thead>\n",
              "    <tr style=\"text-align: right;\">\n",
              "      <th></th>\n",
              "      <th>textID</th>\n",
              "      <th>text</th>\n",
              "      <th>selected_text</th>\n",
              "      <th>sentiment</th>\n",
              "    </tr>\n",
              "  </thead>\n",
              "  <tbody>\n",
              "    <tr>\n",
              "      <th>0</th>\n",
              "      <td>cb774db0d1</td>\n",
              "      <td>I`d have responded, if I were going</td>\n",
              "      <td>I`d have responded, if I were going</td>\n",
              "      <td>neutral</td>\n",
              "    </tr>\n",
              "    <tr>\n",
              "      <th>1</th>\n",
              "      <td>549e992a42</td>\n",
              "      <td>Sooo SAD I will miss you here in San Diego!!!</td>\n",
              "      <td>Sooo SAD</td>\n",
              "      <td>negative</td>\n",
              "    </tr>\n",
              "    <tr>\n",
              "      <th>2</th>\n",
              "      <td>088c60f138</td>\n",
              "      <td>my boss is bullying me...</td>\n",
              "      <td>bullying me</td>\n",
              "      <td>negative</td>\n",
              "    </tr>\n",
              "    <tr>\n",
              "      <th>3</th>\n",
              "      <td>9642c003ef</td>\n",
              "      <td>what interview! leave me alone</td>\n",
              "      <td>leave me alone</td>\n",
              "      <td>negative</td>\n",
              "    </tr>\n",
              "    <tr>\n",
              "      <th>4</th>\n",
              "      <td>358bd9e861</td>\n",
              "      <td>Sons of ****, why couldn`t they put them on the releases we already bought</td>\n",
              "      <td>Sons of ****,</td>\n",
              "      <td>negative</td>\n",
              "    </tr>\n",
              "    <tr>\n",
              "      <th>...</th>\n",
              "      <td>...</td>\n",
              "      <td>...</td>\n",
              "      <td>...</td>\n",
              "      <td>...</td>\n",
              "    </tr>\n",
              "    <tr>\n",
              "      <th>27476</th>\n",
              "      <td>4eac33d1c0</td>\n",
              "      <td>wish we could come see u on Denver  husband lost his job and can`t afford it</td>\n",
              "      <td>d lost</td>\n",
              "      <td>negative</td>\n",
              "    </tr>\n",
              "    <tr>\n",
              "      <th>27477</th>\n",
              "      <td>4f4c4fc327</td>\n",
              "      <td>I`ve wondered about rake to.  The client has made it clear .NET only, don`t force devs to learn a new lang  #agile #ccnet</td>\n",
              "      <td>, don`t force</td>\n",
              "      <td>negative</td>\n",
              "    </tr>\n",
              "    <tr>\n",
              "      <th>27478</th>\n",
              "      <td>f67aae2310</td>\n",
              "      <td>Yay good for both of you. Enjoy the break - you probably need it after such hectic weekend  Take care hun xxxx</td>\n",
              "      <td>Yay good for both of you.</td>\n",
              "      <td>positive</td>\n",
              "    </tr>\n",
              "    <tr>\n",
              "      <th>27479</th>\n",
              "      <td>ed167662a5</td>\n",
              "      <td>But it was worth it  ****.</td>\n",
              "      <td>But it was worth it  ****.</td>\n",
              "      <td>positive</td>\n",
              "    </tr>\n",
              "    <tr>\n",
              "      <th>27480</th>\n",
              "      <td>6f7127d9d7</td>\n",
              "      <td>All this flirting going on - The ATG smiles. Yay.  ((hugs))</td>\n",
              "      <td>All this flirting going on - The ATG smiles. Yay.  ((hugs)</td>\n",
              "      <td>neutral</td>\n",
              "    </tr>\n",
              "  </tbody>\n",
              "</table>\n",
              "<p>27481 rows × 4 columns</p>\n",
              "</div>\n",
              "      <button class=\"colab-df-convert\" onclick=\"convertToInteractive('df-9cf0042b-c653-495d-ab62-27044f4fa9e9')\"\n",
              "              title=\"Convert this dataframe to an interactive table.\"\n",
              "              style=\"display:none;\">\n",
              "        \n",
              "  <svg xmlns=\"http://www.w3.org/2000/svg\" height=\"24px\"viewBox=\"0 0 24 24\"\n",
              "       width=\"24px\">\n",
              "    <path d=\"M0 0h24v24H0V0z\" fill=\"none\"/>\n",
              "    <path d=\"M18.56 5.44l.94 2.06.94-2.06 2.06-.94-2.06-.94-.94-2.06-.94 2.06-2.06.94zm-11 1L8.5 8.5l.94-2.06 2.06-.94-2.06-.94L8.5 2.5l-.94 2.06-2.06.94zm10 10l.94 2.06.94-2.06 2.06-.94-2.06-.94-.94-2.06-.94 2.06-2.06.94z\"/><path d=\"M17.41 7.96l-1.37-1.37c-.4-.4-.92-.59-1.43-.59-.52 0-1.04.2-1.43.59L10.3 9.45l-7.72 7.72c-.78.78-.78 2.05 0 2.83L4 21.41c.39.39.9.59 1.41.59.51 0 1.02-.2 1.41-.59l7.78-7.78 2.81-2.81c.8-.78.8-2.07 0-2.86zM5.41 20L4 18.59l7.72-7.72 1.47 1.35L5.41 20z\"/>\n",
              "  </svg>\n",
              "      </button>\n",
              "      \n",
              "  <style>\n",
              "    .colab-df-container {\n",
              "      display:flex;\n",
              "      flex-wrap:wrap;\n",
              "      gap: 12px;\n",
              "    }\n",
              "\n",
              "    .colab-df-convert {\n",
              "      background-color: #E8F0FE;\n",
              "      border: none;\n",
              "      border-radius: 50%;\n",
              "      cursor: pointer;\n",
              "      display: none;\n",
              "      fill: #1967D2;\n",
              "      height: 32px;\n",
              "      padding: 0 0 0 0;\n",
              "      width: 32px;\n",
              "    }\n",
              "\n",
              "    .colab-df-convert:hover {\n",
              "      background-color: #E2EBFA;\n",
              "      box-shadow: 0px 1px 2px rgba(60, 64, 67, 0.3), 0px 1px 3px 1px rgba(60, 64, 67, 0.15);\n",
              "      fill: #174EA6;\n",
              "    }\n",
              "\n",
              "    [theme=dark] .colab-df-convert {\n",
              "      background-color: #3B4455;\n",
              "      fill: #D2E3FC;\n",
              "    }\n",
              "\n",
              "    [theme=dark] .colab-df-convert:hover {\n",
              "      background-color: #434B5C;\n",
              "      box-shadow: 0px 1px 3px 1px rgba(0, 0, 0, 0.15);\n",
              "      filter: drop-shadow(0px 1px 2px rgba(0, 0, 0, 0.3));\n",
              "      fill: #FFFFFF;\n",
              "    }\n",
              "  </style>\n",
              "\n",
              "      <script>\n",
              "        const buttonEl =\n",
              "          document.querySelector('#df-9cf0042b-c653-495d-ab62-27044f4fa9e9 button.colab-df-convert');\n",
              "        buttonEl.style.display =\n",
              "          google.colab.kernel.accessAllowed ? 'block' : 'none';\n",
              "\n",
              "        async function convertToInteractive(key) {\n",
              "          const element = document.querySelector('#df-9cf0042b-c653-495d-ab62-27044f4fa9e9');\n",
              "          const dataTable =\n",
              "            await google.colab.kernel.invokeFunction('convertToInteractive',\n",
              "                                                     [key], {});\n",
              "          if (!dataTable) return;\n",
              "\n",
              "          const docLinkHtml = 'Like what you see? Visit the ' +\n",
              "            '<a target=\"_blank\" href=https://colab.research.google.com/notebooks/data_table.ipynb>data table notebook</a>'\n",
              "            + ' to learn more about interactive tables.';\n",
              "          element.innerHTML = '';\n",
              "          dataTable['output_type'] = 'display_data';\n",
              "          await google.colab.output.renderOutput(dataTable, element);\n",
              "          const docLink = document.createElement('div');\n",
              "          docLink.innerHTML = docLinkHtml;\n",
              "          element.appendChild(docLink);\n",
              "        }\n",
              "      </script>\n",
              "    </div>\n",
              "  </div>\n",
              "  "
            ],
            "text/plain": [
              "           textID  ... sentiment\n",
              "0      cb774db0d1  ...   neutral\n",
              "1      549e992a42  ...  negative\n",
              "2      088c60f138  ...  negative\n",
              "3      9642c003ef  ...  negative\n",
              "4      358bd9e861  ...  negative\n",
              "...           ...  ...       ...\n",
              "27476  4eac33d1c0  ...  negative\n",
              "27477  4f4c4fc327  ...  negative\n",
              "27478  f67aae2310  ...  positive\n",
              "27479  ed167662a5  ...  positive\n",
              "27480  6f7127d9d7  ...   neutral\n",
              "\n",
              "[27481 rows x 4 columns]"
            ]
          },
          "metadata": {},
          "execution_count": 5
        }
      ]
    },
    {
      "cell_type": "code",
      "source": [
        "# Thông tin tổng quan về tập train mà bài toán cung cấp:\n",
        "df.info()"
      ],
      "metadata": {
        "execution": {
          "iopub.execute_input": "2022-01-03T09:51:36.761641Z",
          "iopub.status.busy": "2022-01-03T09:51:36.760622Z",
          "iopub.status.idle": "2022-01-03T09:51:36.784359Z",
          "shell.execute_reply": "2022-01-03T09:51:36.783826Z",
          "shell.execute_reply.started": "2022-01-03T09:06:26.658685Z"
        },
        "id": "33751737",
        "outputId": "78cb546d-4de3-4354-b884-eeeadd6159da",
        "papermill": {
          "duration": 0.187458,
          "end_time": "2022-01-03T09:51:36.784509",
          "exception": false,
          "start_time": "2022-01-03T09:51:36.597051",
          "status": "completed"
        },
        "tags": [],
        "colab": {
          "base_uri": "https://localhost:8080/"
        }
      },
      "execution_count": 6,
      "outputs": [
        {
          "output_type": "stream",
          "name": "stdout",
          "text": [
            "<class 'pandas.core.frame.DataFrame'>\n",
            "RangeIndex: 27481 entries, 0 to 27480\n",
            "Data columns (total 4 columns):\n",
            " #   Column         Non-Null Count  Dtype \n",
            "---  ------         --------------  ----- \n",
            " 0   textID         27481 non-null  object\n",
            " 1   text           27480 non-null  object\n",
            " 2   selected_text  27480 non-null  object\n",
            " 3   sentiment      27481 non-null  object\n",
            "dtypes: object(4)\n",
            "memory usage: 858.9+ KB\n"
          ]
        }
      ]
    },
    {
      "cell_type": "markdown",
      "source": [
        "=> Cột text và selected_text tồn tại 1 giá trị NULL"
      ],
      "metadata": {
        "id": "EvcTVeeMAH88"
      }
    },
    {
      "cell_type": "code",
      "source": [
        "# Xoá NULL\n",
        "df.dropna(inplace = True)"
      ],
      "metadata": {
        "execution": {
          "iopub.execute_input": "2022-01-03T09:51:37.096862Z",
          "iopub.status.busy": "2022-01-03T09:51:37.096233Z",
          "iopub.status.idle": "2022-01-03T09:51:37.102703Z",
          "shell.execute_reply": "2022-01-03T09:51:37.102261Z",
          "shell.execute_reply.started": "2022-01-03T09:06:26.690379Z"
        },
        "id": "35c68f84",
        "papermill": {
          "duration": 0.172741,
          "end_time": "2022-01-03T09:51:37.102821",
          "exception": false,
          "start_time": "2022-01-03T09:51:36.930080",
          "status": "completed"
        },
        "tags": []
      },
      "execution_count": 7,
      "outputs": []
    },
    {
      "cell_type": "markdown",
      "source": [
        "### 1.3 Tách tập dữ liệu:"
      ],
      "metadata": {
        "id": "b6ca4fc3",
        "papermill": {
          "duration": 0.144527,
          "end_time": "2022-01-03T09:51:37.999917",
          "exception": false,
          "start_time": "2022-01-03T09:51:37.855390",
          "status": "completed"
        },
        "tags": []
      }
    },
    {
      "cell_type": "code",
      "source": [
        "# Tách tập huấn luyện và tập validation theo tỉ lệ 70%:30%\n",
        "X_df = df.drop(labels = 'selected_text',axis = 1)\n",
        "y_ex = df.selected_text\n",
        "y_class = df.sentiment\n",
        "train_X_df, val_X_df, train_y_ex, val_y_ex = train_test_split(X_df, y_ex, test_size=0.3, \n",
        "                                                              stratify=y_class, random_state=0)"
      ],
      "metadata": {
        "execution": {
          "iopub.execute_input": "2022-01-03T09:51:38.313761Z",
          "iopub.status.busy": "2022-01-03T09:51:38.312160Z",
          "iopub.status.idle": "2022-01-03T09:51:38.340363Z",
          "shell.execute_reply": "2022-01-03T09:51:38.339759Z",
          "shell.execute_reply.started": "2022-01-03T09:06:26.734078Z"
        },
        "id": "75d8621d",
        "papermill": {
          "duration": 0.198682,
          "end_time": "2022-01-03T09:51:38.340521",
          "exception": false,
          "start_time": "2022-01-03T09:51:38.141839",
          "status": "completed"
        },
        "tags": []
      },
      "execution_count": 8,
      "outputs": []
    },
    {
      "cell_type": "code",
      "source": [
        "print('train_X: ',train_X_df.shape)\n",
        "print('train_y: ',train_y_ex.shape)\n",
        "print('val_X: ',val_X_df.shape)\n",
        "print('val_y: ',val_y_ex.shape)\n"
      ],
      "metadata": {
        "execution": {
          "iopub.execute_input": "2022-01-03T09:51:38.637342Z",
          "iopub.status.busy": "2022-01-03T09:51:38.635089Z",
          "iopub.status.idle": "2022-01-03T09:51:38.640935Z",
          "shell.execute_reply": "2022-01-03T09:51:38.639946Z",
          "shell.execute_reply.started": "2022-01-03T09:06:26.785611Z"
        },
        "id": "e3af4df9",
        "outputId": "56dbdac3-0170-4cc5-93ef-e9bd1d1528a0",
        "papermill": {
          "duration": 0.157192,
          "end_time": "2022-01-03T09:51:38.641187",
          "exception": false,
          "start_time": "2022-01-03T09:51:38.483995",
          "status": "completed"
        },
        "tags": [],
        "colab": {
          "base_uri": "https://localhost:8080/"
        }
      },
      "execution_count": 9,
      "outputs": [
        {
          "output_type": "stream",
          "name": "stdout",
          "text": [
            "train_X:  (19236, 3)\n",
            "train_y:  (19236,)\n",
            "val_X:  (8244, 3)\n",
            "val_y:  (8244,)\n"
          ]
        }
      ]
    },
    {
      "cell_type": "markdown",
      "source": [
        "### 1.4 Khám phá và tiền xử lý tập train"
      ],
      "metadata": {
        "id": "b05a364e",
        "papermill": {
          "duration": 0.278734,
          "end_time": "2022-01-03T09:51:39.070844",
          "exception": false,
          "start_time": "2022-01-03T09:51:38.792110",
          "status": "completed"
        },
        "tags": []
      }
    },
    {
      "cell_type": "markdown",
      "source": [
        "#### 1.4.1 Khám phá tập train"
      ],
      "metadata": {
        "id": "awyk6UXcC5gA",
        "papermill": {
          "duration": 0.257642,
          "end_time": "2022-01-03T09:51:39.592655",
          "exception": false,
          "start_time": "2022-01-03T09:51:39.335013",
          "status": "completed"
        },
        "tags": []
      }
    },
    {
      "cell_type": "code",
      "source": [
        "#Phân bố của các lớp:\n",
        "train_X_df.sentiment.value_counts(normalize= True).plot(kind=\"pie\",labels = None, legend='auto', figsize=(8,6), autopct=\"%.1f%%\");"
      ],
      "metadata": {
        "execution": {
          "iopub.execute_input": "2022-01-03T09:51:40.103424Z",
          "iopub.status.busy": "2022-01-03T09:51:40.102424Z",
          "iopub.status.idle": "2022-01-03T09:51:40.384324Z",
          "shell.execute_reply": "2022-01-03T09:51:40.383713Z",
          "shell.execute_reply.started": "2022-01-03T09:06:26.796741Z"
        },
        "id": "b5c6f4b6",
        "outputId": "24f53961-8eba-4139-d5db-5b85d5565925",
        "papermill": {
          "duration": 0.538844,
          "end_time": "2022-01-03T09:51:40.384541",
          "exception": false,
          "start_time": "2022-01-03T09:51:39.845697",
          "status": "completed"
        },
        "tags": [],
        "colab": {
          "base_uri": "https://localhost:8080/",
          "height": 357
        }
      },
      "execution_count": 10,
      "outputs": [
        {
          "output_type": "display_data",
          "data": {
            "image/png": "[encoded data removed]",
            "text/plain": [
              "<Figure size 576x432 with 1 Axes>"
            ]
          },
          "metadata": {}
        }
      ]
    },
    {
      "cell_type": "code",
      "source": [
        "train_X_df.info()"
      ],
      "metadata": {
        "execution": {
          "iopub.execute_input": "2022-01-03T09:51:40.694934Z",
          "iopub.status.busy": "2022-01-03T09:51:40.693785Z",
          "iopub.status.idle": "2022-01-03T09:51:40.704101Z",
          "shell.execute_reply": "2022-01-03T09:51:40.705236Z",
          "shell.execute_reply.started": "2022-01-03T09:06:27.001625Z"
        },
        "id": "d8e5df71",
        "outputId": "8d020b1e-9c78-437d-878b-65a33cdc27d3",
        "papermill": {
          "duration": 0.171035,
          "end_time": "2022-01-03T09:51:40.705492",
          "exception": false,
          "start_time": "2022-01-03T09:51:40.534457",
          "status": "completed"
        },
        "tags": [],
        "colab": {
          "base_uri": "https://localhost:8080/"
        }
      },
      "execution_count": 11,
      "outputs": [
        {
          "output_type": "stream",
          "name": "stdout",
          "text": [
            "<class 'pandas.core.frame.DataFrame'>\n",
            "Int64Index: 19236 entries, 652 to 12238\n",
            "Data columns (total 3 columns):\n",
            " #   Column     Non-Null Count  Dtype \n",
            "---  ------     --------------  ----- \n",
            " 0   textID     19236 non-null  object\n",
            " 1   text       19236 non-null  object\n",
            " 2   sentiment  19236 non-null  object\n",
            "dtypes: object(3)\n",
            "memory usage: 601.1+ KB\n"
          ]
        }
      ]
    },
    {
      "cell_type": "code",
      "source": [
        "# Kiểm tra xem các dòng có trùng hay không?\n",
        "train_X_df.duplicated().sum()"
      ],
      "metadata": {
        "execution": {
          "iopub.execute_input": "2022-01-03T09:51:41.008770Z",
          "iopub.status.busy": "2022-01-03T09:51:41.007793Z",
          "iopub.status.idle": "2022-01-03T09:51:41.025156Z",
          "shell.execute_reply": "2022-01-03T09:51:41.024505Z",
          "shell.execute_reply.started": "2022-01-03T09:06:27.021804Z"
        },
        "id": "64ae1685",
        "outputId": "f5b2170f-7eb8-4fcf-e8fe-9d5d59e14a6d",
        "papermill": {
          "duration": 0.172681,
          "end_time": "2022-01-03T09:51:41.025316",
          "exception": false,
          "start_time": "2022-01-03T09:51:40.852635",
          "status": "completed"
        },
        "tags": [],
        "colab": {
          "base_uri": "https://localhost:8080/"
        }
      },
      "execution_count": 12,
      "outputs": [
        {
          "output_type": "execute_result",
          "data": {
            "text/plain": [
              "0"
            ]
          },
          "metadata": {},
          "execution_count": 12
        }
      ]
    },
    {
      "cell_type": "code",
      "source": [
        "# Kiểm tra cột output có null hay không?\n",
        "train_y_ex.isnull().sum()"
      ],
      "metadata": {
        "execution": {
          "iopub.execute_input": "2022-01-03T09:51:41.343139Z",
          "iopub.status.busy": "2022-01-03T09:51:41.342199Z",
          "iopub.status.idle": "2022-01-03T09:51:41.345653Z",
          "shell.execute_reply": "2022-01-03T09:51:41.346252Z",
          "shell.execute_reply.started": "2022-01-03T09:06:27.043116Z"
        },
        "id": "76b2e318",
        "outputId": "89235d11-1e74-4d93-cadf-0b2bc2a943be",
        "papermill": {
          "duration": 0.171869,
          "end_time": "2022-01-03T09:51:41.346390",
          "exception": false,
          "start_time": "2022-01-03T09:51:41.174521",
          "status": "completed"
        },
        "tags": [],
        "colab": {
          "base_uri": "https://localhost:8080/"
        }
      },
      "execution_count": 13,
      "outputs": [
        {
          "output_type": "execute_result",
          "data": {
            "text/plain": [
              "0"
            ]
          },
          "metadata": {},
          "execution_count": 13
        }
      ]
    },
    {
      "cell_type": "markdown",
      "source": [
        "#### 1.4.2 Tiền xử lý cột text"
      ],
      "metadata": {
        "id": "ee0725cc",
        "papermill": {
          "duration": 0.145481,
          "end_time": "2022-01-03T09:51:41.636998",
          "exception": false,
          "start_time": "2022-01-03T09:51:41.491517",
          "status": "completed"
        },
        "tags": []
      }
    },
    {
      "cell_type": "markdown",
      "source": [
        "**Các bước tiền xử lý chính:**\n",
        "\n",
        "\n",
        "1.   Xử lý vấn đề trùng lập các ký tự trong từ. Ví dụ: nooooo -> no (class RepeatReplacer):\n",
        "- Sử dụng Regular Expression để loại bỏ các ký tự thừa.\n",
        "- Tuy nhiên phải quét thêm qua wordnet để tránh trường hợp như từ **goose** bị chuyển thành gose (mặc dù **goose** là từ đúng)\n",
        "- Tham khảo code trong sách: NLTK for Python 3 [1]\n",
        "2.   Một số bước xử lý khác:\n",
        "- Tách từ theo khoảng trắng\n",
        "- Loại bỏ ký tự đặc biệt\n",
        "- Emoji -> từ\n",
        "- Chuyển số thành <NUMBER>,Link -> <URL>,*** -> <HIDDEN>,@ten -> <tag>,#ten -> <hash_tag>, ký tự đặc biệt khác -> <Special>\n",
        "- Steming (Dancing, dancer ->danc)\n",
        "- Lowercase\n",
        "- Mapping nhãn (positive: 1, neutral:0, negative: -1)\n",
        "\n",
        "\n"
      ],
      "metadata": {
        "id": "eHCrBuUUHRE6"
      }
    },
    {
      "cell_type": "code",
      "source": [
        "stemmer = PorterStemmer()\n",
        "class RepeatReplacer(object):\n",
        "    def __init__(self):\n",
        "        self.repeat_regexp = re.compile(r'(\\w*)(\\w)\\2(\\w*)')\n",
        "        self.repl = r'\\1\\2\\3'\n",
        "    def replace(self, word):\n",
        "        if wordnet.synsets(word):\n",
        "            return word\n",
        "        repl_word = self.repeat_regexp.sub(self.repl, word)\n",
        "        if repl_word != word:\n",
        "            return self.replace(repl_word)\n",
        "        else:\n",
        "            return repl_word\n",
        "char_repeat_correct = RepeatReplacer()\n",
        "\n",
        "def preprocessing_word(word,_stem =False):\n",
        "  '''\n",
        "      Hàm tiền xử lý từ\n",
        "      Input:\n",
        "       + word: 1 từ dạng str\n",
        "       + _stem: có sử dụng stem hay không, mặc định là không (dancing -> danc)\n",
        "       Output: từ đã được làm sạch\n",
        "  '''\n",
        "  if word != emoji.demojize(word):\n",
        "    return emoji.demojize(word)\n",
        "  \n",
        "  temp=[ \"html_tag\",'URL','HIDDEN','tag',\"hash_tag\"]\n",
        "  if word in temp:\n",
        "    return word\n",
        "  #số theo từ\n",
        "  if word.isdigit():  \n",
        "    return 'NUMBER'\n",
        "  try: \n",
        "    float(word)\n",
        "    return 'NUMBER'\n",
        "  except:\n",
        "    pass\n",
        "\n",
        "  word = re.sub(pattern=r'[\"!\\.#$%&\\'()*+-/:;<=>@\\?\\[\\]^_`{|}~0-9ï¿½]+', repl='', string=word)\n",
        "  word = char_repeat_correct.replace(word)\n",
        "  if _stem == True:\n",
        "    word = stemmer.stem(word)\n",
        "  word = word.lower()\n",
        "  \n",
        "  if word==''or word ==' ':\n",
        "    return \"Special\"\n",
        "  \n",
        "\n",
        "  return word.replace(' ','_')\n",
        "\n",
        "def preprocessing_text(tweet,sentiment,_stem = False):\n",
        "   ''''\n",
        "      Hàm tiền xử lý 1 tweet\n",
        "      Input:\n",
        "        tweet: str\n",
        "        sentiment: int \n",
        "        _stem: bool\n",
        "      Output: 1 tweet đã làm sạch (str)\n",
        "   '''\n",
        "   raw_text = str(tweet).strip().replace('\\n', ' ')#.lower()\n",
        "   # emoij\n",
        "   raw_text=emoji.demojize(raw_text)\n",
        "   e_r=r':\\w+_\\w+:'\n",
        "   emoij_list=re.findall(e_r,raw_text)\n",
        "   for e in emoij_list:\n",
        "     raw_text=raw_text.replace(e,' ' + emoji.emojize(e) + ' ') # \"hi❤️👍\"\n",
        "   if sentiment !=0: \n",
        "     raw_text = re.sub(pattern=r'(?<=\\w)(\\.){2,}?(?=\\w)', repl=' ', string=raw_text)\n",
        "   new_tweet = raw_text.split()\n",
        "   len_=len(new_tweet)\n",
        "   index2word = { w:new_tweet[w] for w in range(len_)}\n",
        "   raw_text = re.sub(pattern=r'https?://\\S+|www\\.\\S+', repl='URL', string=raw_text)\n",
        "   raw_text = re.sub(pattern='\\*{3,}?', repl='HIDDEN', string=raw_text)\n",
        "   raw_text = re.sub(pattern=r'@\\w+', repl='tag', string=raw_text)\n",
        "   raw_text = re.sub(pattern=r'#\\w+', repl='hash_tag', string=raw_text)\n",
        "   \n",
        "   word_list=raw_text.split()\n",
        "   return index2word,{  i:preprocessing_word(word,_stem) for i,word in enumerate(word_list)}"
      ],
      "metadata": {
        "execution": {
          "iopub.execute_input": "2022-01-03T09:51:42.564880Z",
          "iopub.status.busy": "2022-01-03T09:51:42.554957Z",
          "iopub.status.idle": "2022-01-03T09:51:42.568203Z",
          "shell.execute_reply": "2022-01-03T09:51:42.567673Z",
          "shell.execute_reply.started": "2022-01-03T09:06:27.055367Z"
        },
        "id": "2cceeb36",
        "papermill": {
          "duration": 0.173795,
          "end_time": "2022-01-03T09:51:42.568368",
          "exception": false,
          "start_time": "2022-01-03T09:51:42.394573",
          "status": "completed"
        },
        "tags": []
      },
      "execution_count": 15,
      "outputs": []
    },
    {
      "cell_type": "code",
      "source": [
        "# Test:\n",
        "tweet = ' My mom just texted.......me and told *ship* James that Rodney3 charlie wasï¿½ *** chasing?? and fireflies... in their :)) backyard. Awwwww I`m miss him!!! @hoanglam 123 ://    http://twitpic.com/66pn1'\n",
        "tweet2 = 'nooooooooo'\n",
        "index2word_temp,preprocessed_tweet_temp = preprocessing_text(tweet,1,_stem = False)\n",
        "print('index2word: ',index2word_temp)\n",
        "print('preprocessed_tweet: ',preprocessed_tweet_temp)"
      ],
      "metadata": {
        "execution": {
          "iopub.execute_input": "2022-01-03T09:51:42.895007Z",
          "iopub.status.busy": "2022-01-03T09:51:42.889809Z",
          "iopub.status.idle": "2022-01-03T09:51:45.413888Z",
          "shell.execute_reply": "2022-01-03T09:51:45.414955Z",
          "shell.execute_reply.started": "2022-01-03T09:06:27.075270Z"
        },
        "id": "cad376e3",
        "outputId": "87060328-519e-4573-c17b-ca74fcc3fde1",
        "papermill": {
          "duration": 2.692758,
          "end_time": "2022-01-03T09:51:45.415274",
          "exception": false,
          "start_time": "2022-01-03T09:51:42.722516",
          "status": "completed"
        },
        "tags": [],
        "colab": {
          "base_uri": "https://localhost:8080/"
        }
      },
      "execution_count": 16,
      "outputs": [
        {
          "output_type": "stream",
          "name": "stdout",
          "text": [
            "index2word:  {0: 'My', 1: 'mom', 2: 'just', 3: 'texted', 4: 'me', 5: 'and', 6: 'told', 7: '*ship*', 8: 'James', 9: 'that', 10: 'Rodney3', 11: 'charlie', 12: 'wasï¿½', 13: '***', 14: 'chasing??', 15: 'and', 16: 'fireflies...', 17: 'in', 18: 'their', 19: ':))', 20: 'backyard.', 21: 'Awwwww', 22: 'I`m', 23: 'miss', 24: 'him!!!', 25: '@hoanglam', 26: '123', 27: '://', 28: 'http://twitpic.com/66pn1'}\n",
            "preprocessed_tweet:  {0: 'my', 1: 'mom', 2: 'just', 3: 'texted', 4: 'me', 5: 'and', 6: 'told', 7: 'ship', 8: 'james', 9: 'that', 10: 'rodney', 11: 'charlie', 12: 'was', 13: 'HIDDEN', 14: 'chasing', 15: 'and', 16: 'fireflies', 17: 'in', 18: 'their', 19: 'Special', 20: 'backyard', 21: 'aw', 22: 'im', 23: 'miss', 24: 'him', 25: 'tag', 26: 'NUMBER', 27: 'Special', 28: 'URL'}\n"
          ]
        }
      ]
    },
    {
      "cell_type": "code",
      "source": [
        "# Tiền xử lý toàn bộ cột text:\n",
        "def preprocess_tweets(X_df,_stem = False):\n",
        "  '''\n",
        "  Tiền xử lý toàn bộ cột text trong tập dữ liệu\n",
        "  Input:\n",
        "    + X_df: DataFrame \n",
        "    +_stem: bool\n",
        "  Output: 2 DataFrame:\n",
        "   1 Df dạng các dòng là dictionary\n",
        "   1 Df dạng các dòng là 1 chuỗi\n",
        "  '''\n",
        "  X_df = X_df.copy()\n",
        "  raw_tweets = X_df.text.to_list()\n",
        "  X_df.sentiment = X_df.sentiment.map({'negative':-1,'neutral':0,'positive':1})\n",
        "  index2word_tweets = [] #list of dictionaries\n",
        "  preprocessed_tweets = [] #list of dictionaries\n",
        "  cleaned_texts = []\n",
        "  for tweet,senti in zip(raw_tweets,X_df.sentiment.to_list()):\n",
        "    index2word, preprocessed = preprocessing_text(tweet,senti,_stem)\n",
        "    index2word_tweets.append(index2word)\n",
        "    preprocessed_tweets.append(preprocessed)\n",
        "    cleaned_texts.append(' '.join(list(preprocessed.values())))\n",
        "  preprocessed_X_df = pd.DataFrame(data={'textID':X_df.textID,'index2word':index2word_tweets, 'preprocessed_texts':preprocessed_tweets,'sentiment':X_df.sentiment})\n",
        "  cleaned_int2text_df = pd.DataFrame(data={'textID':X_df.textID,'Raw_text':X_df.text, 'Cleaned_texts':cleaned_texts,'sentiment':X_df.sentiment})\n",
        "  return preprocessed_X_df,cleaned_int2text_df\n",
        "\n",
        "#Tiền xử lý cột output\n",
        "def _preprocessed_y_ex(X_df,y_ex,_stem = False):\n",
        "  preprocessed_y_ex = []\n",
        "  X_df = X_df.copy()\n",
        "  cleaned_texts = []\n",
        "  for tweet,senti in zip(y_ex.to_list(),X_df.sentiment.to_list()):\n",
        "      index2word, preprocessed_y = preprocessing_text(tweet,senti,_stem)\n",
        "      preprocessed_y_ex.append(preprocessed_y)\n",
        "      cleaned_texts.append(' '.join(list(preprocessed_y.values())))\n",
        "\n",
        "  X_df['sentiment'] = X_df.sentiment.map({'negative':-1,'neutral':0,'positive':1}).to_list()\n",
        "  return pd.DataFrame(data = {'preprocessed_texts': preprocessed_y_ex,'Cleaned_text': cleaned_texts,'sentiment':X_df.sentiment})\n",
        "\n"
      ],
      "metadata": {
        "execution": {
          "iopub.execute_input": "2022-01-03T09:51:46.022851Z",
          "iopub.status.busy": "2022-01-03T09:51:46.021762Z",
          "iopub.status.idle": "2022-01-03T09:51:46.024068Z",
          "shell.execute_reply": "2022-01-03T09:51:46.024726Z",
          "shell.execute_reply.started": "2022-01-03T09:06:29.177038Z"
        },
        "id": "49c6777d",
        "papermill": {
          "duration": 0.164532,
          "end_time": "2022-01-03T09:51:46.024895",
          "exception": false,
          "start_time": "2022-01-03T09:51:45.860363",
          "status": "completed"
        },
        "tags": []
      },
      "execution_count": 17,
      "outputs": []
    },
    {
      "cell_type": "code",
      "source": [
        "#Test:\n",
        "preprocessed_X_df_temp,cleaned_int2text_df_temp = preprocess_tweets(train_X_df.head(100))\n",
        "preprocessed_X_df_temp"
      ],
      "metadata": {
        "execution": {
          "iopub.execute_input": "2022-01-03T09:51:47.292880Z",
          "iopub.status.busy": "2022-01-03T09:51:47.291793Z",
          "iopub.status.idle": "2022-01-03T09:51:47.294273Z",
          "shell.execute_reply": "2022-01-03T09:51:47.294920Z",
          "shell.execute_reply.started": "2022-01-03T09:06:29.214285Z"
        },
        "id": "JQQ1nPTw_X_7",
        "papermill": {
          "duration": 0.159032,
          "end_time": "2022-01-03T09:51:47.295089",
          "exception": false,
          "start_time": "2022-01-03T09:51:47.136057",
          "status": "completed"
        },
        "tags": [],
        "colab": {
          "base_uri": "https://localhost:8080/",
          "height": 606
        },
        "outputId": "d15cb30b-347e-4480-a5d5-9e5dcb304534"
      },
      "execution_count": 18,
      "outputs": [
        {
          "output_type": "execute_result",
          "data": {
            "text/html": [
              "\n",
              "  <div id=\"df-0295cea7-127b-498e-a3a2-6b04ee2db638\">\n",
              "    <div class=\"colab-df-container\">\n",
              "      <div>\n",
              "<style scoped>\n",
              "    .dataframe tbody tr th:only-of-type {\n",
              "        vertical-align: middle;\n",
              "    }\n",
              "\n",
              "    .dataframe tbody tr th {\n",
              "        vertical-align: top;\n",
              "    }\n",
              "\n",
              "    .dataframe thead th {\n",
              "        text-align: right;\n",
              "    }\n",
              "</style>\n",
              "<table border=\"1\" class=\"dataframe\">\n",
              "  <thead>\n",
              "    <tr style=\"text-align: right;\">\n",
              "      <th></th>\n",
              "      <th>textID</th>\n",
              "      <th>index2word</th>\n",
              "      <th>preprocessed_texts</th>\n",
              "      <th>sentiment</th>\n",
              "    </tr>\n",
              "  </thead>\n",
              "  <tbody>\n",
              "    <tr>\n",
              "      <th>652</th>\n",
              "      <td>a834cef9c6</td>\n",
              "      <td>{0: '1st', 1: 'presentation', 2: 'for', 3: 'senior', 4: 'boards?', 5: 'FML'}</td>\n",
              "      <td>{0: 'st', 1: 'presentation', 2: 'for', 3: 'senior', 4: 'boards', 5: 'fml'}</td>\n",
              "      <td>-1</td>\n",
              "    </tr>\n",
              "    <tr>\n",
              "      <th>24883</th>\n",
              "      <td>5bfad683d5</td>\n",
              "      <td>{0: 'yummy', 1: 'curry', 2: 'save', 3: 'me', 4: 'some', 5: 'please', 6: 'lol'}</td>\n",
              "      <td>{0: 'yummy', 1: 'curry', 2: 'save', 3: 'me', 4: 'some', 5: 'please', 6: 'lol'}</td>\n",
              "      <td>1</td>\n",
              "    </tr>\n",
              "    <tr>\n",
              "      <th>15385</th>\n",
              "      <td>08a8d660b1</td>\n",
              "      <td>{0: 'I', 1: 'wish', 2: 'I', 3: 'knew', 4: 'someone', 5: 'down', 6: 'there', 7: 'who', 8: 'could', 9: 'hook', 10: 'us', 11: 'up.', 12: 'a', 13: 'friend', 14: 'told', 15: 'me', 16: 'once', 17: 'that...</td>\n",
              "      <td>{0: 'i', 1: 'wish', 2: 'i', 3: 'knew', 4: 'someone', 5: 'down', 6: 'there', 7: 'who', 8: 'could', 9: 'hook', 10: 'us', 11: 'up', 12: 'a', 13: 'friend', 14: 'told', 15: 'me', 16: 'once', 17: 'that'...</td>\n",
              "      <td>-1</td>\n",
              "    </tr>\n",
              "    <tr>\n",
              "      <th>16753</th>\n",
              "      <td>99a0ff3bef</td>\n",
              "      <td>{0: 'Lucky', 1: 'u', 2: 'Im', 3: 'stuck', 4: 'in', 5: 'the', 6: 'rain...'}</td>\n",
              "      <td>{0: 'lucky', 1: 'u', 2: 'im', 3: 'stuck', 4: 'in', 5: 'the', 6: 'rain'}</td>\n",
              "      <td>0</td>\n",
              "    </tr>\n",
              "    <tr>\n",
              "      <th>19</th>\n",
              "      <td>40e7becabf</td>\n",
              "      <td>{0: 'Hes', 1: 'just', 2: 'not', 3: 'that', 4: 'into', 5: 'you'}</td>\n",
              "      <td>{0: 'hes', 1: 'just', 2: 'not', 3: 'that', 4: 'into', 5: 'you'}</td>\n",
              "      <td>0</td>\n",
              "    </tr>\n",
              "    <tr>\n",
              "      <th>...</th>\n",
              "      <td>...</td>\n",
              "      <td>...</td>\n",
              "      <td>...</td>\n",
              "      <td>...</td>\n",
              "    </tr>\n",
              "    <tr>\n",
              "      <th>16799</th>\n",
              "      <td>82d211bdd5</td>\n",
              "      <td>{0: 'i', 1: 'think', 2: 'i', 3: 'hate', 4: 'you.', 5: 'i', 6: 'didnt', 7: 'really', 8: 'want', 9: 'to', 10: 'but', 11: 'you', 12: 'make', 13: 'it', 14: 'hard', 15: 'for', 16: 'me', 17: 'to', 18: '...</td>\n",
              "      <td>{0: 'i', 1: 'think', 2: 'i', 3: 'hate', 4: 'you', 5: 'i', 6: 'didnt', 7: 'really', 8: 'want', 9: 'to', 10: 'but', 11: 'you', 12: 'make', 13: 'it', 14: 'hard', 15: 'for', 16: 'me', 17: 'to', 18: 'l...</td>\n",
              "      <td>-1</td>\n",
              "    </tr>\n",
              "    <tr>\n",
              "      <th>6706</th>\n",
              "      <td>7a775cc933</td>\n",
              "      <td>{0: 'If', 1: 'I', 2: 'were', 3: 'a', 4: 'transformer...', 5: 'I`d', 6: 'step', 7: 'on', 8: 'people', 9: 'just', 10: 'to', 11: 'hear', 12: 'them', 13: '*squoosh*.', 14: 'But', 15: 'I`m', 16: 'not',...</td>\n",
              "      <td>{0: 'if', 1: 'i', 2: 'were', 3: 'a', 4: 'transformer', 5: 'id', 6: 'step', 7: 'on', 8: 'people', 9: 'just', 10: 'to', 11: 'hear', 12: 'them', 13: 'squosh', 14: 'but', 15: 'im', 16: 'not', 17: 'so'...</td>\n",
              "      <td>0</td>\n",
              "    </tr>\n",
              "    <tr>\n",
              "      <th>1967</th>\n",
              "      <td>127ac4d1d2</td>\n",
              "      <td>{0: 'ohay', 1: 'clean', 2: 'teeth'}</td>\n",
              "      <td>{0: 'ohay', 1: 'clean', 2: 'teeth'}</td>\n",
              "      <td>1</td>\n",
              "    </tr>\n",
              "    <tr>\n",
              "      <th>9181</th>\n",
              "      <td>4b8cb4449b</td>\n",
              "      <td>{0: 'Im', 1: 'fine', 2: 'also..up', 3: 'way', 4: 'to', 5: 'early..lol...soo', 6: 'those', 7: 'r', 8: 'all', 9: 'ur', 10: 'dogs?', 11: 'to', 12: 'kut3', 13: '..i', 14: 'def', 15: 'want', 16: 'a', 1...</td>\n",
              "      <td>{0: 'im', 1: 'fine', 2: 'alsoup', 3: 'way', 4: 'to', 5: 'earlylolso', 6: 'those', 7: 'r', 8: 'all', 9: 'ur', 10: 'dogs', 11: 'to', 12: 'kut', 13: 'i', 14: 'def', 15: 'want', 16: 'a', 17: 'pit', 18...</td>\n",
              "      <td>0</td>\n",
              "    </tr>\n",
              "    <tr>\n",
              "      <th>17204</th>\n",
              "      <td>c06c7c3adf</td>\n",
              "      <td>{0: 'How', 1: 'about', 2: 'give', 3: 'golf', 4: 'lessons??', 5: 'AND', 6: 'sing', 7: 'to', 8: 'your', 9: 'student', 10: 'taking', 11: 'lessons??', 12: '(JAKEOWEN2009', 13: 'live', 14: '&gt;', 15: 'ht...</td>\n",
              "      <td>{0: 'how', 1: 'about', 2: 'give', 3: 'golf', 4: 'lessons', 5: 'and', 6: 'sing', 7: 'to', 8: 'your', 9: 'student', 10: 'taking', 11: 'lessons', 12: 'jakeowen', 13: 'live', 14: 'Special', 15: 'URL'}</td>\n",
              "      <td>0</td>\n",
              "    </tr>\n",
              "  </tbody>\n",
              "</table>\n",
              "<p>100 rows × 4 columns</p>\n",
              "</div>\n",
              "      <button class=\"colab-df-convert\" onclick=\"convertToInteractive('df-0295cea7-127b-498e-a3a2-6b04ee2db638')\"\n",
              "              title=\"Convert this dataframe to an interactive table.\"\n",
              "              style=\"display:none;\">\n",
              "        \n",
              "  <svg xmlns=\"http://www.w3.org/2000/svg\" height=\"24px\"viewBox=\"0 0 24 24\"\n",
              "       width=\"24px\">\n",
              "    <path d=\"M0 0h24v24H0V0z\" fill=\"none\"/>\n",
              "    <path d=\"M18.56 5.44l.94 2.06.94-2.06 2.06-.94-2.06-.94-.94-2.06-.94 2.06-2.06.94zm-11 1L8.5 8.5l.94-2.06 2.06-.94-2.06-.94L8.5 2.5l-.94 2.06-2.06.94zm10 10l.94 2.06.94-2.06 2.06-.94-2.06-.94-.94-2.06-.94 2.06-2.06.94z\"/><path d=\"M17.41 7.96l-1.37-1.37c-.4-.4-.92-.59-1.43-.59-.52 0-1.04.2-1.43.59L10.3 9.45l-7.72 7.72c-.78.78-.78 2.05 0 2.83L4 21.41c.39.39.9.59 1.41.59.51 0 1.02-.2 1.41-.59l7.78-7.78 2.81-2.81c.8-.78.8-2.07 0-2.86zM5.41 20L4 18.59l7.72-7.72 1.47 1.35L5.41 20z\"/>\n",
              "  </svg>\n",
              "      </button>\n",
              "      \n",
              "  <style>\n",
              "    .colab-df-container {\n",
              "      display:flex;\n",
              "      flex-wrap:wrap;\n",
              "      gap: 12px;\n",
              "    }\n",
              "\n",
              "    .colab-df-convert {\n",
              "      background-color: #E8F0FE;\n",
              "      border: none;\n",
              "      border-radius: 50%;\n",
              "      cursor: pointer;\n",
              "      display: none;\n",
              "      fill: #1967D2;\n",
              "      height: 32px;\n",
              "      padding: 0 0 0 0;\n",
              "      width: 32px;\n",
              "    }\n",
              "\n",
              "    .colab-df-convert:hover {\n",
              "      background-color: #E2EBFA;\n",
              "      box-shadow: 0px 1px 2px rgba(60, 64, 67, 0.3), 0px 1px 3px 1px rgba(60, 64, 67, 0.15);\n",
              "      fill: #174EA6;\n",
              "    }\n",
              "\n",
              "    [theme=dark] .colab-df-convert {\n",
              "      background-color: #3B4455;\n",
              "      fill: #D2E3FC;\n",
              "    }\n",
              "\n",
              "    [theme=dark] .colab-df-convert:hover {\n",
              "      background-color: #434B5C;\n",
              "      box-shadow: 0px 1px 3px 1px rgba(0, 0, 0, 0.15);\n",
              "      filter: drop-shadow(0px 1px 2px rgba(0, 0, 0, 0.3));\n",
              "      fill: #FFFFFF;\n",
              "    }\n",
              "  </style>\n",
              "\n",
              "      <script>\n",
              "        const buttonEl =\n",
              "          document.querySelector('#df-0295cea7-127b-498e-a3a2-6b04ee2db638 button.colab-df-convert');\n",
              "        buttonEl.style.display =\n",
              "          google.colab.kernel.accessAllowed ? 'block' : 'none';\n",
              "\n",
              "        async function convertToInteractive(key) {\n",
              "          const element = document.querySelector('#df-0295cea7-127b-498e-a3a2-6b04ee2db638');\n",
              "          const dataTable =\n",
              "            await google.colab.kernel.invokeFunction('convertToInteractive',\n",
              "                                                     [key], {});\n",
              "          if (!dataTable) return;\n",
              "\n",
              "          const docLinkHtml = 'Like what you see? Visit the ' +\n",
              "            '<a target=\"_blank\" href=https://colab.research.google.com/notebooks/data_table.ipynb>data table notebook</a>'\n",
              "            + ' to learn more about interactive tables.';\n",
              "          element.innerHTML = '';\n",
              "          dataTable['output_type'] = 'display_data';\n",
              "          await google.colab.output.renderOutput(dataTable, element);\n",
              "          const docLink = document.createElement('div');\n",
              "          docLink.innerHTML = docLinkHtml;\n",
              "          element.appendChild(docLink);\n",
              "        }\n",
              "      </script>\n",
              "    </div>\n",
              "  </div>\n",
              "  "
            ],
            "text/plain": [
              "           textID  ... sentiment\n",
              "652    a834cef9c6  ...        -1\n",
              "24883  5bfad683d5  ...         1\n",
              "15385  08a8d660b1  ...        -1\n",
              "16753  99a0ff3bef  ...         0\n",
              "19     40e7becabf  ...         0\n",
              "...           ...  ...       ...\n",
              "16799  82d211bdd5  ...        -1\n",
              "6706   7a775cc933  ...         0\n",
              "1967   127ac4d1d2  ...         1\n",
              "9181   4b8cb4449b  ...         0\n",
              "17204  c06c7c3adf  ...         0\n",
              "\n",
              "[100 rows x 4 columns]"
            ]
          },
          "metadata": {},
          "execution_count": 18
        }
      ]
    },
    {
      "cell_type": "code",
      "source": [
        ""
      ],
      "metadata": {
        "id": "XROLAww9DetK",
        "papermill": {
          "duration": 0.144388,
          "end_time": "2022-01-03T09:51:47.584236",
          "exception": false,
          "start_time": "2022-01-03T09:51:47.439848",
          "status": "completed"
        },
        "tags": []
      },
      "execution_count": 18,
      "outputs": []
    },
    {
      "cell_type": "markdown",
      "source": [
        "## 2) Mô hình hoá dữ liệu:"
      ],
      "metadata": {
        "id": "YbNc5z3IDZt1",
        "papermill": {
          "duration": 0.149677,
          "end_time": "2022-01-03T09:51:47.887302",
          "exception": false,
          "start_time": "2022-01-03T09:51:47.737625",
          "status": "completed"
        },
        "tags": []
      }
    },
    {
      "cell_type": "markdown",
      "source": [
        "### 2.1 Học thống kê:"
      ],
      "metadata": {
        "id": "BfJzx-uyM4Aq"
      }
    },
    {
      "cell_type": "markdown",
      "source": [
        "**Các bước chính**\n",
        "- Tiền xử lý và khám phá dữ liệu\n",
        "- Xây dựng từ điển tần suất theo sentiment\n",
        "- Xây dựng Bag-of-word theo xác suất Naive-Bayes\n",
        "- Trích text bằng likelihood của bước trên và ước lượng ngưỡng\n",
        "- Ánh xạ text đã rút trích về nguyên mẫu của từng từ trong text (đề yêu cầu)\n",
        "- Đánh giá bằng độ đo Jaccard Similarity\n",
        "- Tunning trên tập val để tìm các siêu tham số tốt nhất"
      ],
      "metadata": {
        "id": "kDwmsSiANKN9"
      }
    },
    {
      "cell_type": "markdown",
      "source": [
        "#### 2.1.1 Tiền xử lý đầu vào cho mô hình:"
      ],
      "metadata": {
        "id": "2Mui8N94wDFm",
        "papermill": {
          "duration": 0.1533,
          "end_time": "2022-01-03T09:51:48.190190",
          "exception": false,
          "start_time": "2022-01-03T09:51:48.036890",
          "status": "completed"
        },
        "tags": []
      }
    },
    {
      "cell_type": "code",
      "source": [
        "# tiền xử lý cho mô hình \n",
        "preprocessed_train_X, cleaned_train_X = preprocess_tweets(train_X_df,_stem = True)\n",
        "preprocessed_train_y_ex = _preprocessed_y_ex(train_X_df,train_y_ex,_stem = True)\n",
        "preprocessed_val_X, cleaned_val_X = preprocess_tweets(val_X_df,_stem = True)\n",
        "preprocessed_val_y_ex = _preprocessed_y_ex(val_X_df,val_y_ex, _stem = True)"
      ],
      "metadata": {
        "execution": {
          "iopub.execute_input": "2022-01-03T09:51:48.751006Z",
          "iopub.status.busy": "2022-01-03T09:51:48.749847Z",
          "iopub.status.idle": "2022-01-03T09:52:54.922123Z",
          "shell.execute_reply": "2022-01-03T09:52:54.921536Z",
          "shell.execute_reply.started": "2022-01-03T09:06:29.223417Z"
        },
        "id": "g4uXbxBij9Je",
        "papermill": {
          "duration": 66.439895,
          "end_time": "2022-01-03T09:52:54.922325",
          "exception": false,
          "start_time": "2022-01-03T09:51:48.482430",
          "status": "completed"
        },
        "tags": []
      },
      "execution_count": 19,
      "outputs": []
    },
    {
      "cell_type": "markdown",
      "source": [
        "#### 2.1.2 Xây dựng mô hình:"
      ],
      "metadata": {
        "id": "7nfI3h5N5urf",
        "papermill": {
          "duration": 0.148431,
          "end_time": "2022-01-03T09:52:58.011591",
          "exception": false,
          "start_time": "2022-01-03T09:52:57.863160",
          "status": "completed"
        },
        "tags": []
      }
    },
    {
      "cell_type": "markdown",
      "source": [
        "Ý tưởng cho xử lý phủ định\n",
        "\n",
        "- Xét từ phía trước nằm trong tập negative forms bên trên, nếu từ tiếp theo mang nghĩa positive thì trích nguyên cụm: negative form + positive word -> negative phrase \\\\\n",
        "- Ví dụ: not + good -> not good -> negative\n",
        "\n",
        "\n"
      ],
      "metadata": {
        "id": "sQEkMeIAETLw",
        "papermill": {
          "duration": 0.144871,
          "end_time": "2022-01-03T09:53:00.443289",
          "exception": false,
          "start_time": "2022-01-03T09:53:00.298418",
          "status": "completed"
        },
        "tags": []
      }
    },
    {
      "cell_type": "code",
      "source": [
        "# Xử lý phủ định dựa trên kinh nghiệm:\n",
        "negative_form = ['not','dont','doesnt','arent','isnt','havent','hasnt','didnt','wasnt','werent','hadnt','wont','shant','cant',\\\n",
        "'couldnt','neitheir','nor','rarely','hardly','seldom','never','no']\n",
        "#negative_form"
      ],
      "metadata": {
        "execution": {
          "iopub.execute_input": "2022-01-03T09:53:00.142641Z",
          "iopub.status.busy": "2022-01-03T09:53:00.141774Z",
          "iopub.status.idle": "2022-01-03T09:53:00.145470Z",
          "shell.execute_reply": "2022-01-03T09:53:00.146271Z",
          "shell.execute_reply.started": "2022-01-03T09:07:32.255507Z"
        },
        "id": "9HyfLbZ5b0Am",
        "papermill": {
          "duration": 0.162523,
          "end_time": "2022-01-03T09:53:00.146448",
          "exception": false,
          "start_time": "2022-01-03T09:52:59.983925",
          "status": "completed"
        },
        "tags": []
      },
      "execution_count": 20,
      "outputs": []
    },
    {
      "cell_type": "code",
      "source": [
        "class sentiment_word_extraction(BaseEstimator, TransformerMixin):\n",
        "    def __init__(self, k = 5,z_neg=1.65,z_neu = 1.65,z_pos=1.65,w =1, vob_threshold = 2):\n",
        "          '''\n",
        "             Khởi tạo các siêu tham số:\n",
        "              k: hệ số làm mịn\n",
        "              z_neg, z_neu,z_pos: các siêu tham số tương ứng với các class: negative, neutral, positive.\n",
        "              Các tham số trên được rút ra từ kinh nghiệm trong quá trình chạy để rút trích sentiment word theo class được tốt nhất có thể.\n",
        "              w: trọng số rút trích, cũng được rút ra từ kinh nghiệm trong quá trình chạy\n",
        "              vob_threshold: ngưỡng tần suất tối thiểu xuất hiện của một từ vựng, từ nào dưới ngưỡng sẽ được biểu diễn bằng \"<OOV>\"\n",
        "            '''\n",
        "          self.k = k\n",
        "          self.z_neg = z_neg\n",
        "          self.z_neu = z_neu\n",
        "          self.z_pos = z_pos\n",
        "          self.vob_threshold = vob_threshold\n",
        "          self.w = w\n",
        "\n",
        "    def word2freqs(self,preprocessed_X):\n",
        "        '''\n",
        "             Hàm biểu diễn 1 từ theo số lần xuất hiện của nó trong toàn bộ tập dữ liệu\n",
        "             Input: \n",
        "                preprocessed_X: DataFrame\n",
        "              Output: vob2freq (dictionary)\n",
        "        '''\n",
        "        preprocessed_tweets = preprocessed_X.preprocessed_texts.to_list()\n",
        "        list_of_tweets = [list(text.values()) for text in preprocessed_tweets ]\n",
        "        vob2freq = {}\n",
        "        for tw in list_of_tweets:\n",
        "            for word in tw:\n",
        "              if vob2freq.get(word,0) !=0:\n",
        "                  vob2freq[word] +=1\n",
        "              else:\n",
        "                  vob2freq[word] = 1\n",
        "        return vob2freq\n",
        "    def count_tweets(self,preprocessed_X):\n",
        "        '''\n",
        "              Hàm biểu diễn tần suất của từ theo sentiment\n",
        "              Ví dụ: {('happi',1): 1000, ('happi',-1):1,('happi',0): 100}\n",
        "            Input:\n",
        "                preprocessed_X: Dataframe\n",
        "            Output:\n",
        "              freqs: dictionary\n",
        "        '''\n",
        "        preprocessed_X = preprocessed_X.copy()\n",
        "        y_s = preprocessed_X.sentiment.to_list()\n",
        "        preprocessed_tweets = preprocessed_X.preprocessed_texts.to_list()\n",
        "        processed_tweets = [list(text.values()) for text in preprocessed_tweets ]\n",
        "\n",
        "\n",
        "        vob2freqs = self.word2freqs(preprocessed_X)\n",
        "        freqs = {}\n",
        "\n",
        "        for y, tweet in zip(y_s, processed_tweets):\n",
        "            for word in tweet:\n",
        "                if vob2freqs[word] < self.vob_threshold and y==0:\n",
        "                    pair = ('<OOV>',y)\n",
        "                else:\n",
        "\n",
        "                    # define the key, which is the word and label tuple\n",
        "                    pair = (word,y)\n",
        "\n",
        "              # if the key exists in the dictionary, increment the count\n",
        "                if pair in freqs:\n",
        "                    freqs[pair] += 1\n",
        "\n",
        "              # else, if the key is new, add it to the dictionary and set the count to 1\n",
        "                else:\n",
        "                    freqs[pair] = 1\n",
        "\n",
        "        return freqs\n",
        "    \n",
        "    def bayes_likelihood(self,freqs,preprocessed_X,preprocessed_y_ex,score_sentiment = True):\n",
        "        '''\n",
        "          Hàm biểu diễn 1 từ theo dạng Bag-of-word\n",
        "          Mỗi từ sẽ được biểu diễn bởi 1 vector 3 phần tử: [negative_score,neutral_score,positive_score]\n",
        "            Input:\n",
        "                freqs: dictionary from (word, label) to how often the word appears\n",
        "                preprocessed_X: dataframe\n",
        "                preprocessed_y_ex: cột output gồm những từ được rút trích, dùng làm trọng số cho vector biểu diễn từ.\n",
        "                score_sentiment: bool, ý nghĩa: có dùng preprocessed_y_ex làm trọng số rút trích hay không\n",
        "            Output:\n",
        "                likelihood\n",
        "        '''\n",
        "        likelihood = {}\n",
        "        preprocessed_X = preprocessed_X.copy()\n",
        "        train_y = preprocessed_X.sentiment.to_list()\n",
        "        preprocessed_tweets = preprocessed_X.preprocessed_texts.to_list()\n",
        "        #train_x = [list(text.values()) for text in preprocessed_tweets ]\n",
        "    \n",
        "\n",
        "        # calculate V, the number of unique words in the vocabulary\n",
        "        vocab = set([pair[0] for pair in freqs.keys()])\n",
        "        vocabs_ = list(vocab)\n",
        "\n",
        "        V = len(vocab)\n",
        "\n",
        "        # calculate N_pos and N_neg\n",
        "        N_pos = N_neg = N_neu = 0\n",
        "        for pair in freqs.keys():\n",
        "            if pair[1] ==1:\n",
        "                  N_pos += freqs[pair]\n",
        "            elif pair[1] ==0:\n",
        "                  N_neu += freqs[pair]\n",
        "            else:\n",
        "                  N_neg += freqs[pair]\n",
        "\n",
        "          # Calculate D, the number of documents\n",
        "        D = len(train_y)\n",
        "\n",
        "        for word in vocab:\n",
        "          # get the positive and negative frequency of the word\n",
        "            freq_pos = freqs.get((word,1),0)\n",
        "            freq_neu = freqs.get((word,0),0)\n",
        "            freq_neg = freqs.get((word,-1),0)\n",
        "        \n",
        "\n",
        "          # calculate the probability that each word is positive, and negative , neutral\n",
        "            p_w_pos = (freq_pos + self.k) / (N_pos + self.k*V)\n",
        "            p_w_neu = (freq_neu + self.k) / (N_neu + self.k*V)\n",
        "            p_w_neg = (freq_neg + self.k) / (N_neg + self.k*V)\n",
        "\n",
        "          # calculate the likelihood of the word\n",
        "         \n",
        "            likelihood[word] = [p_w_neg,p_w_neu,p_w_pos]\n",
        "\n",
        "        def lexical_sentiment_score(preprocessed_y_ex,x_likelihood):\n",
        "            y_freqs = self.count_tweets(preprocessed_y_ex)\n",
        "            new_x_likelihood = {}\n",
        "            for w,l in x_likelihood.items():\n",
        "                new_x_likelihood[w] = l\n",
        "                if y_freqs.get((w,-1),0)!=0:\n",
        "                    #new_x_likelihood[w][0] = np.log((1/(-new_x_likelihood[w][0]- math.pow(10,-10))) * y_freqs[(w,-1)] )\n",
        "                    new_x_likelihood[w][0] = l[0]*(y_freqs[(w,-1)])*self.w\n",
        "                if y_freqs.get((w,0),0)!=0:\n",
        "                    #new_x_likelihood[w][0] = np.log((1/(-new_x_likelihood[w][1] - math.pow(10,-10)  ))* y_freqs[(w,0)]  )\n",
        "                    new_x_likelihood[w][1] = l[1]*(y_freqs[(w,0)])*self.w\n",
        "                if y_freqs.get((w,1),0)!=0:\n",
        "                    #new_x_likelihood[w][0] = np.log((1/(-new_x_likelihood[w][2]- math.pow(10,-10))) * y_freqs[(w,1)] )\n",
        "                    new_x_likelihood[w][2] = l[2]*(y_freqs[(w,1)])*self.w\n",
        "            return new_x_likelihood\n",
        "        if score_sentiment:\n",
        "           likelihood = lexical_sentiment_score(preprocessed_y_ex,likelihood)\n",
        "        return vocabs_, likelihood\n",
        "\n",
        "           \n",
        "    def sentiment_word_net(self,likelihood):\n",
        "          word2sentiment = {}\n",
        "          for w,score in likelihood.items():\n",
        "             max_prob = max(score)\n",
        "             word2sentiment[w] = score.index(max_prob) -1\n",
        "            #  if ((score[2]/ score[0]) > 1) and ((score[2]/score[0]) > (score[1]/score[2])):\n",
        "            #    word2sentiment[w] = 1\n",
        "            #  elif (score[0]/score[2]) >1 and ((score[0]/score[2]) > (score[1]/score[0])):\n",
        "            #    word2sentiment[w] = -1 \n",
        "          return word2sentiment\n",
        "\n",
        "    def Extract_Sentiment_Tweet(self,x_class,tweet):\n",
        "        '''input:\n",
        "                tweet: list of word'''\n",
        "        selected_tweet = {}\n",
        "        s = x_class +1\n",
        "        for i,word in tweet.items():    \n",
        "            if s==1:\n",
        "              #for word in tweet:\n",
        "                if self.likelihood.get(word,0) !=0:\n",
        "                    neg_prob,neu_prob,pos_prob = self.likelihood[word]\n",
        "                    threshold = 1+self.z_neu\n",
        "                    #if ((neg_prob/neu_prob) < 1 + self.z_neu) or ((pos_prob/neu_prob) < 1+ self.z_neu):\n",
        "                    selected_tweet[i] = word\n",
        "                else:\n",
        "                   selected_tweet[i] = word\n",
        "            elif s==2:\n",
        "    \n",
        "            #for word in tweet:\n",
        "                if self.likelihood.get(word,0) !=0 and len(word) >1:\n",
        "                  neg_prob,neu_prob,pos_prob = self.likelihood[word]\n",
        "                  max_prob = max(self.likelihood[word])\n",
        "                  if self.likelihood[word].index(max_prob) == s:\n",
        "                      if abs(max_prob -neu_prob) > self.z_pos:\n",
        "                    #if max_prob/neu_prob > self.z_pos:\n",
        "                          selected_tweet[i] = word\n",
        "            else:\n",
        "                  if self.likelihood.get(word,0) !=0 and len(word) >1:\n",
        "                    max_prob = max(self.likelihood[word])\n",
        "                    neg_prob,neu_prob,pos_prob = self.likelihood[word]\n",
        "                    if i != 0:\n",
        "                        if self.word2sentiment.get(tweet[i] ,-2)== 1 and tweet[i-1] in negative_form:\n",
        "                          selected_tweet[i-1] = tweet[i-1]\n",
        "                          selected_tweet[i] = tweet[i]\n",
        "\n",
        "                    if self.word2sentiment[word] == -1:\n",
        "                            if abs(max_prob -neu_prob) > self.z_neg:\n",
        "                              selected_tweet[i] = word\n",
        "\n",
        "                \n",
        "        return selected_tweet\n",
        "\n",
        "    \n",
        "    def Predict_Extract_text(self,Preprocessed_X):\n",
        "        selected = []\n",
        "        preprocessed_X = Preprocessed_X.copy()\n",
        "        y_s = preprocessed_X.sentiment.to_list()\n",
        "        preprocessed_tweets = preprocessed_X.preprocessed_texts.to_list()\n",
        "        #tweets = [list(text.values()) for text in preprocessed_tweets ]\n",
        "        for y, tweet in zip(y_s,preprocessed_tweets ):\n",
        "            #selected_predict = Extract_Sentiment_Tweet(y,tweet,likelihood)\n",
        "            selected_predict = self.Extract_Sentiment_Tweet(y,tweet)\n",
        "            selected.append(selected_predict)\n",
        "        return selected # dictionary\n",
        "\n",
        "    \n",
        "           \n",
        "    def Map_Extracted(self,Preprocessed_X,extracted_texts):\n",
        "        index2word = Preprocessed_X.index2word.to_list()\n",
        "        Selected_text = []\n",
        "        for ex_tweet,origin_text in zip(extracted_texts,index2word):\n",
        "            ex_text = []\n",
        "            for k in ex_tweet.keys():\n",
        "                \n",
        "                ex_text.append(origin_text[k])\n",
        "            Selected_text.append(' '.join(ex_text))\n",
        "        return Selected_text\n",
        "    \n",
        "    def Map_Extracted_DL(self,Preprocessed_X,extracted_texts):\n",
        "        index2word = Preprocessed_X.index2word.to_list()\n",
        "        preprocessed_texts = Preprocessed_X.preprocessed_texts.to_list()\n",
        "        Selected_text = []\n",
        "        for e,i,p in zip(extracted_texts,index2word,preprocessed_texts):\n",
        "            Text = {}\n",
        "            for j in p.items():\n",
        "              for w in e:\n",
        "                if w == j[1]:\n",
        "                  Text[j[0]] = i[j[0]]\n",
        "            temp_text = {v:i for i,v in Text.items()}\n",
        "            Selected_text.append(\" \".join(list(temp_text.keys())))         \n",
        "        return Selected_text\n",
        "    \n",
        "\n",
        "    def jaccard(self,str1, str2): \n",
        "        a = set(str1.lower().split()) \n",
        "        b = set(str2.lower().split())\n",
        "        c = a.intersection(b)\n",
        "        return float(len(c)) / (len(a) + len(b) - len(c))\n",
        "\n",
        "    def fit(self, preprocessed_X_df, preprocessed_y_ex):\n",
        "        self.freqs = self.count_tweets(preprocessed_X_df)\n",
        "        self.vocabs, self.likelihood = self.bayes_likelihood(self.freqs,preprocessed_X_df,preprocessed_y_ex)\n",
        "        self.word2sentiment = self.sentiment_word_net(self.likelihood)\n",
        "        return self\n",
        "\n",
        "    def transform(self, preprocessed_X_df):\n",
        "        self.extracted_text = self.Predict_Extract_text(preprocessed_X_df)\n",
        "        selected_text = self.Map_Extracted(preprocessed_X_df,self.extracted_text)\n",
        "        return selected_text\n",
        "\n",
        "    def score(self,selected_text,y_ex):\n",
        "        score = 0\n",
        "        y_true_s = y_ex.copy().to_list()\n",
        "        for y_pred, y_true in zip(selected_text,y_true_s):\n",
        "            score += self.jaccard(str(y_true),y_pred)\n",
        "        return score/len(y_true_s)"
      ],
      "metadata": {
        "execution": {
          "iopub.execute_input": "2022-01-03T09:53:01.413578Z",
          "iopub.status.busy": "2022-01-03T09:53:01.397349Z",
          "iopub.status.idle": "2022-01-03T09:53:01.450450Z",
          "shell.execute_reply": "2022-01-03T09:53:01.449914Z",
          "shell.execute_reply.started": "2022-01-03T09:07:32.284883Z"
        },
        "id": "cpTYLpZBJuUj",
        "papermill": {
          "duration": 0.214901,
          "end_time": "2022-01-03T09:53:01.450592",
          "exception": false,
          "start_time": "2022-01-03T09:53:01.235691",
          "status": "completed"
        },
        "tags": []
      },
      "execution_count": 21,
      "outputs": []
    },
    {
      "cell_type": "markdown",
      "source": [
        "#### 2.1.3 Training"
      ],
      "metadata": {
        "id": "hqomATfa9FWv",
        "papermill": {
          "duration": 0.149695,
          "end_time": "2022-01-03T09:53:02.054855",
          "exception": false,
          "start_time": "2022-01-03T09:53:01.905160",
          "status": "completed"
        },
        "tags": []
      }
    },
    {
      "cell_type": "code",
      "source": [
        "# Training\n",
        "tse_st = sentiment_word_extraction(z_pos= 0.00003,z_neu=4,z_neg = 0.00003,vob_threshold=2,k = 10)\n",
        "selected_train_X = tse_st.fit_transform(preprocessed_train_X,preprocessed_train_y_ex)\n",
        "#selected_train_X = tse_st.extract(preprocessed_train_X)\n",
        "tse_st.score(selected_train_X,train_y_ex)\n",
        "\n"
      ],
      "metadata": {
        "execution": {
          "iopub.execute_input": "2022-01-03T09:53:02.358710Z",
          "iopub.status.busy": "2022-01-03T09:53:02.357650Z",
          "iopub.status.idle": "2022-01-03T09:53:03.908084Z",
          "shell.execute_reply": "2022-01-03T09:53:03.908703Z",
          "shell.execute_reply.started": "2022-01-03T09:07:32.352369Z"
        },
        "id": "MUSFMkrxizuV",
        "outputId": "868ac196-6827-4681-dd39-5c217d5663f2",
        "papermill": {
          "duration": 1.706341,
          "end_time": "2022-01-03T09:53:03.908903",
          "exception": false,
          "start_time": "2022-01-03T09:53:02.202562",
          "status": "completed"
        },
        "tags": [],
        "colab": {
          "base_uri": "https://localhost:8080/"
        }
      },
      "execution_count": 22,
      "outputs": [
        {
          "output_type": "execute_result",
          "data": {
            "text/plain": [
              "0.6269111576643561"
            ]
          },
          "metadata": {},
          "execution_count": 22
        }
      ]
    },
    {
      "cell_type": "markdown",
      "source": [
        "#### 2.1.4 Validation"
      ],
      "metadata": {
        "id": "z8By9glY82lX",
        "papermill": {
          "duration": 0.155851,
          "end_time": "2022-01-03T09:53:06.393898",
          "exception": false,
          "start_time": "2022-01-03T09:53:06.238047",
          "status": "completed"
        },
        "tags": []
      }
    },
    {
      "cell_type": "code",
      "source": [
        "# Test on val\n",
        "selected_val_X = tse_st.transform(preprocessed_val_X)\n",
        "tse_st.score(selected_val_X,val_y_ex)"
      ],
      "metadata": {
        "execution": {
          "iopub.execute_input": "2022-01-03T09:53:06.696431Z",
          "iopub.status.busy": "2022-01-03T09:53:06.695420Z",
          "iopub.status.idle": "2022-01-03T09:53:06.963648Z",
          "shell.execute_reply": "2022-01-03T09:53:06.964140Z",
          "shell.execute_reply.started": "2022-01-03T09:07:33.805251Z"
        },
        "id": "TKciMayZnRKD",
        "outputId": "8c0e46b2-9822-4a4f-f789-05685f902e0f",
        "papermill": {
          "duration": 0.423655,
          "end_time": "2022-01-03T09:53:06.964317",
          "exception": false,
          "start_time": "2022-01-03T09:53:06.540662",
          "status": "completed"
        },
        "tags": [],
        "colab": {
          "base_uri": "https://localhost:8080/"
        }
      },
      "execution_count": 23,
      "outputs": [
        {
          "output_type": "execute_result",
          "data": {
            "text/plain": [
              "0.6180272027588651"
            ]
          },
          "metadata": {},
          "execution_count": 23
        }
      ]
    },
    {
      "cell_type": "markdown",
      "source": [
        "#### 2.1.5 Tunning"
      ],
      "metadata": {
        "id": "xCCzLRAhtn8y",
        "papermill": {
          "duration": 0.144973,
          "end_time": "2022-01-03T09:53:08.192749",
          "exception": false,
          "start_time": "2022-01-03T09:53:08.047776",
          "status": "completed"
        },
        "tags": []
      }
    },
    {
      "cell_type": "code",
      "source": [
        "# Tunning\n",
        "vob_thresholds = [2,3,4,5,6]\n",
        "k_s = [1,2,5,7,10,12,15]\n",
        "Val_score = {}\n",
        "Train_score = {}\n",
        "\n",
        "for k in k_s:\n",
        "\n",
        "    for thres in vob_thresholds:\n",
        "      model = sentiment_word_extraction(k=k,vob_threshold = thres,z_pos = 0.00003,z_neg = 0.00003, z_neu=4 )\n",
        "      selected_train_text= model.fit_transform(preprocessed_train_X,preprocessed_train_y_ex)\n",
        "      score_train = model.score(selected_train_text,train_y_ex)\n",
        "      Train_score[score_train] = (k,thres)\n",
        "      selected_val_X = model.transform(preprocessed_val_X)\n",
        "      score_val = model.score(selected_val_X,val_y_ex)\n",
        "      Val_score[score_val] = (k,thres)\n",
        "\n",
        "best_train_score = max(list(Train_score.keys()))\n",
        "best_val_score = max(list(Val_score.keys()))\n",
        "best_k,best_vob_thres = Val_score[best_val_score]\n",
        "print('best_train_score: ',best_train_score)\n",
        "print('best_val_score: ',best_val_score)\n",
        "print(f'best_k: {best_k} \\n best_vob_thres: {best_vob_thres }')\n"
      ],
      "metadata": {
        "execution": {
          "iopub.execute_input": "2022-01-03T09:53:08.494001Z",
          "iopub.status.busy": "2022-01-03T09:53:08.490986Z",
          "iopub.status.idle": "2022-01-03T09:53:08.497458Z",
          "shell.execute_reply": "2022-01-03T09:53:08.496810Z",
          "shell.execute_reply.started": "2022-01-03T09:07:34.092157Z"
        },
        "id": "z5KtP1666NXW",
        "papermill": {
          "duration": 0.156463,
          "end_time": "2022-01-03T09:53:08.497591",
          "exception": false,
          "start_time": "2022-01-03T09:53:08.341128",
          "status": "completed"
        },
        "tags": [],
        "colab": {
          "base_uri": "https://localhost:8080/"
        },
        "outputId": "400d66fc-8ca2-48dc-d1ee-9140228949d9"
      },
      "execution_count": 24,
      "outputs": [
        {
          "output_type": "stream",
          "name": "stdout",
          "text": [
            "best_train_score:  0.6287401963159893\n",
            "best_val_score:  0.6185919923684143\n",
            "best_k: 10 \n",
            " best_vob_thres: 6\n"
          ]
        }
      ]
    },
    {
      "cell_type": "markdown",
      "source": [
        "=> Các siêu tham số tốt nhất cho mô hình thống kê:\n",
        "- k =10\n",
        "- vob_threshold = 6"
      ],
      "metadata": {
        "id": "UXaaXhV6UOfp"
      }
    },
    {
      "cell_type": "markdown",
      "source": [
        "### 2.2 Deep learning (BERT + RoBerta)"
      ],
      "metadata": {
        "id": "3C2rmJblwyM4",
        "papermill": {
          "duration": 0.152454,
          "end_time": "2022-01-03T09:53:09.113827",
          "exception": false,
          "start_time": "2022-01-03T09:53:08.961373",
          "status": "completed"
        },
        "tags": []
      }
    },
    {
      "cell_type": "markdown",
      "source": [
        "#### 2.2.1 Tóm tắt kết quả một số mô hình Deep learning:"
      ],
      "metadata": {
        "id": "A73eaoisZM_j",
        "papermill": {
          "duration": 0.151097,
          "end_time": "2022-01-03T09:53:09.415154",
          "exception": false,
          "start_time": "2022-01-03T09:53:09.264057",
          "status": "completed"
        },
        "tags": []
      }
    },
    {
      "cell_type": "markdown",
      "source": [
        "Dùng LSTM:\n",
        "+ Train: 0.548\n",
        "+ Val: 0.489 \\\n",
        "\n",
        "Dùng LSTM + Attention: \\\n",
        "+ Train: 0.5868\n",
        "+ Val: 0.555 \\\n",
        "\n",
        "Dùng BERT:\n",
        "+ Train: 0.664\n",
        "+ Val: 0.596 \\\n",
        "\n",
        "=> Cách tiếp cận mới của nhóm: dùng tích hợp mô hình học thống kê và BERT \\\n",
        "+ Train: 0.667\n",
        "+ Val: 0.651\n",
        "=> Vì vẫn chưa cao bằng tác giả (top 3) => giải pháp cuối cùng là dùng RoBERTa (sẽ fine-tune các thứ -> khá tốn thời gian)\n",
        "\n"
      ],
      "metadata": {
        "id": "Z_d6rop8h2Nt",
        "papermill": {
          "duration": 0.151225,
          "end_time": "2022-01-03T09:53:09.712938",
          "exception": false,
          "start_time": "2022-01-03T09:53:09.561713",
          "status": "completed"
        },
        "tags": []
      }
    },
    {
      "cell_type": "markdown",
      "source": [
        "#### 2.2.2 BERT + RoBerta\n",
        "\n",
        "(Trong đó sử dụng BERT là chủ yếu, Roberta để ở dạng comment)"
      ],
      "metadata": {
        "id": "Fa30jDioVAdm"
      }
    },
    {
      "cell_type": "markdown",
      "source": [
        "##### 2.2.2.1 Tiền xử lý đầu vào:"
      ],
      "metadata": {
        "id": "Bxu49oDPVQH_"
      }
    },
    {
      "cell_type": "code",
      "source": [
        "# Tiền xử lý dữ liệu cho mô hình deep learning\n",
        "preprocessed_train_X_dl, cleaned_train_X_dl = preprocess_tweets(train_X_df,_stem = False)\n",
        "preprocessed_train_y_ex_dl = _preprocessed_y_ex(train_X_df,train_y_ex,_stem = False)\n",
        "preprocessed_val_X_dl, cleaned_val_X_dl = preprocess_tweets(val_X_df,_stem = False)\n",
        "preprocessed_val_y_ex_dl = _preprocessed_y_ex(val_X_df,val_y_ex,_stem = False)"
      ],
      "metadata": {
        "execution": {
          "iopub.execute_input": "2022-01-03T09:53:10.021948Z",
          "iopub.status.busy": "2022-01-03T09:53:10.020666Z",
          "iopub.status.idle": "2022-01-03T09:53:57.079671Z",
          "shell.execute_reply": "2022-01-03T09:53:57.078853Z",
          "shell.execute_reply.started": "2022-01-03T09:07:34.113752Z"
        },
        "id": "jxG0VWLYnpMh",
        "papermill": {
          "duration": 47.216655,
          "end_time": "2022-01-03T09:53:57.079824",
          "exception": false,
          "start_time": "2022-01-03T09:53:09.863169",
          "status": "completed"
        },
        "tags": []
      },
      "execution_count": 25,
      "outputs": []
    },
    {
      "cell_type": "code",
      "source": [
        "\n",
        "import torch\n",
        "device = torch.device('cuda' if torch.cuda.is_available() else 'cpu')\n",
        "from transformers import BertTokenizer, BertModel\n",
        "from transformers import AutoTokenizer\n",
        "from keras.models import Model\n",
        "from keras.callbacks import ModelCheckpoint\n",
        "#tokenizer = BertTokenizer.from_pretrained('../input/pretrained-bert-including-scripts/uncased_L-12_H-768_A-12/uncased_L-12_H-768_A-12/vocab.txt')\n",
        "tokenizer = BertTokenizer.from_pretrained('bert-base-uncased')\n"
      ],
      "metadata": {
        "execution": {
          "iopub.execute_input": "2022-01-03T09:53:58.313326Z",
          "iopub.status.busy": "2022-01-03T09:53:58.312621Z",
          "iopub.status.idle": "2022-01-03T09:54:00.628756Z",
          "shell.execute_reply": "2022-01-03T09:54:00.629723Z",
          "shell.execute_reply.started": "2022-01-03T09:08:20.650979Z"
        },
        "id": "CuD4QKjCefZP",
        "outputId": "0abd69a5-d075-48ae-d9dd-1e8f1be984df",
        "papermill": {
          "duration": 2.482478,
          "end_time": "2022-01-03T09:54:00.629972",
          "exception": false,
          "start_time": "2022-01-03T09:53:58.147494",
          "status": "completed"
        },
        "tags": [],
        "colab": {
          "base_uri": "https://localhost:8080/",
          "height": 145,
          "referenced_widgets": [
            "b6affcc4603a4052aa2df8252e84025c",
            "175197a9cf0748aab901275a3f86caaf",
            "e421ccd827e74f3d8617a1b3b4a589ee",
            "9520989980704ee7b715db7e27b034d6",
            "c872e2ff3317459c9eb65a6f6290e794",
            "6839bfa4ad764590b79545328866d2b4",
            "4d4991eba4b94d829f6a6b66ca658724",
            "76dfc746811c46068f63d5121b5e12ed",
            "3808d02e31cc4f5abad08932ea7ec991",
            "60f83d61ca0b4efeaaaae288732bb28e",
            "f95eb890c0dc49d4bd7146dbcbca2290",
            "19b3faf67105413e853bbbcd4d64ef57",
            "f0b0d362b4554bd89d64fda409126c45",
            "fab1152ef14e4f07b7029857dad2ec6b",
            "dc65cdd39ded47b58abaad923fc614ed",
            "fab3fbd0c0d94896b009bb20333fe451",
            "4e0af87fab3948e994c3a26dbfd0597a",
            "578e91f281b3431a9f6b5da298171bec",
            "f5e1fc9c4db14108b78bf1b58c85efb1",
            "dc1926610952469a935c3872bc452c3c",
            "e18a476765d745d39d9bab128e2753b1",
            "a80ea467132344f0847bea8cb50db748",
            "a0919d220af24acaa650c14aeee7e9cc",
            "49b35f39f0ae4dc9a6b5ffe9a720f957",
            "560551be70254a6dac6359aca969bb4b",
            "7e75a548a4f343b19eef12081e1ef9ea",
            "f1739a7d1847439f85ba21ab8f5ef679",
            "2b3ade4e9c3e47408c1b13de24430992",
            "0806164684fb46b2ae1528ace0db8bec",
            "e4f24ec3a78e44368d2d8b5fae470570",
            "d3988be6593f4ccea19de9a93638d592",
            "272d4dc9123348beaa085ced9ba99640",
            "59a716fac16746b5aa511d294c93a51a",
            "76be231ba414443eba9a60ce815ad791",
            "75353d334b794cd48d491b232c47367d",
            "cc1ede90c219475fa03ba632d96b694c",
            "4f45a62cfd5a49008560c988d5930d99",
            "62368863ee894431b45c693e4670a5de",
            "03a2cdd4079d43b1829938525785e092",
            "b74f26e089e84ded9fadb83bf307366a",
            "b7b27a23480f4bc5ba4cd2d8993571a0",
            "655c1a6fb4b24861a7f5dcc6dde63d2d",
            "f40c72315a82411cbe325583029ca5d3",
            "a9fd0dc388b640269b14f7314ea01a26"
          ]
        }
      },
      "execution_count": 26,
      "outputs": [
        {
          "output_type": "display_data",
          "data": {
            "application/vnd.jupyter.widget-view+json": {
              "model_id": "b6affcc4603a4052aa2df8252e84025c",
              "version_minor": 0,
              "version_major": 2
            },
            "text/plain": [
              "Downloading:   0%|          | 0.00/226k [00:00<?, ?B/s]"
            ]
          },
          "metadata": {}
        },
        {
          "output_type": "display_data",
          "data": {
            "application/vnd.jupyter.widget-view+json": {
              "model_id": "19b3faf67105413e853bbbcd4d64ef57",
              "version_minor": 0,
              "version_major": 2
            },
            "text/plain": [
              "Downloading:   0%|          | 0.00/28.0 [00:00<?, ?B/s]"
            ]
          },
          "metadata": {}
        },
        {
          "output_type": "display_data",
          "data": {
            "application/vnd.jupyter.widget-view+json": {
              "model_id": "a0919d220af24acaa650c14aeee7e9cc",
              "version_minor": 0,
              "version_major": 2
            },
            "text/plain": [
              "Downloading:   0%|          | 0.00/455k [00:00<?, ?B/s]"
            ]
          },
          "metadata": {}
        },
        {
          "output_type": "display_data",
          "data": {
            "application/vnd.jupyter.widget-view+json": {
              "model_id": "76be231ba414443eba9a60ce815ad791",
              "version_minor": 0,
              "version_major": 2
            },
            "text/plain": [
              "Downloading:   0%|          | 0.00/570 [00:00<?, ?B/s]"
            ]
          },
          "metadata": {}
        }
      ]
    },
    {
      "cell_type": "code",
      "source": [
        "from tqdm import tqdm\n",
        "from tqdm.notebook import tqdm_notebook\n",
        "tqdm_notebook.pandas()\n",
        "import warnings\n",
        "warnings.filterwarnings('ignore')\n",
        "import tensorflow as tf\n",
        "from tqdm import tqdm"
      ],
      "metadata": {
        "execution": {
          "iopub.execute_input": "2022-01-03T09:54:01.000214Z",
          "iopub.status.busy": "2022-01-03T09:54:00.998011Z",
          "iopub.status.idle": "2022-01-03T09:54:01.000955Z",
          "shell.execute_reply": "2022-01-03T09:54:01.001530Z",
          "shell.execute_reply.started": "2022-01-03T09:08:22.460696Z"
        },
        "id": "8cVOSXTuLDie",
        "papermill": {
          "duration": 0.16486,
          "end_time": "2022-01-03T09:54:01.001691",
          "exception": false,
          "start_time": "2022-01-03T09:54:00.836831",
          "status": "completed"
        },
        "tags": []
      },
      "execution_count": 27,
      "outputs": []
    },
    {
      "cell_type": "code",
      "source": [
        "MAX_LEN=92\n",
        "count = cleaned_train_X_dl.shape[0]\n",
        "input_ids = np.zeros((count,MAX_LEN),dtype='int32')\n",
        "attention_mask = np.zeros((count,MAX_LEN),dtype='int32')\n",
        "start_tokens = np.zeros((count,MAX_LEN),dtype='int32')\n",
        "end_tokens = np.zeros((count,MAX_LEN),dtype='int32')"
      ],
      "metadata": {
        "execution": {
          "iopub.execute_input": "2022-01-03T09:54:01.339617Z",
          "iopub.status.busy": "2022-01-03T09:54:01.338982Z",
          "iopub.status.idle": "2022-01-03T09:54:01.343140Z",
          "shell.execute_reply": "2022-01-03T09:54:01.342564Z",
          "shell.execute_reply.started": "2022-01-03T09:08:22.467997Z"
        },
        "id": "Shw18SPdJTAb",
        "papermill": {
          "duration": 0.185235,
          "end_time": "2022-01-03T09:54:01.343316",
          "exception": false,
          "start_time": "2022-01-03T09:54:01.158081",
          "status": "completed"
        },
        "tags": []
      },
      "execution_count": 28,
      "outputs": []
    },
    {
      "cell_type": "code",
      "source": [
        "x_train_bert = cleaned_train_X_dl.copy()\n",
        "x_train_bert.sentiment = x_train_bert.sentiment.map({0:'neutral',1:'positive',-1:'negative'})"
      ],
      "metadata": {
        "execution": {
          "iopub.execute_input": "2022-01-03T09:54:01.648550Z",
          "iopub.status.busy": "2022-01-03T09:54:01.647349Z",
          "iopub.status.idle": "2022-01-03T09:54:01.652740Z",
          "shell.execute_reply": "2022-01-03T09:54:01.652129Z",
          "shell.execute_reply.started": "2022-01-03T09:08:22.478268Z"
        },
        "id": "0uFGSnd8JmLr",
        "papermill": {
          "duration": 0.161437,
          "end_time": "2022-01-03T09:54:01.652891",
          "exception": false,
          "start_time": "2022-01-03T09:54:01.491454",
          "status": "completed"
        },
        "tags": []
      },
      "execution_count": 29,
      "outputs": []
    },
    {
      "cell_type": "code",
      "source": [
        "count_st = 0\n",
        "count_ed = 0\n",
        "for i,each in tqdm(enumerate(x_train_bert.values)):\n",
        "\n",
        "  val = tokenizer.encode_plus(each[3],each[2],add_special_tokens=True,max_length=92,return_attention_mask=True,pad_to_max_length=True,return_tensors='tf',verbose=False)\n",
        "  input_ids[i] = val['input_ids']\n",
        "  attention_mask[i] = val['attention_mask']\n",
        "  res = (tokenizer.encode(preprocessed_train_y_ex_dl.Cleaned_text.values[i]))\n",
        "  res = res[1:-1] # to ignore <s> and </s>\n",
        "  try:\n",
        "    st = tf.where(val['input_ids']==res[0]).numpy()[0][1]\n",
        "  except:\n",
        "    st = 3\n",
        "    count_st +=1\n",
        "  start_tokens[i][st]=1\n",
        "  try:\n",
        "    ed = tf.where(val['input_ids']==res[-1]).numpy()[0][1]\n",
        "  except:\n",
        "    ed = tf.where(val['input_ids']==0).numpy()[0][1]\n",
        "    count_ed +=1\n",
        "  end_tokens[i][ed]=1 "
      ],
      "metadata": {
        "execution": {
          "iopub.execute_input": "2022-01-03T09:54:01.972281Z",
          "iopub.status.busy": "2022-01-03T09:54:01.971151Z",
          "iopub.status.idle": "2022-01-03T09:55:04.243744Z",
          "shell.execute_reply": "2022-01-03T09:55:04.244603Z",
          "shell.execute_reply.started": "2022-01-03T09:08:22.490858Z"
        },
        "id": "wUY9U4WtJUXZ",
        "outputId": "181d66e2-a4f1-4253-bf51-c98935717d51",
        "papermill": {
          "duration": 62.434646,
          "end_time": "2022-01-03T09:55:04.244850",
          "exception": false,
          "start_time": "2022-01-03T09:54:01.810204",
          "status": "completed"
        },
        "tags": [],
        "colab": {
          "base_uri": "https://localhost:8080/"
        }
      },
      "execution_count": 30,
      "outputs": [
        {
          "output_type": "stream",
          "name": "stderr",
          "text": [
            "19236it [01:03, 303.88it/s]\n"
          ]
        }
      ]
    },
    {
      "cell_type": "code",
      "source": [
        "tokenizer.decode([101, 4997,  102, 2358, 8312, 2005, 3026, 7923, 4718, 2140,  102])"
      ],
      "metadata": {
        "execution": {
          "iopub.execute_input": "2022-01-03T09:55:04.902779Z",
          "iopub.status.busy": "2022-01-03T09:55:04.902078Z",
          "iopub.status.idle": "2022-01-03T09:55:05.760065Z",
          "shell.execute_reply": "2022-01-03T09:55:05.759415Z",
          "shell.execute_reply.started": "2022-01-03T09:09:10.527416Z"
        },
        "id": "adC7uMebMc11",
        "outputId": "b61c177e-0fd2-4b97-f0bc-142a84a9b3c4",
        "papermill": {
          "duration": 1.188032,
          "end_time": "2022-01-03T09:55:05.760270",
          "exception": false,
          "start_time": "2022-01-03T09:55:04.572238",
          "status": "completed"
        },
        "tags": [],
        "colab": {
          "base_uri": "https://localhost:8080/",
          "height": 35
        }
      },
      "execution_count": 31,
      "outputs": [
        {
          "output_type": "execute_result",
          "data": {
            "application/vnd.google.colaboratory.intrinsic+json": {
              "type": "string"
            },
            "text/plain": [
              "'[CLS] negative [SEP] st presentation for senior boards fml [SEP]'"
            ]
          },
          "metadata": {},
          "execution_count": 31
        }
      ]
    },
    {
      "cell_type": "code",
      "source": [
        "input_ids.shape,attention_mask.shape,start_tokens.shape,end_tokens.shape"
      ],
      "metadata": {
        "execution": {
          "iopub.execute_input": "2022-01-03T09:55:06.722323Z",
          "iopub.status.busy": "2022-01-03T09:55:06.721326Z",
          "iopub.status.idle": "2022-01-03T09:55:06.725913Z",
          "shell.execute_reply": "2022-01-03T09:55:06.726793Z",
          "shell.execute_reply.started": "2022-01-03T09:09:11.285242Z"
        },
        "id": "lE7p-cL7ShWC",
        "outputId": "def28db5-225e-4219-a5ff-71162e6ea146",
        "papermill": {
          "duration": 0.63321,
          "end_time": "2022-01-03T09:55:06.727033",
          "exception": false,
          "start_time": "2022-01-03T09:55:06.093823",
          "status": "completed"
        },
        "tags": [],
        "colab": {
          "base_uri": "https://localhost:8080/"
        }
      },
      "execution_count": 32,
      "outputs": [
        {
          "output_type": "execute_result",
          "data": {
            "text/plain": [
              "((19236, 92), (19236, 92), (19236, 92), (19236, 92))"
            ]
          },
          "metadata": {},
          "execution_count": 32
        }
      ]
    },
    {
      "cell_type": "code",
      "source": [
        "# Tập val\n",
        "MAX_LEN=92\n",
        "count = cleaned_val_X_dl.shape[0]\n",
        "input_ids_val = np.zeros((count,MAX_LEN),dtype='int32')\n",
        "attention_mask_val = np.zeros((count,MAX_LEN),dtype='int32')\n",
        "start_tokens_val = np.zeros((count,MAX_LEN),dtype='int32')\n",
        "end_tokens_val = np.zeros((count,MAX_LEN),dtype='int32')"
      ],
      "metadata": {
        "execution": {
          "iopub.execute_input": "2022-01-03T09:55:07.451873Z",
          "iopub.status.busy": "2022-01-03T09:55:07.451103Z",
          "iopub.status.idle": "2022-01-03T09:55:07.454460Z",
          "shell.execute_reply": "2022-01-03T09:55:07.454923Z",
          "shell.execute_reply.started": "2022-01-03T09:09:11.295267Z"
        },
        "id": "3-yv79pFSaFP",
        "papermill": {
          "duration": 0.33773,
          "end_time": "2022-01-03T09:55:07.455104",
          "exception": false,
          "start_time": "2022-01-03T09:55:07.117374",
          "status": "completed"
        },
        "tags": []
      },
      "execution_count": 33,
      "outputs": []
    },
    {
      "cell_type": "code",
      "source": [
        "x_val_bert = cleaned_val_X_dl.copy()\n",
        "x_val_bert.sentiment = x_val_bert.sentiment.map({0:'neutral',1:'positive',-1:'negative'})"
      ],
      "metadata": {
        "execution": {
          "iopub.execute_input": "2022-01-03T09:55:08.111886Z",
          "iopub.status.busy": "2022-01-03T09:55:08.110844Z",
          "iopub.status.idle": "2022-01-03T09:55:08.114229Z",
          "shell.execute_reply": "2022-01-03T09:55:08.113753Z",
          "shell.execute_reply.started": "2022-01-03T09:09:11.305121Z"
        },
        "id": "TD2zoPtiSxUz",
        "papermill": {
          "duration": 0.334074,
          "end_time": "2022-01-03T09:55:08.114377",
          "exception": false,
          "start_time": "2022-01-03T09:55:07.780303",
          "status": "completed"
        },
        "tags": []
      },
      "execution_count": 34,
      "outputs": []
    },
    {
      "cell_type": "code",
      "source": [
        "#x_val_bert.values"
      ],
      "metadata": {
        "execution": {
          "iopub.execute_input": "2022-01-03T09:55:08.768594Z",
          "iopub.status.busy": "2022-01-03T09:55:08.767572Z",
          "iopub.status.idle": "2022-01-03T09:55:08.770483Z",
          "shell.execute_reply": "2022-01-03T09:55:08.769864Z",
          "shell.execute_reply.started": "2022-01-03T09:09:11.315471Z"
        },
        "id": "0rEzNaU7CUj-",
        "papermill": {
          "duration": 0.32949,
          "end_time": "2022-01-03T09:55:08.770649",
          "exception": false,
          "start_time": "2022-01-03T09:55:08.441159",
          "status": "completed"
        },
        "tags": []
      },
      "execution_count": 35,
      "outputs": []
    },
    {
      "cell_type": "code",
      "source": [
        "count_st_val = 0\n",
        "count_ed_val = 0\n",
        "for i,each in tqdm(enumerate(x_val_bert.values)):\n",
        "\n",
        "  val = tokenizer.encode_plus(each[3],each[2],add_special_tokens=True,max_length=92,return_attention_mask=True,pad_to_max_length=True,return_tensors='tf',verbose=False)\n",
        "  input_ids_val[i] = val['input_ids']\n",
        "  attention_mask_val[i] = val['attention_mask']\n",
        "  res = (tokenizer.encode(preprocessed_val_y_ex.Cleaned_text.values[i]))\n",
        "  res = res[1:-1] # to ignore <s> and </s>\n",
        "  try:\n",
        "    st = tf.where(val['input_ids']==res[0]).numpy()[0][1]\n",
        "  except:\n",
        "    st = 3\n",
        "    count_st_val +=1\n",
        "  start_tokens_val[i][st]=1\n",
        "  try:\n",
        "    ed = tf.where(val['input_ids']==res[-1]).numpy()[0][1]\n",
        "  except:\n",
        "    ed = tf.where(val['input_ids']==0).numpy()[0][1]\n",
        "    count_ed_val +=1\n",
        "  end_tokens_val[i][ed]=1 "
      ],
      "metadata": {
        "execution": {
          "iopub.execute_input": "2022-01-03T09:55:09.431327Z",
          "iopub.status.busy": "2022-01-03T09:55:09.430157Z",
          "iopub.status.idle": "2022-01-03T09:55:34.237673Z",
          "shell.execute_reply": "2022-01-03T09:55:34.238159Z",
          "shell.execute_reply.started": "2022-01-03T09:09:11.322846Z"
        },
        "id": "sjnPVa73Sce0",
        "outputId": "c04c052a-8dbb-4f2b-f623-1a1ed60eb81a",
        "papermill": {
          "duration": 25.144856,
          "end_time": "2022-01-03T09:55:34.238370",
          "exception": false,
          "start_time": "2022-01-03T09:55:09.093514",
          "status": "completed"
        },
        "tags": [],
        "colab": {
          "base_uri": "https://localhost:8080/"
        }
      },
      "execution_count": 36,
      "outputs": [
        {
          "output_type": "stream",
          "name": "stderr",
          "text": [
            "8244it [00:26, 309.32it/s]\n"
          ]
        }
      ]
    },
    {
      "cell_type": "code",
      "source": [
        "input_ids_val.shape,attention_mask_val.shape,start_tokens_val.shape,end_tokens_val.shape"
      ],
      "metadata": {
        "execution": {
          "iopub.execute_input": "2022-01-03T09:55:35.063342Z",
          "iopub.status.busy": "2022-01-03T09:55:35.062610Z",
          "iopub.status.idle": "2022-01-03T09:55:35.067058Z",
          "shell.execute_reply": "2022-01-03T09:55:35.066492Z",
          "shell.execute_reply.started": "2022-01-03T09:09:30.074615Z"
        },
        "id": "GWccMfMYTzAE",
        "outputId": "e3f0ab0d-5ab5-48ea-9c8c-ea14c89a43d4",
        "papermill": {
          "duration": 0.423621,
          "end_time": "2022-01-03T09:55:35.067203",
          "exception": false,
          "start_time": "2022-01-03T09:55:34.643582",
          "status": "completed"
        },
        "tags": [],
        "colab": {
          "base_uri": "https://localhost:8080/"
        }
      },
      "execution_count": 37,
      "outputs": [
        {
          "output_type": "execute_result",
          "data": {
            "text/plain": [
              "((8244, 92), (8244, 92), (8244, 92), (8244, 92))"
            ]
          },
          "metadata": {},
          "execution_count": 37
        }
      ]
    },
    {
      "cell_type": "markdown",
      "source": [
        "Nếu thầy muốn dùng Roberta thì có thể sử dụng phần code được comment dưới đây"
      ],
      "metadata": {
        "id": "inES_0fmVbFI"
      }
    },
    {
      "cell_type": "code",
      "source": [
        "# from transformers import TFRobertaForQuestionAnswering\n",
        "# roberta = TFRobertaForQuestionAnswering.from_pretrained('roberta-base')"
      ],
      "metadata": {
        "execution": {
          "iopub.execute_input": "2022-01-03T09:55:35.899326Z",
          "iopub.status.busy": "2022-01-03T09:55:35.898537Z",
          "iopub.status.idle": "2022-01-03T09:55:42.907190Z",
          "shell.execute_reply": "2022-01-03T09:55:42.907936Z",
          "shell.execute_reply.started": "2022-01-03T09:09:30.082841Z"
        },
        "id": "eQUNUxRAUnD1",
        "papermill": {
          "duration": 7.430349,
          "end_time": "2022-01-03T09:55:42.908173",
          "exception": false,
          "start_time": "2022-01-03T09:55:35.477824",
          "status": "completed"
        },
        "tags": []
      },
      "execution_count": 38,
      "outputs": []
    },
    {
      "cell_type": "code",
      "source": [
        "from transformers import TFBertForQuestionAnswering\n",
        "bert_model = TFBertForQuestionAnswering.from_pretrained('bert-base-cased')"
      ],
      "metadata": {
        "execution": {
          "iopub.execute_input": "2022-01-03T09:55:43.744586Z",
          "iopub.status.busy": "2022-01-03T09:55:43.743654Z",
          "iopub.status.idle": "2022-01-03T09:55:43.746870Z",
          "shell.execute_reply": "2022-01-03T09:55:43.746353Z",
          "shell.execute_reply.started": "2022-01-03T09:09:38.257912Z"
        },
        "id": "8hMUyglQWC5a",
        "papermill": {
          "duration": 0.411475,
          "end_time": "2022-01-03T09:55:43.747037",
          "exception": false,
          "start_time": "2022-01-03T09:55:43.335562",
          "status": "completed"
        },
        "tags": [],
        "colab": {
          "base_uri": "https://localhost:8080/",
          "height": 150,
          "referenced_widgets": [
            "09ac94431c474423bf49d33045c9ffc8",
            "edf4482a867841fc8566ddf4b5444ebb",
            "c4e86794108a4b1da6f555e1794b5c4b",
            "5e68b8d39a81423f865b332031dbf0e4",
            "cc8c1c579fdc4a8aae1a0ff3e4a095d0",
            "d9edc05804cc4a819c9ff237e4741627",
            "65500b2d03ce4289a08580834f2767da",
            "27d094d1815a4f25b55d6d3128d787a5",
            "9536ceba80994e229c8072f12285ece2",
            "9087fbcfd7d94e3d9a4684fb13b9858d",
            "b607e021262f4bac9157ca8aec1efe7c",
            "dc1c309ba6534ad883243c83f9ebd27c",
            "458cd12e6f9342c0a12b350d85c2402e",
            "ad31c4aca4794d4094f2220b0e2a604a",
            "adeeec238a5c423a8cab5859139ceef1",
            "84a1966eb78248c4b7d0eb74b2065b87",
            "0df57029783b4f44a9859166a84547b1",
            "0c086a6dd6db40899ba963a8dbe190ea",
            "25081e091a064552a25583c07f2f0434",
            "28ff7a007ab745bba28c2aa8f37c20ca",
            "3653810f0187404496f0f9307fba6697",
            "aa90a17ba18946cfb62e85f9989df6ed"
          ]
        },
        "outputId": "1ecc1a32-e8e4-4af0-bb3b-3acec2a0cd33"
      },
      "execution_count": 39,
      "outputs": [
        {
          "output_type": "display_data",
          "data": {
            "application/vnd.jupyter.widget-view+json": {
              "model_id": "09ac94431c474423bf49d33045c9ffc8",
              "version_minor": 0,
              "version_major": 2
            },
            "text/plain": [
              "Downloading:   0%|          | 0.00/570 [00:00<?, ?B/s]"
            ]
          },
          "metadata": {}
        },
        {
          "output_type": "display_data",
          "data": {
            "application/vnd.jupyter.widget-view+json": {
              "model_id": "dc1c309ba6534ad883243c83f9ebd27c",
              "version_minor": 0,
              "version_major": 2
            },
            "text/plain": [
              "Downloading:   0%|          | 0.00/502M [00:00<?, ?B/s]"
            ]
          },
          "metadata": {}
        },
        {
          "output_type": "stream",
          "name": "stderr",
          "text": [
            "All model checkpoint layers were used when initializing TFBertForQuestionAnswering.\n",
            "\n",
            "Some layers of TFBertForQuestionAnswering were not initialized from the model checkpoint at bert-base-cased and are newly initialized: ['qa_outputs']\n",
            "You should probably TRAIN this model on a down-stream task to be able to use it for predictions and inference.\n"
          ]
        }
      ]
    },
    {
      "cell_type": "markdown",
      "source": [
        "##### 2.2.2.2 Cài đặt mô hình"
      ],
      "metadata": {
        "id": "zJZRYKiUYwnf"
      }
    },
    {
      "cell_type": "code",
      "source": [
        "from tensorflow.keras.models import Model\n",
        "from tensorflow.keras.layers import Input,Softmax,Dense,Activation,Dropout"
      ],
      "metadata": {
        "execution": {
          "iopub.execute_input": "2022-01-03T09:55:45.386653Z",
          "iopub.status.busy": "2022-01-03T09:55:45.385147Z",
          "iopub.status.idle": "2022-01-03T09:55:45.390211Z",
          "shell.execute_reply": "2022-01-03T09:55:45.389706Z",
          "shell.execute_reply.started": "2022-01-03T09:09:38.272816Z"
        },
        "id": "YIQAwc5TT8Ez",
        "papermill": {
          "duration": 0.423408,
          "end_time": "2022-01-03T09:55:45.390365",
          "exception": false,
          "start_time": "2022-01-03T09:55:44.966957",
          "status": "completed"
        },
        "tags": []
      },
      "execution_count": 40,
      "outputs": []
    },
    {
      "cell_type": "code",
      "source": [
        "input1 = Input(shape=(MAX_LEN,),name='input_id',dtype=tf.int32)\n",
        "input2 = Input(shape=(MAX_LEN,),name='attention_mask',dtype=tf.int32)\n",
        "# Uncomment dòng code dưới đây để chạy roberta\n",
        "#outputs = roberta(input1,attention_mask = input2) \n",
        "outputs = bert_model(input1,attention_mask = input2) # Nếu chạy roberta thì comment dòng này\n",
        "dense1 = Dense(units=MAX_LEN,activation='relu',name='dense1',kernel_regularizer = tf.keras.regularizers.L2(l2=0.0001))(outputs.start_logits)\n",
        "drop1 = Dropout(0.4)(dense1)\n",
        "dense2 = Dense(units=MAX_LEN,activation='relu',name='dense2',kernel_regularizer = tf.keras.regularizers.L2(l2=0.0001))(drop1)\n",
        "softmax1 = Activation('softmax')(dense2)\n",
        "dense3 = Dense(units=MAX_LEN,activation='relu',name='dense3',kernel_regularizer = tf.keras.regularizers.L2(l2=0.0001))(outputs.end_logits)\n",
        "drop2 = Dropout(0.4)(dense3)\n",
        "dense4 = Dense(units=MAX_LEN,activation='relu',name='dense4',kernel_regularizer = tf.keras.regularizers.L2(l2=0.0001))(drop2)\n",
        "softmax2 = Activation('softmax')(dense4)"
      ],
      "metadata": {
        "execution": {
          "iopub.execute_input": "2022-01-03T09:55:46.230424Z",
          "iopub.status.busy": "2022-01-03T09:55:46.229704Z",
          "iopub.status.idle": "2022-01-03T09:55:53.098144Z",
          "shell.execute_reply": "2022-01-03T09:55:53.097330Z",
          "shell.execute_reply.started": "2022-01-03T09:09:38.286406Z"
        },
        "id": "ZSARzsAAUGO1",
        "papermill": {
          "duration": 7.295816,
          "end_time": "2022-01-03T09:55:53.098341",
          "exception": false,
          "start_time": "2022-01-03T09:55:45.802525",
          "status": "completed"
        },
        "tags": []
      },
      "execution_count": 41,
      "outputs": []
    },
    {
      "cell_type": "code",
      "source": [
        "model = Model(inputs=[input1,input2],outputs=[softmax1,softmax2])"
      ],
      "metadata": {
        "execution": {
          "iopub.execute_input": "2022-01-03T09:55:53.928888Z",
          "iopub.status.busy": "2022-01-03T09:55:53.927942Z",
          "iopub.status.idle": "2022-01-03T09:55:53.936106Z",
          "shell.execute_reply": "2022-01-03T09:55:53.935509Z",
          "shell.execute_reply.started": "2022-01-03T09:09:44.136803Z"
        },
        "id": "lIRfqRDJViml",
        "papermill": {
          "duration": 0.426907,
          "end_time": "2022-01-03T09:55:53.936290",
          "exception": false,
          "start_time": "2022-01-03T09:55:53.509383",
          "status": "completed"
        },
        "tags": []
      },
      "execution_count": 42,
      "outputs": []
    },
    {
      "cell_type": "code",
      "source": [
        "!gdown --id 1e-niIF8NMLKP8ejVphI6MyfBoqFYwnvE # download pretrained bert\n",
        "#!gdown --id 1fOJjccftOkc-AIulbSsbVDMYsJB4SLQ9 # download pretrained roberta"
      ],
      "metadata": {
        "execution": {
          "iopub.execute_input": "2022-01-03T09:55:54.777802Z",
          "iopub.status.busy": "2022-01-03T09:55:54.775358Z",
          "iopub.status.idle": "2022-01-03T09:55:54.778587Z",
          "shell.execute_reply": "2022-01-03T09:55:54.779141Z",
          "shell.execute_reply.started": "2022-01-03T09:09:44.147969Z"
        },
        "id": "B_DNuD_nZ_Xw",
        "outputId": "2bb53b7b-3c39-4369-921e-60a32fb86155",
        "papermill": {
          "duration": 0.424595,
          "end_time": "2022-01-03T09:55:54.779326",
          "exception": false,
          "start_time": "2022-01-03T09:55:54.354731",
          "status": "completed"
        },
        "tags": [],
        "colab": {
          "base_uri": "https://localhost:8080/"
        }
      },
      "execution_count": 43,
      "outputs": [
        {
          "output_type": "stream",
          "name": "stdout",
          "text": [
            "Downloading...\n",
            "From: https://drive.google.com/uc?id=1e-niIF8NMLKP8ejVphI6MyfBoqFYwnvE\n",
            "To: /content/BERT_15_12.hdf5\n",
            "100% 431M/431M [00:02<00:00, 152MB/s]\n"
          ]
        }
      ]
    },
    {
      "cell_type": "code",
      "source": [
        "model.load_weights(\"BERT_15_12.hdf5\")\n",
        "#model.load_weights(\"roberta_model_3_1.hdf5\")"
      ],
      "metadata": {
        "execution": {
          "iopub.execute_input": "2022-01-03T09:55:55.600542Z",
          "iopub.status.busy": "2022-01-03T09:55:55.599650Z",
          "iopub.status.idle": "2022-01-03T09:56:00.822405Z",
          "shell.execute_reply": "2022-01-03T09:56:00.821244Z",
          "shell.execute_reply.started": "2022-01-03T09:09:44.155761Z"
        },
        "id": "o0I27Bu3X6WH",
        "papermill": {
          "duration": 5.638969,
          "end_time": "2022-01-03T09:56:00.822553",
          "exception": false,
          "start_time": "2022-01-03T09:55:55.183584",
          "status": "completed"
        },
        "tags": []
      },
      "execution_count": 44,
      "outputs": []
    },
    {
      "cell_type": "code",
      "source": [
        "#model = tf.keras.models.load_model('../input/final-bert-model-15-12/final_bert_model')\n",
        "model.summary()"
      ],
      "metadata": {
        "execution": {
          "iopub.execute_input": "2022-01-03T09:56:02.012467Z",
          "iopub.status.busy": "2022-01-03T09:56:02.002358Z",
          "iopub.status.idle": "2022-01-03T09:56:02.020883Z",
          "shell.execute_reply": "2022-01-03T09:56:02.021680Z",
          "shell.execute_reply.started": "2022-01-03T09:09:50.374041Z"
        },
        "id": "a6o6l-Uw7IfJ",
        "outputId": "5abae1ed-efce-4536-9ad8-728f23e3f1c5",
        "papermill": {
          "duration": 0.715601,
          "end_time": "2022-01-03T09:56:02.021886",
          "exception": false,
          "start_time": "2022-01-03T09:56:01.306285",
          "status": "completed"
        },
        "tags": [],
        "colab": {
          "base_uri": "https://localhost:8080/"
        }
      },
      "execution_count": 45,
      "outputs": [
        {
          "output_type": "stream",
          "name": "stdout",
          "text": [
            "Model: \"model\"\n",
            "__________________________________________________________________________________________________\n",
            " Layer (type)                   Output Shape         Param #     Connected to                     \n",
            "==================================================================================================\n",
            " input_id (InputLayer)          [(None, 92)]         0           []                               \n",
            "                                                                                                  \n",
            " attention_mask (InputLayer)    [(None, 92)]         0           []                               \n",
            "                                                                                                  \n",
            " tf_bert_for_question_answering  TFQuestionAnswering  107721218  ['input_id[0][0]',               \n",
            "  (TFBertForQuestionAnswering)  ModelOutput(loss=No               'attention_mask[0][0]']         \n",
            "                                ne, start_logits=(N                                               \n",
            "                                one, 92),                                                         \n",
            "                                 end_logits=(None,                                                \n",
            "                                92),                                                              \n",
            "                                 hidden_states=None                                               \n",
            "                                , attentions=None)                                                \n",
            "                                                                                                  \n",
            " dense1 (Dense)                 (None, 92)           8556        ['tf_bert_for_question_answering[\n",
            "                                                                 0][1]']                          \n",
            "                                                                                                  \n",
            " dense3 (Dense)                 (None, 92)           8556        ['tf_bert_for_question_answering[\n",
            "                                                                 0][0]']                          \n",
            "                                                                                                  \n",
            " dropout_37 (Dropout)           (None, 92)           0           ['dense1[0][0]']                 \n",
            "                                                                                                  \n",
            " dropout_38 (Dropout)           (None, 92)           0           ['dense3[0][0]']                 \n",
            "                                                                                                  \n",
            " dense2 (Dense)                 (None, 92)           8556        ['dropout_37[0][0]']             \n",
            "                                                                                                  \n",
            " dense4 (Dense)                 (None, 92)           8556        ['dropout_38[0][0]']             \n",
            "                                                                                                  \n",
            " activation (Activation)        (None, 92)           0           ['dense2[0][0]']                 \n",
            "                                                                                                  \n",
            " activation_1 (Activation)      (None, 92)           0           ['dense4[0][0]']                 \n",
            "                                                                                                  \n",
            "==================================================================================================\n",
            "Total params: 107,755,442\n",
            "Trainable params: 107,755,442\n",
            "Non-trainable params: 0\n",
            "__________________________________________________________________________________________________\n"
          ]
        }
      ]
    },
    {
      "cell_type": "code",
      "source": [
        ""
      ],
      "metadata": {
        "id": "xys4NzShXgrF",
        "papermill": {
          "duration": 0.431126,
          "end_time": "2022-01-03T09:56:02.882357",
          "exception": false,
          "start_time": "2022-01-03T09:56:02.451231",
          "status": "completed"
        },
        "tags": []
      },
      "execution_count": 45,
      "outputs": []
    },
    {
      "cell_type": "code",
      "source": [
        "#[CLS] positive [SEP] I love you so much [SEP]"
      ],
      "metadata": {
        "execution": {
          "iopub.execute_input": "2022-01-03T09:56:04.324958Z",
          "iopub.status.busy": "2022-01-03T09:56:04.323850Z",
          "iopub.status.idle": "2022-01-03T09:56:04.326776Z",
          "shell.execute_reply": "2022-01-03T09:56:04.325892Z",
          "shell.execute_reply.started": "2022-01-03T09:09:50.402536Z"
        },
        "id": "fa7RRoasnx2x",
        "papermill": {
          "duration": 0.736963,
          "end_time": "2022-01-03T09:56:04.327000",
          "exception": false,
          "start_time": "2022-01-03T09:56:03.590037",
          "status": "completed"
        },
        "tags": []
      },
      "execution_count": 46,
      "outputs": []
    },
    {
      "cell_type": "code",
      "source": [
        "import tensorflow as tf\n",
        "tf.keras.utils.plot_model(model, 'Model.png',show_shapes=True)"
      ],
      "metadata": {
        "execution": {
          "iopub.execute_input": "2022-01-03T09:56:05.251992Z",
          "iopub.status.busy": "2022-01-03T09:56:05.250754Z",
          "iopub.status.idle": "2022-01-03T09:56:06.276154Z",
          "shell.execute_reply": "2022-01-03T09:56:06.275569Z",
          "shell.execute_reply.started": "2022-01-03T09:09:50.408363Z"
        },
        "id": "tnV60hg2XkRs",
        "outputId": "09a34bd2-1c89-40da-a267-36f059ea9608",
        "papermill": {
          "duration": 1.458096,
          "end_time": "2022-01-03T09:56:06.276395",
          "exception": false,
          "start_time": "2022-01-03T09:56:04.818299",
          "status": "completed"
        },
        "tags": [],
        "colab": {
          "base_uri": "https://localhost:8080/",
          "height": 492
        }
      },
      "execution_count": 47,
      "outputs": [
        {
          "output_type": "execute_result",
          "data": {
            "image/png": "[encoded data removed]",
            "text/plain": [
              "<IPython.core.display.Image object>"
            ]
          },
          "metadata": {},
          "execution_count": 47
        }
      ]
    },
    {
      "cell_type": "code",
      "source": [
        "input_data = (input_ids,attention_mask)\n",
        "output_data = (start_tokens,end_tokens)\n",
        "\n",
        "val = (input_ids_val,attention_mask_val)\n",
        "output_val = (start_tokens_val,end_tokens_val)\n",
        "val_data = (val,output_val)"
      ],
      "metadata": {
        "execution": {
          "iopub.execute_input": "2022-01-03T09:56:07.140948Z",
          "iopub.status.busy": "2022-01-03T09:56:07.139942Z",
          "iopub.status.idle": "2022-01-03T09:56:07.143104Z",
          "shell.execute_reply": "2022-01-03T09:56:07.142570Z",
          "shell.execute_reply.started": "2022-01-03T09:09:51.271144Z"
        },
        "id": "A4aEWGJmXyIE",
        "papermill": {
          "duration": 0.434851,
          "end_time": "2022-01-03T09:56:07.143263",
          "exception": false,
          "start_time": "2022-01-03T09:56:06.708412",
          "status": "completed"
        },
        "tags": []
      },
      "execution_count": 48,
      "outputs": []
    },
    {
      "cell_type": "markdown",
      "source": [
        "Note: Uncomment phần code dưới đây nếu muốn train lại mô hình"
      ],
      "metadata": {
        "id": "VBG5oVt9Xdne"
      }
    },
    {
      "cell_type": "code",
      "source": [
        "\n",
        "# %load_ext tensorboard\n",
        "# import datetime\n",
        "# import os\n",
        "# #reduce_lr = tf.keras.callbacks.ReduceLROnPlateau(monitor='val_loss', factor=0.1,patience=2,verbose=3,min_lr = 1e-9)\n",
        "# log_dir= os.path.join(\"tensorboard_logs1\" , datetime.datetime.now().strftime(\"%Y%m%d-%H%M%S\"))\n",
        "# tensorboard_callback = tf.keras.callbacks.TensorBoard(log_dir=log_dir,histogram_freq=1, write_graph=True)\n",
        "# ! mkdir  'checkpt1'\n",
        "# file_path = os.path.join('checkpt1/model1.hdf5')\n",
        "# checkpt_save = tf.keras.callbacks.ModelCheckpoint(filepath=file_path,save_weights_only=True,monitor='val_loss',save_best_only=True,verbose=1)\n",
        "# callbacks=[tensorboard_callback,checkpt_save]"
      ],
      "metadata": {
        "execution": {
          "iopub.execute_input": "2022-01-03T09:56:07.992362Z",
          "iopub.status.busy": "2022-01-03T09:56:07.990122Z",
          "iopub.status.idle": "2022-01-03T09:56:07.993170Z",
          "shell.execute_reply": "2022-01-03T09:56:07.993805Z",
          "shell.execute_reply.started": "2022-01-03T09:09:51.279865Z"
        },
        "id": "-BSDzPsnX3le",
        "papermill": {
          "duration": 0.430443,
          "end_time": "2022-01-03T09:56:07.993977",
          "exception": false,
          "start_time": "2022-01-03T09:56:07.563534",
          "status": "completed"
        },
        "tags": []
      },
      "execution_count": 49,
      "outputs": []
    },
    {
      "cell_type": "code",
      "source": [
        "opt = tf.keras.optimizers.Adam(learning_rate=3e-5, epsilon=1e-08, clipnorm=1.0)\n",
        "model.compile(optimizer=opt,loss='categorical_crossentropy')"
      ],
      "metadata": {
        "execution": {
          "iopub.execute_input": "2022-01-03T09:56:08.850992Z",
          "iopub.status.busy": "2022-01-03T09:56:08.849908Z",
          "iopub.status.idle": "2022-01-03T09:56:08.859503Z",
          "shell.execute_reply": "2022-01-03T09:56:08.858922Z",
          "shell.execute_reply.started": "2022-01-03T09:09:51.290367Z"
        },
        "id": "jysZOskfX8aV",
        "papermill": {
          "duration": 0.447419,
          "end_time": "2022-01-03T09:56:08.859642",
          "exception": false,
          "start_time": "2022-01-03T09:56:08.412223",
          "status": "completed"
        },
        "tags": []
      },
      "execution_count": 50,
      "outputs": []
    },
    {
      "cell_type": "code",
      "source": [
        "# tạo dataset đúng định dạng để train mô hình\n",
        "# train_dataset = tf.data.Dataset.from_tensor_slices((input_data, output_data)).shuffle(buffer_size=1024).batch(32)\n",
        "# val_dataset = tf.data.Dataset.from_tensor_slices(val_data).batch(32)"
      ],
      "metadata": {
        "execution": {
          "iopub.execute_input": "2022-01-03T09:56:09.706887Z",
          "iopub.status.busy": "2022-01-03T09:56:09.705768Z",
          "iopub.status.idle": "2022-01-03T09:56:09.708627Z",
          "shell.execute_reply": "2022-01-03T09:56:09.709159Z",
          "shell.execute_reply.started": "2022-01-03T09:09:51.323076Z"
        },
        "id": "HujVfy_XX_D9",
        "papermill": {
          "duration": 0.429813,
          "end_time": "2022-01-03T09:56:09.709363",
          "exception": false,
          "start_time": "2022-01-03T09:56:09.279550",
          "status": "completed"
        },
        "tags": []
      },
      "execution_count": 51,
      "outputs": []
    },
    {
      "cell_type": "code",
      "source": [
        "# Gọi hàm train mô hình. Thời gian: BERT: khoảng 2h, Roberta: khoảng 3h30 với GPU\n",
        "#model.fit(train_dataset,epochs=15,validation_data=val_dataset,callbacks=callbacks)"
      ],
      "metadata": {
        "execution": {
          "iopub.execute_input": "2022-01-03T09:56:10.557494Z",
          "iopub.status.busy": "2022-01-03T09:56:10.556476Z",
          "iopub.status.idle": "2022-01-03T09:56:10.558668Z",
          "shell.execute_reply": "2022-01-03T09:56:10.559270Z",
          "shell.execute_reply.started": "2022-01-03T09:09:51.328340Z"
        },
        "id": "qODClL8KYBl2",
        "papermill": {
          "duration": 0.42036,
          "end_time": "2022-01-03T09:56:10.559448",
          "exception": false,
          "start_time": "2022-01-03T09:56:10.139088",
          "status": "completed"
        },
        "tags": []
      },
      "execution_count": 52,
      "outputs": []
    },
    {
      "cell_type": "code",
      "source": [
        "start_pred_train , end_pred_train = model.predict((input_data))"
      ],
      "metadata": {
        "execution": {
          "iopub.execute_input": "2022-01-03T09:56:12.360860Z",
          "iopub.status.busy": "2022-01-03T09:56:12.355612Z",
          "iopub.status.idle": "2022-01-03T09:58:37.671896Z",
          "shell.execute_reply": "2022-01-03T09:58:37.671292Z",
          "shell.execute_reply.started": "2022-01-03T09:09:51.337841Z"
        },
        "id": "BEdWcsyn7vgT",
        "papermill": {
          "duration": 145.834976,
          "end_time": "2022-01-03T09:58:37.672104",
          "exception": false,
          "start_time": "2022-01-03T09:56:11.837128",
          "status": "completed"
        },
        "tags": []
      },
      "execution_count": 53,
      "outputs": []
    },
    {
      "cell_type": "code",
      "source": [
        "#start_pred_train[0]"
      ],
      "metadata": {
        "execution": {
          "iopub.execute_input": "2022-01-03T09:58:38.521087Z",
          "iopub.status.busy": "2022-01-03T09:58:38.519946Z",
          "iopub.status.idle": "2022-01-03T09:58:38.522504Z",
          "shell.execute_reply": "2022-01-03T09:58:38.523021Z",
          "shell.execute_reply.started": "2022-01-03T09:11:15.911558Z"
        },
        "id": "LOuF0hTN9oJc",
        "papermill": {
          "duration": 0.411316,
          "end_time": "2022-01-03T09:58:38.523167",
          "exception": false,
          "start_time": "2022-01-03T09:58:38.111851",
          "status": "completed"
        },
        "tags": []
      },
      "execution_count": 54,
      "outputs": []
    },
    {
      "cell_type": "code",
      "source": [
        "#strt =[]\n",
        "#end=[]\n",
        "pred_values = []\n",
        "for i in tqdm(range(start_pred_train.shape[0])):\n",
        "  s = np.argmax(start_pred_train[i,])\n",
        "  e = np.argmax(end_pred_train[i,])\n",
        "  text1 = \" \"+\" \".join(x_train_bert['Cleaned_texts'].values[i].split())\n",
        "  enc = tokenizer.encode(text1)\n",
        "  st = tokenizer.decode(enc[(s-2):(e-1)])\n",
        "  pred_values.append(st)\n",
        "  #s = tf.math.argmax(start_pred_train[i],axis=0).numpy()\n",
        "  #e = tf.math.argmax(end_pred_train[i],axis=0).numpy()\n",
        "  #strt.append(s)\n",
        "  #end.append(e)\n",
        "#len(strt),len(end)"
      ],
      "metadata": {
        "execution": {
          "iopub.execute_input": "2022-01-03T09:58:39.365560Z",
          "iopub.status.busy": "2022-01-03T09:58:39.364366Z",
          "iopub.status.idle": "2022-01-03T09:58:54.746834Z",
          "shell.execute_reply": "2022-01-03T09:58:54.745818Z",
          "shell.execute_reply.started": "2022-01-03T09:11:15.918671Z"
        },
        "id": "IdZu7Yit9e6O",
        "papermill": {
          "duration": 15.808546,
          "end_time": "2022-01-03T09:58:54.746984",
          "exception": false,
          "start_time": "2022-01-03T09:58:38.938438",
          "status": "completed"
        },
        "tags": [],
        "colab": {
          "base_uri": "https://localhost:8080/"
        },
        "outputId": "ebef9aca-93bf-4051-af11-523c8d3797de"
      },
      "execution_count": 55,
      "outputs": [
        {
          "output_type": "stream",
          "name": "stderr",
          "text": [
            "100%|██████████| 19236/19236 [00:14<00:00, 1354.40it/s]\n"
          ]
        }
      ]
    },
    {
      "cell_type": "code",
      "source": [
        "preds_train = x_train_bert.copy()"
      ],
      "metadata": {
        "execution": {
          "iopub.execute_input": "2022-01-03T09:58:55.677746Z",
          "iopub.status.busy": "2022-01-03T09:58:55.676618Z",
          "iopub.status.idle": "2022-01-03T09:58:55.679096Z",
          "shell.execute_reply": "2022-01-03T09:58:55.679629Z",
          "shell.execute_reply.started": "2022-01-03T09:11:27.822664Z"
        },
        "id": "8j4ZYKP1C7Qx",
        "papermill": {
          "duration": 0.473262,
          "end_time": "2022-01-03T09:58:55.679789",
          "exception": false,
          "start_time": "2022-01-03T09:58:55.206527",
          "status": "completed"
        },
        "tags": []
      },
      "execution_count": 56,
      "outputs": []
    },
    {
      "cell_type": "code",
      "source": [
        "preds_train['preds_text'] =  pred_values\n"
      ],
      "metadata": {
        "execution": {
          "iopub.execute_input": "2022-01-03T09:58:56.612277Z",
          "iopub.status.busy": "2022-01-03T09:58:56.608568Z",
          "iopub.status.idle": "2022-01-03T09:58:56.615391Z",
          "shell.execute_reply": "2022-01-03T09:58:56.614830Z",
          "shell.execute_reply.started": "2022-01-03T09:11:27.839900Z"
        },
        "id": "43r4ToZyDIQn",
        "papermill": {
          "duration": 0.475253,
          "end_time": "2022-01-03T09:58:56.615555",
          "exception": false,
          "start_time": "2022-01-03T09:58:56.140302",
          "status": "completed"
        },
        "tags": []
      },
      "execution_count": 57,
      "outputs": []
    },
    {
      "cell_type": "code",
      "source": [
        "preds_train"
      ],
      "metadata": {
        "execution": {
          "iopub.execute_input": "2022-01-03T09:58:57.865160Z",
          "iopub.status.busy": "2022-01-03T09:58:57.864415Z",
          "iopub.status.idle": "2022-01-03T09:58:57.872846Z",
          "shell.execute_reply": "2022-01-03T09:58:57.873741Z",
          "shell.execute_reply.started": "2022-01-03T09:11:27.848187Z"
        },
        "id": "zNw-WxfGDxaA",
        "papermill": {
          "duration": 0.795059,
          "end_time": "2022-01-03T09:58:57.874024",
          "exception": false,
          "start_time": "2022-01-03T09:58:57.078965",
          "status": "completed"
        },
        "tags": [],
        "colab": {
          "base_uri": "https://localhost:8080/",
          "height": 606
        },
        "outputId": "56465b77-9521-4edc-9f8b-26f5b2b237a5"
      },
      "execution_count": 58,
      "outputs": [
        {
          "output_type": "execute_result",
          "data": {
            "text/html": [
              "\n",
              "  <div id=\"df-c2371747-f0c1-415c-974a-aa28bf526946\">\n",
              "    <div class=\"colab-df-container\">\n",
              "      <div>\n",
              "<style scoped>\n",
              "    .dataframe tbody tr th:only-of-type {\n",
              "        vertical-align: middle;\n",
              "    }\n",
              "\n",
              "    .dataframe tbody tr th {\n",
              "        vertical-align: top;\n",
              "    }\n",
              "\n",
              "    .dataframe thead th {\n",
              "        text-align: right;\n",
              "    }\n",
              "</style>\n",
              "<table border=\"1\" class=\"dataframe\">\n",
              "  <thead>\n",
              "    <tr style=\"text-align: right;\">\n",
              "      <th></th>\n",
              "      <th>textID</th>\n",
              "      <th>Raw_text</th>\n",
              "      <th>Cleaned_texts</th>\n",
              "      <th>sentiment</th>\n",
              "      <th>preds_text</th>\n",
              "    </tr>\n",
              "  </thead>\n",
              "  <tbody>\n",
              "    <tr>\n",
              "      <th>652</th>\n",
              "      <td>a834cef9c6</td>\n",
              "      <td>1st presentation for senior boards? FML</td>\n",
              "      <td>st presentation for senior boards fml</td>\n",
              "      <td>negative</td>\n",
              "      <td>fml</td>\n",
              "    </tr>\n",
              "    <tr>\n",
              "      <th>24883</th>\n",
              "      <td>5bfad683d5</td>\n",
              "      <td>yummy curry  save me some please lol</td>\n",
              "      <td>yummy curry save me some please lol</td>\n",
              "      <td>positive</td>\n",
              "      <td>yummy</td>\n",
              "    </tr>\n",
              "    <tr>\n",
              "      <th>15385</th>\n",
              "      <td>08a8d660b1</td>\n",
              "      <td>I wish I knew someone down there who could hook us up.   a friend told me once that they got crappy seats for a show in CHI</td>\n",
              "      <td>i wish i knew someone down there who could hook us up a friend told me once that they got crappy seats for a show in chi</td>\n",
              "      <td>negative</td>\n",
              "      <td>i wish i knew someone down there who could hook us up a friend told me once that they got crappy seats for a show in chi</td>\n",
              "    </tr>\n",
              "    <tr>\n",
              "      <th>16753</th>\n",
              "      <td>99a0ff3bef</td>\n",
              "      <td>Lucky u Im stuck in the rain...</td>\n",
              "      <td>lucky u im stuck in the rain</td>\n",
              "      <td>neutral</td>\n",
              "      <td>lucky u im stuck in the rain</td>\n",
              "    </tr>\n",
              "    <tr>\n",
              "      <th>19</th>\n",
              "      <td>40e7becabf</td>\n",
              "      <td>Hes just not that into you</td>\n",
              "      <td>hes just not that into you</td>\n",
              "      <td>neutral</td>\n",
              "      <td>hes just not that into you</td>\n",
              "    </tr>\n",
              "    <tr>\n",
              "      <th>...</th>\n",
              "      <td>...</td>\n",
              "      <td>...</td>\n",
              "      <td>...</td>\n",
              "      <td>...</td>\n",
              "      <td>...</td>\n",
              "    </tr>\n",
              "    <tr>\n",
              "      <th>21628</th>\n",
              "      <td>148582dfe6</td>\n",
              "      <td>THE best job in the world &amp; yes its in Australia  http://tinyurl.com/clxl4l</td>\n",
              "      <td>the best job in the world Special yes its in australia URL</td>\n",
              "      <td>positive</td>\n",
              "      <td>best</td>\n",
              "    </tr>\n",
              "    <tr>\n",
              "      <th>24747</th>\n",
              "      <td>9ed3b39ceb</td>\n",
              "      <td>Yeah he`s also partial to JT and TI Dead and Gone and Pink`s Sobre</td>\n",
              "      <td>yeah hes also partial to jt and ti dead and gone and pinks sobre</td>\n",
              "      <td>neutral</td>\n",
              "      <td>yeah hes also partial to jt and ti dead and gone and pinks sobre</td>\n",
              "    </tr>\n",
              "    <tr>\n",
              "      <th>18164</th>\n",
              "      <td>b2ccc6e924</td>\n",
              "      <td>Oui, I figured that since its a day off, I`d better start brushing up on my french; so far I have learnt Bonjour and Oui</td>\n",
              "      <td>oui i figured that since its a day off id better start brushing up on my french so far i have learnt bonjour and oui</td>\n",
              "      <td>neutral</td>\n",
              "      <td>oui i figured that since its a day off id better start brushing up on my french so far i have learnt bonjour and oui</td>\n",
              "    </tr>\n",
              "    <tr>\n",
              "      <th>10041</th>\n",
              "      <td>5652d8ae75</td>\n",
              "      <td>if i can get a ticket, but the pickings are lookin slim soo prob not</td>\n",
              "      <td>if i can get a ticket but the pickings are lokin slim so prob not</td>\n",
              "      <td>neutral</td>\n",
              "      <td>if i can get a ticket but the pickings are lokin slim so prob not</td>\n",
              "    </tr>\n",
              "    <tr>\n",
              "      <th>12238</th>\n",
              "      <td>49360765cf</td>\n",
              "      <td>thank you  make sure u read the groups description to better understand this project</td>\n",
              "      <td>thank you make sure u read the groups description to better understand this project</td>\n",
              "      <td>positive</td>\n",
              "      <td>thank you make sure u read the groups description to better understand this project</td>\n",
              "    </tr>\n",
              "  </tbody>\n",
              "</table>\n",
              "<p>19236 rows × 5 columns</p>\n",
              "</div>\n",
              "      <button class=\"colab-df-convert\" onclick=\"convertToInteractive('df-c2371747-f0c1-415c-974a-aa28bf526946')\"\n",
              "              title=\"Convert this dataframe to an interactive table.\"\n",
              "              style=\"display:none;\">\n",
              "        \n",
              "  <svg xmlns=\"http://www.w3.org/2000/svg\" height=\"24px\"viewBox=\"0 0 24 24\"\n",
              "       width=\"24px\">\n",
              "    <path d=\"M0 0h24v24H0V0z\" fill=\"none\"/>\n",
              "    <path d=\"M18.56 5.44l.94 2.06.94-2.06 2.06-.94-2.06-.94-.94-2.06-.94 2.06-2.06.94zm-11 1L8.5 8.5l.94-2.06 2.06-.94-2.06-.94L8.5 2.5l-.94 2.06-2.06.94zm10 10l.94 2.06.94-2.06 2.06-.94-2.06-.94-.94-2.06-.94 2.06-2.06.94z\"/><path d=\"M17.41 7.96l-1.37-1.37c-.4-.4-.92-.59-1.43-.59-.52 0-1.04.2-1.43.59L10.3 9.45l-7.72 7.72c-.78.78-.78 2.05 0 2.83L4 21.41c.39.39.9.59 1.41.59.51 0 1.02-.2 1.41-.59l7.78-7.78 2.81-2.81c.8-.78.8-2.07 0-2.86zM5.41 20L4 18.59l7.72-7.72 1.47 1.35L5.41 20z\"/>\n",
              "  </svg>\n",
              "      </button>\n",
              "      \n",
              "  <style>\n",
              "    .colab-df-container {\n",
              "      display:flex;\n",
              "      flex-wrap:wrap;\n",
              "      gap: 12px;\n",
              "    }\n",
              "\n",
              "    .colab-df-convert {\n",
              "      background-color: #E8F0FE;\n",
              "      border: none;\n",
              "      border-radius: 50%;\n",
              "      cursor: pointer;\n",
              "      display: none;\n",
              "      fill: #1967D2;\n",
              "      height: 32px;\n",
              "      padding: 0 0 0 0;\n",
              "      width: 32px;\n",
              "    }\n",
              "\n",
              "    .colab-df-convert:hover {\n",
              "      background-color: #E2EBFA;\n",
              "      box-shadow: 0px 1px 2px rgba(60, 64, 67, 0.3), 0px 1px 3px 1px rgba(60, 64, 67, 0.15);\n",
              "      fill: #174EA6;\n",
              "    }\n",
              "\n",
              "    [theme=dark] .colab-df-convert {\n",
              "      background-color: #3B4455;\n",
              "      fill: #D2E3FC;\n",
              "    }\n",
              "\n",
              "    [theme=dark] .colab-df-convert:hover {\n",
              "      background-color: #434B5C;\n",
              "      box-shadow: 0px 1px 3px 1px rgba(0, 0, 0, 0.15);\n",
              "      filter: drop-shadow(0px 1px 2px rgba(0, 0, 0, 0.3));\n",
              "      fill: #FFFFFF;\n",
              "    }\n",
              "  </style>\n",
              "\n",
              "      <script>\n",
              "        const buttonEl =\n",
              "          document.querySelector('#df-c2371747-f0c1-415c-974a-aa28bf526946 button.colab-df-convert');\n",
              "        buttonEl.style.display =\n",
              "          google.colab.kernel.accessAllowed ? 'block' : 'none';\n",
              "\n",
              "        async function convertToInteractive(key) {\n",
              "          const element = document.querySelector('#df-c2371747-f0c1-415c-974a-aa28bf526946');\n",
              "          const dataTable =\n",
              "            await google.colab.kernel.invokeFunction('convertToInteractive',\n",
              "                                                     [key], {});\n",
              "          if (!dataTable) return;\n",
              "\n",
              "          const docLinkHtml = 'Like what you see? Visit the ' +\n",
              "            '<a target=\"_blank\" href=https://colab.research.google.com/notebooks/data_table.ipynb>data table notebook</a>'\n",
              "            + ' to learn more about interactive tables.';\n",
              "          element.innerHTML = '';\n",
              "          dataTable['output_type'] = 'display_data';\n",
              "          await google.colab.output.renderOutput(dataTable, element);\n",
              "          const docLink = document.createElement('div');\n",
              "          docLink.innerHTML = docLinkHtml;\n",
              "          element.appendChild(docLink);\n",
              "        }\n",
              "      </script>\n",
              "    </div>\n",
              "  </div>\n",
              "  "
            ],
            "text/plain": [
              "           textID  ...                                                                                                                preds_text\n",
              "652    a834cef9c6  ...                                                                                                                       fml\n",
              "24883  5bfad683d5  ...                                                                                                                     yummy\n",
              "15385  08a8d660b1  ...  i wish i knew someone down there who could hook us up a friend told me once that they got crappy seats for a show in chi\n",
              "16753  99a0ff3bef  ...                                                                                              lucky u im stuck in the rain\n",
              "19     40e7becabf  ...                                                                                                hes just not that into you\n",
              "...           ...  ...                                                                                                                       ...\n",
              "21628  148582dfe6  ...                                                                                                                      best\n",
              "24747  9ed3b39ceb  ...                                                          yeah hes also partial to jt and ti dead and gone and pinks sobre\n",
              "18164  b2ccc6e924  ...      oui i figured that since its a day off id better start brushing up on my french so far i have learnt bonjour and oui\n",
              "10041  5652d8ae75  ...                                                         if i can get a ticket but the pickings are lokin slim so prob not\n",
              "12238  49360765cf  ...                                       thank you make sure u read the groups description to better understand this project\n",
              "\n",
              "[19236 rows x 5 columns]"
            ]
          },
          "metadata": {},
          "execution_count": 58
        }
      ]
    },
    {
      "cell_type": "code",
      "source": [
        "#score tập train:\n",
        "train_preds_text = preds_train.preds_text.str.split().to_list()\n",
        "train_selected_text = tse_st.Map_Extracted_DL(preprocessed_train_X_dl,train_preds_text)\n",
        "tse_st.score(train_selected_text,train_y_ex)"
      ],
      "metadata": {
        "execution": {
          "iopub.execute_input": "2022-01-03T09:58:58.837251Z",
          "iopub.status.busy": "2022-01-03T09:58:58.836298Z",
          "iopub.status.idle": "2022-01-03T09:58:59.205805Z",
          "shell.execute_reply": "2022-01-03T09:58:59.206653Z",
          "shell.execute_reply.started": "2022-01-03T09:11:27.869193Z"
        },
        "id": "fhZPgtSQHAmo",
        "papermill": {
          "duration": 0.841495,
          "end_time": "2022-01-03T09:58:59.206830",
          "exception": false,
          "start_time": "2022-01-03T09:58:58.365335",
          "status": "completed"
        },
        "tags": [],
        "colab": {
          "base_uri": "https://localhost:8080/"
        },
        "outputId": "fa3cbad6-d2cd-4958-bc30-2f6ff3efbcce"
      },
      "execution_count": 59,
      "outputs": [
        {
          "output_type": "execute_result",
          "data": {
            "text/plain": [
              "0.6640610864326043"
            ]
          },
          "metadata": {},
          "execution_count": 59
        }
      ]
    },
    {
      "cell_type": "code",
      "source": [
        "# score_df = pd.DataFrame(data ={'selected_text':train_selected_text ,'true_text':train_y_ex, 'sentiment':train_X_df.sentiment})\n",
        "# check_df = score_df.loc[score_df.sentiment== 'negative',:]\n",
        "# check_neg = check_df.selected_text.apply(len)\n",
        "# check_neg = check_neg.loc[check_neg <7].index\n",
        "# check_df = check_df.loc[check_neg,:]\n",
        "# tse_st.score(check_df.selected_text.to_list(),check_df.true_text)"
      ],
      "metadata": {
        "execution": {
          "iopub.execute_input": "2022-01-03T09:59:00.140924Z",
          "iopub.status.busy": "2022-01-03T09:59:00.139891Z",
          "iopub.status.idle": "2022-01-03T09:59:00.143043Z",
          "shell.execute_reply": "2022-01-03T09:59:00.142500Z",
          "shell.execute_reply.started": "2022-01-03T09:11:28.210960Z"
        },
        "id": "mKhyqUdIIqkq",
        "papermill": {
          "duration": 0.47377,
          "end_time": "2022-01-03T09:59:00.143169",
          "exception": false,
          "start_time": "2022-01-03T09:58:59.669399",
          "status": "completed"
        },
        "tags": []
      },
      "execution_count": 60,
      "outputs": []
    },
    {
      "cell_type": "code",
      "source": [
        "#Predict tập val:\n",
        "start_pred_val , end_pred_val = model.predict((val))"
      ],
      "metadata": {
        "execution": {
          "iopub.execute_input": "2022-01-03T09:59:01.086743Z",
          "iopub.status.busy": "2022-01-03T09:59:01.085711Z",
          "iopub.status.idle": "2022-01-03T09:59:42.084011Z",
          "shell.execute_reply": "2022-01-03T09:59:42.083226Z",
          "shell.execute_reply.started": "2022-01-03T09:11:28.217206Z"
        },
        "id": "U1WAeOZVFS5a",
        "papermill": {
          "duration": 41.483628,
          "end_time": "2022-01-03T09:59:42.084157",
          "exception": false,
          "start_time": "2022-01-03T09:59:00.600529",
          "status": "completed"
        },
        "tags": []
      },
      "execution_count": 61,
      "outputs": []
    },
    {
      "cell_type": "code",
      "source": [
        "#strt =[]\n",
        "#end=[]\n",
        "pred_values_val = []\n",
        "for i in tqdm(range(start_pred_val.shape[0])):\n",
        "  s = np.argmax(start_pred_val[i,])\n",
        "  e = np.argmax(end_pred_val[i,])\n",
        "  text1 = \" \"+\" \".join(x_val_bert['Cleaned_texts'].values[i].split())\n",
        "  enc = tokenizer.encode(text1)\n",
        "  st = tokenizer.decode(enc[(s-2):(e-1)])\n",
        "  pred_values_val.append(st)\n",
        "  #s = tf.math.argmax(start_pred_train[i],axis=0).numpy()\n",
        "  #e = tf.math.argmax(end_pred_train[i],axis=0).numpy()\n",
        "  #strt.append(s)\n",
        "  #end.append(e)\n",
        "#len(strt),len(end)"
      ],
      "metadata": {
        "execution": {
          "iopub.execute_input": "2022-01-03T09:59:43.027843Z",
          "iopub.status.busy": "2022-01-03T09:59:43.026599Z",
          "iopub.status.idle": "2022-01-03T09:59:49.275844Z",
          "shell.execute_reply": "2022-01-03T09:59:49.275145Z",
          "shell.execute_reply.started": "2022-01-03T09:12:09.214661Z"
        },
        "id": "54-ujUnRGFrW",
        "papermill": {
          "duration": 6.728826,
          "end_time": "2022-01-03T09:59:49.276069",
          "exception": false,
          "start_time": "2022-01-03T09:59:42.547243",
          "status": "completed"
        },
        "tags": [],
        "colab": {
          "base_uri": "https://localhost:8080/"
        },
        "outputId": "68105985-2ad0-4bda-beaa-96719a004b35"
      },
      "execution_count": 62,
      "outputs": [
        {
          "output_type": "stream",
          "name": "stderr",
          "text": [
            "100%|██████████| 8244/8244 [00:05<00:00, 1463.28it/s]\n"
          ]
        }
      ]
    },
    {
      "cell_type": "code",
      "source": [
        "preds_val = x_val_bert.copy()\n",
        "preds_val['preds_text'] =  pred_values_val\n"
      ],
      "metadata": {
        "execution": {
          "iopub.execute_input": "2022-01-03T09:59:50.241587Z",
          "iopub.status.busy": "2022-01-03T09:59:50.240390Z",
          "iopub.status.idle": "2022-01-03T09:59:50.243784Z",
          "shell.execute_reply": "2022-01-03T09:59:50.243223Z",
          "shell.execute_reply.started": "2022-01-03T09:12:14.193428Z"
        },
        "id": "WPkBiiBeGb8h",
        "papermill": {
          "duration": 0.482583,
          "end_time": "2022-01-03T09:59:50.243912",
          "exception": false,
          "start_time": "2022-01-03T09:59:49.761329",
          "status": "completed"
        },
        "tags": []
      },
      "execution_count": 63,
      "outputs": []
    },
    {
      "cell_type": "code",
      "source": [
        "preds_val"
      ],
      "metadata": {
        "execution": {
          "iopub.execute_input": "2022-01-03T09:59:51.644800Z",
          "iopub.status.busy": "2022-01-03T09:59:51.643646Z",
          "iopub.status.idle": "2022-01-03T09:59:51.660842Z",
          "shell.execute_reply": "2022-01-03T09:59:51.662345Z",
          "shell.execute_reply.started": "2022-01-03T09:12:14.203729Z"
        },
        "id": "TLjfJl1AGrcc",
        "papermill": {
          "duration": 0.928827,
          "end_time": "2022-01-03T09:59:51.662619",
          "exception": false,
          "start_time": "2022-01-03T09:59:50.733792",
          "status": "completed"
        },
        "tags": [],
        "colab": {
          "base_uri": "https://localhost:8080/",
          "height": 572
        },
        "outputId": "45a07394-7ea3-490b-ce4e-5a43ace37a6c"
      },
      "execution_count": 64,
      "outputs": [
        {
          "output_type": "execute_result",
          "data": {
            "text/html": [
              "\n",
              "  <div id=\"df-013677c4-f883-4fed-9151-e8053c5172d4\">\n",
              "    <div class=\"colab-df-container\">\n",
              "      <div>\n",
              "<style scoped>\n",
              "    .dataframe tbody tr th:only-of-type {\n",
              "        vertical-align: middle;\n",
              "    }\n",
              "\n",
              "    .dataframe tbody tr th {\n",
              "        vertical-align: top;\n",
              "    }\n",
              "\n",
              "    .dataframe thead th {\n",
              "        text-align: right;\n",
              "    }\n",
              "</style>\n",
              "<table border=\"1\" class=\"dataframe\">\n",
              "  <thead>\n",
              "    <tr style=\"text-align: right;\">\n",
              "      <th></th>\n",
              "      <th>textID</th>\n",
              "      <th>Raw_text</th>\n",
              "      <th>Cleaned_texts</th>\n",
              "      <th>sentiment</th>\n",
              "      <th>preds_text</th>\n",
              "    </tr>\n",
              "  </thead>\n",
              "  <tbody>\n",
              "    <tr>\n",
              "      <th>3259</th>\n",
              "      <td>f14d0140f1</td>\n",
              "      <td>Yikes!  I hope she was okay.  I never her heard her say her tummy hurt.</td>\n",
              "      <td>yikes i hope she was okay i never her heard her say her tummy hurt</td>\n",
              "      <td>neutral</td>\n",
              "      <td>yikes i hope she was okay i never her heard her say her tummy hurt</td>\n",
              "    </tr>\n",
              "    <tr>\n",
              "      <th>13469</th>\n",
              "      <td>d303e92e0a</td>\n",
              "      <td>aww my son gave me a purple g shock for mother`s day</td>\n",
              "      <td>aw my son gave me a purple g shock for mothers day</td>\n",
              "      <td>positive</td>\n",
              "      <td>aw my son gave me a purple g shock for mothers day</td>\n",
              "    </tr>\n",
              "    <tr>\n",
              "      <th>7904</th>\n",
              "      <td>ea50bdcad9</td>\n",
              "      <td>Back from hospital. Doc says I`ll live</td>\n",
              "      <td>back from hospital doc says ill live</td>\n",
              "      <td>positive</td>\n",
              "      <td>back from hospital doc says ill live</td>\n",
              "    </tr>\n",
              "    <tr>\n",
              "      <th>14283</th>\n",
              "      <td>22d7ee60ad</td>\n",
              "      <td>boo  you can come over and we`ll watch telenovelas and braid each others hair.</td>\n",
              "      <td>boo you can come over and well watch telenovelas and braid each others hair</td>\n",
              "      <td>neutral</td>\n",
              "      <td>boo you can come over and well watch telenovelas and braid each others hair</td>\n",
              "    </tr>\n",
              "    <tr>\n",
              "      <th>1282</th>\n",
              "      <td>59e971682c</td>\n",
              "      <td>Lost at bowling again  why do i suck</td>\n",
              "      <td>lost at bowling again why do i suck</td>\n",
              "      <td>negative</td>\n",
              "      <td>lost at bowling again why do i suck</td>\n",
              "    </tr>\n",
              "    <tr>\n",
              "      <th>...</th>\n",
              "      <td>...</td>\n",
              "      <td>...</td>\n",
              "      <td>...</td>\n",
              "      <td>...</td>\n",
              "      <td>...</td>\n",
              "    </tr>\n",
              "    <tr>\n",
              "      <th>12054</th>\n",
              "      <td>126ade42b8</td>\n",
              "      <td>oh that`s cool   Thanks!!</td>\n",
              "      <td>oh thats cool thanks</td>\n",
              "      <td>positive</td>\n",
              "      <td>thanks</td>\n",
              "    </tr>\n",
              "    <tr>\n",
              "      <th>2137</th>\n",
              "      <td>7f6299624f</td>\n",
              "      <td>Wish I could listen but because I`m from Canada, the website won`t let me!</td>\n",
              "      <td>wish i could listen but because im from canada the website wont let me</td>\n",
              "      <td>negative</td>\n",
              "      <td>wish i could listen but</td>\n",
              "    </tr>\n",
              "    <tr>\n",
              "      <th>1300</th>\n",
              "      <td>1ef247a527</td>\n",
              "      <td>hahahaha. im listening to my iTunes library, a bit of Sonia Dada atm,  ITs good</td>\n",
              "      <td>hahahaha im listening to my itunes library a bit of sonia dada atm its good</td>\n",
              "      <td>positive</td>\n",
              "      <td>hahahaha im listening to my itunes library a bit of sonia dada atm its good</td>\n",
              "    </tr>\n",
              "    <tr>\n",
              "      <th>27069</th>\n",
              "      <td>d178e9718d</td>\n",
              "      <td>I dont think so</td>\n",
              "      <td>i dont think so</td>\n",
              "      <td>neutral</td>\n",
              "      <td>i dont think so</td>\n",
              "    </tr>\n",
              "    <tr>\n",
              "      <th>13144</th>\n",
              "      <td>72c4a3023e</td>\n",
              "      <td>Is getting excited for the weekend.......Or, hang on, i am going to be all alone   never mind, excitement lost</td>\n",
              "      <td>is getting excited for the wekendor hang on i am going to be all alone never mind excitement lost</td>\n",
              "      <td>neutral</td>\n",
              "      <td>is getting excited for the wekendor hang on i am going to be all alone never mind excitement lost</td>\n",
              "    </tr>\n",
              "  </tbody>\n",
              "</table>\n",
              "<p>8244 rows × 5 columns</p>\n",
              "</div>\n",
              "      <button class=\"colab-df-convert\" onclick=\"convertToInteractive('df-013677c4-f883-4fed-9151-e8053c5172d4')\"\n",
              "              title=\"Convert this dataframe to an interactive table.\"\n",
              "              style=\"display:none;\">\n",
              "        \n",
              "  <svg xmlns=\"http://www.w3.org/2000/svg\" height=\"24px\"viewBox=\"0 0 24 24\"\n",
              "       width=\"24px\">\n",
              "    <path d=\"M0 0h24v24H0V0z\" fill=\"none\"/>\n",
              "    <path d=\"M18.56 5.44l.94 2.06.94-2.06 2.06-.94-2.06-.94-.94-2.06-.94 2.06-2.06.94zm-11 1L8.5 8.5l.94-2.06 2.06-.94-2.06-.94L8.5 2.5l-.94 2.06-2.06.94zm10 10l.94 2.06.94-2.06 2.06-.94-2.06-.94-.94-2.06-.94 2.06-2.06.94z\"/><path d=\"M17.41 7.96l-1.37-1.37c-.4-.4-.92-.59-1.43-.59-.52 0-1.04.2-1.43.59L10.3 9.45l-7.72 7.72c-.78.78-.78 2.05 0 2.83L4 21.41c.39.39.9.59 1.41.59.51 0 1.02-.2 1.41-.59l7.78-7.78 2.81-2.81c.8-.78.8-2.07 0-2.86zM5.41 20L4 18.59l7.72-7.72 1.47 1.35L5.41 20z\"/>\n",
              "  </svg>\n",
              "      </button>\n",
              "      \n",
              "  <style>\n",
              "    .colab-df-container {\n",
              "      display:flex;\n",
              "      flex-wrap:wrap;\n",
              "      gap: 12px;\n",
              "    }\n",
              "\n",
              "    .colab-df-convert {\n",
              "      background-color: #E8F0FE;\n",
              "      border: none;\n",
              "      border-radius: 50%;\n",
              "      cursor: pointer;\n",
              "      display: none;\n",
              "      fill: #1967D2;\n",
              "      height: 32px;\n",
              "      padding: 0 0 0 0;\n",
              "      width: 32px;\n",
              "    }\n",
              "\n",
              "    .colab-df-convert:hover {\n",
              "      background-color: #E2EBFA;\n",
              "      box-shadow: 0px 1px 2px rgba(60, 64, 67, 0.3), 0px 1px 3px 1px rgba(60, 64, 67, 0.15);\n",
              "      fill: #174EA6;\n",
              "    }\n",
              "\n",
              "    [theme=dark] .colab-df-convert {\n",
              "      background-color: #3B4455;\n",
              "      fill: #D2E3FC;\n",
              "    }\n",
              "\n",
              "    [theme=dark] .colab-df-convert:hover {\n",
              "      background-color: #434B5C;\n",
              "      box-shadow: 0px 1px 3px 1px rgba(0, 0, 0, 0.15);\n",
              "      filter: drop-shadow(0px 1px 2px rgba(0, 0, 0, 0.3));\n",
              "      fill: #FFFFFF;\n",
              "    }\n",
              "  </style>\n",
              "\n",
              "      <script>\n",
              "        const buttonEl =\n",
              "          document.querySelector('#df-013677c4-f883-4fed-9151-e8053c5172d4 button.colab-df-convert');\n",
              "        buttonEl.style.display =\n",
              "          google.colab.kernel.accessAllowed ? 'block' : 'none';\n",
              "\n",
              "        async function convertToInteractive(key) {\n",
              "          const element = document.querySelector('#df-013677c4-f883-4fed-9151-e8053c5172d4');\n",
              "          const dataTable =\n",
              "            await google.colab.kernel.invokeFunction('convertToInteractive',\n",
              "                                                     [key], {});\n",
              "          if (!dataTable) return;\n",
              "\n",
              "          const docLinkHtml = 'Like what you see? Visit the ' +\n",
              "            '<a target=\"_blank\" href=https://colab.research.google.com/notebooks/data_table.ipynb>data table notebook</a>'\n",
              "            + ' to learn more about interactive tables.';\n",
              "          element.innerHTML = '';\n",
              "          dataTable['output_type'] = 'display_data';\n",
              "          await google.colab.output.renderOutput(dataTable, element);\n",
              "          const docLink = document.createElement('div');\n",
              "          docLink.innerHTML = docLinkHtml;\n",
              "          element.appendChild(docLink);\n",
              "        }\n",
              "      </script>\n",
              "    </div>\n",
              "  </div>\n",
              "  "
            ],
            "text/plain": [
              "           textID  ...                                                                                         preds_text\n",
              "3259   f14d0140f1  ...                                 yikes i hope she was okay i never her heard her say her tummy hurt\n",
              "13469  d303e92e0a  ...                                                 aw my son gave me a purple g shock for mothers day\n",
              "7904   ea50bdcad9  ...                                                               back from hospital doc says ill live\n",
              "14283  22d7ee60ad  ...                        boo you can come over and well watch telenovelas and braid each others hair\n",
              "1282   59e971682c  ...                                                                lost at bowling again why do i suck\n",
              "...           ...  ...                                                                                                ...\n",
              "12054  126ade42b8  ...                                                                                             thanks\n",
              "2137   7f6299624f  ...                                                                            wish i could listen but\n",
              "1300   1ef247a527  ...                        hahahaha im listening to my itunes library a bit of sonia dada atm its good\n",
              "27069  d178e9718d  ...                                                                                    i dont think so\n",
              "13144  72c4a3023e  ...  is getting excited for the wekendor hang on i am going to be all alone never mind excitement lost\n",
              "\n",
              "[8244 rows x 5 columns]"
            ]
          },
          "metadata": {},
          "execution_count": 64
        }
      ]
    },
    {
      "cell_type": "code",
      "source": [
        "#score tập val:\n",
        "val_preds_text = preds_val.preds_text.str.split().to_list()\n",
        "val_selected_text = tse_st.Map_Extracted_DL(preprocessed_val_X_dl,val_preds_text)\n",
        "tse_st.score(val_selected_text,val_y_ex)"
      ],
      "metadata": {
        "execution": {
          "iopub.execute_input": "2022-01-03T09:59:53.182411Z",
          "iopub.status.busy": "2022-01-03T09:59:53.170390Z",
          "iopub.status.idle": "2022-01-03T09:59:53.342487Z",
          "shell.execute_reply": "2022-01-03T09:59:53.342963Z",
          "shell.execute_reply.started": "2022-01-03T09:12:14.221931Z"
        },
        "id": "2zlrdigbHcH5",
        "papermill": {
          "duration": 0.795188,
          "end_time": "2022-01-03T09:59:53.343121",
          "exception": false,
          "start_time": "2022-01-03T09:59:52.547933",
          "status": "completed"
        },
        "tags": [],
        "colab": {
          "base_uri": "https://localhost:8080/"
        },
        "outputId": "ecf53abb-784c-4885-d1ef-01039a7dcf63"
      },
      "execution_count": 65,
      "outputs": [
        {
          "output_type": "execute_result",
          "data": {
            "text/plain": [
              "0.5969852760465325"
            ]
          },
          "metadata": {},
          "execution_count": 65
        }
      ]
    },
    {
      "cell_type": "code",
      "source": [
        "# score_df = pd.DataFrame(data ={'selected_text':val_selected_text ,'true_text':val_y_ex, 'sentiment':val_X_df.sentiment})\n",
        "# check_df = score_df.loc[score_df.sentiment== 'neutral',:]\n",
        "# check_neg = check_df.selected_text.str.split().apply(len)\n",
        "# check_neg = check_neg.loc[check_neg==0].index\n",
        "# #check_df = check_df.loc[check_neg,:]\n",
        "# tse_st.score(check_df.selected_text.to_list(),check_df.true_text)"
      ],
      "metadata": {
        "execution": {
          "iopub.execute_input": "2022-01-03T09:59:54.317712Z",
          "iopub.status.busy": "2022-01-03T09:59:54.316685Z",
          "iopub.status.idle": "2022-01-03T09:59:54.319936Z",
          "shell.execute_reply": "2022-01-03T09:59:54.319346Z",
          "shell.execute_reply.started": "2022-01-03T09:12:14.398298Z"
        },
        "id": "Cz1_pwezI8DS",
        "papermill": {
          "duration": 0.493453,
          "end_time": "2022-01-03T09:59:54.320076",
          "exception": false,
          "start_time": "2022-01-03T09:59:53.826623",
          "status": "completed"
        },
        "tags": []
      },
      "execution_count": 66,
      "outputs": []
    },
    {
      "cell_type": "code",
      "source": [
        "# score_df.loc[score_df.sentiment== 'negative',:].selected_text.str.split().apply(len).value_counts()"
      ],
      "metadata": {
        "execution": {
          "iopub.execute_input": "2022-01-03T09:59:55.293629Z",
          "iopub.status.busy": "2022-01-03T09:59:55.292479Z",
          "iopub.status.idle": "2022-01-03T09:59:55.294886Z",
          "shell.execute_reply": "2022-01-03T09:59:55.295523Z",
          "shell.execute_reply.started": "2022-01-03T09:12:14.409850Z"
        },
        "id": "hUS6z33pW_Z-",
        "papermill": {
          "duration": 0.494231,
          "end_time": "2022-01-03T09:59:55.295700",
          "exception": false,
          "start_time": "2022-01-03T09:59:54.801469",
          "status": "completed"
        },
        "tags": []
      },
      "execution_count": 67,
      "outputs": []
    },
    {
      "cell_type": "markdown",
      "source": [
        "#### 2.2.3 Kết hợp thống kê và deep learning trong rút trích"
      ],
      "metadata": {
        "id": "MAYRZ_R6wBm6",
        "papermill": {
          "duration": 0.474371,
          "end_time": "2022-01-03T09:59:56.253414",
          "exception": false,
          "start_time": "2022-01-03T09:59:55.779043",
          "status": "completed"
        },
        "tags": []
      }
    },
    {
      "cell_type": "markdown",
      "source": [
        "- Lấy kết quả của học thống kê\n",
        "- Điền null bằng kết quả của deep learning (vì học thống kê không xử lý tốt được vấn đề out-of-vocabulary nên kết quả bị null khá nhiều)"
      ],
      "metadata": {
        "id": "iw8LntxSaG5H"
      }
    },
    {
      "cell_type": "code",
      "source": [
        "train_dl_df = pd.DataFrame(data ={'clean_text':cleaned_train_X_dl.Cleaned_texts,'selected_text':train_selected_text ,'true_text':train_y_ex, 'sentiment':train_X_df.sentiment})\n",
        "train_stat_df =  pd.DataFrame(data ={'clean_text':cleaned_train_X.Cleaned_texts,'selected_text':selected_train_X ,'true_text':train_y_ex, 'sentiment':train_X_df.sentiment})\n",
        "train_integrate_df = train_dl_df.copy()"
      ],
      "metadata": {
        "execution": {
          "iopub.execute_input": "2022-01-03T09:59:57.247607Z",
          "iopub.status.busy": "2022-01-03T09:59:57.246386Z",
          "iopub.status.idle": "2022-01-03T09:59:57.268867Z",
          "shell.execute_reply": "2022-01-03T09:59:57.268323Z",
          "shell.execute_reply.started": "2022-01-03T09:12:14.426086Z"
        },
        "id": "Oy87sMhuwAjz",
        "papermill": {
          "duration": 0.530277,
          "end_time": "2022-01-03T09:59:57.269028",
          "exception": false,
          "start_time": "2022-01-03T09:59:56.738751",
          "status": "completed"
        },
        "tags": []
      },
      "execution_count": 68,
      "outputs": []
    },
    {
      "cell_type": "code",
      "source": [
        "train_dl_df"
      ],
      "metadata": {
        "execution": {
          "iopub.execute_input": "2022-01-03T09:59:58.308579Z",
          "iopub.status.busy": "2022-01-03T09:59:58.307007Z",
          "iopub.status.idle": "2022-01-03T09:59:58.311588Z",
          "shell.execute_reply": "2022-01-03T09:59:58.312094Z",
          "shell.execute_reply.started": "2022-01-03T09:12:14.488798Z"
        },
        "papermill": {
          "duration": 0.514942,
          "end_time": "2022-01-03T09:59:58.312292",
          "exception": false,
          "start_time": "2022-01-03T09:59:57.797350",
          "status": "completed"
        },
        "tags": [],
        "colab": {
          "base_uri": "https://localhost:8080/",
          "height": 589
        },
        "id": "HbnDrdzG5HGR",
        "outputId": "65069abf-b922-4188-c77d-bf6340b4a33f"
      },
      "execution_count": 69,
      "outputs": [
        {
          "output_type": "execute_result",
          "data": {
            "text/html": [
              "\n",
              "  <div id=\"df-a3598761-33a2-46e3-a500-57da1142156e\">\n",
              "    <div class=\"colab-df-container\">\n",
              "      <div>\n",
              "<style scoped>\n",
              "    .dataframe tbody tr th:only-of-type {\n",
              "        vertical-align: middle;\n",
              "    }\n",
              "\n",
              "    .dataframe tbody tr th {\n",
              "        vertical-align: top;\n",
              "    }\n",
              "\n",
              "    .dataframe thead th {\n",
              "        text-align: right;\n",
              "    }\n",
              "</style>\n",
              "<table border=\"1\" class=\"dataframe\">\n",
              "  <thead>\n",
              "    <tr style=\"text-align: right;\">\n",
              "      <th></th>\n",
              "      <th>clean_text</th>\n",
              "      <th>selected_text</th>\n",
              "      <th>true_text</th>\n",
              "      <th>sentiment</th>\n",
              "    </tr>\n",
              "  </thead>\n",
              "  <tbody>\n",
              "    <tr>\n",
              "      <th>652</th>\n",
              "      <td>st presentation for senior boards fml</td>\n",
              "      <td>FML</td>\n",
              "      <td>FML</td>\n",
              "      <td>negative</td>\n",
              "    </tr>\n",
              "    <tr>\n",
              "      <th>24883</th>\n",
              "      <td>yummy curry save me some please lol</td>\n",
              "      <td>yummy</td>\n",
              "      <td>yummy</td>\n",
              "      <td>positive</td>\n",
              "    </tr>\n",
              "    <tr>\n",
              "      <th>15385</th>\n",
              "      <td>i wish i knew someone down there who could hook us up a friend told me once that they got crappy seats for a show in chi</td>\n",
              "      <td>I wish knew someone down there who could hook us up. a friend told me once that they got crappy seats for show in CHI</td>\n",
              "      <td>p.   a friend told me once that they got crappy seats for a show in</td>\n",
              "      <td>negative</td>\n",
              "    </tr>\n",
              "    <tr>\n",
              "      <th>16753</th>\n",
              "      <td>lucky u im stuck in the rain</td>\n",
              "      <td>Lucky u Im stuck in the rain...</td>\n",
              "      <td>Lucky u Im stuck in the rain...</td>\n",
              "      <td>neutral</td>\n",
              "    </tr>\n",
              "    <tr>\n",
              "      <th>19</th>\n",
              "      <td>hes just not that into you</td>\n",
              "      <td>Hes just not that into you</td>\n",
              "      <td>Hes just not that into you</td>\n",
              "      <td>neutral</td>\n",
              "    </tr>\n",
              "    <tr>\n",
              "      <th>...</th>\n",
              "      <td>...</td>\n",
              "      <td>...</td>\n",
              "      <td>...</td>\n",
              "      <td>...</td>\n",
              "    </tr>\n",
              "    <tr>\n",
              "      <th>21628</th>\n",
              "      <td>the best job in the world Special yes its in australia URL</td>\n",
              "      <td>best</td>\n",
              "      <td>best</td>\n",
              "      <td>positive</td>\n",
              "    </tr>\n",
              "    <tr>\n",
              "      <th>24747</th>\n",
              "      <td>yeah hes also partial to jt and ti dead and gone and pinks sobre</td>\n",
              "      <td>Yeah he`s also partial to JT and TI Dead Gone Pink`s Sobre</td>\n",
              "      <td>Yeah he`s also partial to JT and TI Dead and Gone and Pink`s Sobre</td>\n",
              "      <td>neutral</td>\n",
              "    </tr>\n",
              "    <tr>\n",
              "      <th>18164</th>\n",
              "      <td>oui i figured that since its a day off id better start brushing up on my french so far i have learnt bonjour and oui</td>\n",
              "      <td>Oui, I figured that since its a day off, I`d better start brushing up on my french; so far have learnt Bonjour and Oui</td>\n",
              "      <td>Oui, I figured that since its a day off, I`d better start brushing up on my french; so far I have learnt Bonjour and Oui</td>\n",
              "      <td>neutral</td>\n",
              "    </tr>\n",
              "    <tr>\n",
              "      <th>10041</th>\n",
              "      <td>if i can get a ticket but the pickings are lokin slim so prob not</td>\n",
              "      <td>if i can get a ticket, but the pickings are lookin slim soo prob not</td>\n",
              "      <td>if i can get a ticket, but the pickings are lookin slim soo prob not</td>\n",
              "      <td>neutral</td>\n",
              "    </tr>\n",
              "    <tr>\n",
              "      <th>12238</th>\n",
              "      <td>thank you make sure u read the groups description to better understand this project</td>\n",
              "      <td>thank you make sure u read the groups description to better understand this project</td>\n",
              "      <td>thank you  make sure u read the groups description to better understand this project</td>\n",
              "      <td>positive</td>\n",
              "    </tr>\n",
              "  </tbody>\n",
              "</table>\n",
              "<p>19236 rows × 4 columns</p>\n",
              "</div>\n",
              "      <button class=\"colab-df-convert\" onclick=\"convertToInteractive('df-a3598761-33a2-46e3-a500-57da1142156e')\"\n",
              "              title=\"Convert this dataframe to an interactive table.\"\n",
              "              style=\"display:none;\">\n",
              "        \n",
              "  <svg xmlns=\"http://www.w3.org/2000/svg\" height=\"24px\"viewBox=\"0 0 24 24\"\n",
              "       width=\"24px\">\n",
              "    <path d=\"M0 0h24v24H0V0z\" fill=\"none\"/>\n",
              "    <path d=\"M18.56 5.44l.94 2.06.94-2.06 2.06-.94-2.06-.94-.94-2.06-.94 2.06-2.06.94zm-11 1L8.5 8.5l.94-2.06 2.06-.94-2.06-.94L8.5 2.5l-.94 2.06-2.06.94zm10 10l.94 2.06.94-2.06 2.06-.94-2.06-.94-.94-2.06-.94 2.06-2.06.94z\"/><path d=\"M17.41 7.96l-1.37-1.37c-.4-.4-.92-.59-1.43-.59-.52 0-1.04.2-1.43.59L10.3 9.45l-7.72 7.72c-.78.78-.78 2.05 0 2.83L4 21.41c.39.39.9.59 1.41.59.51 0 1.02-.2 1.41-.59l7.78-7.78 2.81-2.81c.8-.78.8-2.07 0-2.86zM5.41 20L4 18.59l7.72-7.72 1.47 1.35L5.41 20z\"/>\n",
              "  </svg>\n",
              "      </button>\n",
              "      \n",
              "  <style>\n",
              "    .colab-df-container {\n",
              "      display:flex;\n",
              "      flex-wrap:wrap;\n",
              "      gap: 12px;\n",
              "    }\n",
              "\n",
              "    .colab-df-convert {\n",
              "      background-color: #E8F0FE;\n",
              "      border: none;\n",
              "      border-radius: 50%;\n",
              "      cursor: pointer;\n",
              "      display: none;\n",
              "      fill: #1967D2;\n",
              "      height: 32px;\n",
              "      padding: 0 0 0 0;\n",
              "      width: 32px;\n",
              "    }\n",
              "\n",
              "    .colab-df-convert:hover {\n",
              "      background-color: #E2EBFA;\n",
              "      box-shadow: 0px 1px 2px rgba(60, 64, 67, 0.3), 0px 1px 3px 1px rgba(60, 64, 67, 0.15);\n",
              "      fill: #174EA6;\n",
              "    }\n",
              "\n",
              "    [theme=dark] .colab-df-convert {\n",
              "      background-color: #3B4455;\n",
              "      fill: #D2E3FC;\n",
              "    }\n",
              "\n",
              "    [theme=dark] .colab-df-convert:hover {\n",
              "      background-color: #434B5C;\n",
              "      box-shadow: 0px 1px 3px 1px rgba(0, 0, 0, 0.15);\n",
              "      filter: drop-shadow(0px 1px 2px rgba(0, 0, 0, 0.3));\n",
              "      fill: #FFFFFF;\n",
              "    }\n",
              "  </style>\n",
              "\n",
              "      <script>\n",
              "        const buttonEl =\n",
              "          document.querySelector('#df-a3598761-33a2-46e3-a500-57da1142156e button.colab-df-convert');\n",
              "        buttonEl.style.display =\n",
              "          google.colab.kernel.accessAllowed ? 'block' : 'none';\n",
              "\n",
              "        async function convertToInteractive(key) {\n",
              "          const element = document.querySelector('#df-a3598761-33a2-46e3-a500-57da1142156e');\n",
              "          const dataTable =\n",
              "            await google.colab.kernel.invokeFunction('convertToInteractive',\n",
              "                                                     [key], {});\n",
              "          if (!dataTable) return;\n",
              "\n",
              "          const docLinkHtml = 'Like what you see? Visit the ' +\n",
              "            '<a target=\"_blank\" href=https://colab.research.google.com/notebooks/data_table.ipynb>data table notebook</a>'\n",
              "            + ' to learn more about interactive tables.';\n",
              "          element.innerHTML = '';\n",
              "          dataTable['output_type'] = 'display_data';\n",
              "          await google.colab.output.renderOutput(dataTable, element);\n",
              "          const docLink = document.createElement('div');\n",
              "          docLink.innerHTML = docLinkHtml;\n",
              "          element.appendChild(docLink);\n",
              "        }\n",
              "      </script>\n",
              "    </div>\n",
              "  </div>\n",
              "  "
            ],
            "text/plain": [
              "                                                                                                                     clean_text  ... sentiment\n",
              "652                                                                                       st presentation for senior boards fml  ...  negative\n",
              "24883                                                                                       yummy curry save me some please lol  ...  positive\n",
              "15385  i wish i knew someone down there who could hook us up a friend told me once that they got crappy seats for a show in chi  ...  negative\n",
              "16753                                                                                              lucky u im stuck in the rain  ...   neutral\n",
              "19                                                                                                   hes just not that into you  ...   neutral\n",
              "...                                                                                                                         ...  ...       ...\n",
              "21628                                                                the best job in the world Special yes its in australia URL  ...  positive\n",
              "24747                                                          yeah hes also partial to jt and ti dead and gone and pinks sobre  ...   neutral\n",
              "18164      oui i figured that since its a day off id better start brushing up on my french so far i have learnt bonjour and oui  ...   neutral\n",
              "10041                                                         if i can get a ticket but the pickings are lokin slim so prob not  ...   neutral\n",
              "12238                                       thank you make sure u read the groups description to better understand this project  ...  positive\n",
              "\n",
              "[19236 rows x 4 columns]"
            ]
          },
          "metadata": {},
          "execution_count": 69
        }
      ]
    },
    {
      "cell_type": "code",
      "source": [
        "#fillna with dl\n",
        "train_integrate_stat = train_stat_df.copy()\n",
        "train_null_df = train_integrate_stat.loc[train_integrate_stat.selected_text.str.split().apply(len)==0,:].index\n",
        "for i in list(train_null_df):\n",
        "   train_integrate_stat.loc[i,'selected_text'] = train_dl_df.loc[i,'selected_text']"
      ],
      "metadata": {
        "execution": {
          "iopub.execute_input": "2022-01-03T09:59:59.296188Z",
          "iopub.status.busy": "2022-01-03T09:59:59.281395Z",
          "iopub.status.idle": "2022-01-03T09:59:59.491449Z",
          "shell.execute_reply": "2022-01-03T09:59:59.490875Z",
          "shell.execute_reply.started": "2022-01-03T09:12:14.513459Z"
        },
        "id": "nnKCVAkobSIB",
        "papermill": {
          "duration": 0.699843,
          "end_time": "2022-01-03T09:59:59.491606",
          "exception": false,
          "start_time": "2022-01-03T09:59:58.791763",
          "status": "completed"
        },
        "tags": []
      },
      "execution_count": 70,
      "outputs": []
    },
    {
      "cell_type": "code",
      "source": [
        "#state of art\n",
        "tse_st.score(train_integrate_stat.selected_text.to_list(),train_integrate_stat.true_text)"
      ],
      "metadata": {
        "execution": {
          "iopub.execute_input": "2022-01-03T10:00:00.500289Z",
          "iopub.status.busy": "2022-01-03T10:00:00.495361Z",
          "iopub.status.idle": "2022-01-03T10:00:00.563576Z",
          "shell.execute_reply": "2022-01-03T10:00:00.564159Z",
          "shell.execute_reply.started": "2022-01-03T09:12:14.801820Z"
        },
        "id": "2nh6YwuVbx5a",
        "papermill": {
          "duration": 0.586746,
          "end_time": "2022-01-03T10:00:00.564302",
          "exception": false,
          "start_time": "2022-01-03T09:59:59.977556",
          "status": "completed"
        },
        "tags": [],
        "colab": {
          "base_uri": "https://localhost:8080/"
        },
        "outputId": "69f16e4d-1353-4443-a222-d33dabe8f8cd"
      },
      "execution_count": 71,
      "outputs": [
        {
          "output_type": "execute_result",
          "data": {
            "text/plain": [
              "0.6669508132994121"
            ]
          },
          "metadata": {},
          "execution_count": 71
        }
      ]
    },
    {
      "cell_type": "code",
      "source": [
        "def check_component_score(df,sentiment,cond = None):\n",
        "    '''\n",
        "        sentiment: str\n",
        "        df: train/ val dataframe\n",
        "    '''\n",
        "    comp_df = df.loc[df.sentiment == sentiment,['selected_text','true_text']]\n",
        "#     cond_df = comp_df.clean_text.str.split().apply(len)\n",
        "#     cond_df_index = cond_df.loc[cond_df <].index\n",
        "#     check_df = check_df.loc[check_neg,:]\n",
        "    return tse_st.score(comp_df.selected_text.to_list(),comp_df.true_text)"
      ],
      "metadata": {
        "execution": {
          "iopub.execute_input": "2022-01-03T10:00:01.555487Z",
          "iopub.status.busy": "2022-01-03T10:00:01.554444Z",
          "iopub.status.idle": "2022-01-03T10:00:01.557935Z",
          "shell.execute_reply": "2022-01-03T10:00:01.557324Z",
          "shell.execute_reply.started": "2022-01-03T09:12:14.947038Z"
        },
        "papermill": {
          "duration": 0.508012,
          "end_time": "2022-01-03T10:00:01.558065",
          "exception": false,
          "start_time": "2022-01-03T10:00:01.050053",
          "status": "completed"
        },
        "tags": [],
        "id": "FOGtQnlt5HGR"
      },
      "execution_count": 72,
      "outputs": []
    },
    {
      "cell_type": "code",
      "source": [
        "print('neutral score of statistic technique: ',check_component_score(train_stat_df,'neutral'))\n",
        "print('positive score of statistic technique: ',check_component_score(train_stat_df,'positive'))\n",
        "print('negative score of statistic technique: ',check_component_score(train_stat_df,'negative'))\n",
        "print('neutral score of Roberta technique: ',check_component_score(train_dl_df,'neutral'))\n",
        "print('positive score of Roberta technique: ',check_component_score(train_dl_df,'positive'))\n",
        "print('negative score of Roberta technique: ',check_component_score(train_dl_df,'negative'))\n",
        "print('neutral score of integrate: ',check_component_score(train_integrate_stat,'neutral'))\n",
        "print('positive score of integrate: ',check_component_score(train_integrate_stat,'positive'))\n",
        "print('negative score of integrate: ',check_component_score(train_integrate_stat,'negative'))"
      ],
      "metadata": {
        "execution": {
          "iopub.execute_input": "2022-01-03T10:00:02.552141Z",
          "iopub.status.busy": "2022-01-03T10:00:02.551490Z",
          "iopub.status.idle": "2022-01-03T10:00:02.854220Z",
          "shell.execute_reply": "2022-01-03T10:00:02.853719Z",
          "shell.execute_reply.started": "2022-01-03T09:12:14.954959Z"
        },
        "papermill": {
          "duration": 0.805737,
          "end_time": "2022-01-03T10:00:02.854426",
          "exception": false,
          "start_time": "2022-01-03T10:00:02.048689",
          "status": "completed"
        },
        "tags": [],
        "colab": {
          "base_uri": "https://localhost:8080/"
        },
        "id": "LO29-ydR5HGR",
        "outputId": "9dbcd2bf-16a8-4ec4-a614-34be3ad31a97"
      },
      "execution_count": 73,
      "outputs": [
        {
          "output_type": "stream",
          "name": "stdout",
          "text": [
            "neutral score of statistic technique:  0.9762767807757384\n",
            "positive score of statistic technique:  0.40994082898317585\n",
            "negative score of statistic technique:  0.367057565840407\n",
            "neutral score of Roberta technique:  0.937608294261404\n",
            "positive score of Roberta technique:  0.4883131774908825\n",
            "negative score of Roberta technique:  0.46706701954975144\n",
            "neutral score of integrate:  0.9762767807757384\n",
            "positive score of integrate:  0.45840072661363573\n",
            "negative score of integrate:  0.4550150122750898\n"
          ]
        }
      ]
    },
    {
      "cell_type": "code",
      "source": [
        ""
      ],
      "metadata": {
        "papermill": {
          "duration": 0.626827,
          "end_time": "2022-01-03T10:00:04.138483",
          "exception": false,
          "start_time": "2022-01-03T10:00:03.511656",
          "status": "completed"
        },
        "tags": [],
        "id": "SUtO7g9O5HGS"
      },
      "execution_count": 73,
      "outputs": []
    },
    {
      "cell_type": "code",
      "source": [
        "#score_df.loc[13144,'selected_text'] = []"
      ],
      "metadata": {
        "execution": {
          "iopub.execute_input": "2022-01-03T10:00:05.111018Z",
          "iopub.status.busy": "2022-01-03T10:00:05.109978Z",
          "iopub.status.idle": "2022-01-03T10:00:05.114599Z",
          "shell.execute_reply": "2022-01-03T10:00:05.113934Z",
          "shell.execute_reply.started": "2022-01-03T09:12:15.265893Z"
        },
        "id": "morQf_r7wo90",
        "papermill": {
          "duration": 0.503083,
          "end_time": "2022-01-03T10:00:05.114902",
          "exception": false,
          "start_time": "2022-01-03T10:00:04.611819",
          "status": "completed"
        },
        "tags": []
      },
      "execution_count": 74,
      "outputs": []
    },
    {
      "cell_type": "code",
      "source": [
        "val_dl_df = pd.DataFrame(data ={'clean_text':cleaned_val_X_dl.Cleaned_texts,'selected_text':val_selected_text ,'true_text':val_y_ex, 'sentiment':val_X_df.sentiment})\n",
        "val_stat_df =  pd.DataFrame(data ={'clean_text':cleaned_val_X.Cleaned_texts,'selected_text':selected_val_X ,'true_text':val_y_ex, 'sentiment':val_X_df.sentiment})\n",
        "val_integrate_df = val_dl_df.copy()"
      ],
      "metadata": {
        "execution": {
          "iopub.execute_input": "2022-01-03T10:00:06.108531Z",
          "iopub.status.busy": "2022-01-03T10:00:06.107442Z",
          "iopub.status.idle": "2022-01-03T10:00:06.116134Z",
          "shell.execute_reply": "2022-01-03T10:00:06.115444Z",
          "shell.execute_reply.started": "2022-01-03T09:12:15.273653Z"
        },
        "id": "DIlTRhtPxamU",
        "papermill": {
          "duration": 0.515886,
          "end_time": "2022-01-03T10:00:06.116369",
          "exception": false,
          "start_time": "2022-01-03T10:00:05.600483",
          "status": "completed"
        },
        "tags": []
      },
      "execution_count": 75,
      "outputs": []
    },
    {
      "cell_type": "code",
      "source": [
        "# # Lấy neutral bên thống kê qua deep learning:\n",
        "# neutral_df = val_integrate_df.loc[val_integrate_df.sentiment== 'neutral',:]\n",
        "# index_neutral =list( neutral_df.index)\n",
        "# for i in index_neutral:\n",
        "#    val_integrate_df.loc[i,'selected_text'] = val_stat_df.loc[i,'selected_text']"
      ],
      "metadata": {
        "execution": {
          "iopub.execute_input": "2022-01-03T10:00:07.109372Z",
          "iopub.status.busy": "2022-01-03T10:00:07.108294Z",
          "iopub.status.idle": "2022-01-03T10:00:07.111002Z",
          "shell.execute_reply": "2022-01-03T10:00:07.111507Z",
          "shell.execute_reply.started": "2022-01-03T09:12:15.292534Z"
        },
        "id": "n3KS6IMVxAJr",
        "papermill": {
          "duration": 0.503665,
          "end_time": "2022-01-03T10:00:07.111667",
          "exception": false,
          "start_time": "2022-01-03T10:00:06.608002",
          "status": "completed"
        },
        "tags": []
      },
      "execution_count": 76,
      "outputs": []
    },
    {
      "cell_type": "code",
      "source": [
        "#fillna with dl\n",
        "val_integrate_stat = val_stat_df.copy()\n",
        "null_df = val_integrate_stat.loc[val_integrate_stat.selected_text.str.split().apply(len)==0,:].index\n",
        "for i in list(null_df):\n",
        "   val_integrate_stat.loc[i,'selected_text'] = val_dl_df.loc[i,'selected_text']"
      ],
      "metadata": {
        "execution": {
          "iopub.execute_input": "2022-01-03T10:00:08.091543Z",
          "iopub.status.busy": "2022-01-03T10:00:08.075472Z",
          "iopub.status.idle": "2022-01-03T10:00:08.172531Z",
          "shell.execute_reply": "2022-01-03T10:00:08.171882Z",
          "shell.execute_reply.started": "2022-01-03T09:12:15.298330Z"
        },
        "id": "HDhnOLgq2sZt",
        "papermill": {
          "duration": 0.587556,
          "end_time": "2022-01-03T10:00:08.172654",
          "exception": false,
          "start_time": "2022-01-03T10:00:07.585098",
          "status": "completed"
        },
        "tags": []
      },
      "execution_count": 77,
      "outputs": []
    },
    {
      "cell_type": "code",
      "source": [
        "#state of art\n",
        "tse_st.score(val_integrate_stat.selected_text.to_list(),val_integrate_stat.true_text)"
      ],
      "metadata": {
        "execution": {
          "iopub.execute_input": "2022-01-03T10:00:09.169068Z",
          "iopub.status.busy": "2022-01-03T10:00:09.159081Z",
          "iopub.status.idle": "2022-01-03T10:00:09.177740Z",
          "shell.execute_reply": "2022-01-03T10:00:09.178179Z",
          "shell.execute_reply.started": "2022-01-03T09:12:15.390767Z"
        },
        "papermill": {
          "duration": 0.526951,
          "end_time": "2022-01-03T10:00:09.178354",
          "exception": false,
          "start_time": "2022-01-03T10:00:08.651403",
          "status": "completed"
        },
        "tags": [],
        "colab": {
          "base_uri": "https://localhost:8080/"
        },
        "id": "mr3KZlrm5HGU",
        "outputId": "e93b4bc0-a0c8-4d29-f7d5-288e4471f270"
      },
      "execution_count": 78,
      "outputs": [
        {
          "output_type": "execute_result",
          "data": {
            "text/plain": [
              "0.6540484748813538"
            ]
          },
          "metadata": {},
          "execution_count": 78
        }
      ]
    },
    {
      "cell_type": "code",
      "source": [
        "print('neutral score of statistic technique: ',check_component_score(val_stat_df,'neutral'))\n",
        "print('positive score of statistic technique: ',check_component_score(val_stat_df,'positive'))\n",
        "print('negative score of statistic technique: ',check_component_score(val_stat_df,'negative'))\n",
        "print('neutral score of Roberta technique: ',check_component_score(val_dl_df,'neutral'))\n",
        "print('positive score of Roberta technique: ',check_component_score(val_dl_df,'positive'))\n",
        "print('negative score of Roberta technique: ',check_component_score(val_dl_df,'negative'))\n",
        "print('neutral score of integrate: ',check_component_score(val_integrate_stat,'neutral'))\n",
        "print('positive score of integrate: ',check_component_score(val_integrate_stat,'positive'))\n",
        "print('negative score of integrate: ',check_component_score(val_integrate_stat,'negative'))"
      ],
      "metadata": {
        "execution": {
          "iopub.execute_input": "2022-01-03T10:00:10.181352Z",
          "iopub.status.busy": "2022-01-03T10:00:10.180138Z",
          "iopub.status.idle": "2022-01-03T10:00:10.321761Z",
          "shell.execute_reply": "2022-01-03T10:00:10.320918Z",
          "shell.execute_reply.started": "2022-01-03T09:12:15.435856Z"
        },
        "id": "XoZJPI0tCMvH",
        "papermill": {
          "duration": 0.648143,
          "end_time": "2022-01-03T10:00:10.321969",
          "exception": false,
          "start_time": "2022-01-03T10:00:09.673826",
          "status": "completed"
        },
        "tags": [],
        "colab": {
          "base_uri": "https://localhost:8080/"
        },
        "outputId": "a3a759f5-1b11-42df-c5f8-f27de195175a"
      },
      "execution_count": 79,
      "outputs": [
        {
          "output_type": "stream",
          "name": "stdout",
          "text": [
            "neutral score of statistic technique:  0.9768364267297641\n",
            "positive score of statistic technique:  0.397816609751258\n",
            "negative score of statistic technique:  0.34850126296057565\n",
            "neutral score of Roberta technique:  0.9392721332317218\n",
            "positive score of Roberta technique:  0.3660667801082122\n",
            "negative score of Roberta technique:  0.3626615649619376\n",
            "neutral score of integrate:  0.9768364267297641\n",
            "positive score of integrate:  0.44114711876607454\n",
            "negative score of integrate:  0.42770878875557683\n"
          ]
        }
      ]
    },
    {
      "cell_type": "code",
      "source": [
        "# pos_df = val_integrate_stat.loc[ val_integrate_stat.sentiment== 'positive',:]\n",
        "# check_pos = pos_df.clean_text.str.split().apply(len)\n",
        "# check_pos = check_pos.loc[check_pos <15].index\n",
        "# #pos_df = pos_df.loc[check_pos,:]\n",
        "# tse_st.score(pos_df.selected_text.to_list(),pos_df.true_text)"
      ],
      "metadata": {
        "execution": {
          "iopub.execute_input": "2022-01-03T10:00:11.306551Z",
          "iopub.status.busy": "2022-01-03T10:00:11.305545Z",
          "iopub.status.idle": "2022-01-03T10:00:11.308420Z",
          "shell.execute_reply": "2022-01-03T10:00:11.307942Z",
          "shell.execute_reply.started": "2022-01-03T09:12:15.584020Z"
        },
        "id": "M96q5zWjFAKI",
        "papermill": {
          "duration": 0.498812,
          "end_time": "2022-01-03T10:00:11.308545",
          "exception": false,
          "start_time": "2022-01-03T10:00:10.809733",
          "status": "completed"
        },
        "tags": []
      },
      "execution_count": 80,
      "outputs": []
    },
    {
      "cell_type": "code",
      "source": [
        "# check_df = val_dl_df.loc[score_df.sentiment== 'positive',:]\n",
        "# check_neg = check_df.clean_text.str.split().apply(len)\n",
        "# check_neg = check_neg.loc[check_neg <20].index\n",
        "# check_df = check_df.loc[check_neg,:]\n",
        "# tse_st.score(check_df.selected_text.to_list(),check_df.true_text)"
      ],
      "metadata": {
        "execution": {
          "iopub.execute_input": "2022-01-03T10:00:12.279181Z",
          "iopub.status.busy": "2022-01-03T10:00:12.277971Z",
          "iopub.status.idle": "2022-01-03T10:00:12.280475Z",
          "shell.execute_reply": "2022-01-03T10:00:12.280998Z",
          "shell.execute_reply.started": "2022-01-03T09:12:15.591791Z"
        },
        "id": "nzxLXVwD4A7t",
        "papermill": {
          "duration": 0.489055,
          "end_time": "2022-01-03T10:00:12.281144",
          "exception": false,
          "start_time": "2022-01-03T10:00:11.792089",
          "status": "completed"
        },
        "tags": []
      },
      "execution_count": 81,
      "outputs": []
    },
    {
      "cell_type": "code",
      "source": [
        "# check_df = val_stat_df.loc[score_df.sentiment== 'positive',:]\n",
        "# check_neg = check_df.clean_text.str.split().apply(len)\n",
        "# check_neg = check_neg.loc[check_neg <20].index\n",
        "# check_df = check_df.loc[check_neg,:]\n",
        "# tse_st.score(check_df.selected_text.to_list(),check_df.true_text)"
      ],
      "metadata": {
        "execution": {
          "iopub.execute_input": "2022-01-03T10:00:13.293283Z",
          "iopub.status.busy": "2022-01-03T10:00:13.292225Z",
          "iopub.status.idle": "2022-01-03T10:00:13.295540Z",
          "shell.execute_reply": "2022-01-03T10:00:13.294990Z",
          "shell.execute_reply.started": "2022-01-03T09:12:15.599816Z"
        },
        "id": "IZMcsJ0bEhAw",
        "papermill": {
          "duration": 0.521913,
          "end_time": "2022-01-03T10:00:13.295694",
          "exception": false,
          "start_time": "2022-01-03T10:00:12.773781",
          "status": "completed"
        },
        "tags": []
      },
      "execution_count": 82,
      "outputs": []
    },
    {
      "cell_type": "code",
      "source": [
        "# pos_df.clean_text.str.split().apply(len).value_counts()"
      ],
      "metadata": {
        "execution": {
          "iopub.execute_input": "2022-01-03T10:00:14.401172Z",
          "iopub.status.busy": "2022-01-03T10:00:14.400136Z",
          "iopub.status.idle": "2022-01-03T10:00:14.402872Z",
          "shell.execute_reply": "2022-01-03T10:00:14.403714Z",
          "shell.execute_reply.started": "2022-01-03T09:12:15.610598Z"
        },
        "id": "RcTNwZXY45Z8",
        "papermill": {
          "duration": 0.606072,
          "end_time": "2022-01-03T10:00:14.404011",
          "exception": false,
          "start_time": "2022-01-03T10:00:13.797939",
          "status": "completed"
        },
        "tags": []
      },
      "execution_count": 83,
      "outputs": []
    },
    {
      "cell_type": "code",
      "source": [
        ""
      ],
      "metadata": {
        "id": "vA09FHs1yoye",
        "papermill": {
          "duration": 0.484171,
          "end_time": "2022-01-03T10:00:15.558777",
          "exception": false,
          "start_time": "2022-01-03T10:00:15.074606",
          "status": "completed"
        },
        "tags": []
      },
      "execution_count": 83,
      "outputs": []
    },
    {
      "cell_type": "code",
      "source": [
        ""
      ],
      "metadata": {
        "id": "5RcNJ5hT2rQu",
        "papermill": {
          "duration": 0.491989,
          "end_time": "2022-01-03T10:00:16.541832",
          "exception": false,
          "start_time": "2022-01-03T10:00:16.049843",
          "status": "completed"
        },
        "tags": []
      },
      "execution_count": 83,
      "outputs": []
    },
    {
      "cell_type": "code",
      "source": [
        "# pd.set_option('display.max_rows', df.shape[0]+1)\n",
        "# compare_df = pd.DataFrame(data ={'origin':val_X_df.text,'preprocessed_text':preprocessed_val_X.preprocessed_texts,'selected_text':val_selected_text ,'true_text':val_y_ex, 'sentiment':val_X_df.sentiment})\n",
        "# index_check = compare_df.loc[compare_df.sentiment == 'negative',['true_text']].true_text.str.split().apply(len)\n",
        "# index_1 = index_check.loc[index_check == 1].index\n",
        "# #compare_df.loc[index_1,:]"
      ],
      "metadata": {
        "execution": {
          "iopub.execute_input": "2022-01-03T10:00:17.521090Z",
          "iopub.status.busy": "2022-01-03T10:00:17.520045Z",
          "iopub.status.idle": "2022-01-03T10:00:17.522428Z",
          "shell.execute_reply": "2022-01-03T10:00:17.523109Z",
          "shell.execute_reply.started": "2022-01-03T09:12:15.618553Z"
        },
        "id": "Evzp4gZRJ5ko",
        "papermill": {
          "duration": 0.493844,
          "end_time": "2022-01-03T10:00:17.523285",
          "exception": false,
          "start_time": "2022-01-03T10:00:17.029441",
          "status": "completed"
        },
        "tags": []
      },
      "execution_count": 84,
      "outputs": []
    },
    {
      "cell_type": "code",
      "source": [
        "# tokenizer.encode('st presentation for senior boards fml')"
      ],
      "metadata": {
        "execution": {
          "iopub.execute_input": "2022-01-03T10:00:18.505901Z",
          "iopub.status.busy": "2022-01-03T10:00:18.504813Z",
          "iopub.status.idle": "2022-01-03T10:00:18.507277Z",
          "shell.execute_reply": "2022-01-03T10:00:18.507930Z",
          "shell.execute_reply.started": "2022-01-03T09:12:15.627480Z"
        },
        "id": "TfkYNxJXEe4y",
        "papermill": {
          "duration": 0.494529,
          "end_time": "2022-01-03T10:00:18.508083",
          "exception": false,
          "start_time": "2022-01-03T10:00:18.013554",
          "status": "completed"
        },
        "tags": []
      },
      "execution_count": 85,
      "outputs": []
    },
    {
      "cell_type": "code",
      "source": [
        "# tokenizer.decode([2140])"
      ],
      "metadata": {
        "execution": {
          "iopub.execute_input": "2022-01-03T10:00:19.481481Z",
          "iopub.status.busy": "2022-01-03T10:00:19.480360Z",
          "iopub.status.idle": "2022-01-03T10:00:19.483582Z",
          "shell.execute_reply": "2022-01-03T10:00:19.482998Z",
          "shell.execute_reply.started": "2022-01-03T09:12:15.639344Z"
        },
        "id": "D8cpF5pr-wP_",
        "papermill": {
          "duration": 0.485568,
          "end_time": "2022-01-03T10:00:19.483723",
          "exception": false,
          "start_time": "2022-01-03T10:00:18.998155",
          "status": "completed"
        },
        "tags": []
      },
      "execution_count": 86,
      "outputs": []
    },
    {
      "cell_type": "markdown",
      "source": [
        "### 2.3 Rút trích text trên tập test:"
      ],
      "metadata": {
        "id": "qLcsECC8GwG6",
        "papermill": {
          "duration": 0.489078,
          "end_time": "2022-01-03T10:00:20.502858",
          "exception": false,
          "start_time": "2022-01-03T10:00:20.013780",
          "status": "completed"
        },
        "tags": []
      }
    },
    {
      "cell_type": "code",
      "source": [
        "\n",
        "test_df"
      ],
      "metadata": {
        "execution": {
          "iopub.execute_input": "2022-01-03T10:00:21.522528Z",
          "iopub.status.busy": "2022-01-03T10:00:21.521801Z",
          "iopub.status.idle": "2022-01-03T10:00:21.527720Z",
          "shell.execute_reply": "2022-01-03T10:00:21.528199Z",
          "shell.execute_reply.started": "2022-01-03T09:12:15.647524Z"
        },
        "id": "044ff513",
        "papermill": {
          "duration": 0.519203,
          "end_time": "2022-01-03T10:00:21.528377",
          "exception": false,
          "start_time": "2022-01-03T10:00:21.009174",
          "status": "completed"
        },
        "tags": [],
        "colab": {
          "base_uri": "https://localhost:8080/",
          "height": 423
        },
        "outputId": "4674f091-f38b-444f-fac1-404b9a05cbb3"
      },
      "execution_count": 87,
      "outputs": [
        {
          "output_type": "execute_result",
          "data": {
            "text/html": [
              "\n",
              "  <div id=\"df-e1bb05fe-bd00-4dc5-beef-6ecc66fe298b\">\n",
              "    <div class=\"colab-df-container\">\n",
              "      <div>\n",
              "<style scoped>\n",
              "    .dataframe tbody tr th:only-of-type {\n",
              "        vertical-align: middle;\n",
              "    }\n",
              "\n",
              "    .dataframe tbody tr th {\n",
              "        vertical-align: top;\n",
              "    }\n",
              "\n",
              "    .dataframe thead th {\n",
              "        text-align: right;\n",
              "    }\n",
              "</style>\n",
              "<table border=\"1\" class=\"dataframe\">\n",
              "  <thead>\n",
              "    <tr style=\"text-align: right;\">\n",
              "      <th></th>\n",
              "      <th>textID</th>\n",
              "      <th>text</th>\n",
              "      <th>sentiment</th>\n",
              "    </tr>\n",
              "  </thead>\n",
              "  <tbody>\n",
              "    <tr>\n",
              "      <th>0</th>\n",
              "      <td>f87dea47db</td>\n",
              "      <td>Last session of the day  http://twitpic.com/67ezh</td>\n",
              "      <td>neutral</td>\n",
              "    </tr>\n",
              "    <tr>\n",
              "      <th>1</th>\n",
              "      <td>96d74cb729</td>\n",
              "      <td>Shanghai is also really exciting (precisely -- skyscrapers galore). Good tweeps in China:  (SH)  (BJ).</td>\n",
              "      <td>positive</td>\n",
              "    </tr>\n",
              "    <tr>\n",
              "      <th>2</th>\n",
              "      <td>eee518ae67</td>\n",
              "      <td>Recession hit Veronique Branquinho, she has to quit her company, such a shame!</td>\n",
              "      <td>negative</td>\n",
              "    </tr>\n",
              "    <tr>\n",
              "      <th>3</th>\n",
              "      <td>01082688c6</td>\n",
              "      <td>happy bday!</td>\n",
              "      <td>positive</td>\n",
              "    </tr>\n",
              "    <tr>\n",
              "      <th>4</th>\n",
              "      <td>33987a8ee5</td>\n",
              "      <td>http://twitpic.com/4w75p - I like it!!</td>\n",
              "      <td>positive</td>\n",
              "    </tr>\n",
              "    <tr>\n",
              "      <th>...</th>\n",
              "      <td>...</td>\n",
              "      <td>...</td>\n",
              "      <td>...</td>\n",
              "    </tr>\n",
              "    <tr>\n",
              "      <th>3529</th>\n",
              "      <td>e5f0e6ef4b</td>\n",
              "      <td>its at 3 am, im very tired but i can`t sleep  but i try it</td>\n",
              "      <td>negative</td>\n",
              "    </tr>\n",
              "    <tr>\n",
              "      <th>3530</th>\n",
              "      <td>416863ce47</td>\n",
              "      <td>All alone in this old house again.  Thanks for the net which keeps me alive and kicking! Whoever invented the net, i wanna kiss your hair!</td>\n",
              "      <td>positive</td>\n",
              "    </tr>\n",
              "    <tr>\n",
              "      <th>3531</th>\n",
              "      <td>6332da480c</td>\n",
              "      <td>I know what you mean. My little dog is sinking into depression... he wants to move someplace tropical</td>\n",
              "      <td>negative</td>\n",
              "    </tr>\n",
              "    <tr>\n",
              "      <th>3532</th>\n",
              "      <td>df1baec676</td>\n",
              "      <td>_sutra what is your next youtube video gonna be about? I love your videos!</td>\n",
              "      <td>positive</td>\n",
              "    </tr>\n",
              "    <tr>\n",
              "      <th>3533</th>\n",
              "      <td>469e15c5a8</td>\n",
              "      <td>http://twitpic.com/4woj2 - omgssh  ang cute ng bby.!</td>\n",
              "      <td>positive</td>\n",
              "    </tr>\n",
              "  </tbody>\n",
              "</table>\n",
              "<p>3534 rows × 3 columns</p>\n",
              "</div>\n",
              "      <button class=\"colab-df-convert\" onclick=\"convertToInteractive('df-e1bb05fe-bd00-4dc5-beef-6ecc66fe298b')\"\n",
              "              title=\"Convert this dataframe to an interactive table.\"\n",
              "              style=\"display:none;\">\n",
              "        \n",
              "  <svg xmlns=\"http://www.w3.org/2000/svg\" height=\"24px\"viewBox=\"0 0 24 24\"\n",
              "       width=\"24px\">\n",
              "    <path d=\"M0 0h24v24H0V0z\" fill=\"none\"/>\n",
              "    <path d=\"M18.56 5.44l.94 2.06.94-2.06 2.06-.94-2.06-.94-.94-2.06-.94 2.06-2.06.94zm-11 1L8.5 8.5l.94-2.06 2.06-.94-2.06-.94L8.5 2.5l-.94 2.06-2.06.94zm10 10l.94 2.06.94-2.06 2.06-.94-2.06-.94-.94-2.06-.94 2.06-2.06.94z\"/><path d=\"M17.41 7.96l-1.37-1.37c-.4-.4-.92-.59-1.43-.59-.52 0-1.04.2-1.43.59L10.3 9.45l-7.72 7.72c-.78.78-.78 2.05 0 2.83L4 21.41c.39.39.9.59 1.41.59.51 0 1.02-.2 1.41-.59l7.78-7.78 2.81-2.81c.8-.78.8-2.07 0-2.86zM5.41 20L4 18.59l7.72-7.72 1.47 1.35L5.41 20z\"/>\n",
              "  </svg>\n",
              "      </button>\n",
              "      \n",
              "  <style>\n",
              "    .colab-df-container {\n",
              "      display:flex;\n",
              "      flex-wrap:wrap;\n",
              "      gap: 12px;\n",
              "    }\n",
              "\n",
              "    .colab-df-convert {\n",
              "      background-color: #E8F0FE;\n",
              "      border: none;\n",
              "      border-radius: 50%;\n",
              "      cursor: pointer;\n",
              "      display: none;\n",
              "      fill: #1967D2;\n",
              "      height: 32px;\n",
              "      padding: 0 0 0 0;\n",
              "      width: 32px;\n",
              "    }\n",
              "\n",
              "    .colab-df-convert:hover {\n",
              "      background-color: #E2EBFA;\n",
              "      box-shadow: 0px 1px 2px rgba(60, 64, 67, 0.3), 0px 1px 3px 1px rgba(60, 64, 67, 0.15);\n",
              "      fill: #174EA6;\n",
              "    }\n",
              "\n",
              "    [theme=dark] .colab-df-convert {\n",
              "      background-color: #3B4455;\n",
              "      fill: #D2E3FC;\n",
              "    }\n",
              "\n",
              "    [theme=dark] .colab-df-convert:hover {\n",
              "      background-color: #434B5C;\n",
              "      box-shadow: 0px 1px 3px 1px rgba(0, 0, 0, 0.15);\n",
              "      filter: drop-shadow(0px 1px 2px rgba(0, 0, 0, 0.3));\n",
              "      fill: #FFFFFF;\n",
              "    }\n",
              "  </style>\n",
              "\n",
              "      <script>\n",
              "        const buttonEl =\n",
              "          document.querySelector('#df-e1bb05fe-bd00-4dc5-beef-6ecc66fe298b button.colab-df-convert');\n",
              "        buttonEl.style.display =\n",
              "          google.colab.kernel.accessAllowed ? 'block' : 'none';\n",
              "\n",
              "        async function convertToInteractive(key) {\n",
              "          const element = document.querySelector('#df-e1bb05fe-bd00-4dc5-beef-6ecc66fe298b');\n",
              "          const dataTable =\n",
              "            await google.colab.kernel.invokeFunction('convertToInteractive',\n",
              "                                                     [key], {});\n",
              "          if (!dataTable) return;\n",
              "\n",
              "          const docLinkHtml = 'Like what you see? Visit the ' +\n",
              "            '<a target=\"_blank\" href=https://colab.research.google.com/notebooks/data_table.ipynb>data table notebook</a>'\n",
              "            + ' to learn more about interactive tables.';\n",
              "          element.innerHTML = '';\n",
              "          dataTable['output_type'] = 'display_data';\n",
              "          await google.colab.output.renderOutput(dataTable, element);\n",
              "          const docLink = document.createElement('div');\n",
              "          docLink.innerHTML = docLinkHtml;\n",
              "          element.appendChild(docLink);\n",
              "        }\n",
              "      </script>\n",
              "    </div>\n",
              "  </div>\n",
              "  "
            ],
            "text/plain": [
              "          textID  ... sentiment\n",
              "0     f87dea47db  ...   neutral\n",
              "1     96d74cb729  ...  positive\n",
              "2     eee518ae67  ...  negative\n",
              "3     01082688c6  ...  positive\n",
              "4     33987a8ee5  ...  positive\n",
              "...          ...  ...       ...\n",
              "3529  e5f0e6ef4b  ...  negative\n",
              "3530  416863ce47  ...  positive\n",
              "3531  6332da480c  ...  negative\n",
              "3532  df1baec676  ...  positive\n",
              "3533  469e15c5a8  ...  positive\n",
              "\n",
              "[3534 rows x 3 columns]"
            ]
          },
          "metadata": {},
          "execution_count": 87
        }
      ]
    },
    {
      "cell_type": "code",
      "source": [
        "test_preprocessed,cleaned_test_df = preprocess_tweets(test_df,_stem = True)\n",
        "test_preprocessed_dl,cleaned_test_df_dl =  preprocess_tweets(test_df,_stem = False)"
      ],
      "metadata": {
        "execution": {
          "iopub.execute_input": "2022-01-03T10:00:22.531652Z",
          "iopub.status.busy": "2022-01-03T10:00:22.525945Z",
          "iopub.status.idle": "2022-01-03T10:00:32.073547Z",
          "shell.execute_reply": "2022-01-03T10:00:32.072427Z",
          "shell.execute_reply.started": "2022-01-03T09:21:50.636582Z"
        },
        "id": "4b0c227d",
        "papermill": {
          "duration": 10.058458,
          "end_time": "2022-01-03T10:00:32.073720",
          "exception": false,
          "start_time": "2022-01-03T10:00:22.015262",
          "status": "completed"
        },
        "tags": []
      },
      "execution_count": 88,
      "outputs": []
    },
    {
      "cell_type": "code",
      "source": [
        "# Tập test\n",
        "MAX_LEN=92\n",
        "count = cleaned_test_df_dl.shape[0]\n",
        "input_ids_test = np.zeros((count,MAX_LEN),dtype='int32')\n",
        "attention_mask_test = np.zeros((count,MAX_LEN),dtype='int32')\n",
        "start_tokens_test = np.zeros((count,MAX_LEN),dtype='int32')\n",
        "end_tokens_test = np.zeros((count,MAX_LEN),dtype='int32')"
      ],
      "metadata": {
        "execution": {
          "iopub.execute_input": "2022-01-03T10:00:33.059716Z",
          "iopub.status.busy": "2022-01-03T10:00:33.058480Z",
          "iopub.status.idle": "2022-01-03T10:00:33.064278Z",
          "shell.execute_reply": "2022-01-03T10:00:33.064777Z",
          "shell.execute_reply.started": "2022-01-03T09:22:20.934375Z"
        },
        "id": "loRllYvLX6Wf",
        "papermill": {
          "duration": 0.498915,
          "end_time": "2022-01-03T10:00:33.064936",
          "exception": false,
          "start_time": "2022-01-03T10:00:32.566021",
          "status": "completed"
        },
        "tags": []
      },
      "execution_count": 89,
      "outputs": []
    },
    {
      "cell_type": "code",
      "source": [
        "x_test_bert = cleaned_test_df_dl.copy()\n",
        "x_test_bert.sentiment = x_test_bert.sentiment.map({0:'neutral',1:'positive',-1:'negative'})"
      ],
      "metadata": {
        "execution": {
          "iopub.execute_input": "2022-01-03T10:00:34.040380Z",
          "iopub.status.busy": "2022-01-03T10:00:34.039153Z",
          "iopub.status.idle": "2022-01-03T10:00:34.041625Z",
          "shell.execute_reply": "2022-01-03T10:00:34.042166Z",
          "shell.execute_reply.started": "2022-01-03T09:22:27.465427Z"
        },
        "id": "diw7nbsVX6Wf",
        "papermill": {
          "duration": 0.501202,
          "end_time": "2022-01-03T10:00:34.042356",
          "exception": false,
          "start_time": "2022-01-03T10:00:33.541154",
          "status": "completed"
        },
        "tags": []
      },
      "execution_count": 90,
      "outputs": []
    },
    {
      "cell_type": "code",
      "source": [
        "\n",
        "for i,each in tqdm(enumerate(x_test_bert.values)):\n",
        "\n",
        "  val = tokenizer.encode_plus(each[3],each[2],add_special_tokens=True,max_length=92,return_attention_mask=True,pad_to_max_length=True,return_tensors='tf',verbose=False)\n",
        "  input_ids_test[i] = val['input_ids']\n",
        "  attention_mask_test[i] = val['attention_mask']\n",
        "  "
      ],
      "metadata": {
        "execution": {
          "iopub.execute_input": "2022-01-03T10:00:35.005548Z",
          "iopub.status.busy": "2022-01-03T10:00:35.004549Z",
          "iopub.status.idle": "2022-01-03T10:00:38.735336Z",
          "shell.execute_reply": "2022-01-03T10:00:38.734755Z",
          "shell.execute_reply.started": "2022-01-03T09:22:46.404489Z"
        },
        "id": "ke5l9lODX6Wf",
        "papermill": {
          "duration": 4.21859,
          "end_time": "2022-01-03T10:00:38.735495",
          "exception": false,
          "start_time": "2022-01-03T10:00:34.516905",
          "status": "completed"
        },
        "tags": [],
        "colab": {
          "base_uri": "https://localhost:8080/"
        },
        "outputId": "42efdce5-64a3-42a6-9f14-297378a623f6"
      },
      "execution_count": 91,
      "outputs": [
        {
          "output_type": "stream",
          "name": "stderr",
          "text": [
            "3534it [00:03, 1003.70it/s]\n"
          ]
        }
      ]
    },
    {
      "cell_type": "code",
      "source": [
        "input_ids_test.shape,attention_mask_test.shape"
      ],
      "metadata": {
        "execution": {
          "iopub.execute_input": "2022-01-03T10:00:39.762940Z",
          "iopub.status.busy": "2022-01-03T10:00:39.762096Z",
          "iopub.status.idle": "2022-01-03T10:00:39.765479Z",
          "shell.execute_reply": "2022-01-03T10:00:39.766043Z",
          "shell.execute_reply.started": "2022-01-03T09:22:51.408003Z"
        },
        "id": "KPQGMpY7X6Wf",
        "papermill": {
          "duration": 0.524861,
          "end_time": "2022-01-03T10:00:39.766213",
          "exception": false,
          "start_time": "2022-01-03T10:00:39.241352",
          "status": "completed"
        },
        "tags": [],
        "colab": {
          "base_uri": "https://localhost:8080/"
        },
        "outputId": "6ff9b86d-7ea7-455e-f1a4-dea6a35134a3"
      },
      "execution_count": 92,
      "outputs": [
        {
          "output_type": "execute_result",
          "data": {
            "text/plain": [
              "((3534, 92), (3534, 92))"
            ]
          },
          "metadata": {},
          "execution_count": 92
        }
      ]
    },
    {
      "cell_type": "code",
      "source": [
        "test_input = (input_ids_test, attention_mask_test)"
      ],
      "metadata": {
        "execution": {
          "iopub.execute_input": "2022-01-03T10:00:40.760791Z",
          "iopub.status.busy": "2022-01-03T10:00:40.759904Z",
          "iopub.status.idle": "2022-01-03T10:00:40.762998Z",
          "shell.execute_reply": "2022-01-03T10:00:40.762520Z",
          "shell.execute_reply.started": "2022-01-03T09:22:54.012554Z"
        },
        "id": "qtd2gAPrX6Wg",
        "papermill": {
          "duration": 0.503957,
          "end_time": "2022-01-03T10:00:40.763121",
          "exception": false,
          "start_time": "2022-01-03T10:00:40.259164",
          "status": "completed"
        },
        "tags": []
      },
      "execution_count": 93,
      "outputs": []
    },
    {
      "cell_type": "code",
      "source": [
        "start_pred_test , end_pred_test = model.predict((test_input))"
      ],
      "metadata": {
        "execution": {
          "iopub.execute_input": "2022-01-03T10:00:41.792683Z",
          "iopub.status.busy": "2022-01-03T10:00:41.791548Z",
          "iopub.status.idle": "2022-01-03T10:01:02.305372Z",
          "shell.execute_reply": "2022-01-03T10:01:02.304322Z",
          "shell.execute_reply.started": "2022-01-03T09:22:59.651514Z"
        },
        "id": "WWYFrjKiX6Wg",
        "papermill": {
          "duration": 21.030884,
          "end_time": "2022-01-03T10:01:02.305529",
          "exception": false,
          "start_time": "2022-01-03T10:00:41.274645",
          "status": "completed"
        },
        "tags": []
      },
      "execution_count": 94,
      "outputs": []
    },
    {
      "cell_type": "code",
      "source": [
        "test_pred_values = []\n",
        "for i in tqdm(range(start_pred_test.shape[0])):\n",
        "  s = np.argmax(start_pred_test[i,])\n",
        "  e = np.argmax(end_pred_test[i,])\n",
        "  text1 = \" \"+\" \".join(x_test_bert['Cleaned_texts'].values[i].split())\n",
        "  enc = tokenizer.encode(text1)\n",
        "  st = tokenizer.decode(enc[(s-2):(e-1)])\n",
        "  test_pred_values.append(st)\n",
        "  #s = tf.math.argmax(start_pred_train[i],axis=0).numpy()\n",
        "  #e = tf.math.argmax(end_pred_train[i],axis=0).numpy()\n",
        "  #strt.append(s)\n",
        "  #end.append(e)\n"
      ],
      "metadata": {
        "execution": {
          "iopub.execute_input": "2022-01-03T10:01:03.314402Z",
          "iopub.status.busy": "2022-01-03T10:01:03.313317Z",
          "iopub.status.idle": "2022-01-03T10:01:05.944217Z",
          "shell.execute_reply": "2022-01-03T10:01:05.944982Z",
          "shell.execute_reply.started": "2022-01-03T09:23:20.164153Z"
        },
        "id": "1jmcnqznX6Wg",
        "papermill": {
          "duration": 3.132232,
          "end_time": "2022-01-03T10:01:05.945144",
          "exception": false,
          "start_time": "2022-01-03T10:01:02.812912",
          "status": "completed"
        },
        "tags": [],
        "colab": {
          "base_uri": "https://localhost:8080/"
        },
        "outputId": "da42f5e9-096c-47bf-c41d-24a98d26a42a"
      },
      "execution_count": 95,
      "outputs": [
        {
          "output_type": "stream",
          "name": "stderr",
          "text": [
            "100%|██████████| 3534/3534 [00:02<00:00, 1337.49it/s]\n"
          ]
        }
      ]
    },
    {
      "cell_type": "code",
      "source": [
        "# preds_extracted_text = model_full.extract(test_preprocessed)\n",
        "# preds_extracted_text[0:5]"
      ],
      "metadata": {
        "execution": {
          "iopub.execute_input": "2022-01-03T10:01:06.986896Z",
          "iopub.status.busy": "2022-01-03T10:01:06.985922Z",
          "iopub.status.idle": "2022-01-03T10:01:06.989240Z",
          "shell.execute_reply": "2022-01-03T10:01:06.988590Z",
          "shell.execute_reply.started": "2022-01-03T09:14:25.098420Z"
        },
        "id": "WGJoIHWiGP-N",
        "papermill": {
          "duration": 0.522565,
          "end_time": "2022-01-03T10:01:06.989443",
          "exception": false,
          "start_time": "2022-01-03T10:01:06.466878",
          "status": "completed"
        },
        "tags": []
      },
      "execution_count": 96,
      "outputs": []
    },
    {
      "cell_type": "code",
      "source": [
        "preds_test = x_test_bert.copy()\n",
        "preds_test['preds_text'] =  test_pred_values"
      ],
      "metadata": {
        "execution": {
          "iopub.execute_input": "2022-01-03T10:01:08.022190Z",
          "iopub.status.busy": "2022-01-03T10:01:08.020924Z",
          "iopub.status.idle": "2022-01-03T10:01:08.024780Z",
          "shell.execute_reply": "2022-01-03T10:01:08.025452Z",
          "shell.execute_reply.started": "2022-01-03T09:24:39.304065Z"
        },
        "id": "e4nAIlsRX6Wg",
        "papermill": {
          "duration": 0.522131,
          "end_time": "2022-01-03T10:01:08.025628",
          "exception": false,
          "start_time": "2022-01-03T10:01:07.503497",
          "status": "completed"
        },
        "tags": []
      },
      "execution_count": 97,
      "outputs": []
    },
    {
      "cell_type": "code",
      "source": [
        "test_preds_text = preds_test.preds_text.str.split().to_list()\n",
        "test_selected_text = tse_st.Map_Extracted_DL(test_preprocessed_dl,test_preds_text)"
      ],
      "metadata": {
        "execution": {
          "iopub.execute_input": "2022-01-03T10:01:09.084288Z",
          "iopub.status.busy": "2022-01-03T10:01:09.081755Z",
          "iopub.status.idle": "2022-01-03T10:01:09.087842Z",
          "shell.execute_reply": "2022-01-03T10:01:09.086849Z",
          "shell.execute_reply.started": "2022-01-03T09:24:42.993917Z"
        },
        "id": "7fjSVrF2X6Wg",
        "papermill": {
          "duration": 0.561825,
          "end_time": "2022-01-03T10:01:09.088005",
          "exception": false,
          "start_time": "2022-01-03T10:01:08.526180",
          "status": "completed"
        },
        "tags": []
      },
      "execution_count": 98,
      "outputs": []
    },
    {
      "cell_type": "code",
      "source": [
        "preds_extracted_text_stat = tse_st.transform(test_preprocessed)\n",
        "preds_extracted_text_stat[0:5]"
      ],
      "metadata": {
        "execution": {
          "iopub.execute_input": "2022-01-03T10:01:10.434410Z",
          "iopub.status.busy": "2022-01-03T10:01:10.433432Z",
          "iopub.status.idle": "2022-01-03T10:01:10.546020Z",
          "shell.execute_reply": "2022-01-03T10:01:10.545325Z",
          "shell.execute_reply.started": "2022-01-03T09:24:55.035528Z"
        },
        "id": "AV7l9NFtX6Wg",
        "papermill": {
          "duration": 0.626593,
          "end_time": "2022-01-03T10:01:10.546186",
          "exception": false,
          "start_time": "2022-01-03T10:01:09.919593",
          "status": "completed"
        },
        "tags": [],
        "colab": {
          "base_uri": "https://localhost:8080/"
        },
        "outputId": "6ca51e6b-00ad-44cc-cb22-c71975da5c96"
      },
      "execution_count": 99,
      "outputs": [
        {
          "output_type": "execute_result",
          "data": {
            "text/plain": [
              "['Last session of the day http://twitpic.com/67ezh',\n",
              " 'exciting Good',\n",
              " 'Recession shame!',\n",
              " 'happy',\n",
              " '']"
            ]
          },
          "metadata": {},
          "execution_count": 99
        }
      ]
    },
    {
      "cell_type": "code",
      "source": [
        "test_dl_df = pd.DataFrame(data ={'clean_text':cleaned_test_df_dl.Cleaned_texts,'selected_text':test_selected_text ,'sentiment':cleaned_test_df.sentiment})\n",
        "test_stat_df =  pd.DataFrame(data ={'clean_text':cleaned_test_df.Cleaned_texts,'selected_text':preds_extracted_text_stat ,'sentiment':cleaned_test_df.sentiment})\n",
        "test_integrate_df = test_dl_df.copy()\n",
        "#fillna with dl\n",
        "test_integrate_stat = test_stat_df.copy()\n",
        "test_null_df = test_integrate_stat.loc[test_integrate_stat.selected_text.str.split().apply(len)==0,:].index\n",
        "for i in list(test_null_df):\n",
        "   test_integrate_stat.loc[i,'selected_text'] = test_dl_df.loc[i,'selected_text']"
      ],
      "metadata": {
        "execution": {
          "iopub.execute_input": "2022-01-03T10:01:11.593273Z",
          "iopub.status.busy": "2022-01-03T10:01:11.592190Z",
          "iopub.status.idle": "2022-01-03T10:01:11.738165Z",
          "shell.execute_reply": "2022-01-03T10:01:11.737507Z",
          "shell.execute_reply.started": "2022-01-03T09:47:11.561953Z"
        },
        "id": "NzKZMLJKX6Wh",
        "papermill": {
          "duration": 0.665761,
          "end_time": "2022-01-03T10:01:11.738334",
          "exception": false,
          "start_time": "2022-01-03T10:01:11.072573",
          "status": "completed"
        },
        "tags": []
      },
      "execution_count": 100,
      "outputs": []
    },
    {
      "cell_type": "code",
      "source": [
        "# test_pos_df = test_dl_df.loc[test_dl_df.sentiment == 1,:].index\n",
        "# for i in list(test_pos_df):\n",
        "#     test_integrate_stat.loc[i,'selected_text'] = test_dl_df.loc[i,'selected_text']\n",
        "    \n",
        "# test_neg_df = test_dl_df.loc[test_dl_df.sentiment == -1,:].index\n",
        "# for i in list(test_neg_df):\n",
        "#     test_integrate_stat.loc[i,'selected_text'] = test_dl_df.loc[i,'selected_text']"
      ],
      "metadata": {
        "execution": {
          "iopub.execute_input": "2022-01-03T10:01:12.767788Z",
          "iopub.status.busy": "2022-01-03T10:01:12.766790Z",
          "iopub.status.idle": "2022-01-03T10:01:12.769459Z",
          "shell.execute_reply": "2022-01-03T10:01:12.770031Z",
          "shell.execute_reply.started": "2022-01-03T09:30:09.217782Z"
        },
        "papermill": {
          "duration": 0.520522,
          "end_time": "2022-01-03T10:01:12.770227",
          "exception": false,
          "start_time": "2022-01-03T10:01:12.249705",
          "status": "completed"
        },
        "tags": [],
        "id": "XXAGiQ_s5HGs"
      },
      "execution_count": 101,
      "outputs": []
    },
    {
      "cell_type": "code",
      "source": [
        " test_integrate_stat"
      ],
      "metadata": {
        "execution": {
          "iopub.execute_input": "2022-01-03T10:01:13.817763Z",
          "iopub.status.busy": "2022-01-03T10:01:13.816879Z",
          "iopub.status.idle": "2022-01-03T10:01:13.822718Z",
          "shell.execute_reply": "2022-01-03T10:01:13.822229Z",
          "shell.execute_reply.started": "2022-01-03T09:47:15.572270Z"
        },
        "papermill": {
          "duration": 0.529345,
          "end_time": "2022-01-03T10:01:13.822849",
          "exception": false,
          "start_time": "2022-01-03T10:01:13.293504",
          "status": "completed"
        },
        "tags": [],
        "colab": {
          "base_uri": "https://localhost:8080/",
          "height": 423
        },
        "id": "Vc_hrjGt5HGs",
        "outputId": "ef1281d6-1be9-4404-9c4c-215270e17b9a"
      },
      "execution_count": 102,
      "outputs": [
        {
          "output_type": "execute_result",
          "data": {
            "text/html": [
              "\n",
              "  <div id=\"df-9b71857a-e35b-4d86-9193-6505fc2b084e\">\n",
              "    <div class=\"colab-df-container\">\n",
              "      <div>\n",
              "<style scoped>\n",
              "    .dataframe tbody tr th:only-of-type {\n",
              "        vertical-align: middle;\n",
              "    }\n",
              "\n",
              "    .dataframe tbody tr th {\n",
              "        vertical-align: top;\n",
              "    }\n",
              "\n",
              "    .dataframe thead th {\n",
              "        text-align: right;\n",
              "    }\n",
              "</style>\n",
              "<table border=\"1\" class=\"dataframe\">\n",
              "  <thead>\n",
              "    <tr style=\"text-align: right;\">\n",
              "      <th></th>\n",
              "      <th>clean_text</th>\n",
              "      <th>selected_text</th>\n",
              "      <th>sentiment</th>\n",
              "    </tr>\n",
              "  </thead>\n",
              "  <tbody>\n",
              "    <tr>\n",
              "      <th>0</th>\n",
              "      <td>last session of the day URL</td>\n",
              "      <td>Last session of the day http://twitpic.com/67ezh</td>\n",
              "      <td>0</td>\n",
              "    </tr>\n",
              "    <tr>\n",
              "      <th>1</th>\n",
              "      <td>shanghai is also realli excit precis Special skyscrap galor good twep in china sh bj</td>\n",
              "      <td>exciting Good</td>\n",
              "      <td>1</td>\n",
              "    </tr>\n",
              "    <tr>\n",
              "      <th>2</th>\n",
              "      <td>recess hit veroniqu branquinho she ha to quit her compani such a shame</td>\n",
              "      <td>Recession shame!</td>\n",
              "      <td>-1</td>\n",
              "    </tr>\n",
              "    <tr>\n",
              "      <th>3</th>\n",
              "      <td>happi bday</td>\n",
              "      <td>happy</td>\n",
              "      <td>1</td>\n",
              "    </tr>\n",
              "    <tr>\n",
              "      <th>4</th>\n",
              "      <td>URL Special i like it</td>\n",
              "      <td>I like it!!</td>\n",
              "      <td>1</td>\n",
              "    </tr>\n",
              "    <tr>\n",
              "      <th>...</th>\n",
              "      <td>...</td>\n",
              "      <td>...</td>\n",
              "      <td>...</td>\n",
              "    </tr>\n",
              "    <tr>\n",
              "      <th>3529</th>\n",
              "      <td>it at NUMBER am im veri tire but i cant sleep but i tri it</td>\n",
              "      <td>tired</td>\n",
              "      <td>-1</td>\n",
              "    </tr>\n",
              "    <tr>\n",
              "      <th>3530</th>\n",
              "      <td>all alon in thi old hous again thank for the net which keep me aliv and kick whoever invent the net i wana kiss your hair</td>\n",
              "      <td>Thanks kiss</td>\n",
              "      <td>1</td>\n",
              "    </tr>\n",
              "    <tr>\n",
              "      <th>3531</th>\n",
              "      <td>i know what you mean my littl dog is sink into depress he want to move someplac tropic</td>\n",
              "      <td>depression...</td>\n",
              "      <td>-1</td>\n",
              "    </tr>\n",
              "    <tr>\n",
              "      <th>3532</th>\n",
              "      <td>sutra what is your next youtub video gona be about i love your video</td>\n",
              "      <td>love</td>\n",
              "      <td>1</td>\n",
              "    </tr>\n",
              "    <tr>\n",
              "      <th>3533</th>\n",
              "      <td>URL Special omgsh ang cute ng by</td>\n",
              "      <td>cute</td>\n",
              "      <td>1</td>\n",
              "    </tr>\n",
              "  </tbody>\n",
              "</table>\n",
              "<p>3534 rows × 3 columns</p>\n",
              "</div>\n",
              "      <button class=\"colab-df-convert\" onclick=\"convertToInteractive('df-9b71857a-e35b-4d86-9193-6505fc2b084e')\"\n",
              "              title=\"Convert this dataframe to an interactive table.\"\n",
              "              style=\"display:none;\">\n",
              "        \n",
              "  <svg xmlns=\"http://www.w3.org/2000/svg\" height=\"24px\"viewBox=\"0 0 24 24\"\n",
              "       width=\"24px\">\n",
              "    <path d=\"M0 0h24v24H0V0z\" fill=\"none\"/>\n",
              "    <path d=\"M18.56 5.44l.94 2.06.94-2.06 2.06-.94-2.06-.94-.94-2.06-.94 2.06-2.06.94zm-11 1L8.5 8.5l.94-2.06 2.06-.94-2.06-.94L8.5 2.5l-.94 2.06-2.06.94zm10 10l.94 2.06.94-2.06 2.06-.94-2.06-.94-.94-2.06-.94 2.06-2.06.94z\"/><path d=\"M17.41 7.96l-1.37-1.37c-.4-.4-.92-.59-1.43-.59-.52 0-1.04.2-1.43.59L10.3 9.45l-7.72 7.72c-.78.78-.78 2.05 0 2.83L4 21.41c.39.39.9.59 1.41.59.51 0 1.02-.2 1.41-.59l7.78-7.78 2.81-2.81c.8-.78.8-2.07 0-2.86zM5.41 20L4 18.59l7.72-7.72 1.47 1.35L5.41 20z\"/>\n",
              "  </svg>\n",
              "      </button>\n",
              "      \n",
              "  <style>\n",
              "    .colab-df-container {\n",
              "      display:flex;\n",
              "      flex-wrap:wrap;\n",
              "      gap: 12px;\n",
              "    }\n",
              "\n",
              "    .colab-df-convert {\n",
              "      background-color: #E8F0FE;\n",
              "      border: none;\n",
              "      border-radius: 50%;\n",
              "      cursor: pointer;\n",
              "      display: none;\n",
              "      fill: #1967D2;\n",
              "      height: 32px;\n",
              "      padding: 0 0 0 0;\n",
              "      width: 32px;\n",
              "    }\n",
              "\n",
              "    .colab-df-convert:hover {\n",
              "      background-color: #E2EBFA;\n",
              "      box-shadow: 0px 1px 2px rgba(60, 64, 67, 0.3), 0px 1px 3px 1px rgba(60, 64, 67, 0.15);\n",
              "      fill: #174EA6;\n",
              "    }\n",
              "\n",
              "    [theme=dark] .colab-df-convert {\n",
              "      background-color: #3B4455;\n",
              "      fill: #D2E3FC;\n",
              "    }\n",
              "\n",
              "    [theme=dark] .colab-df-convert:hover {\n",
              "      background-color: #434B5C;\n",
              "      box-shadow: 0px 1px 3px 1px rgba(0, 0, 0, 0.15);\n",
              "      filter: drop-shadow(0px 1px 2px rgba(0, 0, 0, 0.3));\n",
              "      fill: #FFFFFF;\n",
              "    }\n",
              "  </style>\n",
              "\n",
              "      <script>\n",
              "        const buttonEl =\n",
              "          document.querySelector('#df-9b71857a-e35b-4d86-9193-6505fc2b084e button.colab-df-convert');\n",
              "        buttonEl.style.display =\n",
              "          google.colab.kernel.accessAllowed ? 'block' : 'none';\n",
              "\n",
              "        async function convertToInteractive(key) {\n",
              "          const element = document.querySelector('#df-9b71857a-e35b-4d86-9193-6505fc2b084e');\n",
              "          const dataTable =\n",
              "            await google.colab.kernel.invokeFunction('convertToInteractive',\n",
              "                                                     [key], {});\n",
              "          if (!dataTable) return;\n",
              "\n",
              "          const docLinkHtml = 'Like what you see? Visit the ' +\n",
              "            '<a target=\"_blank\" href=https://colab.research.google.com/notebooks/data_table.ipynb>data table notebook</a>'\n",
              "            + ' to learn more about interactive tables.';\n",
              "          element.innerHTML = '';\n",
              "          dataTable['output_type'] = 'display_data';\n",
              "          await google.colab.output.renderOutput(dataTable, element);\n",
              "          const docLink = document.createElement('div');\n",
              "          docLink.innerHTML = docLinkHtml;\n",
              "          element.appendChild(docLink);\n",
              "        }\n",
              "      </script>\n",
              "    </div>\n",
              "  </div>\n",
              "  "
            ],
            "text/plain": [
              "                                                                                                                     clean_text  ... sentiment\n",
              "0                                                                                                   last session of the day URL  ...         0\n",
              "1                                          shanghai is also realli excit precis Special skyscrap galor good twep in china sh bj  ...         1\n",
              "2                                                        recess hit veroniqu branquinho she ha to quit her compani such a shame  ...        -1\n",
              "3                                                                                                                    happi bday  ...         1\n",
              "4                                                                                                         URL Special i like it  ...         1\n",
              "...                                                                                                                         ...  ...       ...\n",
              "3529                                                                 it at NUMBER am im veri tire but i cant sleep but i tri it  ...        -1\n",
              "3530  all alon in thi old hous again thank for the net which keep me aliv and kick whoever invent the net i wana kiss your hair  ...         1\n",
              "3531                                     i know what you mean my littl dog is sink into depress he want to move someplac tropic  ...        -1\n",
              "3532                                                       sutra what is your next youtub video gona be about i love your video  ...         1\n",
              "3533                                                                                           URL Special omgsh ang cute ng by  ...         1\n",
              "\n",
              "[3534 rows x 3 columns]"
            ]
          },
          "metadata": {},
          "execution_count": 102
        }
      ]
    },
    {
      "cell_type": "code",
      "source": [
        "final_test_selected = test_integrate_stat.selected_text"
      ],
      "metadata": {
        "execution": {
          "iopub.execute_input": "2022-01-03T10:01:14.841574Z",
          "iopub.status.busy": "2022-01-03T10:01:14.840644Z",
          "iopub.status.idle": "2022-01-03T10:01:14.844229Z",
          "shell.execute_reply": "2022-01-03T10:01:14.843517Z",
          "shell.execute_reply.started": "2022-01-03T09:47:33.019490Z"
        },
        "id": "cKiGzOg3X6Wh",
        "papermill": {
          "duration": 0.512534,
          "end_time": "2022-01-03T10:01:14.844359",
          "exception": false,
          "start_time": "2022-01-03T10:01:14.331825",
          "status": "completed"
        },
        "tags": []
      },
      "execution_count": 103,
      "outputs": []
    },
    {
      "cell_type": "markdown",
      "source": [
        "## 3) Submission"
      ],
      "metadata": {
        "id": "k7-jDX0EG5lg",
        "papermill": {
          "duration": 0.507348,
          "end_time": "2022-01-03T10:01:15.865223",
          "exception": false,
          "start_time": "2022-01-03T10:01:15.357875",
          "status": "completed"
        },
        "tags": []
      }
    },
    {
      "cell_type": "code",
      "source": [
        "submission_df = pd.DataFrame(data = {'textID': test_df.textID,'selected_text':pd.Series(final_test_selected)})"
      ],
      "metadata": {
        "execution": {
          "iopub.execute_input": "2022-01-03T10:01:16.894926Z",
          "iopub.status.busy": "2022-01-03T10:01:16.893757Z",
          "iopub.status.idle": "2022-01-03T10:01:16.896554Z",
          "shell.execute_reply": "2022-01-03T10:01:16.897073Z",
          "shell.execute_reply.started": "2022-01-03T09:47:38.033256Z"
        },
        "id": "2e7a7fbe",
        "papermill": {
          "duration": 0.518481,
          "end_time": "2022-01-03T10:01:16.897245",
          "exception": false,
          "start_time": "2022-01-03T10:01:16.378764",
          "status": "completed"
        },
        "tags": []
      },
      "execution_count": 104,
      "outputs": []
    },
    {
      "cell_type": "code",
      "source": [
        "submission_df.to_csv(\"submission.csv\", index=False)"
      ],
      "metadata": {
        "execution": {
          "iopub.execute_input": "2022-01-03T10:01:17.929051Z",
          "iopub.status.busy": "2022-01-03T10:01:17.927924Z",
          "iopub.status.idle": "2022-01-03T10:01:17.945864Z",
          "shell.execute_reply": "2022-01-03T10:01:17.945355Z",
          "shell.execute_reply.started": "2022-01-03T09:47:38.704350Z"
        },
        "id": "5e419516",
        "papermill": {
          "duration": 0.531522,
          "end_time": "2022-01-03T10:01:17.945996",
          "exception": false,
          "start_time": "2022-01-03T10:01:17.414474",
          "status": "completed"
        },
        "tags": []
      },
      "execution_count": 105,
      "outputs": []
    },
    {
      "cell_type": "code",
      "source": [
        "submission_df.head(5)"
      ],
      "metadata": {
        "execution": {
          "iopub.execute_input": "2022-01-03T10:01:18.983707Z",
          "iopub.status.busy": "2022-01-03T10:01:18.982367Z",
          "iopub.status.idle": "2022-01-03T10:01:18.988845Z",
          "shell.execute_reply": "2022-01-03T10:01:18.988058Z",
          "shell.execute_reply.started": "2022-01-03T09:47:39.612661Z"
        },
        "id": "15374961",
        "papermill": {
          "duration": 0.536729,
          "end_time": "2022-01-03T10:01:18.988988",
          "exception": false,
          "start_time": "2022-01-03T10:01:18.452259",
          "status": "completed"
        },
        "tags": [],
        "colab": {
          "base_uri": "https://localhost:8080/",
          "height": 206
        },
        "outputId": "b2c64782-4264-4761-fbca-ee9abae1a97b"
      },
      "execution_count": 106,
      "outputs": [
        {
          "output_type": "execute_result",
          "data": {
            "text/html": [
              "\n",
              "  <div id=\"df-832812ac-d24c-45ad-b545-890f768aaae6\">\n",
              "    <div class=\"colab-df-container\">\n",
              "      <div>\n",
              "<style scoped>\n",
              "    .dataframe tbody tr th:only-of-type {\n",
              "        vertical-align: middle;\n",
              "    }\n",
              "\n",
              "    .dataframe tbody tr th {\n",
              "        vertical-align: top;\n",
              "    }\n",
              "\n",
              "    .dataframe thead th {\n",
              "        text-align: right;\n",
              "    }\n",
              "</style>\n",
              "<table border=\"1\" class=\"dataframe\">\n",
              "  <thead>\n",
              "    <tr style=\"text-align: right;\">\n",
              "      <th></th>\n",
              "      <th>textID</th>\n",
              "      <th>selected_text</th>\n",
              "    </tr>\n",
              "  </thead>\n",
              "  <tbody>\n",
              "    <tr>\n",
              "      <th>0</th>\n",
              "      <td>f87dea47db</td>\n",
              "      <td>Last session of the day http://twitpic.com/67ezh</td>\n",
              "    </tr>\n",
              "    <tr>\n",
              "      <th>1</th>\n",
              "      <td>96d74cb729</td>\n",
              "      <td>exciting Good</td>\n",
              "    </tr>\n",
              "    <tr>\n",
              "      <th>2</th>\n",
              "      <td>eee518ae67</td>\n",
              "      <td>Recession shame!</td>\n",
              "    </tr>\n",
              "    <tr>\n",
              "      <th>3</th>\n",
              "      <td>01082688c6</td>\n",
              "      <td>happy</td>\n",
              "    </tr>\n",
              "    <tr>\n",
              "      <th>4</th>\n",
              "      <td>33987a8ee5</td>\n",
              "      <td>I like it!!</td>\n",
              "    </tr>\n",
              "  </tbody>\n",
              "</table>\n",
              "</div>\n",
              "      <button class=\"colab-df-convert\" onclick=\"convertToInteractive('df-832812ac-d24c-45ad-b545-890f768aaae6')\"\n",
              "              title=\"Convert this dataframe to an interactive table.\"\n",
              "              style=\"display:none;\">\n",
              "        \n",
              "  <svg xmlns=\"http://www.w3.org/2000/svg\" height=\"24px\"viewBox=\"0 0 24 24\"\n",
              "       width=\"24px\">\n",
              "    <path d=\"M0 0h24v24H0V0z\" fill=\"none\"/>\n",
              "    <path d=\"M18.56 5.44l.94 2.06.94-2.06 2.06-.94-2.06-.94-.94-2.06-.94 2.06-2.06.94zm-11 1L8.5 8.5l.94-2.06 2.06-.94-2.06-.94L8.5 2.5l-.94 2.06-2.06.94zm10 10l.94 2.06.94-2.06 2.06-.94-2.06-.94-.94-2.06-.94 2.06-2.06.94z\"/><path d=\"M17.41 7.96l-1.37-1.37c-.4-.4-.92-.59-1.43-.59-.52 0-1.04.2-1.43.59L10.3 9.45l-7.72 7.72c-.78.78-.78 2.05 0 2.83L4 21.41c.39.39.9.59 1.41.59.51 0 1.02-.2 1.41-.59l7.78-7.78 2.81-2.81c.8-.78.8-2.07 0-2.86zM5.41 20L4 18.59l7.72-7.72 1.47 1.35L5.41 20z\"/>\n",
              "  </svg>\n",
              "      </button>\n",
              "      \n",
              "  <style>\n",
              "    .colab-df-container {\n",
              "      display:flex;\n",
              "      flex-wrap:wrap;\n",
              "      gap: 12px;\n",
              "    }\n",
              "\n",
              "    .colab-df-convert {\n",
              "      background-color: #E8F0FE;\n",
              "      border: none;\n",
              "      border-radius: 50%;\n",
              "      cursor: pointer;\n",
              "      display: none;\n",
              "      fill: #1967D2;\n",
              "      height: 32px;\n",
              "      padding: 0 0 0 0;\n",
              "      width: 32px;\n",
              "    }\n",
              "\n",
              "    .colab-df-convert:hover {\n",
              "      background-color: #E2EBFA;\n",
              "      box-shadow: 0px 1px 2px rgba(60, 64, 67, 0.3), 0px 1px 3px 1px rgba(60, 64, 67, 0.15);\n",
              "      fill: #174EA6;\n",
              "    }\n",
              "\n",
              "    [theme=dark] .colab-df-convert {\n",
              "      background-color: #3B4455;\n",
              "      fill: #D2E3FC;\n",
              "    }\n",
              "\n",
              "    [theme=dark] .colab-df-convert:hover {\n",
              "      background-color: #434B5C;\n",
              "      box-shadow: 0px 1px 3px 1px rgba(0, 0, 0, 0.15);\n",
              "      filter: drop-shadow(0px 1px 2px rgba(0, 0, 0, 0.3));\n",
              "      fill: #FFFFFF;\n",
              "    }\n",
              "  </style>\n",
              "\n",
              "      <script>\n",
              "        const buttonEl =\n",
              "          document.querySelector('#df-832812ac-d24c-45ad-b545-890f768aaae6 button.colab-df-convert');\n",
              "        buttonEl.style.display =\n",
              "          google.colab.kernel.accessAllowed ? 'block' : 'none';\n",
              "\n",
              "        async function convertToInteractive(key) {\n",
              "          const element = document.querySelector('#df-832812ac-d24c-45ad-b545-890f768aaae6');\n",
              "          const dataTable =\n",
              "            await google.colab.kernel.invokeFunction('convertToInteractive',\n",
              "                                                     [key], {});\n",
              "          if (!dataTable) return;\n",
              "\n",
              "          const docLinkHtml = 'Like what you see? Visit the ' +\n",
              "            '<a target=\"_blank\" href=https://colab.research.google.com/notebooks/data_table.ipynb>data table notebook</a>'\n",
              "            + ' to learn more about interactive tables.';\n",
              "          element.innerHTML = '';\n",
              "          dataTable['output_type'] = 'display_data';\n",
              "          await google.colab.output.renderOutput(dataTable, element);\n",
              "          const docLink = document.createElement('div');\n",
              "          docLink.innerHTML = docLinkHtml;\n",
              "          element.appendChild(docLink);\n",
              "        }\n",
              "      </script>\n",
              "    </div>\n",
              "  </div>\n",
              "  "
            ],
            "text/plain": [
              "       textID                                     selected_text\n",
              "0  f87dea47db  Last session of the day http://twitpic.com/67ezh\n",
              "1  96d74cb729                                     exciting Good\n",
              "2  eee518ae67                                  Recession shame!\n",
              "3  01082688c6                                             happy\n",
              "4  33987a8ee5                                       I like it!!"
            ]
          },
          "metadata": {},
          "execution_count": 106
        }
      ]
    },
    {
      "cell_type": "code",
      "source": [
        "# y_test = test_df.sentiment.map({'positive':1,'neutral':0,'negative':-1}).to_list()\n",
        "# tweets_test = test_df.text.to_list()"
      ],
      "metadata": {
        "execution": {
          "iopub.execute_input": "2022-01-03T10:01:20.035618Z",
          "iopub.status.busy": "2022-01-03T10:01:20.034520Z",
          "iopub.status.idle": "2022-01-03T10:01:20.037542Z",
          "shell.execute_reply": "2022-01-03T10:01:20.036719Z",
          "shell.execute_reply.started": "2022-01-03T09:47:40.413759Z"
        },
        "id": "dc856b24",
        "papermill": {
          "duration": 0.523017,
          "end_time": "2022-01-03T10:01:20.037723",
          "exception": false,
          "start_time": "2022-01-03T10:01:19.514706",
          "status": "completed"
        },
        "tags": []
      },
      "execution_count": 107,
      "outputs": []
    },
    {
      "cell_type": "code",
      "source": [
        "#Extract_text(y_test,preprocessing(tweets_test),likelihood)"
      ],
      "metadata": {
        "execution": {
          "iopub.execute_input": "2022-01-03T10:01:21.388167Z",
          "iopub.status.busy": "2022-01-03T10:01:21.387168Z",
          "iopub.status.idle": "2022-01-03T10:01:21.389871Z",
          "shell.execute_reply": "2022-01-03T10:01:21.389336Z"
        },
        "id": "f524c5ee",
        "papermill": {
          "duration": 0.533807,
          "end_time": "2022-01-03T10:01:21.390005",
          "exception": false,
          "start_time": "2022-01-03T10:01:20.856198",
          "status": "completed"
        },
        "tags": []
      },
      "execution_count": 108,
      "outputs": []
    },
    {
      "cell_type": "code",
      "source": [
        "# submission = pd.DataFrame(data ={'textID': test_df.textID,'selected_text':pd.Series(extracted_text)})\n",
        "# predict"
      ],
      "metadata": {
        "execution": {
          "iopub.execute_input": "2022-01-03T10:01:22.418694Z",
          "iopub.status.busy": "2022-01-03T10:01:22.417684Z",
          "iopub.status.idle": "2022-01-03T10:01:22.420790Z",
          "shell.execute_reply": "2022-01-03T10:01:22.420241Z"
        },
        "id": "17d994b6",
        "papermill": {
          "duration": 0.520965,
          "end_time": "2022-01-03T10:01:22.420915",
          "exception": false,
          "start_time": "2022-01-03T10:01:21.899950",
          "status": "completed"
        },
        "tags": []
      },
      "execution_count": 109,
      "outputs": []
    },
    {
      "cell_type": "markdown",
      "source": [
        "# III. Nhìn lại quá trình "
      ],
      "metadata": {
        "id": "1F5wRYFsZ_ik"
      }
    },
    {
      "cell_type": "markdown",
      "source": [
        "**Khó khăn**: nhìn chung cả nhóm đều có nhiều đồ án và deadline, nên thời gian dành cho đồ án chưa thực sự được nhiều để đạt kết quả tốt nhất \n",
        "+ Kim: chưa biết rõ về mảng xử lý ngôn ngữ tự nhiên (NLP) nên quá trình thực hiện tốn khá nhiều thời gian để nghiên cứu các nội dung liên quan\n",
        "+ Kiên: chuyên ngành học là thị giác máy tính, nên chưa từng học và làm qua về NLP. Nên quá trình làm phải hỏi các bạn và tìm nhiều.\n",
        "+ Lâm: các mô hình BERT và Roberta hơi khó, tìm hiểu hơi lâu\n",
        "+ Mận: chưa quen với các mô hình deep learning: LSTM, Attention\n",
        "\n",
        "**Học được:**\n",
        "+ Kim: cách thực hiện các mô hình về NLP\n",
        "+ Kiên: biết về các mô hình NLP\n",
        "+ Lâm: học được các mô hình hiện đại như BERT, Roberta\n",
        "+ Mận: học được các mô hình NLP hiện đại như LSTM, Attention BERT, Roberta\n",
        "\n",
        "**Nếu có thêm thời gian**: nhóm sẽ nghiên cứu sâu hơn về các mô hình khác và cách giải của tác giả để đạt được score tốt nhất\n"
      ],
      "metadata": {
        "id": "qMADbuhPbWl0"
      }
    },
    {
      "cell_type": "markdown",
      "source": [
        "# IV. Tài liệu tham khảo:"
      ],
      "metadata": {
        "id": "0Xj_JvROabOC"
      }
    },
    {
      "cell_type": "markdown",
      "source": [
        "**Một số paper về Deep learning nhóm đã tham khảo**:\n",
        "- LSTM: https://arxiv.org/pdf/1503.04069.pdf\n",
        "- Attention +  Transformer: https://arxiv.org/pdf/1706.03762.pdf\n",
        "- BERT: https://arxiv.org/pdf/1810.04805.pdf\n",
        "- Cách sử dụng: thông qua thư viện Tensorflow, Transformer: https://huggingface.co/docs/transformers/quicktour\n"
      ],
      "metadata": {
        "id": "v5_tBjg2ay1e"
      }
    },
    {
      "cell_type": "markdown",
      "source": [
        "**Một số mã nguồn đã tham khảo** \\\n",
        "[1] Book: NLTK for Python 3 \\\n",
        "[2] Phần Tiền xử lý cho Bert và Roberta: https://github.com/Shriram016/Tweet-Sentiment-Extraction/blob/main/Tweet%20Sentiment%20Extraction%20-%20roBERTa%20model.ipynb\n"
      ],
      "metadata": {
        "id": "5J5--213a2YJ"
      }
    },
    {
      "cell_type": "code",
      "source": [
        ""
      ],
      "metadata": {
        "id": "bc5ef3e4",
        "papermill": {
          "duration": 0.504573,
          "end_time": "2022-01-03T10:01:23.441138",
          "exception": false,
          "start_time": "2022-01-03T10:01:22.936565",
          "status": "completed"
        },
        "tags": []
      },
      "execution_count": 109,
      "outputs": []
    }
  ]
}