{
  "cells": [
    {
      "cell_type": "markdown",
      "metadata": {
        "id": "view-in-github",
        "colab_type": "text"
      },
      "source": [
        "<a href=\"https://colab.research.google.com/github/hoanglam372000/Applied-Data-Science-Group-7/blob/main/Notebooks/Report_TSE_BERT_TK.ipynb\" target=\"_parent\"><img src=\"https://colab.research.google.com/assets/colab-badge.svg\" alt=\"Open In Colab\"/></a>"
      ]
    },
    {
      "cell_type": "markdown",
      "metadata": {
        "id": "F4PnOCchUmrY"
      },
      "source": [
        "# Báo cáo đồ án môn \"Khoa học dữ liệu ứng dụng\"\n",
        "\n",
        "Nhóm 7:\n",
        "1. 18120429 – Phạm Trung Kiên - trungkien2000\n",
        "2. 18120431 – A Ly Ha Kim - kim-ali\n",
        "3. 18120434 – Thái Hoàng Lâm - hoanglam372000\n",
        "4. 18120462 – Nguyễn Thị Mận - ManCB26\n",
        "Link thùng chứa Github của nhóm:\n",
        "https://colab.research.google.com/github/hoanglam372000/Applied-Data-Science-Group-7"
      ],
      "id": "F4PnOCchUmrY"
    },
    {
      "cell_type": "markdown",
      "metadata": {
        "id": "buOs0j5cul30"
      },
      "source": [
        "# I. Mô tả bài toán: \n",
        "## 1. Mô tả:\n",
        "Link: https://www.kaggle.com/c/tweet-sentiment-extraction \\\n",
        "\n",
        "- Bài toán thuộc lĩnh vực NLP, cụ thể là bài toán phân tích cảm xúc (Sentiment Analysis)\n",
        "- Không giống như những bài toán phân tích cảm xúc khác chỉ dừng ở việc phân lớp, bài toán yêu cầu phải rút trích những từ ngữ trong câu đóng góp cho cảm xúc tương ứng.\n",
        "- Ví dụ: \"I am happy\": positive -> \"happy\" \\\n",
        "\n",
        "## 2. Hướng giải quyết của nhóm \n",
        "Ban đầu nhóm định theo hướng giải quyết của người đứng hạng 3 trên private leaderboard, đó là sử dụng RoBerta. Tuy nhiên, với trình độ hiện tại của các bạn trong nhóm thì phương pháp này đang vượt quá tầm với vì vậy phương hướng tiếp cận của nhóm đã vẽ ra như sau:\n",
        "\n",
        "- Nhóm tiến hành giải bài toán theo cách riêng của nhóm: Học thống kê + học kết hợp deep learning \\\n",
        "- Sau khi ra kết quả training, nếu chưa đạt được kết quả nằm trong top 20 của private leaderboard, thì nhóm sẽ tiếp tục tiếp cận dần các phương pháp Deep learning \\\n",
        "- Sau cùng, nếu vẫn chưa đạt được kết quả khả quan với những kiến thức deep learning đã học, nhóm sẽ tiến hành giải tiếp bài toán theo phương pháp của hạng 3 (lúc này các thành viên đã đủ kiến thức)\n",
        "\n",
        "Hiện đang tham khảo: https://medium.com/analytics-vidhya/tweet-sentiment-extraction-e5d242ff93c2 (phần QuestionAnswering)\n",
        "\n",
        "\n",
        "\n"
      ],
      "id": "buOs0j5cul30"
    },
    {
      "cell_type": "markdown",
      "source": [
        "## 3. Một số paper về Deep learning nhóm đã tham khảo:\n",
        "- LSTM: https://arxiv.org/pdf/1503.04069.pdf\n",
        "- Attention +  Transformer: https://arxiv.org/pdf/1706.03762.pdf\n",
        "- BERT: https://arxiv.org/pdf/1810.04805.pdf\n",
        "- Cách sử dụng: thông qua thư viện Tensorflow, Transformer: https://huggingface.co/docs/transformers/quicktour\n"
      ],
      "metadata": {
        "id": "hqZX5XEfjjqS"
      },
      "id": "hqZX5XEfjjqS"
    },
    {
      "cell_type": "code",
      "source": [
        "from google.colab import drive\n",
        "drive.mount('/content/drive')"
      ],
      "metadata": {
        "colab": {
          "base_uri": "https://localhost:8080/"
        },
        "id": "-1Yifq6l49Ik",
        "outputId": "616791fc-ab5c-4f68-f71c-dc76dc1f3481"
      },
      "id": "-1Yifq6l49Ik",
      "execution_count": null,
      "outputs": [
        {
          "output_type": "stream",
          "name": "stdout",
          "text": [
            "Mounted at /content/drive\n"
          ]
        }
      ]
    },
    {
      "cell_type": "markdown",
      "metadata": {
        "id": "k4Sq7RjgxK20"
      },
      "source": [
        "# II. Giải quyết bài toán và cài đặt:"
      ],
      "id": "k4Sq7RjgxK20"
    },
    {
      "cell_type": "markdown",
      "metadata": {
        "id": "N_ulm98oBHzT"
      },
      "source": [
        "# 1. Học dựa trên thống kê\n",
        "\n",
        "- Tiền xử lý và khám phá dữ liệu\n",
        "- Xây dựng từ điển tần suất theo sentiment\n",
        "- Xây dựng Bag-of-word theo xác suất Naive-Bayes\n",
        "- Trích text bằng likelihood của bước trên và ước lượng ngưỡng\n",
        "- Ánh xạ text đã rút trích về nguyên mẫu của từng từ trong text (đề yêu cầu)\n",
        "- Đánh giá bằng độ đo Jaccard Similarity\n",
        "- Tunning trên tập val để tìm siêu tham số tốt nhất\n",
        "- Dự đoán rút trích trên tập test\n",
        " "
      ],
      "id": "N_ulm98oBHzT"
    },
    {
      "cell_type": "markdown",
      "source": [
        "- Kết quả: 0.6249 trên train, 0.6137 trên val"
      ],
      "metadata": {
        "id": "ZsmZkW3GgA3l"
      },
      "id": "ZsmZkW3GgA3l"
    },
    {
      "cell_type": "markdown",
      "metadata": {
        "id": "lvBSxcg5B1Jv"
      },
      "source": [
        "### 1.1 Lấy dữ liệu, Khám phá và tiền xử lý:"
      ],
      "id": "lvBSxcg5B1Jv"
    },
    {
      "cell_type": "markdown",
      "metadata": {
        "id": "8Weea1SUCBmz"
      },
      "source": [
        "#### 1.1.1 Thư viện:"
      ],
      "id": "8Weea1SUCBmz"
    },
    {
      "cell_type": "code",
      "execution_count": null,
      "metadata": {
        "colab": {
          "base_uri": "https://localhost:8080/"
        },
        "id": "b0c2dbd1",
        "outputId": "70890861-6fca-480b-e1e3-ec643ff8af74"
      },
      "outputs": [
        {
          "output_type": "stream",
          "name": "stdout",
          "text": [
            "Cloning into 'Applied-Data-Science-Group-7'...\n",
            "remote: Enumerating objects: 141, done.\u001b[K\n",
            "remote: Counting objects: 100% (141/141), done.\u001b[K\n",
            "remote: Compressing objects: 100% (139/139), done.\u001b[K\n",
            "remote: Total 141 (delta 68), reused 0 (delta 0), pack-reused 0\u001b[K\n",
            "Receiving objects: 100% (141/141), 5.33 MiB | 4.55 MiB/s, done.\n",
            "Resolving deltas: 100% (68/68), done.\n"
          ]
        }
      ],
      "source": [
        "!git clone https://github.com/hoanglam372000/Applied-Data-Science-Group-7.git"
      ],
      "id": "b0c2dbd1"
    },
    {
      "cell_type": "code",
      "execution_count": null,
      "metadata": {
        "colab": {
          "base_uri": "https://localhost:8080/"
        },
        "id": "eff8fbcf",
        "outputId": "920e1b01-7def-4d9e-b288-8b69050632ca"
      },
      "outputs": [
        {
          "output_type": "stream",
          "name": "stdout",
          "text": [
            "Collecting emoji\n",
            "  Downloading emoji-1.6.1.tar.gz (170 kB)\n",
            "\u001b[?25l\r\u001b[K     |██                              | 10 kB 17.9 MB/s eta 0:00:01\r\u001b[K     |███▉                            | 20 kB 7.5 MB/s eta 0:00:01\r\u001b[K     |█████▉                          | 30 kB 4.8 MB/s eta 0:00:01\r\u001b[K     |███████▊                        | 40 kB 4.5 MB/s eta 0:00:01\r\u001b[K     |█████████▋                      | 51 kB 3.3 MB/s eta 0:00:01\r\u001b[K     |███████████▋                    | 61 kB 3.8 MB/s eta 0:00:01\r\u001b[K     |█████████████▌                  | 71 kB 4.4 MB/s eta 0:00:01\r\u001b[K     |███████████████▍                | 81 kB 4.9 MB/s eta 0:00:01\r\u001b[K     |█████████████████▍              | 92 kB 3.8 MB/s eta 0:00:01\r\u001b[K     |███████████████████▎            | 102 kB 4.1 MB/s eta 0:00:01\r\u001b[K     |█████████████████████▏          | 112 kB 4.1 MB/s eta 0:00:01\r\u001b[K     |███████████████████████▏        | 122 kB 4.1 MB/s eta 0:00:01\r\u001b[K     |█████████████████████████       | 133 kB 4.1 MB/s eta 0:00:01\r\u001b[K     |███████████████████████████     | 143 kB 4.1 MB/s eta 0:00:01\r\u001b[K     |█████████████████████████████   | 153 kB 4.1 MB/s eta 0:00:01\r\u001b[K     |██████████████████████████████▉ | 163 kB 4.1 MB/s eta 0:00:01\r\u001b[K     |████████████████████████████████| 170 kB 4.1 MB/s \n",
            "\u001b[?25hBuilding wheels for collected packages: emoji\n",
            "  Building wheel for emoji (setup.py) ... \u001b[?25l\u001b[?25hdone\n",
            "  Created wheel for emoji: filename=emoji-1.6.1-py3-none-any.whl size=169314 sha256=43410009f92a5983dea5e878cd9f40d04bd54042180f74f8be1ffc71dd442518\n",
            "  Stored in directory: /root/.cache/pip/wheels/ea/5f/d3/03d313ddb3c2a1a427bb4690f1621eea60fe6f2a30cc95940f\n",
            "Successfully built emoji\n",
            "Installing collected packages: emoji\n",
            "Successfully installed emoji-1.6.1\n",
            "Collecting pyenchant\n",
            "  Downloading pyenchant-3.2.2-py3-none-any.whl (55 kB)\n",
            "\u001b[K     |████████████████████████████████| 55 kB 2.4 MB/s \n",
            "\u001b[?25hInstalling collected packages: pyenchant\n",
            "Successfully installed pyenchant-3.2.2\n"
          ]
        }
      ],
      "source": [
        "!pip install emoji\n",
        "!pip install pyenchant\n",
        "#!pip install pycontractions"
      ],
      "id": "eff8fbcf"
    },
    {
      "cell_type": "code",
      "execution_count": null,
      "metadata": {
        "colab": {
          "base_uri": "https://localhost:8080/"
        },
        "id": "9b92498d",
        "outputId": "b631d6b4-9a0e-44ce-e3c5-adda9d4399ab"
      },
      "outputs": [
        {
          "output_type": "stream",
          "name": "stdout",
          "text": [
            "[nltk_data] Downloading package punkt to /root/nltk_data...\n",
            "[nltk_data]   Unzipping tokenizers/punkt.zip.\n",
            "[nltk_data] Downloading package wordnet to /root/nltk_data...\n",
            "[nltk_data]   Unzipping corpora/wordnet.zip.\n",
            "[nltk_data] Downloading package averaged_perceptron_tagger to\n",
            "[nltk_data]     /root/nltk_data...\n",
            "[nltk_data]   Unzipping taggers/averaged_perceptron_tagger.zip.\n",
            "[nltk_data] Downloading package names to /root/nltk_data...\n",
            "[nltk_data]   Unzipping corpora/names.zip.\n"
          ]
        }
      ],
      "source": [
        "import math\n",
        "import pandas as pd\n",
        "import nltk\n",
        "import numpy as np\n",
        "import emoji\n",
        "#import contractions\n",
        "import re\n",
        "import string\n",
        "from nltk.stem import PorterStemmer\n",
        "from nltk.tokenize import TweetTokenizer\n",
        "from sklearn.model_selection import train_test_split\n",
        "from sklearn.preprocessing import OneHotEncoder, StandardScaler\n",
        "from sklearn.impute import SimpleImputer\n",
        "from sklearn.base import BaseEstimator, TransformerMixin\n",
        "from sklearn.pipeline import Pipeline, make_pipeline\n",
        "from sklearn.compose import ColumnTransformer, make_column_transformer\n",
        "from sklearn.feature_extraction.text import TfidfVectorizer\n",
        "from sklearn.svm import SVC\n",
        "from sklearn.ensemble import RandomForestClassifier\n",
        "import scipy.stats as st\n",
        "import matplotlib.pyplot as plt\n",
        "import nltk\n",
        "from nltk.corpus import wordnet\n",
        "from nltk.corpus import stopwords\n",
        "from tensorflow.keras.preprocessing.text import Tokenizer\n",
        "from tensorflow.keras.preprocessing.sequence import pad_sequences\n",
        "import tensorflow as tf\n",
        "from keras.layers import *\n",
        "from keras.models import Model\n",
        "from keras.callbacks import ModelCheckpoint\n",
        "#print(stopwords.words('english'))\n",
        "pd.set_option('display.max_colwidth', 200)\n",
        "nltk.download('punkt')\n",
        "nltk.download('wordnet')\n",
        "nltk.download('averaged_perceptron_tagger')\n",
        "nltk.download('names')\n",
        "names = nltk.corpus.names.words('male.txt')+nltk.corpus.names.words('female.txt')\n",
        "names_lower = [name.lower() for name in names]"
      ],
      "id": "9b92498d"
    },
    {
      "cell_type": "code",
      "execution_count": null,
      "metadata": {
        "colab": {
          "base_uri": "https://localhost:8080/"
        },
        "id": "sK7e9Cf_q-AD",
        "outputId": "022386c3-ab02-480b-bd42-c223cafd4158"
      },
      "outputs": [
        {
          "output_type": "stream",
          "name": "stdout",
          "text": [
            "Collecting afinn\n",
            "  Downloading afinn-0.1.tar.gz (52 kB)\n",
            "\u001b[?25l\r\u001b[K     |██████▎                         | 10 kB 20.7 MB/s eta 0:00:01\r\u001b[K     |████████████▌                   | 20 kB 25.0 MB/s eta 0:00:01\r\u001b[K     |██████████████████▊             | 30 kB 17.9 MB/s eta 0:00:01\r\u001b[K     |█████████████████████████       | 40 kB 15.6 MB/s eta 0:00:01\r\u001b[K     |███████████████████████████████▏| 51 kB 5.6 MB/s eta 0:00:01\r\u001b[K     |████████████████████████████████| 52 kB 1.0 MB/s \n",
            "\u001b[?25hBuilding wheels for collected packages: afinn\n",
            "  Building wheel for afinn (setup.py) ... \u001b[?25l\u001b[?25hdone\n",
            "  Created wheel for afinn: filename=afinn-0.1-py3-none-any.whl size=53448 sha256=305a88c127b32b7b0503ce14ca64386bda8ba9d5cf04735d83942b9d0f7815a2\n",
            "  Stored in directory: /root/.cache/pip/wheels/9d/16/3a/9f0953027434eab5dadf3f33ab3298fa95afa8292fcf7aba75\n",
            "Successfully built afinn\n",
            "Installing collected packages: afinn\n",
            "Successfully installed afinn-0.1\n"
          ]
        }
      ],
      "source": [
        "!pip install afinn"
      ],
      "id": "sK7e9Cf_q-AD"
    },
    {
      "cell_type": "code",
      "execution_count": null,
      "metadata": {
        "id": "m2inlf1hrDkj"
      },
      "outputs": [],
      "source": [
        "from afinn import Afinn\n",
        "afinn = Afinn(language='en')"
      ],
      "id": "m2inlf1hrDkj"
    },
    {
      "cell_type": "markdown",
      "metadata": {
        "id": "qLIRG_m1CdvD"
      },
      "source": [
        "#### 1.1.2 Khám phá dữ liệu"
      ],
      "id": "qLIRG_m1CdvD"
    },
    {
      "cell_type": "code",
      "execution_count": null,
      "metadata": {
        "id": "cae6a810"
      },
      "outputs": [],
      "source": [
        "df = pd.read_csv('Applied-Data-Science-Group-7/train.csv')"
      ],
      "id": "cae6a810"
    },
    {
      "cell_type": "code",
      "execution_count": null,
      "metadata": {
        "colab": {
          "base_uri": "https://localhost:8080/"
        },
        "id": "004d834b",
        "outputId": "1f9e1a24-b31c-41c6-cbe1-d4996ced0c3e"
      },
      "outputs": [
        {
          "output_type": "execute_result",
          "data": {
            "text/html": [
              "<div>\n",
              "<style scoped>\n",
              "    .dataframe tbody tr th:only-of-type {\n",
              "        vertical-align: middle;\n",
              "    }\n",
              "\n",
              "    .dataframe tbody tr th {\n",
              "        vertical-align: top;\n",
              "    }\n",
              "\n",
              "    .dataframe thead th {\n",
              "        text-align: right;\n",
              "    }\n",
              "</style>\n",
              "<table border=\"1\" class=\"dataframe\">\n",
              "  <thead>\n",
              "    <tr style=\"text-align: right;\">\n",
              "      <th></th>\n",
              "      <th>textID</th>\n",
              "      <th>text</th>\n",
              "      <th>selected_text</th>\n",
              "      <th>sentiment</th>\n",
              "    </tr>\n",
              "  </thead>\n",
              "  <tbody>\n",
              "    <tr>\n",
              "      <th>0</th>\n",
              "      <td>cb774db0d1</td>\n",
              "      <td>I`d have responded, if I were going</td>\n",
              "      <td>I`d have responded, if I were going</td>\n",
              "      <td>neutral</td>\n",
              "    </tr>\n",
              "    <tr>\n",
              "      <th>1</th>\n",
              "      <td>549e992a42</td>\n",
              "      <td>Sooo SAD I will miss you here in San Diego!!!</td>\n",
              "      <td>Sooo SAD</td>\n",
              "      <td>negative</td>\n",
              "    </tr>\n",
              "    <tr>\n",
              "      <th>2</th>\n",
              "      <td>088c60f138</td>\n",
              "      <td>my boss is bullying me...</td>\n",
              "      <td>bullying me</td>\n",
              "      <td>negative</td>\n",
              "    </tr>\n",
              "    <tr>\n",
              "      <th>3</th>\n",
              "      <td>9642c003ef</td>\n",
              "      <td>what interview! leave me alone</td>\n",
              "      <td>leave me alone</td>\n",
              "      <td>negative</td>\n",
              "    </tr>\n",
              "    <tr>\n",
              "      <th>4</th>\n",
              "      <td>358bd9e861</td>\n",
              "      <td>Sons of ****, why couldn`t they put them on the releases we already bought</td>\n",
              "      <td>Sons of ****,</td>\n",
              "      <td>negative</td>\n",
              "    </tr>\n",
              "    <tr>\n",
              "      <th>...</th>\n",
              "      <td>...</td>\n",
              "      <td>...</td>\n",
              "      <td>...</td>\n",
              "      <td>...</td>\n",
              "    </tr>\n",
              "    <tr>\n",
              "      <th>27476</th>\n",
              "      <td>4eac33d1c0</td>\n",
              "      <td>wish we could come see u on Denver  husband lost his job and can`t afford it</td>\n",
              "      <td>d lost</td>\n",
              "      <td>negative</td>\n",
              "    </tr>\n",
              "    <tr>\n",
              "      <th>27477</th>\n",
              "      <td>4f4c4fc327</td>\n",
              "      <td>I`ve wondered about rake to.  The client has made it clear .NET only, don`t force devs to learn a new lang  #agile #ccnet</td>\n",
              "      <td>, don`t force</td>\n",
              "      <td>negative</td>\n",
              "    </tr>\n",
              "    <tr>\n",
              "      <th>27478</th>\n",
              "      <td>f67aae2310</td>\n",
              "      <td>Yay good for both of you. Enjoy the break - you probably need it after such hectic weekend  Take care hun xxxx</td>\n",
              "      <td>Yay good for both of you.</td>\n",
              "      <td>positive</td>\n",
              "    </tr>\n",
              "    <tr>\n",
              "      <th>27479</th>\n",
              "      <td>ed167662a5</td>\n",
              "      <td>But it was worth it  ****.</td>\n",
              "      <td>But it was worth it  ****.</td>\n",
              "      <td>positive</td>\n",
              "    </tr>\n",
              "    <tr>\n",
              "      <th>27480</th>\n",
              "      <td>6f7127d9d7</td>\n",
              "      <td>All this flirting going on - The ATG smiles. Yay.  ((hugs))</td>\n",
              "      <td>All this flirting going on - The ATG smiles. Yay.  ((hugs)</td>\n",
              "      <td>neutral</td>\n",
              "    </tr>\n",
              "  </tbody>\n",
              "</table>\n",
              "<p>27481 rows × 4 columns</p>\n",
              "</div>"
            ],
            "text/plain": [
              "           textID  ... sentiment\n",
              "0      cb774db0d1  ...   neutral\n",
              "1      549e992a42  ...  negative\n",
              "2      088c60f138  ...  negative\n",
              "3      9642c003ef  ...  negative\n",
              "4      358bd9e861  ...  negative\n",
              "...           ...  ...       ...\n",
              "27476  4eac33d1c0  ...  negative\n",
              "27477  4f4c4fc327  ...  negative\n",
              "27478  f67aae2310  ...  positive\n",
              "27479  ed167662a5  ...  positive\n",
              "27480  6f7127d9d7  ...   neutral\n",
              "\n",
              "[27481 rows x 4 columns]"
            ]
          },
          "metadata": {},
          "execution_count": 8
        }
      ],
      "source": [
        "df"
      ],
      "id": "004d834b"
    },
    {
      "cell_type": "code",
      "execution_count": null,
      "metadata": {
        "colab": {
          "base_uri": "https://localhost:8080/"
        },
        "id": "33751737",
        "outputId": "e8ba3938-dbd6-47af-f997-a4e5dfc0a1a5"
      },
      "outputs": [
        {
          "output_type": "stream",
          "name": "stdout",
          "text": [
            "<class 'pandas.core.frame.DataFrame'>\n",
            "RangeIndex: 27481 entries, 0 to 27480\n",
            "Data columns (total 4 columns):\n",
            " #   Column         Non-Null Count  Dtype \n",
            "---  ------         --------------  ----- \n",
            " 0   textID         27481 non-null  object\n",
            " 1   text           27480 non-null  object\n",
            " 2   selected_text  27480 non-null  object\n",
            " 3   sentiment      27481 non-null  object\n",
            "dtypes: object(4)\n",
            "memory usage: 858.9+ KB\n"
          ]
        }
      ],
      "source": [
        "df.info()"
      ],
      "id": "33751737"
    },
    {
      "cell_type": "code",
      "execution_count": null,
      "metadata": {
        "id": "35c68f84"
      },
      "outputs": [],
      "source": [
        "df.dropna(inplace = True)"
      ],
      "id": "35c68f84"
    },
    {
      "cell_type": "code",
      "execution_count": null,
      "metadata": {
        "colab": {
          "base_uri": "https://localhost:8080/"
        },
        "id": "6639f1f6",
        "outputId": "81f2ac4b-5392-4ef0-c66c-ff7f2255b1e1"
      },
      "outputs": [
        {
          "output_type": "stream",
          "name": "stdout",
          "text": [
            "<class 'pandas.core.frame.DataFrame'>\n",
            "Int64Index: 27480 entries, 0 to 27480\n",
            "Data columns (total 4 columns):\n",
            " #   Column         Non-Null Count  Dtype \n",
            "---  ------         --------------  ----- \n",
            " 0   textID         27480 non-null  object\n",
            " 1   text           27480 non-null  object\n",
            " 2   selected_text  27480 non-null  object\n",
            " 3   sentiment      27480 non-null  object\n",
            "dtypes: object(4)\n",
            "memory usage: 1.0+ MB\n"
          ]
        }
      ],
      "source": [
        "df.info()"
      ],
      "id": "6639f1f6"
    },
    {
      "cell_type": "markdown",
      "metadata": {
        "id": "b6ca4fc3"
      },
      "source": [
        "#### 1.1.3 Tách tập dữ liệu"
      ],
      "id": "b6ca4fc3"
    },
    {
      "cell_type": "code",
      "execution_count": null,
      "metadata": {
        "id": "75d8621d"
      },
      "outputs": [],
      "source": [
        "# Tách tập huấn luyện và tập validation theo tỉ lệ 70%:30%\n",
        "X_df = df.drop(labels = 'selected_text',axis = 1)\n",
        "y_ex = df.selected_text\n",
        "y_class = df.sentiment\n",
        "train_X_df, val_X_df, train_y_ex, val_y_ex = train_test_split(X_df, y_ex, test_size=0.3, \n",
        "                                                              stratify=y_class, random_state=0)"
      ],
      "id": "75d8621d"
    },
    {
      "cell_type": "code",
      "execution_count": null,
      "metadata": {
        "colab": {
          "base_uri": "https://localhost:8080/"
        },
        "id": "e3af4df9",
        "outputId": "d3c1ae06-3af8-418d-bfde-576999218aee"
      },
      "outputs": [
        {
          "output_type": "stream",
          "name": "stdout",
          "text": [
            "train_X:  (19236, 3)\n",
            "train_y:  (19236,)\n",
            "val_X:  (8244, 3)\n",
            "val_y:  (8244,)\n"
          ]
        }
      ],
      "source": [
        "print('train_X: ',train_X_df.shape)\n",
        "print('train_y: ',train_y_ex.shape)\n",
        "print('val_X: ',val_X_df.shape)\n",
        "print('val_y: ',val_y_ex.shape)\n"
      ],
      "id": "e3af4df9"
    },
    {
      "cell_type": "markdown",
      "metadata": {
        "id": "b05a364e"
      },
      "source": [
        "### 1.2 Tiền xử lý + Khám phá tập train"
      ],
      "id": "b05a364e"
    },
    {
      "cell_type": "markdown",
      "metadata": {
        "id": "awyk6UXcC5gA"
      },
      "source": [
        "#### 1.2.1 Khám phá tập train"
      ],
      "id": "awyk6UXcC5gA"
    },
    {
      "cell_type": "code",
      "execution_count": null,
      "metadata": {
        "colab": {
          "base_uri": "https://localhost:8080/"
        },
        "id": "b5c6f4b6",
        "outputId": "67262b3b-44a8-4f8b-a0cd-4b064d645853"
      },
      "outputs": [
        {
          "output_type": "display_data",
          "data": {
            "image/png": "[encoded data removed]",
            "text/plain": [
              "<Figure size 576x432 with 1 Axes>"
            ]
          },
          "metadata": {}
        }
      ],
      "source": [
        "#Phân bố của các lớp:\n",
        "train_X_df.sentiment.value_counts(normalize= True).plot(kind=\"pie\",labels = None, legend='auto', figsize=(8,6), autopct=\"%.1f%%\");"
      ],
      "id": "b5c6f4b6"
    },
    {
      "cell_type": "code",
      "execution_count": null,
      "metadata": {
        "colab": {
          "base_uri": "https://localhost:8080/"
        },
        "id": "d8e5df71",
        "outputId": "512449bb-c9df-477a-e51e-76d3079b77f9"
      },
      "outputs": [
        {
          "output_type": "stream",
          "name": "stdout",
          "text": [
            "<class 'pandas.core.frame.DataFrame'>\n",
            "Int64Index: 19236 entries, 652 to 12238\n",
            "Data columns (total 3 columns):\n",
            " #   Column     Non-Null Count  Dtype \n",
            "---  ------     --------------  ----- \n",
            " 0   textID     19236 non-null  object\n",
            " 1   text       19236 non-null  object\n",
            " 2   sentiment  19236 non-null  object\n",
            "dtypes: object(3)\n",
            "memory usage: 601.1+ KB\n"
          ]
        }
      ],
      "source": [
        "train_X_df.info()"
      ],
      "id": "d8e5df71"
    },
    {
      "cell_type": "code",
      "execution_count": null,
      "metadata": {
        "colab": {
          "base_uri": "https://localhost:8080/"
        },
        "id": "64ae1685",
        "outputId": "39c6eb83-fd32-4812-9b91-f3b671586ff6"
      },
      "outputs": [
        {
          "output_type": "execute_result",
          "data": {
            "text/plain": [
              "0"
            ]
          },
          "metadata": {},
          "execution_count": 16
        }
      ],
      "source": [
        "train_X_df.duplicated().sum()"
      ],
      "id": "64ae1685"
    },
    {
      "cell_type": "code",
      "execution_count": null,
      "metadata": {
        "colab": {
          "base_uri": "https://localhost:8080/"
        },
        "id": "76b2e318",
        "outputId": "52a1ff78-62b9-4aaf-ac1d-fa80e9f4798b"
      },
      "outputs": [
        {
          "output_type": "execute_result",
          "data": {
            "text/plain": [
              "0"
            ]
          },
          "metadata": {},
          "execution_count": 17
        }
      ],
      "source": [
        "train_y_ex.isnull().sum()"
      ],
      "id": "76b2e318"
    },
    {
      "cell_type": "markdown",
      "metadata": {
        "id": "ee0725cc"
      },
      "source": [
        "#### 1.2.2 Tiền xử lý văn bản"
      ],
      "id": "ee0725cc"
    },
    {
      "cell_type": "code",
      "execution_count": null,
      "metadata": {
        "id": "TifZy-OvUEbO"
      },
      "outputs": [],
      "source": [
        " #nltk.pos_tag(['i','am','over','the','moon'])"
      ],
      "id": "TifZy-OvUEbO"
    },
    {
      "cell_type": "code",
      "execution_count": null,
      "metadata": {
        "id": "025BPLnKOV3N"
      },
      "outputs": [],
      "source": [
        "# import enchant\n",
        "# from nltk.metrics import edit_distance\n",
        "# class SpellingReplacer(object):\n",
        "#     def __init__(self, dict_name='en', max_dist=2):\n",
        "#         self.spell_dict = enchant.Dict(dict_name)\n",
        "#         self.max_dist = max_dist\n",
        "#     def replace(self, word):\n",
        "#         if self.spell_dict.check(word):\n",
        "#             return word\n",
        "#         suggestions = self.spell_dict.suggest(word)\n",
        "#         if suggestions and edit_distance(word, suggestions[0]) <=self.max_dist:\n",
        "#             return suggestions[0]\n",
        "#         else:\n",
        "#             return word\n",
        "# replacer = SpellingReplacer()\n",
        "# replacer.replace('cookbok')"
      ],
      "id": "025BPLnKOV3N"
    },
    {
      "cell_type": "code",
      "execution_count": null,
      "metadata": {
        "id": "2cceeb36"
      },
      "outputs": [],
      "source": [
        "stemmer = PorterStemmer()\n",
        "# class xử lý vấn đề trùng ký tự trong từ, ví dụ yoooouuuu -> you, nooooo -> no.\n",
        "#sử dụng pattern của regular expression, tuy nhiên phải quét thêm qua wordnet để tránh trường hợp như từ goose bị chuyển thành gose (mặc dù goose là từ đúng)\n",
        "class RepeatReplacer(object):\n",
        "    def __init__(self):\n",
        "        self.repeat_regexp = re.compile(r'(\\w*)(\\w)\\2(\\w*)')\n",
        "        self.repl = r'\\1\\2\\3'\n",
        "    def replace(self, word):\n",
        "        if wordnet.synsets(word):\n",
        "            return word\n",
        "        repl_word = self.repeat_regexp.sub(self.repl, word)\n",
        "        if repl_word != word:\n",
        "            return self.replace(repl_word)\n",
        "        else:\n",
        "            return repl_word\n",
        "char_repeat_correct = RepeatReplacer()\n",
        "def preprocessing_word(word):\n",
        "  \n",
        "  if word != emoji.demojize(word):\n",
        "    return emoji.demojize(word)\n",
        "  #word = contractions.fix(word)\n",
        "  #word = stemmer.stem(word)\n",
        "  \n",
        "  temp=[ \"html_tag\",'URL','HIDDEN','tag',\"hash_tag\"]\n",
        "  if word in temp:\n",
        "    return word\n",
        "  #số theo từ\n",
        "  if word.isdigit():  \n",
        "    return 'NUMBER'\n",
        "  try: \n",
        "    float(word)\n",
        "    return 'NUMBER'\n",
        "  except:\n",
        "    pass\n",
        "\n",
        "\n",
        "  #word=word.lower() # viết thườngthường\n",
        "  #spell_corrector = Speller(lang='en') #sửa chính tả theo từng từ \n",
        "  #word=spell_corrector(word)\n",
        "\n",
        "  # rút gọn theo từ\n",
        "  #lemmatizer = WordNetLemmatizer()\n",
        "  #wordnet_map = {\"N\":wordnet.NOUN, \"V\":wordnet.VERB, \"J\":wordnet.ADJ, \"R\":wordnet.ADV}\n",
        "  #pos_tagged = nltk.pos_tag(word.split())\n",
        "  \n",
        "  #word = [lemmatizer.lemmatize(word, wordnet_map.get(pos[0], wordnet.NOUN)) for word, pos in pos_tagged]\n",
        "  #word = ' '.join(word)\n",
        "\n",
        "  #word=word.translate(str.maketrans('', '', string.punctuation)) # chấm câu theo từ (vì tránh emoij)\n",
        "  word = re.sub(pattern=r'[\"!\\.#$%&\\'()*+-/:;<=>@\\?\\[\\]^_`{|}~0-9ï¿½]+', repl='', string=word)\n",
        "  word = char_repeat_correct.replace(word)\n",
        "  #word = stemmer.stem(word)\n",
        "  #if (word in  names):\n",
        "   # return '<Name>'\n",
        "  #word = stemmer.stem(word)\n",
        "  word = word.lower()\n",
        "  \n",
        "  if word==''or word ==' ':\n",
        "    return \"Special\"\n",
        "  \n",
        "  # if 'not' not in word and len(word.split())!=1:\n",
        "  #   return word.split()[0]+'_'\n",
        "  return word.replace(' ','_')\n",
        "\n",
        "def preprocessing_text(tweet,sentiment):\n",
        "   raw_text = str(tweet).strip().replace('\\n', ' ')#.lower()\n",
        "   # emoij\n",
        "   raw_text=emoji.demojize(raw_text)\n",
        "   e_r=r':\\w+_\\w+:'\n",
        "   emoij_list=re.findall(e_r,raw_text)\n",
        "   for e in emoij_list:\n",
        "     raw_text=raw_text.replace(e,' ' + emoji.emojize(e) + ' ') # \"hi❤️👍\"\n",
        "   if sentiment !=0: \n",
        "     raw_text = re.sub(pattern=r'(?<=\\w)(\\.){2,}?(?=\\w)', repl=' ', string=raw_text)\n",
        "   new_tweet = raw_text.split()\n",
        "   len_=len(new_tweet)\n",
        "   index2word = { w:new_tweet[w] for w in range(len_)}\n",
        "   #parser = BeautifulSoup(raw_text, \"html.parser\")\n",
        "   #raw_text = parser.get_text(separator = \"<html_tag>\")\n",
        "   raw_text = re.sub(pattern=r'https?://\\S+|www\\.\\S+', repl='URL', string=raw_text)\n",
        "   raw_text = re.sub(pattern='\\*{3,}?', repl='HIDDEN', string=raw_text)\n",
        "   raw_text = re.sub(pattern=r'@\\w+', repl='tag', string=raw_text)\n",
        "   raw_text = re.sub(pattern=r'#\\w+', repl='hash_tag', string=raw_text)\n",
        "   \n",
        "   word_list=raw_text.split()\n",
        "   return index2word,dict(zip([*range(len_)],map(preprocessing_word,word_list)))"
      ],
      "id": "2cceeb36"
    },
    {
      "cell_type": "code",
      "execution_count": null,
      "metadata": {
        "colab": {
          "base_uri": "https://localhost:8080/"
        },
        "id": "cad376e3",
        "outputId": "8d38cbf3-1dfc-456f-e54e-8c720e7b1bc0"
      },
      "outputs": [
        {
          "output_type": "stream",
          "name": "stdout",
          "text": [
            "index2word:  {0: 'nooooooooo'}\n",
            "preprocessed_tweet:  {0: 'no'}\n"
          ]
        }
      ],
      "source": [
        "# Test:\n",
        "tweet = ' My mom just texted.......me and told *ship* James that Rodney3 charlie wasï¿½ *** chasing?? and fireflies... in their :)) backyard. Awwwww I`m miss him!!! @hoanglam 123 ://    http://twitpic.com/66pn1'\n",
        "tweet2 = 'nooooooooo'\n",
        "index2word_temp,preprocessed_tweet_temp = preprocessing_text(tweet2,1)\n",
        "print('index2word: ',index2word_temp)\n",
        "print('preprocessed_tweet: ',preprocessed_tweet_temp)"
      ],
      "id": "cad376e3"
    },
    {
      "cell_type": "code",
      "execution_count": null,
      "metadata": {
        "colab": {
          "base_uri": "https://localhost:8080/"
        },
        "id": "ii4Zq1Ik8GIf",
        "outputId": "21d8236a-5c02-40c3-97ea-74fa5d467dca"
      },
      "outputs": [
        {
          "output_type": "execute_result",
          "data": {
            "application/vnd.google.colaboratory.intrinsic+json": {
              "type": "string"
            },
            "text/plain": [
              "':))))))'"
            ]
          },
          "metadata": {},
          "execution_count": 22
        }
      ],
      "source": [
        "char_repeat_correct.replace(':))))))')"
      ],
      "id": "ii4Zq1Ik8GIf"
    },
    {
      "cell_type": "code",
      "execution_count": null,
      "metadata": {
        "id": "49c6777d"
      },
      "outputs": [],
      "source": [
        "\n",
        "def preprocess_tweets(X_df):\n",
        "  X_df = X_df.copy()\n",
        "  raw_tweets = X_df.text.to_list()\n",
        "  X_df.sentiment = X_df.sentiment.map({'negative':-1,'neutral':0,'positive':1})\n",
        "  index2word_tweets = [] #list of dictionaries\n",
        "  preprocessed_tweets = [] #list of dictionaries\n",
        "  cleaned_texts = []\n",
        "  for tweet,senti in zip(raw_tweets,X_df.sentiment.to_list()):\n",
        "    index2word, preprocessed = preprocessing_text(tweet,senti)\n",
        "    index2word_tweets.append(index2word)\n",
        "    preprocessed_tweets.append(preprocessed)\n",
        "    cleaned_texts.append(' '.join(list(preprocessed.values())))\n",
        "  preprocessed_X_df = pd.DataFrame(data={'textID':X_df.textID,'index2word':index2word_tweets, 'preprocessed_texts':preprocessed_tweets,'sentiment':X_df.sentiment})\n",
        "  cleaned_int2text_df = pd.DataFrame(data={'textID':X_df.textID,'Raw_text':X_df.text, 'Cleaned_texts':cleaned_texts,'sentiment':X_df.sentiment})\n",
        "  return preprocessed_X_df,cleaned_int2text_df\n",
        "\n",
        "def _preprocessed_y_ex(X_df,y_ex):\n",
        "  preprocessed_y_ex = []\n",
        "  X_df = X_df.copy()\n",
        "  cleaned_texts = []\n",
        "  for tweet,senti in zip(y_ex.to_list(),X_df.sentiment.to_list()):\n",
        "      index2word, preprocessed_y = preprocessing_text(tweet,senti)\n",
        "      preprocessed_y_ex.append(preprocessed_y)\n",
        "      cleaned_texts.append(' '.join(list(preprocessed_y.values())))\n",
        "\n",
        "  X_df['sentiment'] = X_df.sentiment.map({'negative':-1,'neutral':0,'positive':1}).to_list()\n",
        "  return pd.DataFrame(data = {'preprocessed_texts': preprocessed_y_ex,'Cleaned_text': cleaned_texts,'sentiment':X_df.sentiment})\n",
        "\n"
      ],
      "id": "49c6777d"
    },
    {
      "cell_type": "code",
      "execution_count": null,
      "metadata": {
        "colab": {
          "base_uri": "https://localhost:8080/"
        },
        "id": "xPa_6PkUHBJ-",
        "outputId": "68056e21-429b-42b0-a649-e6cc5392df4a"
      },
      "outputs": [
        {
          "output_type": "execute_result",
          "data": {
            "text/html": [
              "<div>\n",
              "<style scoped>\n",
              "    .dataframe tbody tr th:only-of-type {\n",
              "        vertical-align: middle;\n",
              "    }\n",
              "\n",
              "    .dataframe tbody tr th {\n",
              "        vertical-align: top;\n",
              "    }\n",
              "\n",
              "    .dataframe thead th {\n",
              "        text-align: right;\n",
              "    }\n",
              "</style>\n",
              "<table border=\"1\" class=\"dataframe\">\n",
              "  <thead>\n",
              "    <tr style=\"text-align: right;\">\n",
              "      <th></th>\n",
              "      <th>textID</th>\n",
              "      <th>text</th>\n",
              "      <th>sentiment</th>\n",
              "    </tr>\n",
              "  </thead>\n",
              "  <tbody>\n",
              "    <tr>\n",
              "      <th>652</th>\n",
              "      <td>a834cef9c6</td>\n",
              "      <td>1st presentation for senior boards? FML</td>\n",
              "      <td>negative</td>\n",
              "    </tr>\n",
              "    <tr>\n",
              "      <th>24883</th>\n",
              "      <td>5bfad683d5</td>\n",
              "      <td>yummy curry  save me some please lol</td>\n",
              "      <td>positive</td>\n",
              "    </tr>\n",
              "    <tr>\n",
              "      <th>15385</th>\n",
              "      <td>08a8d660b1</td>\n",
              "      <td>I wish I knew someone down there who could hook us up.   a friend told me once that they got crappy seats for a show in CHI</td>\n",
              "      <td>negative</td>\n",
              "    </tr>\n",
              "    <tr>\n",
              "      <th>16753</th>\n",
              "      <td>99a0ff3bef</td>\n",
              "      <td>Lucky u Im stuck in the rain...</td>\n",
              "      <td>neutral</td>\n",
              "    </tr>\n",
              "    <tr>\n",
              "      <th>19</th>\n",
              "      <td>40e7becabf</td>\n",
              "      <td>Hes just not that into you</td>\n",
              "      <td>neutral</td>\n",
              "    </tr>\n",
              "  </tbody>\n",
              "</table>\n",
              "</div>"
            ],
            "text/plain": [
              "           textID  ... sentiment\n",
              "652    a834cef9c6  ...  negative\n",
              "24883  5bfad683d5  ...  positive\n",
              "15385  08a8d660b1  ...  negative\n",
              "16753  99a0ff3bef  ...   neutral\n",
              "19     40e7becabf  ...   neutral\n",
              "\n",
              "[5 rows x 3 columns]"
            ]
          },
          "metadata": {},
          "execution_count": 24
        }
      ],
      "source": [
        "train_X_df.head(5)"
      ],
      "id": "xPa_6PkUHBJ-"
    },
    {
      "cell_type": "code",
      "execution_count": null,
      "metadata": {
        "id": "Vv5SE8NKFOPc"
      },
      "outputs": [],
      "source": [
        "#_preprocessed_y_ex(train_X_df.head(100),train_y_ex.head(100))"
      ],
      "id": "Vv5SE8NKFOPc"
    },
    {
      "cell_type": "code",
      "execution_count": null,
      "metadata": {
        "id": "z6ik6GL6Te_F"
      },
      "outputs": [],
      "source": [
        ""
      ],
      "id": "z6ik6GL6Te_F"
    },
    {
      "cell_type": "code",
      "execution_count": null,
      "metadata": {
        "colab": {
          "base_uri": "https://localhost:8080/"
        },
        "id": "JQQ1nPTw_X_7",
        "outputId": "4ca8082f-33a0-4428-83e3-25e73b39317d"
      },
      "outputs": [
        {
          "output_type": "execute_result",
          "data": {
            "text/html": [
              "<div>\n",
              "<style scoped>\n",
              "    .dataframe tbody tr th:only-of-type {\n",
              "        vertical-align: middle;\n",
              "    }\n",
              "\n",
              "    .dataframe tbody tr th {\n",
              "        vertical-align: top;\n",
              "    }\n",
              "\n",
              "    .dataframe thead th {\n",
              "        text-align: right;\n",
              "    }\n",
              "</style>\n",
              "<table border=\"1\" class=\"dataframe\">\n",
              "  <thead>\n",
              "    <tr style=\"text-align: right;\">\n",
              "      <th></th>\n",
              "      <th>textID</th>\n",
              "      <th>index2word</th>\n",
              "      <th>preprocessed_texts</th>\n",
              "      <th>sentiment</th>\n",
              "    </tr>\n",
              "  </thead>\n",
              "  <tbody>\n",
              "    <tr>\n",
              "      <th>652</th>\n",
              "      <td>a834cef9c6</td>\n",
              "      <td>{0: '1st', 1: 'presentation', 2: 'for', 3: 'senior', 4: 'boards?', 5: 'FML'}</td>\n",
              "      <td>{0: 'st', 1: 'presentation', 2: 'for', 3: 'senior', 4: 'boards', 5: 'fml'}</td>\n",
              "      <td>-1</td>\n",
              "    </tr>\n",
              "    <tr>\n",
              "      <th>24883</th>\n",
              "      <td>5bfad683d5</td>\n",
              "      <td>{0: 'yummy', 1: 'curry', 2: 'save', 3: 'me', 4: 'some', 5: 'please', 6: 'lol'}</td>\n",
              "      <td>{0: 'yummy', 1: 'curry', 2: 'save', 3: 'me', 4: 'some', 5: 'please', 6: 'lol'}</td>\n",
              "      <td>1</td>\n",
              "    </tr>\n",
              "    <tr>\n",
              "      <th>15385</th>\n",
              "      <td>08a8d660b1</td>\n",
              "      <td>{0: 'I', 1: 'wish', 2: 'I', 3: 'knew', 4: 'someone', 5: 'down', 6: 'there', 7: 'who', 8: 'could', 9: 'hook', 10: 'us', 11: 'up.', 12: 'a', 13: 'friend', 14: 'told', 15: 'me', 16: 'once', 17: 'that...</td>\n",
              "      <td>{0: 'i', 1: 'wish', 2: 'i', 3: 'knew', 4: 'someone', 5: 'down', 6: 'there', 7: 'who', 8: 'could', 9: 'hook', 10: 'us', 11: 'up', 12: 'a', 13: 'friend', 14: 'told', 15: 'me', 16: 'once', 17: 'that'...</td>\n",
              "      <td>-1</td>\n",
              "    </tr>\n",
              "    <tr>\n",
              "      <th>16753</th>\n",
              "      <td>99a0ff3bef</td>\n",
              "      <td>{0: 'Lucky', 1: 'u', 2: 'Im', 3: 'stuck', 4: 'in', 5: 'the', 6: 'rain...'}</td>\n",
              "      <td>{0: 'lucky', 1: 'u', 2: 'im', 3: 'stuck', 4: 'in', 5: 'the', 6: 'rain'}</td>\n",
              "      <td>0</td>\n",
              "    </tr>\n",
              "    <tr>\n",
              "      <th>19</th>\n",
              "      <td>40e7becabf</td>\n",
              "      <td>{0: 'Hes', 1: 'just', 2: 'not', 3: 'that', 4: 'into', 5: 'you'}</td>\n",
              "      <td>{0: 'hes', 1: 'just', 2: 'not', 3: 'that', 4: 'into', 5: 'you'}</td>\n",
              "      <td>0</td>\n",
              "    </tr>\n",
              "    <tr>\n",
              "      <th>...</th>\n",
              "      <td>...</td>\n",
              "      <td>...</td>\n",
              "      <td>...</td>\n",
              "      <td>...</td>\n",
              "    </tr>\n",
              "    <tr>\n",
              "      <th>16799</th>\n",
              "      <td>82d211bdd5</td>\n",
              "      <td>{0: 'i', 1: 'think', 2: 'i', 3: 'hate', 4: 'you.', 5: 'i', 6: 'didnt', 7: 'really', 8: 'want', 9: 'to', 10: 'but', 11: 'you', 12: 'make', 13: 'it', 14: 'hard', 15: 'for', 16: 'me', 17: 'to', 18: '...</td>\n",
              "      <td>{0: 'i', 1: 'think', 2: 'i', 3: 'hate', 4: 'you', 5: 'i', 6: 'didnt', 7: 'really', 8: 'want', 9: 'to', 10: 'but', 11: 'you', 12: 'make', 13: 'it', 14: 'hard', 15: 'for', 16: 'me', 17: 'to', 18: 'l...</td>\n",
              "      <td>-1</td>\n",
              "    </tr>\n",
              "    <tr>\n",
              "      <th>6706</th>\n",
              "      <td>7a775cc933</td>\n",
              "      <td>{0: 'If', 1: 'I', 2: 'were', 3: 'a', 4: 'transformer...', 5: 'I`d', 6: 'step', 7: 'on', 8: 'people', 9: 'just', 10: 'to', 11: 'hear', 12: 'them', 13: '*squoosh*.', 14: 'But', 15: 'I`m', 16: 'not',...</td>\n",
              "      <td>{0: 'if', 1: 'i', 2: 'were', 3: 'a', 4: 'transformer', 5: 'id', 6: 'step', 7: 'on', 8: 'people', 9: 'just', 10: 'to', 11: 'hear', 12: 'them', 13: 'squosh', 14: 'but', 15: 'im', 16: 'not', 17: 'so'...</td>\n",
              "      <td>0</td>\n",
              "    </tr>\n",
              "    <tr>\n",
              "      <th>1967</th>\n",
              "      <td>127ac4d1d2</td>\n",
              "      <td>{0: 'ohay', 1: 'clean', 2: 'teeth'}</td>\n",
              "      <td>{0: 'ohay', 1: 'clean', 2: 'teeth'}</td>\n",
              "      <td>1</td>\n",
              "    </tr>\n",
              "    <tr>\n",
              "      <th>9181</th>\n",
              "      <td>4b8cb4449b</td>\n",
              "      <td>{0: 'Im', 1: 'fine', 2: 'also..up', 3: 'way', 4: 'to', 5: 'early..lol...soo', 6: 'those', 7: 'r', 8: 'all', 9: 'ur', 10: 'dogs?', 11: 'to', 12: 'kut3', 13: '..i', 14: 'def', 15: 'want', 16: 'a', 1...</td>\n",
              "      <td>{0: 'im', 1: 'fine', 2: 'alsoup', 3: 'way', 4: 'to', 5: 'earlylolso', 6: 'those', 7: 'r', 8: 'all', 9: 'ur', 10: 'dogs', 11: 'to', 12: 'kut', 13: 'i', 14: 'def', 15: 'want', 16: 'a', 17: 'pit', 18...</td>\n",
              "      <td>0</td>\n",
              "    </tr>\n",
              "    <tr>\n",
              "      <th>17204</th>\n",
              "      <td>c06c7c3adf</td>\n",
              "      <td>{0: 'How', 1: 'about', 2: 'give', 3: 'golf', 4: 'lessons??', 5: 'AND', 6: 'sing', 7: 'to', 8: 'your', 9: 'student', 10: 'taking', 11: 'lessons??', 12: '(JAKEOWEN2009', 13: 'live', 14: '&gt;', 15: 'ht...</td>\n",
              "      <td>{0: 'how', 1: 'about', 2: 'give', 3: 'golf', 4: 'lessons', 5: 'and', 6: 'sing', 7: 'to', 8: 'your', 9: 'student', 10: 'taking', 11: 'lessons', 12: 'jakeowen', 13: 'live', 14: 'Special', 15: 'URL'}</td>\n",
              "      <td>0</td>\n",
              "    </tr>\n",
              "  </tbody>\n",
              "</table>\n",
              "<p>100 rows × 4 columns</p>\n",
              "</div>"
            ],
            "text/plain": [
              "           textID  ... sentiment\n",
              "652    a834cef9c6  ...        -1\n",
              "24883  5bfad683d5  ...         1\n",
              "15385  08a8d660b1  ...        -1\n",
              "16753  99a0ff3bef  ...         0\n",
              "19     40e7becabf  ...         0\n",
              "...           ...  ...       ...\n",
              "16799  82d211bdd5  ...        -1\n",
              "6706   7a775cc933  ...         0\n",
              "1967   127ac4d1d2  ...         1\n",
              "9181   4b8cb4449b  ...         0\n",
              "17204  c06c7c3adf  ...         0\n",
              "\n",
              "[100 rows x 4 columns]"
            ]
          },
          "metadata": {},
          "execution_count": 26
        }
      ],
      "source": [
        "# Test:\n",
        "preprocessed_X_df_temp,cleaned_int2text_df_temp = preprocess_tweets(train_X_df.head(100))\n",
        "preprocessed_X_df_temp"
      ],
      "id": "JQQ1nPTw_X_7"
    },
    {
      "cell_type": "code",
      "execution_count": null,
      "metadata": {
        "id": "XROLAww9DetK"
      },
      "outputs": [],
      "source": [
        ""
      ],
      "id": "XROLAww9DetK"
    },
    {
      "cell_type": "markdown",
      "metadata": {
        "id": "YbNc5z3IDZt1"
      },
      "source": [
        "### 2. Mô hình hoá dữ liệu:"
      ],
      "id": "YbNc5z3IDZt1"
    },
    {
      "cell_type": "markdown",
      "metadata": {
        "id": "2Mui8N94wDFm"
      },
      "source": [
        "#### 2.1 Tiền xử lý:"
      ],
      "id": "2Mui8N94wDFm"
    },
    {
      "cell_type": "code",
      "execution_count": null,
      "metadata": {
        "id": "g4uXbxBij9Je"
      },
      "outputs": [],
      "source": [
        "preprocessed_train_X, cleaned_train_X = preprocess_tweets(train_X_df)\n",
        "preprocessed_train_y_ex = _preprocessed_y_ex(train_X_df,train_y_ex)\n",
        "preprocessed_val_X, cleaned_val_X = preprocess_tweets(val_X_df)\n",
        "preprocessed_val_y_ex = _preprocessed_y_ex(val_X_df,val_y_ex)"
      ],
      "id": "g4uXbxBij9Je"
    },
    {
      "cell_type": "code",
      "execution_count": null,
      "metadata": {
        "id": "AnvLrVHRGtmV"
      },
      "outputs": [],
      "source": [
        "#cleaned_train_X"
      ],
      "id": "AnvLrVHRGtmV"
    },
    {
      "cell_type": "code",
      "execution_count": null,
      "metadata": {
        "colab": {
          "base_uri": "https://localhost:8080/"
        },
        "id": "sfxKU98rtfkD",
        "outputId": "f679e819-55d9-4db5-c61d-1fa2b5329388"
      },
      "outputs": [
        {
          "output_type": "execute_result",
          "data": {
            "text/html": [
              "<div>\n",
              "<style scoped>\n",
              "    .dataframe tbody tr th:only-of-type {\n",
              "        vertical-align: middle;\n",
              "    }\n",
              "\n",
              "    .dataframe tbody tr th {\n",
              "        vertical-align: top;\n",
              "    }\n",
              "\n",
              "    .dataframe thead th {\n",
              "        text-align: right;\n",
              "    }\n",
              "</style>\n",
              "<table border=\"1\" class=\"dataframe\">\n",
              "  <thead>\n",
              "    <tr style=\"text-align: right;\">\n",
              "      <th></th>\n",
              "      <th>text</th>\n",
              "      <th>selected_text</th>\n",
              "      <th>sentiment</th>\n",
              "    </tr>\n",
              "  </thead>\n",
              "  <tbody>\n",
              "    <tr>\n",
              "      <th>652</th>\n",
              "      <td>{0: 'st', 1: 'presentation', 2: 'for', 3: 'senior', 4: 'boards', 5: 'fml'}</td>\n",
              "      <td>{0: 'fml'}</td>\n",
              "      <td>-1</td>\n",
              "    </tr>\n",
              "    <tr>\n",
              "      <th>24883</th>\n",
              "      <td>{0: 'yummy', 1: 'curry', 2: 'save', 3: 'me', 4: 'some', 5: 'please', 6: 'lol'}</td>\n",
              "      <td>{0: 'yummy'}</td>\n",
              "      <td>1</td>\n",
              "    </tr>\n",
              "    <tr>\n",
              "      <th>15385</th>\n",
              "      <td>{0: 'i', 1: 'wish', 2: 'i', 3: 'knew', 4: 'someone', 5: 'down', 6: 'there', 7: 'who', 8: 'could', 9: 'hook', 10: 'us', 11: 'up', 12: 'a', 13: 'friend', 14: 'told', 15: 'me', 16: 'once', 17: 'that'...</td>\n",
              "      <td>{0: 'p', 1: 'a', 2: 'friend', 3: 'told', 4: 'me', 5: 'once', 6: 'that', 7: 'they', 8: 'got', 9: 'crappy', 10: 'seats', 11: 'for', 12: 'a', 13: 'show', 14: 'in'}</td>\n",
              "      <td>-1</td>\n",
              "    </tr>\n",
              "    <tr>\n",
              "      <th>16753</th>\n",
              "      <td>{0: 'lucky', 1: 'u', 2: 'im', 3: 'stuck', 4: 'in', 5: 'the', 6: 'rain'}</td>\n",
              "      <td>{0: 'lucky', 1: 'u', 2: 'im', 3: 'stuck', 4: 'in', 5: 'the', 6: 'rain'}</td>\n",
              "      <td>0</td>\n",
              "    </tr>\n",
              "    <tr>\n",
              "      <th>19</th>\n",
              "      <td>{0: 'hes', 1: 'just', 2: 'not', 3: 'that', 4: 'into', 5: 'you'}</td>\n",
              "      <td>{0: 'hes', 1: 'just', 2: 'not', 3: 'that', 4: 'into', 5: 'you'}</td>\n",
              "      <td>0</td>\n",
              "    </tr>\n",
              "    <tr>\n",
              "      <th>23126</th>\n",
              "      <td>{0: 'gah', 1: 'Special', 2: 'this', 3: 'weather', 4: 'sucksss', 5: 'Special'}</td>\n",
              "      <td>{0: 'gah', 1: 'Special', 2: 'this', 3: 'weather', 4: 'sucksss', 5: 'Special'}</td>\n",
              "      <td>-1</td>\n",
              "    </tr>\n",
              "    <tr>\n",
              "      <th>27051</th>\n",
              "      <td>{0: 'apologies', 1: 'dont', 2: 'fix', 3: 'hurt', 4: 'feelings', 5: 'kev', 6: 'anyway', 7: 'ill', 8: 'get', 9: 'it', 10: 'from', 11: 'u', 12: 'next', 13: 'time', 14: 'i', 15: 'c', 16: 'u'}</td>\n",
              "      <td>{0: 'apologies', 1: 'dont', 2: 'fix', 3: 'hurt', 4: 'feelings', 5: 'kev'}</td>\n",
              "      <td>-1</td>\n",
              "    </tr>\n",
              "    <tr>\n",
              "      <th>11314</th>\n",
              "      <td>{0: 'Special', 1: 'follow', 2: 'my', 3: 'girl', 4: 'meagan'}</td>\n",
              "      <td>{0: 'Special', 1: 'follow', 2: 'my', 3: 'girl', 4: 'meagan'}</td>\n",
              "      <td>0</td>\n",
              "    </tr>\n",
              "    <tr>\n",
              "      <th>5854</th>\n",
              "      <td>{0: 'this', 1: 'is', 2: 'really', 3: 'helpful', 4: 'you', 5: 'swear', 6: 'a', 7: 'lot', 8: 'i', 9: 'just', 10: 'realized', 11: 'haha'}</td>\n",
              "      <td>{0: 'helpful'}</td>\n",
              "      <td>1</td>\n",
              "    </tr>\n",
              "    <tr>\n",
              "      <th>8160</th>\n",
              "      <td>{0: 'happy', 1: 'mothers', 2: 'day', 3: 'x', 4: 'mum', 5: 'i', 6: 'love', 7: 'you'}</td>\n",
              "      <td>{0: 'happy'}</td>\n",
              "      <td>1</td>\n",
              "    </tr>\n",
              "  </tbody>\n",
              "</table>\n",
              "</div>"
            ],
            "text/plain": [
              "                                                                                                                                                                                                          text  ... sentiment\n",
              "652                                                                                                                                 {0: 'st', 1: 'presentation', 2: 'for', 3: 'senior', 4: 'boards', 5: 'fml'}  ...        -1\n",
              "24883                                                                                                                           {0: 'yummy', 1: 'curry', 2: 'save', 3: 'me', 4: 'some', 5: 'please', 6: 'lol'}  ...         1\n",
              "15385  {0: 'i', 1: 'wish', 2: 'i', 3: 'knew', 4: 'someone', 5: 'down', 6: 'there', 7: 'who', 8: 'could', 9: 'hook', 10: 'us', 11: 'up', 12: 'a', 13: 'friend', 14: 'told', 15: 'me', 16: 'once', 17: 'that'...  ...        -1\n",
              "16753                                                                                                                                  {0: 'lucky', 1: 'u', 2: 'im', 3: 'stuck', 4: 'in', 5: 'the', 6: 'rain'}  ...         0\n",
              "19                                                                                                                                             {0: 'hes', 1: 'just', 2: 'not', 3: 'that', 4: 'into', 5: 'you'}  ...         0\n",
              "23126                                                                                                                            {0: 'gah', 1: 'Special', 2: 'this', 3: 'weather', 4: 'sucksss', 5: 'Special'}  ...        -1\n",
              "27051              {0: 'apologies', 1: 'dont', 2: 'fix', 3: 'hurt', 4: 'feelings', 5: 'kev', 6: 'anyway', 7: 'ill', 8: 'get', 9: 'it', 10: 'from', 11: 'u', 12: 'next', 13: 'time', 14: 'i', 15: 'c', 16: 'u'}  ...        -1\n",
              "11314                                                                                                                                             {0: 'Special', 1: 'follow', 2: 'my', 3: 'girl', 4: 'meagan'}  ...         0\n",
              "5854                                                                    {0: 'this', 1: 'is', 2: 'really', 3: 'helpful', 4: 'you', 5: 'swear', 6: 'a', 7: 'lot', 8: 'i', 9: 'just', 10: 'realized', 11: 'haha'}  ...         1\n",
              "8160                                                                                                                       {0: 'happy', 1: 'mothers', 2: 'day', 3: 'x', 4: 'mum', 5: 'i', 6: 'love', 7: 'you'}  ...         1\n",
              "\n",
              "[10 rows x 3 columns]"
            ]
          },
          "metadata": {},
          "execution_count": 29
        }
      ],
      "source": [
        "#pd.set_option('display.max_rows', df.shape[0]+1)\n",
        "visual_df = pd.DataFrame(data ={'text':preprocessed_train_X.preprocessed_texts,'selected_text':preprocessed_train_y_ex.preprocessed_texts,'sentiment':preprocessed_train_X.sentiment})\n",
        "visual_df.head(10)"
      ],
      "id": "sfxKU98rtfkD"
    },
    {
      "cell_type": "code",
      "source": [
        "preprocessed_train_y_ex"
      ],
      "metadata": {
        "colab": {
          "base_uri": "https://localhost:8080/"
        },
        "id": "_Jx-2fwz9zAQ",
        "outputId": "27c3d6af-8bb9-4b49-a2f5-696cac720f72"
      },
      "id": "_Jx-2fwz9zAQ",
      "execution_count": null,
      "outputs": [
        {
          "output_type": "execute_result",
          "data": {
            "text/html": [
              "<div>\n",
              "<style scoped>\n",
              "    .dataframe tbody tr th:only-of-type {\n",
              "        vertical-align: middle;\n",
              "    }\n",
              "\n",
              "    .dataframe tbody tr th {\n",
              "        vertical-align: top;\n",
              "    }\n",
              "\n",
              "    .dataframe thead th {\n",
              "        text-align: right;\n",
              "    }\n",
              "</style>\n",
              "<table border=\"1\" class=\"dataframe\">\n",
              "  <thead>\n",
              "    <tr style=\"text-align: right;\">\n",
              "      <th></th>\n",
              "      <th>preprocessed_texts</th>\n",
              "      <th>Cleaned_text</th>\n",
              "      <th>sentiment</th>\n",
              "    </tr>\n",
              "  </thead>\n",
              "  <tbody>\n",
              "    <tr>\n",
              "      <th>652</th>\n",
              "      <td>{0: 'fml'}</td>\n",
              "      <td>fml</td>\n",
              "      <td>-1</td>\n",
              "    </tr>\n",
              "    <tr>\n",
              "      <th>24883</th>\n",
              "      <td>{0: 'yummy'}</td>\n",
              "      <td>yummy</td>\n",
              "      <td>1</td>\n",
              "    </tr>\n",
              "    <tr>\n",
              "      <th>15385</th>\n",
              "      <td>{0: 'p', 1: 'a', 2: 'friend', 3: 'told', 4: 'me', 5: 'once', 6: 'that', 7: 'they', 8: 'got', 9: 'crappy', 10: 'seats', 11: 'for', 12: 'a', 13: 'show', 14: 'in'}</td>\n",
              "      <td>p a friend told me once that they got crappy seats for a show in</td>\n",
              "      <td>-1</td>\n",
              "    </tr>\n",
              "    <tr>\n",
              "      <th>16753</th>\n",
              "      <td>{0: 'lucky', 1: 'u', 2: 'im', 3: 'stuck', 4: 'in', 5: 'the', 6: 'rain'}</td>\n",
              "      <td>lucky u im stuck in the rain</td>\n",
              "      <td>0</td>\n",
              "    </tr>\n",
              "    <tr>\n",
              "      <th>19</th>\n",
              "      <td>{0: 'hes', 1: 'just', 2: 'not', 3: 'that', 4: 'into', 5: 'you'}</td>\n",
              "      <td>hes just not that into you</td>\n",
              "      <td>0</td>\n",
              "    </tr>\n",
              "    <tr>\n",
              "      <th>...</th>\n",
              "      <td>...</td>\n",
              "      <td>...</td>\n",
              "      <td>...</td>\n",
              "    </tr>\n",
              "    <tr>\n",
              "      <th>21628</th>\n",
              "      <td>{0: 'best'}</td>\n",
              "      <td>best</td>\n",
              "      <td>1</td>\n",
              "    </tr>\n",
              "    <tr>\n",
              "      <th>24747</th>\n",
              "      <td>{0: 'yeah', 1: 'hes', 2: 'also', 3: 'partial', 4: 'to', 5: 'jt', 6: 'and', 7: 'ti', 8: 'dead', 9: 'and', 10: 'gone', 11: 'and', 12: 'pinks', 13: 'sobre'}</td>\n",
              "      <td>yeah hes also partial to jt and ti dead and gone and pinks sobre</td>\n",
              "      <td>0</td>\n",
              "    </tr>\n",
              "    <tr>\n",
              "      <th>18164</th>\n",
              "      <td>{0: 'oui', 1: 'i', 2: 'figured', 3: 'that', 4: 'since', 5: 'its', 6: 'a', 7: 'day', 8: 'off', 9: 'id', 10: 'better', 11: 'start', 12: 'brushing', 13: 'up', 14: 'on', 15: 'my', 16: 'french', 17: 's...</td>\n",
              "      <td>oui i figured that since its a day off id better start brushing up on my french so far i have learnt bonjour and oui</td>\n",
              "      <td>0</td>\n",
              "    </tr>\n",
              "    <tr>\n",
              "      <th>10041</th>\n",
              "      <td>{0: 'if', 1: 'i', 2: 'can', 3: 'get', 4: 'a', 5: 'ticket', 6: 'but', 7: 'the', 8: 'pickings', 9: 'are', 10: 'lokin', 11: 'slim', 12: 'so', 13: 'prob', 14: 'not'}</td>\n",
              "      <td>if i can get a ticket but the pickings are lokin slim so prob not</td>\n",
              "      <td>0</td>\n",
              "    </tr>\n",
              "    <tr>\n",
              "      <th>12238</th>\n",
              "      <td>{0: 'thank', 1: 'you', 2: 'make', 3: 'sure', 4: 'u', 5: 'read', 6: 'the', 7: 'groups', 8: 'description', 9: 'to', 10: 'better', 11: 'understand', 12: 'this', 13: 'project'}</td>\n",
              "      <td>thank you make sure u read the groups description to better understand this project</td>\n",
              "      <td>1</td>\n",
              "    </tr>\n",
              "  </tbody>\n",
              "</table>\n",
              "<p>19236 rows × 3 columns</p>\n",
              "</div>"
            ],
            "text/plain": [
              "                                                                                                                                                                                            preprocessed_texts  ... sentiment\n",
              "652                                                                                                                                                                                                 {0: 'fml'}  ...        -1\n",
              "24883                                                                                                                                                                                             {0: 'yummy'}  ...         1\n",
              "15385                                         {0: 'p', 1: 'a', 2: 'friend', 3: 'told', 4: 'me', 5: 'once', 6: 'that', 7: 'they', 8: 'got', 9: 'crappy', 10: 'seats', 11: 'for', 12: 'a', 13: 'show', 14: 'in'}  ...        -1\n",
              "16753                                                                                                                                  {0: 'lucky', 1: 'u', 2: 'im', 3: 'stuck', 4: 'in', 5: 'the', 6: 'rain'}  ...         0\n",
              "19                                                                                                                                             {0: 'hes', 1: 'just', 2: 'not', 3: 'that', 4: 'into', 5: 'you'}  ...         0\n",
              "...                                                                                                                                                                                                        ...  ...       ...\n",
              "21628                                                                                                                                                                                              {0: 'best'}  ...         1\n",
              "24747                                                {0: 'yeah', 1: 'hes', 2: 'also', 3: 'partial', 4: 'to', 5: 'jt', 6: 'and', 7: 'ti', 8: 'dead', 9: 'and', 10: 'gone', 11: 'and', 12: 'pinks', 13: 'sobre'}  ...         0\n",
              "18164  {0: 'oui', 1: 'i', 2: 'figured', 3: 'that', 4: 'since', 5: 'its', 6: 'a', 7: 'day', 8: 'off', 9: 'id', 10: 'better', 11: 'start', 12: 'brushing', 13: 'up', 14: 'on', 15: 'my', 16: 'french', 17: 's...  ...         0\n",
              "10041                                        {0: 'if', 1: 'i', 2: 'can', 3: 'get', 4: 'a', 5: 'ticket', 6: 'but', 7: 'the', 8: 'pickings', 9: 'are', 10: 'lokin', 11: 'slim', 12: 'so', 13: 'prob', 14: 'not'}  ...         0\n",
              "12238                             {0: 'thank', 1: 'you', 2: 'make', 3: 'sure', 4: 'u', 5: 'read', 6: 'the', 7: 'groups', 8: 'description', 9: 'to', 10: 'better', 11: 'understand', 12: 'this', 13: 'project'}  ...         1\n",
              "\n",
              "[19236 rows x 3 columns]"
            ]
          },
          "metadata": {},
          "execution_count": 30
        }
      ]
    },
    {
      "cell_type": "code",
      "execution_count": null,
      "metadata": {
        "colab": {
          "base_uri": "https://localhost:8080/"
        },
        "id": "k7mm588oV1zK",
        "outputId": "1c23f71f-838c-44d2-fffa-e0bc59c47705"
      },
      "outputs": [
        {
          "output_type": "execute_result",
          "data": {
            "text/plain": [
              "88.02364430737599"
            ]
          },
          "metadata": {},
          "execution_count": 31
        }
      ],
      "source": [
        "# pd.set_option('display.max_rows', df.shape[0]+1)\n",
        "neutral_df = visual_df.loc[visual_df.sentiment ==0,:]\n",
        "#neutral_df\n",
        "len_neutral_df = neutral_df.loc[:,['text','selected_text']].applymap(len)\n",
        "index_neutral = len_neutral_df.loc[len_neutral_df.text == len_neutral_df.selected_text,:]\n",
        "#cleaned_train_X.loc[index_neutral.index,:]\n",
        "(index_neutral.shape[0]/ neutral_df.shape[0])*100\n",
        "# pd.DataFrame(data ={'origin':cleaned_train_X.Raw_text,'text':cleaned_train_X.Cleaned_texts,'selected_text':preprocessed_train_y_ex.preprocessed_texts}).loc[index_neutral_diff.index,:]"
      ],
      "id": "k7mm588oV1zK"
    },
    {
      "cell_type": "code",
      "execution_count": null,
      "metadata": {
        "colab": {
          "base_uri": "https://localhost:8080/"
        },
        "id": "QdPY3A5neVpH",
        "outputId": "454eb741-a28a-4707-d9df-4df22fe1c39b"
      },
      "outputs": [
        {
          "output_type": "execute_result",
          "data": {
            "text/html": [
              "<div>\n",
              "<style scoped>\n",
              "    .dataframe tbody tr th:only-of-type {\n",
              "        vertical-align: middle;\n",
              "    }\n",
              "\n",
              "    .dataframe tbody tr th {\n",
              "        vertical-align: top;\n",
              "    }\n",
              "\n",
              "    .dataframe thead th {\n",
              "        text-align: right;\n",
              "    }\n",
              "</style>\n",
              "<table border=\"1\" class=\"dataframe\">\n",
              "  <thead>\n",
              "    <tr style=\"text-align: right;\">\n",
              "      <th></th>\n",
              "      <th>text</th>\n",
              "      <th>selected_text</th>\n",
              "    </tr>\n",
              "  </thead>\n",
              "  <tbody>\n",
              "    <tr>\n",
              "      <th>652</th>\n",
              "      <td>6</td>\n",
              "      <td>1</td>\n",
              "    </tr>\n",
              "    <tr>\n",
              "      <th>25356</th>\n",
              "      <td>3</td>\n",
              "      <td>1</td>\n",
              "    </tr>\n",
              "    <tr>\n",
              "      <th>9843</th>\n",
              "      <td>3</td>\n",
              "      <td>1</td>\n",
              "    </tr>\n",
              "    <tr>\n",
              "      <th>11309</th>\n",
              "      <td>13</td>\n",
              "      <td>1</td>\n",
              "    </tr>\n",
              "    <tr>\n",
              "      <th>724</th>\n",
              "      <td>7</td>\n",
              "      <td>1</td>\n",
              "    </tr>\n",
              "    <tr>\n",
              "      <th>...</th>\n",
              "      <td>...</td>\n",
              "      <td>...</td>\n",
              "    </tr>\n",
              "    <tr>\n",
              "      <th>12530</th>\n",
              "      <td>9</td>\n",
              "      <td>1</td>\n",
              "    </tr>\n",
              "    <tr>\n",
              "      <th>13957</th>\n",
              "      <td>8</td>\n",
              "      <td>1</td>\n",
              "    </tr>\n",
              "    <tr>\n",
              "      <th>2969</th>\n",
              "      <td>16</td>\n",
              "      <td>1</td>\n",
              "    </tr>\n",
              "    <tr>\n",
              "      <th>24444</th>\n",
              "      <td>21</td>\n",
              "      <td>1</td>\n",
              "    </tr>\n",
              "    <tr>\n",
              "      <th>9377</th>\n",
              "      <td>12</td>\n",
              "      <td>1</td>\n",
              "    </tr>\n",
              "  </tbody>\n",
              "</table>\n",
              "<p>2099 rows × 2 columns</p>\n",
              "</div>"
            ],
            "text/plain": [
              "       text  selected_text\n",
              "652       6              1\n",
              "25356     3              1\n",
              "9843      3              1\n",
              "11309    13              1\n",
              "724       7              1\n",
              "...     ...            ...\n",
              "12530     9              1\n",
              "13957     8              1\n",
              "2969     16              1\n",
              "24444    21              1\n",
              "9377     12              1\n",
              "\n",
              "[2099 rows x 2 columns]"
            ]
          },
          "metadata": {},
          "execution_count": 32
        }
      ],
      "source": [
        "pos_df = visual_df.loc[visual_df.sentiment ==-1\n",
        "                       ,:]\n",
        "len_pos_df = pos_df.loc[:,['text','selected_text']].applymap(len)\n",
        "# len_pos_df.selected_text.value_counts(normalize= True)*100\n",
        "len_pos_df.loc[len_pos_df.selected_text == 1,:]"
      ],
      "id": "QdPY3A5neVpH"
    },
    {
      "cell_type": "code",
      "execution_count": null,
      "metadata": {
        "id": "YHzR4cPKvshU"
      },
      "outputs": [],
      "source": [
        "# pos_visual_df = visual_df.loc[visual_df.sentiment == 1,:]\n",
        "# pos_visual_df.text.apply(len).max()"
      ],
      "id": "YHzR4cPKvshU"
    },
    {
      "cell_type": "markdown",
      "metadata": {
        "id": "7nfI3h5N5urf"
      },
      "source": [
        "#### 2.2 Viết class và tinh chỉnh mô hình"
      ],
      "id": "7nfI3h5N5urf"
    },
    {
      "cell_type": "markdown",
      "metadata": {
        "id": "cQnfsTiR4bMI"
      },
      "source": [
        "##### 2.2.1 Sentiment Classification Class"
      ],
      "id": "cQnfsTiR4bMI"
    },
    {
      "cell_type": "code",
      "execution_count": null,
      "metadata": {
        "id": "cUj52lCMtxqA"
      },
      "outputs": [],
      "source": [
        "class Sentiment_Classification(object):\n",
        "  def __init__(self,_max_depth = 3):\n",
        "        #self.num_top_titles = num_top_titles\n",
        "        self._max_depth = _max_depth\n",
        "  def extract_features(self,tweet, likelihood):\n",
        "    '''\n",
        "    Input: \n",
        "        tweet: a dictionary of words for one tweet\n",
        "        likelihood: a dictionary corresponding to the score representation of each word\n",
        "    Output: \n",
        "        x: a feature vector of dimension (1,3)\n",
        "    '''\n",
        "    word_l = list(tweet.values())\n",
        "    # 3 elements in the form of a 1 x 3 vector\n",
        "    x = np.zeros((1, 3))   \n",
        "    # loop through each word in the list of words\n",
        "    for word in word_l:\n",
        "        if likelihood.get(word,0)!=0:\n",
        "          # increment the word count for the positive label 1\n",
        "          x[0,0] += likelihood[word][0]\n",
        "        \n",
        "          # increment the word count for the negative label 0\n",
        "          x[0,1] += likelihood[word][1]\n",
        "\n",
        "          x[0,2] += likelihood[word][2]\n",
        "    assert(x.shape == (1, 3))\n",
        "    return x\n",
        "  def sentence_embeddings(self,preprocessed_X_df,likelihood):\n",
        "    sentences = preprocessed_X_df.preprocessed_texts.to_list()\n",
        "    X = np.zeros(shape = (len(sentences),3))\n",
        "    for i in range(len(sentences)):\n",
        "      X[i, :]= self.extract_features(sentences[i], likelihood)\n",
        "    assert(X.shape == (len(sentences), 3))\n",
        "    return X\n",
        "  def _fit(self,preprocessed_y_ex,likelihood):\n",
        "    # freqs_temp_train = tse_st.count_tweets(preprocessed_train_X_y)\n",
        "    # vob_temp_train, likelihood_temp_train = tse_st.score_representation(freqs_temp_train,preprocessed_train_X_y)\n",
        "    self._likelihood = likelihood\n",
        "    train_X_TC = self.sentence_embeddings(preprocessed_y_ex,likelihood)\n",
        "    train_y_TC = np.array(preprocessed_y_ex.sentiment.to_list())\n",
        "    clf_RT = RandomForestClassifier(max_depth=self._max_depth, random_state=40)\n",
        "    #clf = SVC(gamma='auto',probability = True,random_state=1)\n",
        "    self.sentiment_tool = clf_RT.fit(train_X_TC,train_y_TC)\n",
        "    self.RT_score = clf_RT.score(train_X_TC,train_y_TC)\n",
        "    #self.score_train = self.sentiment_tool.score(X,y)\n",
        "    return self\n",
        "  def _predict(self,embeddings_X):\n",
        "    # predict_word_temp = np.array(likelihood_temp['on']).reshape(1,3)\n",
        "    # predict_tweet_temp = extract_features({0: 'hate'}\t\t,likelihood_temp)\n",
        "    result = self.sentiment_tool.predict(embeddings_X)\n",
        "    return result"
      ],
      "id": "cUj52lCMtxqA"
    },
    {
      "cell_type": "code",
      "execution_count": null,
      "metadata": {
        "id": "ayzn2hhwzMPg"
      },
      "outputs": [],
      "source": [
        "# preprocessed_train_X_y = pd.concat([preprocessed_train_X.loc[:,['preprocessed_texts','sentiment']],preprocessed_train_y_ex ],ignore_index= True)\n",
        "# s_temp = Sentiment_Classification()\n",
        "# result_temp = s_temp._fit(preprocessed_train_X_y,tse_st.likelihood)"
      ],
      "id": "ayzn2hhwzMPg"
    },
    {
      "cell_type": "code",
      "execution_count": null,
      "metadata": {
        "id": "hlxsEqaw316A"
      },
      "outputs": [],
      "source": [
        ""
      ],
      "id": "hlxsEqaw316A"
    },
    {
      "cell_type": "code",
      "execution_count": null,
      "metadata": {
        "id": "-g1O6RE_2j2h"
      },
      "outputs": [],
      "source": [
        "# result_temp.sentiment_tool.predict(predict_tweet_temp)"
      ],
      "id": "-g1O6RE_2j2h"
    },
    {
      "cell_type": "markdown",
      "metadata": {
        "id": "EqYF-DBe4inR"
      },
      "source": [
        "##### 2.2.2 Extraction Class"
      ],
      "id": "EqYF-DBe4inR"
    },
    {
      "cell_type": "code",
      "execution_count": null,
      "metadata": {
        "colab": {
          "base_uri": "https://localhost:8080/"
        },
        "id": "9HyfLbZ5b0Am",
        "outputId": "baec87d8-be67-486d-b344-6f4d02254256"
      },
      "outputs": [
        {
          "output_type": "execute_result",
          "data": {
            "text/plain": [
              "['not',\n",
              " 'dont',\n",
              " 'doesnt',\n",
              " 'arent',\n",
              " 'isnt',\n",
              " 'havent',\n",
              " 'hasnt',\n",
              " 'didnt',\n",
              " 'wasnt',\n",
              " 'werent',\n",
              " 'hadnt',\n",
              " 'wont',\n",
              " 'shant',\n",
              " 'cant',\n",
              " 'couldnt',\n",
              " 'neitheir',\n",
              " 'nor',\n",
              " 'rare',\n",
              " 'hardli',\n",
              " 'seldom',\n",
              " 'never',\n",
              " 'no']"
            ]
          },
          "metadata": {},
          "execution_count": 37
        }
      ],
      "source": [
        "negative_form = ['not','dont','doesnt','arent','isnt','havent','hasnt','didnt','wasnt','werent','hadnt','wont','shant','cant',\\\n",
        "'couldnt','neitheir','nor','rarely','hardly','seldom','never','no']\n",
        "negative_form = [stemmer.stem(w) for w in negative_form]\n",
        "negative_form"
      ],
      "id": "9HyfLbZ5b0Am"
    },
    {
      "cell_type": "markdown",
      "metadata": {
        "id": "sQEkMeIAETLw"
      },
      "source": [
        "- Tạm thời thêm phần xử lý rút trích phủ định cho negative tweet TẠM THỜI như sau: \\\\ \n",
        "\n",
        "Xét từ phía trước nằm trong tập negative forms bên trên, nếu từ tiếp theo mang nghĩa positive thì trích nguyên cụm: negative form + positive word -> negative phrase \\\\\n",
        "\n",
        "Ví dụ: not + good -> not good -> negative\n",
        "\n",
        "\n"
      ],
      "id": "sQEkMeIAETLw"
    },
    {
      "cell_type": "code",
      "execution_count": null,
      "metadata": {
        "id": "8WSwp2TTTI5d"
      },
      "outputs": [],
      "source": [
        "afinn_wl_url = ('https://raw.githubusercontent.com'\n",
        "                '/fnielsen/afinn/master/afinn/data/AFINN-111.txt')\n",
        "\n",
        "afinn_wl_df = pd.read_csv(afinn_wl_url,\n",
        "                          header=None, # no column names\n",
        "                          sep='\\t',  # tab sepeated\n",
        "                          names=['term', 'value'])"
      ],
      "id": "8WSwp2TTTI5d"
    },
    {
      "cell_type": "code",
      "execution_count": null,
      "metadata": {
        "colab": {
          "base_uri": "https://localhost:8080/"
        },
        "id": "ht_gqSUJsIKA",
        "outputId": "72aea2d6-b75e-4128-abd9-16a2a7dfa947"
      },
      "outputs": [
        {
          "output_type": "execute_result",
          "data": {
            "text/plain": [
              "0.0"
            ]
          },
          "metadata": {},
          "execution_count": 39
        }
      ],
      "source": [
        "afinn.score('internet')"
      ],
      "id": "ht_gqSUJsIKA"
    },
    {
      "cell_type": "code",
      "execution_count": null,
      "metadata": {
        "id": "cpTYLpZBJuUj"
      },
      "outputs": [],
      "source": [
        "\n",
        "class bayes_extraction(BaseEstimator, TransformerMixin):\n",
        "    def __init__(self, k = 5,z_neg=1.65,z_neu = 1.65,z_pos=1.65,w =1, vob_threshold = 2,_max_depth = 3):\n",
        "        #self.num_top_titles = num_top_titles\n",
        "        self.k = k\n",
        "        self.z_neg = z_neg\n",
        "        self.z_neu = z_neu\n",
        "        self.z_pos = z_pos\n",
        "        self.vob_threshold = vob_threshold\n",
        "        self.w = w\n",
        "        self._max_depth = _max_depth\n",
        "    def word2freqs(self,preprocessed_X):\n",
        "        preprocessed_tweets = preprocessed_X.preprocessed_texts.to_list()\n",
        "        list_of_tweets = [list(text.values()) for text in preprocessed_tweets ]\n",
        "        vob2freq = {}\n",
        "        for tw in list_of_tweets:\n",
        "            for word in tw:\n",
        "              if vob2freq.get(word,0) !=0:\n",
        "                  vob2freq[word] +=1\n",
        "              else:\n",
        "                  vob2freq[word] = 1\n",
        "        return vob2freq\n",
        "    def count_tweets(self,preprocessed_X):\n",
        "        '''\n",
        "          Input:\n",
        "      \n",
        "            tweets: a list of tweets\n",
        "            ys: a list corresponding to the sentiment of each tweet (either 0 or 1)\n",
        "          Output:\n",
        "              result: a dictionary mapping each pair to its frequency\n",
        "        '''\n",
        "        preprocessed_X = preprocessed_X.copy()\n",
        "        y_s = preprocessed_X.sentiment.to_list()\n",
        "        preprocessed_tweets = preprocessed_X.preprocessed_texts.to_list()\n",
        "        processed_tweets = [list(text.values()) for text in preprocessed_tweets ]\n",
        "\n",
        "\n",
        "        vob2freqs = self.word2freqs(preprocessed_X)\n",
        "        freqs = {}\n",
        "\n",
        "        for y, tweet in zip(y_s, processed_tweets):\n",
        "            for word in tweet:\n",
        "                if vob2freqs[word] < self.vob_threshold and y==0:\n",
        "                    pair = ('<OOV>',y)\n",
        "                else:\n",
        "\n",
        "                    # define the key, which is the word and label tuple\n",
        "                    pair = (word,y)\n",
        "\n",
        "              # if the key exists in the dictionary, increment the count\n",
        "                if pair in freqs:\n",
        "                    freqs[pair] += 1\n",
        "\n",
        "              # else, if the key is new, add it to the dictionary and set the count to 1\n",
        "                else:\n",
        "                    freqs[pair] = 1\n",
        "\n",
        "        return freqs\n",
        "    \n",
        "    def score_representation(self,freqs,preprocessed_X):\n",
        "        likelihood = {}\n",
        "        preprocessed_X = preprocessed_X.copy()\n",
        "        train_y = preprocessed_X.sentiment.to_list()\n",
        "        preprocessed_tweets = preprocessed_X.preprocessed_texts.to_list()\n",
        "        #train_x = [list(text.values()) for text in preprocessed_tweets ]\n",
        "    \n",
        "      \n",
        "        # calculate V, the number of unique words in the vocabulary\n",
        "        vocab = set([pair[0] for pair in freqs.keys()])\n",
        "        vocabs_ = list(vocab)\n",
        "\n",
        "        V = len(vocab)\n",
        "\n",
        "        # calculate N_pos and N_neg\n",
        "        N_pos = N_neg = N_neu = 0\n",
        "        for pair in freqs.keys():\n",
        "          # if the label is positive (greater than zero)\n",
        "            if pair[1] ==1:\n",
        "\n",
        "                # Increment the number of positive words by the count for this (word, label) pair\n",
        "                  N_pos += freqs[pair]\n",
        "            elif pair[1] ==0:\n",
        "                  N_neu += freqs[pair]\n",
        "            # else, the label is negative\n",
        "            else:\n",
        "                # increment the number of negative words by the count for this (word,label) pair\n",
        "                  N_neg += freqs[pair]\n",
        "\n",
        "          # Calculate D, the number of documents\n",
        "        D = len(train_y)\n",
        "\n",
        "        for word in vocab:\n",
        "          # get the positive and negative frequency of the word\n",
        "            freq_neg = freqs.get((word,-1),0)\n",
        "            freq_neu = freqs.get((word,0),0)\n",
        "            freq_pos = freqs.get((word,1),0)\n",
        "\n",
        "\n",
        "          # calculate the probability that each word is positive, and negative , neutral\n",
        "            s_neg = freq_neg / (freq_neg + freq_neu + freq_pos)\n",
        "            s_neu = freq_neu / (freq_neg + freq_neu + freq_pos)\n",
        "            s_pos = freq_pos / (freq_neg + freq_neu + freq_pos)\n",
        "\n",
        "          # calculate the log likelihood of the word\n",
        "            #likelihood[word] = [np.log(p_w_neg),np.log(p_w_neu),np.log(p_w_pos)]\n",
        "            likelihood[word] = [s_neg,s_neu,s_pos]\n",
        "        return vocabs_, likelihood\n",
        "        \n",
        "    \n",
        "    def bayes_likelihood(self,freqs,preprocessed_X):\n",
        "        '''\n",
        "          Input:\n",
        "              freqs: dictionary from (word, label) to how often the word appears\n",
        "          Output:\n",
        "              loglikelihood: the log likelihood of you Naive bayes equation.\n",
        "        '''\n",
        "        likelihood = {}\n",
        "        preprocessed_X = preprocessed_X.copy()\n",
        "        train_y = preprocessed_X.sentiment.to_list()\n",
        "        preprocessed_tweets = preprocessed_X.preprocessed_texts.to_list()\n",
        "        #train_x = [list(text.values()) for text in preprocessed_tweets ]\n",
        "    \n",
        "\n",
        "        # calculate V, the number of unique words in the vocabulary\n",
        "        vocab = set([pair[0] for pair in freqs.keys()])\n",
        "        vocabs_ = list(vocab)\n",
        "\n",
        "        V = len(vocab)\n",
        "\n",
        "        # calculate N_pos and N_neg\n",
        "        N_pos = N_neg = N_neu = 0\n",
        "        for pair in freqs.keys():\n",
        "          # if the label is positive (greater than zero)\n",
        "            if pair[1] ==1:\n",
        "\n",
        "                # Increment the number of positive words by the count for this (word, label) pair\n",
        "                  N_pos += freqs[pair]\n",
        "            elif pair[1] ==0:\n",
        "                  N_neu += freqs[pair]\n",
        "            # else, the label is negative\n",
        "            else:\n",
        "                # increment the number of negative words by the count for this (word,label) pair\n",
        "                  N_neg += freqs[pair]\n",
        "\n",
        "          # Calculate D, the number of documents\n",
        "        D = len(train_y)\n",
        "\n",
        "        for word in vocab:\n",
        "          # get the positive and negative frequency of the word\n",
        "            freq_pos = freqs.get((word,1),0)\n",
        "            freq_neu = freqs.get((word,0),0)\n",
        "            freq_neg = freqs.get((word,-1),0)\n",
        "        \n",
        "\n",
        "          # calculate the probability that each word is positive, and negative , neutral\n",
        "            p_w_pos = (freq_pos + self.k) / (N_pos + self.k*V)\n",
        "            p_w_neu = (freq_neu + self.k) / (N_neu + self.k*V)\n",
        "            p_w_neg = (freq_neg + self.k) / (N_neg + self.k*V)\n",
        "\n",
        "          # calculate the log likelihood of the word\n",
        "            #likelihood[word] = [np.log(p_w_neg),np.log(p_w_neu),np.log(p_w_pos)]\n",
        "            likelihood[word] = [p_w_neg,p_w_neu,p_w_pos]\n",
        "        return vocabs_, likelihood\n",
        "\n",
        "    def lexical_sentiment_score(self,preprocessed_y_ex,x_likelihood):\n",
        "        y_freqs = self.count_tweets(preprocessed_y_ex) # Dùng làm trọng số rút trích\n",
        "        #vocabs_,y_likelihood = self.bayes_likelihood(y_freqs,preprocessed_y_ex)\n",
        "        N_pos = N_neg = N_neu = 0\n",
        "        for pair in y_freqs.keys():\n",
        "          # if the label is positive (greater than zero)\n",
        "            if pair[1] ==1:\n",
        "\n",
        "                # Increment the number of positive words by the count for this (word, label) pair\n",
        "                  N_pos += y_freqs[pair]\n",
        "            elif pair[1] ==0:\n",
        "                  N_neu += y_freqs[pair]\n",
        "            # else, the label is negative\n",
        "            else:\n",
        "                # increment the number of negative words by the count for this (word,label) pair\n",
        "                  N_neg += y_freqs[pair]\n",
        "\n",
        "        new_x_likelihood = x_likelihood.copy()\n",
        "        for w,l in x_likelihood.items():\n",
        "            if y_freqs.get((w,-1),0)!=0:\n",
        "                #new_x_likelihood[w][0] = np.log((1/(-new_x_likelihood[w][0]- math.pow(10,-10))) * y_freqs[(w,-1)] )\n",
        "                new_x_likelihood[w][0] = new_x_likelihood[w][0]*(y_freqs[(w,-1)])*self.w\n",
        "            if y_freqs.get((w,0),0)!=0:\n",
        "                #new_x_likelihood[w][0] = np.log((1/(-new_x_likelihood[w][1] - math.pow(10,-10)  ))* y_freqs[(w,0)]  )\n",
        "                new_x_likelihood[w][1] = new_x_likelihood[w][1]*(y_freqs[(w,0)])*self.w\n",
        "            if y_freqs.get((w,1),0)!=0:\n",
        "                #new_x_likelihood[w][0] = np.log((1/(-new_x_likelihood[w][2]- math.pow(10,-10))) * y_freqs[(w,1)] )\n",
        "                new_x_likelihood[w][2] = new_x_likelihood[w][2]*(y_freqs[(w,1)])*self.w\n",
        "        return new_x_likelihood\n",
        "           \n",
        "    def sentiment_word_net(self,likelihood):\n",
        "          # word_net = np.zeros(shape = (len(likelihood),3))\n",
        "          # list_of_score = list(likelihood.values())\n",
        "          # for i in range(len(list_of_score)):\n",
        "          #       word_net[i] = np.array(list_of_score[i])\n",
        "          # preds_sentiment = model._predict(word_net)\n",
        "          # word2sentiment = {}\n",
        "          # words = list(likelihood.keys())\n",
        "          # for w,p in zip(words,list(preds_sentiment)):\n",
        "          #       word2sentiment[w] = p\n",
        "          # return word2sentiment\n",
        "          word2sentiment = {}\n",
        "          for w,score in likelihood.items():\n",
        "             max_prob = max(score)\n",
        "             word2sentiment[w] = score.index(max_prob) -1\n",
        "          return word2sentiment\n",
        "\n",
        "    def Extract_Sentiment_Tweet(self,x_class,tweet):\n",
        "          '''input:\n",
        "                tweet: list of word'''\n",
        "          selected_tweet = []\n",
        "          s = x_class +1\n",
        "          \n",
        "          if s==1:\n",
        "            for word in tweet:\n",
        "              if self.likelihood.get(word,0) !=0:\n",
        "                    neg_prob,neu_prob,pos_prob = self.likelihood[word]\n",
        "                    threshold = 1+self.z_neu\n",
        "                    if ((neg_prob/neu_prob) < 1 + self.z_neu) or ((pos_prob/neu_prob) < 1+ self.z_neu):\n",
        "                      selected_tweet.append(word)\n",
        "              else:\n",
        "                  selected_tweet.append(word)\n",
        "          elif s==2:\n",
        "              # for word in tweet:\n",
        "              #       if self.likelihood.get(word,0) !=0:\n",
        "              #           # word2emb = np.array(self.likelihood[word]).reshape(1,3)\n",
        "              #           # _sentiment = int(self.sentiment_tool._predict(word2emb)[0])\n",
        "              #           if self.word2sentiment[word] == x_class:\n",
        "              #                 selected_tweet.append(word)\n",
        "            for word in tweet:\n",
        "              if self.likelihood.get(word,0) !=0:\n",
        "                neg_prob,neu_prob,pos_prob = self.likelihood[word]\n",
        "                max_prob = max(self.likelihood[word])\n",
        "                if self.likelihood[word].index(max_prob) == s:\n",
        "                    if abs(max_prob -neu_prob) > self.z_pos:\n",
        "                    #if max_prob/neu_prob > self.z_pos:\n",
        "                        selected_tweet.append(word)\n",
        "          else:\n",
        "              for word_pos in range(len(tweet)):\n",
        "                if self.likelihood.get(tweet[word_pos],0) !=0:\n",
        "                    max_prob = max(self.likelihood[tweet[word_pos]])\n",
        "                    neg_prob,neu_prob,pos_prob = self.likelihood[tweet[word_pos]]\n",
        "                    if word_pos <len(tweet) -1:\n",
        "                      if tweet[word_pos] in negative_form and self.word2sentiment.get(tweet[word_pos+1] ,-2)== 1:\n",
        "                        selected_tweet.append(tweet[word_pos])\n",
        "                        selected_tweet.append(tweet[word_pos +1])\n",
        "\n",
        "                    if self.word2sentiment[tweet[word_pos]] == -1:\n",
        "                          if abs(max_prob -neu_prob) > self.z_neg:\n",
        "                    #if max_prob/neu_prob > self.z_pos:\n",
        "                              selected_tweet.append(tweet[word_pos])\n",
        "\n",
        "                \n",
        "          return selected_tweet\n",
        "\n",
        "    # def Extract_Sentiment_Tweet_Log(self,x_class,tweet):\n",
        "    #     '''input:\n",
        "    #       tweet: list of word'''\n",
        "    #     selected_tweet = []\n",
        "    #     s = x_class +1\n",
        "    #     if s == 0:\n",
        "    #       z = self.z_neg\n",
        "    #     elif s==1:\n",
        "    #       z = self.z_neu\n",
        "    #     elif s ==2:\n",
        "    #       z = self.z_pos\n",
        "    #     sentiment_score = 0\n",
        "    #     word_sentiment_score = {}\n",
        "    #     word_sentiment_percent = {}\n",
        "    #     for word in tweet:\n",
        "    #       if self.likelihood.get(word,0)!=0:\n",
        "    #             word_sentiment_score[word] = self.likelihood[word][s]\n",
        "    #             sentiment_score += self.likelihood[word][s]\n",
        "    #     # Tính phần trăm đóng góp sentiment của từng từ trong câu theo tỉ lệ phần trăm:\n",
        "    #     for w,score in word_sentiment_score.items():\n",
        "    #         percentage = (abs(score) / abs(sentiment_score))*100\n",
        "    #         word_sentiment_percent[w] = percentage\n",
        "    #     #print(word_sentiment_percent)\n",
        "    #     #threshold = sorted(list(word_sentiment_percent.values()),reverse= True)[0]\n",
        "    #     #len(list(word_sentiment_percent.values()))\n",
        "    #     data = np.array(list(word_sentiment_percent.values()))\n",
        "    #     if data.shape[0] !=0:\n",
        "    #         threshold = data.mean() + z*(data.std()/math.sqrt(data.shape[0]))\n",
        "    #     else:\n",
        "    #         threshold = 0\n",
        "    #     for w,percent in word_sentiment_percent.items():\n",
        "    #         if percent < threshold:\n",
        "    #             selected_tweet.append(w)\n",
        "\n",
        "    #     return selected_tweet\n",
        "    \n",
        "    def Predict_Extract_text(self,Preprocessed_X):\n",
        "        selected = []\n",
        "        preprocessed_X = Preprocessed_X.copy()\n",
        "        y_s = preprocessed_X.sentiment.to_list()\n",
        "        preprocessed_tweets = preprocessed_X.preprocessed_texts.to_list()\n",
        "        tweets = [list(text.values()) for text in preprocessed_tweets ]\n",
        "        for y, tweet in zip(y_s,tweets):\n",
        "            #selected_predict = Extract_Sentiment_Tweet(y,tweet,likelihood)\n",
        "            selected_predict = self.Extract_Sentiment_Tweet(y,tweet)\n",
        "            selected.append(selected_predict)\n",
        "        return selected\n",
        "    def Map_Extracted(self,Preprocessed_X,extracted_text):\n",
        "        # extracted_text = self.Predict_Extract_text(Preprocessed_X)\n",
        "        index2word = Preprocessed_X.index2word.to_list()\n",
        "        preprocessed_texts = Preprocessed_X.preprocessed_texts.to_list()\n",
        "        Selected_text = []\n",
        "        for e,i,p in zip(extracted_text,index2word,preprocessed_texts):\n",
        "            Text = {}\n",
        "            for j in p.items():\n",
        "              for w in e:\n",
        "                if w == j[1]:\n",
        "                  Text[j[0]] = i[j[0]]\n",
        "          \n",
        "            Selected_text.append(\" \".join(list(Text.values())))\n",
        "        \n",
        "        return Selected_text\n",
        "\n",
        "    def jaccard(self,str1, str2): \n",
        "        a = set(str1.lower().split()) \n",
        "        b = set(str2.lower().split())\n",
        "        c = a.intersection(b)\n",
        "        return float(len(c)) / (len(a) + len(b) - len(c))\n",
        "\n",
        "    def fit(self, preprocessed_X_df, preprocessed_y_ex):\n",
        "        #preprocessed_train_X_y = pd.concat([preprocessed_X_df.loc[:,['preprocessed_texts','sentiment']],preprocessed_y_ex ],ignore_index= True)\n",
        "        self.freqs = self.count_tweets(preprocessed_X_df)\n",
        "        self.vocabs, self.init_likelihood = self.bayes_likelihood(self.freqs,preprocessed_X_df)\n",
        "        \n",
        "        #self.vocabs, self.likelihood = self.score_representation(self.freqs,preprocessed_train_X_y)\n",
        "        #self.vocabs, self.likelihood = self.bayes_likelihood(self.freqs,preprocessed_X_df)\n",
        "        self.likelihood = self.lexical_sentiment_score(preprocessed_y_ex,self.init_likelihood)\n",
        "        #self.sentiment_tool = Sentiment_Classification(_max_depth = self._max_depth)._fit(preprocessed_y_ex,self.likelihood)\n",
        "        #self.word2sentiment = self.sentiment_word_net(self.sentiment_tool,self.likelihood)\n",
        "        self.word2sentiment = self.sentiment_word_net(self.likelihood)\n",
        "        return self\n",
        "\n",
        "    def transform(self, preprocessed_X_df):\n",
        "        self.extracted_text = self.Predict_Extract_text(preprocessed_X_df)\n",
        "        selected_text = self.Map_Extracted(preprocessed_X_df,self.extracted_text)\n",
        "        return selected_text\n",
        "\n",
        "    def score(self,selected_text,y_ex):\n",
        "        score = 0\n",
        "        y_true_s = y_ex.copy().to_list()\n",
        "        for y_pred, y_true in zip(selected_text,y_true_s):\n",
        "            score += self.jaccard(str(y_true),y_pred)\n",
        "        return score/len(y_true_s)"
      ],
      "id": "cpTYLpZBJuUj"
    },
    {
      "cell_type": "code",
      "execution_count": null,
      "metadata": {
        "id": "EK8uiwX0s2Re"
      },
      "outputs": [],
      "source": [
        "#tse_st.count_tweets(preprocessed_train_y_ex)"
      ],
      "id": "EK8uiwX0s2Re"
    },
    {
      "cell_type": "markdown",
      "metadata": {
        "id": "hqomATfa9FWv"
      },
      "source": [
        "##### 2.2.2.1 Training"
      ],
      "id": "hqomATfa9FWv"
    },
    {
      "cell_type": "code",
      "execution_count": null,
      "metadata": {
        "colab": {
          "base_uri": "https://localhost:8080/"
        },
        "id": "MUSFMkrxizuV",
        "outputId": "0e259e67-c0a9-4b57-da87-6d4651b31933"
      },
      "outputs": [
        {
          "output_type": "execute_result",
          "data": {
            "text/plain": [
              "0.6249642898400228"
            ]
          },
          "metadata": {},
          "execution_count": 96
        }
      ],
      "source": [
        "# Training\n",
        "tse_st = bayes_extraction(z_pos= 0.00003,z_neu=4,z_neg = 0.00003,vob_threshold=2,k = 10)\n",
        "selected_train_X = tse_st.fit_transform(preprocessed_train_X,preprocessed_train_y_ex)\n",
        "#selected_train_X = tse_st.extract(preprocessed_train_X)\n",
        "tse_st.score(selected_train_X,train_y_ex)\n"
      ],
      "id": "MUSFMkrxizuV"
    },
    {
      "cell_type": "markdown",
      "metadata": {
        "id": "84yreD1VMHvT"
      },
      "source": [
        "##### 2.2.2.2 Error Analysis"
      ],
      "id": "84yreD1VMHvT"
    },
    {
      "cell_type": "code",
      "execution_count": 1,
      "metadata": {
        "id": "K1QiYAhzZTbT"
      },
      "outputs": [],
      "source": [
        "# score_df = pd.DataFrame(data ={'selected_text':selected_val_X ,'true_text':val_y_ex, 'sentiment':val_X_df.sentiment})\n",
        "# check_df = score_df.loc[score_df.sentiment== 'negative',:]\n",
        "# check_neg = check_df.selected_text.str.split().apply(len)\n",
        "# # check_neg = check_neg.loc[check_neg >=7].index\n",
        "# # check_df = check_df.loc[check_neg,:]\n",
        "# # tse_st.score(check_df.selected_text.to_list(),check_df.true_text)"
      ],
      "id": "K1QiYAhzZTbT"
    },
    {
      "cell_type": "code",
      "source": [
        "# check_df.selected_text.str.split().apply(len).value_counts()\n"
      ],
      "metadata": {
        "id": "bltqa2FVaDhb"
      },
      "id": "bltqa2FVaDhb",
      "execution_count": 2,
      "outputs": []
    },
    {
      "cell_type": "code",
      "execution_count": 3,
      "metadata": {
        "id": "JD925xy5MX8k"
      },
      "outputs": [],
      "source": [
        "# pd.set_option('display.max_rows', df.shape[0]+1)\n",
        "# compare_df = pd.DataFrame(data ={'origin':val_X_df.text,'preprocessed_text':preprocessed_val_X.preprocessed_texts,'selected_text':selected_val_X ,'true_text':val_y_ex, 'sentiment':val_X_df.sentiment})\n",
        "# index_check = compare_df.loc[compare_df.sentiment == 'negative',['selected_text']].selected_text.str.split().apply(len)\n",
        "# index_1 = index_check.loc[index_check == 1].index\n",
        "# #compare_df.loc[index_1,:]"
      ],
      "id": "JD925xy5MX8k"
    },
    {
      "cell_type": "markdown",
      "metadata": {
        "id": "z8By9glY82lX"
      },
      "source": [
        "##### 2.2.4 Test on val"
      ],
      "id": "z8By9glY82lX"
    },
    {
      "cell_type": "code",
      "execution_count": null,
      "metadata": {
        "colab": {
          "base_uri": "https://localhost:8080/"
        },
        "id": "TKciMayZnRKD",
        "outputId": "8244976a-5962-46cc-f7c3-89e55f5e3629"
      },
      "outputs": [
        {
          "output_type": "execute_result",
          "data": {
            "text/plain": [
              "0.6137627000291629"
            ]
          },
          "metadata": {},
          "execution_count": 97
        }
      ],
      "source": [
        "# Test on val\n",
        "selected_val_X = tse_st.transform(preprocessed_val_X)\n",
        "tse_st.score(selected_val_X,val_y_ex)"
      ],
      "id": "TKciMayZnRKD"
    },
    {
      "cell_type": "code",
      "execution_count": null,
      "metadata": {
        "id": "yVquaeBt_c66"
      },
      "outputs": [],
      "source": [
        "#tse_st.likelihood['argi']"
      ],
      "id": "yVquaeBt_c66"
    },
    {
      "cell_type": "code",
      "execution_count": null,
      "metadata": {
        "colab": {
          "base_uri": "https://localhost:8080/"
        },
        "id": "cC-3HOoSGxEJ",
        "outputId": "64e8c23a-3e34-484b-e1c8-05de352be665"
      },
      "outputs": [
        {
          "output_type": "execute_result",
          "data": {
            "text/plain": [
              "19247"
            ]
          },
          "metadata": {},
          "execution_count": 47
        }
      ],
      "source": [
        "len(tse_st.vocabs)"
      ],
      "id": "cC-3HOoSGxEJ"
    },
    {
      "cell_type": "code",
      "execution_count": null,
      "metadata": {
        "colab": {
          "base_uri": "https://localhost:8080/"
        },
        "id": "3r0MiMSQKYSs",
        "outputId": "9346fe48-ba7a-4800-e553-d25c5d9c4cd8"
      },
      "outputs": [
        {
          "output_type": "execute_result",
          "data": {
            "text/plain": [
              "[4.5085154585723785e-05, 0.000194209774300498, 0.00011038989711661589]"
            ]
          },
          "metadata": {},
          "execution_count": 48
        }
      ],
      "source": [
        "tse_st.likelihood['crush']"
      ],
      "id": "3r0MiMSQKYSs"
    },
    {
      "cell_type": "markdown",
      "metadata": {
        "id": "xCCzLRAhtn8y"
      },
      "source": [
        "#### 2.3 Tunning"
      ],
      "id": "xCCzLRAhtn8y"
    },
    {
      "cell_type": "code",
      "execution_count": null,
      "metadata": {
        "colab": {
          "base_uri": "https://localhost:8080/"
        },
        "id": "z5KtP1666NXW",
        "outputId": "8bdb230d-3000-4f68-9d08-ccf5a6a5e666"
      },
      "outputs": [
        {
          "name": "stdout",
          "output_type": "stream",
          "text": [
            "best_train_score:  0.6281233127775028\n",
            "best_val_score:  0.6180062267115272\n",
            "best_k: 10 \n",
            " nbest_z_pos: 6\n"
          ]
        }
      ],
      "source": [
        "# Tunning\n",
        "#z_pos_s = [0.0001,0.0002,0.00003,0.00006,0.0004]\n",
        "vob_thresholds = [2,3,4,5,6]\n",
        "k_s = [1,2,5,7,10,12,15]\n",
        "Val_score = {}\n",
        "Train_score = {}\n",
        "\n",
        "for k in k_s:\n",
        "    #for z3 in z_pos_s:\n",
        "    for thres in vob_thresholds:\n",
        "      #model = bayes_extraction(z_pos=z3,k=k )\n",
        "      model = bayes_extraction(k=k,vob_threshold = thres,z_pos = 0.00003,z_neg = 0.00003, z_neu=4 )\n",
        "      selected_train_text= model.fit_transform(preprocessed_train_X,preprocessed_train_y_ex)\n",
        "      #selected_train_text = model.extract(preprocessed_train_X)\n",
        "      score_train = model.score(selected_train_text,train_y_ex)\n",
        "      #Train_score[score_train] = (k,z3)\n",
        "      Train_score[score_train] = (k,thres)\n",
        "      selected_val_X = model.transform(preprocessed_val_X)\n",
        "      score_val = model.score(selected_val_X,val_y_ex)\n",
        "      #Val_score[score_val] = (k,z3)\n",
        "      Val_score[score_val] = (k,thres)\n",
        "\n",
        "best_train_score = max(list(Train_score.keys()))\n",
        "best_val_score = max(list(Val_score.keys()))\n",
        "best_k,best_vob_thres = Val_score[best_val_score]\n",
        "print('best_train_score: ',best_train_score)\n",
        "print('best_val_score: ',best_val_score)\n",
        "print(f'best_k: {best_k} \\n nbest_z_pos: {best_vob_thres }')\n",
        "# best_val_score = max(Val_score)\n",
        "# best_z = z[Val_score.index(best_val_score)]\n",
        "# print('best_conf: ',best_z)\n",
        "# print('best_train_score: ',max(Train_score))\n",
        "# print('best_val_score: ',best_val_score)"
      ],
      "id": "z5KtP1666NXW"
    },
    {
      "cell_type": "code",
      "execution_count": null,
      "metadata": {
        "id": "wXoLlQLbXXYF"
      },
      "outputs": [],
      "source": [
        "#cleaned_train_X"
      ],
      "id": "wXoLlQLbXXYF"
    },
    {
      "cell_type": "markdown",
      "metadata": {
        "id": "3C2rmJblwyM4"
      },
      "source": [
        "# 2. Deep learning"
      ],
      "id": "3C2rmJblwyM4"
    },
    {
      "cell_type": "markdown",
      "source": [
        "## 2.1 BERT"
      ],
      "metadata": {
        "id": "A73eaoisZM_j"
      },
      "id": "A73eaoisZM_j"
    },
    {
      "cell_type": "markdown",
      "source": [
        "Dùng LSTM:\n",
        "+ Train: 0.548\n",
        "+ Val: 0.489 \\\n",
        "\n",
        "Dùng LSTM + Attention: \\\n",
        "+ Train: 0.5868\n",
        "+ Val: 0.555 \\\n",
        "\n",
        "Dùng BERT:\n",
        "+ Train: 0.664\n",
        "+ Val: 0.596 \\\n",
        "\n",
        "=> Cách tiếp cận mới của nhóm: dùng tích hợp mô hình học thống kê và BERT \\\n",
        "+ Train: 0.667\n",
        "+ Val: 0.651\\\n",
        "\n",
        "***giải pháp cuối cùng là dùng RoBERTa (fine-tune-> khá tốn thời gian)***\n",
        "\n"
      ],
      "metadata": {
        "id": "Z_d6rop8h2Nt"
      },
      "id": "Z_d6rop8h2Nt"
    },
    {
      "cell_type": "code",
      "source": [
        "!pip install transformers"
      ],
      "metadata": {
        "colab": {
          "base_uri": "https://localhost:8080/"
        },
        "id": "p4pUtFwNePn-",
        "outputId": "0e8d31b2-2c47-4c89-f962-70cec28c1165"
      },
      "id": "p4pUtFwNePn-",
      "execution_count": null,
      "outputs": [
        {
          "output_type": "stream",
          "name": "stdout",
          "text": [
            "Collecting transformers\n",
            "  Downloading transformers-4.13.0-py3-none-any.whl (3.3 MB)\n",
            "\u001b[K     |████████████████████████████████| 3.3 MB 5.4 MB/s \n",
            "\u001b[?25hCollecting sacremoses\n",
            "  Downloading sacremoses-0.0.46-py3-none-any.whl (895 kB)\n",
            "\u001b[K     |████████████████████████████████| 895 kB 28.5 MB/s \n",
            "\u001b[?25hCollecting tokenizers<0.11,>=0.10.1\n",
            "  Downloading tokenizers-0.10.3-cp37-cp37m-manylinux_2_5_x86_64.manylinux1_x86_64.manylinux_2_12_x86_64.manylinux2010_x86_64.whl (3.3 MB)\n",
            "\u001b[K     |████████████████████████████████| 3.3 MB 32.8 MB/s \n",
            "\u001b[?25hRequirement already satisfied: numpy>=1.17 in /usr/local/lib/python3.7/dist-packages (from transformers) (1.19.5)\n",
            "Requirement already satisfied: importlib-metadata in /usr/local/lib/python3.7/dist-packages (from transformers) (4.8.2)\n",
            "Requirement already satisfied: tqdm>=4.27 in /usr/local/lib/python3.7/dist-packages (from transformers) (4.62.3)\n",
            "Collecting huggingface-hub<1.0,>=0.1.0\n",
            "  Downloading huggingface_hub-0.2.1-py3-none-any.whl (61 kB)\n",
            "\u001b[K     |████████████████████████████████| 61 kB 489 kB/s \n",
            "\u001b[?25hRequirement already satisfied: regex!=2019.12.17 in /usr/local/lib/python3.7/dist-packages (from transformers) (2019.12.20)\n",
            "Requirement already satisfied: packaging>=20.0 in /usr/local/lib/python3.7/dist-packages (from transformers) (21.3)\n",
            "Requirement already satisfied: filelock in /usr/local/lib/python3.7/dist-packages (from transformers) (3.4.0)\n",
            "Requirement already satisfied: requests in /usr/local/lib/python3.7/dist-packages (from transformers) (2.23.0)\n",
            "Collecting pyyaml>=5.1\n",
            "  Downloading PyYAML-6.0-cp37-cp37m-manylinux_2_5_x86_64.manylinux1_x86_64.manylinux_2_12_x86_64.manylinux2010_x86_64.whl (596 kB)\n",
            "\u001b[K     |████████████████████████████████| 596 kB 45.2 MB/s \n",
            "\u001b[?25hRequirement already satisfied: typing-extensions>=3.7.4.3 in /usr/local/lib/python3.7/dist-packages (from huggingface-hub<1.0,>=0.1.0->transformers) (3.10.0.2)\n",
            "Requirement already satisfied: pyparsing!=3.0.5,>=2.0.2 in /usr/local/lib/python3.7/dist-packages (from packaging>=20.0->transformers) (3.0.6)\n",
            "Requirement already satisfied: zipp>=0.5 in /usr/local/lib/python3.7/dist-packages (from importlib-metadata->transformers) (3.6.0)\n",
            "Requirement already satisfied: certifi>=2017.4.17 in /usr/local/lib/python3.7/dist-packages (from requests->transformers) (2021.10.8)\n",
            "Requirement already satisfied: urllib3!=1.25.0,!=1.25.1,<1.26,>=1.21.1 in /usr/local/lib/python3.7/dist-packages (from requests->transformers) (1.24.3)\n",
            "Requirement already satisfied: chardet<4,>=3.0.2 in /usr/local/lib/python3.7/dist-packages (from requests->transformers) (3.0.4)\n",
            "Requirement already satisfied: idna<3,>=2.5 in /usr/local/lib/python3.7/dist-packages (from requests->transformers) (2.10)\n",
            "Requirement already satisfied: six in /usr/local/lib/python3.7/dist-packages (from sacremoses->transformers) (1.15.0)\n",
            "Requirement already satisfied: click in /usr/local/lib/python3.7/dist-packages (from sacremoses->transformers) (7.1.2)\n",
            "Requirement already satisfied: joblib in /usr/local/lib/python3.7/dist-packages (from sacremoses->transformers) (1.1.0)\n",
            "Installing collected packages: pyyaml, tokenizers, sacremoses, huggingface-hub, transformers\n",
            "  Attempting uninstall: pyyaml\n",
            "    Found existing installation: PyYAML 3.13\n",
            "    Uninstalling PyYAML-3.13:\n",
            "      Successfully uninstalled PyYAML-3.13\n",
            "Successfully installed huggingface-hub-0.2.1 pyyaml-6.0 sacremoses-0.0.46 tokenizers-0.10.3 transformers-4.13.0\n"
          ]
        }
      ]
    },
    {
      "cell_type": "code",
      "source": [
        "\n",
        "import torch\n",
        "device = torch.device('cuda' if torch.cuda.is_available() else 'cpu')\n",
        "from transformers import BertTokenizer, BertModel\n",
        "from transformers import AutoTokenizer\n",
        "from keras.models import Model\n",
        "from keras.callbacks import ModelCheckpoint\n",
        "tokenizer = BertTokenizer.from_pretrained('bert-base-uncased')\n",
        "bert_model = BertModel.from_pretrained('bert-base-uncased',\n",
        "                                  output_hidden_states = True, # Whether the model returns all hidden-states.\n",
        "                                  ).to(device)"
      ],
      "metadata": {
        "colab": {
          "base_uri": "https://localhost:8080/",
          "height": 249,
          "referenced_widgets": [
            "5d60e56d30fd45ba8b6bd352011e7207",
            "4cfb3eeb0b1743d193ee686d048f9434",
            "84cabad3bc0349e1be589e9c96e8bd0f",
            "332a2ae59ec343acb3f977a4e4483c15",
            "f9d4dafc187c469aa0187cd32d445882",
            "32152e5d7ff84fa191ae97672d36e1c7",
            "a98a5d00f03b460bb2098def618f0bd7",
            "d9cb78ee8b824d2593a5a4748ab11bec",
            "7605b6da427247e5b64dc0fb6d3bc0ac",
            "dad290d264e848d7af42ded382a08c4e",
            "bad3c963f1c74e6ca69405cb6944b7b7",
            "60f3b2d4106e4d6eaab02104a0293641",
            "4016d108c5b74136b3775da4a195abfd",
            "1741245f56e945d7b98ea533f24006f9",
            "cc5f65433f59498dba253c6aabc7aa50",
            "8118ebda8b7f4eb5b6c5750301171eb2",
            "1e3f4c7cbf9649b29ab629a68fc68bc0",
            "9422d9c8a428479faf1ddddb3b0019a9",
            "505cc65371ce4241bd1ee5b08ecd9225",
            "e21101fdbb36434dbe3071269809c119",
            "a41e922236c64c3a9ba791226b361354",
            "41385f7391c649ca804ac7668009c29d",
            "6516e3b9c3ac4db9948b1ced1689452b",
            "fe5dac73be574bb59fe9dc6d68536ce5",
            "4158a7f36b5943378f806b82fbda4aed",
            "9d00adb6adb84f3fa86af63bf72b3cb6",
            "13f63010ec7741509650acb8e438d561",
            "3678a6d52c784e1f88003097f4471657",
            "ef9a070599e34be39f9ad96767cebbae",
            "e1cb62763dc8460c9113cee07ac144d7",
            "9f639a8773d84cf29b9db90de7689ed9",
            "02181d9be63d4a3492b485b193bedc38",
            "605eeb9d34fd43c18192f5571bdc54ed",
            "3c3f90b1f35f49d987810c3482c8638c",
            "990786b940964306aa86ef0685ac2102",
            "317d1a600d5a4b8d9349c320d44e75b7",
            "08a5e3341590436ba3d2b0a0950796d7",
            "7528c2f1649541c09cbebda7561e21e8",
            "b4ae8276fecb4b9bb09d5a18b298e805",
            "abc078c9c82241d7971145d7ff0c9577",
            "b5ed245535ed4edbb2621a74b535aa8f",
            "4f577e6bcf2c4158a3d6bb530f0c5c03",
            "a5976f6a3f0148178205ad5b71643db9",
            "39f0521ea725409bb75f45c5cba75574",
            "2951f828a29f4a0082dcb95732012c6b",
            "c3d8a1acba034c50b38bacdafa5cc531",
            "67c6b74c05574242aecc652a161ee92a",
            "1b4f89b859134f7a83134facae07665d",
            "2e980b39f8594b4e83c5ac9051dcfea8",
            "14048000933e45a793af23f8d490ef07",
            "7d2e25678b6343dab2155dbfd9fa2219",
            "e8d279a53b014800ae3090c733a86139",
            "8eda9b5b027445dfbdd2be606323eeaf",
            "b8b214bdf55b4c688bd6de6ad7c8260a",
            "b785371ef4194af5b55546b1d0d14dd1"
          ]
        },
        "id": "CuD4QKjCefZP",
        "outputId": "199d2460-9034-4c4d-b329-4f6a82066d8a"
      },
      "id": "CuD4QKjCefZP",
      "execution_count": null,
      "outputs": [
        {
          "output_type": "display_data",
          "data": {
            "application/vnd.jupyter.widget-view+json": {
              "model_id": "5d60e56d30fd45ba8b6bd352011e7207",
              "version_minor": 0,
              "version_major": 2
            },
            "text/plain": [
              "Downloading:   0%|          | 0.00/226k [00:00<?, ?B/s]"
            ]
          },
          "metadata": {}
        },
        {
          "output_type": "display_data",
          "data": {
            "application/vnd.jupyter.widget-view+json": {
              "model_id": "60f3b2d4106e4d6eaab02104a0293641",
              "version_minor": 0,
              "version_major": 2
            },
            "text/plain": [
              "Downloading:   0%|          | 0.00/28.0 [00:00<?, ?B/s]"
            ]
          },
          "metadata": {}
        },
        {
          "output_type": "display_data",
          "data": {
            "application/vnd.jupyter.widget-view+json": {
              "model_id": "6516e3b9c3ac4db9948b1ced1689452b",
              "version_minor": 0,
              "version_major": 2
            },
            "text/plain": [
              "Downloading:   0%|          | 0.00/455k [00:00<?, ?B/s]"
            ]
          },
          "metadata": {}
        },
        {
          "output_type": "display_data",
          "data": {
            "application/vnd.jupyter.widget-view+json": {
              "model_id": "3c3f90b1f35f49d987810c3482c8638c",
              "version_minor": 0,
              "version_major": 2
            },
            "text/plain": [
              "Downloading:   0%|          | 0.00/570 [00:00<?, ?B/s]"
            ]
          },
          "metadata": {}
        },
        {
          "output_type": "display_data",
          "data": {
            "application/vnd.jupyter.widget-view+json": {
              "model_id": "2951f828a29f4a0082dcb95732012c6b",
              "version_minor": 0,
              "version_major": 2
            },
            "text/plain": [
              "Downloading:   0%|          | 0.00/420M [00:00<?, ?B/s]"
            ]
          },
          "metadata": {}
        },
        {
          "output_type": "stream",
          "name": "stderr",
          "text": [
            "Some weights of the model checkpoint at bert-base-uncased were not used when initializing BertModel: ['cls.predictions.bias', 'cls.predictions.decoder.weight', 'cls.predictions.transform.dense.bias', 'cls.seq_relationship.weight', 'cls.predictions.transform.LayerNorm.weight', 'cls.predictions.transform.LayerNorm.bias', 'cls.seq_relationship.bias', 'cls.predictions.transform.dense.weight']\n",
            "- This IS expected if you are initializing BertModel from the checkpoint of a model trained on another task or with another architecture (e.g. initializing a BertForSequenceClassification model from a BertForPreTraining model).\n",
            "- This IS NOT expected if you are initializing BertModel from the checkpoint of a model that you expect to be exactly identical (initializing a BertForSequenceClassification model from a BertForSequenceClassification model).\n"
          ]
        }
      ]
    },
    {
      "cell_type": "code",
      "source": [
        "from tqdm import tqdm\n",
        "from tqdm.notebook import tqdm_notebook\n",
        "tqdm_notebook.pandas()\n",
        "import warnings\n",
        "warnings.filterwarnings('ignore')\n",
        "import tensorflow as tf\n",
        "from tqdm import tqdm"
      ],
      "metadata": {
        "id": "8cVOSXTuLDie"
      },
      "id": "8cVOSXTuLDie",
      "execution_count": null,
      "outputs": []
    },
    {
      "cell_type": "code",
      "source": [
        "MAX_LEN=92\n",
        "count = cleaned_train_X.shape[0]\n",
        "input_ids = np.zeros((count,MAX_LEN),dtype='int32')\n",
        "attention_mask = np.zeros((count,MAX_LEN),dtype='int32')\n",
        "start_tokens = np.zeros((count,MAX_LEN),dtype='int32')\n",
        "end_tokens = np.zeros((count,MAX_LEN),dtype='int32')"
      ],
      "metadata": {
        "id": "Shw18SPdJTAb"
      },
      "id": "Shw18SPdJTAb",
      "execution_count": null,
      "outputs": []
    },
    {
      "cell_type": "code",
      "source": [
        "x_train_bert = cleaned_train_X.copy()\n",
        "x_train_bert.sentiment = x_train_bert.sentiment.map({0:'neutral',1:'positive',-1:'negative'})"
      ],
      "metadata": {
        "id": "0uFGSnd8JmLr"
      },
      "id": "0uFGSnd8JmLr",
      "execution_count": null,
      "outputs": []
    },
    {
      "cell_type": "code",
      "source": [
        "count_st = 0\n",
        "count_ed = 0\n",
        "for i,each in tqdm(enumerate(x_train_bert.values)):\n",
        "\n",
        "  val = tokenizer.encode_plus(each[3],each[2],add_special_tokens=True,max_length=92,return_attention_mask=True,pad_to_max_length=True,return_tensors='tf',verbose=False)\n",
        "  input_ids[i] = val['input_ids']\n",
        "  attention_mask[i] = val['attention_mask']\n",
        "  res = (tokenizer.encode(preprocessed_train_y_ex.Cleaned_text.values[i]))\n",
        "  res = res[1:-1] # to ignore <s> and </s>\n",
        "  try:\n",
        "    st = tf.where(val['input_ids']==res[0]).numpy()[0][1]\n",
        "  except:\n",
        "    st = 3\n",
        "    count_st +=1\n",
        "  start_tokens[i][st]=1\n",
        "  try:\n",
        "    ed = tf.where(val['input_ids']==res[-1]).numpy()[0][1]\n",
        "  except:\n",
        "    ed = tf.where(val['input_ids']==0).numpy()[0][1]\n",
        "    count_ed +=1\n",
        "  end_tokens[i][ed]=1 "
      ],
      "metadata": {
        "colab": {
          "base_uri": "https://localhost:8080/"
        },
        "id": "wUY9U4WtJUXZ",
        "outputId": "e581eda5-a2d7-4e06-d66b-bbeebc90d82e"
      },
      "id": "wUY9U4WtJUXZ",
      "execution_count": null,
      "outputs": [
        {
          "output_type": "stream",
          "name": "stderr",
          "text": [
            "19236it [01:03, 300.98it/s]\n"
          ]
        }
      ]
    },
    {
      "cell_type": "code",
      "source": [
        "tokenizer.decode([101, 4997,  102, 2358, 8312, 2005, 3026, 7923, 4718, 2140,  102])"
      ],
      "metadata": {
        "colab": {
          "base_uri": "https://localhost:8080/",
          "height": 35
        },
        "id": "adC7uMebMc11",
        "outputId": "ece5a570-fb14-4de1-ba8a-b7d455f8583f"
      },
      "id": "adC7uMebMc11",
      "execution_count": null,
      "outputs": [
        {
          "output_type": "execute_result",
          "data": {
            "application/vnd.google.colaboratory.intrinsic+json": {
              "type": "string"
            },
            "text/plain": [
              "'[CLS] negative [SEP] st presentation for senior boards fml [SEP]'"
            ]
          },
          "metadata": {},
          "execution_count": 50
        }
      ]
    },
    {
      "cell_type": "code",
      "source": [
        "input_ids.shape,attention_mask.shape,start_tokens.shape,end_tokens.shape"
      ],
      "metadata": {
        "colab": {
          "base_uri": "https://localhost:8080/"
        },
        "id": "lE7p-cL7ShWC",
        "outputId": "7823f7ca-7223-4a00-c454-ff51fad1370c"
      },
      "id": "lE7p-cL7ShWC",
      "execution_count": null,
      "outputs": [
        {
          "output_type": "execute_result",
          "data": {
            "text/plain": [
              "((19236, 92), (19236, 92), (19236, 92), (19236, 92))"
            ]
          },
          "metadata": {},
          "execution_count": 51
        }
      ]
    },
    {
      "cell_type": "code",
      "source": [
        "# Tập val\n",
        "MAX_LEN=92\n",
        "count = cleaned_val_X.shape[0]\n",
        "input_ids_val = np.zeros((count,MAX_LEN),dtype='int32')\n",
        "attention_mask_val = np.zeros((count,MAX_LEN),dtype='int32')\n",
        "start_tokens_val = np.zeros((count,MAX_LEN),dtype='int32')\n",
        "end_tokens_val = np.zeros((count,MAX_LEN),dtype='int32')"
      ],
      "metadata": {
        "id": "3-yv79pFSaFP"
      },
      "id": "3-yv79pFSaFP",
      "execution_count": null,
      "outputs": []
    },
    {
      "cell_type": "code",
      "source": [
        "x_val_bert = cleaned_val_X.copy()\n",
        "x_val_bert.sentiment = x_val_bert.sentiment.map({0:'neutral',1:'positive',-1:'negative'})"
      ],
      "metadata": {
        "id": "TD2zoPtiSxUz"
      },
      "id": "TD2zoPtiSxUz",
      "execution_count": null,
      "outputs": []
    },
    {
      "cell_type": "code",
      "source": [
        "x_val_bert.values"
      ],
      "metadata": {
        "colab": {
          "base_uri": "https://localhost:8080/"
        },
        "id": "0rEzNaU7CUj-",
        "outputId": "b96e3aa8-77d0-4c27-aa2e-a6b67908cda9"
      },
      "id": "0rEzNaU7CUj-",
      "execution_count": null,
      "outputs": [
        {
          "output_type": "execute_result",
          "data": {
            "text/plain": [
              "array([['f14d0140f1',\n",
              "        ' Yikes!  I hope she was okay.  I never her heard her say her tummy hurt.',\n",
              "        'yikes i hope she was okay i never her heard her say her tummy hurt',\n",
              "        'neutral'],\n",
              "       ['d303e92e0a',\n",
              "        'aww my son gave me a purple g shock for mother`s day',\n",
              "        'aw my son gave me a purple g shock for mothers day', 'positive'],\n",
              "       ['ea50bdcad9', 'Back from hospital. Doc says I`ll live',\n",
              "        'back from hospital doc says ill live', 'positive'],\n",
              "       ...,\n",
              "       ['1ef247a527',\n",
              "        ' hahahaha. im listening to my iTunes library, a bit of Sonia Dada atm,  ITs good',\n",
              "        'hahahaha im listening to my itunes library a bit of sonia dada atm its good',\n",
              "        'positive'],\n",
              "       ['d178e9718d', ' I dont think so', 'i dont think so', 'neutral'],\n",
              "       ['72c4a3023e',\n",
              "        'Is getting excited for the weekend.......Or, hang on, i am going to be all alone   never mind, excitement lost',\n",
              "        'is getting excited for the wekendor hang on i am going to be all alone never mind excitement lost',\n",
              "        'neutral']], dtype=object)"
            ]
          },
          "metadata": {},
          "execution_count": 54
        }
      ]
    },
    {
      "cell_type": "code",
      "source": [
        "count_st_val = 0\n",
        "count_ed_val = 0\n",
        "for i,each in tqdm(enumerate(x_val_bert.values)):\n",
        "\n",
        "  val = tokenizer.encode_plus(each[3],each[2],add_special_tokens=True,max_length=92,return_attention_mask=True,pad_to_max_length=True,return_tensors='tf',verbose=False)\n",
        "  input_ids_val[i] = val['input_ids']\n",
        "  attention_mask_val[i] = val['attention_mask']\n",
        "  res = (tokenizer.encode(preprocessed_val_y_ex.Cleaned_text.values[i]))\n",
        "  res = res[1:-1] # to ignore <s> and </s>\n",
        "  try:\n",
        "    st = tf.where(val['input_ids']==res[0]).numpy()[0][1]\n",
        "  except:\n",
        "    st = 3\n",
        "    count_st_val +=1\n",
        "  start_tokens_val[i][st]=1\n",
        "  try:\n",
        "    ed = tf.where(val['input_ids']==res[-1]).numpy()[0][1]\n",
        "  except:\n",
        "    ed = tf.where(val['input_ids']==0).numpy()[0][1]\n",
        "    count_ed_val +=1\n",
        "  end_tokens_val[i][ed]=1 "
      ],
      "metadata": {
        "colab": {
          "base_uri": "https://localhost:8080/"
        },
        "id": "sjnPVa73Sce0",
        "outputId": "ca27b263-8662-48d7-b758-4087d38b809b"
      },
      "id": "sjnPVa73Sce0",
      "execution_count": null,
      "outputs": [
        {
          "output_type": "stream",
          "name": "stderr",
          "text": [
            "8244it [00:24, 338.93it/s]\n"
          ]
        }
      ]
    },
    {
      "cell_type": "code",
      "source": [
        "input_ids_val.shape,attention_mask_val.shape,start_tokens_val.shape,end_tokens_val.shape"
      ],
      "metadata": {
        "colab": {
          "base_uri": "https://localhost:8080/"
        },
        "id": "GWccMfMYTzAE",
        "outputId": "71e6934a-43ad-4e0d-b030-adb88707bf23"
      },
      "id": "GWccMfMYTzAE",
      "execution_count": null,
      "outputs": [
        {
          "output_type": "execute_result",
          "data": {
            "text/plain": [
              "((8244, 92), (8244, 92), (8244, 92), (8244, 92))"
            ]
          },
          "metadata": {},
          "execution_count": 56
        }
      ]
    },
    {
      "cell_type": "code",
      "source": [
        "from transformers import TFRobertaForQuestionAnswering\n",
        "roberta = TFRobertaForQuestionAnswering.from_pretrained('roberta-base')"
      ],
      "metadata": {
        "colab": {
          "base_uri": "https://localhost:8080/",
          "height": 150,
          "referenced_widgets": [
            "3e561d032ea04c04ae8ba932a1c4b132",
            "521847936cac4d1ea070194d1cfc6590",
            "3b0f21f4161347a2bc1f85b075678433",
            "8a0818d5a2c741be9342a6eefba2046c",
            "d26a8618b24f4c5ab1a1555731200a1f",
            "97fad859b6344be29edeefc1c270a207",
            "eb7cfd99edd34f64bd1f1b80f18fc724",
            "3b36bfbcc2014fe884967748be149583",
            "bba9ba7c1f3f46af93b1ff31d68c5b81",
            "9f77f31d1deb4372998d18ebd1943ed9",
            "c3fb892cc43841818f12539b800a403e",
            "a914f4ec01c04867a0f7fb5ab03fe0b7",
            "6237e803881e47e1985e6e5487861b06",
            "9ff753381d7f46bbab163a4a83ec6354",
            "daf0360c31634dab970c2bc6dfcaf2b2",
            "d350e6372bf5468c9996eefc22cfe1cf",
            "3b5cc4f704084d9bbe25300c55baa75d",
            "6695db76d9ad4d8a88d60f56c6f8f17e",
            "8987ec28e1a04d9693948b4c1e6ddf02",
            "869554a4b690407fbebfc54687c00739",
            "5ef413e2e6ec4605bdd329be3dae5616",
            "2b4925bf51de4b80b56a60c73c564290"
          ]
        },
        "id": "eQUNUxRAUnD1",
        "outputId": "3fcff74c-f81b-4bad-a59e-67c05f591594"
      },
      "id": "eQUNUxRAUnD1",
      "execution_count": null,
      "outputs": [
        {
          "output_type": "display_data",
          "data": {
            "application/vnd.jupyter.widget-view+json": {
              "model_id": "3e561d032ea04c04ae8ba932a1c4b132",
              "version_minor": 0,
              "version_major": 2
            },
            "text/plain": [
              "Downloading:   0%|          | 0.00/481 [00:00<?, ?B/s]"
            ]
          },
          "metadata": {}
        },
        {
          "output_type": "display_data",
          "data": {
            "application/vnd.jupyter.widget-view+json": {
              "model_id": "a914f4ec01c04867a0f7fb5ab03fe0b7",
              "version_minor": 0,
              "version_major": 2
            },
            "text/plain": [
              "Downloading:   0%|          | 0.00/627M [00:00<?, ?B/s]"
            ]
          },
          "metadata": {}
        },
        {
          "output_type": "stream",
          "name": "stderr",
          "text": [
            "All model checkpoint layers were used when initializing TFRobertaForQuestionAnswering.\n",
            "\n",
            "Some layers of TFRobertaForQuestionAnswering were not initialized from the model checkpoint at roberta-base and are newly initialized: ['qa_outputs']\n",
            "You should probably TRAIN this model on a down-stream task to be able to use it for predictions and inference.\n"
          ]
        }
      ]
    },
    {
      "cell_type": "code",
      "source": [
        "from transformers import TFBertForQuestionAnswering\n",
        "bert_model = TFBertForQuestionAnswering.from_pretrained('bert-base-cased')"
      ],
      "metadata": {
        "colab": {
          "base_uri": "https://localhost:8080/",
          "height": 150,
          "referenced_widgets": [
            "b7480333c31b4ca8b49c299026a21a9d",
            "cdd96958078147c286611c063cedd36a",
            "84b560d097a0448bb7fe606543895c21",
            "88b4c83eb31643c3ae79da35695b6bb7",
            "1e8e24e023c74c65912254aed8699c9b",
            "b411586ffbf0428492f1b341eb3cf526",
            "a55ffd2479f04ef8b7b68a3144aa41e1",
            "88c4b7e0e47b4f11b5ce8f38495a4bb5",
            "2369419956514cbfb31879493edfc082",
            "94593c554d28493faaa54aa95284caa0",
            "86a67f89bf24419ba7eb345fb7990f9e",
            "5be0026676cd496ab54e7d0d6efd597f",
            "c3347c4d8b064e7180c43a917948e14b",
            "faa852bdd6a3423298cf37b594151222",
            "47cff806818346f1905512db897e47c5",
            "32f42514d2a14a2191d49ead647d9f82",
            "8520831e49b94124a06172d24110d7a4",
            "c170a4fab8944be98acbc31a67c9234f",
            "69de8dab99554c36a8cb117baf38347b",
            "142fba737b904480bbf62f8bc6bc8fed",
            "6aba3b9a8f2c4581a5d971e5a2ee0877",
            "c8677cfc2b7a43d481d1c68ca2546b4f"
          ]
        },
        "id": "8hMUyglQWC5a",
        "outputId": "0c172a05-cab4-4e86-878c-03cd7cdfba07"
      },
      "id": "8hMUyglQWC5a",
      "execution_count": null,
      "outputs": [
        {
          "output_type": "display_data",
          "data": {
            "application/vnd.jupyter.widget-view+json": {
              "model_id": "b7480333c31b4ca8b49c299026a21a9d",
              "version_minor": 0,
              "version_major": 2
            },
            "text/plain": [
              "Downloading:   0%|          | 0.00/570 [00:00<?, ?B/s]"
            ]
          },
          "metadata": {}
        },
        {
          "output_type": "display_data",
          "data": {
            "application/vnd.jupyter.widget-view+json": {
              "model_id": "5be0026676cd496ab54e7d0d6efd597f",
              "version_minor": 0,
              "version_major": 2
            },
            "text/plain": [
              "Downloading:   0%|          | 0.00/502M [00:00<?, ?B/s]"
            ]
          },
          "metadata": {}
        },
        {
          "output_type": "stream",
          "name": "stderr",
          "text": [
            "All model checkpoint layers were used when initializing TFBertForQuestionAnswering.\n",
            "\n",
            "Some layers of TFBertForQuestionAnswering were not initialized from the model checkpoint at bert-base-cased and are newly initialized: ['qa_outputs']\n",
            "You should probably TRAIN this model on a down-stream task to be able to use it for predictions and inference.\n"
          ]
        }
      ]
    },
    {
      "cell_type": "code",
      "source": [
        "from tensorflow.keras.models import Model\n",
        "from tensorflow.keras.layers import Input,Softmax,Dense,Activation,Dropout"
      ],
      "metadata": {
        "id": "YIQAwc5TT8Ez"
      },
      "id": "YIQAwc5TT8Ez",
      "execution_count": null,
      "outputs": []
    },
    {
      "cell_type": "code",
      "source": [
        "input1 = Input(shape=(MAX_LEN,),name='input_id',dtype=tf.int32)\n",
        "input2 = Input(shape=(MAX_LEN,),name='attention_mask',dtype=tf.int32)\n",
        "outputs = bert_model(input1,attention_mask = input2)\n",
        "dense1 = Dense(units=MAX_LEN,activation='relu',name='dense1',kernel_regularizer = tf.keras.regularizers.L2(l2=0.0001))(outputs.start_logits)\n",
        "drop1 = Dropout(0.4)(dense1)\n",
        "dense2 = Dense(units=MAX_LEN,activation='relu',name='dense2',kernel_regularizer = tf.keras.regularizers.L2(l2=0.0001))(drop1)\n",
        "softmax1 = Activation('softmax')(dense2)\n",
        "dense3 = Dense(units=MAX_LEN,activation='relu',name='dense3',kernel_regularizer = tf.keras.regularizers.L2(l2=0.0001))(outputs.end_logits)\n",
        "drop2 = Dropout(0.4)(dense3)\n",
        "dense4 = Dense(units=MAX_LEN,activation='relu',name='dense4',kernel_regularizer = tf.keras.regularizers.L2(l2=0.0001))(drop2)\n",
        "softmax2 = Activation('softmax')(dense4)"
      ],
      "metadata": {
        "id": "ZSARzsAAUGO1"
      },
      "id": "ZSARzsAAUGO1",
      "execution_count": null,
      "outputs": []
    },
    {
      "cell_type": "code",
      "source": [
        "model = Model(inputs=[input1,input2],outputs=[softmax1,softmax2])"
      ],
      "metadata": {
        "id": "lIRfqRDJViml"
      },
      "id": "lIRfqRDJViml",
      "execution_count": null,
      "outputs": []
    },
    {
      "cell_type": "code",
      "source": [
        "model.load_weights(\"/content/drive/MyDrive/Data_Science/BERT_15_12.hdf5\")"
      ],
      "metadata": {
        "id": "a6o6l-Uw7IfJ"
      },
      "id": "a6o6l-Uw7IfJ",
      "execution_count": null,
      "outputs": []
    },
    {
      "cell_type": "code",
      "source": [
        "model.summary()\n"
      ],
      "metadata": {
        "colab": {
          "base_uri": "https://localhost:8080/"
        },
        "id": "xys4NzShXgrF",
        "outputId": "f0bf5261-e0e6-4931-d207-0a6629723c61"
      },
      "id": "xys4NzShXgrF",
      "execution_count": null,
      "outputs": [
        {
          "output_type": "stream",
          "name": "stdout",
          "text": [
            "Model: \"model\"\n",
            "__________________________________________________________________________________________________\n",
            " Layer (type)                   Output Shape         Param #     Connected to                     \n",
            "==================================================================================================\n",
            " input_id (InputLayer)          [(None, 92)]         0           []                               \n",
            "                                                                                                  \n",
            " attention_mask (InputLayer)    [(None, 92)]         0           []                               \n",
            "                                                                                                  \n",
            " tf_bert_for_question_answering  TFQuestionAnswering  107721218  ['input_id[0][0]',               \n",
            "  (TFBertForQuestionAnswering)  ModelOutput(loss=No               'attention_mask[0][0]']         \n",
            "                                ne, start_logits=(N                                               \n",
            "                                one, 92),                                                         \n",
            "                                 end_logits=(None,                                                \n",
            "                                92),                                                              \n",
            "                                 hidden_states=None                                               \n",
            "                                , attentions=None)                                                \n",
            "                                                                                                  \n",
            " dense1 (Dense)                 (None, 92)           8556        ['tf_bert_for_question_answering[\n",
            "                                                                 0][1]']                          \n",
            "                                                                                                  \n",
            " dense3 (Dense)                 (None, 92)           8556        ['tf_bert_for_question_answering[\n",
            "                                                                 0][0]']                          \n",
            "                                                                                                  \n",
            " dropout_74 (Dropout)           (None, 92)           0           ['dense1[0][0]']                 \n",
            "                                                                                                  \n",
            " dropout_75 (Dropout)           (None, 92)           0           ['dense3[0][0]']                 \n",
            "                                                                                                  \n",
            " dense2 (Dense)                 (None, 92)           8556        ['dropout_74[0][0]']             \n",
            "                                                                                                  \n",
            " dense4 (Dense)                 (None, 92)           8556        ['dropout_75[0][0]']             \n",
            "                                                                                                  \n",
            " activation (Activation)        (None, 92)           0           ['dense2[0][0]']                 \n",
            "                                                                                                  \n",
            " activation_1 (Activation)      (None, 92)           0           ['dense4[0][0]']                 \n",
            "                                                                                                  \n",
            "==================================================================================================\n",
            "Total params: 107,755,442\n",
            "Trainable params: 107,755,442\n",
            "Non-trainable params: 0\n",
            "__________________________________________________________________________________________________\n"
          ]
        }
      ]
    },
    {
      "cell_type": "code",
      "source": [
        "#[CLS] positive [SEP] I love you so much [SEP]"
      ],
      "metadata": {
        "id": "fa7RRoasnx2x"
      },
      "id": "fa7RRoasnx2x",
      "execution_count": null,
      "outputs": []
    },
    {
      "cell_type": "code",
      "source": [
        "import tensorflow as tf\n",
        "tf.keras.utils.plot_model(model, 'Model.png',show_shapes=True)"
      ],
      "metadata": {
        "colab": {
          "base_uri": "https://localhost:8080/",
          "height": 664
        },
        "id": "tnV60hg2XkRs",
        "outputId": "81f0df98-643b-4722-b63c-3a92fb5a3867"
      },
      "id": "tnV60hg2XkRs",
      "execution_count": null,
      "outputs": [
        {
          "output_type": "execute_result",
          "data": {
            "image/png": "[encoded data removed]",
            "text/plain": [
              "<IPython.core.display.Image object>"
            ]
          },
          "metadata": {},
          "execution_count": 64
        }
      ]
    },
    {
      "cell_type": "code",
      "source": [
        "input_data = (input_ids,attention_mask)\n",
        "output_data = (start_tokens,end_tokens)\n",
        "\n",
        "val = (input_ids_val,attention_mask_val)\n",
        "output_val = (start_tokens_val,end_tokens_val)\n",
        "val_data = (val,output_val)"
      ],
      "metadata": {
        "id": "A4aEWGJmXyIE"
      },
      "id": "A4aEWGJmXyIE",
      "execution_count": null,
      "outputs": []
    },
    {
      "cell_type": "code",
      "source": [
        "%load_ext tensorboard\n",
        "import datetime\n",
        "import os\n",
        "#reduce_lr = tf.keras.callbacks.ReduceLROnPlateau(monitor='val_loss', factor=0.1,patience=2,verbose=3,min_lr = 1e-9)\n",
        "log_dir= os.path.join(\"tensorboard_logs1\" , datetime.datetime.now().strftime(\"%Y%m%d-%H%M%S\"))\n",
        "tensorboard_callback = tf.keras.callbacks.TensorBoard(log_dir=log_dir,histogram_freq=1, write_graph=True)\n",
        "! mkdir  'checkpt1'\n",
        "file_path = os.path.join('checkpt1/model1.hdf5')\n",
        "checkpt_save = tf.keras.callbacks.ModelCheckpoint(filepath=file_path,save_weights_only=True,monitor='val_loss',save_best_only=True,verbose=1)\n",
        "callbacks=[tensorboard_callback,checkpt_save]"
      ],
      "metadata": {
        "id": "-BSDzPsnX3le"
      },
      "id": "-BSDzPsnX3le",
      "execution_count": null,
      "outputs": []
    },
    {
      "cell_type": "code",
      "source": [
        "opt = tf.keras.optimizers.Adam(learning_rate=3e-5, epsilon=1e-08, clipnorm=1.0)\n",
        "model.compile(optimizer=opt,loss='categorical_crossentropy')"
      ],
      "metadata": {
        "id": "jysZOskfX8aV"
      },
      "id": "jysZOskfX8aV",
      "execution_count": null,
      "outputs": []
    },
    {
      "cell_type": "code",
      "source": [
        "train_dataset = tf.data.Dataset.from_tensor_slices((input_data, output_data)).shuffle(buffer_size=1024).batch(32)\n",
        "val_dataset = tf.data.Dataset.from_tensor_slices(val_data).batch(32)"
      ],
      "metadata": {
        "id": "HujVfy_XX_D9"
      },
      "id": "HujVfy_XX_D9",
      "execution_count": null,
      "outputs": []
    },
    {
      "cell_type": "code",
      "source": [
        "start_pred_train , end_pred_train = model.predict((input_data))"
      ],
      "metadata": {
        "id": "BEdWcsyn7vgT"
      },
      "id": "BEdWcsyn7vgT",
      "execution_count": null,
      "outputs": []
    },
    {
      "cell_type": "code",
      "source": [
        "start_pred_train[0]"
      ],
      "metadata": {
        "colab": {
          "base_uri": "https://localhost:8080/"
        },
        "id": "LOuF0hTN9oJc",
        "outputId": "14e9c50b-6e0a-43ab-c4d0-32a878fc619d"
      },
      "id": "LOuF0hTN9oJc",
      "execution_count": null,
      "outputs": [
        {
          "output_type": "execute_result",
          "data": {
            "text/plain": [
              "array([0.00043309, 0.00043309, 0.00043309, 0.20544244, 0.0047197 ,\n",
              "       0.06159395, 0.20996657, 0.15312058, 0.23534454, 0.06820514,\n",
              "       0.00654242, 0.00186022, 0.00322492, 0.00182594, 0.00249408,\n",
              "       0.00568445, 0.00196824, 0.00110243, 0.00043309, 0.00190159,\n",
              "       0.00246891, 0.00043309, 0.00043309, 0.00043309, 0.00043309,\n",
              "       0.00043309, 0.00043309, 0.00043309, 0.00048514, 0.00043309,\n",
              "       0.00043309, 0.00043309, 0.00043309, 0.00043309, 0.00043309,\n",
              "       0.00043309, 0.00043309, 0.00043309, 0.00043309, 0.00043309,\n",
              "       0.00043309, 0.00043309, 0.00043309, 0.00043309, 0.00043309,\n",
              "       0.00043309, 0.00043309, 0.00043309, 0.00043309, 0.00043309,\n",
              "       0.00043309, 0.00043309, 0.00043309, 0.00043309, 0.00043309,\n",
              "       0.00043309, 0.00043309, 0.00043309, 0.00043309, 0.00043309,\n",
              "       0.00043309, 0.00043309, 0.00043309, 0.00043309, 0.00043309,\n",
              "       0.00043309, 0.00043309, 0.00043309, 0.00043309, 0.00043309,\n",
              "       0.00043309, 0.00043309, 0.00043309, 0.00043309, 0.00043309,\n",
              "       0.00043309, 0.00043309, 0.00043309, 0.00043309, 0.00043309,\n",
              "       0.00043309, 0.00043309, 0.00043309, 0.00043309, 0.00043309,\n",
              "       0.00043309, 0.00043309, 0.00043309, 0.00043309, 0.00043309,\n",
              "       0.00043309, 0.00043309], dtype=float32)"
            ]
          },
          "metadata": {},
          "execution_count": 74
        }
      ]
    },
    {
      "cell_type": "code",
      "source": [
        "strt =[]\n",
        "end=[]\n",
        "pred_values = []\n",
        "for i in tqdm(range(start_pred_train.shape[0])):\n",
        "  s = np.argmax(start_pred_train[i,])\n",
        "  e = np.argmax(end_pred_train[i,])\n",
        "  text1 = \" \"+\" \".join(x_train_bert['Cleaned_texts'].values[i].split())\n",
        "  enc = tokenizer.encode(text1)\n",
        "  st = tokenizer.decode(enc[(s-2):(e-1)])\n",
        "  pred_values.append(st)\n",
        "len(strt),len(end)"
      ],
      "metadata": {
        "colab": {
          "base_uri": "https://localhost:8080/"
        },
        "id": "IdZu7Yit9e6O",
        "outputId": "750c408b-9991-46b4-d5b5-85d84976343c"
      },
      "id": "IdZu7Yit9e6O",
      "execution_count": null,
      "outputs": [
        {
          "output_type": "stream",
          "name": "stderr",
          "text": [
            "100%|██████████| 19236/19236 [00:13<00:00, 1393.41it/s]\n"
          ]
        },
        {
          "output_type": "execute_result",
          "data": {
            "text/plain": [
              "(0, 0)"
            ]
          },
          "metadata": {},
          "execution_count": 75
        }
      ]
    },
    {
      "cell_type": "code",
      "source": [
        "preds_train = x_train_bert.copy()"
      ],
      "metadata": {
        "id": "8j4ZYKP1C7Qx"
      },
      "id": "8j4ZYKP1C7Qx",
      "execution_count": null,
      "outputs": []
    },
    {
      "cell_type": "code",
      "source": [
        "preds_train['preds_text'] =  pred_values\n"
      ],
      "metadata": {
        "id": "43r4ToZyDIQn"
      },
      "id": "43r4ToZyDIQn",
      "execution_count": null,
      "outputs": []
    },
    {
      "cell_type": "code",
      "source": [
        "preds_train"
      ],
      "metadata": {
        "colab": {
          "base_uri": "https://localhost:8080/",
          "height": 545
        },
        "id": "zNw-WxfGDxaA",
        "outputId": "73a4625c-8cff-412b-ef38-b7bbf9f607eb"
      },
      "id": "zNw-WxfGDxaA",
      "execution_count": null,
      "outputs": [
        {
          "output_type": "execute_result",
          "data": {
            "text/html": [
              "<div>\n",
              "<style scoped>\n",
              "    .dataframe tbody tr th:only-of-type {\n",
              "        vertical-align: middle;\n",
              "    }\n",
              "\n",
              "    .dataframe tbody tr th {\n",
              "        vertical-align: top;\n",
              "    }\n",
              "\n",
              "    .dataframe thead th {\n",
              "        text-align: right;\n",
              "    }\n",
              "</style>\n",
              "<table border=\"1\" class=\"dataframe\">\n",
              "  <thead>\n",
              "    <tr style=\"text-align: right;\">\n",
              "      <th></th>\n",
              "      <th>textID</th>\n",
              "      <th>Raw_text</th>\n",
              "      <th>Cleaned_texts</th>\n",
              "      <th>sentiment</th>\n",
              "      <th>preds_text</th>\n",
              "    </tr>\n",
              "  </thead>\n",
              "  <tbody>\n",
              "    <tr>\n",
              "      <th>652</th>\n",
              "      <td>a834cef9c6</td>\n",
              "      <td>1st presentation for senior boards? FML</td>\n",
              "      <td>st presentation for senior boards fml</td>\n",
              "      <td>negative</td>\n",
              "      <td>fml</td>\n",
              "    </tr>\n",
              "    <tr>\n",
              "      <th>24883</th>\n",
              "      <td>5bfad683d5</td>\n",
              "      <td>yummy curry  save me some please lol</td>\n",
              "      <td>yummy curry save me some please lol</td>\n",
              "      <td>positive</td>\n",
              "      <td>yummy</td>\n",
              "    </tr>\n",
              "    <tr>\n",
              "      <th>15385</th>\n",
              "      <td>08a8d660b1</td>\n",
              "      <td>I wish I knew someone down there who could hook us up.   a friend told me once that they got crappy seats for a show in CHI</td>\n",
              "      <td>i wish i knew someone down there who could hook us up a friend told me once that they got crappy seats for a show in chi</td>\n",
              "      <td>negative</td>\n",
              "      <td>i wish i knew someone down there who could hook us up a friend told me once that they got crappy seats for a show in chi</td>\n",
              "    </tr>\n",
              "    <tr>\n",
              "      <th>16753</th>\n",
              "      <td>99a0ff3bef</td>\n",
              "      <td>Lucky u Im stuck in the rain...</td>\n",
              "      <td>lucky u im stuck in the rain</td>\n",
              "      <td>neutral</td>\n",
              "      <td>lucky u im stuck in the rain</td>\n",
              "    </tr>\n",
              "    <tr>\n",
              "      <th>19</th>\n",
              "      <td>40e7becabf</td>\n",
              "      <td>Hes just not that into you</td>\n",
              "      <td>hes just not that into you</td>\n",
              "      <td>neutral</td>\n",
              "      <td>hes just not that into you</td>\n",
              "    </tr>\n",
              "    <tr>\n",
              "      <th>...</th>\n",
              "      <td>...</td>\n",
              "      <td>...</td>\n",
              "      <td>...</td>\n",
              "      <td>...</td>\n",
              "      <td>...</td>\n",
              "    </tr>\n",
              "    <tr>\n",
              "      <th>21628</th>\n",
              "      <td>148582dfe6</td>\n",
              "      <td>THE best job in the world &amp; yes its in Australia  http://tinyurl.com/clxl4l</td>\n",
              "      <td>the best job in the world Special yes its in australia URL</td>\n",
              "      <td>positive</td>\n",
              "      <td>best</td>\n",
              "    </tr>\n",
              "    <tr>\n",
              "      <th>24747</th>\n",
              "      <td>9ed3b39ceb</td>\n",
              "      <td>Yeah he`s also partial to JT and TI Dead and Gone and Pink`s Sobre</td>\n",
              "      <td>yeah hes also partial to jt and ti dead and gone and pinks sobre</td>\n",
              "      <td>neutral</td>\n",
              "      <td>yeah hes also partial to jt and ti dead and gone and pinks sobre</td>\n",
              "    </tr>\n",
              "    <tr>\n",
              "      <th>18164</th>\n",
              "      <td>b2ccc6e924</td>\n",
              "      <td>Oui, I figured that since its a day off, I`d better start brushing up on my french; so far I have learnt Bonjour and Oui</td>\n",
              "      <td>oui i figured that since its a day off id better start brushing up on my french so far i have learnt bonjour and oui</td>\n",
              "      <td>neutral</td>\n",
              "      <td>oui i figured that since its a day off id better start brushing up on my french so far i have learnt bonjour and oui</td>\n",
              "    </tr>\n",
              "    <tr>\n",
              "      <th>10041</th>\n",
              "      <td>5652d8ae75</td>\n",
              "      <td>if i can get a ticket, but the pickings are lookin slim soo prob not</td>\n",
              "      <td>if i can get a ticket but the pickings are lokin slim so prob not</td>\n",
              "      <td>neutral</td>\n",
              "      <td>if i can get a ticket but the pickings are lokin slim so prob not</td>\n",
              "    </tr>\n",
              "    <tr>\n",
              "      <th>12238</th>\n",
              "      <td>49360765cf</td>\n",
              "      <td>thank you  make sure u read the groups description to better understand this project</td>\n",
              "      <td>thank you make sure u read the groups description to better understand this project</td>\n",
              "      <td>positive</td>\n",
              "      <td>thank you make sure u read the groups description to better understand this project</td>\n",
              "    </tr>\n",
              "  </tbody>\n",
              "</table>\n",
              "<p>19236 rows × 5 columns</p>\n",
              "</div>"
            ],
            "text/plain": [
              "           textID  ...                                                                                                                preds_text\n",
              "652    a834cef9c6  ...                                                                                                                       fml\n",
              "24883  5bfad683d5  ...                                                                                                                     yummy\n",
              "15385  08a8d660b1  ...  i wish i knew someone down there who could hook us up a friend told me once that they got crappy seats for a show in chi\n",
              "16753  99a0ff3bef  ...                                                                                              lucky u im stuck in the rain\n",
              "19     40e7becabf  ...                                                                                                hes just not that into you\n",
              "...           ...  ...                                                                                                                       ...\n",
              "21628  148582dfe6  ...                                                                                                                      best\n",
              "24747  9ed3b39ceb  ...                                                          yeah hes also partial to jt and ti dead and gone and pinks sobre\n",
              "18164  b2ccc6e924  ...      oui i figured that since its a day off id better start brushing up on my french so far i have learnt bonjour and oui\n",
              "10041  5652d8ae75  ...                                                         if i can get a ticket but the pickings are lokin slim so prob not\n",
              "12238  49360765cf  ...                                       thank you make sure u read the groups description to better understand this project\n",
              "\n",
              "[19236 rows x 5 columns]"
            ]
          },
          "metadata": {},
          "execution_count": 78
        }
      ]
    },
    {
      "cell_type": "code",
      "source": [
        "#score tập train:\n",
        "train_preds_text = preds_train.preds_text.str.split().to_list()\n",
        "train_selected_text = tse_st.Map_Extracted(preprocessed_train_X,train_preds_text)\n",
        "tse_st.score(train_selected_text,train_y_ex)"
      ],
      "metadata": {
        "colab": {
          "base_uri": "https://localhost:8080/"
        },
        "id": "fhZPgtSQHAmo",
        "outputId": "d45edb67-55d3-4f83-e68f-a64f9834db3d"
      },
      "id": "fhZPgtSQHAmo",
      "execution_count": null,
      "outputs": [
        {
          "output_type": "execute_result",
          "data": {
            "text/plain": [
              "0.6640610864326043"
            ]
          },
          "metadata": {},
          "execution_count": 79
        }
      ]
    },
    {
      "cell_type": "code",
      "source": [
        "#Predict tập val:\n",
        "start_pred_val , end_pred_val = model.predict((val))"
      ],
      "metadata": {
        "id": "U1WAeOZVFS5a"
      },
      "id": "U1WAeOZVFS5a",
      "execution_count": null,
      "outputs": []
    },
    {
      "cell_type": "code",
      "source": [
        "\n",
        "pred_values_val = []\n",
        "for i in tqdm(range(start_pred_val.shape[0])):\n",
        "  s = np.argmax(start_pred_val[i,])\n",
        "  e = np.argmax(end_pred_val[i,])\n",
        "  text1 = \" \"+\" \".join(x_val_bert['Cleaned_texts'].values[i].split())\n",
        "  enc = tokenizer.encode(text1)\n",
        "  st = tokenizer.decode(enc[(s-2):(e-1)])\n",
        "  pred_values_val.append(st)\n"
      ],
      "metadata": {
        "colab": {
          "base_uri": "https://localhost:8080/"
        },
        "id": "54-ujUnRGFrW",
        "outputId": "5fac408f-f6d3-4bb2-e267-bb36f6f90200"
      },
      "id": "54-ujUnRGFrW",
      "execution_count": null,
      "outputs": [
        {
          "output_type": "stream",
          "name": "stderr",
          "text": [
            "100%|██████████| 8244/8244 [00:05<00:00, 1393.76it/s]\n"
          ]
        }
      ]
    },
    {
      "cell_type": "code",
      "source": [
        "preds_val = x_val_bert.copy()\n",
        "preds_val['preds_text'] =  pred_values_val\n"
      ],
      "metadata": {
        "id": "WPkBiiBeGb8h"
      },
      "id": "WPkBiiBeGb8h",
      "execution_count": null,
      "outputs": []
    },
    {
      "cell_type": "code",
      "source": [
        "preds_val"
      ],
      "metadata": {
        "colab": {
          "base_uri": "https://localhost:8080/",
          "height": 510
        },
        "id": "TLjfJl1AGrcc",
        "outputId": "74404eb0-e4f7-406f-8337-3ef7175e9ada"
      },
      "id": "TLjfJl1AGrcc",
      "execution_count": null,
      "outputs": [
        {
          "output_type": "execute_result",
          "data": {
            "text/html": [
              "<div>\n",
              "<style scoped>\n",
              "    .dataframe tbody tr th:only-of-type {\n",
              "        vertical-align: middle;\n",
              "    }\n",
              "\n",
              "    .dataframe tbody tr th {\n",
              "        vertical-align: top;\n",
              "    }\n",
              "\n",
              "    .dataframe thead th {\n",
              "        text-align: right;\n",
              "    }\n",
              "</style>\n",
              "<table border=\"1\" class=\"dataframe\">\n",
              "  <thead>\n",
              "    <tr style=\"text-align: right;\">\n",
              "      <th></th>\n",
              "      <th>textID</th>\n",
              "      <th>Raw_text</th>\n",
              "      <th>Cleaned_texts</th>\n",
              "      <th>sentiment</th>\n",
              "      <th>preds_text</th>\n",
              "    </tr>\n",
              "  </thead>\n",
              "  <tbody>\n",
              "    <tr>\n",
              "      <th>3259</th>\n",
              "      <td>f14d0140f1</td>\n",
              "      <td>Yikes!  I hope she was okay.  I never her heard her say her tummy hurt.</td>\n",
              "      <td>yikes i hope she was okay i never her heard her say her tummy hurt</td>\n",
              "      <td>neutral</td>\n",
              "      <td>yikes i hope she was okay i never her heard her say her tummy hurt</td>\n",
              "    </tr>\n",
              "    <tr>\n",
              "      <th>13469</th>\n",
              "      <td>d303e92e0a</td>\n",
              "      <td>aww my son gave me a purple g shock for mother`s day</td>\n",
              "      <td>aw my son gave me a purple g shock for mothers day</td>\n",
              "      <td>positive</td>\n",
              "      <td>aw my son gave me a purple g shock for mothers day</td>\n",
              "    </tr>\n",
              "    <tr>\n",
              "      <th>7904</th>\n",
              "      <td>ea50bdcad9</td>\n",
              "      <td>Back from hospital. Doc says I`ll live</td>\n",
              "      <td>back from hospital doc says ill live</td>\n",
              "      <td>positive</td>\n",
              "      <td>back from hospital doc says ill live</td>\n",
              "    </tr>\n",
              "    <tr>\n",
              "      <th>14283</th>\n",
              "      <td>22d7ee60ad</td>\n",
              "      <td>boo  you can come over and we`ll watch telenovelas and braid each others hair.</td>\n",
              "      <td>boo you can come over and well watch telenovelas and braid each others hair</td>\n",
              "      <td>neutral</td>\n",
              "      <td>boo you can come over and well watch telenovelas and braid each others hair</td>\n",
              "    </tr>\n",
              "    <tr>\n",
              "      <th>1282</th>\n",
              "      <td>59e971682c</td>\n",
              "      <td>Lost at bowling again  why do i suck</td>\n",
              "      <td>lost at bowling again why do i suck</td>\n",
              "      <td>negative</td>\n",
              "      <td>lost at bowling again why do i suck</td>\n",
              "    </tr>\n",
              "    <tr>\n",
              "      <th>...</th>\n",
              "      <td>...</td>\n",
              "      <td>...</td>\n",
              "      <td>...</td>\n",
              "      <td>...</td>\n",
              "      <td>...</td>\n",
              "    </tr>\n",
              "    <tr>\n",
              "      <th>12054</th>\n",
              "      <td>126ade42b8</td>\n",
              "      <td>oh that`s cool   Thanks!!</td>\n",
              "      <td>oh thats cool thanks</td>\n",
              "      <td>positive</td>\n",
              "      <td>thanks</td>\n",
              "    </tr>\n",
              "    <tr>\n",
              "      <th>2137</th>\n",
              "      <td>7f6299624f</td>\n",
              "      <td>Wish I could listen but because I`m from Canada, the website won`t let me!</td>\n",
              "      <td>wish i could listen but because im from canada the website wont let me</td>\n",
              "      <td>negative</td>\n",
              "      <td>wish i could listen but</td>\n",
              "    </tr>\n",
              "    <tr>\n",
              "      <th>1300</th>\n",
              "      <td>1ef247a527</td>\n",
              "      <td>hahahaha. im listening to my iTunes library, a bit of Sonia Dada atm,  ITs good</td>\n",
              "      <td>hahahaha im listening to my itunes library a bit of sonia dada atm its good</td>\n",
              "      <td>positive</td>\n",
              "      <td>hahahaha im listening to my itunes library a bit of sonia dada atm its good</td>\n",
              "    </tr>\n",
              "    <tr>\n",
              "      <th>27069</th>\n",
              "      <td>d178e9718d</td>\n",
              "      <td>I dont think so</td>\n",
              "      <td>i dont think so</td>\n",
              "      <td>neutral</td>\n",
              "      <td>i dont think so</td>\n",
              "    </tr>\n",
              "    <tr>\n",
              "      <th>13144</th>\n",
              "      <td>72c4a3023e</td>\n",
              "      <td>Is getting excited for the weekend.......Or, hang on, i am going to be all alone   never mind, excitement lost</td>\n",
              "      <td>is getting excited for the wekendor hang on i am going to be all alone never mind excitement lost</td>\n",
              "      <td>neutral</td>\n",
              "      <td>is getting excited for the wekendor hang on i am going to be all alone never mind excitement lost</td>\n",
              "    </tr>\n",
              "  </tbody>\n",
              "</table>\n",
              "<p>8244 rows × 5 columns</p>\n",
              "</div>"
            ],
            "text/plain": [
              "           textID  ...                                                                                         preds_text\n",
              "3259   f14d0140f1  ...                                 yikes i hope she was okay i never her heard her say her tummy hurt\n",
              "13469  d303e92e0a  ...                                                 aw my son gave me a purple g shock for mothers day\n",
              "7904   ea50bdcad9  ...                                                               back from hospital doc says ill live\n",
              "14283  22d7ee60ad  ...                        boo you can come over and well watch telenovelas and braid each others hair\n",
              "1282   59e971682c  ...                                                                lost at bowling again why do i suck\n",
              "...           ...  ...                                                                                                ...\n",
              "12054  126ade42b8  ...                                                                                             thanks\n",
              "2137   7f6299624f  ...                                                                            wish i could listen but\n",
              "1300   1ef247a527  ...                        hahahaha im listening to my itunes library a bit of sonia dada atm its good\n",
              "27069  d178e9718d  ...                                                                                    i dont think so\n",
              "13144  72c4a3023e  ...  is getting excited for the wekendor hang on i am going to be all alone never mind excitement lost\n",
              "\n",
              "[8244 rows x 5 columns]"
            ]
          },
          "metadata": {},
          "execution_count": 83
        }
      ]
    },
    {
      "cell_type": "code",
      "source": [
        "#score tập val:\n",
        "val_preds_text = preds_val.preds_text.str.split().to_list()\n",
        "val_selected_text = tse_st.Map_Extracted(preprocessed_val_X,val_preds_text)\n",
        "tse_st.score(val_selected_text,val_y_ex)"
      ],
      "metadata": {
        "colab": {
          "base_uri": "https://localhost:8080/"
        },
        "id": "2zlrdigbHcH5",
        "outputId": "3ae9d6be-0912-4db7-897b-f4a78534aad9"
      },
      "id": "2zlrdigbHcH5",
      "execution_count": null,
      "outputs": [
        {
          "output_type": "execute_result",
          "data": {
            "text/plain": [
              "0.5969852760465325"
            ]
          },
          "metadata": {},
          "execution_count": 84
        }
      ]
    },
    {
      "cell_type": "markdown",
      "source": [
        "## 2.2 kết hợp thống kê và deep learning trong rút trích"
      ],
      "metadata": {
        "id": "MAYRZ_R6wBm6"
      },
      "id": "MAYRZ_R6wBm6"
    },
    {
      "cell_type": "markdown",
      "source": [
        "Ý tưởng: sử dụng lại kết quả của học thống kê và điền giá trị null cho chúng bằng kết quả của Bert\n"
      ],
      "metadata": {
        "id": "75tptkWxvxCo"
      },
      "id": "75tptkWxvxCo"
    },
    {
      "cell_type": "code",
      "source": [
        "train_dl_df = pd.DataFrame(data ={'clean_text':cleaned_train_X.Cleaned_texts,'selected_text':train_selected_text ,'true_text':train_y_ex, 'sentiment':train_X_df.sentiment})\n",
        "train_stat_df =  pd.DataFrame(data ={'clean_text':cleaned_train_X.Cleaned_texts,'selected_text':selected_train_X ,'true_text':train_y_ex, 'sentiment':train_X_df.sentiment})\n",
        "train_integrate_df = train_dl_df.copy()"
      ],
      "metadata": {
        "id": "Oy87sMhuwAjz"
      },
      "id": "Oy87sMhuwAjz",
      "execution_count": null,
      "outputs": []
    },
    {
      "cell_type": "code",
      "source": [
        "#fillna with dl\n",
        "train_integrate_stat = train_stat_df.copy()\n",
        "train_null_df = train_integrate_stat.loc[train_integrate_stat.selected_text.str.split().apply(len)==0,:].index\n",
        "for i in list(train_null_df):\n",
        "   train_integrate_stat.loc[i,'selected_text'] = train_dl_df.loc[i,'selected_text']"
      ],
      "metadata": {
        "id": "nnKCVAkobSIB"
      },
      "id": "nnKCVAkobSIB",
      "execution_count": null,
      "outputs": []
    },
    {
      "cell_type": "code",
      "source": [
        "#state of art\n",
        "tse_st.score(train_integrate_stat.selected_text.to_list(),train_integrate_stat.true_text)"
      ],
      "metadata": {
        "colab": {
          "base_uri": "https://localhost:8080/"
        },
        "id": "2nh6YwuVbx5a",
        "outputId": "34b9dd90-45c4-4061-cb4f-3063c49ed4a6"
      },
      "id": "2nh6YwuVbx5a",
      "execution_count": null,
      "outputs": [
        {
          "output_type": "execute_result",
          "data": {
            "text/plain": [
              "0.6674794955436342"
            ]
          },
          "metadata": {},
          "execution_count": 87
        }
      ]
    },
    {
      "cell_type": "code",
      "source": [
        "val_dl_df = pd.DataFrame(data ={'clean_text':cleaned_val_X.Cleaned_texts,'selected_text':val_selected_text ,'true_text':val_y_ex, 'sentiment':val_X_df.sentiment})\n",
        "val_stat_df =  pd.DataFrame(data ={'clean_text':cleaned_val_X.Cleaned_texts,'selected_text':selected_val_X ,'true_text':val_y_ex, 'sentiment':val_X_df.sentiment})\n",
        "val_integrate_df = val_dl_df.copy()"
      ],
      "metadata": {
        "id": "DIlTRhtPxamU"
      },
      "id": "DIlTRhtPxamU",
      "execution_count": null,
      "outputs": []
    },
    {
      "cell_type": "code",
      "source": [
        "#fillna with dl\n",
        "val_integrate_stat = val_stat_df.copy()\n",
        "null_df = val_integrate_stat.loc[val_integrate_stat.selected_text.str.split().apply(len)==0,:].index\n",
        "for i in list(null_df):\n",
        "   val_integrate_stat.loc[i,'selected_text'] = val_dl_df.loc[i,'selected_text']"
      ],
      "metadata": {
        "id": "HDhnOLgq2sZt"
      },
      "id": "HDhnOLgq2sZt",
      "execution_count": null,
      "outputs": []
    },
    {
      "cell_type": "code",
      "source": [
        "#state of art\n",
        "tse_st.score(val_integrate_stat.selected_text.to_list(),val_integrate_stat.true_text)"
      ],
      "metadata": {
        "colab": {
          "base_uri": "https://localhost:8080/"
        },
        "id": "vA09FHs1yoye",
        "outputId": "80cfca75-48a5-4fc2-f874-b6aa315e9378"
      },
      "id": "vA09FHs1yoye",
      "execution_count": null,
      "outputs": [
        {
          "output_type": "execute_result",
          "data": {
            "text/plain": [
              "0.6518411898273556"
            ]
          },
          "metadata": {},
          "execution_count": 90
        }
      ]
    },
    {
      "cell_type": "code",
      "source": [
        "tokenizer.encode('st presentation for senior boards fml')"
      ],
      "metadata": {
        "colab": {
          "base_uri": "https://localhost:8080/"
        },
        "id": "TfkYNxJXEe4y",
        "outputId": "fc02548b-80be-4725-b5d5-6cea53a228d3"
      },
      "id": "TfkYNxJXEe4y",
      "execution_count": null,
      "outputs": [
        {
          "output_type": "execute_result",
          "data": {
            "text/plain": [
              "[101, 2358, 8312, 2005, 3026, 7923, 4718, 2140, 102]"
            ]
          },
          "metadata": {},
          "execution_count": 98
        }
      ]
    },
    {
      "cell_type": "code",
      "source": [
        "tokenizer.decode([2140])"
      ],
      "metadata": {
        "colab": {
          "base_uri": "https://localhost:8080/",
          "height": 35
        },
        "id": "D8cpF5pr-wP_",
        "outputId": "510f257b-5dcd-4df7-a6ec-7d85969444e7"
      },
      "id": "D8cpF5pr-wP_",
      "execution_count": null,
      "outputs": [
        {
          "output_type": "execute_result",
          "data": {
            "application/vnd.google.colaboratory.intrinsic+json": {
              "type": "string"
            },
            "text/plain": [
              "'##l'"
            ]
          },
          "metadata": {},
          "execution_count": 101
        }
      ]
    },
    {
      "cell_type": "markdown",
      "source": [
        "## 2.3 LSTM"
      ],
      "metadata": {
        "id": "jFWNUK9eYg_F"
      },
      "id": "jFWNUK9eYg_F"
    },
    {
      "cell_type": "markdown",
      "source": [
        "train: 0.548\n",
        "val: 0.489"
      ],
      "metadata": {
        "id": "Ydhktog8hJCM"
      },
      "id": "Ydhktog8hJCM"
    },
    {
      "cell_type": "code",
      "execution_count": null,
      "metadata": {
        "id": "omckpDxeSn1z"
      },
      "outputs": [],
      "source": [
        "#### Tiền xử lý cho deep learning\n",
        "#0. Sử dụng lại clean text ở mô hình thống kê trên\n",
        "#1. Tạo dictionary word2 index\n",
        "#2. Chuyển câu về vector vs các con số đại diện cho từ (từ bước 1), padding cho các câu bằng nhau\n",
        "\n",
        "vocab_size = len(tse_st.vocabs)\n",
        "embedding_dim = 3\n",
        "max_length = 35\n",
        "trunc_type='post'\n",
        "oov_tok = \"<OOV>\"\n",
        "\n",
        "tokenizer = Tokenizer(num_words = vocab_size, oov_token=oov_tok)\n",
        "tokenizer.fit_on_texts(cleaned_train_X.Cleaned_texts.to_list())\n",
        "word_index = tokenizer.word_index\n",
        "train_sequences = tokenizer.texts_to_sequences(cleaned_train_X.Cleaned_texts.to_list())\n",
        "train_padded = pad_sequences(train_sequences,maxlen=max_length,padding='post',truncating=trunc_type)\n",
        "\n",
        "val_sequences = tokenizer.texts_to_sequences(cleaned_val_X.Cleaned_texts.to_list())\n",
        "val_padded = pad_sequences(val_sequences,maxlen=max_length,padding='post',truncating=trunc_type)"
      ],
      "id": "omckpDxeSn1z"
    },
    {
      "cell_type": "code",
      "source": [
        "train_padded"
      ],
      "metadata": {
        "colab": {
          "base_uri": "https://localhost:8080/"
        },
        "id": "GDisVClqQV8z",
        "outputId": "4f8a0da8-4fa4-4de9-ba7b-8096e2c6d36a"
      },
      "id": "GDisVClqQV8z",
      "execution_count": null,
      "outputs": [
        {
          "output_type": "execute_result",
          "data": {
            "text/plain": [
              "array([[ 568, 1678,   14, ...,    0,    0,    0],\n",
              "       [ 853, 3450,  767, ...,    0,    0,    0],\n",
              "       [   2,  112,    2, ...,    0,    0,    0],\n",
              "       ...,\n",
              "       [7919,    2, 1456, ...,    0,    0,    0],\n",
              "       [  73,    2,   72, ...,    0,    0,    0],\n",
              "       [ 172,   10,  132, ...,    0,    0,    0]], dtype=int32)"
            ]
          },
          "metadata": {},
          "execution_count": 95
        }
      ]
    },
    {
      "cell_type": "code",
      "execution_count": null,
      "metadata": {
        "colab": {
          "base_uri": "https://localhost:8080/"
        },
        "id": "ZfcDIV_7Y0_9",
        "outputId": "9bba21bd-1b57-403d-9008-8dfdb4de22a0"
      },
      "outputs": [
        {
          "output_type": "execute_result",
          "data": {
            "text/plain": [
              "16770"
            ]
          },
          "metadata": {},
          "execution_count": 96
        }
      ],
      "source": [
        "len(tse_st.likelihood)"
      ],
      "id": "ZfcDIV_7Y0_9"
    },
    {
      "cell_type": "code",
      "execution_count": null,
      "metadata": {
        "id": "rULqmibjejSY"
      },
      "outputs": [],
      "source": [
        "#word_index\n",
        "#len(tse_st.likelihood)"
      ],
      "id": "rULqmibjejSY"
    },
    {
      "cell_type": "code",
      "execution_count": null,
      "metadata": {
        "colab": {
          "base_uri": "https://localhost:8080/"
        },
        "id": "RQip4IMDjh1x",
        "outputId": "4bd80cbb-8f87-4540-e29c-06039cbfabe9"
      },
      "outputs": [
        {
          "data": {
            "text/plain": [
              "[7.078299261644908e-05, 0.0002255990460383196, 0.00012950907426913713]"
            ]
          },
          "execution_count": 32,
          "metadata": {},
          "output_type": "execute_result"
        }
      ],
      "source": [
        "# tse_st.likelihood['crush']"
      ],
      "id": "RQip4IMDjh1x"
    },
    {
      "cell_type": "code",
      "execution_count": null,
      "metadata": {
        "id": "oWxj5oA9cqDx"
      },
      "outputs": [],
      "source": [
        "# word embeddings with score representation\n",
        "def word2vec_statistic(word_index,likelihood):\n",
        "  embeds = np.zeros(shape = (vocab_size,3),dtype = 'float32')\n",
        "  embeds[0] = np.zeros(3,dtype = 'float32')\n",
        "  count_in = 0\n",
        "  count_out = 0\n",
        "  for word in list(word_index.keys())[0:vocab_size-1]:\n",
        "    i = word_index[word]\n",
        "    if word in likelihood:\n",
        "      embeds[i]= likelihood[word]\n",
        "      count_in += 1\n",
        "    else:\n",
        "      embeds[i] = np.random.uniform(-0.25,0.25,3)\n",
        "      count_out += 1\n",
        "  print(count_in,count_out)\n",
        "  return embeds\n"
      ],
      "id": "oWxj5oA9cqDx"
    },
    {
      "cell_type": "code",
      "execution_count": null,
      "metadata": {
        "colab": {
          "base_uri": "https://localhost:8080/"
        },
        "id": "lp5BLiUqi_rB",
        "outputId": "a94e9359-5161-4fd7-f975-9db8aa23c7d6"
      },
      "outputs": [
        {
          "output_type": "stream",
          "name": "stdout",
          "text": [
            "12340 4429\n"
          ]
        }
      ],
      "source": [
        "embs = word2vec_statistic(word_index,tse_st.likelihood)"
      ],
      "id": "lp5BLiUqi_rB"
    },
    {
      "cell_type": "code",
      "source": [
        "embs"
      ],
      "metadata": {
        "colab": {
          "base_uri": "https://localhost:8080/"
        },
        "id": "SZv1svvFZs06",
        "outputId": "c36b946f-1fa2-4d78-ccc7-e8862b49113b"
      },
      "id": "SZv1svvFZs06",
      "execution_count": null,
      "outputs": [
        {
          "output_type": "execute_result",
          "data": {
            "text/plain": [
              "array([[ 0.0000000e+00,  0.0000000e+00,  0.0000000e+00],\n",
              "       [ 4.1426221e-05,  1.6219188e+02,  4.0486815e-05],\n",
              "       [ 1.1813217e+01,  4.5117878e+01,  8.1252337e+00],\n",
              "       ...,\n",
              "       [ 2.1684538e-01, -5.0188310e-02, -1.3487662e-01],\n",
              "       [-2.1302557e-01,  9.6522927e-02,  2.1913543e-01],\n",
              "       [-2.3172331e-01, -1.6626121e-01,  9.0431198e-02]], dtype=float32)"
            ]
          },
          "metadata": {},
          "execution_count": 103
        }
      ]
    },
    {
      "cell_type": "code",
      "execution_count": null,
      "metadata": {
        "colab": {
          "base_uri": "https://localhost:8080/"
        },
        "id": "3HhKRLDckudm",
        "outputId": "63b10917-22aa-496c-8fc2-19f7ef759463"
      },
      "outputs": [
        {
          "data": {
            "text/plain": [
              "1352"
            ]
          },
          "execution_count": 35,
          "metadata": {},
          "output_type": "execute_result"
        }
      ],
      "source": [
        "word_index['crush']"
      ],
      "id": "3HhKRLDckudm"
    },
    {
      "cell_type": "code",
      "execution_count": null,
      "metadata": {
        "colab": {
          "base_uri": "https://localhost:8080/"
        },
        "id": "ltLBc0JEjUSn",
        "outputId": "18c032f3-f2bf-4879-e066-e20439a67ce0"
      },
      "outputs": [
        {
          "data": {
            "text/plain": [
              "(15235, 3)"
            ]
          },
          "execution_count": 36,
          "metadata": {},
          "output_type": "execute_result"
        }
      ],
      "source": [
        "embs.shape"
      ],
      "id": "ltLBc0JEjUSn"
    },
    {
      "cell_type": "code",
      "execution_count": null,
      "metadata": {
        "id": "ilLbKMloZwzV"
      },
      "outputs": [],
      "source": [
        "#Xử lý nhãn:\n",
        "def convert_labels_to_matrix(input_padded,preprocessed_y_ex):\n",
        "    train_labl = [' '.join(list(words.values())) for words in preprocessed_y_ex.preprocessed_texts]\n",
        "    train_labl_sequences = tokenizer.texts_to_sequences(train_labl)\n",
        "    label_matrix = []\n",
        "    for sentence,lable in zip(input_padded, train_labl_sequences):\n",
        "      label_temp = np.zeros(38)\n",
        "      for i,w in enumerate(sentence):\n",
        "            for s in lable:\n",
        "                if s==w:\n",
        "                    label_temp[i] = 1\n",
        "      label_matrix.append(label_temp)\n",
        "    return np.array(label_matrix)\n",
        "\n",
        "def convert_label_matrix_to_ind(input_padded,output_matrix):\n",
        "    extracted_inds = []\n",
        "    for tweet,extracted in zip( input_padded, output_matrix):\n",
        "          words = []\n",
        "          for i,w in enumerate(extracted):\n",
        "              if w==1:\n",
        "                  try:\n",
        "                    words.append(tweet[i])\n",
        "                  except:\n",
        "                    continue\n",
        "          extracted_inds.append(words)\n",
        "    return extracted_inds\n",
        "\n",
        "        \n",
        "\n",
        "\n"
      ],
      "id": "ilLbKMloZwzV"
    },
    {
      "cell_type": "markdown",
      "metadata": {
        "id": "4kb3mVZfLvmk"
      },
      "source": [
        "I am happy -> [0,0,1]\n",
        "I am not happy -> [0,0,1,1]"
      ],
      "id": "4kb3mVZfLvmk"
    },
    {
      "cell_type": "code",
      "execution_count": null,
      "metadata": {
        "id": "0HLsuaQ3kRgW"
      },
      "outputs": [],
      "source": [
        "label_train = convert_labels_to_matrix(train_padded,preprocessed_train_y_ex)\n",
        "label_val = convert_labels_to_matrix(val_padded,preprocessed_val_y_ex)\n",
        "#convert_label_matrix_to_ind(padded,label_train_one_hot)"
      ],
      "id": "0HLsuaQ3kRgW"
    },
    {
      "cell_type": "code",
      "execution_count": null,
      "metadata": {
        "id": "Ah9IRlf_xLgS"
      },
      "outputs": [],
      "source": [
        "from tensorflow.keras.utils import to_categorical\n",
        "train_sentiment = to_categorical(preprocessed_train_X.sentiment,num_classes=3)\n",
        "val_sentiment = to_categorical(preprocessed_val_X.sentiment,num_classes=3)"
      ],
      "id": "Ah9IRlf_xLgS"
    },
    {
      "cell_type": "code",
      "execution_count": null,
      "metadata": {
        "id": "JNwOJC6U06yF"
      },
      "outputs": [],
      "source": [
        "input_train_sentiment = np.array(preprocessed_train_X.sentiment).reshape(-1,1)\n",
        "input_val_sentiment = np.array(preprocessed_val_X.sentiment).reshape(-1,1)"
      ],
      "id": "JNwOJC6U06yF"
    },
    {
      "cell_type": "code",
      "execution_count": null,
      "metadata": {
        "colab": {
          "base_uri": "https://localhost:8080/"
        },
        "id": "YB8s3-s1oMXu",
        "outputId": "e406b49e-1d32-4b5d-fcb5-7ebdb2697420"
      },
      "outputs": [
        {
          "data": {
            "text/plain": [
              "(19236, 1)"
            ]
          },
          "execution_count": 40,
          "metadata": {},
          "output_type": "execute_result"
        }
      ],
      "source": [
        "input_train_sentiment.shape"
      ],
      "id": "YB8s3-s1oMXu"
    },
    {
      "cell_type": "code",
      "execution_count": null,
      "metadata": {
        "id": "UPEZltN5rWJh"
      },
      "outputs": [],
      "source": [
        "# input_layer = Input(shape=(300,))\n",
        "# emb_layer = Embedding(5000,100)(input_layer)\n",
        "\n",
        "# lstm_layer1 = Bidirectional(LSTM(50, activation=\"sigmoid\", return_sequences=False))(emb_layer)\n",
        "\n",
        "# hidden_dense_layer = Dense(50,activation=\"sigmoid\")(lstm_layer1)\n",
        "# dense_layer = Dense(1,activation=\"sigmoid\")(hidden_dense_layer)\n",
        "\n",
        "# model = Model(inputs=input_layer, outputs=dense_layer)\n"
      ],
      "id": "UPEZltN5rWJh"
    },
    {
      "cell_type": "code",
      "execution_count": null,
      "metadata": {
        "id": "is856m1I2qQi"
      },
      "outputs": [],
      "source": [
        "def my_loss(true,pred):\n",
        "  #print(true.shape,pred.shape)\n",
        "  loss_obj = tf.keras.losses.BinaryCrossentropy(reduction=tf.keras.losses.Reduction.SUM)\n",
        "  loss = loss_obj (true,pred)\n",
        "  return loss/128 #batch size"
      ],
      "id": "is856m1I2qQi"
    },
    {
      "cell_type": "code",
      "execution_count": null,
      "metadata": {
        "colab": {
          "base_uri": "https://localhost:8080/",
          "height": 1000
        },
        "id": "DeCU7CCRyV9Z",
        "outputId": "aa709246-3906-4769-a8b6-f8342a27aca3"
      },
      "outputs": [
        {
          "name": "stdout",
          "output_type": "stream",
          "text": [
            "Model: \"model_2\"\n",
            "__________________________________________________________________________________________________\n",
            " Layer (type)                   Output Shape         Param #     Connected to                     \n",
            "==================================================================================================\n",
            " input_5 (InputLayer)           [(None, 35)]         0           []                               \n",
            "                                                                                                  \n",
            " input_6 (InputLayer)           [(None, 3)]          0           []                               \n",
            "                                                                                                  \n",
            " embedding_4 (Embedding)        (None, 35, 3)        45705       ['input_5[0][0]']                \n",
            "                                                                                                  \n",
            " embedding_5 (Embedding)        (None, 3, 3)         9           ['input_6[0][0]']                \n",
            "                                                                                                  \n",
            " concatenate_2 (Concatenate)    (None, 38, 3)        0           ['embedding_4[0][0]',            \n",
            "                                                                  'embedding_5[0][0]']            \n",
            "                                                                                                  \n",
            " bidirectional_2 (Bidirectional  (None, 38, 20)      1120        ['concatenate_2[0][0]']          \n",
            " )                                                                                                \n",
            "                                                                                                  \n",
            " dense_4 (Dense)                (None, 38, 50)       1050        ['bidirectional_2[0][0]']        \n",
            "                                                                                                  \n",
            " time_distributed_2 (TimeDistri  (None, 38, 1)       51          ['dense_4[0][0]']                \n",
            " buted)                                                                                           \n",
            "                                                                                                  \n",
            "==================================================================================================\n",
            "Total params: 47,935\n",
            "Trainable params: 47,935\n",
            "Non-trainable params: 0\n",
            "__________________________________________________________________________________________________\n",
            "None\n"
          ]
        },
        {
          "data": {
            "image/png": "[encoded data removed]",
            "text/plain": [
              "<IPython.core.display.Image object>"
            ]
          },
          "execution_count": 50,
          "metadata": {},
          "output_type": "execute_result"
        }
      ],
      "source": [
        "input_text_layer = Input(shape = (35,))\n",
        "emb_layer_text = Embedding(vocab_size,3,input_length=max_length,weights=[embs])(input_text_layer)\n",
        "#pool_text_layer = GlobalAveragePooling1D()(emb_layer_text)\n",
        "\n",
        "input_sentiment_layer = Input(shape =(3,))\n",
        "emb_layer_sentiment= Embedding(3,3,input_length=3)(input_sentiment_layer)\n",
        "#flat_layer = Flatten()(input_sentiment_layer)\n",
        "\n",
        "concat_layer= Concatenate(axis = 1)([emb_layer_text,emb_layer_sentiment])\n",
        "lstm_layer1 = Bidirectional(LSTM(10, activation=\"sigmoid\", return_sequences=True))(concat_layer)\n",
        "\n",
        "hidden_dense_layer = Dense(50,activation=\"sigmoid\")(lstm_layer1)\n",
        "dense_layer = TimeDistributed(Dense(1,activation='sigmoid'))(hidden_dense_layer)\n",
        "\n",
        "model = Model(inputs=[input_text_layer,input_sentiment_layer], outputs=dense_layer)\n",
        "\n",
        "model.compile(loss= my_loss, optimizer=\"adam\",metrics=[\"accuracy\"])\n",
        "print (model.summary())\n",
        "mc = ModelCheckpoint(\"best_checkpoint.h5\", monitor=\"val_accuracy\" , save_best_only=True, save_weights_only=True)\n",
        "#mc = ModelCheckpoint(\"best_checkpoint.h5\", monitor=\"val_accuracy\" , save_best_only=True, save_weights_only=True)\n",
        "tf.keras.utils.plot_model(model, show_shapes=True)\n",
        "#model.fit(X_train,y_train,validation_data=(X_val,y_val), epochs= 20, batch_size=50, callbacks=[mc])"
      ],
      "id": "DeCU7CCRyV9Z"
    },
    {
      "cell_type": "code",
      "execution_count": null,
      "metadata": {
        "id": "NSLXO87BXwMp"
      },
      "outputs": [],
      "source": [
        "tf.config.experimental_run_functions_eagerly(True)\n",
        "tf.config.run_functions_eagerly(True)"
      ],
      "id": "NSLXO87BXwMp"
    },
    {
      "cell_type": "code",
      "execution_count": null,
      "metadata": {
        "colab": {
          "base_uri": "https://localhost:8080/"
        },
        "id": "46963nxbof9x",
        "outputId": "0f75bedd-c9e8-4893-b418-f684d2a0144e"
      },
      "outputs": [
        {
          "data": {
            "text/plain": [
              "(19236, 36)"
            ]
          },
          "execution_count": 44,
          "metadata": {},
          "output_type": "execute_result"
        }
      ],
      "source": [
        "label_train.shape"
      ],
      "id": "46963nxbof9x"
    },
    {
      "cell_type": "code",
      "execution_count": null,
      "metadata": {
        "colab": {
          "base_uri": "https://localhost:8080/"
        },
        "id": "SAIF3ngyVJxQ",
        "outputId": "c1a7d409-429d-4d51-b3d0-363760ecc2d0"
      },
      "outputs": [
        {
          "name": "stderr",
          "output_type": "stream",
          "text": [
            "/usr/local/lib/python3.7/dist-packages/tensorflow/python/data/ops/dataset_ops.py:4527: UserWarning: Even though the `tf.config.experimental_run_functions_eagerly` option is set, this option does not apply to tf.data functions. To force eager execution of tf.data functions, please use `tf.data.experimental.enable_debug_mode()`.\n",
            "  \"Even though the `tf.config.experimental_run_functions_eagerly` \"\n"
          ]
        },
        {
          "name": "stdout",
          "output_type": "stream",
          "text": [
            "Epoch 1/20\n",
            "151/151 [==============================] - 39s 255ms/step - loss: 0.5031 - accuracy: 0.7721 - val_loss: 0.4398 - val_accuracy: 0.8087\n",
            "Epoch 2/20\n",
            "151/151 [==============================] - 38s 251ms/step - loss: 0.3854 - accuracy: 0.8130 - val_loss: 0.3233 - val_accuracy: 0.8169\n",
            "Epoch 3/20\n",
            "151/151 [==============================] - 38s 254ms/step - loss: 0.2920 - accuracy: 0.8231 - val_loss: 0.2732 - val_accuracy: 0.8259\n",
            "Epoch 4/20\n",
            "151/151 [==============================] - 34s 224ms/step - loss: 0.2649 - accuracy: 0.8298 - val_loss: 0.2601 - val_accuracy: 0.8307\n",
            "Epoch 5/20\n",
            "151/151 [==============================] - 38s 253ms/step - loss: 0.2547 - accuracy: 0.8339 - val_loss: 0.2534 - val_accuracy: 0.8348\n",
            "Epoch 6/20\n",
            "151/151 [==============================] - 35s 229ms/step - loss: 0.2486 - accuracy: 0.8382 - val_loss: 0.2489 - val_accuracy: 0.8360\n",
            "Epoch 7/20\n",
            "151/151 [==============================] - 34s 227ms/step - loss: 0.2444 - accuracy: 0.8417 - val_loss: 0.2459 - val_accuracy: 0.8375\n",
            "Epoch 8/20\n",
            "151/151 [==============================] - 38s 253ms/step - loss: 0.2413 - accuracy: 0.8443 - val_loss: 0.2441 - val_accuracy: 0.8398\n",
            "Epoch 9/20\n",
            "151/151 [==============================] - 38s 253ms/step - loss: 0.2389 - accuracy: 0.8463 - val_loss: 0.2426 - val_accuracy: 0.8388\n",
            "Epoch 10/20\n",
            "151/151 [==============================] - 34s 229ms/step - loss: 0.2366 - accuracy: 0.8484 - val_loss: 0.2418 - val_accuracy: 0.8391\n",
            "Epoch 11/20\n",
            "151/151 [==============================] - 34s 223ms/step - loss: 0.2345 - accuracy: 0.8507 - val_loss: 0.2413 - val_accuracy: 0.8404\n",
            "Epoch 12/20\n",
            "151/151 [==============================] - 34s 227ms/step - loss: 0.2322 - accuracy: 0.8539 - val_loss: 0.2412 - val_accuracy: 0.8403\n",
            "Epoch 13/20\n",
            "151/151 [==============================] - 38s 254ms/step - loss: 0.2300 - accuracy: 0.8569 - val_loss: 0.2413 - val_accuracy: 0.8410\n",
            "Epoch 14/20\n",
            "151/151 [==============================] - 34s 228ms/step - loss: 0.2280 - accuracy: 0.8594 - val_loss: 0.2422 - val_accuracy: 0.8403\n",
            "Epoch 15/20\n",
            "151/151 [==============================] - 34s 225ms/step - loss: 0.2262 - accuracy: 0.8616 - val_loss: 0.2425 - val_accuracy: 0.8417\n",
            "Epoch 16/20\n",
            "151/151 [==============================] - 38s 252ms/step - loss: 0.2243 - accuracy: 0.8642 - val_loss: 0.2443 - val_accuracy: 0.8411\n",
            "Epoch 17/20\n",
            "151/151 [==============================] - 38s 252ms/step - loss: 0.2224 - accuracy: 0.8664 - val_loss: 0.2451 - val_accuracy: 0.8423\n",
            "Epoch 18/20\n",
            "151/151 [==============================] - 38s 254ms/step - loss: 0.2206 - accuracy: 0.8682 - val_loss: 0.2461 - val_accuracy: 0.8427\n",
            "Epoch 19/20\n",
            "151/151 [==============================] - 38s 255ms/step - loss: 0.2187 - accuracy: 0.8705 - val_loss: 0.2475 - val_accuracy: 0.8427\n",
            "Epoch 20/20\n",
            "151/151 [==============================] - 34s 228ms/step - loss: 0.2170 - accuracy: 0.8725 - val_loss: 0.2493 - val_accuracy: 0.8426\n"
          ]
        },
        {
          "data": {
            "text/plain": [
              "<keras.callbacks.History at 0x7f5a117e17d0>"
            ]
          },
          "execution_count": 54,
          "metadata": {},
          "output_type": "execute_result"
        }
      ],
      "source": [
        "model.fit([train_padded,train_sentiment],label_train,validation_data=([val_padded,val_sentiment],label_val), epochs= 20, batch_size=128,callbacks=[mc])"
      ],
      "id": "SAIF3ngyVJxQ"
    },
    {
      "cell_type": "code",
      "execution_count": null,
      "metadata": {
        "colab": {
          "base_uri": "https://localhost:8080/"
        },
        "id": "HnJrXkWzVq96",
        "outputId": "6bd40825-2a2c-4650-95a2-99e9c71b7ecc"
      },
      "outputs": [
        {
          "name": "stderr",
          "output_type": "stream",
          "text": [
            "/usr/local/lib/python3.7/dist-packages/tensorflow/python/data/ops/dataset_ops.py:4527: UserWarning: Even though the `tf.config.experimental_run_functions_eagerly` option is set, this option does not apply to tf.data functions. To force eager execution of tf.data functions, please use `tf.data.experimental.enable_debug_mode()`.\n",
            "  \"Even though the `tf.config.experimental_run_functions_eagerly` \"\n"
          ]
        }
      ],
      "source": [
        "train_pred = model.predict([train_padded,train_sentiment])"
      ],
      "id": "HnJrXkWzVq96"
    },
    {
      "cell_type": "code",
      "execution_count": null,
      "metadata": {
        "colab": {
          "base_uri": "https://localhost:8080/"
        },
        "id": "7QPKfpp1fX8A",
        "outputId": "0d300aa1-a347-4e73-c018-e1b0a7ad0673"
      },
      "outputs": [
        {
          "data": {
            "text/plain": [
              "array([[5.9153116e-01],\n",
              "       [5.1225692e-01],\n",
              "       [4.7129771e-01],\n",
              "       [4.4762367e-01],\n",
              "       [4.9879482e-01],\n",
              "       [7.0727968e-01],\n",
              "       [7.0333481e-04],\n",
              "       [4.5052171e-04],\n",
              "       [4.1231513e-04],\n",
              "       [3.9839745e-04],\n",
              "       [3.9264560e-04],\n",
              "       [3.8987398e-04],\n",
              "       [3.8823485e-04],\n",
              "       [3.8704276e-04],\n",
              "       [3.8588047e-04],\n",
              "       [3.8471818e-04],\n",
              "       [3.8337708e-04],\n",
              "       [3.8200617e-04],\n",
              "       [3.8033724e-04],\n",
              "       [3.7851930e-04],\n",
              "       [3.7646294e-04],\n",
              "       [3.7431717e-04],\n",
              "       [3.7175417e-04],\n",
              "       [3.6895275e-04],\n",
              "       [3.6588311e-04],\n",
              "       [3.6239624e-04],\n",
              "       [3.5864115e-04],\n",
              "       [3.5431981e-04],\n",
              "       [3.4984946e-04],\n",
              "       [3.4499168e-04],\n",
              "       [3.4010410e-04],\n",
              "       [3.3509731e-04],\n",
              "       [3.2919645e-04],\n",
              "       [3.2293797e-04],\n",
              "       [3.2731891e-04],\n",
              "       [3.6635995e-04],\n",
              "       [3.6680698e-04],\n",
              "       [4.1875243e-04]], dtype=float32)"
            ]
          },
          "execution_count": 56,
          "metadata": {},
          "output_type": "execute_result"
        }
      ],
      "source": [
        "train_pred[0]"
      ],
      "id": "7QPKfpp1fX8A"
    },
    {
      "cell_type": "code",
      "execution_count": null,
      "metadata": {
        "id": "YvZUxe3zf5J5"
      },
      "outputs": [],
      "source": [
        "def ind2word(preds):\n",
        "  index2word = {i:w for w,i in word_index.items()}\n",
        "  selected_text = []\n",
        "  for s in preds:\n",
        "    words = []\n",
        "    for j in s:\n",
        "      try:\n",
        "        word = index2word[j]\n",
        "        words.append(word)\n",
        "      except:\n",
        "        continue\n",
        "    selected_text.append(words)\n",
        "  return selected_text "
      ],
      "id": "YvZUxe3zf5J5"
    },
    {
      "cell_type": "code",
      "execution_count": null,
      "metadata": {
        "colab": {
          "base_uri": "https://localhost:8080/"
        },
        "id": "zCCMJKnqAOke",
        "outputId": "4927518c-4982-4758-e8bc-d4dba5da300b"
      },
      "outputs": [
        {
          "data": {
            "text/plain": [
              "0.548866488125039"
            ]
          },
          "execution_count": 84,
          "metadata": {},
          "output_type": "execute_result"
        }
      ],
      "source": [
        "train_pred1 = np.squeeze(train_pred)\n",
        "train_pred1 = np.where(train_pred1>0.5,1,0)\n",
        "train_preds_ind =convert_label_matrix_to_ind(train_padded,train_pred1)\n",
        "train_extracted_text = ind2word(train_preds_ind)\n",
        "train_selected_text = tse_st.Map_Extracted(preprocessed_train_X,train_extracted_text)\n",
        "tse_st.score(train_selected_text,train_y_ex)"
      ],
      "id": "zCCMJKnqAOke"
    },
    {
      "cell_type": "code",
      "execution_count": null,
      "metadata": {
        "colab": {
          "base_uri": "https://localhost:8080/"
        },
        "id": "SEz67aI0toR5",
        "outputId": "95ac072c-f743-4174-b2bb-2063e296f724"
      },
      "outputs": [
        {
          "name": "stderr",
          "output_type": "stream",
          "text": [
            "/usr/local/lib/python3.7/dist-packages/tensorflow/python/data/ops/dataset_ops.py:4527: UserWarning: Even though the `tf.config.experimental_run_functions_eagerly` option is set, this option does not apply to tf.data functions. To force eager execution of tf.data functions, please use `tf.data.experimental.enable_debug_mode()`.\n",
            "  \"Even though the `tf.config.experimental_run_functions_eagerly` \"\n"
          ]
        }
      ],
      "source": [
        "val_pred = model.predict([val_padded,val_sentiment])\n"
      ],
      "id": "SEz67aI0toR5"
    },
    {
      "cell_type": "code",
      "execution_count": null,
      "metadata": {
        "colab": {
          "base_uri": "https://localhost:8080/"
        },
        "id": "zsmcF2Kkwe_V",
        "outputId": "2a213c06-785f-45df-b6e3-9d7edc77dba6"
      },
      "outputs": [
        {
          "data": {
            "text/plain": [
              "0.4890995196480521"
            ]
          },
          "execution_count": 85,
          "metadata": {},
          "output_type": "execute_result"
        }
      ],
      "source": [
        "val_pred1 = np.squeeze(val_pred)\n",
        "val_pred2 = np.where(val_pred1>0.5,1,0)\n",
        "val_preds_ind =convert_label_matrix_to_ind(val_padded,val_pred2)\n",
        "val_extracted_text = ind2word(val_preds_ind)\n",
        "val_selected_text = tse_st.Map_Extracted(preprocessed_val_X,val_extracted_text)\n",
        "tse_st.score(val_selected_text,val_y_ex)"
      ],
      "id": "zsmcF2Kkwe_V"
    },
    {
      "cell_type": "code",
      "execution_count": null,
      "metadata": {
        "id": "3vmd4PqG_y_v"
      },
      "outputs": [],
      "source": [
        ""
      ],
      "id": "3vmd4PqG_y_v"
    },
    {
      "cell_type": "code",
      "execution_count": null,
      "metadata": {
        "colab": {
          "base_uri": "https://localhost:8080/"
        },
        "id": "v6f4JOodA_tO",
        "outputId": "259710ac-cd79-44e0-b508-90bd0669e51a"
      },
      "outputs": [
        {
          "data": {
            "text/plain": [
              "[[549, 624, 14, 1248, 1192, 1249],\n",
              " [690, 77, 190, 54],\n",
              " [2,\n",
              "  102,\n",
              "  2,\n",
              "  601,\n",
              "  262,\n",
              "  179,\n",
              "  62,\n",
              "  175,\n",
              "  151,\n",
              "  2379,\n",
              "  213,\n",
              "  43,\n",
              "  5,\n",
              "  142,\n",
              "  519,\n",
              "  20,\n",
              "  500,\n",
              "  16,\n",
              "  95,\n",
              "  50,\n",
              "  1981,\n",
              "  1139,\n",
              "  14,\n",
              "  5,\n",
              "  163,\n",
              "  13],\n",
              " [480, 63, 17, 459, 13, 4, 205],\n",
              " [94, 26, 32, 16, 252, 11]]"
            ]
          },
          "execution_count": 79,
          "metadata": {},
          "output_type": "execute_result"
        }
      ],
      "source": [
        "train_preds_ind[0:5]"
      ],
      "id": "v6f4JOodA_tO"
    },
    {
      "cell_type": "code",
      "execution_count": null,
      "metadata": {
        "id": "h2AB7SCdBJ8W"
      },
      "outputs": [],
      "source": [
        "\n",
        "    "
      ],
      "id": "h2AB7SCdBJ8W"
    },
    {
      "cell_type": "code",
      "execution_count": null,
      "metadata": {
        "colab": {
          "base_uri": "https://localhost:8080/"
        },
        "id": "N8wOAIn5CQ2d",
        "outputId": "6fe5d824-3c1e-4344-8b54-e65144ec6665"
      },
      "outputs": [
        {
          "data": {
            "text/plain": [
              "[['st', 'present', 'for', 'senior', 'board', 'fml'],\n",
              " ['yummi', 'some', 'pleas', 'lol'],\n",
              " ['i',\n",
              "  'wish',\n",
              "  'i',\n",
              "  'knew',\n",
              "  'someon',\n",
              "  'down',\n",
              "  'there',\n",
              "  'who',\n",
              "  'could',\n",
              "  'hook',\n",
              "  'us',\n",
              "  'up',\n",
              "  'a',\n",
              "  'friend',\n",
              "  'told',\n",
              "  'me',\n",
              "  'onc',\n",
              "  'that',\n",
              "  'they',\n",
              "  'got',\n",
              "  'crappi',\n",
              "  'seat',\n",
              "  'for',\n",
              "  'a',\n",
              "  'show',\n",
              "  'in'],\n",
              " ['lucki', 'u', 'im', 'stuck', 'in', 'the', 'rain'],\n",
              " ['he', 'just', 'not', 'that', 'into', 'you']]"
            ]
          },
          "execution_count": 80,
          "metadata": {},
          "output_type": "execute_result"
        }
      ],
      "source": [
        "train_extracted_text = ind2word(train_preds_ind)\n",
        "train_extracted_text[0:5]"
      ],
      "id": "N8wOAIn5CQ2d"
    },
    {
      "cell_type": "code",
      "execution_count": null,
      "metadata": {
        "id": "378apqRrLBnW"
      },
      "outputs": [],
      "source": [
        "#val_padded = pad_sequences(val_sequences,maxlen=max_length,padding='post',truncating=trunc_type)"
      ],
      "id": "378apqRrLBnW"
    },
    {
      "cell_type": "code",
      "execution_count": null,
      "metadata": {
        "id": "iChegaUUET_P"
      },
      "outputs": [],
      "source": [
        "pd.set_option('display.max_rows', df.shape[0]+1)\n",
        "compare_df = pd.DataFrame(data ={'origin':train_X_df.text,'selected_text':train_selected_text ,'true_text':train_y_ex, 'sentiment':train_X_df.sentiment})\n",
        "compare_df\n",
        "#compare_df.loc[compare_df.sentiment == 'positive',:]"
      ],
      "id": "iChegaUUET_P"
    },
    {
      "cell_type": "code",
      "execution_count": null,
      "metadata": {
        "colab": {
          "base_uri": "https://localhost:8080/",
          "height": 166
        },
        "id": "oMjgDiY8HiKg",
        "outputId": "b3f1e976-a8ab-47f5-89ce-c768b97e2757"
      },
      "outputs": [
        {
          "output_type": "error",
          "ename": "NameError",
          "evalue": "ignored",
          "traceback": [
            "\u001b[0;31m---------------------------------------------------------------------------\u001b[0m",
            "\u001b[0;31mNameError\u001b[0m                                 Traceback (most recent call last)",
            "\u001b[0;32m<ipython-input-91-e89da694f208>\u001b[0m in \u001b[0;36m<module>\u001b[0;34m()\u001b[0m\n\u001b[0;32m----> 1\u001b[0;31m \u001b[0mlabel_train\u001b[0m\u001b[0;34m[\u001b[0m\u001b[0;36m0\u001b[0m\u001b[0;34m]\u001b[0m\u001b[0;34m\u001b[0m\u001b[0;34m\u001b[0m\u001b[0m\n\u001b[0m",
            "\u001b[0;31mNameError\u001b[0m: name 'label_train' is not defined"
          ]
        }
      ],
      "source": [
        "label_train[0]"
      ],
      "id": "oMjgDiY8HiKg"
    },
    {
      "cell_type": "code",
      "execution_count": null,
      "metadata": {
        "colab": {
          "base_uri": "https://localhost:8080/"
        },
        "id": "dmjm7M_NJ5xG",
        "outputId": "a6db8a9b-d8f8-41d3-a1df-0d6f213b3ad4"
      },
      "outputs": [
        {
          "data": {
            "text/plain": [
              "['I hope she was okay. I never her heard her say her tummy hurt.',\n",
              " 'aww my son gave me a purple g shock for mother`s day',\n",
              " 'Back from hospital. Doc says I`ll live',\n",
              " 'boo you can come over and we`ll watch and braid each others hair.',\n",
              " 'Lost at bowling again why do i suck',\n",
              " 'Bonjour Twitterland',\n",
              " 'i guess ill never have it but the sad thing is that u didn`t put an Alternate e-mail!! cause if u dont remember ur secret',\n",
              " 'watching matilda with a bowl of noodles',\n",
              " 'Thanks Amy! That video is so awesome! Did you see He`s amazing in that too!!',\n",
              " 'im sad about missing out on the opportunity to be in new video.']"
            ]
          },
          "execution_count": 76,
          "metadata": {},
          "output_type": "execute_result"
        }
      ],
      "source": [
        "val_selected_text[0:10]"
      ],
      "id": "dmjm7M_NJ5xG"
    },
    {
      "cell_type": "markdown",
      "metadata": {
        "id": "qLcsECC8GwG6"
      },
      "source": [
        "## 3. Rút trích text trên tập test:"
      ],
      "id": "qLcsECC8GwG6"
    },
    {
      "cell_type": "code",
      "execution_count": null,
      "metadata": {
        "colab": {
          "base_uri": "https://localhost:8080/",
          "height": 423
        },
        "id": "044ff513",
        "outputId": "215e6d76-452c-47f1-bfaa-9080ab55bcc3"
      },
      "outputs": [
        {
          "data": {
            "text/html": [
              "<div>\n",
              "<style scoped>\n",
              "    .dataframe tbody tr th:only-of-type {\n",
              "        vertical-align: middle;\n",
              "    }\n",
              "\n",
              "    .dataframe tbody tr th {\n",
              "        vertical-align: top;\n",
              "    }\n",
              "\n",
              "    .dataframe thead th {\n",
              "        text-align: right;\n",
              "    }\n",
              "</style>\n",
              "<table border=\"1\" class=\"dataframe\">\n",
              "  <thead>\n",
              "    <tr style=\"text-align: right;\">\n",
              "      <th></th>\n",
              "      <th>textID</th>\n",
              "      <th>text</th>\n",
              "      <th>sentiment</th>\n",
              "    </tr>\n",
              "  </thead>\n",
              "  <tbody>\n",
              "    <tr>\n",
              "      <th>0</th>\n",
              "      <td>f87dea47db</td>\n",
              "      <td>Last session of the day  http://twitpic.com/67ezh</td>\n",
              "      <td>neutral</td>\n",
              "    </tr>\n",
              "    <tr>\n",
              "      <th>1</th>\n",
              "      <td>96d74cb729</td>\n",
              "      <td>Shanghai is also really exciting (precisely -- skyscrapers galore). Good tweeps in China:  (SH)  (BJ).</td>\n",
              "      <td>positive</td>\n",
              "    </tr>\n",
              "    <tr>\n",
              "      <th>2</th>\n",
              "      <td>eee518ae67</td>\n",
              "      <td>Recession hit Veronique Branquinho, she has to quit her company, such a shame!</td>\n",
              "      <td>negative</td>\n",
              "    </tr>\n",
              "    <tr>\n",
              "      <th>3</th>\n",
              "      <td>01082688c6</td>\n",
              "      <td>happy bday!</td>\n",
              "      <td>positive</td>\n",
              "    </tr>\n",
              "    <tr>\n",
              "      <th>4</th>\n",
              "      <td>33987a8ee5</td>\n",
              "      <td>http://twitpic.com/4w75p - I like it!!</td>\n",
              "      <td>positive</td>\n",
              "    </tr>\n",
              "    <tr>\n",
              "      <th>...</th>\n",
              "      <td>...</td>\n",
              "      <td>...</td>\n",
              "      <td>...</td>\n",
              "    </tr>\n",
              "    <tr>\n",
              "      <th>3529</th>\n",
              "      <td>e5f0e6ef4b</td>\n",
              "      <td>its at 3 am, im very tired but i can`t sleep  but i try it</td>\n",
              "      <td>negative</td>\n",
              "    </tr>\n",
              "    <tr>\n",
              "      <th>3530</th>\n",
              "      <td>416863ce47</td>\n",
              "      <td>All alone in this old house again.  Thanks for the net which keeps me alive and kicking! Whoever invented the net, i wanna kiss your hair!</td>\n",
              "      <td>positive</td>\n",
              "    </tr>\n",
              "    <tr>\n",
              "      <th>3531</th>\n",
              "      <td>6332da480c</td>\n",
              "      <td>I know what you mean. My little dog is sinking into depression... he wants to move someplace tropical</td>\n",
              "      <td>negative</td>\n",
              "    </tr>\n",
              "    <tr>\n",
              "      <th>3532</th>\n",
              "      <td>df1baec676</td>\n",
              "      <td>_sutra what is your next youtube video gonna be about? I love your videos!</td>\n",
              "      <td>positive</td>\n",
              "    </tr>\n",
              "    <tr>\n",
              "      <th>3533</th>\n",
              "      <td>469e15c5a8</td>\n",
              "      <td>http://twitpic.com/4woj2 - omgssh  ang cute ng bby.!</td>\n",
              "      <td>positive</td>\n",
              "    </tr>\n",
              "  </tbody>\n",
              "</table>\n",
              "<p>3534 rows × 3 columns</p>\n",
              "</div>"
            ],
            "text/plain": [
              "          textID  ... sentiment\n",
              "0     f87dea47db  ...   neutral\n",
              "1     96d74cb729  ...  positive\n",
              "2     eee518ae67  ...  negative\n",
              "3     01082688c6  ...  positive\n",
              "4     33987a8ee5  ...  positive\n",
              "...          ...  ...       ...\n",
              "3529  e5f0e6ef4b  ...  negative\n",
              "3530  416863ce47  ...  positive\n",
              "3531  6332da480c  ...  negative\n",
              "3532  df1baec676  ...  positive\n",
              "3533  469e15c5a8  ...  positive\n",
              "\n",
              "[3534 rows x 3 columns]"
            ]
          },
          "execution_count": 32,
          "metadata": {},
          "output_type": "execute_result"
        }
      ],
      "source": [
        "test_df = pd.read_csv('Applied-Data-Science-Group-7/test.csv')\n",
        "test_df"
      ],
      "id": "044ff513"
    },
    {
      "cell_type": "code",
      "execution_count": null,
      "metadata": {
        "id": "4b0c227d"
      },
      "outputs": [],
      "source": [
        "test_preprocessed,cleaned_test_df = preprocess_tweets(test_df)"
      ],
      "id": "4b0c227d"
    },
    {
      "cell_type": "code",
      "execution_count": null,
      "metadata": {
        "colab": {
          "base_uri": "https://localhost:8080/"
        },
        "id": "WGJoIHWiGP-N",
        "outputId": "df5ede1b-4f67-41c4-87fd-88bbe3f046a8"
      },
      "outputs": [
        {
          "data": {
            "text/plain": [
              "['Last session of the day http://twitpic.com/67ezh',\n",
              " 'exciting Good',\n",
              " 'Recession shame!',\n",
              " 'happy',\n",
              " '']"
            ]
          },
          "execution_count": 34,
          "metadata": {},
          "output_type": "execute_result"
        }
      ],
      "source": [
        "preds_extracted_text = model_full.extract(test_preprocessed)\n",
        "preds_extracted_text[0:5]"
      ],
      "id": "WGJoIHWiGP-N"
    },
    {
      "cell_type": "markdown",
      "metadata": {
        "id": "k7-jDX0EG5lg"
      },
      "source": [
        "## 4. Submission"
      ],
      "id": "k7-jDX0EG5lg"
    },
    {
      "cell_type": "code",
      "execution_count": null,
      "metadata": {
        "id": "2e7a7fbe"
      },
      "outputs": [],
      "source": [
        "submission_df = pd.DataFrame(data = {'textID': test_df.textID,'selected_text':pd.Series(preds_extracted_text)})"
      ],
      "id": "2e7a7fbe"
    },
    {
      "cell_type": "code",
      "execution_count": null,
      "metadata": {
        "id": "5e419516"
      },
      "outputs": [],
      "source": [
        "submission_df.to_csv(\"submission.csv\", index=False)"
      ],
      "id": "5e419516"
    },
    {
      "cell_type": "code",
      "execution_count": null,
      "metadata": {
        "colab": {
          "base_uri": "https://localhost:8080/",
          "height": 206
        },
        "id": "15374961",
        "outputId": "1951a3cc-373f-4cdb-f154-938b10756d11"
      },
      "outputs": [
        {
          "data": {
            "text/html": [
              "<div>\n",
              "<style scoped>\n",
              "    .dataframe tbody tr th:only-of-type {\n",
              "        vertical-align: middle;\n",
              "    }\n",
              "\n",
              "    .dataframe tbody tr th {\n",
              "        vertical-align: top;\n",
              "    }\n",
              "\n",
              "    .dataframe thead th {\n",
              "        text-align: right;\n",
              "    }\n",
              "</style>\n",
              "<table border=\"1\" class=\"dataframe\">\n",
              "  <thead>\n",
              "    <tr style=\"text-align: right;\">\n",
              "      <th></th>\n",
              "      <th>textID</th>\n",
              "      <th>selected_text</th>\n",
              "    </tr>\n",
              "  </thead>\n",
              "  <tbody>\n",
              "    <tr>\n",
              "      <th>0</th>\n",
              "      <td>f87dea47db</td>\n",
              "      <td>Last session of the day http://twitpic.com/67ezh</td>\n",
              "    </tr>\n",
              "    <tr>\n",
              "      <th>1</th>\n",
              "      <td>96d74cb729</td>\n",
              "      <td>exciting Good</td>\n",
              "    </tr>\n",
              "    <tr>\n",
              "      <th>2</th>\n",
              "      <td>eee518ae67</td>\n",
              "      <td>Recession shame!</td>\n",
              "    </tr>\n",
              "    <tr>\n",
              "      <th>3</th>\n",
              "      <td>01082688c6</td>\n",
              "      <td>happy</td>\n",
              "    </tr>\n",
              "    <tr>\n",
              "      <th>4</th>\n",
              "      <td>33987a8ee5</td>\n",
              "      <td></td>\n",
              "    </tr>\n",
              "  </tbody>\n",
              "</table>\n",
              "</div>"
            ],
            "text/plain": [
              "       textID                                     selected_text\n",
              "0  f87dea47db  Last session of the day http://twitpic.com/67ezh\n",
              "1  96d74cb729                                     exciting Good\n",
              "2  eee518ae67                                  Recession shame!\n",
              "3  01082688c6                                             happy\n",
              "4  33987a8ee5                                                  "
            ]
          },
          "execution_count": 37,
          "metadata": {},
          "output_type": "execute_result"
        }
      ],
      "source": [
        "submission_df.head(5)"
      ],
      "id": "15374961"
    },
    {
      "cell_type": "code",
      "execution_count": null,
      "metadata": {
        "id": "dc856b24"
      },
      "outputs": [],
      "source": [
        "# y_test = test_df.sentiment.map({'positive':1,'neutral':0,'negative':-1}).to_list()\n",
        "# tweets_test = test_df.text.to_list()"
      ],
      "id": "dc856b24"
    },
    {
      "cell_type": "code",
      "execution_count": null,
      "metadata": {
        "id": "f524c5ee"
      },
      "outputs": [],
      "source": [
        "#Extract_text(y_test,preprocessing(tweets_test),likelihood)"
      ],
      "id": "f524c5ee"
    },
    {
      "cell_type": "code",
      "execution_count": null,
      "metadata": {
        "id": "17d994b6"
      },
      "outputs": [],
      "source": [
        "# submission = pd.DataFrame(data ={'textID': test_df.textID,'selected_text':pd.Series(extracted_text)})\n",
        "# predict"
      ],
      "id": "17d994b6"
    },
    {
      "cell_type": "code",
      "execution_count": null,
      "metadata": {
        "id": "bc5ef3e4"
      },
      "outputs": [],
      "source": [
        ""
      ],
      "id": "bc5ef3e4"
    }
  ],
  "metadata": {
    "colab": {
      "collapsed_sections": [
        "8Weea1SUCBmz",
        "qLIRG_m1CdvD",
        "b6ca4fc3",
        "awyk6UXcC5gA",
        "ee0725cc",
        "2Mui8N94wDFm",
        "cQnfsTiR4bMI",
        "EqYF-DBe4inR",
        "84yreD1VMHvT",
        "OjewiSa78vMf",
        "xCCzLRAhtn8y",
        "dMz34722YX0P",
        "qLcsECC8GwG6",
        "k7-jDX0EG5lg"
      ],
      "name": "Report_TSE_BERT_TK.ipynb",
      "provenance": [],
      "toc_visible": true,
      "include_colab_link": true
    },
    "kernelspec": {
      "display_name": "Python 3",
      "language": "python",
      "name": "python3"
    },
    "language_info": {
      "codemirror_mode": {
        "name": "ipython",
        "version": 3
      },
      "file_extension": ".py",
      "mimetype": "text/x-python",
      "name": "python",
      "nbconvert_exporter": "python",
      "pygments_lexer": "ipython3",
      "version": "3.7.10"
    },
    "papermill": {
      "default_parameters": {},
      "duration": 123.060019,
      "end_time": "2021-10-20T19:02:58.579178",
      "environment_variables": {},
      "exception": null,
      "input_path": "__notebook__.ipynb",
      "output_path": "__notebook__.ipynb",
      "parameters": {},
      "start_time": "2021-10-20T19:00:55.519159",
      "version": "2.3.3"
    },
    "accelerator": "GPU",
    "widgets": {
      "application/vnd.jupyter.widget-state+json": {
        "5d60e56d30fd45ba8b6bd352011e7207": {
          "model_module": "@jupyter-widgets/controls",
          "model_name": "HBoxModel",
          "model_module_version": "1.5.0",
          "state": {
            "_view_name": "HBoxView",
            "_dom_classes": [],
            "_model_name": "HBoxModel",
            "_view_module": "@jupyter-widgets/controls",
            "_model_module_version": "1.5.0",
            "_view_count": null,
            "_view_module_version": "1.5.0",
            "box_style": "",
            "layout": "IPY_MODEL_4cfb3eeb0b1743d193ee686d048f9434",
            "_model_module": "@jupyter-widgets/controls",
            "children": [
              "IPY_MODEL_84cabad3bc0349e1be589e9c96e8bd0f",
              "IPY_MODEL_332a2ae59ec343acb3f977a4e4483c15",
              "IPY_MODEL_f9d4dafc187c469aa0187cd32d445882"
            ]
          }
        },
        "4cfb3eeb0b1743d193ee686d048f9434": {
          "model_module": "@jupyter-widgets/base",
          "model_name": "LayoutModel",
          "model_module_version": "1.2.0",
          "state": {
            "_view_name": "LayoutView",
            "grid_template_rows": null,
            "right": null,
            "justify_content": null,
            "_view_module": "@jupyter-widgets/base",
            "overflow": null,
            "_model_module_version": "1.2.0",
            "_view_count": null,
            "flex_flow": null,
            "width": null,
            "min_width": null,
            "border": null,
            "align_items": null,
            "bottom": null,
            "_model_module": "@jupyter-widgets/base",
            "top": null,
            "grid_column": null,
            "overflow_y": null,
            "overflow_x": null,
            "grid_auto_flow": null,
            "grid_area": null,
            "grid_template_columns": null,
            "flex": null,
            "_model_name": "LayoutModel",
            "justify_items": null,
            "grid_row": null,
            "max_height": null,
            "align_content": null,
            "visibility": null,
            "align_self": null,
            "height": null,
            "min_height": null,
            "padding": null,
            "grid_auto_rows": null,
            "grid_gap": null,
            "max_width": null,
            "order": null,
            "_view_module_version": "1.2.0",
            "grid_template_areas": null,
            "object_position": null,
            "object_fit": null,
            "grid_auto_columns": null,
            "margin": null,
            "display": null,
            "left": null
          }
        },
        "84cabad3bc0349e1be589e9c96e8bd0f": {
          "model_module": "@jupyter-widgets/controls",
          "model_name": "HTMLModel",
          "model_module_version": "1.5.0",
          "state": {
            "_view_name": "HTMLView",
            "style": "IPY_MODEL_32152e5d7ff84fa191ae97672d36e1c7",
            "_dom_classes": [],
            "description": "",
            "_model_name": "HTMLModel",
            "placeholder": "​",
            "_view_module": "@jupyter-widgets/controls",
            "_model_module_version": "1.5.0",
            "value": "Downloading: 100%",
            "_view_count": null,
            "_view_module_version": "1.5.0",
            "description_tooltip": null,
            "_model_module": "@jupyter-widgets/controls",
            "layout": "IPY_MODEL_a98a5d00f03b460bb2098def618f0bd7"
          }
        },
        "332a2ae59ec343acb3f977a4e4483c15": {
          "model_module": "@jupyter-widgets/controls",
          "model_name": "FloatProgressModel",
          "model_module_version": "1.5.0",
          "state": {
            "_view_name": "ProgressView",
            "style": "IPY_MODEL_d9cb78ee8b824d2593a5a4748ab11bec",
            "_dom_classes": [],
            "description": "",
            "_model_name": "FloatProgressModel",
            "bar_style": "success",
            "max": 231508,
            "_view_module": "@jupyter-widgets/controls",
            "_model_module_version": "1.5.0",
            "value": 231508,
            "_view_count": null,
            "_view_module_version": "1.5.0",
            "orientation": "horizontal",
            "min": 0,
            "description_tooltip": null,
            "_model_module": "@jupyter-widgets/controls",
            "layout": "IPY_MODEL_7605b6da427247e5b64dc0fb6d3bc0ac"
          }
        },
        "f9d4dafc187c469aa0187cd32d445882": {
          "model_module": "@jupyter-widgets/controls",
          "model_name": "HTMLModel",
          "model_module_version": "1.5.0",
          "state": {
            "_view_name": "HTMLView",
            "style": "IPY_MODEL_dad290d264e848d7af42ded382a08c4e",
            "_dom_classes": [],
            "description": "",
            "_model_name": "HTMLModel",
            "placeholder": "​",
            "_view_module": "@jupyter-widgets/controls",
            "_model_module_version": "1.5.0",
            "value": " 226k/226k [00:00&lt;00:00, 6.73kB/s]",
            "_view_count": null,
            "_view_module_version": "1.5.0",
            "description_tooltip": null,
            "_model_module": "@jupyter-widgets/controls",
            "layout": "IPY_MODEL_bad3c963f1c74e6ca69405cb6944b7b7"
          }
        },
        "32152e5d7ff84fa191ae97672d36e1c7": {
          "model_module": "@jupyter-widgets/controls",
          "model_name": "DescriptionStyleModel",
          "model_module_version": "1.5.0",
          "state": {
            "_view_name": "StyleView",
            "_model_name": "DescriptionStyleModel",
            "description_width": "",
            "_view_module": "@jupyter-widgets/base",
            "_model_module_version": "1.5.0",
            "_view_count": null,
            "_view_module_version": "1.2.0",
            "_model_module": "@jupyter-widgets/controls"
          }
        },
        "a98a5d00f03b460bb2098def618f0bd7": {
          "model_module": "@jupyter-widgets/base",
          "model_name": "LayoutModel",
          "model_module_version": "1.2.0",
          "state": {
            "_view_name": "LayoutView",
            "grid_template_rows": null,
            "right": null,
            "justify_content": null,
            "_view_module": "@jupyter-widgets/base",
            "overflow": null,
            "_model_module_version": "1.2.0",
            "_view_count": null,
            "flex_flow": null,
            "width": null,
            "min_width": null,
            "border": null,
            "align_items": null,
            "bottom": null,
            "_model_module": "@jupyter-widgets/base",
            "top": null,
            "grid_column": null,
            "overflow_y": null,
            "overflow_x": null,
            "grid_auto_flow": null,
            "grid_area": null,
            "grid_template_columns": null,
            "flex": null,
            "_model_name": "LayoutModel",
            "justify_items": null,
            "grid_row": null,
            "max_height": null,
            "align_content": null,
            "visibility": null,
            "align_self": null,
            "height": null,
            "min_height": null,
            "padding": null,
            "grid_auto_rows": null,
            "grid_gap": null,
            "max_width": null,
            "order": null,
            "_view_module_version": "1.2.0",
            "grid_template_areas": null,
            "object_position": null,
            "object_fit": null,
            "grid_auto_columns": null,
            "margin": null,
            "display": null,
            "left": null
          }
        },
        "d9cb78ee8b824d2593a5a4748ab11bec": {
          "model_module": "@jupyter-widgets/controls",
          "model_name": "ProgressStyleModel",
          "model_module_version": "1.5.0",
          "state": {
            "_view_name": "StyleView",
            "_model_name": "ProgressStyleModel",
            "description_width": "",
            "_view_module": "@jupyter-widgets/base",
            "_model_module_version": "1.5.0",
            "_view_count": null,
            "_view_module_version": "1.2.0",
            "bar_color": null,
            "_model_module": "@jupyter-widgets/controls"
          }
        },
        "7605b6da427247e5b64dc0fb6d3bc0ac": {
          "model_module": "@jupyter-widgets/base",
          "model_name": "LayoutModel",
          "model_module_version": "1.2.0",
          "state": {
            "_view_name": "LayoutView",
            "grid_template_rows": null,
            "right": null,
            "justify_content": null,
            "_view_module": "@jupyter-widgets/base",
            "overflow": null,
            "_model_module_version": "1.2.0",
            "_view_count": null,
            "flex_flow": null,
            "width": null,
            "min_width": null,
            "border": null,
            "align_items": null,
            "bottom": null,
            "_model_module": "@jupyter-widgets/base",
            "top": null,
            "grid_column": null,
            "overflow_y": null,
            "overflow_x": null,
            "grid_auto_flow": null,
            "grid_area": null,
            "grid_template_columns": null,
            "flex": null,
            "_model_name": "LayoutModel",
            "justify_items": null,
            "grid_row": null,
            "max_height": null,
            "align_content": null,
            "visibility": null,
            "align_self": null,
            "height": null,
            "min_height": null,
            "padding": null,
            "grid_auto_rows": null,
            "grid_gap": null,
            "max_width": null,
            "order": null,
            "_view_module_version": "1.2.0",
            "grid_template_areas": null,
            "object_position": null,
            "object_fit": null,
            "grid_auto_columns": null,
            "margin": null,
            "display": null,
            "left": null
          }
        },
        "dad290d264e848d7af42ded382a08c4e": {
          "model_module": "@jupyter-widgets/controls",
          "model_name": "DescriptionStyleModel",
          "model_module_version": "1.5.0",
          "state": {
            "_view_name": "StyleView",
            "_model_name": "DescriptionStyleModel",
            "description_width": "",
            "_view_module": "@jupyter-widgets/base",
            "_model_module_version": "1.5.0",
            "_view_count": null,
            "_view_module_version": "1.2.0",
            "_model_module": "@jupyter-widgets/controls"
          }
        },
        "bad3c963f1c74e6ca69405cb6944b7b7": {
          "model_module": "@jupyter-widgets/base",
          "model_name": "LayoutModel",
          "model_module_version": "1.2.0",
          "state": {
            "_view_name": "LayoutView",
            "grid_template_rows": null,
            "right": null,
            "justify_content": null,
            "_view_module": "@jupyter-widgets/base",
            "overflow": null,
            "_model_module_version": "1.2.0",
            "_view_count": null,
            "flex_flow": null,
            "width": null,
            "min_width": null,
            "border": null,
            "align_items": null,
            "bottom": null,
            "_model_module": "@jupyter-widgets/base",
            "top": null,
            "grid_column": null,
            "overflow_y": null,
            "overflow_x": null,
            "grid_auto_flow": null,
            "grid_area": null,
            "grid_template_columns": null,
            "flex": null,
            "_model_name": "LayoutModel",
            "justify_items": null,
            "grid_row": null,
            "max_height": null,
            "align_content": null,
            "visibility": null,
            "align_self": null,
            "height": null,
            "min_height": null,
            "padding": null,
            "grid_auto_rows": null,
            "grid_gap": null,
            "max_width": null,
            "order": null,
            "_view_module_version": "1.2.0",
            "grid_template_areas": null,
            "object_position": null,
            "object_fit": null,
            "grid_auto_columns": null,
            "margin": null,
            "display": null,
            "left": null
          }
        },
        "60f3b2d4106e4d6eaab02104a0293641": {
          "model_module": "@jupyter-widgets/controls",
          "model_name": "HBoxModel",
          "model_module_version": "1.5.0",
          "state": {
            "_view_name": "HBoxView",
            "_dom_classes": [],
            "_model_name": "HBoxModel",
            "_view_module": "@jupyter-widgets/controls",
            "_model_module_version": "1.5.0",
            "_view_count": null,
            "_view_module_version": "1.5.0",
            "box_style": "",
            "layout": "IPY_MODEL_4016d108c5b74136b3775da4a195abfd",
            "_model_module": "@jupyter-widgets/controls",
            "children": [
              "IPY_MODEL_1741245f56e945d7b98ea533f24006f9",
              "IPY_MODEL_cc5f65433f59498dba253c6aabc7aa50",
              "IPY_MODEL_8118ebda8b7f4eb5b6c5750301171eb2"
            ]
          }
        },
        "4016d108c5b74136b3775da4a195abfd": {
          "model_module": "@jupyter-widgets/base",
          "model_name": "LayoutModel",
          "model_module_version": "1.2.0",
          "state": {
            "_view_name": "LayoutView",
            "grid_template_rows": null,
            "right": null,
            "justify_content": null,
            "_view_module": "@jupyter-widgets/base",
            "overflow": null,
            "_model_module_version": "1.2.0",
            "_view_count": null,
            "flex_flow": null,
            "width": null,
            "min_width": null,
            "border": null,
            "align_items": null,
            "bottom": null,
            "_model_module": "@jupyter-widgets/base",
            "top": null,
            "grid_column": null,
            "overflow_y": null,
            "overflow_x": null,
            "grid_auto_flow": null,
            "grid_area": null,
            "grid_template_columns": null,
            "flex": null,
            "_model_name": "LayoutModel",
            "justify_items": null,
            "grid_row": null,
            "max_height": null,
            "align_content": null,
            "visibility": null,
            "align_self": null,
            "height": null,
            "min_height": null,
            "padding": null,
            "grid_auto_rows": null,
            "grid_gap": null,
            "max_width": null,
            "order": null,
            "_view_module_version": "1.2.0",
            "grid_template_areas": null,
            "object_position": null,
            "object_fit": null,
            "grid_auto_columns": null,
            "margin": null,
            "display": null,
            "left": null
          }
        },
        "1741245f56e945d7b98ea533f24006f9": {
          "model_module": "@jupyter-widgets/controls",
          "model_name": "HTMLModel",
          "model_module_version": "1.5.0",
          "state": {
            "_view_name": "HTMLView",
            "style": "IPY_MODEL_1e3f4c7cbf9649b29ab629a68fc68bc0",
            "_dom_classes": [],
            "description": "",
            "_model_name": "HTMLModel",
            "placeholder": "​",
            "_view_module": "@jupyter-widgets/controls",
            "_model_module_version": "1.5.0",
            "value": "Downloading: 100%",
            "_view_count": null,
            "_view_module_version": "1.5.0",
            "description_tooltip": null,
            "_model_module": "@jupyter-widgets/controls",
            "layout": "IPY_MODEL_9422d9c8a428479faf1ddddb3b0019a9"
          }
        },
        "cc5f65433f59498dba253c6aabc7aa50": {
          "model_module": "@jupyter-widgets/controls",
          "model_name": "FloatProgressModel",
          "model_module_version": "1.5.0",
          "state": {
            "_view_name": "ProgressView",
            "style": "IPY_MODEL_505cc65371ce4241bd1ee5b08ecd9225",
            "_dom_classes": [],
            "description": "",
            "_model_name": "FloatProgressModel",
            "bar_style": "success",
            "max": 28,
            "_view_module": "@jupyter-widgets/controls",
            "_model_module_version": "1.5.0",
            "value": 28,
            "_view_count": null,
            "_view_module_version": "1.5.0",
            "orientation": "horizontal",
            "min": 0,
            "description_tooltip": null,
            "_model_module": "@jupyter-widgets/controls",
            "layout": "IPY_MODEL_e21101fdbb36434dbe3071269809c119"
          }
        },
        "8118ebda8b7f4eb5b6c5750301171eb2": {
          "model_module": "@jupyter-widgets/controls",
          "model_name": "HTMLModel",
          "model_module_version": "1.5.0",
          "state": {
            "_view_name": "HTMLView",
            "style": "IPY_MODEL_a41e922236c64c3a9ba791226b361354",
            "_dom_classes": [],
            "description": "",
            "_model_name": "HTMLModel",
            "placeholder": "​",
            "_view_module": "@jupyter-widgets/controls",
            "_model_module_version": "1.5.0",
            "value": " 28.0/28.0 [00:00&lt;00:00, 162B/s]",
            "_view_count": null,
            "_view_module_version": "1.5.0",
            "description_tooltip": null,
            "_model_module": "@jupyter-widgets/controls",
            "layout": "IPY_MODEL_41385f7391c649ca804ac7668009c29d"
          }
        },
        "1e3f4c7cbf9649b29ab629a68fc68bc0": {
          "model_module": "@jupyter-widgets/controls",
          "model_name": "DescriptionStyleModel",
          "model_module_version": "1.5.0",
          "state": {
            "_view_name": "StyleView",
            "_model_name": "DescriptionStyleModel",
            "description_width": "",
            "_view_module": "@jupyter-widgets/base",
            "_model_module_version": "1.5.0",
            "_view_count": null,
            "_view_module_version": "1.2.0",
            "_model_module": "@jupyter-widgets/controls"
          }
        },
        "9422d9c8a428479faf1ddddb3b0019a9": {
          "model_module": "@jupyter-widgets/base",
          "model_name": "LayoutModel",
          "model_module_version": "1.2.0",
          "state": {
            "_view_name": "LayoutView",
            "grid_template_rows": null,
            "right": null,
            "justify_content": null,
            "_view_module": "@jupyter-widgets/base",
            "overflow": null,
            "_model_module_version": "1.2.0",
            "_view_count": null,
            "flex_flow": null,
            "width": null,
            "min_width": null,
            "border": null,
            "align_items": null,
            "bottom": null,
            "_model_module": "@jupyter-widgets/base",
            "top": null,
            "grid_column": null,
            "overflow_y": null,
            "overflow_x": null,
            "grid_auto_flow": null,
            "grid_area": null,
            "grid_template_columns": null,
            "flex": null,
            "_model_name": "LayoutModel",
            "justify_items": null,
            "grid_row": null,
            "max_height": null,
            "align_content": null,
            "visibility": null,
            "align_self": null,
            "height": null,
            "min_height": null,
            "padding": null,
            "grid_auto_rows": null,
            "grid_gap": null,
            "max_width": null,
            "order": null,
            "_view_module_version": "1.2.0",
            "grid_template_areas": null,
            "object_position": null,
            "object_fit": null,
            "grid_auto_columns": null,
            "margin": null,
            "display": null,
            "left": null
          }
        },
        "505cc65371ce4241bd1ee5b08ecd9225": {
          "model_module": "@jupyter-widgets/controls",
          "model_name": "ProgressStyleModel",
          "model_module_version": "1.5.0",
          "state": {
            "_view_name": "StyleView",
            "_model_name": "ProgressStyleModel",
            "description_width": "",
            "_view_module": "@jupyter-widgets/base",
            "_model_module_version": "1.5.0",
            "_view_count": null,
            "_view_module_version": "1.2.0",
            "bar_color": null,
            "_model_module": "@jupyter-widgets/controls"
          }
        },
        "e21101fdbb36434dbe3071269809c119": {
          "model_module": "@jupyter-widgets/base",
          "model_name": "LayoutModel",
          "model_module_version": "1.2.0",
          "state": {
            "_view_name": "LayoutView",
            "grid_template_rows": null,
            "right": null,
            "justify_content": null,
            "_view_module": "@jupyter-widgets/base",
            "overflow": null,
            "_model_module_version": "1.2.0",
            "_view_count": null,
            "flex_flow": null,
            "width": null,
            "min_width": null,
            "border": null,
            "align_items": null,
            "bottom": null,
            "_model_module": "@jupyter-widgets/base",
            "top": null,
            "grid_column": null,
            "overflow_y": null,
            "overflow_x": null,
            "grid_auto_flow": null,
            "grid_area": null,
            "grid_template_columns": null,
            "flex": null,
            "_model_name": "LayoutModel",
            "justify_items": null,
            "grid_row": null,
            "max_height": null,
            "align_content": null,
            "visibility": null,
            "align_self": null,
            "height": null,
            "min_height": null,
            "padding": null,
            "grid_auto_rows": null,
            "grid_gap": null,
            "max_width": null,
            "order": null,
            "_view_module_version": "1.2.0",
            "grid_template_areas": null,
            "object_position": null,
            "object_fit": null,
            "grid_auto_columns": null,
            "margin": null,
            "display": null,
            "left": null
          }
        },
        "a41e922236c64c3a9ba791226b361354": {
          "model_module": "@jupyter-widgets/controls",
          "model_name": "DescriptionStyleModel",
          "model_module_version": "1.5.0",
          "state": {
            "_view_name": "StyleView",
            "_model_name": "DescriptionStyleModel",
            "description_width": "",
            "_view_module": "@jupyter-widgets/base",
            "_model_module_version": "1.5.0",
            "_view_count": null,
            "_view_module_version": "1.2.0",
            "_model_module": "@jupyter-widgets/controls"
          }
        },
        "41385f7391c649ca804ac7668009c29d": {
          "model_module": "@jupyter-widgets/base",
          "model_name": "LayoutModel",
          "model_module_version": "1.2.0",
          "state": {
            "_view_name": "LayoutView",
            "grid_template_rows": null,
            "right": null,
            "justify_content": null,
            "_view_module": "@jupyter-widgets/base",
            "overflow": null,
            "_model_module_version": "1.2.0",
            "_view_count": null,
            "flex_flow": null,
            "width": null,
            "min_width": null,
            "border": null,
            "align_items": null,
            "bottom": null,
            "_model_module": "@jupyter-widgets/base",
            "top": null,
            "grid_column": null,
            "overflow_y": null,
            "overflow_x": null,
            "grid_auto_flow": null,
            "grid_area": null,
            "grid_template_columns": null,
            "flex": null,
            "_model_name": "LayoutModel",
            "justify_items": null,
            "grid_row": null,
            "max_height": null,
            "align_content": null,
            "visibility": null,
            "align_self": null,
            "height": null,
            "min_height": null,
            "padding": null,
            "grid_auto_rows": null,
            "grid_gap": null,
            "max_width": null,
            "order": null,
            "_view_module_version": "1.2.0",
            "grid_template_areas": null,
            "object_position": null,
            "object_fit": null,
            "grid_auto_columns": null,
            "margin": null,
            "display": null,
            "left": null
          }
        },
        "6516e3b9c3ac4db9948b1ced1689452b": {
          "model_module": "@jupyter-widgets/controls",
          "model_name": "HBoxModel",
          "model_module_version": "1.5.0",
          "state": {
            "_view_name": "HBoxView",
            "_dom_classes": [],
            "_model_name": "HBoxModel",
            "_view_module": "@jupyter-widgets/controls",
            "_model_module_version": "1.5.0",
            "_view_count": null,
            "_view_module_version": "1.5.0",
            "box_style": "",
            "layout": "IPY_MODEL_fe5dac73be574bb59fe9dc6d68536ce5",
            "_model_module": "@jupyter-widgets/controls",
            "children": [
              "IPY_MODEL_4158a7f36b5943378f806b82fbda4aed",
              "IPY_MODEL_9d00adb6adb84f3fa86af63bf72b3cb6",
              "IPY_MODEL_13f63010ec7741509650acb8e438d561"
            ]
          }
        },
        "fe5dac73be574bb59fe9dc6d68536ce5": {
          "model_module": "@jupyter-widgets/base",
          "model_name": "LayoutModel",
          "model_module_version": "1.2.0",
          "state": {
            "_view_name": "LayoutView",
            "grid_template_rows": null,
            "right": null,
            "justify_content": null,
            "_view_module": "@jupyter-widgets/base",
            "overflow": null,
            "_model_module_version": "1.2.0",
            "_view_count": null,
            "flex_flow": null,
            "width": null,
            "min_width": null,
            "border": null,
            "align_items": null,
            "bottom": null,
            "_model_module": "@jupyter-widgets/base",
            "top": null,
            "grid_column": null,
            "overflow_y": null,
            "overflow_x": null,
            "grid_auto_flow": null,
            "grid_area": null,
            "grid_template_columns": null,
            "flex": null,
            "_model_name": "LayoutModel",
            "justify_items": null,
            "grid_row": null,
            "max_height": null,
            "align_content": null,
            "visibility": null,
            "align_self": null,
            "height": null,
            "min_height": null,
            "padding": null,
            "grid_auto_rows": null,
            "grid_gap": null,
            "max_width": null,
            "order": null,
            "_view_module_version": "1.2.0",
            "grid_template_areas": null,
            "object_position": null,
            "object_fit": null,
            "grid_auto_columns": null,
            "margin": null,
            "display": null,
            "left": null
          }
        },
        "4158a7f36b5943378f806b82fbda4aed": {
          "model_module": "@jupyter-widgets/controls",
          "model_name": "HTMLModel",
          "model_module_version": "1.5.0",
          "state": {
            "_view_name": "HTMLView",
            "style": "IPY_MODEL_3678a6d52c784e1f88003097f4471657",
            "_dom_classes": [],
            "description": "",
            "_model_name": "HTMLModel",
            "placeholder": "​",
            "_view_module": "@jupyter-widgets/controls",
            "_model_module_version": "1.5.0",
            "value": "Downloading: 100%",
            "_view_count": null,
            "_view_module_version": "1.5.0",
            "description_tooltip": null,
            "_model_module": "@jupyter-widgets/controls",
            "layout": "IPY_MODEL_ef9a070599e34be39f9ad96767cebbae"
          }
        },
        "9d00adb6adb84f3fa86af63bf72b3cb6": {
          "model_module": "@jupyter-widgets/controls",
          "model_name": "FloatProgressModel",
          "model_module_version": "1.5.0",
          "state": {
            "_view_name": "ProgressView",
            "style": "IPY_MODEL_e1cb62763dc8460c9113cee07ac144d7",
            "_dom_classes": [],
            "description": "",
            "_model_name": "FloatProgressModel",
            "bar_style": "success",
            "max": 466062,
            "_view_module": "@jupyter-widgets/controls",
            "_model_module_version": "1.5.0",
            "value": 466062,
            "_view_count": null,
            "_view_module_version": "1.5.0",
            "orientation": "horizontal",
            "min": 0,
            "description_tooltip": null,
            "_model_module": "@jupyter-widgets/controls",
            "layout": "IPY_MODEL_9f639a8773d84cf29b9db90de7689ed9"
          }
        },
        "13f63010ec7741509650acb8e438d561": {
          "model_module": "@jupyter-widgets/controls",
          "model_name": "HTMLModel",
          "model_module_version": "1.5.0",
          "state": {
            "_view_name": "HTMLView",
            "style": "IPY_MODEL_02181d9be63d4a3492b485b193bedc38",
            "_dom_classes": [],
            "description": "",
            "_model_name": "HTMLModel",
            "placeholder": "​",
            "_view_module": "@jupyter-widgets/controls",
            "_model_module_version": "1.5.0",
            "value": " 455k/455k [00:00&lt;00:00, 1.27MB/s]",
            "_view_count": null,
            "_view_module_version": "1.5.0",
            "description_tooltip": null,
            "_model_module": "@jupyter-widgets/controls",
            "layout": "IPY_MODEL_605eeb9d34fd43c18192f5571bdc54ed"
          }
        },
        "3678a6d52c784e1f88003097f4471657": {
          "model_module": "@jupyter-widgets/controls",
          "model_name": "DescriptionStyleModel",
          "model_module_version": "1.5.0",
          "state": {
            "_view_name": "StyleView",
            "_model_name": "DescriptionStyleModel",
            "description_width": "",
            "_view_module": "@jupyter-widgets/base",
            "_model_module_version": "1.5.0",
            "_view_count": null,
            "_view_module_version": "1.2.0",
            "_model_module": "@jupyter-widgets/controls"
          }
        },
        "ef9a070599e34be39f9ad96767cebbae": {
          "model_module": "@jupyter-widgets/base",
          "model_name": "LayoutModel",
          "model_module_version": "1.2.0",
          "state": {
            "_view_name": "LayoutView",
            "grid_template_rows": null,
            "right": null,
            "justify_content": null,
            "_view_module": "@jupyter-widgets/base",
            "overflow": null,
            "_model_module_version": "1.2.0",
            "_view_count": null,
            "flex_flow": null,
            "width": null,
            "min_width": null,
            "border": null,
            "align_items": null,
            "bottom": null,
            "_model_module": "@jupyter-widgets/base",
            "top": null,
            "grid_column": null,
            "overflow_y": null,
            "overflow_x": null,
            "grid_auto_flow": null,
            "grid_area": null,
            "grid_template_columns": null,
            "flex": null,
            "_model_name": "LayoutModel",
            "justify_items": null,
            "grid_row": null,
            "max_height": null,
            "align_content": null,
            "visibility": null,
            "align_self": null,
            "height": null,
            "min_height": null,
            "padding": null,
            "grid_auto_rows": null,
            "grid_gap": null,
            "max_width": null,
            "order": null,
            "_view_module_version": "1.2.0",
            "grid_template_areas": null,
            "object_position": null,
            "object_fit": null,
            "grid_auto_columns": null,
            "margin": null,
            "display": null,
            "left": null
          }
        },
        "e1cb62763dc8460c9113cee07ac144d7": {
          "model_module": "@jupyter-widgets/controls",
          "model_name": "ProgressStyleModel",
          "model_module_version": "1.5.0",
          "state": {
            "_view_name": "StyleView",
            "_model_name": "ProgressStyleModel",
            "description_width": "",
            "_view_module": "@jupyter-widgets/base",
            "_model_module_version": "1.5.0",
            "_view_count": null,
            "_view_module_version": "1.2.0",
            "bar_color": null,
            "_model_module": "@jupyter-widgets/controls"
          }
        },
        "9f639a8773d84cf29b9db90de7689ed9": {
          "model_module": "@jupyter-widgets/base",
          "model_name": "LayoutModel",
          "model_module_version": "1.2.0",
          "state": {
            "_view_name": "LayoutView",
            "grid_template_rows": null,
            "right": null,
            "justify_content": null,
            "_view_module": "@jupyter-widgets/base",
            "overflow": null,
            "_model_module_version": "1.2.0",
            "_view_count": null,
            "flex_flow": null,
            "width": null,
            "min_width": null,
            "border": null,
            "align_items": null,
            "bottom": null,
            "_model_module": "@jupyter-widgets/base",
            "top": null,
            "grid_column": null,
            "overflow_y": null,
            "overflow_x": null,
            "grid_auto_flow": null,
            "grid_area": null,
            "grid_template_columns": null,
            "flex": null,
            "_model_name": "LayoutModel",
            "justify_items": null,
            "grid_row": null,
            "max_height": null,
            "align_content": null,
            "visibility": null,
            "align_self": null,
            "height": null,
            "min_height": null,
            "padding": null,
            "grid_auto_rows": null,
            "grid_gap": null,
            "max_width": null,
            "order": null,
            "_view_module_version": "1.2.0",
            "grid_template_areas": null,
            "object_position": null,
            "object_fit": null,
            "grid_auto_columns": null,
            "margin": null,
            "display": null,
            "left": null
          }
        },
        "02181d9be63d4a3492b485b193bedc38": {
          "model_module": "@jupyter-widgets/controls",
          "model_name": "DescriptionStyleModel",
          "model_module_version": "1.5.0",
          "state": {
            "_view_name": "StyleView",
            "_model_name": "DescriptionStyleModel",
            "description_width": "",
            "_view_module": "@jupyter-widgets/base",
            "_model_module_version": "1.5.0",
            "_view_count": null,
            "_view_module_version": "1.2.0",
            "_model_module": "@jupyter-widgets/controls"
          }
        },
        "605eeb9d34fd43c18192f5571bdc54ed": {
          "model_module": "@jupyter-widgets/base",
          "model_name": "LayoutModel",
          "model_module_version": "1.2.0",
          "state": {
            "_view_name": "LayoutView",
            "grid_template_rows": null,
            "right": null,
            "justify_content": null,
            "_view_module": "@jupyter-widgets/base",
            "overflow": null,
            "_model_module_version": "1.2.0",
            "_view_count": null,
            "flex_flow": null,
            "width": null,
            "min_width": null,
            "border": null,
            "align_items": null,
            "bottom": null,
            "_model_module": "@jupyter-widgets/base",
            "top": null,
            "grid_column": null,
            "overflow_y": null,
            "overflow_x": null,
            "grid_auto_flow": null,
            "grid_area": null,
            "grid_template_columns": null,
            "flex": null,
            "_model_name": "LayoutModel",
            "justify_items": null,
            "grid_row": null,
            "max_height": null,
            "align_content": null,
            "visibility": null,
            "align_self": null,
            "height": null,
            "min_height": null,
            "padding": null,
            "grid_auto_rows": null,
            "grid_gap": null,
            "max_width": null,
            "order": null,
            "_view_module_version": "1.2.0",
            "grid_template_areas": null,
            "object_position": null,
            "object_fit": null,
            "grid_auto_columns": null,
            "margin": null,
            "display": null,
            "left": null
          }
        },
        "3c3f90b1f35f49d987810c3482c8638c": {
          "model_module": "@jupyter-widgets/controls",
          "model_name": "HBoxModel",
          "model_module_version": "1.5.0",
          "state": {
            "_view_name": "HBoxView",
            "_dom_classes": [],
            "_model_name": "HBoxModel",
            "_view_module": "@jupyter-widgets/controls",
            "_model_module_version": "1.5.0",
            "_view_count": null,
            "_view_module_version": "1.5.0",
            "box_style": "",
            "layout": "IPY_MODEL_990786b940964306aa86ef0685ac2102",
            "_model_module": "@jupyter-widgets/controls",
            "children": [
              "IPY_MODEL_317d1a600d5a4b8d9349c320d44e75b7",
              "IPY_MODEL_08a5e3341590436ba3d2b0a0950796d7",
              "IPY_MODEL_7528c2f1649541c09cbebda7561e21e8"
            ]
          }
        },
        "990786b940964306aa86ef0685ac2102": {
          "model_module": "@jupyter-widgets/base",
          "model_name": "LayoutModel",
          "model_module_version": "1.2.0",
          "state": {
            "_view_name": "LayoutView",
            "grid_template_rows": null,
            "right": null,
            "justify_content": null,
            "_view_module": "@jupyter-widgets/base",
            "overflow": null,
            "_model_module_version": "1.2.0",
            "_view_count": null,
            "flex_flow": null,
            "width": null,
            "min_width": null,
            "border": null,
            "align_items": null,
            "bottom": null,
            "_model_module": "@jupyter-widgets/base",
            "top": null,
            "grid_column": null,
            "overflow_y": null,
            "overflow_x": null,
            "grid_auto_flow": null,
            "grid_area": null,
            "grid_template_columns": null,
            "flex": null,
            "_model_name": "LayoutModel",
            "justify_items": null,
            "grid_row": null,
            "max_height": null,
            "align_content": null,
            "visibility": null,
            "align_self": null,
            "height": null,
            "min_height": null,
            "padding": null,
            "grid_auto_rows": null,
            "grid_gap": null,
            "max_width": null,
            "order": null,
            "_view_module_version": "1.2.0",
            "grid_template_areas": null,
            "object_position": null,
            "object_fit": null,
            "grid_auto_columns": null,
            "margin": null,
            "display": null,
            "left": null
          }
        },
        "317d1a600d5a4b8d9349c320d44e75b7": {
          "model_module": "@jupyter-widgets/controls",
          "model_name": "HTMLModel",
          "model_module_version": "1.5.0",
          "state": {
            "_view_name": "HTMLView",
            "style": "IPY_MODEL_b4ae8276fecb4b9bb09d5a18b298e805",
            "_dom_classes": [],
            "description": "",
            "_model_name": "HTMLModel",
            "placeholder": "​",
            "_view_module": "@jupyter-widgets/controls",
            "_model_module_version": "1.5.0",
            "value": "Downloading: 100%",
            "_view_count": null,
            "_view_module_version": "1.5.0",
            "description_tooltip": null,
            "_model_module": "@jupyter-widgets/controls",
            "layout": "IPY_MODEL_abc078c9c82241d7971145d7ff0c9577"
          }
        },
        "08a5e3341590436ba3d2b0a0950796d7": {
          "model_module": "@jupyter-widgets/controls",
          "model_name": "FloatProgressModel",
          "model_module_version": "1.5.0",
          "state": {
            "_view_name": "ProgressView",
            "style": "IPY_MODEL_b5ed245535ed4edbb2621a74b535aa8f",
            "_dom_classes": [],
            "description": "",
            "_model_name": "FloatProgressModel",
            "bar_style": "success",
            "max": 570,
            "_view_module": "@jupyter-widgets/controls",
            "_model_module_version": "1.5.0",
            "value": 570,
            "_view_count": null,
            "_view_module_version": "1.5.0",
            "orientation": "horizontal",
            "min": 0,
            "description_tooltip": null,
            "_model_module": "@jupyter-widgets/controls",
            "layout": "IPY_MODEL_4f577e6bcf2c4158a3d6bb530f0c5c03"
          }
        },
        "7528c2f1649541c09cbebda7561e21e8": {
          "model_module": "@jupyter-widgets/controls",
          "model_name": "HTMLModel",
          "model_module_version": "1.5.0",
          "state": {
            "_view_name": "HTMLView",
            "style": "IPY_MODEL_a5976f6a3f0148178205ad5b71643db9",
            "_dom_classes": [],
            "description": "",
            "_model_name": "HTMLModel",
            "placeholder": "​",
            "_view_module": "@jupyter-widgets/controls",
            "_model_module_version": "1.5.0",
            "value": " 570/570 [00:00&lt;00:00, 5.47kB/s]",
            "_view_count": null,
            "_view_module_version": "1.5.0",
            "description_tooltip": null,
            "_model_module": "@jupyter-widgets/controls",
            "layout": "IPY_MODEL_39f0521ea725409bb75f45c5cba75574"
          }
        },
        "b4ae8276fecb4b9bb09d5a18b298e805": {
          "model_module": "@jupyter-widgets/controls",
          "model_name": "DescriptionStyleModel",
          "model_module_version": "1.5.0",
          "state": {
            "_view_name": "StyleView",
            "_model_name": "DescriptionStyleModel",
            "description_width": "",
            "_view_module": "@jupyter-widgets/base",
            "_model_module_version": "1.5.0",
            "_view_count": null,
            "_view_module_version": "1.2.0",
            "_model_module": "@jupyter-widgets/controls"
          }
        },
        "abc078c9c82241d7971145d7ff0c9577": {
          "model_module": "@jupyter-widgets/base",
          "model_name": "LayoutModel",
          "model_module_version": "1.2.0",
          "state": {
            "_view_name": "LayoutView",
            "grid_template_rows": null,
            "right": null,
            "justify_content": null,
            "_view_module": "@jupyter-widgets/base",
            "overflow": null,
            "_model_module_version": "1.2.0",
            "_view_count": null,
            "flex_flow": null,
            "width": null,
            "min_width": null,
            "border": null,
            "align_items": null,
            "bottom": null,
            "_model_module": "@jupyter-widgets/base",
            "top": null,
            "grid_column": null,
            "overflow_y": null,
            "overflow_x": null,
            "grid_auto_flow": null,
            "grid_area": null,
            "grid_template_columns": null,
            "flex": null,
            "_model_name": "LayoutModel",
            "justify_items": null,
            "grid_row": null,
            "max_height": null,
            "align_content": null,
            "visibility": null,
            "align_self": null,
            "height": null,
            "min_height": null,
            "padding": null,
            "grid_auto_rows": null,
            "grid_gap": null,
            "max_width": null,
            "order": null,
            "_view_module_version": "1.2.0",
            "grid_template_areas": null,
            "object_position": null,
            "object_fit": null,
            "grid_auto_columns": null,
            "margin": null,
            "display": null,
            "left": null
          }
        },
        "b5ed245535ed4edbb2621a74b535aa8f": {
          "model_module": "@jupyter-widgets/controls",
          "model_name": "ProgressStyleModel",
          "model_module_version": "1.5.0",
          "state": {
            "_view_name": "StyleView",
            "_model_name": "ProgressStyleModel",
            "description_width": "",
            "_view_module": "@jupyter-widgets/base",
            "_model_module_version": "1.5.0",
            "_view_count": null,
            "_view_module_version": "1.2.0",
            "bar_color": null,
            "_model_module": "@jupyter-widgets/controls"
          }
        },
        "4f577e6bcf2c4158a3d6bb530f0c5c03": {
          "model_module": "@jupyter-widgets/base",
          "model_name": "LayoutModel",
          "model_module_version": "1.2.0",
          "state": {
            "_view_name": "LayoutView",
            "grid_template_rows": null,
            "right": null,
            "justify_content": null,
            "_view_module": "@jupyter-widgets/base",
            "overflow": null,
            "_model_module_version": "1.2.0",
            "_view_count": null,
            "flex_flow": null,
            "width": null,
            "min_width": null,
            "border": null,
            "align_items": null,
            "bottom": null,
            "_model_module": "@jupyter-widgets/base",
            "top": null,
            "grid_column": null,
            "overflow_y": null,
            "overflow_x": null,
            "grid_auto_flow": null,
            "grid_area": null,
            "grid_template_columns": null,
            "flex": null,
            "_model_name": "LayoutModel",
            "justify_items": null,
            "grid_row": null,
            "max_height": null,
            "align_content": null,
            "visibility": null,
            "align_self": null,
            "height": null,
            "min_height": null,
            "padding": null,
            "grid_auto_rows": null,
            "grid_gap": null,
            "max_width": null,
            "order": null,
            "_view_module_version": "1.2.0",
            "grid_template_areas": null,
            "object_position": null,
            "object_fit": null,
            "grid_auto_columns": null,
            "margin": null,
            "display": null,
            "left": null
          }
        },
        "a5976f6a3f0148178205ad5b71643db9": {
          "model_module": "@jupyter-widgets/controls",
          "model_name": "DescriptionStyleModel",
          "model_module_version": "1.5.0",
          "state": {
            "_view_name": "StyleView",
            "_model_name": "DescriptionStyleModel",
            "description_width": "",
            "_view_module": "@jupyter-widgets/base",
            "_model_module_version": "1.5.0",
            "_view_count": null,
            "_view_module_version": "1.2.0",
            "_model_module": "@jupyter-widgets/controls"
          }
        },
        "39f0521ea725409bb75f45c5cba75574": {
          "model_module": "@jupyter-widgets/base",
          "model_name": "LayoutModel",
          "model_module_version": "1.2.0",
          "state": {
            "_view_name": "LayoutView",
            "grid_template_rows": null,
            "right": null,
            "justify_content": null,
            "_view_module": "@jupyter-widgets/base",
            "overflow": null,
            "_model_module_version": "1.2.0",
            "_view_count": null,
            "flex_flow": null,
            "width": null,
            "min_width": null,
            "border": null,
            "align_items": null,
            "bottom": null,
            "_model_module": "@jupyter-widgets/base",
            "top": null,
            "grid_column": null,
            "overflow_y": null,
            "overflow_x": null,
            "grid_auto_flow": null,
            "grid_area": null,
            "grid_template_columns": null,
            "flex": null,
            "_model_name": "LayoutModel",
            "justify_items": null,
            "grid_row": null,
            "max_height": null,
            "align_content": null,
            "visibility": null,
            "align_self": null,
            "height": null,
            "min_height": null,
            "padding": null,
            "grid_auto_rows": null,
            "grid_gap": null,
            "max_width": null,
            "order": null,
            "_view_module_version": "1.2.0",
            "grid_template_areas": null,
            "object_position": null,
            "object_fit": null,
            "grid_auto_columns": null,
            "margin": null,
            "display": null,
            "left": null
          }
        },
        "2951f828a29f4a0082dcb95732012c6b": {
          "model_module": "@jupyter-widgets/controls",
          "model_name": "HBoxModel",
          "model_module_version": "1.5.0",
          "state": {
            "_view_name": "HBoxView",
            "_dom_classes": [],
            "_model_name": "HBoxModel",
            "_view_module": "@jupyter-widgets/controls",
            "_model_module_version": "1.5.0",
            "_view_count": null,
            "_view_module_version": "1.5.0",
            "box_style": "",
            "layout": "IPY_MODEL_c3d8a1acba034c50b38bacdafa5cc531",
            "_model_module": "@jupyter-widgets/controls",
            "children": [
              "IPY_MODEL_67c6b74c05574242aecc652a161ee92a",
              "IPY_MODEL_1b4f89b859134f7a83134facae07665d",
              "IPY_MODEL_2e980b39f8594b4e83c5ac9051dcfea8"
            ]
          }
        },
        "c3d8a1acba034c50b38bacdafa5cc531": {
          "model_module": "@jupyter-widgets/base",
          "model_name": "LayoutModel",
          "model_module_version": "1.2.0",
          "state": {
            "_view_name": "LayoutView",
            "grid_template_rows": null,
            "right": null,
            "justify_content": null,
            "_view_module": "@jupyter-widgets/base",
            "overflow": null,
            "_model_module_version": "1.2.0",
            "_view_count": null,
            "flex_flow": null,
            "width": null,
            "min_width": null,
            "border": null,
            "align_items": null,
            "bottom": null,
            "_model_module": "@jupyter-widgets/base",
            "top": null,
            "grid_column": null,
            "overflow_y": null,
            "overflow_x": null,
            "grid_auto_flow": null,
            "grid_area": null,
            "grid_template_columns": null,
            "flex": null,
            "_model_name": "LayoutModel",
            "justify_items": null,
            "grid_row": null,
            "max_height": null,
            "align_content": null,
            "visibility": null,
            "align_self": null,
            "height": null,
            "min_height": null,
            "padding": null,
            "grid_auto_rows": null,
            "grid_gap": null,
            "max_width": null,
            "order": null,
            "_view_module_version": "1.2.0",
            "grid_template_areas": null,
            "object_position": null,
            "object_fit": null,
            "grid_auto_columns": null,
            "margin": null,
            "display": null,
            "left": null
          }
        },
        "67c6b74c05574242aecc652a161ee92a": {
          "model_module": "@jupyter-widgets/controls",
          "model_name": "HTMLModel",
          "model_module_version": "1.5.0",
          "state": {
            "_view_name": "HTMLView",
            "style": "IPY_MODEL_14048000933e45a793af23f8d490ef07",
            "_dom_classes": [],
            "description": "",
            "_model_name": "HTMLModel",
            "placeholder": "​",
            "_view_module": "@jupyter-widgets/controls",
            "_model_module_version": "1.5.0",
            "value": "Downloading: 100%",
            "_view_count": null,
            "_view_module_version": "1.5.0",
            "description_tooltip": null,
            "_model_module": "@jupyter-widgets/controls",
            "layout": "IPY_MODEL_7d2e25678b6343dab2155dbfd9fa2219"
          }
        },
        "1b4f89b859134f7a83134facae07665d": {
          "model_module": "@jupyter-widgets/controls",
          "model_name": "FloatProgressModel",
          "model_module_version": "1.5.0",
          "state": {
            "_view_name": "ProgressView",
            "style": "IPY_MODEL_e8d279a53b014800ae3090c733a86139",
            "_dom_classes": [],
            "description": "",
            "_model_name": "FloatProgressModel",
            "bar_style": "success",
            "max": 440473133,
            "_view_module": "@jupyter-widgets/controls",
            "_model_module_version": "1.5.0",
            "value": 440473133,
            "_view_count": null,
            "_view_module_version": "1.5.0",
            "orientation": "horizontal",
            "min": 0,
            "description_tooltip": null,
            "_model_module": "@jupyter-widgets/controls",
            "layout": "IPY_MODEL_8eda9b5b027445dfbdd2be606323eeaf"
          }
        },
        "2e980b39f8594b4e83c5ac9051dcfea8": {
          "model_module": "@jupyter-widgets/controls",
          "model_name": "HTMLModel",
          "model_module_version": "1.5.0",
          "state": {
            "_view_name": "HTMLView",
            "style": "IPY_MODEL_b8b214bdf55b4c688bd6de6ad7c8260a",
            "_dom_classes": [],
            "description": "",
            "_model_name": "HTMLModel",
            "placeholder": "​",
            "_view_module": "@jupyter-widgets/controls",
            "_model_module_version": "1.5.0",
            "value": " 420M/420M [00:38&lt;00:00, 13.8MB/s]",
            "_view_count": null,
            "_view_module_version": "1.5.0",
            "description_tooltip": null,
            "_model_module": "@jupyter-widgets/controls",
            "layout": "IPY_MODEL_b785371ef4194af5b55546b1d0d14dd1"
          }
        },
        "14048000933e45a793af23f8d490ef07": {
          "model_module": "@jupyter-widgets/controls",
          "model_name": "DescriptionStyleModel",
          "model_module_version": "1.5.0",
          "state": {
            "_view_name": "StyleView",
            "_model_name": "DescriptionStyleModel",
            "description_width": "",
            "_view_module": "@jupyter-widgets/base",
            "_model_module_version": "1.5.0",
            "_view_count": null,
            "_view_module_version": "1.2.0",
            "_model_module": "@jupyter-widgets/controls"
          }
        },
        "7d2e25678b6343dab2155dbfd9fa2219": {
          "model_module": "@jupyter-widgets/base",
          "model_name": "LayoutModel",
          "model_module_version": "1.2.0",
          "state": {
            "_view_name": "LayoutView",
            "grid_template_rows": null,
            "right": null,
            "justify_content": null,
            "_view_module": "@jupyter-widgets/base",
            "overflow": null,
            "_model_module_version": "1.2.0",
            "_view_count": null,
            "flex_flow": null,
            "width": null,
            "min_width": null,
            "border": null,
            "align_items": null,
            "bottom": null,
            "_model_module": "@jupyter-widgets/base",
            "top": null,
            "grid_column": null,
            "overflow_y": null,
            "overflow_x": null,
            "grid_auto_flow": null,
            "grid_area": null,
            "grid_template_columns": null,
            "flex": null,
            "_model_name": "LayoutModel",
            "justify_items": null,
            "grid_row": null,
            "max_height": null,
            "align_content": null,
            "visibility": null,
            "align_self": null,
            "height": null,
            "min_height": null,
            "padding": null,
            "grid_auto_rows": null,
            "grid_gap": null,
            "max_width": null,
            "order": null,
            "_view_module_version": "1.2.0",
            "grid_template_areas": null,
            "object_position": null,
            "object_fit": null,
            "grid_auto_columns": null,
            "margin": null,
            "display": null,
            "left": null
          }
        },
        "e8d279a53b014800ae3090c733a86139": {
          "model_module": "@jupyter-widgets/controls",
          "model_name": "ProgressStyleModel",
          "model_module_version": "1.5.0",
          "state": {
            "_view_name": "StyleView",
            "_model_name": "ProgressStyleModel",
            "description_width": "",
            "_view_module": "@jupyter-widgets/base",
            "_model_module_version": "1.5.0",
            "_view_count": null,
            "_view_module_version": "1.2.0",
            "bar_color": null,
            "_model_module": "@jupyter-widgets/controls"
          }
        },
        "8eda9b5b027445dfbdd2be606323eeaf": {
          "model_module": "@jupyter-widgets/base",
          "model_name": "LayoutModel",
          "model_module_version": "1.2.0",
          "state": {
            "_view_name": "LayoutView",
            "grid_template_rows": null,
            "right": null,
            "justify_content": null,
            "_view_module": "@jupyter-widgets/base",
            "overflow": null,
            "_model_module_version": "1.2.0",
            "_view_count": null,
            "flex_flow": null,
            "width": null,
            "min_width": null,
            "border": null,
            "align_items": null,
            "bottom": null,
            "_model_module": "@jupyter-widgets/base",
            "top": null,
            "grid_column": null,
            "overflow_y": null,
            "overflow_x": null,
            "grid_auto_flow": null,
            "grid_area": null,
            "grid_template_columns": null,
            "flex": null,
            "_model_name": "LayoutModel",
            "justify_items": null,
            "grid_row": null,
            "max_height": null,
            "align_content": null,
            "visibility": null,
            "align_self": null,
            "height": null,
            "min_height": null,
            "padding": null,
            "grid_auto_rows": null,
            "grid_gap": null,
            "max_width": null,
            "order": null,
            "_view_module_version": "1.2.0",
            "grid_template_areas": null,
            "object_position": null,
            "object_fit": null,
            "grid_auto_columns": null,
            "margin": null,
            "display": null,
            "left": null
          }
        },
        "b8b214bdf55b4c688bd6de6ad7c8260a": {
          "model_module": "@jupyter-widgets/controls",
          "model_name": "DescriptionStyleModel",
          "model_module_version": "1.5.0",
          "state": {
            "_view_name": "StyleView",
            "_model_name": "DescriptionStyleModel",
            "description_width": "",
            "_view_module": "@jupyter-widgets/base",
            "_model_module_version": "1.5.0",
            "_view_count": null,
            "_view_module_version": "1.2.0",
            "_model_module": "@jupyter-widgets/controls"
          }
        },
        "b785371ef4194af5b55546b1d0d14dd1": {
          "model_module": "@jupyter-widgets/base",
          "model_name": "LayoutModel",
          "model_module_version": "1.2.0",
          "state": {
            "_view_name": "LayoutView",
            "grid_template_rows": null,
            "right": null,
            "justify_content": null,
            "_view_module": "@jupyter-widgets/base",
            "overflow": null,
            "_model_module_version": "1.2.0",
            "_view_count": null,
            "flex_flow": null,
            "width": null,
            "min_width": null,
            "border": null,
            "align_items": null,
            "bottom": null,
            "_model_module": "@jupyter-widgets/base",
            "top": null,
            "grid_column": null,
            "overflow_y": null,
            "overflow_x": null,
            "grid_auto_flow": null,
            "grid_area": null,
            "grid_template_columns": null,
            "flex": null,
            "_model_name": "LayoutModel",
            "justify_items": null,
            "grid_row": null,
            "max_height": null,
            "align_content": null,
            "visibility": null,
            "align_self": null,
            "height": null,
            "min_height": null,
            "padding": null,
            "grid_auto_rows": null,
            "grid_gap": null,
            "max_width": null,
            "order": null,
            "_view_module_version": "1.2.0",
            "grid_template_areas": null,
            "object_position": null,
            "object_fit": null,
            "grid_auto_columns": null,
            "margin": null,
            "display": null,
            "left": null
          }
        },
        "3e561d032ea04c04ae8ba932a1c4b132": {
          "model_module": "@jupyter-widgets/controls",
          "model_name": "HBoxModel",
          "model_module_version": "1.5.0",
          "state": {
            "_view_name": "HBoxView",
            "_dom_classes": [],
            "_model_name": "HBoxModel",
            "_view_module": "@jupyter-widgets/controls",
            "_model_module_version": "1.5.0",
            "_view_count": null,
            "_view_module_version": "1.5.0",
            "box_style": "",
            "layout": "IPY_MODEL_521847936cac4d1ea070194d1cfc6590",
            "_model_module": "@jupyter-widgets/controls",
            "children": [
              "IPY_MODEL_3b0f21f4161347a2bc1f85b075678433",
              "IPY_MODEL_8a0818d5a2c741be9342a6eefba2046c",
              "IPY_MODEL_d26a8618b24f4c5ab1a1555731200a1f"
            ]
          }
        },
        "521847936cac4d1ea070194d1cfc6590": {
          "model_module": "@jupyter-widgets/base",
          "model_name": "LayoutModel",
          "model_module_version": "1.2.0",
          "state": {
            "_view_name": "LayoutView",
            "grid_template_rows": null,
            "right": null,
            "justify_content": null,
            "_view_module": "@jupyter-widgets/base",
            "overflow": null,
            "_model_module_version": "1.2.0",
            "_view_count": null,
            "flex_flow": null,
            "width": null,
            "min_width": null,
            "border": null,
            "align_items": null,
            "bottom": null,
            "_model_module": "@jupyter-widgets/base",
            "top": null,
            "grid_column": null,
            "overflow_y": null,
            "overflow_x": null,
            "grid_auto_flow": null,
            "grid_area": null,
            "grid_template_columns": null,
            "flex": null,
            "_model_name": "LayoutModel",
            "justify_items": null,
            "grid_row": null,
            "max_height": null,
            "align_content": null,
            "visibility": null,
            "align_self": null,
            "height": null,
            "min_height": null,
            "padding": null,
            "grid_auto_rows": null,
            "grid_gap": null,
            "max_width": null,
            "order": null,
            "_view_module_version": "1.2.0",
            "grid_template_areas": null,
            "object_position": null,
            "object_fit": null,
            "grid_auto_columns": null,
            "margin": null,
            "display": null,
            "left": null
          }
        },
        "3b0f21f4161347a2bc1f85b075678433": {
          "model_module": "@jupyter-widgets/controls",
          "model_name": "HTMLModel",
          "model_module_version": "1.5.0",
          "state": {
            "_view_name": "HTMLView",
            "style": "IPY_MODEL_97fad859b6344be29edeefc1c270a207",
            "_dom_classes": [],
            "description": "",
            "_model_name": "HTMLModel",
            "placeholder": "​",
            "_view_module": "@jupyter-widgets/controls",
            "_model_module_version": "1.5.0",
            "value": "Downloading: 100%",
            "_view_count": null,
            "_view_module_version": "1.5.0",
            "description_tooltip": null,
            "_model_module": "@jupyter-widgets/controls",
            "layout": "IPY_MODEL_eb7cfd99edd34f64bd1f1b80f18fc724"
          }
        },
        "8a0818d5a2c741be9342a6eefba2046c": {
          "model_module": "@jupyter-widgets/controls",
          "model_name": "FloatProgressModel",
          "model_module_version": "1.5.0",
          "state": {
            "_view_name": "ProgressView",
            "style": "IPY_MODEL_3b36bfbcc2014fe884967748be149583",
            "_dom_classes": [],
            "description": "",
            "_model_name": "FloatProgressModel",
            "bar_style": "success",
            "max": 481,
            "_view_module": "@jupyter-widgets/controls",
            "_model_module_version": "1.5.0",
            "value": 481,
            "_view_count": null,
            "_view_module_version": "1.5.0",
            "orientation": "horizontal",
            "min": 0,
            "description_tooltip": null,
            "_model_module": "@jupyter-widgets/controls",
            "layout": "IPY_MODEL_bba9ba7c1f3f46af93b1ff31d68c5b81"
          }
        },
        "d26a8618b24f4c5ab1a1555731200a1f": {
          "model_module": "@jupyter-widgets/controls",
          "model_name": "HTMLModel",
          "model_module_version": "1.5.0",
          "state": {
            "_view_name": "HTMLView",
            "style": "IPY_MODEL_9f77f31d1deb4372998d18ebd1943ed9",
            "_dom_classes": [],
            "description": "",
            "_model_name": "HTMLModel",
            "placeholder": "​",
            "_view_module": "@jupyter-widgets/controls",
            "_model_module_version": "1.5.0",
            "value": " 481/481 [00:00&lt;00:00, 13.5kB/s]",
            "_view_count": null,
            "_view_module_version": "1.5.0",
            "description_tooltip": null,
            "_model_module": "@jupyter-widgets/controls",
            "layout": "IPY_MODEL_c3fb892cc43841818f12539b800a403e"
          }
        },
        "97fad859b6344be29edeefc1c270a207": {
          "model_module": "@jupyter-widgets/controls",
          "model_name": "DescriptionStyleModel",
          "model_module_version": "1.5.0",
          "state": {
            "_view_name": "StyleView",
            "_model_name": "DescriptionStyleModel",
            "description_width": "",
            "_view_module": "@jupyter-widgets/base",
            "_model_module_version": "1.5.0",
            "_view_count": null,
            "_view_module_version": "1.2.0",
            "_model_module": "@jupyter-widgets/controls"
          }
        },
        "eb7cfd99edd34f64bd1f1b80f18fc724": {
          "model_module": "@jupyter-widgets/base",
          "model_name": "LayoutModel",
          "model_module_version": "1.2.0",
          "state": {
            "_view_name": "LayoutView",
            "grid_template_rows": null,
            "right": null,
            "justify_content": null,
            "_view_module": "@jupyter-widgets/base",
            "overflow": null,
            "_model_module_version": "1.2.0",
            "_view_count": null,
            "flex_flow": null,
            "width": null,
            "min_width": null,
            "border": null,
            "align_items": null,
            "bottom": null,
            "_model_module": "@jupyter-widgets/base",
            "top": null,
            "grid_column": null,
            "overflow_y": null,
            "overflow_x": null,
            "grid_auto_flow": null,
            "grid_area": null,
            "grid_template_columns": null,
            "flex": null,
            "_model_name": "LayoutModel",
            "justify_items": null,
            "grid_row": null,
            "max_height": null,
            "align_content": null,
            "visibility": null,
            "align_self": null,
            "height": null,
            "min_height": null,
            "padding": null,
            "grid_auto_rows": null,
            "grid_gap": null,
            "max_width": null,
            "order": null,
            "_view_module_version": "1.2.0",
            "grid_template_areas": null,
            "object_position": null,
            "object_fit": null,
            "grid_auto_columns": null,
            "margin": null,
            "display": null,
            "left": null
          }
        },
        "3b36bfbcc2014fe884967748be149583": {
          "model_module": "@jupyter-widgets/controls",
          "model_name": "ProgressStyleModel",
          "model_module_version": "1.5.0",
          "state": {
            "_view_name": "StyleView",
            "_model_name": "ProgressStyleModel",
            "description_width": "",
            "_view_module": "@jupyter-widgets/base",
            "_model_module_version": "1.5.0",
            "_view_count": null,
            "_view_module_version": "1.2.0",
            "bar_color": null,
            "_model_module": "@jupyter-widgets/controls"
          }
        },
        "bba9ba7c1f3f46af93b1ff31d68c5b81": {
          "model_module": "@jupyter-widgets/base",
          "model_name": "LayoutModel",
          "model_module_version": "1.2.0",
          "state": {
            "_view_name": "LayoutView",
            "grid_template_rows": null,
            "right": null,
            "justify_content": null,
            "_view_module": "@jupyter-widgets/base",
            "overflow": null,
            "_model_module_version": "1.2.0",
            "_view_count": null,
            "flex_flow": null,
            "width": null,
            "min_width": null,
            "border": null,
            "align_items": null,
            "bottom": null,
            "_model_module": "@jupyter-widgets/base",
            "top": null,
            "grid_column": null,
            "overflow_y": null,
            "overflow_x": null,
            "grid_auto_flow": null,
            "grid_area": null,
            "grid_template_columns": null,
            "flex": null,
            "_model_name": "LayoutModel",
            "justify_items": null,
            "grid_row": null,
            "max_height": null,
            "align_content": null,
            "visibility": null,
            "align_self": null,
            "height": null,
            "min_height": null,
            "padding": null,
            "grid_auto_rows": null,
            "grid_gap": null,
            "max_width": null,
            "order": null,
            "_view_module_version": "1.2.0",
            "grid_template_areas": null,
            "object_position": null,
            "object_fit": null,
            "grid_auto_columns": null,
            "margin": null,
            "display": null,
            "left": null
          }
        },
        "9f77f31d1deb4372998d18ebd1943ed9": {
          "model_module": "@jupyter-widgets/controls",
          "model_name": "DescriptionStyleModel",
          "model_module_version": "1.5.0",
          "state": {
            "_view_name": "StyleView",
            "_model_name": "DescriptionStyleModel",
            "description_width": "",
            "_view_module": "@jupyter-widgets/base",
            "_model_module_version": "1.5.0",
            "_view_count": null,
            "_view_module_version": "1.2.0",
            "_model_module": "@jupyter-widgets/controls"
          }
        },
        "c3fb892cc43841818f12539b800a403e": {
          "model_module": "@jupyter-widgets/base",
          "model_name": "LayoutModel",
          "model_module_version": "1.2.0",
          "state": {
            "_view_name": "LayoutView",
            "grid_template_rows": null,
            "right": null,
            "justify_content": null,
            "_view_module": "@jupyter-widgets/base",
            "overflow": null,
            "_model_module_version": "1.2.0",
            "_view_count": null,
            "flex_flow": null,
            "width": null,
            "min_width": null,
            "border": null,
            "align_items": null,
            "bottom": null,
            "_model_module": "@jupyter-widgets/base",
            "top": null,
            "grid_column": null,
            "overflow_y": null,
            "overflow_x": null,
            "grid_auto_flow": null,
            "grid_area": null,
            "grid_template_columns": null,
            "flex": null,
            "_model_name": "LayoutModel",
            "justify_items": null,
            "grid_row": null,
            "max_height": null,
            "align_content": null,
            "visibility": null,
            "align_self": null,
            "height": null,
            "min_height": null,
            "padding": null,
            "grid_auto_rows": null,
            "grid_gap": null,
            "max_width": null,
            "order": null,
            "_view_module_version": "1.2.0",
            "grid_template_areas": null,
            "object_position": null,
            "object_fit": null,
            "grid_auto_columns": null,
            "margin": null,
            "display": null,
            "left": null
          }
        },
        "a914f4ec01c04867a0f7fb5ab03fe0b7": {
          "model_module": "@jupyter-widgets/controls",
          "model_name": "HBoxModel",
          "model_module_version": "1.5.0",
          "state": {
            "_view_name": "HBoxView",
            "_dom_classes": [],
            "_model_name": "HBoxModel",
            "_view_module": "@jupyter-widgets/controls",
            "_model_module_version": "1.5.0",
            "_view_count": null,
            "_view_module_version": "1.5.0",
            "box_style": "",
            "layout": "IPY_MODEL_6237e803881e47e1985e6e5487861b06",
            "_model_module": "@jupyter-widgets/controls",
            "children": [
              "IPY_MODEL_9ff753381d7f46bbab163a4a83ec6354",
              "IPY_MODEL_daf0360c31634dab970c2bc6dfcaf2b2",
              "IPY_MODEL_d350e6372bf5468c9996eefc22cfe1cf"
            ]
          }
        },
        "6237e803881e47e1985e6e5487861b06": {
          "model_module": "@jupyter-widgets/base",
          "model_name": "LayoutModel",
          "model_module_version": "1.2.0",
          "state": {
            "_view_name": "LayoutView",
            "grid_template_rows": null,
            "right": null,
            "justify_content": null,
            "_view_module": "@jupyter-widgets/base",
            "overflow": null,
            "_model_module_version": "1.2.0",
            "_view_count": null,
            "flex_flow": null,
            "width": null,
            "min_width": null,
            "border": null,
            "align_items": null,
            "bottom": null,
            "_model_module": "@jupyter-widgets/base",
            "top": null,
            "grid_column": null,
            "overflow_y": null,
            "overflow_x": null,
            "grid_auto_flow": null,
            "grid_area": null,
            "grid_template_columns": null,
            "flex": null,
            "_model_name": "LayoutModel",
            "justify_items": null,
            "grid_row": null,
            "max_height": null,
            "align_content": null,
            "visibility": null,
            "align_self": null,
            "height": null,
            "min_height": null,
            "padding": null,
            "grid_auto_rows": null,
            "grid_gap": null,
            "max_width": null,
            "order": null,
            "_view_module_version": "1.2.0",
            "grid_template_areas": null,
            "object_position": null,
            "object_fit": null,
            "grid_auto_columns": null,
            "margin": null,
            "display": null,
            "left": null
          }
        },
        "9ff753381d7f46bbab163a4a83ec6354": {
          "model_module": "@jupyter-widgets/controls",
          "model_name": "HTMLModel",
          "model_module_version": "1.5.0",
          "state": {
            "_view_name": "HTMLView",
            "style": "IPY_MODEL_3b5cc4f704084d9bbe25300c55baa75d",
            "_dom_classes": [],
            "description": "",
            "_model_name": "HTMLModel",
            "placeholder": "​",
            "_view_module": "@jupyter-widgets/controls",
            "_model_module_version": "1.5.0",
            "value": "Downloading: 100%",
            "_view_count": null,
            "_view_module_version": "1.5.0",
            "description_tooltip": null,
            "_model_module": "@jupyter-widgets/controls",
            "layout": "IPY_MODEL_6695db76d9ad4d8a88d60f56c6f8f17e"
          }
        },
        "daf0360c31634dab970c2bc6dfcaf2b2": {
          "model_module": "@jupyter-widgets/controls",
          "model_name": "FloatProgressModel",
          "model_module_version": "1.5.0",
          "state": {
            "_view_name": "ProgressView",
            "style": "IPY_MODEL_8987ec28e1a04d9693948b4c1e6ddf02",
            "_dom_classes": [],
            "description": "",
            "_model_name": "FloatProgressModel",
            "bar_style": "success",
            "max": 657434796,
            "_view_module": "@jupyter-widgets/controls",
            "_model_module_version": "1.5.0",
            "value": 657434796,
            "_view_count": null,
            "_view_module_version": "1.5.0",
            "orientation": "horizontal",
            "min": 0,
            "description_tooltip": null,
            "_model_module": "@jupyter-widgets/controls",
            "layout": "IPY_MODEL_869554a4b690407fbebfc54687c00739"
          }
        },
        "d350e6372bf5468c9996eefc22cfe1cf": {
          "model_module": "@jupyter-widgets/controls",
          "model_name": "HTMLModel",
          "model_module_version": "1.5.0",
          "state": {
            "_view_name": "HTMLView",
            "style": "IPY_MODEL_5ef413e2e6ec4605bdd329be3dae5616",
            "_dom_classes": [],
            "description": "",
            "_model_name": "HTMLModel",
            "placeholder": "​",
            "_view_module": "@jupyter-widgets/controls",
            "_model_module_version": "1.5.0",
            "value": " 627M/627M [00:38&lt;00:00, 13.4MB/s]",
            "_view_count": null,
            "_view_module_version": "1.5.0",
            "description_tooltip": null,
            "_model_module": "@jupyter-widgets/controls",
            "layout": "IPY_MODEL_2b4925bf51de4b80b56a60c73c564290"
          }
        },
        "3b5cc4f704084d9bbe25300c55baa75d": {
          "model_module": "@jupyter-widgets/controls",
          "model_name": "DescriptionStyleModel",
          "model_module_version": "1.5.0",
          "state": {
            "_view_name": "StyleView",
            "_model_name": "DescriptionStyleModel",
            "description_width": "",
            "_view_module": "@jupyter-widgets/base",
            "_model_module_version": "1.5.0",
            "_view_count": null,
            "_view_module_version": "1.2.0",
            "_model_module": "@jupyter-widgets/controls"
          }
        },
        "6695db76d9ad4d8a88d60f56c6f8f17e": {
          "model_module": "@jupyter-widgets/base",
          "model_name": "LayoutModel",
          "model_module_version": "1.2.0",
          "state": {
            "_view_name": "LayoutView",
            "grid_template_rows": null,
            "right": null,
            "justify_content": null,
            "_view_module": "@jupyter-widgets/base",
            "overflow": null,
            "_model_module_version": "1.2.0",
            "_view_count": null,
            "flex_flow": null,
            "width": null,
            "min_width": null,
            "border": null,
            "align_items": null,
            "bottom": null,
            "_model_module": "@jupyter-widgets/base",
            "top": null,
            "grid_column": null,
            "overflow_y": null,
            "overflow_x": null,
            "grid_auto_flow": null,
            "grid_area": null,
            "grid_template_columns": null,
            "flex": null,
            "_model_name": "LayoutModel",
            "justify_items": null,
            "grid_row": null,
            "max_height": null,
            "align_content": null,
            "visibility": null,
            "align_self": null,
            "height": null,
            "min_height": null,
            "padding": null,
            "grid_auto_rows": null,
            "grid_gap": null,
            "max_width": null,
            "order": null,
            "_view_module_version": "1.2.0",
            "grid_template_areas": null,
            "object_position": null,
            "object_fit": null,
            "grid_auto_columns": null,
            "margin": null,
            "display": null,
            "left": null
          }
        },
        "8987ec28e1a04d9693948b4c1e6ddf02": {
          "model_module": "@jupyter-widgets/controls",
          "model_name": "ProgressStyleModel",
          "model_module_version": "1.5.0",
          "state": {
            "_view_name": "StyleView",
            "_model_name": "ProgressStyleModel",
            "description_width": "",
            "_view_module": "@jupyter-widgets/base",
            "_model_module_version": "1.5.0",
            "_view_count": null,
            "_view_module_version": "1.2.0",
            "bar_color": null,
            "_model_module": "@jupyter-widgets/controls"
          }
        },
        "869554a4b690407fbebfc54687c00739": {
          "model_module": "@jupyter-widgets/base",
          "model_name": "LayoutModel",
          "model_module_version": "1.2.0",
          "state": {
            "_view_name": "LayoutView",
            "grid_template_rows": null,
            "right": null,
            "justify_content": null,
            "_view_module": "@jupyter-widgets/base",
            "overflow": null,
            "_model_module_version": "1.2.0",
            "_view_count": null,
            "flex_flow": null,
            "width": null,
            "min_width": null,
            "border": null,
            "align_items": null,
            "bottom": null,
            "_model_module": "@jupyter-widgets/base",
            "top": null,
            "grid_column": null,
            "overflow_y": null,
            "overflow_x": null,
            "grid_auto_flow": null,
            "grid_area": null,
            "grid_template_columns": null,
            "flex": null,
            "_model_name": "LayoutModel",
            "justify_items": null,
            "grid_row": null,
            "max_height": null,
            "align_content": null,
            "visibility": null,
            "align_self": null,
            "height": null,
            "min_height": null,
            "padding": null,
            "grid_auto_rows": null,
            "grid_gap": null,
            "max_width": null,
            "order": null,
            "_view_module_version": "1.2.0",
            "grid_template_areas": null,
            "object_position": null,
            "object_fit": null,
            "grid_auto_columns": null,
            "margin": null,
            "display": null,
            "left": null
          }
        },
        "5ef413e2e6ec4605bdd329be3dae5616": {
          "model_module": "@jupyter-widgets/controls",
          "model_name": "DescriptionStyleModel",
          "model_module_version": "1.5.0",
          "state": {
            "_view_name": "StyleView",
            "_model_name": "DescriptionStyleModel",
            "description_width": "",
            "_view_module": "@jupyter-widgets/base",
            "_model_module_version": "1.5.0",
            "_view_count": null,
            "_view_module_version": "1.2.0",
            "_model_module": "@jupyter-widgets/controls"
          }
        },
        "2b4925bf51de4b80b56a60c73c564290": {
          "model_module": "@jupyter-widgets/base",
          "model_name": "LayoutModel",
          "model_module_version": "1.2.0",
          "state": {
            "_view_name": "LayoutView",
            "grid_template_rows": null,
            "right": null,
            "justify_content": null,
            "_view_module": "@jupyter-widgets/base",
            "overflow": null,
            "_model_module_version": "1.2.0",
            "_view_count": null,
            "flex_flow": null,
            "width": null,
            "min_width": null,
            "border": null,
            "align_items": null,
            "bottom": null,
            "_model_module": "@jupyter-widgets/base",
            "top": null,
            "grid_column": null,
            "overflow_y": null,
            "overflow_x": null,
            "grid_auto_flow": null,
            "grid_area": null,
            "grid_template_columns": null,
            "flex": null,
            "_model_name": "LayoutModel",
            "justify_items": null,
            "grid_row": null,
            "max_height": null,
            "align_content": null,
            "visibility": null,
            "align_self": null,
            "height": null,
            "min_height": null,
            "padding": null,
            "grid_auto_rows": null,
            "grid_gap": null,
            "max_width": null,
            "order": null,
            "_view_module_version": "1.2.0",
            "grid_template_areas": null,
            "object_position": null,
            "object_fit": null,
            "grid_auto_columns": null,
            "margin": null,
            "display": null,
            "left": null
          }
        },
        "b7480333c31b4ca8b49c299026a21a9d": {
          "model_module": "@jupyter-widgets/controls",
          "model_name": "HBoxModel",
          "model_module_version": "1.5.0",
          "state": {
            "_view_name": "HBoxView",
            "_dom_classes": [],
            "_model_name": "HBoxModel",
            "_view_module": "@jupyter-widgets/controls",
            "_model_module_version": "1.5.0",
            "_view_count": null,
            "_view_module_version": "1.5.0",
            "box_style": "",
            "layout": "IPY_MODEL_cdd96958078147c286611c063cedd36a",
            "_model_module": "@jupyter-widgets/controls",
            "children": [
              "IPY_MODEL_84b560d097a0448bb7fe606543895c21",
              "IPY_MODEL_88b4c83eb31643c3ae79da35695b6bb7",
              "IPY_MODEL_1e8e24e023c74c65912254aed8699c9b"
            ]
          }
        },
        "cdd96958078147c286611c063cedd36a": {
          "model_module": "@jupyter-widgets/base",
          "model_name": "LayoutModel",
          "model_module_version": "1.2.0",
          "state": {
            "_view_name": "LayoutView",
            "grid_template_rows": null,
            "right": null,
            "justify_content": null,
            "_view_module": "@jupyter-widgets/base",
            "overflow": null,
            "_model_module_version": "1.2.0",
            "_view_count": null,
            "flex_flow": null,
            "width": null,
            "min_width": null,
            "border": null,
            "align_items": null,
            "bottom": null,
            "_model_module": "@jupyter-widgets/base",
            "top": null,
            "grid_column": null,
            "overflow_y": null,
            "overflow_x": null,
            "grid_auto_flow": null,
            "grid_area": null,
            "grid_template_columns": null,
            "flex": null,
            "_model_name": "LayoutModel",
            "justify_items": null,
            "grid_row": null,
            "max_height": null,
            "align_content": null,
            "visibility": null,
            "align_self": null,
            "height": null,
            "min_height": null,
            "padding": null,
            "grid_auto_rows": null,
            "grid_gap": null,
            "max_width": null,
            "order": null,
            "_view_module_version": "1.2.0",
            "grid_template_areas": null,
            "object_position": null,
            "object_fit": null,
            "grid_auto_columns": null,
            "margin": null,
            "display": null,
            "left": null
          }
        },
        "84b560d097a0448bb7fe606543895c21": {
          "model_module": "@jupyter-widgets/controls",
          "model_name": "HTMLModel",
          "model_module_version": "1.5.0",
          "state": {
            "_view_name": "HTMLView",
            "style": "IPY_MODEL_b411586ffbf0428492f1b341eb3cf526",
            "_dom_classes": [],
            "description": "",
            "_model_name": "HTMLModel",
            "placeholder": "​",
            "_view_module": "@jupyter-widgets/controls",
            "_model_module_version": "1.5.0",
            "value": "Downloading: 100%",
            "_view_count": null,
            "_view_module_version": "1.5.0",
            "description_tooltip": null,
            "_model_module": "@jupyter-widgets/controls",
            "layout": "IPY_MODEL_a55ffd2479f04ef8b7b68a3144aa41e1"
          }
        },
        "88b4c83eb31643c3ae79da35695b6bb7": {
          "model_module": "@jupyter-widgets/controls",
          "model_name": "FloatProgressModel",
          "model_module_version": "1.5.0",
          "state": {
            "_view_name": "ProgressView",
            "style": "IPY_MODEL_88c4b7e0e47b4f11b5ce8f38495a4bb5",
            "_dom_classes": [],
            "description": "",
            "_model_name": "FloatProgressModel",
            "bar_style": "success",
            "max": 570,
            "_view_module": "@jupyter-widgets/controls",
            "_model_module_version": "1.5.0",
            "value": 570,
            "_view_count": null,
            "_view_module_version": "1.5.0",
            "orientation": "horizontal",
            "min": 0,
            "description_tooltip": null,
            "_model_module": "@jupyter-widgets/controls",
            "layout": "IPY_MODEL_2369419956514cbfb31879493edfc082"
          }
        },
        "1e8e24e023c74c65912254aed8699c9b": {
          "model_module": "@jupyter-widgets/controls",
          "model_name": "HTMLModel",
          "model_module_version": "1.5.0",
          "state": {
            "_view_name": "HTMLView",
            "style": "IPY_MODEL_94593c554d28493faaa54aa95284caa0",
            "_dom_classes": [],
            "description": "",
            "_model_name": "HTMLModel",
            "placeholder": "​",
            "_view_module": "@jupyter-widgets/controls",
            "_model_module_version": "1.5.0",
            "value": " 570/570 [00:00&lt;00:00, 15.1kB/s]",
            "_view_count": null,
            "_view_module_version": "1.5.0",
            "description_tooltip": null,
            "_model_module": "@jupyter-widgets/controls",
            "layout": "IPY_MODEL_86a67f89bf24419ba7eb345fb7990f9e"
          }
        },
        "b411586ffbf0428492f1b341eb3cf526": {
          "model_module": "@jupyter-widgets/controls",
          "model_name": "DescriptionStyleModel",
          "model_module_version": "1.5.0",
          "state": {
            "_view_name": "StyleView",
            "_model_name": "DescriptionStyleModel",
            "description_width": "",
            "_view_module": "@jupyter-widgets/base",
            "_model_module_version": "1.5.0",
            "_view_count": null,
            "_view_module_version": "1.2.0",
            "_model_module": "@jupyter-widgets/controls"
          }
        },
        "a55ffd2479f04ef8b7b68a3144aa41e1": {
          "model_module": "@jupyter-widgets/base",
          "model_name": "LayoutModel",
          "model_module_version": "1.2.0",
          "state": {
            "_view_name": "LayoutView",
            "grid_template_rows": null,
            "right": null,
            "justify_content": null,
            "_view_module": "@jupyter-widgets/base",
            "overflow": null,
            "_model_module_version": "1.2.0",
            "_view_count": null,
            "flex_flow": null,
            "width": null,
            "min_width": null,
            "border": null,
            "align_items": null,
            "bottom": null,
            "_model_module": "@jupyter-widgets/base",
            "top": null,
            "grid_column": null,
            "overflow_y": null,
            "overflow_x": null,
            "grid_auto_flow": null,
            "grid_area": null,
            "grid_template_columns": null,
            "flex": null,
            "_model_name": "LayoutModel",
            "justify_items": null,
            "grid_row": null,
            "max_height": null,
            "align_content": null,
            "visibility": null,
            "align_self": null,
            "height": null,
            "min_height": null,
            "padding": null,
            "grid_auto_rows": null,
            "grid_gap": null,
            "max_width": null,
            "order": null,
            "_view_module_version": "1.2.0",
            "grid_template_areas": null,
            "object_position": null,
            "object_fit": null,
            "grid_auto_columns": null,
            "margin": null,
            "display": null,
            "left": null
          }
        },
        "88c4b7e0e47b4f11b5ce8f38495a4bb5": {
          "model_module": "@jupyter-widgets/controls",
          "model_name": "ProgressStyleModel",
          "model_module_version": "1.5.0",
          "state": {
            "_view_name": "StyleView",
            "_model_name": "ProgressStyleModel",
            "description_width": "",
            "_view_module": "@jupyter-widgets/base",
            "_model_module_version": "1.5.0",
            "_view_count": null,
            "_view_module_version": "1.2.0",
            "bar_color": null,
            "_model_module": "@jupyter-widgets/controls"
          }
        },
        "2369419956514cbfb31879493edfc082": {
          "model_module": "@jupyter-widgets/base",
          "model_name": "LayoutModel",
          "model_module_version": "1.2.0",
          "state": {
            "_view_name": "LayoutView",
            "grid_template_rows": null,
            "right": null,
            "justify_content": null,
            "_view_module": "@jupyter-widgets/base",
            "overflow": null,
            "_model_module_version": "1.2.0",
            "_view_count": null,
            "flex_flow": null,
            "width": null,
            "min_width": null,
            "border": null,
            "align_items": null,
            "bottom": null,
            "_model_module": "@jupyter-widgets/base",
            "top": null,
            "grid_column": null,
            "overflow_y": null,
            "overflow_x": null,
            "grid_auto_flow": null,
            "grid_area": null,
            "grid_template_columns": null,
            "flex": null,
            "_model_name": "LayoutModel",
            "justify_items": null,
            "grid_row": null,
            "max_height": null,
            "align_content": null,
            "visibility": null,
            "align_self": null,
            "height": null,
            "min_height": null,
            "padding": null,
            "grid_auto_rows": null,
            "grid_gap": null,
            "max_width": null,
            "order": null,
            "_view_module_version": "1.2.0",
            "grid_template_areas": null,
            "object_position": null,
            "object_fit": null,
            "grid_auto_columns": null,
            "margin": null,
            "display": null,
            "left": null
          }
        },
        "94593c554d28493faaa54aa95284caa0": {
          "model_module": "@jupyter-widgets/controls",
          "model_name": "DescriptionStyleModel",
          "model_module_version": "1.5.0",
          "state": {
            "_view_name": "StyleView",
            "_model_name": "DescriptionStyleModel",
            "description_width": "",
            "_view_module": "@jupyter-widgets/base",
            "_model_module_version": "1.5.0",
            "_view_count": null,
            "_view_module_version": "1.2.0",
            "_model_module": "@jupyter-widgets/controls"
          }
        },
        "86a67f89bf24419ba7eb345fb7990f9e": {
          "model_module": "@jupyter-widgets/base",
          "model_name": "LayoutModel",
          "model_module_version": "1.2.0",
          "state": {
            "_view_name": "LayoutView",
            "grid_template_rows": null,
            "right": null,
            "justify_content": null,
            "_view_module": "@jupyter-widgets/base",
            "overflow": null,
            "_model_module_version": "1.2.0",
            "_view_count": null,
            "flex_flow": null,
            "width": null,
            "min_width": null,
            "border": null,
            "align_items": null,
            "bottom": null,
            "_model_module": "@jupyter-widgets/base",
            "top": null,
            "grid_column": null,
            "overflow_y": null,
            "overflow_x": null,
            "grid_auto_flow": null,
            "grid_area": null,
            "grid_template_columns": null,
            "flex": null,
            "_model_name": "LayoutModel",
            "justify_items": null,
            "grid_row": null,
            "max_height": null,
            "align_content": null,
            "visibility": null,
            "align_self": null,
            "height": null,
            "min_height": null,
            "padding": null,
            "grid_auto_rows": null,
            "grid_gap": null,
            "max_width": null,
            "order": null,
            "_view_module_version": "1.2.0",
            "grid_template_areas": null,
            "object_position": null,
            "object_fit": null,
            "grid_auto_columns": null,
            "margin": null,
            "display": null,
            "left": null
          }
        },
        "5be0026676cd496ab54e7d0d6efd597f": {
          "model_module": "@jupyter-widgets/controls",
          "model_name": "HBoxModel",
          "model_module_version": "1.5.0",
          "state": {
            "_view_name": "HBoxView",
            "_dom_classes": [],
            "_model_name": "HBoxModel",
            "_view_module": "@jupyter-widgets/controls",
            "_model_module_version": "1.5.0",
            "_view_count": null,
            "_view_module_version": "1.5.0",
            "box_style": "",
            "layout": "IPY_MODEL_c3347c4d8b064e7180c43a917948e14b",
            "_model_module": "@jupyter-widgets/controls",
            "children": [
              "IPY_MODEL_faa852bdd6a3423298cf37b594151222",
              "IPY_MODEL_47cff806818346f1905512db897e47c5",
              "IPY_MODEL_32f42514d2a14a2191d49ead647d9f82"
            ]
          }
        },
        "c3347c4d8b064e7180c43a917948e14b": {
          "model_module": "@jupyter-widgets/base",
          "model_name": "LayoutModel",
          "model_module_version": "1.2.0",
          "state": {
            "_view_name": "LayoutView",
            "grid_template_rows": null,
            "right": null,
            "justify_content": null,
            "_view_module": "@jupyter-widgets/base",
            "overflow": null,
            "_model_module_version": "1.2.0",
            "_view_count": null,
            "flex_flow": null,
            "width": null,
            "min_width": null,
            "border": null,
            "align_items": null,
            "bottom": null,
            "_model_module": "@jupyter-widgets/base",
            "top": null,
            "grid_column": null,
            "overflow_y": null,
            "overflow_x": null,
            "grid_auto_flow": null,
            "grid_area": null,
            "grid_template_columns": null,
            "flex": null,
            "_model_name": "LayoutModel",
            "justify_items": null,
            "grid_row": null,
            "max_height": null,
            "align_content": null,
            "visibility": null,
            "align_self": null,
            "height": null,
            "min_height": null,
            "padding": null,
            "grid_auto_rows": null,
            "grid_gap": null,
            "max_width": null,
            "order": null,
            "_view_module_version": "1.2.0",
            "grid_template_areas": null,
            "object_position": null,
            "object_fit": null,
            "grid_auto_columns": null,
            "margin": null,
            "display": null,
            "left": null
          }
        },
        "faa852bdd6a3423298cf37b594151222": {
          "model_module": "@jupyter-widgets/controls",
          "model_name": "HTMLModel",
          "model_module_version": "1.5.0",
          "state": {
            "_view_name": "HTMLView",
            "style": "IPY_MODEL_8520831e49b94124a06172d24110d7a4",
            "_dom_classes": [],
            "description": "",
            "_model_name": "HTMLModel",
            "placeholder": "​",
            "_view_module": "@jupyter-widgets/controls",
            "_model_module_version": "1.5.0",
            "value": "Downloading: 100%",
            "_view_count": null,
            "_view_module_version": "1.5.0",
            "description_tooltip": null,
            "_model_module": "@jupyter-widgets/controls",
            "layout": "IPY_MODEL_c170a4fab8944be98acbc31a67c9234f"
          }
        },
        "47cff806818346f1905512db897e47c5": {
          "model_module": "@jupyter-widgets/controls",
          "model_name": "FloatProgressModel",
          "model_module_version": "1.5.0",
          "state": {
            "_view_name": "ProgressView",
            "style": "IPY_MODEL_69de8dab99554c36a8cb117baf38347b",
            "_dom_classes": [],
            "description": "",
            "_model_name": "FloatProgressModel",
            "bar_style": "success",
            "max": 526681800,
            "_view_module": "@jupyter-widgets/controls",
            "_model_module_version": "1.5.0",
            "value": 526681800,
            "_view_count": null,
            "_view_module_version": "1.5.0",
            "orientation": "horizontal",
            "min": 0,
            "description_tooltip": null,
            "_model_module": "@jupyter-widgets/controls",
            "layout": "IPY_MODEL_142fba737b904480bbf62f8bc6bc8fed"
          }
        },
        "32f42514d2a14a2191d49ead647d9f82": {
          "model_module": "@jupyter-widgets/controls",
          "model_name": "HTMLModel",
          "model_module_version": "1.5.0",
          "state": {
            "_view_name": "HTMLView",
            "style": "IPY_MODEL_6aba3b9a8f2c4581a5d971e5a2ee0877",
            "_dom_classes": [],
            "description": "",
            "_model_name": "HTMLModel",
            "placeholder": "​",
            "_view_module": "@jupyter-widgets/controls",
            "_model_module_version": "1.5.0",
            "value": " 502M/502M [00:39&lt;00:00, 31.3MB/s]",
            "_view_count": null,
            "_view_module_version": "1.5.0",
            "description_tooltip": null,
            "_model_module": "@jupyter-widgets/controls",
            "layout": "IPY_MODEL_c8677cfc2b7a43d481d1c68ca2546b4f"
          }
        },
        "8520831e49b94124a06172d24110d7a4": {
          "model_module": "@jupyter-widgets/controls",
          "model_name": "DescriptionStyleModel",
          "model_module_version": "1.5.0",
          "state": {
            "_view_name": "StyleView",
            "_model_name": "DescriptionStyleModel",
            "description_width": "",
            "_view_module": "@jupyter-widgets/base",
            "_model_module_version": "1.5.0",
            "_view_count": null,
            "_view_module_version": "1.2.0",
            "_model_module": "@jupyter-widgets/controls"
          }
        },
        "c170a4fab8944be98acbc31a67c9234f": {
          "model_module": "@jupyter-widgets/base",
          "model_name": "LayoutModel",
          "model_module_version": "1.2.0",
          "state": {
            "_view_name": "LayoutView",
            "grid_template_rows": null,
            "right": null,
            "justify_content": null,
            "_view_module": "@jupyter-widgets/base",
            "overflow": null,
            "_model_module_version": "1.2.0",
            "_view_count": null,
            "flex_flow": null,
            "width": null,
            "min_width": null,
            "border": null,
            "align_items": null,
            "bottom": null,
            "_model_module": "@jupyter-widgets/base",
            "top": null,
            "grid_column": null,
            "overflow_y": null,
            "overflow_x": null,
            "grid_auto_flow": null,
            "grid_area": null,
            "grid_template_columns": null,
            "flex": null,
            "_model_name": "LayoutModel",
            "justify_items": null,
            "grid_row": null,
            "max_height": null,
            "align_content": null,
            "visibility": null,
            "align_self": null,
            "height": null,
            "min_height": null,
            "padding": null,
            "grid_auto_rows": null,
            "grid_gap": null,
            "max_width": null,
            "order": null,
            "_view_module_version": "1.2.0",
            "grid_template_areas": null,
            "object_position": null,
            "object_fit": null,
            "grid_auto_columns": null,
            "margin": null,
            "display": null,
            "left": null
          }
        },
        "69de8dab99554c36a8cb117baf38347b": {
          "model_module": "@jupyter-widgets/controls",
          "model_name": "ProgressStyleModel",
          "model_module_version": "1.5.0",
          "state": {
            "_view_name": "StyleView",
            "_model_name": "ProgressStyleModel",
            "description_width": "",
            "_view_module": "@jupyter-widgets/base",
            "_model_module_version": "1.5.0",
            "_view_count": null,
            "_view_module_version": "1.2.0",
            "bar_color": null,
            "_model_module": "@jupyter-widgets/controls"
          }
        },
        "142fba737b904480bbf62f8bc6bc8fed": {
          "model_module": "@jupyter-widgets/base",
          "model_name": "LayoutModel",
          "model_module_version": "1.2.0",
          "state": {
            "_view_name": "LayoutView",
            "grid_template_rows": null,
            "right": null,
            "justify_content": null,
            "_view_module": "@jupyter-widgets/base",
            "overflow": null,
            "_model_module_version": "1.2.0",
            "_view_count": null,
            "flex_flow": null,
            "width": null,
            "min_width": null,
            "border": null,
            "align_items": null,
            "bottom": null,
            "_model_module": "@jupyter-widgets/base",
            "top": null,
            "grid_column": null,
            "overflow_y": null,
            "overflow_x": null,
            "grid_auto_flow": null,
            "grid_area": null,
            "grid_template_columns": null,
            "flex": null,
            "_model_name": "LayoutModel",
            "justify_items": null,
            "grid_row": null,
            "max_height": null,
            "align_content": null,
            "visibility": null,
            "align_self": null,
            "height": null,
            "min_height": null,
            "padding": null,
            "grid_auto_rows": null,
            "grid_gap": null,
            "max_width": null,
            "order": null,
            "_view_module_version": "1.2.0",
            "grid_template_areas": null,
            "object_position": null,
            "object_fit": null,
            "grid_auto_columns": null,
            "margin": null,
            "display": null,
            "left": null
          }
        },
        "6aba3b9a8f2c4581a5d971e5a2ee0877": {
          "model_module": "@jupyter-widgets/controls",
          "model_name": "DescriptionStyleModel",
          "model_module_version": "1.5.0",
          "state": {
            "_view_name": "StyleView",
            "_model_name": "DescriptionStyleModel",
            "description_width": "",
            "_view_module": "@jupyter-widgets/base",
            "_model_module_version": "1.5.0",
            "_view_count": null,
            "_view_module_version": "1.2.0",
            "_model_module": "@jupyter-widgets/controls"
          }
        },
        "c8677cfc2b7a43d481d1c68ca2546b4f": {
          "model_module": "@jupyter-widgets/base",
          "model_name": "LayoutModel",
          "model_module_version": "1.2.0",
          "state": {
            "_view_name": "LayoutView",
            "grid_template_rows": null,
            "right": null,
            "justify_content": null,
            "_view_module": "@jupyter-widgets/base",
            "overflow": null,
            "_model_module_version": "1.2.0",
            "_view_count": null,
            "flex_flow": null,
            "width": null,
            "min_width": null,
            "border": null,
            "align_items": null,
            "bottom": null,
            "_model_module": "@jupyter-widgets/base",
            "top": null,
            "grid_column": null,
            "overflow_y": null,
            "overflow_x": null,
            "grid_auto_flow": null,
            "grid_area": null,
            "grid_template_columns": null,
            "flex": null,
            "_model_name": "LayoutModel",
            "justify_items": null,
            "grid_row": null,
            "max_height": null,
            "align_content": null,
            "visibility": null,
            "align_self": null,
            "height": null,
            "min_height": null,
            "padding": null,
            "grid_auto_rows": null,
            "grid_gap": null,
            "max_width": null,
            "order": null,
            "_view_module_version": "1.2.0",
            "grid_template_areas": null,
            "object_position": null,
            "object_fit": null,
            "grid_auto_columns": null,
            "margin": null,
            "display": null,
            "left": null
          }
        }
      }
    }
  },
  "nbformat": 4,
  "nbformat_minor": 5
}