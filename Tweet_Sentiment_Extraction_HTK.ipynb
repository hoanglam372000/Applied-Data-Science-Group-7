{
  "nbformat": 4,
  "nbformat_minor": 0,
  "metadata": {
    "colab": {
      "name": "Tweet_Sentiment_Extraction_HTK.ipynb",
      "provenance": [],
      "collapsed_sections": [],
      "include_colab_link": true
    },
    "kernelspec": {
      "name": "python3",
      "display_name": "Python 3"
    },
    "language_info": {
      "name": "python"
    },
    "accelerator": "GPU"
  },
  "cells": [
    {
      "cell_type": "markdown",
      "metadata": {
        "id": "view-in-github",
        "colab_type": "text"
      },
      "source": [
        "<a href=\"https://colab.research.google.com/github/hoanglam372000/Applied-Data-Science-Group-7/blob/alyhakim/Tweet_Sentiment_Extraction_HTK.ipynb\" target=\"_parent\"><img src=\"https://colab.research.google.com/assets/colab-badge.svg\" alt=\"Open In Colab\"/></a>"
      ]
    },
    {
      "cell_type": "code",
      "metadata": {
        "id": "CjXDKvSrGpwJ",
        "colab": {
          "base_uri": "https://localhost:8080/"
        },
        "outputId": "aa279397-8c8f-42ae-dd4d-8b07be51243a"
      },
      "source": [
        "!git clone https://github.com/hoanglam372000/Applied-Data-Science-Group-7.git"
      ],
      "execution_count": null,
      "outputs": [
        {
          "output_type": "stream",
          "name": "stdout",
          "text": [
            "Cloning into 'Applied-Data-Science-Group-7'...\n",
            "remote: Enumerating objects: 26, done.\u001b[K\n",
            "remote: Counting objects: 100% (26/26), done.\u001b[K\n",
            "remote: Compressing objects: 100% (26/26), done.\u001b[K\n",
            "remote: Total 26 (delta 7), reused 0 (delta 0), pack-reused 0\u001b[K\n",
            "Unpacking objects: 100% (26/26), done.\n"
          ]
        }
      ]
    },
    {
      "cell_type": "code",
      "metadata": {
        "id": "Q-FUvI4Ehdz5",
        "colab": {
          "base_uri": "https://localhost:8080/"
        },
        "outputId": "837d8d8e-d4d6-40a8-b304-560bed8dd1f8"
      },
      "source": [
        "!pip install contractions\n",
        "!pip install emoji\n",
        "!pip install autocorrect"
      ],
      "execution_count": null,
      "outputs": [
        {
          "output_type": "stream",
          "name": "stdout",
          "text": [
            "Collecting contractions\n",
            "  Downloading contractions-0.0.52-py2.py3-none-any.whl (7.2 kB)\n",
            "Collecting textsearch>=0.0.21\n",
            "  Downloading textsearch-0.0.21-py2.py3-none-any.whl (7.5 kB)\n",
            "Collecting anyascii\n",
            "  Downloading anyascii-0.3.0-py3-none-any.whl (284 kB)\n",
            "\u001b[K     |████████████████████████████████| 284 kB 13.3 MB/s \n",
            "\u001b[?25hCollecting pyahocorasick\n",
            "  Downloading pyahocorasick-1.4.2.tar.gz (321 kB)\n",
            "\u001b[K     |████████████████████████████████| 321 kB 46.1 MB/s \n",
            "\u001b[?25hBuilding wheels for collected packages: pyahocorasick\n",
            "  Building wheel for pyahocorasick (setup.py) ... \u001b[?25l\u001b[?25hdone\n",
            "  Created wheel for pyahocorasick: filename=pyahocorasick-1.4.2-cp37-cp37m-linux_x86_64.whl size=85449 sha256=3ac01cd1fdedf8d624ce5f826a9d606ec48ec281a16c40dc57c40e16cc9ab5f6\n",
            "  Stored in directory: /root/.cache/pip/wheels/25/19/a6/8f363d9939162782bb8439d886469756271abc01f76fbd790f\n",
            "Successfully built pyahocorasick\n",
            "Installing collected packages: pyahocorasick, anyascii, textsearch, contractions\n",
            "Successfully installed anyascii-0.3.0 contractions-0.0.52 pyahocorasick-1.4.2 textsearch-0.0.21\n",
            "Collecting emoji\n",
            "  Downloading emoji-1.6.1.tar.gz (170 kB)\n",
            "\u001b[K     |████████████████████████████████| 170 kB 12.7 MB/s \n",
            "\u001b[?25hBuilding wheels for collected packages: emoji\n",
            "  Building wheel for emoji (setup.py) ... \u001b[?25l\u001b[?25hdone\n",
            "  Created wheel for emoji: filename=emoji-1.6.1-py3-none-any.whl size=169314 sha256=88d33d6b41e1f457d6be2467dca3da637fb62dad18ca0e23ecf5a00e344f29d8\n",
            "  Stored in directory: /root/.cache/pip/wheels/ea/5f/d3/03d313ddb3c2a1a427bb4690f1621eea60fe6f2a30cc95940f\n",
            "Successfully built emoji\n",
            "Installing collected packages: emoji\n",
            "Successfully installed emoji-1.6.1\n",
            "Collecting autocorrect\n",
            "  Downloading autocorrect-2.5.0.tar.gz (622 kB)\n",
            "\u001b[K     |████████████████████████████████| 622 kB 12.8 MB/s \n",
            "\u001b[?25hBuilding wheels for collected packages: autocorrect\n",
            "  Building wheel for autocorrect (setup.py) ... \u001b[?25l\u001b[?25hdone\n",
            "  Created wheel for autocorrect: filename=autocorrect-2.5.0-py3-none-any.whl size=621851 sha256=2261b26b45542a6a3b5540ad04c970a068ac2ae946df2cab8509d8aafabe7ed4\n",
            "  Stored in directory: /root/.cache/pip/wheels/3d/8e/bd/f6fd900a056a031bf710a00bca338d86f43b83f0c25ab5242f\n",
            "Successfully built autocorrect\n",
            "Installing collected packages: autocorrect\n",
            "Successfully installed autocorrect-2.5.0\n"
          ]
        }
      ]
    },
    {
      "cell_type": "code",
      "metadata": {
        "id": "urLUNUkWG0NP",
        "colab": {
          "base_uri": "https://localhost:8080/"
        },
        "outputId": "8e366129-3ad9-4981-cac6-39b9c6dec692"
      },
      "source": [
        "import pandas as pd\n",
        "import nltk\n",
        "nltk.download('averaged_perceptron_tagger')\n",
        "nltk.download('punkt')\n",
        "nltk.download('wordnet')\n",
        "\n",
        "import numpy as np\n",
        "import emoji\n",
        "import re\n",
        "import string\n",
        "from nltk.stem import PorterStemmer\n",
        "from nltk.tokenize import TweetTokenizer\n",
        "from sklearn.model_selection import train_test_split\n",
        "from sklearn.preprocessing import OneHotEncoder, StandardScaler\n",
        "from sklearn.impute import SimpleImputer\n",
        "from sklearn.base import BaseEstimator, TransformerMixin\n",
        "from sklearn.pipeline import Pipeline, make_pipeline\n",
        "from sklearn.compose import ColumnTransformer, make_column_transformer\n",
        "import matplotlib.pyplot as plt\n",
        "import contractions\n",
        "from nltk.corpus import wordnet\n",
        "from nltk.stem import PorterStemmer, WordNetLemmatizer\n",
        "from bs4 import BeautifulSoup\n",
        "from autocorrect import Speller\n",
        "nltk.download('names')\n",
        "names = nltk.corpus.names.words('male.txt') + nltk.corpus.names.words('female.txt')\n",
        "pd.set_option('display.max_colwidth', 200)"
      ],
      "execution_count": null,
      "outputs": [
        {
          "output_type": "stream",
          "name": "stdout",
          "text": [
            "[nltk_data] Downloading package averaged_perceptron_tagger to\n",
            "[nltk_data]     /root/nltk_data...\n",
            "[nltk_data]   Unzipping taggers/averaged_perceptron_tagger.zip.\n",
            "[nltk_data] Downloading package punkt to /root/nltk_data...\n",
            "[nltk_data]   Unzipping tokenizers/punkt.zip.\n",
            "[nltk_data] Downloading package wordnet to /root/nltk_data...\n",
            "[nltk_data]   Unzipping corpora/wordnet.zip.\n",
            "[nltk_data] Downloading package names to /root/nltk_data...\n",
            "[nltk_data]   Unzipping corpora/names.zip.\n"
          ]
        }
      ]
    },
    {
      "cell_type": "code",
      "metadata": {
        "id": "rpHRUfj7TSEh"
      },
      "source": [
        ""
      ],
      "execution_count": null,
      "outputs": []
    },
    {
      "cell_type": "code",
      "metadata": {
        "id": "zRSueqx-G4Pm"
      },
      "source": [
        "df = pd.read_csv('Applied-Data-Science-Group-7/train.csv')"
      ],
      "execution_count": null,
      "outputs": []
    },
    {
      "cell_type": "code",
      "metadata": {
        "id": "ZBC3_V7hG6gS",
        "colab": {
          "base_uri": "https://localhost:8080/",
          "height": 449
        },
        "outputId": "edc922db-fb16-403a-deb3-6b0082ce75ca"
      },
      "source": [
        "df"
      ],
      "execution_count": null,
      "outputs": [
        {
          "output_type": "execute_result",
          "data": {
            "text/html": [
              "<div>\n",
              "<style scoped>\n",
              "    .dataframe tbody tr th:only-of-type {\n",
              "        vertical-align: middle;\n",
              "    }\n",
              "\n",
              "    .dataframe tbody tr th {\n",
              "        vertical-align: top;\n",
              "    }\n",
              "\n",
              "    .dataframe thead th {\n",
              "        text-align: right;\n",
              "    }\n",
              "</style>\n",
              "<table border=\"1\" class=\"dataframe\">\n",
              "  <thead>\n",
              "    <tr style=\"text-align: right;\">\n",
              "      <th></th>\n",
              "      <th>textID</th>\n",
              "      <th>text</th>\n",
              "      <th>selected_text</th>\n",
              "      <th>sentiment</th>\n",
              "    </tr>\n",
              "  </thead>\n",
              "  <tbody>\n",
              "    <tr>\n",
              "      <th>0</th>\n",
              "      <td>cb774db0d1</td>\n",
              "      <td>I`d have responded, if I were going</td>\n",
              "      <td>I`d have responded, if I were going</td>\n",
              "      <td>neutral</td>\n",
              "    </tr>\n",
              "    <tr>\n",
              "      <th>1</th>\n",
              "      <td>549e992a42</td>\n",
              "      <td>Sooo SAD I will miss you here in San Diego!!!</td>\n",
              "      <td>Sooo SAD</td>\n",
              "      <td>negative</td>\n",
              "    </tr>\n",
              "    <tr>\n",
              "      <th>2</th>\n",
              "      <td>088c60f138</td>\n",
              "      <td>my boss is bullying me...</td>\n",
              "      <td>bullying me</td>\n",
              "      <td>negative</td>\n",
              "    </tr>\n",
              "    <tr>\n",
              "      <th>3</th>\n",
              "      <td>9642c003ef</td>\n",
              "      <td>what interview! leave me alone</td>\n",
              "      <td>leave me alone</td>\n",
              "      <td>negative</td>\n",
              "    </tr>\n",
              "    <tr>\n",
              "      <th>4</th>\n",
              "      <td>358bd9e861</td>\n",
              "      <td>Sons of ****, why couldn`t they put them on the releases we already bought</td>\n",
              "      <td>Sons of ****,</td>\n",
              "      <td>negative</td>\n",
              "    </tr>\n",
              "    <tr>\n",
              "      <th>...</th>\n",
              "      <td>...</td>\n",
              "      <td>...</td>\n",
              "      <td>...</td>\n",
              "      <td>...</td>\n",
              "    </tr>\n",
              "    <tr>\n",
              "      <th>27476</th>\n",
              "      <td>4eac33d1c0</td>\n",
              "      <td>wish we could come see u on Denver  husband lost his job and can`t afford it</td>\n",
              "      <td>d lost</td>\n",
              "      <td>negative</td>\n",
              "    </tr>\n",
              "    <tr>\n",
              "      <th>27477</th>\n",
              "      <td>4f4c4fc327</td>\n",
              "      <td>I`ve wondered about rake to.  The client has made it clear .NET only, don`t force devs to learn a new lang  #agile #ccnet</td>\n",
              "      <td>, don`t force</td>\n",
              "      <td>negative</td>\n",
              "    </tr>\n",
              "    <tr>\n",
              "      <th>27478</th>\n",
              "      <td>f67aae2310</td>\n",
              "      <td>Yay good for both of you. Enjoy the break - you probably need it after such hectic weekend  Take care hun xxxx</td>\n",
              "      <td>Yay good for both of you.</td>\n",
              "      <td>positive</td>\n",
              "    </tr>\n",
              "    <tr>\n",
              "      <th>27479</th>\n",
              "      <td>ed167662a5</td>\n",
              "      <td>But it was worth it  ****.</td>\n",
              "      <td>But it was worth it  ****.</td>\n",
              "      <td>positive</td>\n",
              "    </tr>\n",
              "    <tr>\n",
              "      <th>27480</th>\n",
              "      <td>6f7127d9d7</td>\n",
              "      <td>All this flirting going on - The ATG smiles. Yay.  ((hugs))</td>\n",
              "      <td>All this flirting going on - The ATG smiles. Yay.  ((hugs)</td>\n",
              "      <td>neutral</td>\n",
              "    </tr>\n",
              "  </tbody>\n",
              "</table>\n",
              "<p>27481 rows × 4 columns</p>\n",
              "</div>"
            ],
            "text/plain": [
              "           textID  ... sentiment\n",
              "0      cb774db0d1  ...   neutral\n",
              "1      549e992a42  ...  negative\n",
              "2      088c60f138  ...  negative\n",
              "3      9642c003ef  ...  negative\n",
              "4      358bd9e861  ...  negative\n",
              "...           ...  ...       ...\n",
              "27476  4eac33d1c0  ...  negative\n",
              "27477  4f4c4fc327  ...  negative\n",
              "27478  f67aae2310  ...  positive\n",
              "27479  ed167662a5  ...  positive\n",
              "27480  6f7127d9d7  ...   neutral\n",
              "\n",
              "[27481 rows x 4 columns]"
            ]
          },
          "metadata": {},
          "execution_count": 5
        }
      ]
    },
    {
      "cell_type": "code",
      "metadata": {
        "id": "WsqN5Wjcg2CW",
        "colab": {
          "base_uri": "https://localhost:8080/"
        },
        "outputId": "dedf4e45-ced1-4a99-b126-85a6d0bceaf2"
      },
      "source": [
        "df.info()"
      ],
      "execution_count": null,
      "outputs": [
        {
          "output_type": "stream",
          "name": "stdout",
          "text": [
            "<class 'pandas.core.frame.DataFrame'>\n",
            "RangeIndex: 27481 entries, 0 to 27480\n",
            "Data columns (total 4 columns):\n",
            " #   Column         Non-Null Count  Dtype \n",
            "---  ------         --------------  ----- \n",
            " 0   textID         27481 non-null  object\n",
            " 1   text           27480 non-null  object\n",
            " 2   selected_text  27480 non-null  object\n",
            " 3   sentiment      27481 non-null  object\n",
            "dtypes: object(4)\n",
            "memory usage: 858.9+ KB\n"
          ]
        }
      ]
    },
    {
      "cell_type": "code",
      "metadata": {
        "id": "lheP6G8chA5n"
      },
      "source": [
        "df.dropna(inplace = True)"
      ],
      "execution_count": null,
      "outputs": []
    },
    {
      "cell_type": "code",
      "metadata": {
        "id": "DgSS0XXGhIZ5",
        "colab": {
          "base_uri": "https://localhost:8080/"
        },
        "outputId": "076c6775-5674-486c-f36e-0e5571ee787d"
      },
      "source": [
        "df.info()"
      ],
      "execution_count": null,
      "outputs": [
        {
          "output_type": "stream",
          "name": "stdout",
          "text": [
            "<class 'pandas.core.frame.DataFrame'>\n",
            "Int64Index: 27480 entries, 0 to 27480\n",
            "Data columns (total 4 columns):\n",
            " #   Column         Non-Null Count  Dtype \n",
            "---  ------         --------------  ----- \n",
            " 0   textID         27480 non-null  object\n",
            " 1   text           27480 non-null  object\n",
            " 2   selected_text  27480 non-null  object\n",
            " 3   sentiment      27480 non-null  object\n",
            "dtypes: object(4)\n",
            "memory usage: 1.0+ MB\n"
          ]
        }
      ]
    },
    {
      "cell_type": "markdown",
      "metadata": {
        "id": "QQhUpRPwdMuZ"
      },
      "source": [
        "# Tách tập dữ liệu"
      ]
    },
    {
      "cell_type": "code",
      "metadata": {
        "id": "o-HjZOkzcQD_"
      },
      "source": [
        "# Tách tập huấn luyện và tập validation theo tỉ lệ 70%:30%\n",
        "X_df = df.drop(labels = 'selected_text',axis = 1)\n",
        "y_ex = df.selected_text\n",
        "y_class = df.sentiment\n",
        "train_X_df, val_X_df, train_y_ex, val_y_ex = train_test_split(X_df, y_ex, test_size=0.3, \n",
        "                                                              stratify=y_class, random_state=0)"
      ],
      "execution_count": null,
      "outputs": []
    },
    {
      "cell_type": "code",
      "metadata": {
        "id": "raULIB--dLc9",
        "colab": {
          "base_uri": "https://localhost:8080/"
        },
        "outputId": "f03213fd-3f58-4ba4-e547-4c7521e93355"
      },
      "source": [
        "print('train_X: ',train_X_df.shape)\n",
        "print('train_y: ',train_y_ex.shape)\n",
        "print('val_X: ',val_X_df.shape)\n",
        "print('val_y: ',val_y_ex.shape)\n"
      ],
      "execution_count": null,
      "outputs": [
        {
          "output_type": "stream",
          "name": "stdout",
          "text": [
            "train_X:  (19236, 3)\n",
            "train_y:  (19236,)\n",
            "val_X:  (8244, 3)\n",
            "val_y:  (8244,)\n"
          ]
        }
      ]
    },
    {
      "cell_type": "markdown",
      "metadata": {
        "id": "0Pg2BA__eldY"
      },
      "source": [
        "# Tiền xử lý + Khám phá tập train"
      ]
    },
    {
      "cell_type": "code",
      "metadata": {
        "id": "CO1H5feBedm3",
        "colab": {
          "base_uri": "https://localhost:8080/",
          "height": 357
        },
        "outputId": "b591c4b3-9b41-4cd7-ea49-36ae388a3400"
      },
      "source": [
        "#Phân bố của các lớp:\n",
        "train_X_df.sentiment.value_counts(normalize= True).plot(kind=\"pie\",labels = None, legend='auto', figsize=(8,6), autopct=\"%.1f%%\");"
      ],
      "execution_count": null,
      "outputs": [
        {
          "output_type": "display_data",
          "data": {
            "image/png": "[encoded data removed]",
            "text/plain": [
              "<Figure size 576x432 with 1 Axes>"
            ]
          },
          "metadata": {}
        }
      ]
    },
    {
      "cell_type": "code",
      "metadata": {
        "id": "RHY4ROqTfsBC",
        "colab": {
          "base_uri": "https://localhost:8080/"
        },
        "outputId": "80119f3e-c728-4b8e-cdd8-0140b6e714b6"
      },
      "source": [
        "train_X_df.info()"
      ],
      "execution_count": null,
      "outputs": [
        {
          "output_type": "stream",
          "name": "stdout",
          "text": [
            "<class 'pandas.core.frame.DataFrame'>\n",
            "Int64Index: 19236 entries, 652 to 12238\n",
            "Data columns (total 3 columns):\n",
            " #   Column     Non-Null Count  Dtype \n",
            "---  ------     --------------  ----- \n",
            " 0   textID     19236 non-null  object\n",
            " 1   text       19236 non-null  object\n",
            " 2   sentiment  19236 non-null  object\n",
            "dtypes: object(3)\n",
            "memory usage: 601.1+ KB\n"
          ]
        }
      ]
    },
    {
      "cell_type": "code",
      "metadata": {
        "id": "33iUN3CegUUa",
        "colab": {
          "base_uri": "https://localhost:8080/"
        },
        "outputId": "0119d46e-caf3-4095-b21b-ebf071c93c0e"
      },
      "source": [
        "train_X_df.duplicated().sum()"
      ],
      "execution_count": null,
      "outputs": [
        {
          "output_type": "execute_result",
          "data": {
            "text/plain": [
              "0"
            ]
          },
          "metadata": {},
          "execution_count": 13
        }
      ]
    },
    {
      "cell_type": "code",
      "metadata": {
        "id": "XvKkkGzNggds",
        "colab": {
          "base_uri": "https://localhost:8080/"
        },
        "outputId": "b3c459f3-5594-405a-c283-988cb6fb1387"
      },
      "source": [
        "train_y_ex.isnull().sum()"
      ],
      "execution_count": null,
      "outputs": [
        {
          "output_type": "execute_result",
          "data": {
            "text/plain": [
              "0"
            ]
          },
          "metadata": {},
          "execution_count": 14
        }
      ]
    },
    {
      "cell_type": "markdown",
      "metadata": {
        "id": "9YAKp117ijaf"
      },
      "source": [
        "# Tiền xử lý text"
      ]
    },
    {
      "cell_type": "code",
      "metadata": {
        "id": "HN_4-VfGec6C",
        "colab": {
          "base_uri": "https://localhost:8080/"
        },
        "outputId": "e5111f9c-945a-464b-c85e-02676194383b"
      },
      "source": [
        "tweet = \" #gamegame36 didn't My mom just texted me and told me that Rodney was *** chasing?? and fireflies... in (their) :)) backyard. Awwwww I'm miss him!!! @hoanglam 123 ://    http://twitpic.com/66pn1\"\n",
        "tweet2 = 'theira :)) <3'\n",
        "def preprocessing_word(word):\n",
        "  word = contractions.fix(word)\n",
        "  temp=[ \"<html_tag>\",'<URL>','<HIDDEN>','<tag>',\"<hash_tag>\"]\n",
        "  if word in temp:\n",
        "    return word\n",
        "  #số theo từ\n",
        "  if word.isdigit():  \n",
        "    return '<NUMBER>'\n",
        "  try: \n",
        "    float(word)\n",
        "    return '<NUMBER>'\n",
        "  except:\n",
        "    pass\n",
        "  if word in names:\n",
        "    return '<Name>'\n",
        "  # emoij\n",
        "  # emoij dính  hi:))) :)<3\n",
        "  \n",
        "  \n",
        "\n",
        "\n",
        "  word=word.lower() # viết thườngthường\n",
        "  spell_corrector = Speller(lang='en') #sửa chính tả theo từng từ \n",
        "  word=spell_corrector(word)\n",
        "  # print('correct',word)\n",
        "  # rút gọn theo từ\n",
        "  lemmatizer = WordNetLemmatizer()\n",
        "  wordnet_map = {\"N\":wordnet.NOUN, \"V\":wordnet.VERB, \"J\":wordnet.ADJ, \"R\":wordnet.ADV}\n",
        "  pos_tagged = nltk.pos_tag(word.split())\n",
        "  \n",
        "  word = [lemmatizer.lemmatize(word, wordnet_map.get(pos[0], wordnet.NOUN)) for word, pos in pos_tagged]\n",
        "  word = ' '.join(word)\n",
        "  word=word.translate(str.maketrans('', '', string.punctuation)) # chấm câu theo từ (vì tránh emoij)\n",
        "  if word==''or word ==' ':\n",
        "    return \"<Special_Character>\"\n",
        "  return word.replace(' ','_')\n",
        "def preprocessing_text(tweet):\n",
        "   raw_text = str(tweet).strip().replace('\\n', ' ')#.lower()\n",
        "   new_tweet = raw_text.split()\n",
        "   len_=len(new_tweet)\n",
        "   index2word = { w:new_tweet[w] for w in range(len_)}\n",
        "   parser = BeautifulSoup(raw_text, \"html.parser\")\n",
        "   raw_text = parser.get_text(separator = \"<html_tag>\")\n",
        "   raw_text = re.sub(pattern=r'https?://\\S+|www\\.\\S+', repl='<URL>', string=raw_text)\n",
        "   raw_text = re.sub(pattern='\\*+', repl='<HIDDEN>', string=raw_text)\n",
        "   raw_text = re.sub(pattern=r'@\\w+', repl='<tag>', string=raw_text)\n",
        "   raw_text = re.sub(pattern=r'#\\w+', repl='<hash_tag>', string=raw_text)\n",
        "   word_list=raw_text.split()\n",
        "   \n",
        "   return index2word, dict(zip([*range(len_)],map(preprocessing_word,word_list)))\n",
        "  #  return list(map(preprocessing_word,word_list))\n",
        "   # (\" \".join([word_list]))\n",
        "\n",
        "preprocessing_text(tweet)\n",
        "# preprocessing_word(\"didn't\")"
      ],
      "execution_count": null,
      "outputs": [
        {
          "output_type": "execute_result",
          "data": {
            "text/plain": [
              "({0: '#gamegame36',\n",
              "  1: \"didn't\",\n",
              "  2: 'My',\n",
              "  3: 'mom',\n",
              "  4: 'just',\n",
              "  5: 'texted',\n",
              "  6: 'me',\n",
              "  7: 'and',\n",
              "  8: 'told',\n",
              "  9: 'me',\n",
              "  10: 'that',\n",
              "  11: 'Rodney',\n",
              "  12: 'was',\n",
              "  13: '***',\n",
              "  14: 'chasing??',\n",
              "  15: 'and',\n",
              "  16: 'fireflies...',\n",
              "  17: 'in',\n",
              "  18: '(their)',\n",
              "  19: ':))',\n",
              "  20: 'backyard.',\n",
              "  21: 'Awwwww',\n",
              "  22: \"I'm\",\n",
              "  23: 'miss',\n",
              "  24: 'him!!!',\n",
              "  25: '@hoanglam',\n",
              "  26: '123',\n",
              "  27: '://',\n",
              "  28: 'http://twitpic.com/66pn1'},\n",
              " {0: '<hash_tag>',\n",
              "  1: 'do_not',\n",
              "  2: 'my',\n",
              "  3: 'mom',\n",
              "  4: 'just',\n",
              "  5: 'test',\n",
              "  6: 'me',\n",
              "  7: 'and',\n",
              "  8: 'told',\n",
              "  9: 'me',\n",
              "  10: 'that',\n",
              "  11: '<Name>',\n",
              "  12: 'be',\n",
              "  13: '<HIDDEN>',\n",
              "  14: 'chasing',\n",
              "  15: 'and',\n",
              "  16: 'fireflies',\n",
              "  17: 'in',\n",
              "  18: 'their',\n",
              "  19: '<Special_Character>',\n",
              "  20: 'backyard',\n",
              "  21: 'awwwww',\n",
              "  22: 'i_be',\n",
              "  23: 'miss',\n",
              "  24: 'him',\n",
              "  25: '<tag>',\n",
              "  26: '<NUMBER>',\n",
              "  27: '<Special_Character>',\n",
              "  28: '<URL>'})"
            ]
          },
          "metadata": {},
          "execution_count": 15
        }
      ]
    },
    {
      "cell_type": "code",
      "metadata": {
        "id": "xES4AXQOHL1R"
      },
      "source": [
        "def preprocessing(tweet):\n",
        "    '''\n",
        "    input: a tweet (str)\n",
        "    output: a list of words (list)\n",
        "    '''\n",
        "    tweet = str(tweet).strip()\n",
        "    new_tweet = tweet.split()\n",
        "    index2word = { w:new_tweet[w] for w in range(len(new_tweet))}\n",
        "    #word2index = { new_tweet[w]:w for w in range(len(new_tweet))} # Biễu diễn mỗi từ là 1 index để sau này phục hồi\n",
        "    #print('origin: ',word2index)\n",
        "    preprocess_tweet = dict({i[0]:i[1].lower()  for i in index2word.items()})\n",
        "    #preprocess_tweet = {re.sub(r'i[`\\'\"][\\w]+', 'i',w[0]):w[1] for w in preprocess_tweet.items()}\n",
        "    preprocess_tweet = {w[0]:re.sub(r'https?:\\/\\/.*[\\r\\n]*', '<URL>',w[1]) for w in preprocess_tweet.items()}\n",
        "    preprocess_tweet = {w[0]:re.sub(r'\\*+', '<HIDDEN>',w[1]) for w in preprocess_tweet.items()}\n",
        "    preprocess_tweet = {w[0]:re.sub(r'@\\w+', '<tag>',w[1]) for w in preprocess_tweet.items()}\n",
        "    preprocess_tweet = {w[0]:re.sub(r'#(\\w+)*', '<hash_tag>',w[1]) for w in preprocess_tweet.items()}\n",
        "    preprocessed_tweet = {}\n",
        "    for w in preprocess_tweet.items():\n",
        "      if emoji.get_emoji_regexp().search(w[1]) or w[1].isalpha() or w[1]=='<URL>':\n",
        "        preprocessed_tweet[w[0]] = w[1]\n",
        "      elif w[1].isdigit():\n",
        "        preprocessed_tweet[w[0]] = w[1].replace(w[1],'<NUMBER>')\n",
        "      else:\n",
        "        \n",
        "          r = re.sub(r\"[#!\\\"$%&\\'*+,-\\.?@\\[\\]():;/`{|}]*\",'',w[1])\n",
        "          if r == '' or r ==' ':\n",
        "            preprocessed_tweet[w[0]] = '<Special_character'\n",
        "          else:\n",
        "            preprocessed_tweet[w[0]] = r\n",
        "          \n",
        "    stemmer = PorterStemmer()\n",
        "    spell_corrector = Speller(lang='en')\n",
        "    preprocessed_tweet = {w[0]:stemmer.stem(w[1]) for w in preprocessed_tweet.items()}\n",
        "    preprocessed_tweet = {w[0]:spell_corrector(w[1]) for w in preprocessed_tweet.items()}\n",
        "    \n",
        "    return index2word,preprocessed_tweet\n",
        "    \n",
        "\n",
        "    \n",
        "    #new_tweets = [str(tweet).split(\" \") for tweet in tweets]\n",
        "    \n",
        "    #for tweet in new_tweets:\n",
        "    #    if \"\" in tweet:\n",
        "    #        tweet.pop(tweet.index(\"\"))\n",
        "    #return new_tweets"
      ],
      "execution_count": null,
      "outputs": []
    },
    {
      "cell_type": "code",
      "metadata": {
        "id": "VyYA7fWaRk7I"
      },
      "source": [
        "tweet = ' My mom just texted me and told me that Rodney was **** chasing?? and fireflies... in their :)) backyard. Awwwww I`m miss him!!! @hoanglam 123 ://    http://twitpic.com/66pn1'\n",
        "tweet2 = 'their :)) <3'\n",
        "index2word_temp,preprocessed_tweet_temp = preprocessing(tweet)"
      ],
      "execution_count": null,
      "outputs": []
    },
    {
      "cell_type": "code",
      "metadata": {
        "colab": {
          "base_uri": "https://localhost:8080/"
        },
        "id": "yM9UEtkgRyGL",
        "outputId": "9fbd7b8d-b50a-49f4-872e-a183f3ec12ff"
      },
      "source": [
        "print('index2word: ',index2word_temp)\n",
        "print('preprocessed_tweet: ',preprocessed_tweet_temp)"
      ],
      "execution_count": null,
      "outputs": [
        {
          "output_type": "stream",
          "name": "stdout",
          "text": [
            "index2word:  {0: 'My', 1: 'mom', 2: 'just', 3: 'texted', 4: 'me', 5: 'and', 6: 'told', 7: 'me', 8: 'that', 9: 'Rodney', 10: 'was', 11: '****', 12: 'chasing??', 13: 'and', 14: 'fireflies...', 15: 'in', 16: 'their', 17: ':))', 18: 'backyard.', 19: 'Awwwww', 20: 'I`m', 21: 'miss', 22: 'him!!!', 23: '@hoanglam', 24: '123', 25: '://', 26: 'http://twitpic.com/66pn1'}\n",
            "preprocessed_tweet:  {0: 'my', 1: 'mom', 2: 'just', 3: 'text', 4: 'me', 5: 'and', 6: 'told', 7: 'me', 8: 'that', 9: 'rodney', 10: 'wa', 11: '<hidden>', 12: 'chase', 13: 'and', 14: 'firefox', 15: 'in', 16: 'their', 17: '<special_character', 18: 'backyard', 19: 'awwwww', 20: 'im', 21: 'miss', 22: 'him', 23: '<tag>', 24: '<number>', 25: '<special_character', 26: '<url>'}\n"
          ]
        }
      ]
    },
    {
      "cell_type": "markdown",
      "metadata": {
        "id": "GA0YHXs1IoJl"
      },
      "source": [
        "#Hàm tiền xử lý chính"
      ]
    },
    {
      "cell_type": "code",
      "metadata": {
        "id": "fNU2y08kHebR"
      },
      "source": [
        "def preprocess_tweets(X_df):\n",
        "  X_df = X_df.copy()\n",
        "  raw_tweets = X_df.text.to_list()\n",
        "  X_df.sentiment = X_df.sentiment.map({'negative':-1,'neutral':0,'positive':1}).to_list()\n",
        "  index2word_tweets = [] #list of dictionaries\n",
        "  preprocessed_tweets = [] #list of dictionaries\n",
        "  for tweet in raw_tweets:\n",
        "    index2word, preprocessed = preprocessing(tweet)\n",
        "    index2word_tweets.append(index2word)\n",
        "    preprocessed_tweets.append(preprocessed)\n",
        "  \n",
        "  preprocessed_X_df = pd.DataFrame(data={'textID':X_df.textID,'index2word':index2word_tweets, 'preprocessed_texts':preprocessed_tweets,'sentiment':X_df.sentiment})\n",
        "  return preprocessed_X_df\n",
        "\n"
      ],
      "execution_count": null,
      "outputs": []
    },
    {
      "cell_type": "code",
      "metadata": {
        "id": "ROxkrUKeHQ2u"
      },
      "source": [
        "\n",
        "def count_tweets(preprocessed_X):\n",
        "    '''\n",
        "    Input:\n",
        "      \n",
        "        tweets: a list of tweets\n",
        "        ys: a list corresponding to the sentiment of each tweet (either 0 or 1)\n",
        "    Output:\n",
        "        result: a dictionary mapping each pair to its frequency\n",
        "    '''\n",
        "    preprocessed_X = preprocessed_X.copy()\n",
        "    y_s = preprocessed_X.sentiment.to_list()\n",
        "    preprocessed_tweets = preprocessed_X.preprocessed_texts.to_list()\n",
        "    processed_tweets = [list(text.values()) for text in preprocessed_tweets ]\n",
        "    result = {}\n",
        "\n",
        "    for y, tweet in zip(y_s, processed_tweets):\n",
        "        for word in tweet:\n",
        "            # define the key, which is the word and label tuple\n",
        "            pair = (word,y)\n",
        "\n",
        "            # if the key exists in the dictionary, increment the count\n",
        "            if pair in result:\n",
        "                result[pair] += 1\n",
        "\n",
        "            # else, if the key is new, add it to the dictionary and set the count to 1\n",
        "            else:\n",
        "                result[pair] = 1\n",
        "    ### END CODE HERE ###\n",
        "\n",
        "    return result"
      ],
      "execution_count": null,
      "outputs": []
    },
    {
      "cell_type": "code",
      "metadata": {
        "id": "kNfjbE4AHi__"
      },
      "source": [
        "\n",
        "def naive_bayes(freqs,preprocessed_X ):\n",
        "    '''\n",
        "    Input:\n",
        "        freqs: dictionary from (word, label) to how often the word appears\n",
        "        train_x: a list of tweets\n",
        "        train_y: a list of labels correponding to the tweets (0,1)\n",
        "    Output:\n",
        "        logprior: the log prior. (equation 3 above)\n",
        "        loglikelihood: the log likelihood of you Naive bayes equation. (equation 6 above)\n",
        "    '''\n",
        "    likelihood = {}\n",
        "    #prior = {}\n",
        "    preprocessed_X = preprocessed_X.copy()\n",
        "    train_y = preprocessed_X.sentiment.to_list()\n",
        "    preprocessed_tweets = preprocessed_X.preprocessed_texts.to_list()\n",
        "    train_x = [list(text.values()) for text in preprocessed_tweets ]\n",
        "\n",
        "\n",
        "    # calculate V, the number of unique words in the vocabulary\n",
        "    vocab = set([pair[0] for pair in freqs.keys()])\n",
        "    V = len(vocab)\n",
        "\n",
        "    # calculate N_pos and N_neg\n",
        "    N_pos = N_neg = N_neu = 0\n",
        "    for pair in freqs.keys():\n",
        "        # if the label is positive (greater than zero)\n",
        "        if pair[1] ==1:\n",
        "\n",
        "            # Increment the number of positive words by the count for this (word, label) pair\n",
        "            N_pos += freqs[pair]\n",
        "        elif pair[1] ==0:\n",
        "            N_neu +=freqs[pair]\n",
        "        # else, the label is negative\n",
        "        else:\n",
        "            # increment the number of negative words by the count for this (word,label) pair\n",
        "            N_neg += freqs[pair]\n",
        "\n",
        "    # Calculate D, the number of documents\n",
        "    D = len(train_y)\n",
        "\n",
        "    # Calculate D_pos, the number of positive documents \n",
        "    # D_pos = D_c['positive']\n",
        "\n",
        "    # # Calculate D_neg, the number of negative documents\n",
        "    # D_neg = D_c['negative']\n",
        "    \n",
        "    # D_neu = D_c['neutral']\n",
        "\n",
        "    # Calculate logprior\n",
        "    #logprior = np.log(D_pos) - np.log(D_neg)\n",
        "    # prior['neg'] = np.log(D_neg / D)\n",
        "    # prior['neu'] = np.log(D_neu / D)\n",
        "    # prior['pos'] = np.log(D_pos / D)\n",
        "    \n",
        "    \n",
        "    \n",
        "    \n",
        "    # For each word in the vocabulary...\n",
        "    for word in vocab:\n",
        "        # get the positive and negative frequency of the word\n",
        "        freq_pos = freqs.get((word,1),0)\n",
        "        freq_neu = freqs.get((word,0),0)\n",
        "        freq_neg = freqs.get((word,-1),0)\n",
        "        \n",
        "\n",
        "        # calculate the probability that each word is positive, and negative , neutral\n",
        "        p_w_pos = (freq_pos + 1) / (N_pos + V)\n",
        "        p_w_neu = (freq_neu + 1) / (N_neu + V)\n",
        "        p_w_neg = (freq_neg + 1) / (N_neg + V)\n",
        "\n",
        "        # calculate the log likelihood of the word\n",
        "        likelihood[word] = [np.log(p_w_neg),np.log(p_w_neu),np.log(p_w_pos)] \n",
        "\n",
        "    ### END CODE HERE ###\n",
        "\n",
        "    return likelihood\n"
      ],
      "execution_count": null,
      "outputs": []
    },
    {
      "cell_type": "markdown",
      "metadata": {
        "id": "979YqX9ruvJl"
      },
      "source": [
        "# Hàm Training:"
      ]
    },
    {
      "cell_type": "code",
      "metadata": {
        "id": "JXinCQUruUy9"
      },
      "source": [
        "def Training_Extracted_Sentiment(train_X_df,train_y_ex):\n",
        "  preprocessed_train_X= preprocess_tweets(train_X_df)\n",
        "  freqs_tw = count_tweets(preprocessed_train_X)\n",
        "  likelihood = naive_bayes(freqs_tw,preprocessed_train_X)\n",
        "  return preprocessed_train_X,freqs_tw,likelihood"
      ],
      "execution_count": null,
      "outputs": []
    },
    {
      "cell_type": "code",
      "metadata": {
        "id": "Pp8UDSZ2yZI3"
      },
      "source": [
        "preprocessed_train_X,freqs_tw,likelihood = Training_Extracted_Sentiment(train_X_df,train_y_ex)"
      ],
      "execution_count": null,
      "outputs": []
    },
    {
      "cell_type": "code",
      "metadata": {
        "id": "cX-zuE3nyleR",
        "colab": {
          "base_uri": "https://localhost:8080/",
          "height": 174
        },
        "outputId": "1db30cab-2ae7-4ae5-bc58-9a5f4610daac"
      },
      "source": [
        "preprocessed_train_X.head(3)"
      ],
      "execution_count": null,
      "outputs": [
        {
          "output_type": "execute_result",
          "data": {
            "text/html": [
              "<div>\n",
              "<style scoped>\n",
              "    .dataframe tbody tr th:only-of-type {\n",
              "        vertical-align: middle;\n",
              "    }\n",
              "\n",
              "    .dataframe tbody tr th {\n",
              "        vertical-align: top;\n",
              "    }\n",
              "\n",
              "    .dataframe thead th {\n",
              "        text-align: right;\n",
              "    }\n",
              "</style>\n",
              "<table border=\"1\" class=\"dataframe\">\n",
              "  <thead>\n",
              "    <tr style=\"text-align: right;\">\n",
              "      <th></th>\n",
              "      <th>textID</th>\n",
              "      <th>index2word</th>\n",
              "      <th>preprocessed_texts</th>\n",
              "      <th>sentiment</th>\n",
              "    </tr>\n",
              "  </thead>\n",
              "  <tbody>\n",
              "    <tr>\n",
              "      <th>652</th>\n",
              "      <td>a834cef9c6</td>\n",
              "      <td>{0: '1st', 1: 'presentation', 2: 'for', 3: 'senior', 4: 'boards?', 5: 'FML'}</td>\n",
              "      <td>{0: '1st', 1: 'present', 2: 'for', 3: 'senior', 4: 'board', 5: 'ml'}</td>\n",
              "      <td>-1</td>\n",
              "    </tr>\n",
              "    <tr>\n",
              "      <th>24883</th>\n",
              "      <td>5bfad683d5</td>\n",
              "      <td>{0: 'yummy', 1: 'curry', 2: 'save', 3: 'me', 4: 'some', 5: 'please', 6: 'lol'}</td>\n",
              "      <td>{0: 'summit', 1: 'curry', 2: 'save', 3: 'me', 4: 'some', 5: 'pleas', 6: 'lol'}</td>\n",
              "      <td>1</td>\n",
              "    </tr>\n",
              "    <tr>\n",
              "      <th>15385</th>\n",
              "      <td>08a8d660b1</td>\n",
              "      <td>{0: 'I', 1: 'wish', 2: 'I', 3: 'knew', 4: 'someone', 5: 'down', 6: 'there', 7: 'who', 8: 'could', 9: 'hook', 10: 'us', 11: 'up.', 12: 'a', 13: 'friend', 14: 'told', 15: 'me', 16: 'once', 17: 'that...</td>\n",
              "      <td>{0: 'i', 1: 'wish', 2: 'i', 3: 'knew', 4: 'someone', 5: 'down', 6: 'there', 7: 'who', 8: 'could', 9: 'hook', 10: 'us', 11: 'up', 12: 'a', 13: 'friend', 14: 'told', 15: 'me', 16: 'on', 17: 'that', ...</td>\n",
              "      <td>-1</td>\n",
              "    </tr>\n",
              "  </tbody>\n",
              "</table>\n",
              "</div>"
            ],
            "text/plain": [
              "           textID  ... sentiment\n",
              "652    a834cef9c6  ...        -1\n",
              "24883  5bfad683d5  ...         1\n",
              "15385  08a8d660b1  ...        -1\n",
              "\n",
              "[3 rows x 4 columns]"
            ]
          },
          "metadata": {},
          "execution_count": 24
        }
      ]
    },
    {
      "cell_type": "markdown",
      "metadata": {
        "id": "WyDvMUVCH0iN"
      },
      "source": [
        "#Rút trích Text"
      ]
    },
    {
      "cell_type": "code",
      "metadata": {
        "id": "mZM7jF5OHm9_"
      },
      "source": [
        "def Extract_Sentiment_Tweet(y,tweet,likelihood):\n",
        "    '''input:\n",
        "        tweet: list of word'''\n",
        "    selected_tweet = []\n",
        "    s = y +1\n",
        "    for word in tweet:\n",
        "      if likelihood.get(word,0)!=0:\n",
        "            if max(likelihood[word]) == likelihood[word][s] and abs((abs(max(likelihood[word])) - abs(min(likelihood[word]))))>0.2:\n",
        "                max(likelihood[word]) \n",
        "                selected_tweet.append(word)\n",
        "                \n",
        "    return selected_tweet"
      ],
      "execution_count": null,
      "outputs": []
    },
    {
      "cell_type": "code",
      "metadata": {
        "id": "8YJiRO74H4Ff"
      },
      "source": [
        "def jaccard(str1, str2): \n",
        "    a = set(str1.lower().split()) \n",
        "    b = set(str2.lower().split())\n",
        "    c = a.intersection(b)\n",
        "    return float(len(c)) / (len(a) + len(b) - len(c))"
      ],
      "execution_count": null,
      "outputs": []
    },
    {
      "cell_type": "code",
      "metadata": {
        "id": "7KYCc10_is5S"
      },
      "source": [
        "def Predict_Extract_text(Preprocessed_X,likelihood):\n",
        "    selected = []\n",
        "    preprocessed_X = Preprocessed_X.copy()\n",
        "    y_s = preprocessed_X.sentiment.to_list()\n",
        "    preprocessed_tweets = preprocessed_X.preprocessed_texts.to_list()\n",
        "    tweets = [list(text.values()) for text in preprocessed_tweets ]\n",
        "    for y, tweet in zip(y_s,tweets):\n",
        "        selected_predict = Extract_Sentiment_Tweet(y,tweet,likelihood)\n",
        "        selected.append(selected_predict)\n",
        "    return selected"
      ],
      "execution_count": null,
      "outputs": []
    },
    {
      "cell_type": "code",
      "metadata": {
        "id": "ltJeV86j4W80",
        "colab": {
          "base_uri": "https://localhost:8080/"
        },
        "outputId": "bf46bc10-b842-4f54-dd0f-bbb62a63678a"
      },
      "source": [
        "Predict_Extract_text(preprocessed_train_X,likelihood)[0:5]"
      ],
      "execution_count": null,
      "outputs": [
        {
          "output_type": "execute_result",
          "data": {
            "text/plain": [
              "[['senior', 'board', 'ml'],\n",
              " ['curry', 'save', 'pleas'],\n",
              " ['i',\n",
              "  'i',\n",
              "  'someone',\n",
              "  'down',\n",
              "  'who',\n",
              "  'hook',\n",
              "  'told',\n",
              "  'me',\n",
              "  'that',\n",
              "  'crappy',\n",
              "  'seat',\n",
              "  'chi'],\n",
              " ['u', 'in', 'rain'],\n",
              " ['into']]"
            ]
          },
          "metadata": {},
          "execution_count": 28
        }
      ]
    },
    {
      "cell_type": "code",
      "metadata": {
        "id": "U6-tNB7fzPYp"
      },
      "source": [
        "def Map_Extracted(Preprocessed_X,likelihood):\n",
        "  extracted_text = Predict_Extract_text(Preprocessed_X,likelihood)\n",
        "  index2word = Preprocessed_X.index2word.to_list()\n",
        "  preprocessed_texts = Preprocessed_X.preprocessed_texts.to_list()\n",
        "  Selected_text = []\n",
        "  for e,i,p in zip(extracted_text,index2word,preprocessed_texts):\n",
        "    Text = {}\n",
        "    for j in p.items():\n",
        "      for w in e:\n",
        "        if w == j[1]:\n",
        "          Text[j[0]] = i[j[0]]\n",
        "          \n",
        "    Selected_text.append(\" \".join(list(Text.values())))\n",
        "\n",
        "  return Selected_text"
      ],
      "execution_count": null,
      "outputs": []
    },
    {
      "cell_type": "code",
      "metadata": {
        "id": "ZmUfH3K_5Vpe",
        "colab": {
          "base_uri": "https://localhost:8080/"
        },
        "outputId": "0a889329-3d21-4498-f012-fea67768ce54"
      },
      "source": [
        "Map_Extracted(preprocessed_train_X,likelihood)[0:5]"
      ],
      "execution_count": null,
      "outputs": [
        {
          "output_type": "execute_result",
          "data": {
            "text/plain": [
              "['senior boards? FML',\n",
              " 'curry save please',\n",
              " 'I I someone down who hook told me that crappy seats CHI',\n",
              " 'u in rain...',\n",
              " 'into']"
            ]
          },
          "metadata": {},
          "execution_count": 30
        }
      ]
    },
    {
      "cell_type": "code",
      "metadata": {
        "id": "ZNR_uhJcH5WD"
      },
      "source": [
        "def Score_Predict_Extract(Preprocessed_X,likelihood,y_ex):\n",
        "    score = 0\n",
        "    predict_selected = Map_Extracted(Preprocessed_X,likelihood)\n",
        "    y_true_s = y_ex.copy().to_list()\n",
        "    for y_pred, y_true in zip(predict_selected,y_true_s):\n",
        "        score += jaccard(str(y_true),y_pred)\n",
        "    return score/len(y_true_s)\n",
        "    "
      ],
      "execution_count": null,
      "outputs": []
    },
    {
      "cell_type": "code",
      "metadata": {
        "id": "gMGAQVOHH7Fp",
        "colab": {
          "base_uri": "https://localhost:8080/"
        },
        "outputId": "efe346f0-a182-4183-8294-843b9d5992bd"
      },
      "source": [
        "score = Score_Predict_Extract(preprocessed_train_X,likelihood,train_y_ex)\n",
        "score"
      ],
      "execution_count": null,
      "outputs": [
        {
          "output_type": "execute_result",
          "data": {
            "text/plain": [
              "0.3330911277173726"
            ]
          },
          "metadata": {},
          "execution_count": 32
        }
      ]
    },
    {
      "cell_type": "code",
      "metadata": {
        "id": "UojDJP6q83t0"
      },
      "source": [
        "preprocessed_val_X = preprocess_tweets(val_X_df)"
      ],
      "execution_count": null,
      "outputs": []
    },
    {
      "cell_type": "code",
      "metadata": {
        "id": "3sHl0gJB8n0l",
        "colab": {
          "base_uri": "https://localhost:8080/"
        },
        "outputId": "c97661d0-4b9a-4897-8e9e-3815494dae23"
      },
      "source": [
        "score_val = Score_Predict_Extract(preprocessed_val_X,likelihood,val_y_ex)\n",
        "score_val"
      ],
      "execution_count": null,
      "outputs": [
        {
          "output_type": "execute_result",
          "data": {
            "text/plain": [
              "0.30876114206015814"
            ]
          },
          "metadata": {},
          "execution_count": 34
        }
      ]
    },
    {
      "cell_type": "markdown",
      "metadata": {
        "id": "a3JfwoSuHt1N"
      },
      "source": [
        "# Huấn luyện trên cả Train và Val"
      ]
    },
    {
      "cell_type": "code",
      "metadata": {
        "id": "8nTeUW7F9mfA"
      },
      "source": [
        "preprocessed_full_X,freqs_tw_full,likelihood_full = Training_Extracted_Sentiment(X_df,y_ex)"
      ],
      "execution_count": null,
      "outputs": []
    },
    {
      "cell_type": "code",
      "metadata": {
        "id": "V6eHXmSZ96ft",
        "colab": {
          "base_uri": "https://localhost:8080/"
        },
        "outputId": "d3b381b2-ac53-4cff-f46e-43404bde8782"
      },
      "source": [
        "score_full = Score_Predict_Extract(preprocessed_full_X,likelihood_full,y_ex)\n",
        "score_full"
      ],
      "execution_count": null,
      "outputs": [
        {
          "output_type": "execute_result",
          "data": {
            "text/plain": [
              "0.33062054918341494"
            ]
          },
          "metadata": {},
          "execution_count": 36
        }
      ]
    },
    {
      "cell_type": "code",
      "metadata": {
        "id": "wDGP8wcoIYBk"
      },
      "source": [
        "# predict = pd.DataFrame(data ={'textID': df.textID,'selected_text':pd.Series(extracted_text)})\n",
        "# predict"
      ],
      "execution_count": null,
      "outputs": []
    },
    {
      "cell_type": "markdown",
      "metadata": {
        "id": "Awmo2N3rHnjO"
      },
      "source": [
        "# TEST + SUBMIT"
      ]
    },
    {
      "cell_type": "code",
      "metadata": {
        "id": "XufN9HetIxGH",
        "colab": {
          "base_uri": "https://localhost:8080/",
          "height": 415
        },
        "outputId": "f90fa64d-9f5c-4850-9eec-14eba96076fd"
      },
      "source": [
        "test_df = pd.read_csv(\"Applied-Data-Science-Group-7/test.csv\")\n",
        "test_df"
      ],
      "execution_count": null,
      "outputs": [
        {
          "output_type": "execute_result",
          "data": {
            "text/html": [
              "<div>\n",
              "<style scoped>\n",
              "    .dataframe tbody tr th:only-of-type {\n",
              "        vertical-align: middle;\n",
              "    }\n",
              "\n",
              "    .dataframe tbody tr th {\n",
              "        vertical-align: top;\n",
              "    }\n",
              "\n",
              "    .dataframe thead th {\n",
              "        text-align: right;\n",
              "    }\n",
              "</style>\n",
              "<table border=\"1\" class=\"dataframe\">\n",
              "  <thead>\n",
              "    <tr style=\"text-align: right;\">\n",
              "      <th></th>\n",
              "      <th>textID</th>\n",
              "      <th>text</th>\n",
              "      <th>sentiment</th>\n",
              "    </tr>\n",
              "  </thead>\n",
              "  <tbody>\n",
              "    <tr>\n",
              "      <th>0</th>\n",
              "      <td>f87dea47db</td>\n",
              "      <td>Last session of the day  http://twitpic.com/67ezh</td>\n",
              "      <td>neutral</td>\n",
              "    </tr>\n",
              "    <tr>\n",
              "      <th>1</th>\n",
              "      <td>96d74cb729</td>\n",
              "      <td>Shanghai is also really exciting (precisely -- skyscrapers galore). Good tweeps in China:  (SH)  (BJ).</td>\n",
              "      <td>positive</td>\n",
              "    </tr>\n",
              "    <tr>\n",
              "      <th>2</th>\n",
              "      <td>eee518ae67</td>\n",
              "      <td>Recession hit Veronique Branquinho, she has to quit her company, such a shame!</td>\n",
              "      <td>negative</td>\n",
              "    </tr>\n",
              "    <tr>\n",
              "      <th>3</th>\n",
              "      <td>01082688c6</td>\n",
              "      <td>happy bday!</td>\n",
              "      <td>positive</td>\n",
              "    </tr>\n",
              "    <tr>\n",
              "      <th>4</th>\n",
              "      <td>33987a8ee5</td>\n",
              "      <td>http://twitpic.com/4w75p - I like it!!</td>\n",
              "      <td>positive</td>\n",
              "    </tr>\n",
              "    <tr>\n",
              "      <th>...</th>\n",
              "      <td>...</td>\n",
              "      <td>...</td>\n",
              "      <td>...</td>\n",
              "    </tr>\n",
              "    <tr>\n",
              "      <th>3529</th>\n",
              "      <td>e5f0e6ef4b</td>\n",
              "      <td>its at 3 am, im very tired but i can`t sleep  but i try it</td>\n",
              "      <td>negative</td>\n",
              "    </tr>\n",
              "    <tr>\n",
              "      <th>3530</th>\n",
              "      <td>416863ce47</td>\n",
              "      <td>All alone in this old house again.  Thanks for the net which keeps me alive and kicking! Whoever invented the net, i wanna kiss your hair!</td>\n",
              "      <td>positive</td>\n",
              "    </tr>\n",
              "    <tr>\n",
              "      <th>3531</th>\n",
              "      <td>6332da480c</td>\n",
              "      <td>I know what you mean. My little dog is sinking into depression... he wants to move someplace tropical</td>\n",
              "      <td>negative</td>\n",
              "    </tr>\n",
              "    <tr>\n",
              "      <th>3532</th>\n",
              "      <td>df1baec676</td>\n",
              "      <td>_sutra what is your next youtube video gonna be about? I love your videos!</td>\n",
              "      <td>positive</td>\n",
              "    </tr>\n",
              "    <tr>\n",
              "      <th>3533</th>\n",
              "      <td>469e15c5a8</td>\n",
              "      <td>http://twitpic.com/4woj2 - omgssh  ang cute ng bby.!</td>\n",
              "      <td>positive</td>\n",
              "    </tr>\n",
              "  </tbody>\n",
              "</table>\n",
              "<p>3534 rows × 3 columns</p>\n",
              "</div>"
            ],
            "text/plain": [
              "          textID  ... sentiment\n",
              "0     f87dea47db  ...   neutral\n",
              "1     96d74cb729  ...  positive\n",
              "2     eee518ae67  ...  negative\n",
              "3     01082688c6  ...  positive\n",
              "4     33987a8ee5  ...  positive\n",
              "...          ...  ...       ...\n",
              "3529  e5f0e6ef4b  ...  negative\n",
              "3530  416863ce47  ...  positive\n",
              "3531  6332da480c  ...  negative\n",
              "3532  df1baec676  ...  positive\n",
              "3533  469e15c5a8  ...  positive\n",
              "\n",
              "[3534 rows x 3 columns]"
            ]
          },
          "metadata": {},
          "execution_count": 38
        }
      ]
    },
    {
      "cell_type": "code",
      "metadata": {
        "id": "VpQpgE02c8D-"
      },
      "source": [
        "test_preprocessed = preprocess_tweets(test_df)"
      ],
      "execution_count": null,
      "outputs": []
    },
    {
      "cell_type": "code",
      "metadata": {
        "id": "bJneRcXFArts",
        "colab": {
          "base_uri": "https://localhost:8080/"
        },
        "outputId": "110db782-38d4-49a0-f8f5-188806d35ef0"
      },
      "source": [
        "preds_extracted_text = Map_Extracted(test_preprocessed,likelihood_full)\n",
        "preds_extracted_text[0:5]"
      ],
      "execution_count": null,
      "outputs": [
        {
          "output_type": "execute_result",
          "data": {
            "text/plain": [
              "['Last http://twitpic.com/67ezh',\n",
              " 'also exciting (precisely -- galore). Good tweeps China:',\n",
              " 'Recession hit Veronique she has her such shame!',\n",
              " 'happy bday!',\n",
              " '-']"
            ]
          },
          "metadata": {},
          "execution_count": 40
        }
      ]
    },
    {
      "cell_type": "code",
      "metadata": {
        "id": "sslXkjbgBLvR"
      },
      "source": [
        "submission_df = pd.DataFrame(data = {'textID': test_df.textID,'selected_text':pd.Series(preds_extracted_text)})"
      ],
      "execution_count": null,
      "outputs": []
    },
    {
      "cell_type": "code",
      "metadata": {
        "id": "7Mjz4hTzB_k7"
      },
      "source": [
        "submission_df.to_csv(\"submission.csv\", index=False)"
      ],
      "execution_count": null,
      "outputs": []
    },
    {
      "cell_type": "code",
      "metadata": {
        "id": "a7LoVoDtCRbl",
        "colab": {
          "base_uri": "https://localhost:8080/",
          "height": 202
        },
        "outputId": "f3c43fc2-4a71-4299-f94a-40b9fe788d3f"
      },
      "source": [
        "submission_df.head(5)"
      ],
      "execution_count": null,
      "outputs": [
        {
          "output_type": "execute_result",
          "data": {
            "text/html": [
              "<div>\n",
              "<style scoped>\n",
              "    .dataframe tbody tr th:only-of-type {\n",
              "        vertical-align: middle;\n",
              "    }\n",
              "\n",
              "    .dataframe tbody tr th {\n",
              "        vertical-align: top;\n",
              "    }\n",
              "\n",
              "    .dataframe thead th {\n",
              "        text-align: right;\n",
              "    }\n",
              "</style>\n",
              "<table border=\"1\" class=\"dataframe\">\n",
              "  <thead>\n",
              "    <tr style=\"text-align: right;\">\n",
              "      <th></th>\n",
              "      <th>textID</th>\n",
              "      <th>selected_text</th>\n",
              "    </tr>\n",
              "  </thead>\n",
              "  <tbody>\n",
              "    <tr>\n",
              "      <th>0</th>\n",
              "      <td>f87dea47db</td>\n",
              "      <td>Last http://twitpic.com/67ezh</td>\n",
              "    </tr>\n",
              "    <tr>\n",
              "      <th>1</th>\n",
              "      <td>96d74cb729</td>\n",
              "      <td>also exciting (precisely -- galore). Good tweeps China:</td>\n",
              "    </tr>\n",
              "    <tr>\n",
              "      <th>2</th>\n",
              "      <td>eee518ae67</td>\n",
              "      <td>Recession hit Veronique she has her such shame!</td>\n",
              "    </tr>\n",
              "    <tr>\n",
              "      <th>3</th>\n",
              "      <td>01082688c6</td>\n",
              "      <td>happy bday!</td>\n",
              "    </tr>\n",
              "    <tr>\n",
              "      <th>4</th>\n",
              "      <td>33987a8ee5</td>\n",
              "      <td>-</td>\n",
              "    </tr>\n",
              "  </tbody>\n",
              "</table>\n",
              "</div>"
            ],
            "text/plain": [
              "       textID                                            selected_text\n",
              "0  f87dea47db                            Last http://twitpic.com/67ezh\n",
              "1  96d74cb729  also exciting (precisely -- galore). Good tweeps China:\n",
              "2  eee518ae67          Recession hit Veronique she has her such shame!\n",
              "3  01082688c6                                              happy bday!\n",
              "4  33987a8ee5                                                        -"
            ]
          },
          "metadata": {},
          "execution_count": 43
        }
      ]
    },
    {
      "cell_type": "code",
      "metadata": {
        "id": "748HoWVLjI7A"
      },
      "source": [
        "# y_test = test_df.sentiment.map({'positive':1,'neutral':0,'negative':-1}).to_list()\n",
        "# tweets_test = test_df.text.to_list()"
      ],
      "execution_count": null,
      "outputs": []
    },
    {
      "cell_type": "code",
      "metadata": {
        "id": "4nb9UUZEjye3"
      },
      "source": [
        "#Extract_text(y_test,preprocessing(tweets_test),likelihood)"
      ],
      "execution_count": null,
      "outputs": []
    },
    {
      "cell_type": "code",
      "metadata": {
        "id": "yP047fdyjBS3"
      },
      "source": [
        "# submission = pd.DataFrame(data ={'textID': test_df.textID,'selected_text':pd.Series(extracted_text)})\n",
        "# predict"
      ],
      "execution_count": null,
      "outputs": []
    },
    {
      "cell_type": "code",
      "metadata": {
        "id": "70mBcqQddVpy"
      },
      "source": [
        ""
      ],
      "execution_count": null,
      "outputs": []
    }
  ]
}