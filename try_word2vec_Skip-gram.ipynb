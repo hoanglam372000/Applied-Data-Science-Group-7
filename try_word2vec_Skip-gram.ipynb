{
  "cells": [
    {
      "cell_type": "markdown",
      "metadata": {
        "id": "view-in-github",
        "colab_type": "text"
      },
      "source": [
        "<a href=\"https://colab.research.google.com/github/hoanglam372000/Applied-Data-Science-Group-7/blob/nguyenthiman/try_word2vec_Skip-gram.ipynb\" target=\"_parent\"><img src=\"https://colab.research.google.com/assets/colab-badge.svg\" alt=\"Open In Colab\"/></a>"
      ]
    },
    {
      "cell_type": "markdown",
      "metadata": {
        "id": "F4PnOCchUmrY"
      },
      "source": [
        "# Báo cáo đồ án môn \"Khoa học dữ liệu ứng dụng\"\n",
        "\n",
        "Nhóm 7:\n",
        "1. 18120429 – Phạm Trung Kiên - trungkien2000\n",
        "2. 18120431 – A Ly Ha Kim - kim-ali\n",
        "3. 18120434 – Thái Hoàng Lâm - hoanglam372000\n",
        "4. 18120462 – Nguyễn Thị Mận - ManCB26\n",
        "Link thùng chứa Github của nhóm:\n",
        "https://colab.research.google.com/github/hoanglam372000/Applied-Data-Science-Group-7"
      ],
      "id": "F4PnOCchUmrY"
    },
    {
      "cell_type": "markdown",
      "metadata": {
        "id": "buOs0j5cul30"
      },
      "source": [
        "# I. Mô tả bài toán: \n",
        "## 1. Mô tả:\n",
        "Link: https://www.kaggle.com/c/tweet-sentiment-extraction \\\n",
        "\n",
        "- Bài toán thuộc lĩnh vực NLP, cụ thể là bài toán phân tích cảm xúc (Sentiment Analysis)\n",
        "- Không giống như những bài toán phân tích cảm xúc khác chỉ dừng ở việc phân lớp, bài toán yêu cầu phải rút trích những từ ngữ trong câu đóng góp cho cảm xúc tương ứng.\n",
        "- Ví dụ: \"I am happy\": positive -> \"happy\" \\\n",
        "\n",
        "## 2. Hướng giải quyết của nhóm \n",
        "Ban đầu nhóm định theo hướng giải quyết của người đứng hạng 3 trên private leaderboard, đó là sử dụng RoBerta. Tuy nhiên, với trình độ hiện tại của các bạn trong nhóm thì phương pháp này đang vượt quá tầm với vì vậy phương hướng tiếp cận của nhóm đã vẽ ra như sau:\n",
        "\n",
        "- Nhóm tiến hành giải bài toán theo cách riêng của nhóm: Học thống kê \\\n",
        "- Sau khi ra kết quả training, nếu chưa đạt được kết quả nằm trong top 20 của private leaderboard, thì nhóm sẽ tiếp tục tiếp cận dần các phương pháp Deep learning \\\n",
        "- Sau cùng, nếu vẫn chưa đạt được kết quả khả quan với những kiến thức deep learning đã học, nhóm sẽ tiến hành giải tiếp bài toán theo phương pháp của hạng 3 (lúc này các thành viên đã đủ kiến thức)\n",
        "\n",
        "\n"
      ],
      "id": "buOs0j5cul30"
    },
    {
      "cell_type": "markdown",
      "metadata": {
        "id": "k4Sq7RjgxK20"
      },
      "source": [
        "# II. Giải quyết bài toán và cài đặt:"
      ],
      "id": "k4Sq7RjgxK20"
    },
    {
      "cell_type": "markdown",
      "metadata": {
        "id": "N_ulm98oBHzT"
      },
      "source": [
        "# 1. Học dựa trên thống kê\n",
        "\n",
        "- Tiền xử lý và khám phá dữ liệu\n",
        "- Xây dựng từ điển tần suất theo sentiment\n",
        "- Xây dựng Bag-of-word theo xác suất Naive-Bayes\n",
        "- Trích text bằng likelihood của bước trên và ước lượng ngưỡng\n",
        "- Ánh xạ text đã rút trích về nguyên mẫu của từng từ trong text (đề yêu cầu)\n",
        "- Đánh giá bằng độ đo Jaccard Similarity\n",
        "- Tunning trên tập val để tìm siêu tham số tốt nhất\n",
        "- Dự đoán rút trích trên tập test\n",
        " "
      ],
      "id": "N_ulm98oBHzT"
    },
    {
      "cell_type": "markdown",
      "metadata": {
        "id": "lvBSxcg5B1Jv"
      },
      "source": [
        "### 1.1 Lấy dữ liệu, Khám phá và tiền xử lý:"
      ],
      "id": "lvBSxcg5B1Jv"
    },
    {
      "cell_type": "markdown",
      "metadata": {
        "id": "8Weea1SUCBmz"
      },
      "source": [
        "#### 1.1.1 Thư viện:"
      ],
      "id": "8Weea1SUCBmz"
    },
    {
      "cell_type": "code",
      "execution_count": null,
      "metadata": {
        "colab": {
          "base_uri": "https://localhost:8080/"
        },
        "id": "b0c2dbd1",
        "outputId": "be5edaa2-72dd-4d21-f64f-de89060a18a4"
      },
      "outputs": [
        {
          "output_type": "stream",
          "name": "stdout",
          "text": [
            "fatal: destination path 'Applied-Data-Science-Group-7' already exists and is not an empty directory.\n"
          ]
        }
      ],
      "source": [
        "!git clone https://github.com/hoanglam372000/Applied-Data-Science-Group-7.git"
      ],
      "id": "b0c2dbd1"
    },
    {
      "cell_type": "code",
      "execution_count": null,
      "metadata": {
        "colab": {
          "base_uri": "https://localhost:8080/"
        },
        "id": "eff8fbcf",
        "outputId": "7acb1472-10f0-4871-9e46-995314e6a0af"
      },
      "outputs": [
        {
          "output_type": "stream",
          "name": "stdout",
          "text": [
            "Requirement already satisfied: emoji in /usr/local/lib/python3.7/dist-packages (1.6.1)\n",
            "Requirement already satisfied: pyenchant in /usr/local/lib/python3.7/dist-packages (3.2.2)\n"
          ]
        }
      ],
      "source": [
        "!pip install emoji\n",
        "!pip install pyenchant\n",
        "#!pip install pycontractions"
      ],
      "id": "eff8fbcf"
    },
    {
      "cell_type": "code",
      "execution_count": null,
      "metadata": {
        "colab": {
          "base_uri": "https://localhost:8080/"
        },
        "id": "9b92498d",
        "outputId": "cbf444e2-4dcb-441d-ab54-06ed4cebb5c5"
      },
      "outputs": [
        {
          "output_type": "stream",
          "name": "stdout",
          "text": [
            "[nltk_data] Downloading package punkt to /root/nltk_data...\n",
            "[nltk_data]   Package punkt is already up-to-date!\n",
            "[nltk_data] Downloading package wordnet to /root/nltk_data...\n",
            "[nltk_data]   Package wordnet is already up-to-date!\n",
            "[nltk_data] Downloading package averaged_perceptron_tagger to\n",
            "[nltk_data]     /root/nltk_data...\n",
            "[nltk_data]   Package averaged_perceptron_tagger is already up-to-\n",
            "[nltk_data]       date!\n",
            "[nltk_data] Downloading package names to /root/nltk_data...\n",
            "[nltk_data]   Package names is already up-to-date!\n"
          ]
        }
      ],
      "source": [
        "import math\n",
        "import pandas as pd\n",
        "import nltk\n",
        "import numpy as np\n",
        "import emoji\n",
        "#import contractions\n",
        "import re\n",
        "import string\n",
        "from nltk.stem import PorterStemmer\n",
        "from nltk.tokenize import TweetTokenizer\n",
        "from sklearn.model_selection import train_test_split\n",
        "from sklearn.preprocessing import OneHotEncoder, StandardScaler\n",
        "from sklearn.impute import SimpleImputer\n",
        "from sklearn.base import BaseEstimator, TransformerMixin\n",
        "from sklearn.pipeline import Pipeline, make_pipeline\n",
        "from sklearn.compose import ColumnTransformer, make_column_transformer\n",
        "from sklearn.feature_extraction.text import TfidfVectorizer\n",
        "from sklearn.svm import SVC\n",
        "from sklearn.ensemble import RandomForestClassifier\n",
        "import scipy.stats as st\n",
        "import matplotlib.pyplot as plt\n",
        "import nltk\n",
        "from nltk.corpus import wordnet\n",
        "from nltk.corpus import stopwords\n",
        "from tensorflow.keras.preprocessing.text import Tokenizer\n",
        "from tensorflow.keras.preprocessing.sequence import pad_sequences\n",
        "import tensorflow as tf\n",
        "from keras.layers import *\n",
        "from keras.models import Model\n",
        "from keras.callbacks import ModelCheckpoint\n",
        "#print(stopwords.words('english'))\n",
        "pd.set_option('display.max_colwidth', 200)\n",
        "nltk.download('punkt')\n",
        "nltk.download('wordnet')\n",
        "nltk.download('averaged_perceptron_tagger')\n",
        "nltk.download('names')\n",
        "names = nltk.corpus.names.words('male.txt')+nltk.corpus.names.words('female.txt')\n",
        "names_lower = [name.lower() for name in names]"
      ],
      "id": "9b92498d"
    },
    {
      "cell_type": "code",
      "execution_count": null,
      "metadata": {
        "colab": {
          "base_uri": "https://localhost:8080/"
        },
        "id": "sK7e9Cf_q-AD",
        "outputId": "944449d0-8f35-45a7-fa8f-c4c1ae8b6def"
      },
      "outputs": [
        {
          "output_type": "stream",
          "name": "stdout",
          "text": [
            "Requirement already satisfied: afinn in /usr/local/lib/python3.7/dist-packages (0.1)\n"
          ]
        }
      ],
      "source": [
        "!pip install afinn"
      ],
      "id": "sK7e9Cf_q-AD"
    },
    {
      "cell_type": "code",
      "execution_count": null,
      "metadata": {
        "id": "m2inlf1hrDkj"
      },
      "outputs": [],
      "source": [
        "from afinn import Afinn\n",
        "afinn = Afinn(language='en')"
      ],
      "id": "m2inlf1hrDkj"
    },
    {
      "cell_type": "markdown",
      "metadata": {
        "id": "qLIRG_m1CdvD"
      },
      "source": [
        "#### 1.1.2 Khám phá dữ liệu"
      ],
      "id": "qLIRG_m1CdvD"
    },
    {
      "cell_type": "code",
      "execution_count": null,
      "metadata": {
        "id": "cae6a810"
      },
      "outputs": [],
      "source": [
        "df = pd.read_csv('Applied-Data-Science-Group-7/train.csv')"
      ],
      "id": "cae6a810"
    },
    {
      "cell_type": "code",
      "execution_count": null,
      "metadata": {
        "colab": {
          "base_uri": "https://localhost:8080/"
        },
        "id": "004d834b",
        "outputId": "cc387fcc-3e88-464a-e35d-7858e6ebff6c"
      },
      "outputs": [
        {
          "output_type": "execute_result",
          "data": {
            "text/html": [
              "<div>\n",
              "<style scoped>\n",
              "    .dataframe tbody tr th:only-of-type {\n",
              "        vertical-align: middle;\n",
              "    }\n",
              "\n",
              "    .dataframe tbody tr th {\n",
              "        vertical-align: top;\n",
              "    }\n",
              "\n",
              "    .dataframe thead th {\n",
              "        text-align: right;\n",
              "    }\n",
              "</style>\n",
              "<table border=\"1\" class=\"dataframe\">\n",
              "  <thead>\n",
              "    <tr style=\"text-align: right;\">\n",
              "      <th></th>\n",
              "      <th>textID</th>\n",
              "      <th>text</th>\n",
              "      <th>selected_text</th>\n",
              "      <th>sentiment</th>\n",
              "    </tr>\n",
              "  </thead>\n",
              "  <tbody>\n",
              "    <tr>\n",
              "      <th>0</th>\n",
              "      <td>cb774db0d1</td>\n",
              "      <td>I`d have responded, if I were going</td>\n",
              "      <td>I`d have responded, if I were going</td>\n",
              "      <td>neutral</td>\n",
              "    </tr>\n",
              "    <tr>\n",
              "      <th>1</th>\n",
              "      <td>549e992a42</td>\n",
              "      <td>Sooo SAD I will miss you here in San Diego!!!</td>\n",
              "      <td>Sooo SAD</td>\n",
              "      <td>negative</td>\n",
              "    </tr>\n",
              "    <tr>\n",
              "      <th>2</th>\n",
              "      <td>088c60f138</td>\n",
              "      <td>my boss is bullying me...</td>\n",
              "      <td>bullying me</td>\n",
              "      <td>negative</td>\n",
              "    </tr>\n",
              "    <tr>\n",
              "      <th>3</th>\n",
              "      <td>9642c003ef</td>\n",
              "      <td>what interview! leave me alone</td>\n",
              "      <td>leave me alone</td>\n",
              "      <td>negative</td>\n",
              "    </tr>\n",
              "    <tr>\n",
              "      <th>4</th>\n",
              "      <td>358bd9e861</td>\n",
              "      <td>Sons of ****, why couldn`t they put them on the releases we already bought</td>\n",
              "      <td>Sons of ****,</td>\n",
              "      <td>negative</td>\n",
              "    </tr>\n",
              "    <tr>\n",
              "      <th>...</th>\n",
              "      <td>...</td>\n",
              "      <td>...</td>\n",
              "      <td>...</td>\n",
              "      <td>...</td>\n",
              "    </tr>\n",
              "    <tr>\n",
              "      <th>27476</th>\n",
              "      <td>4eac33d1c0</td>\n",
              "      <td>wish we could come see u on Denver  husband lost his job and can`t afford it</td>\n",
              "      <td>d lost</td>\n",
              "      <td>negative</td>\n",
              "    </tr>\n",
              "    <tr>\n",
              "      <th>27477</th>\n",
              "      <td>4f4c4fc327</td>\n",
              "      <td>I`ve wondered about rake to.  The client has made it clear .NET only, don`t force devs to learn a new lang  #agile #ccnet</td>\n",
              "      <td>, don`t force</td>\n",
              "      <td>negative</td>\n",
              "    </tr>\n",
              "    <tr>\n",
              "      <th>27478</th>\n",
              "      <td>f67aae2310</td>\n",
              "      <td>Yay good for both of you. Enjoy the break - you probably need it after such hectic weekend  Take care hun xxxx</td>\n",
              "      <td>Yay good for both of you.</td>\n",
              "      <td>positive</td>\n",
              "    </tr>\n",
              "    <tr>\n",
              "      <th>27479</th>\n",
              "      <td>ed167662a5</td>\n",
              "      <td>But it was worth it  ****.</td>\n",
              "      <td>But it was worth it  ****.</td>\n",
              "      <td>positive</td>\n",
              "    </tr>\n",
              "    <tr>\n",
              "      <th>27480</th>\n",
              "      <td>6f7127d9d7</td>\n",
              "      <td>All this flirting going on - The ATG smiles. Yay.  ((hugs))</td>\n",
              "      <td>All this flirting going on - The ATG smiles. Yay.  ((hugs)</td>\n",
              "      <td>neutral</td>\n",
              "    </tr>\n",
              "  </tbody>\n",
              "</table>\n",
              "<p>27481 rows × 4 columns</p>\n",
              "</div>"
            ],
            "text/plain": [
              "           textID  ... sentiment\n",
              "0      cb774db0d1  ...   neutral\n",
              "1      549e992a42  ...  negative\n",
              "2      088c60f138  ...  negative\n",
              "3      9642c003ef  ...  negative\n",
              "4      358bd9e861  ...  negative\n",
              "...           ...  ...       ...\n",
              "27476  4eac33d1c0  ...  negative\n",
              "27477  4f4c4fc327  ...  negative\n",
              "27478  f67aae2310  ...  positive\n",
              "27479  ed167662a5  ...  positive\n",
              "27480  6f7127d9d7  ...   neutral\n",
              "\n",
              "[27481 rows x 4 columns]"
            ]
          },
          "metadata": {},
          "execution_count": 7
        }
      ],
      "source": [
        "df"
      ],
      "id": "004d834b"
    },
    {
      "cell_type": "code",
      "execution_count": null,
      "metadata": {
        "colab": {
          "base_uri": "https://localhost:8080/"
        },
        "id": "33751737",
        "outputId": "f26e706c-a188-4b37-c135-91ac1aaf9f99"
      },
      "outputs": [
        {
          "output_type": "stream",
          "name": "stdout",
          "text": [
            "<class 'pandas.core.frame.DataFrame'>\n",
            "RangeIndex: 27481 entries, 0 to 27480\n",
            "Data columns (total 4 columns):\n",
            " #   Column         Non-Null Count  Dtype \n",
            "---  ------         --------------  ----- \n",
            " 0   textID         27481 non-null  object\n",
            " 1   text           27480 non-null  object\n",
            " 2   selected_text  27480 non-null  object\n",
            " 3   sentiment      27481 non-null  object\n",
            "dtypes: object(4)\n",
            "memory usage: 858.9+ KB\n"
          ]
        }
      ],
      "source": [
        "df.info()"
      ],
      "id": "33751737"
    },
    {
      "cell_type": "code",
      "execution_count": null,
      "metadata": {
        "id": "35c68f84"
      },
      "outputs": [],
      "source": [
        "df.dropna(inplace = True)"
      ],
      "id": "35c68f84"
    },
    {
      "cell_type": "code",
      "execution_count": null,
      "metadata": {
        "colab": {
          "base_uri": "https://localhost:8080/"
        },
        "id": "6639f1f6",
        "outputId": "3c560f00-3877-446b-e8b6-2d29530ae527"
      },
      "outputs": [
        {
          "output_type": "stream",
          "name": "stdout",
          "text": [
            "<class 'pandas.core.frame.DataFrame'>\n",
            "Int64Index: 27480 entries, 0 to 27480\n",
            "Data columns (total 4 columns):\n",
            " #   Column         Non-Null Count  Dtype \n",
            "---  ------         --------------  ----- \n",
            " 0   textID         27480 non-null  object\n",
            " 1   text           27480 non-null  object\n",
            " 2   selected_text  27480 non-null  object\n",
            " 3   sentiment      27480 non-null  object\n",
            "dtypes: object(4)\n",
            "memory usage: 1.0+ MB\n"
          ]
        }
      ],
      "source": [
        "df.info()"
      ],
      "id": "6639f1f6"
    },
    {
      "cell_type": "markdown",
      "metadata": {
        "id": "b6ca4fc3"
      },
      "source": [
        "#### 1.1.3 Tách tập dữ liệu"
      ],
      "id": "b6ca4fc3"
    },
    {
      "cell_type": "code",
      "execution_count": null,
      "metadata": {
        "id": "75d8621d"
      },
      "outputs": [],
      "source": [
        "# Tách tập huấn luyện và tập validation theo tỉ lệ 70%:30%\n",
        "X_df = df.drop(labels = 'selected_text',axis = 1)\n",
        "y_ex = df.selected_text\n",
        "y_class = df.sentiment\n",
        "train_X_df, val_X_df, train_y_ex, val_y_ex = train_test_split(X_df, y_ex, test_size=0.3, \n",
        "                                                              stratify=y_class, random_state=0)"
      ],
      "id": "75d8621d"
    },
    {
      "cell_type": "code",
      "execution_count": null,
      "metadata": {
        "colab": {
          "base_uri": "https://localhost:8080/"
        },
        "id": "e3af4df9",
        "outputId": "b7c9d924-a623-4dd0-ed9b-dd9490f3d9ca"
      },
      "outputs": [
        {
          "output_type": "stream",
          "name": "stdout",
          "text": [
            "train_X:  (19236, 3)\n",
            "train_y:  (19236,)\n",
            "val_X:  (8244, 3)\n",
            "val_y:  (8244,)\n"
          ]
        }
      ],
      "source": [
        "print('train_X: ',train_X_df.shape)\n",
        "print('train_y: ',train_y_ex.shape)\n",
        "print('val_X: ',val_X_df.shape)\n",
        "print('val_y: ',val_y_ex.shape)\n"
      ],
      "id": "e3af4df9"
    },
    {
      "cell_type": "markdown",
      "metadata": {
        "id": "b05a364e"
      },
      "source": [
        "### 1.2 Tiền xử lý + Khám phá tập train"
      ],
      "id": "b05a364e"
    },
    {
      "cell_type": "markdown",
      "metadata": {
        "id": "awyk6UXcC5gA"
      },
      "source": [
        "#### 1.2.1 Khám phá tập train"
      ],
      "id": "awyk6UXcC5gA"
    },
    {
      "cell_type": "code",
      "execution_count": null,
      "metadata": {
        "colab": {
          "base_uri": "https://localhost:8080/"
        },
        "id": "b5c6f4b6",
        "outputId": "b6f96c93-4e67-4faf-d313-bb136c73972f"
      },
      "outputs": [
        {
          "output_type": "display_data",
          "data": {
            "image/png": "[encoded data removed]",
            "text/plain": [
              "<Figure size 576x432 with 1 Axes>"
            ]
          },
          "metadata": {}
        }
      ],
      "source": [
        "#Phân bố của các lớp:\n",
        "train_X_df.sentiment.value_counts(normalize= True).plot(kind=\"pie\",labels = None, legend='auto', figsize=(8,6), autopct=\"%.1f%%\");"
      ],
      "id": "b5c6f4b6"
    },
    {
      "cell_type": "code",
      "execution_count": null,
      "metadata": {
        "colab": {
          "base_uri": "https://localhost:8080/"
        },
        "id": "d8e5df71",
        "outputId": "cac80e10-bc79-458e-e100-418f7112ebb3"
      },
      "outputs": [
        {
          "output_type": "stream",
          "name": "stdout",
          "text": [
            "<class 'pandas.core.frame.DataFrame'>\n",
            "Int64Index: 19236 entries, 652 to 12238\n",
            "Data columns (total 3 columns):\n",
            " #   Column     Non-Null Count  Dtype \n",
            "---  ------     --------------  ----- \n",
            " 0   textID     19236 non-null  object\n",
            " 1   text       19236 non-null  object\n",
            " 2   sentiment  19236 non-null  object\n",
            "dtypes: object(3)\n",
            "memory usage: 601.1+ KB\n"
          ]
        }
      ],
      "source": [
        "train_X_df.info()"
      ],
      "id": "d8e5df71"
    },
    {
      "cell_type": "code",
      "execution_count": null,
      "metadata": {
        "colab": {
          "base_uri": "https://localhost:8080/"
        },
        "id": "64ae1685",
        "outputId": "6c8fe063-454f-4267-e0cb-c075c49e8de3"
      },
      "outputs": [
        {
          "output_type": "execute_result",
          "data": {
            "text/plain": [
              "0"
            ]
          },
          "metadata": {},
          "execution_count": 15
        }
      ],
      "source": [
        "train_X_df.duplicated().sum()"
      ],
      "id": "64ae1685"
    },
    {
      "cell_type": "code",
      "execution_count": null,
      "metadata": {
        "colab": {
          "base_uri": "https://localhost:8080/"
        },
        "id": "76b2e318",
        "outputId": "aaa08512-e233-487a-90f8-e08256416a10"
      },
      "outputs": [
        {
          "output_type": "execute_result",
          "data": {
            "text/plain": [
              "0"
            ]
          },
          "metadata": {},
          "execution_count": 16
        }
      ],
      "source": [
        "train_y_ex.isnull().sum()"
      ],
      "id": "76b2e318"
    },
    {
      "cell_type": "markdown",
      "metadata": {
        "id": "ee0725cc"
      },
      "source": [
        "#### 1.2.2 Tiền xử lý văn bản"
      ],
      "id": "ee0725cc"
    },
    {
      "cell_type": "code",
      "execution_count": null,
      "metadata": {
        "id": "TifZy-OvUEbO"
      },
      "outputs": [],
      "source": [
        " #nltk.pos_tag(['i','am','over','the','moon'])"
      ],
      "id": "TifZy-OvUEbO"
    },
    {
      "cell_type": "code",
      "execution_count": null,
      "metadata": {
        "id": "025BPLnKOV3N"
      },
      "outputs": [],
      "source": [
        "# import enchant\n",
        "# from nltk.metrics import edit_distance\n",
        "# class SpellingReplacer(object):\n",
        "#     def __init__(self, dict_name='en', max_dist=2):\n",
        "#         self.spell_dict = enchant.Dict(dict_name)\n",
        "#         self.max_dist = max_dist\n",
        "#     def replace(self, word):\n",
        "#         if self.spell_dict.check(word):\n",
        "#             return word\n",
        "#         suggestions = self.spell_dict.suggest(word)\n",
        "#         if suggestions and edit_distance(word, suggestions[0]) <=self.max_dist:\n",
        "#             return suggestions[0]\n",
        "#         else:\n",
        "#             return word\n",
        "# replacer = SpellingReplacer()\n",
        "# replacer.replace('cookbok')"
      ],
      "id": "025BPLnKOV3N"
    },
    {
      "cell_type": "code",
      "execution_count": null,
      "metadata": {
        "id": "2cceeb36"
      },
      "outputs": [],
      "source": [
        "stemmer = PorterStemmer()\n",
        "# class xử lý vấn đề trùng ký tự trong từ, ví dụ yoooouuuu -> you, nooooo -> no.\n",
        "#sử dụng pattern của regular expression, tuy nhiên phải quét thêm qua wordnet để tránh trường hợp như từ goose bị chuyển thành gose (mặc dù goose là từ đúng)\n",
        "class RepeatReplacer(object):\n",
        "    def __init__(self):\n",
        "        self.repeat_regexp = re.compile(r'(\\w*)(\\w)\\2(\\w*)')\n",
        "        self.repl = r'\\1\\2\\3'\n",
        "    def replace(self, word):\n",
        "        if wordnet.synsets(word):\n",
        "            return word\n",
        "        repl_word = self.repeat_regexp.sub(self.repl, word)\n",
        "        if repl_word != word:\n",
        "            return self.replace(repl_word)\n",
        "        else:\n",
        "            return repl_word\n",
        "char_repeat_correct = RepeatReplacer()\n",
        "def preprocessing_word(word):\n",
        "  \n",
        "  if word != emoji.demojize(word):\n",
        "    return emoji.demojize(word)\n",
        "  #word = contractions.fix(word)\n",
        "  #word = stemmer.stem(word)\n",
        "  \n",
        "  temp=[ \"html_tag\",'URL','HIDDEN','tag',\"hash_tag\"]\n",
        "  if word in temp:\n",
        "    return word\n",
        "  #số theo từ\n",
        "  if word.isdigit():  \n",
        "    return 'NUMBER'\n",
        "  try: \n",
        "    float(word)\n",
        "    return 'NUMBER'\n",
        "  except:\n",
        "    pass\n",
        "\n",
        "\n",
        "  #word=word.lower() # viết thườngthường\n",
        "  #spell_corrector = Speller(lang='en') #sửa chính tả theo từng từ \n",
        "  #word=spell_corrector(word)\n",
        "\n",
        "  # rút gọn theo từ\n",
        "  #lemmatizer = WordNetLemmatizer()\n",
        "  #wordnet_map = {\"N\":wordnet.NOUN, \"V\":wordnet.VERB, \"J\":wordnet.ADJ, \"R\":wordnet.ADV}\n",
        "  #pos_tagged = nltk.pos_tag(word.split())\n",
        "  \n",
        "  #word = [lemmatizer.lemmatize(word, wordnet_map.get(pos[0], wordnet.NOUN)) for word, pos in pos_tagged]\n",
        "  #word = ' '.join(word)\n",
        "\n",
        "  #word=word.translate(str.maketrans('', '', string.punctuation)) # chấm câu theo từ (vì tránh emoij)\n",
        "  word = re.sub(pattern=r'[\"!\\.#$%&\\'()*+-/:;<=>@\\?\\[\\]^_`{|}~0-9ï¿½]+', repl='', string=word)\n",
        "  word = char_repeat_correct.replace(word)\n",
        "  #word = stemmer.stem(word)\n",
        "  #if (word in  names):\n",
        "   # return '<Name>'\n",
        "  word = stemmer.stem(word)\n",
        "  word = word.lower()\n",
        "  \n",
        "  if word==''or word ==' ':\n",
        "    return \"Special\"\n",
        "  \n",
        "  # if 'not' not in word and len(word.split())!=1:\n",
        "  #   return word.split()[0]+'_'\n",
        "  return word.replace(' ','_')\n",
        "\n",
        "def preprocessing_text(tweet,sentiment):\n",
        "   raw_text = str(tweet).strip().replace('\\n', ' ')#.lower()\n",
        "   # emoij\n",
        "   raw_text=emoji.demojize(raw_text)\n",
        "   e_r=r':\\w+_\\w+:'\n",
        "   emoij_list=re.findall(e_r,raw_text)\n",
        "   for e in emoij_list:\n",
        "     raw_text=raw_text.replace(e,' ' + emoji.emojize(e) + ' ') # \"hi❤️👍\"\n",
        "   if sentiment !=0: \n",
        "     raw_text = re.sub(pattern=r'(?<=\\w)(\\.){2,}?(?=\\w)', repl=' ', string=raw_text)\n",
        "   new_tweet = raw_text.split()\n",
        "   len_=len(new_tweet)\n",
        "   index2word = { w:new_tweet[w] for w in range(len_)}\n",
        "   #parser = BeautifulSoup(raw_text, \"html.parser\")\n",
        "   #raw_text = parser.get_text(separator = \"<html_tag>\")\n",
        "   raw_text = re.sub(pattern=r'https?://\\S+|www\\.\\S+', repl='URL', string=raw_text)\n",
        "   raw_text = re.sub(pattern='\\*{3,}?', repl='HIDDEN', string=raw_text)\n",
        "   raw_text = re.sub(pattern=r'@\\w+', repl='tag', string=raw_text)\n",
        "   raw_text = re.sub(pattern=r'#\\w+', repl='hash_tag', string=raw_text)\n",
        "   \n",
        "   word_list=raw_text.split()\n",
        "   return index2word,dict(zip([*range(len_)],map(preprocessing_word,word_list)))"
      ],
      "id": "2cceeb36"
    },
    {
      "cell_type": "code",
      "execution_count": null,
      "metadata": {
        "colab": {
          "base_uri": "https://localhost:8080/"
        },
        "id": "cad376e3",
        "outputId": "116af00a-f8c8-4b55-8d15-d0ac3b97db32"
      },
      "outputs": [
        {
          "output_type": "stream",
          "name": "stdout",
          "text": [
            "index2word:  {0: 'nooooooooo'}\n",
            "preprocessed_tweet:  {0: 'no'}\n"
          ]
        }
      ],
      "source": [
        "# Test:\n",
        "tweet = ' My mom just texted.......me and told *ship* James that Rodney3 charlie wasï¿½ *** chasing?? and fireflies... in their :)) backyard. Awwwww I`m miss him!!! @hoanglam 123 ://    http://twitpic.com/66pn1'\n",
        "tweet2 = 'nooooooooo'\n",
        "index2word_temp,preprocessed_tweet_temp = preprocessing_text(tweet2,1)\n",
        "print('index2word: ',index2word_temp)\n",
        "print('preprocessed_tweet: ',preprocessed_tweet_temp)"
      ],
      "id": "cad376e3"
    },
    {
      "cell_type": "code",
      "execution_count": null,
      "metadata": {
        "colab": {
          "base_uri": "https://localhost:8080/"
        },
        "id": "ii4Zq1Ik8GIf",
        "outputId": "142ee964-d4e4-415a-c1ce-70b7ba6e879a"
      },
      "outputs": [
        {
          "output_type": "execute_result",
          "data": {
            "application/vnd.google.colaboratory.intrinsic+json": {
              "type": "string"
            },
            "text/plain": [
              "':))))))'"
            ]
          },
          "metadata": {},
          "execution_count": 21
        }
      ],
      "source": [
        "char_repeat_correct.replace(':))))))')"
      ],
      "id": "ii4Zq1Ik8GIf"
    },
    {
      "cell_type": "code",
      "execution_count": null,
      "metadata": {
        "id": "49c6777d"
      },
      "outputs": [],
      "source": [
        "\n",
        "def preprocess_tweets(X_df):\n",
        "  X_df = X_df.copy()\n",
        "  raw_tweets = X_df.text.to_list()\n",
        "  X_df.sentiment = X_df.sentiment.map({'negative':-1,'neutral':0,'positive':1})\n",
        "  index2word_tweets = [] #list of dictionaries\n",
        "  preprocessed_tweets = [] #list of dictionaries\n",
        "  cleaned_texts = []\n",
        "  for tweet,senti in zip(raw_tweets,X_df.sentiment.to_list()):\n",
        "    index2word, preprocessed = preprocessing_text(tweet,senti)\n",
        "    index2word_tweets.append(index2word)\n",
        "    preprocessed_tweets.append(preprocessed)\n",
        "    cleaned_texts.append(' '.join(list(preprocessed.values())))\n",
        "  preprocessed_X_df = pd.DataFrame(data={'textID':X_df.textID,'index2word':index2word_tweets, 'preprocessed_texts':preprocessed_tweets,'sentiment':X_df.sentiment})\n",
        "  cleaned_int2text_df = pd.DataFrame(data={'textID':X_df.textID,'Raw_text':X_df.text, 'Cleaned_texts':cleaned_texts,'sentiment':X_df.sentiment})\n",
        "  return preprocessed_X_df,cleaned_int2text_df\n",
        "\n",
        "def _preprocessed_y_ex(X_df,y_ex):\n",
        "  preprocessed_y_ex = []\n",
        "  X_df = X_df.copy()\n",
        "  cleaned_texts = []\n",
        "  for tweet,senti in zip(y_ex.to_list(),X_df.sentiment.to_list()):\n",
        "      index2word, preprocessed_y = preprocessing_text(tweet,senti)\n",
        "      preprocessed_y_ex.append(preprocessed_y)\n",
        "      cleaned_texts.append(' '.join(list(preprocessed_y.values())))\n",
        "\n",
        "  X_df['sentiment'] = X_df.sentiment.map({'negative':-1,'neutral':0,'positive':1}).to_list()\n",
        "  return pd.DataFrame(data = {'preprocessed_texts': preprocessed_y_ex,'Cleaned_text': cleaned_texts,'sentiment':X_df.sentiment})\n",
        "\n"
      ],
      "id": "49c6777d"
    },
    {
      "cell_type": "code",
      "execution_count": null,
      "metadata": {
        "colab": {
          "base_uri": "https://localhost:8080/"
        },
        "id": "xPa_6PkUHBJ-",
        "outputId": "92738c5a-7e45-4240-9f92-6140a30315e7"
      },
      "outputs": [
        {
          "output_type": "execute_result",
          "data": {
            "text/html": [
              "<div>\n",
              "<style scoped>\n",
              "    .dataframe tbody tr th:only-of-type {\n",
              "        vertical-align: middle;\n",
              "    }\n",
              "\n",
              "    .dataframe tbody tr th {\n",
              "        vertical-align: top;\n",
              "    }\n",
              "\n",
              "    .dataframe thead th {\n",
              "        text-align: right;\n",
              "    }\n",
              "</style>\n",
              "<table border=\"1\" class=\"dataframe\">\n",
              "  <thead>\n",
              "    <tr style=\"text-align: right;\">\n",
              "      <th></th>\n",
              "      <th>textID</th>\n",
              "      <th>text</th>\n",
              "      <th>sentiment</th>\n",
              "    </tr>\n",
              "  </thead>\n",
              "  <tbody>\n",
              "    <tr>\n",
              "      <th>652</th>\n",
              "      <td>a834cef9c6</td>\n",
              "      <td>1st presentation for senior boards? FML</td>\n",
              "      <td>negative</td>\n",
              "    </tr>\n",
              "    <tr>\n",
              "      <th>24883</th>\n",
              "      <td>5bfad683d5</td>\n",
              "      <td>yummy curry  save me some please lol</td>\n",
              "      <td>positive</td>\n",
              "    </tr>\n",
              "    <tr>\n",
              "      <th>15385</th>\n",
              "      <td>08a8d660b1</td>\n",
              "      <td>I wish I knew someone down there who could hook us up.   a friend told me once that they got crappy seats for a show in CHI</td>\n",
              "      <td>negative</td>\n",
              "    </tr>\n",
              "    <tr>\n",
              "      <th>16753</th>\n",
              "      <td>99a0ff3bef</td>\n",
              "      <td>Lucky u Im stuck in the rain...</td>\n",
              "      <td>neutral</td>\n",
              "    </tr>\n",
              "    <tr>\n",
              "      <th>19</th>\n",
              "      <td>40e7becabf</td>\n",
              "      <td>Hes just not that into you</td>\n",
              "      <td>neutral</td>\n",
              "    </tr>\n",
              "  </tbody>\n",
              "</table>\n",
              "</div>"
            ],
            "text/plain": [
              "           textID  ... sentiment\n",
              "652    a834cef9c6  ...  negative\n",
              "24883  5bfad683d5  ...  positive\n",
              "15385  08a8d660b1  ...  negative\n",
              "16753  99a0ff3bef  ...   neutral\n",
              "19     40e7becabf  ...   neutral\n",
              "\n",
              "[5 rows x 3 columns]"
            ]
          },
          "metadata": {},
          "execution_count": 23
        }
      ],
      "source": [
        "train_X_df.head(5)"
      ],
      "id": "xPa_6PkUHBJ-"
    },
    {
      "cell_type": "code",
      "execution_count": null,
      "metadata": {
        "id": "Vv5SE8NKFOPc"
      },
      "outputs": [],
      "source": [
        "#_preprocessed_y_ex(train_X_df.head(100),train_y_ex.head(100))"
      ],
      "id": "Vv5SE8NKFOPc"
    },
    {
      "cell_type": "code",
      "execution_count": null,
      "metadata": {
        "id": "z6ik6GL6Te_F"
      },
      "outputs": [],
      "source": [
        ""
      ],
      "id": "z6ik6GL6Te_F"
    },
    {
      "cell_type": "code",
      "execution_count": null,
      "metadata": {
        "colab": {
          "base_uri": "https://localhost:8080/"
        },
        "id": "JQQ1nPTw_X_7",
        "outputId": "68847429-05b1-44c6-c327-ddc5147cd350"
      },
      "outputs": [
        {
          "output_type": "execute_result",
          "data": {
            "text/html": [
              "<div>\n",
              "<style scoped>\n",
              "    .dataframe tbody tr th:only-of-type {\n",
              "        vertical-align: middle;\n",
              "    }\n",
              "\n",
              "    .dataframe tbody tr th {\n",
              "        vertical-align: top;\n",
              "    }\n",
              "\n",
              "    .dataframe thead th {\n",
              "        text-align: right;\n",
              "    }\n",
              "</style>\n",
              "<table border=\"1\" class=\"dataframe\">\n",
              "  <thead>\n",
              "    <tr style=\"text-align: right;\">\n",
              "      <th></th>\n",
              "      <th>textID</th>\n",
              "      <th>index2word</th>\n",
              "      <th>preprocessed_texts</th>\n",
              "      <th>sentiment</th>\n",
              "    </tr>\n",
              "  </thead>\n",
              "  <tbody>\n",
              "    <tr>\n",
              "      <th>652</th>\n",
              "      <td>a834cef9c6</td>\n",
              "      <td>{0: '1st', 1: 'presentation', 2: 'for', 3: 'senior', 4: 'boards?', 5: 'FML'}</td>\n",
              "      <td>{0: 'st', 1: 'present', 2: 'for', 3: 'senior', 4: 'board', 5: 'fml'}</td>\n",
              "      <td>-1</td>\n",
              "    </tr>\n",
              "    <tr>\n",
              "      <th>24883</th>\n",
              "      <td>5bfad683d5</td>\n",
              "      <td>{0: 'yummy', 1: 'curry', 2: 'save', 3: 'me', 4: 'some', 5: 'please', 6: 'lol'}</td>\n",
              "      <td>{0: 'yummi', 1: 'curri', 2: 'save', 3: 'me', 4: 'some', 5: 'pleas', 6: 'lol'}</td>\n",
              "      <td>1</td>\n",
              "    </tr>\n",
              "    <tr>\n",
              "      <th>15385</th>\n",
              "      <td>08a8d660b1</td>\n",
              "      <td>{0: 'I', 1: 'wish', 2: 'I', 3: 'knew', 4: 'someone', 5: 'down', 6: 'there', 7: 'who', 8: 'could', 9: 'hook', 10: 'us', 11: 'up.', 12: 'a', 13: 'friend', 14: 'told', 15: 'me', 16: 'once', 17: 'that...</td>\n",
              "      <td>{0: 'i', 1: 'wish', 2: 'i', 3: 'knew', 4: 'someon', 5: 'down', 6: 'there', 7: 'who', 8: 'could', 9: 'hook', 10: 'us', 11: 'up', 12: 'a', 13: 'friend', 14: 'told', 15: 'me', 16: 'onc', 17: 'that', ...</td>\n",
              "      <td>-1</td>\n",
              "    </tr>\n",
              "    <tr>\n",
              "      <th>16753</th>\n",
              "      <td>99a0ff3bef</td>\n",
              "      <td>{0: 'Lucky', 1: 'u', 2: 'Im', 3: 'stuck', 4: 'in', 5: 'the', 6: 'rain...'}</td>\n",
              "      <td>{0: 'lucki', 1: 'u', 2: 'im', 3: 'stuck', 4: 'in', 5: 'the', 6: 'rain'}</td>\n",
              "      <td>0</td>\n",
              "    </tr>\n",
              "    <tr>\n",
              "      <th>19</th>\n",
              "      <td>40e7becabf</td>\n",
              "      <td>{0: 'Hes', 1: 'just', 2: 'not', 3: 'that', 4: 'into', 5: 'you'}</td>\n",
              "      <td>{0: 'he', 1: 'just', 2: 'not', 3: 'that', 4: 'into', 5: 'you'}</td>\n",
              "      <td>0</td>\n",
              "    </tr>\n",
              "    <tr>\n",
              "      <th>...</th>\n",
              "      <td>...</td>\n",
              "      <td>...</td>\n",
              "      <td>...</td>\n",
              "      <td>...</td>\n",
              "    </tr>\n",
              "    <tr>\n",
              "      <th>16799</th>\n",
              "      <td>82d211bdd5</td>\n",
              "      <td>{0: 'i', 1: 'think', 2: 'i', 3: 'hate', 4: 'you.', 5: 'i', 6: 'didnt', 7: 'really', 8: 'want', 9: 'to', 10: 'but', 11: 'you', 12: 'make', 13: 'it', 14: 'hard', 15: 'for', 16: 'me', 17: 'to', 18: '...</td>\n",
              "      <td>{0: 'i', 1: 'think', 2: 'i', 3: 'hate', 4: 'you', 5: 'i', 6: 'didnt', 7: 'realli', 8: 'want', 9: 'to', 10: 'but', 11: 'you', 12: 'make', 13: 'it', 14: 'hard', 15: 'for', 16: 'me', 17: 'to', 18: 'l...</td>\n",
              "      <td>-1</td>\n",
              "    </tr>\n",
              "    <tr>\n",
              "      <th>6706</th>\n",
              "      <td>7a775cc933</td>\n",
              "      <td>{0: 'If', 1: 'I', 2: 'were', 3: 'a', 4: 'transformer...', 5: 'I`d', 6: 'step', 7: 'on', 8: 'people', 9: 'just', 10: 'to', 11: 'hear', 12: 'them', 13: '*squoosh*.', 14: 'But', 15: 'I`m', 16: 'not',...</td>\n",
              "      <td>{0: 'if', 1: 'i', 2: 'were', 3: 'a', 4: 'transform', 5: 'id', 6: 'step', 7: 'on', 8: 'peopl', 9: 'just', 10: 'to', 11: 'hear', 12: 'them', 13: 'squosh', 14: 'but', 15: 'im', 16: 'not', 17: 'so', 1...</td>\n",
              "      <td>0</td>\n",
              "    </tr>\n",
              "    <tr>\n",
              "      <th>1967</th>\n",
              "      <td>127ac4d1d2</td>\n",
              "      <td>{0: 'ohay', 1: 'clean', 2: 'teeth'}</td>\n",
              "      <td>{0: 'ohay', 1: 'clean', 2: 'teeth'}</td>\n",
              "      <td>1</td>\n",
              "    </tr>\n",
              "    <tr>\n",
              "      <th>9181</th>\n",
              "      <td>4b8cb4449b</td>\n",
              "      <td>{0: 'Im', 1: 'fine', 2: 'also..up', 3: 'way', 4: 'to', 5: 'early..lol...soo', 6: 'those', 7: 'r', 8: 'all', 9: 'ur', 10: 'dogs?', 11: 'to', 12: 'kut3', 13: '..i', 14: 'def', 15: 'want', 16: 'a', 1...</td>\n",
              "      <td>{0: 'im', 1: 'fine', 2: 'alsoup', 3: 'way', 4: 'to', 5: 'earlylolso', 6: 'those', 7: 'r', 8: 'all', 9: 'ur', 10: 'dog', 11: 'to', 12: 'kut', 13: 'i', 14: 'def', 15: 'want', 16: 'a', 17: 'pit', 18:...</td>\n",
              "      <td>0</td>\n",
              "    </tr>\n",
              "    <tr>\n",
              "      <th>17204</th>\n",
              "      <td>c06c7c3adf</td>\n",
              "      <td>{0: 'How', 1: 'about', 2: 'give', 3: 'golf', 4: 'lessons??', 5: 'AND', 6: 'sing', 7: 'to', 8: 'your', 9: 'student', 10: 'taking', 11: 'lessons??', 12: '(JAKEOWEN2009', 13: 'live', 14: '&gt;', 15: 'ht...</td>\n",
              "      <td>{0: 'how', 1: 'about', 2: 'give', 3: 'golf', 4: 'lesson', 5: 'and', 6: 'sing', 7: 'to', 8: 'your', 9: 'student', 10: 'take', 11: 'lesson', 12: 'jakeowen', 13: 'live', 14: 'Special', 15: 'URL'}</td>\n",
              "      <td>0</td>\n",
              "    </tr>\n",
              "  </tbody>\n",
              "</table>\n",
              "<p>100 rows × 4 columns</p>\n",
              "</div>"
            ],
            "text/plain": [
              "           textID  ... sentiment\n",
              "652    a834cef9c6  ...        -1\n",
              "24883  5bfad683d5  ...         1\n",
              "15385  08a8d660b1  ...        -1\n",
              "16753  99a0ff3bef  ...         0\n",
              "19     40e7becabf  ...         0\n",
              "...           ...  ...       ...\n",
              "16799  82d211bdd5  ...        -1\n",
              "6706   7a775cc933  ...         0\n",
              "1967   127ac4d1d2  ...         1\n",
              "9181   4b8cb4449b  ...         0\n",
              "17204  c06c7c3adf  ...         0\n",
              "\n",
              "[100 rows x 4 columns]"
            ]
          },
          "metadata": {},
          "execution_count": 25
        }
      ],
      "source": [
        "# Test:\n",
        "preprocessed_X_df_temp,cleaned_int2text_df_temp = preprocess_tweets(train_X_df.head(100))\n",
        "preprocessed_X_df_temp"
      ],
      "id": "JQQ1nPTw_X_7"
    },
    {
      "cell_type": "code",
      "execution_count": null,
      "metadata": {
        "id": "XROLAww9DetK"
      },
      "outputs": [],
      "source": [
        ""
      ],
      "id": "XROLAww9DetK"
    },
    {
      "cell_type": "markdown",
      "metadata": {
        "id": "YbNc5z3IDZt1"
      },
      "source": [
        "### 2. Mô hình hoá dữ liệu:"
      ],
      "id": "YbNc5z3IDZt1"
    },
    {
      "cell_type": "markdown",
      "metadata": {
        "id": "2Mui8N94wDFm"
      },
      "source": [
        "#### 2.1 Tiền xử lý:"
      ],
      "id": "2Mui8N94wDFm"
    },
    {
      "cell_type": "code",
      "execution_count": null,
      "metadata": {
        "id": "g4uXbxBij9Je"
      },
      "outputs": [],
      "source": [
        "preprocessed_train_X, cleaned_train_X = preprocess_tweets(train_X_df)\n",
        "preprocessed_train_y_ex = _preprocessed_y_ex(train_X_df,train_y_ex)\n",
        "preprocessed_val_X, cleaned_val_X = preprocess_tweets(val_X_df)\n",
        "preprocessed_val_y_ex = _preprocessed_y_ex(val_X_df,val_y_ex)"
      ],
      "id": "g4uXbxBij9Je"
    },
    {
      "cell_type": "code",
      "execution_count": null,
      "metadata": {
        "id": "AnvLrVHRGtmV"
      },
      "outputs": [],
      "source": [
        "#cleaned_train_X"
      ],
      "id": "AnvLrVHRGtmV"
    },
    {
      "cell_type": "code",
      "execution_count": null,
      "metadata": {
        "colab": {
          "base_uri": "https://localhost:8080/",
          "height": 398
        },
        "id": "sfxKU98rtfkD",
        "outputId": "7fbf3f31-b79b-46d8-99be-6be4232386ea"
      },
      "outputs": [
        {
          "output_type": "execute_result",
          "data": {
            "text/html": [
              "<div>\n",
              "<style scoped>\n",
              "    .dataframe tbody tr th:only-of-type {\n",
              "        vertical-align: middle;\n",
              "    }\n",
              "\n",
              "    .dataframe tbody tr th {\n",
              "        vertical-align: top;\n",
              "    }\n",
              "\n",
              "    .dataframe thead th {\n",
              "        text-align: right;\n",
              "    }\n",
              "</style>\n",
              "<table border=\"1\" class=\"dataframe\">\n",
              "  <thead>\n",
              "    <tr style=\"text-align: right;\">\n",
              "      <th></th>\n",
              "      <th>text</th>\n",
              "      <th>selected_text</th>\n",
              "      <th>sentiment</th>\n",
              "    </tr>\n",
              "  </thead>\n",
              "  <tbody>\n",
              "    <tr>\n",
              "      <th>652</th>\n",
              "      <td>{0: 'st', 1: 'present', 2: 'for', 3: 'senior', 4: 'board', 5: 'fml'}</td>\n",
              "      <td>{0: 'fml'}</td>\n",
              "      <td>-1</td>\n",
              "    </tr>\n",
              "    <tr>\n",
              "      <th>24883</th>\n",
              "      <td>{0: 'yummi', 1: 'curri', 2: 'save', 3: 'me', 4: 'some', 5: 'pleas', 6: 'lol'}</td>\n",
              "      <td>{0: 'yummi'}</td>\n",
              "      <td>1</td>\n",
              "    </tr>\n",
              "    <tr>\n",
              "      <th>15385</th>\n",
              "      <td>{0: 'i', 1: 'wish', 2: 'i', 3: 'knew', 4: 'someon', 5: 'down', 6: 'there', 7: 'who', 8: 'could', 9: 'hook', 10: 'us', 11: 'up', 12: 'a', 13: 'friend', 14: 'told', 15: 'me', 16: 'onc', 17: 'that', ...</td>\n",
              "      <td>{0: 'p', 1: 'a', 2: 'friend', 3: 'told', 4: 'me', 5: 'onc', 6: 'that', 7: 'they', 8: 'got', 9: 'crappi', 10: 'seat', 11: 'for', 12: 'a', 13: 'show', 14: 'in'}</td>\n",
              "      <td>-1</td>\n",
              "    </tr>\n",
              "    <tr>\n",
              "      <th>16753</th>\n",
              "      <td>{0: 'lucki', 1: 'u', 2: 'im', 3: 'stuck', 4: 'in', 5: 'the', 6: 'rain'}</td>\n",
              "      <td>{0: 'lucki', 1: 'u', 2: 'im', 3: 'stuck', 4: 'in', 5: 'the', 6: 'rain'}</td>\n",
              "      <td>0</td>\n",
              "    </tr>\n",
              "    <tr>\n",
              "      <th>19</th>\n",
              "      <td>{0: 'he', 1: 'just', 2: 'not', 3: 'that', 4: 'into', 5: 'you'}</td>\n",
              "      <td>{0: 'he', 1: 'just', 2: 'not', 3: 'that', 4: 'into', 5: 'you'}</td>\n",
              "      <td>0</td>\n",
              "    </tr>\n",
              "    <tr>\n",
              "      <th>23126</th>\n",
              "      <td>{0: 'gah', 1: 'Special', 2: 'thi', 3: 'weather', 4: 'sucksss', 5: 'Special'}</td>\n",
              "      <td>{0: 'gah', 1: 'Special', 2: 'thi', 3: 'weather', 4: 'sucksss', 5: 'Special'}</td>\n",
              "      <td>-1</td>\n",
              "    </tr>\n",
              "    <tr>\n",
              "      <th>27051</th>\n",
              "      <td>{0: 'apolog', 1: 'dont', 2: 'fix', 3: 'hurt', 4: 'feel', 5: 'kev', 6: 'anyway', 7: 'ill', 8: 'get', 9: 'it', 10: 'from', 11: 'u', 12: 'next', 13: 'time', 14: 'i', 15: 'c', 16: 'u'}</td>\n",
              "      <td>{0: 'apolog', 1: 'dont', 2: 'fix', 3: 'hurt', 4: 'feel', 5: 'kev'}</td>\n",
              "      <td>-1</td>\n",
              "    </tr>\n",
              "    <tr>\n",
              "      <th>11314</th>\n",
              "      <td>{0: 'Special', 1: 'follow', 2: 'my', 3: 'girl', 4: 'meagan'}</td>\n",
              "      <td>{0: 'Special', 1: 'follow', 2: 'my', 3: 'girl', 4: 'meagan'}</td>\n",
              "      <td>0</td>\n",
              "    </tr>\n",
              "    <tr>\n",
              "      <th>5854</th>\n",
              "      <td>{0: 'thi', 1: 'is', 2: 'realli', 3: 'help', 4: 'you', 5: 'swear', 6: 'a', 7: 'lot', 8: 'i', 9: 'just', 10: 'realiz', 11: 'haha'}</td>\n",
              "      <td>{0: 'help'}</td>\n",
              "      <td>1</td>\n",
              "    </tr>\n",
              "    <tr>\n",
              "      <th>8160</th>\n",
              "      <td>{0: 'happi', 1: 'mother', 2: 'day', 3: 'x', 4: 'mum', 5: 'i', 6: 'love', 7: 'you'}</td>\n",
              "      <td>{0: 'happi'}</td>\n",
              "      <td>1</td>\n",
              "    </tr>\n",
              "  </tbody>\n",
              "</table>\n",
              "</div>"
            ],
            "text/plain": [
              "                                                                                                                                                                                                          text  ... sentiment\n",
              "652                                                                                                                                       {0: 'st', 1: 'present', 2: 'for', 3: 'senior', 4: 'board', 5: 'fml'}  ...        -1\n",
              "24883                                                                                                                            {0: 'yummi', 1: 'curri', 2: 'save', 3: 'me', 4: 'some', 5: 'pleas', 6: 'lol'}  ...         1\n",
              "15385  {0: 'i', 1: 'wish', 2: 'i', 3: 'knew', 4: 'someon', 5: 'down', 6: 'there', 7: 'who', 8: 'could', 9: 'hook', 10: 'us', 11: 'up', 12: 'a', 13: 'friend', 14: 'told', 15: 'me', 16: 'onc', 17: 'that', ...  ...        -1\n",
              "16753                                                                                                                                  {0: 'lucki', 1: 'u', 2: 'im', 3: 'stuck', 4: 'in', 5: 'the', 6: 'rain'}  ...         0\n",
              "19                                                                                                                                              {0: 'he', 1: 'just', 2: 'not', 3: 'that', 4: 'into', 5: 'you'}  ...         0\n",
              "23126                                                                                                                             {0: 'gah', 1: 'Special', 2: 'thi', 3: 'weather', 4: 'sucksss', 5: 'Special'}  ...        -1\n",
              "27051                     {0: 'apolog', 1: 'dont', 2: 'fix', 3: 'hurt', 4: 'feel', 5: 'kev', 6: 'anyway', 7: 'ill', 8: 'get', 9: 'it', 10: 'from', 11: 'u', 12: 'next', 13: 'time', 14: 'i', 15: 'c', 16: 'u'}  ...        -1\n",
              "11314                                                                                                                                             {0: 'Special', 1: 'follow', 2: 'my', 3: 'girl', 4: 'meagan'}  ...         0\n",
              "5854                                                                          {0: 'thi', 1: 'is', 2: 'realli', 3: 'help', 4: 'you', 5: 'swear', 6: 'a', 7: 'lot', 8: 'i', 9: 'just', 10: 'realiz', 11: 'haha'}  ...         1\n",
              "8160                                                                                                                        {0: 'happi', 1: 'mother', 2: 'day', 3: 'x', 4: 'mum', 5: 'i', 6: 'love', 7: 'you'}  ...         1\n",
              "\n",
              "[10 rows x 3 columns]"
            ]
          },
          "metadata": {},
          "execution_count": 27
        }
      ],
      "source": [
        "#pd.set_option('display.max_rows', df.shape[0]+1)\n",
        "visual_df = pd.DataFrame(data ={'text':preprocessed_train_X.preprocessed_texts,'selected_text':preprocessed_train_y_ex.preprocessed_texts,'sentiment':preprocessed_train_X.sentiment})\n",
        "visual_df.head(10)"
      ],
      "id": "sfxKU98rtfkD"
    },
    {
      "cell_type": "code",
      "source": [
        "preprocessed_train_y_ex"
      ],
      "metadata": {
        "colab": {
          "base_uri": "https://localhost:8080/",
          "height": 493
        },
        "id": "_Jx-2fwz9zAQ",
        "outputId": "0fd74ac6-3c2f-4326-a0cc-9c645c065677"
      },
      "id": "_Jx-2fwz9zAQ",
      "execution_count": null,
      "outputs": [
        {
          "output_type": "execute_result",
          "data": {
            "text/html": [
              "<div>\n",
              "<style scoped>\n",
              "    .dataframe tbody tr th:only-of-type {\n",
              "        vertical-align: middle;\n",
              "    }\n",
              "\n",
              "    .dataframe tbody tr th {\n",
              "        vertical-align: top;\n",
              "    }\n",
              "\n",
              "    .dataframe thead th {\n",
              "        text-align: right;\n",
              "    }\n",
              "</style>\n",
              "<table border=\"1\" class=\"dataframe\">\n",
              "  <thead>\n",
              "    <tr style=\"text-align: right;\">\n",
              "      <th></th>\n",
              "      <th>preprocessed_texts</th>\n",
              "      <th>Cleaned_text</th>\n",
              "      <th>sentiment</th>\n",
              "    </tr>\n",
              "  </thead>\n",
              "  <tbody>\n",
              "    <tr>\n",
              "      <th>652</th>\n",
              "      <td>{0: 'fml'}</td>\n",
              "      <td>fml</td>\n",
              "      <td>-1</td>\n",
              "    </tr>\n",
              "    <tr>\n",
              "      <th>24883</th>\n",
              "      <td>{0: 'yummi'}</td>\n",
              "      <td>yummi</td>\n",
              "      <td>1</td>\n",
              "    </tr>\n",
              "    <tr>\n",
              "      <th>15385</th>\n",
              "      <td>{0: 'p', 1: 'a', 2: 'friend', 3: 'told', 4: 'me', 5: 'onc', 6: 'that', 7: 'they', 8: 'got', 9: 'crappi', 10: 'seat', 11: 'for', 12: 'a', 13: 'show', 14: 'in'}</td>\n",
              "      <td>p a friend told me onc that they got crappi seat for a show in</td>\n",
              "      <td>-1</td>\n",
              "    </tr>\n",
              "    <tr>\n",
              "      <th>16753</th>\n",
              "      <td>{0: 'lucki', 1: 'u', 2: 'im', 3: 'stuck', 4: 'in', 5: 'the', 6: 'rain'}</td>\n",
              "      <td>lucki u im stuck in the rain</td>\n",
              "      <td>0</td>\n",
              "    </tr>\n",
              "    <tr>\n",
              "      <th>19</th>\n",
              "      <td>{0: 'he', 1: 'just', 2: 'not', 3: 'that', 4: 'into', 5: 'you'}</td>\n",
              "      <td>he just not that into you</td>\n",
              "      <td>0</td>\n",
              "    </tr>\n",
              "    <tr>\n",
              "      <th>...</th>\n",
              "      <td>...</td>\n",
              "      <td>...</td>\n",
              "      <td>...</td>\n",
              "    </tr>\n",
              "    <tr>\n",
              "      <th>21628</th>\n",
              "      <td>{0: 'best'}</td>\n",
              "      <td>best</td>\n",
              "      <td>1</td>\n",
              "    </tr>\n",
              "    <tr>\n",
              "      <th>24747</th>\n",
              "      <td>{0: 'yeah', 1: 'he', 2: 'also', 3: 'partial', 4: 'to', 5: 'jt', 6: 'and', 7: 'ti', 8: 'dead', 9: 'and', 10: 'gone', 11: 'and', 12: 'pink', 13: 'sobr'}</td>\n",
              "      <td>yeah he also partial to jt and ti dead and gone and pink sobr</td>\n",
              "      <td>0</td>\n",
              "    </tr>\n",
              "    <tr>\n",
              "      <th>18164</th>\n",
              "      <td>{0: 'oui', 1: 'i', 2: 'figur', 3: 'that', 4: 'sinc', 5: 'it', 6: 'a', 7: 'day', 8: 'off', 9: 'id', 10: 'better', 11: 'start', 12: 'brush', 13: 'up', 14: 'on', 15: 'my', 16: 'french', 17: 'so', 18:...</td>\n",
              "      <td>oui i figur that sinc it a day off id better start brush up on my french so far i have learnt bonjour and oui</td>\n",
              "      <td>0</td>\n",
              "    </tr>\n",
              "    <tr>\n",
              "      <th>10041</th>\n",
              "      <td>{0: 'if', 1: 'i', 2: 'can', 3: 'get', 4: 'a', 5: 'ticket', 6: 'but', 7: 'the', 8: 'pick', 9: 'are', 10: 'lokin', 11: 'slim', 12: 'so', 13: 'prob', 14: 'not'}</td>\n",
              "      <td>if i can get a ticket but the pick are lokin slim so prob not</td>\n",
              "      <td>0</td>\n",
              "    </tr>\n",
              "    <tr>\n",
              "      <th>12238</th>\n",
              "      <td>{0: 'thank', 1: 'you', 2: 'make', 3: 'sure', 4: 'u', 5: 'read', 6: 'the', 7: 'group', 8: 'descript', 9: 'to', 10: 'better', 11: 'understand', 12: 'thi', 13: 'project'}</td>\n",
              "      <td>thank you make sure u read the group descript to better understand thi project</td>\n",
              "      <td>1</td>\n",
              "    </tr>\n",
              "  </tbody>\n",
              "</table>\n",
              "<p>19236 rows × 3 columns</p>\n",
              "</div>"
            ],
            "text/plain": [
              "                                                                                                                                                                                            preprocessed_texts  ... sentiment\n",
              "652                                                                                                                                                                                                 {0: 'fml'}  ...        -1\n",
              "24883                                                                                                                                                                                             {0: 'yummi'}  ...         1\n",
              "15385                                           {0: 'p', 1: 'a', 2: 'friend', 3: 'told', 4: 'me', 5: 'onc', 6: 'that', 7: 'they', 8: 'got', 9: 'crappi', 10: 'seat', 11: 'for', 12: 'a', 13: 'show', 14: 'in'}  ...        -1\n",
              "16753                                                                                                                                  {0: 'lucki', 1: 'u', 2: 'im', 3: 'stuck', 4: 'in', 5: 'the', 6: 'rain'}  ...         0\n",
              "19                                                                                                                                              {0: 'he', 1: 'just', 2: 'not', 3: 'that', 4: 'into', 5: 'you'}  ...         0\n",
              "...                                                                                                                                                                                                        ...  ...       ...\n",
              "21628                                                                                                                                                                                              {0: 'best'}  ...         1\n",
              "24747                                                   {0: 'yeah', 1: 'he', 2: 'also', 3: 'partial', 4: 'to', 5: 'jt', 6: 'and', 7: 'ti', 8: 'dead', 9: 'and', 10: 'gone', 11: 'and', 12: 'pink', 13: 'sobr'}  ...         0\n",
              "18164  {0: 'oui', 1: 'i', 2: 'figur', 3: 'that', 4: 'sinc', 5: 'it', 6: 'a', 7: 'day', 8: 'off', 9: 'id', 10: 'better', 11: 'start', 12: 'brush', 13: 'up', 14: 'on', 15: 'my', 16: 'french', 17: 'so', 18:...  ...         0\n",
              "10041                                            {0: 'if', 1: 'i', 2: 'can', 3: 'get', 4: 'a', 5: 'ticket', 6: 'but', 7: 'the', 8: 'pick', 9: 'are', 10: 'lokin', 11: 'slim', 12: 'so', 13: 'prob', 14: 'not'}  ...         0\n",
              "12238                                  {0: 'thank', 1: 'you', 2: 'make', 3: 'sure', 4: 'u', 5: 'read', 6: 'the', 7: 'group', 8: 'descript', 9: 'to', 10: 'better', 11: 'understand', 12: 'thi', 13: 'project'}  ...         1\n",
              "\n",
              "[19236 rows x 3 columns]"
            ]
          },
          "metadata": {},
          "execution_count": 28
        }
      ]
    },
    {
      "cell_type": "code",
      "execution_count": null,
      "metadata": {
        "colab": {
          "base_uri": "https://localhost:8080/"
        },
        "id": "k7mm588oV1zK",
        "outputId": "15d9f472-ccce-4f11-b86d-a3987925b4bc"
      },
      "outputs": [
        {
          "output_type": "execute_result",
          "data": {
            "text/plain": [
              "88.02364430737599"
            ]
          },
          "metadata": {},
          "execution_count": 29
        }
      ],
      "source": [
        "# pd.set_option('display.max_rows', df.shape[0]+1)\n",
        "neutral_df = visual_df.loc[visual_df.sentiment ==0,:]\n",
        "#neutral_df\n",
        "len_neutral_df = neutral_df.loc[:,['text','selected_text']].applymap(len)\n",
        "index_neutral = len_neutral_df.loc[len_neutral_df.text == len_neutral_df.selected_text,:]\n",
        "#cleaned_train_X.loc[index_neutral.index,:]\n",
        "(index_neutral.shape[0]/ neutral_df.shape[0])*100\n",
        "# pd.DataFrame(data ={'origin':cleaned_train_X.Raw_text,'text':cleaned_train_X.Cleaned_texts,'selected_text':preprocessed_train_y_ex.preprocessed_texts}).loc[index_neutral_diff.index,:]"
      ],
      "id": "k7mm588oV1zK"
    },
    {
      "cell_type": "code",
      "execution_count": null,
      "metadata": {
        "colab": {
          "base_uri": "https://localhost:8080/",
          "height": 423
        },
        "id": "QdPY3A5neVpH",
        "outputId": "11ba1d54-228c-49aa-a189-71c99a2fc688"
      },
      "outputs": [
        {
          "output_type": "execute_result",
          "data": {
            "text/html": [
              "<div>\n",
              "<style scoped>\n",
              "    .dataframe tbody tr th:only-of-type {\n",
              "        vertical-align: middle;\n",
              "    }\n",
              "\n",
              "    .dataframe tbody tr th {\n",
              "        vertical-align: top;\n",
              "    }\n",
              "\n",
              "    .dataframe thead th {\n",
              "        text-align: right;\n",
              "    }\n",
              "</style>\n",
              "<table border=\"1\" class=\"dataframe\">\n",
              "  <thead>\n",
              "    <tr style=\"text-align: right;\">\n",
              "      <th></th>\n",
              "      <th>text</th>\n",
              "      <th>selected_text</th>\n",
              "    </tr>\n",
              "  </thead>\n",
              "  <tbody>\n",
              "    <tr>\n",
              "      <th>652</th>\n",
              "      <td>6</td>\n",
              "      <td>1</td>\n",
              "    </tr>\n",
              "    <tr>\n",
              "      <th>25356</th>\n",
              "      <td>3</td>\n",
              "      <td>1</td>\n",
              "    </tr>\n",
              "    <tr>\n",
              "      <th>9843</th>\n",
              "      <td>3</td>\n",
              "      <td>1</td>\n",
              "    </tr>\n",
              "    <tr>\n",
              "      <th>11309</th>\n",
              "      <td>13</td>\n",
              "      <td>1</td>\n",
              "    </tr>\n",
              "    <tr>\n",
              "      <th>724</th>\n",
              "      <td>7</td>\n",
              "      <td>1</td>\n",
              "    </tr>\n",
              "    <tr>\n",
              "      <th>...</th>\n",
              "      <td>...</td>\n",
              "      <td>...</td>\n",
              "    </tr>\n",
              "    <tr>\n",
              "      <th>12530</th>\n",
              "      <td>9</td>\n",
              "      <td>1</td>\n",
              "    </tr>\n",
              "    <tr>\n",
              "      <th>13957</th>\n",
              "      <td>8</td>\n",
              "      <td>1</td>\n",
              "    </tr>\n",
              "    <tr>\n",
              "      <th>2969</th>\n",
              "      <td>16</td>\n",
              "      <td>1</td>\n",
              "    </tr>\n",
              "    <tr>\n",
              "      <th>24444</th>\n",
              "      <td>21</td>\n",
              "      <td>1</td>\n",
              "    </tr>\n",
              "    <tr>\n",
              "      <th>9377</th>\n",
              "      <td>12</td>\n",
              "      <td>1</td>\n",
              "    </tr>\n",
              "  </tbody>\n",
              "</table>\n",
              "<p>2099 rows × 2 columns</p>\n",
              "</div>"
            ],
            "text/plain": [
              "       text  selected_text\n",
              "652       6              1\n",
              "25356     3              1\n",
              "9843      3              1\n",
              "11309    13              1\n",
              "724       7              1\n",
              "...     ...            ...\n",
              "12530     9              1\n",
              "13957     8              1\n",
              "2969     16              1\n",
              "24444    21              1\n",
              "9377     12              1\n",
              "\n",
              "[2099 rows x 2 columns]"
            ]
          },
          "metadata": {},
          "execution_count": 108
        }
      ],
      "source": [
        "pos_df = visual_df.loc[visual_df.sentiment ==-1\n",
        "                       ,:]\n",
        "len_pos_df = pos_df.loc[:,['text','selected_text']].applymap(len)\n",
        "# len_pos_df.selected_text.value_counts(normalize= True)*100\n",
        "len_pos_df.loc[len_pos_df.selected_text == 1,:]"
      ],
      "id": "QdPY3A5neVpH"
    },
    {
      "cell_type": "code",
      "execution_count": null,
      "metadata": {
        "id": "YHzR4cPKvshU"
      },
      "outputs": [],
      "source": [
        "# pos_visual_df = visual_df.loc[visual_df.sentiment == 1,:]\n",
        "# pos_visual_df.text.apply(len).max()"
      ],
      "id": "YHzR4cPKvshU"
    },
    {
      "cell_type": "markdown",
      "metadata": {
        "id": "7nfI3h5N5urf"
      },
      "source": [
        "#### 2.2 Viết class và tinh chỉnh mô hình"
      ],
      "id": "7nfI3h5N5urf"
    },
    {
      "cell_type": "markdown",
      "metadata": {
        "id": "cQnfsTiR4bMI"
      },
      "source": [
        "##### 2.2.1 Sentiment Classification Class"
      ],
      "id": "cQnfsTiR4bMI"
    },
    {
      "cell_type": "code",
      "execution_count": null,
      "metadata": {
        "id": "cUj52lCMtxqA"
      },
      "outputs": [],
      "source": [
        "class Sentiment_Classification(object):\n",
        "  def __init__(self,_max_depth = 3):\n",
        "        #self.num_top_titles = num_top_titles\n",
        "        self._max_depth = _max_depth\n",
        "  def extract_features(self,tweet, likelihood):\n",
        "    '''\n",
        "    Input: \n",
        "        tweet: a dictionary of words for one tweet\n",
        "        likelihood: a dictionary corresponding to the score representation of each word\n",
        "    Output: \n",
        "        x: a feature vector of dimension (1,3)\n",
        "    '''\n",
        "    word_l = list(tweet.values())\n",
        "    # 3 elements in the form of a 1 x 3 vector\n",
        "    x = np.zeros((1, 3))   \n",
        "    # loop through each word in the list of words\n",
        "    for word in word_l:\n",
        "        if likelihood.get(word,0)!=0:\n",
        "          # increment the word count for the positive label 1\n",
        "          x[0,0] += likelihood[word][0]\n",
        "        \n",
        "          # increment the word count for the negative label 0\n",
        "          x[0,1] += likelihood[word][1]\n",
        "\n",
        "          x[0,2] += likelihood[word][2]\n",
        "    assert(x.shape == (1, 3))\n",
        "    return x\n",
        "  def sentence_embeddings(self,preprocessed_X_df,likelihood):\n",
        "    sentences = preprocessed_X_df.preprocessed_texts.to_list()\n",
        "    X = np.zeros(shape = (len(sentences),3))\n",
        "    for i in range(len(sentences)):\n",
        "      X[i, :]= self.extract_features(sentences[i], likelihood)\n",
        "    assert(X.shape == (len(sentences), 3))\n",
        "    return X\n",
        "  def _fit(self,preprocessed_y_ex,likelihood):\n",
        "    # freqs_temp_train = tse_st.count_tweets(preprocessed_train_X_y)\n",
        "    # vob_temp_train, likelihood_temp_train = tse_st.score_representation(freqs_temp_train,preprocessed_train_X_y)\n",
        "    self._likelihood = likelihood\n",
        "    train_X_TC = self.sentence_embeddings(preprocessed_y_ex,likelihood)\n",
        "    train_y_TC = np.array(preprocessed_y_ex.sentiment.to_list())\n",
        "    clf_RT = RandomForestClassifier(max_depth=self._max_depth, random_state=40)\n",
        "    #clf = SVC(gamma='auto',probability = True,random_state=1)\n",
        "    self.sentiment_tool = clf_RT.fit(train_X_TC,train_y_TC)\n",
        "    self.RT_score = clf_RT.score(train_X_TC,train_y_TC)\n",
        "    #self.score_train = self.sentiment_tool.score(X,y)\n",
        "    return self\n",
        "  def _predict(self,embeddings_X):\n",
        "    # predict_word_temp = np.array(likelihood_temp['on']).reshape(1,3)\n",
        "    # predict_tweet_temp = extract_features({0: 'hate'}\t\t,likelihood_temp)\n",
        "    result = self.sentiment_tool.predict(embeddings_X)\n",
        "    return result"
      ],
      "id": "cUj52lCMtxqA"
    },
    {
      "cell_type": "code",
      "execution_count": null,
      "metadata": {
        "id": "ayzn2hhwzMPg"
      },
      "outputs": [],
      "source": [
        "# preprocessed_train_X_y = pd.concat([preprocessed_train_X.loc[:,['preprocessed_texts','sentiment']],preprocessed_train_y_ex ],ignore_index= True)\n",
        "# s_temp = Sentiment_Classification()\n",
        "# result_temp = s_temp._fit(preprocessed_train_X_y,tse_st.likelihood)"
      ],
      "id": "ayzn2hhwzMPg"
    },
    {
      "cell_type": "code",
      "execution_count": null,
      "metadata": {
        "id": "hlxsEqaw316A"
      },
      "outputs": [],
      "source": [
        ""
      ],
      "id": "hlxsEqaw316A"
    },
    {
      "cell_type": "code",
      "execution_count": null,
      "metadata": {
        "id": "-g1O6RE_2j2h"
      },
      "outputs": [],
      "source": [
        "# result_temp.sentiment_tool.predict(predict_tweet_temp)"
      ],
      "id": "-g1O6RE_2j2h"
    },
    {
      "cell_type": "markdown",
      "metadata": {
        "id": "EqYF-DBe4inR"
      },
      "source": [
        "##### 2.2.2 Extraction Class"
      ],
      "id": "EqYF-DBe4inR"
    },
    {
      "cell_type": "code",
      "execution_count": null,
      "metadata": {
        "colab": {
          "base_uri": "https://localhost:8080/"
        },
        "id": "9HyfLbZ5b0Am",
        "outputId": "1b79aafc-1794-4a49-b0fb-eebaf9da2fd2"
      },
      "outputs": [
        {
          "output_type": "execute_result",
          "data": {
            "text/plain": [
              "['not',\n",
              " 'dont',\n",
              " 'doesnt',\n",
              " 'arent',\n",
              " 'isnt',\n",
              " 'havent',\n",
              " 'hasnt',\n",
              " 'didnt',\n",
              " 'wasnt',\n",
              " 'werent',\n",
              " 'hadnt',\n",
              " 'wont',\n",
              " 'shant',\n",
              " 'cant',\n",
              " 'couldnt',\n",
              " 'neitheir',\n",
              " 'nor',\n",
              " 'rare',\n",
              " 'hardli',\n",
              " 'seldom',\n",
              " 'never',\n",
              " 'no']"
            ]
          },
          "metadata": {},
          "execution_count": 27
        }
      ],
      "source": [
        "negative_form = ['not','dont','doesnt','arent','isnt','havent','hasnt','didnt','wasnt','werent','hadnt','wont','shant','cant',\\\n",
        "'couldnt','neitheir','nor','rarely','hardly','seldom','never','no']\n",
        "negative_form = [stemmer.stem(w) for w in negative_form]\n",
        "negative_form"
      ],
      "id": "9HyfLbZ5b0Am"
    },
    {
      "cell_type": "markdown",
      "metadata": {
        "id": "sQEkMeIAETLw"
      },
      "source": [
        "- Tạm thời thêm phần xử lý rút trích phủ định cho negative tweet TẠM THỜI như sau: \\\\ \n",
        "\n",
        "Xét từ phía trước nằm trong tập negative forms bên trên, nếu từ tiếp theo mang nghĩa positive thì trích nguyên cụm: negative form + positive word -> negative phrase \\\\\n",
        "\n",
        "Ví dụ: not + good -> not good -> negative\n",
        "\n",
        "\n"
      ],
      "id": "sQEkMeIAETLw"
    },
    {
      "cell_type": "code",
      "execution_count": null,
      "metadata": {
        "id": "8WSwp2TTTI5d"
      },
      "outputs": [],
      "source": [
        "afinn_wl_url = ('https://raw.githubusercontent.com'\n",
        "                '/fnielsen/afinn/master/afinn/data/AFINN-111.txt')\n",
        "\n",
        "afinn_wl_df = pd.read_csv(afinn_wl_url,\n",
        "                          header=None, # no column names\n",
        "                          sep='\\t',  # tab sepeated\n",
        "                          names=['term', 'value'])"
      ],
      "id": "8WSwp2TTTI5d"
    },
    {
      "cell_type": "code",
      "execution_count": null,
      "metadata": {
        "colab": {
          "base_uri": "https://localhost:8080/"
        },
        "id": "ht_gqSUJsIKA",
        "outputId": "ac8b73d1-ed6d-4f65-8cb3-c5b99d077049"
      },
      "outputs": [
        {
          "output_type": "execute_result",
          "data": {
            "text/plain": [
              "0.0"
            ]
          },
          "metadata": {},
          "execution_count": 29
        }
      ],
      "source": [
        "afinn.score('internet')"
      ],
      "id": "ht_gqSUJsIKA"
    },
    {
      "cell_type": "code",
      "execution_count": null,
      "metadata": {
        "id": "cpTYLpZBJuUj"
      },
      "outputs": [],
      "source": [
        "\n",
        "class bayes_extraction(BaseEstimator, TransformerMixin):\n",
        "    def __init__(self, k = 5,z_neg=1.65,z_neu = 1.65,z_pos=1.65,w =1, vob_threshold = 2,_max_depth = 3):\n",
        "        #self.num_top_titles = num_top_titles\n",
        "        self.k = k\n",
        "        self.z_neg = z_neg\n",
        "        self.z_neu = z_neu\n",
        "        self.z_pos = z_pos\n",
        "        self.vob_threshold = vob_threshold\n",
        "        self.w = w\n",
        "        self._max_depth = _max_depth\n",
        "    def word2freqs(self,preprocessed_X):\n",
        "        preprocessed_tweets = preprocessed_X.preprocessed_texts.to_list()\n",
        "        list_of_tweets = [list(text.values()) for text in preprocessed_tweets ]\n",
        "        vob2freq = {}\n",
        "        for tw in list_of_tweets:\n",
        "            for word in tw:\n",
        "              if vob2freq.get(word,0) !=0:\n",
        "                  vob2freq[word] +=1\n",
        "              else:\n",
        "                  vob2freq[word] = 1\n",
        "        return vob2freq\n",
        "    def count_tweets(self,preprocessed_X):\n",
        "        '''\n",
        "          Input:\n",
        "      \n",
        "            tweets: a list of tweets\n",
        "            ys: a list corresponding to the sentiment of each tweet (either 0 or 1)\n",
        "          Output:\n",
        "              result: a dictionary mapping each pair to its frequency\n",
        "        '''\n",
        "        preprocessed_X = preprocessed_X.copy()\n",
        "        y_s = preprocessed_X.sentiment.to_list()\n",
        "        preprocessed_tweets = preprocessed_X.preprocessed_texts.to_list()\n",
        "        processed_tweets = [list(text.values()) for text in preprocessed_tweets ]\n",
        "\n",
        "\n",
        "        vob2freqs = self.word2freqs(preprocessed_X)\n",
        "        freqs = {}\n",
        "\n",
        "        for y, tweet in zip(y_s, processed_tweets):\n",
        "            for word in tweet:\n",
        "                if vob2freqs[word] < self.vob_threshold and y==0:\n",
        "                    pair = ('<OOV>',y)\n",
        "                else:\n",
        "\n",
        "                    # define the key, which is the word and label tuple\n",
        "                    pair = (word,y)\n",
        "\n",
        "              # if the key exists in the dictionary, increment the count\n",
        "                if pair in freqs:\n",
        "                    freqs[pair] += 1\n",
        "\n",
        "              # else, if the key is new, add it to the dictionary and set the count to 1\n",
        "                else:\n",
        "                    freqs[pair] = 1\n",
        "\n",
        "        return freqs\n",
        "    \n",
        "    def score_representation(self,freqs,preprocessed_X):\n",
        "        likelihood = {}\n",
        "        preprocessed_X = preprocessed_X.copy()\n",
        "        train_y = preprocessed_X.sentiment.to_list()\n",
        "        preprocessed_tweets = preprocessed_X.preprocessed_texts.to_list()\n",
        "        #train_x = [list(text.values()) for text in preprocessed_tweets ]\n",
        "    \n",
        "      \n",
        "        # calculate V, the number of unique words in the vocabulary\n",
        "        vocab = set([pair[0] for pair in freqs.keys()])\n",
        "        vocabs_ = list(vocab)\n",
        "\n",
        "        V = len(vocab)\n",
        "\n",
        "        # calculate N_pos and N_neg\n",
        "        N_pos = N_neg = N_neu = 0\n",
        "        for pair in freqs.keys():\n",
        "          # if the label is positive (greater than zero)\n",
        "            if pair[1] ==1:\n",
        "\n",
        "                # Increment the number of positive words by the count for this (word, label) pair\n",
        "                  N_pos += freqs[pair]\n",
        "            elif pair[1] ==0:\n",
        "                  N_neu += freqs[pair]\n",
        "            # else, the label is negative\n",
        "            else:\n",
        "                # increment the number of negative words by the count for this (word,label) pair\n",
        "                  N_neg += freqs[pair]\n",
        "\n",
        "          # Calculate D, the number of documents\n",
        "        D = len(train_y)\n",
        "\n",
        "        for word in vocab:\n",
        "          # get the positive and negative frequency of the word\n",
        "            freq_neg = freqs.get((word,-1),0)\n",
        "            freq_neu = freqs.get((word,0),0)\n",
        "            freq_pos = freqs.get((word,1),0)\n",
        "\n",
        "\n",
        "          # calculate the probability that each word is positive, and negative , neutral\n",
        "            s_neg = freq_neg / (freq_neg + freq_neu + freq_pos)\n",
        "            s_neu = freq_neu / (freq_neg + freq_neu + freq_pos)\n",
        "            s_pos = freq_pos / (freq_neg + freq_neu + freq_pos)\n",
        "\n",
        "          # calculate the log likelihood of the word\n",
        "            #likelihood[word] = [np.log(p_w_neg),np.log(p_w_neu),np.log(p_w_pos)]\n",
        "            likelihood[word] = [s_neg,s_neu,s_pos]\n",
        "        return vocabs_, likelihood\n",
        "        \n",
        "    \n",
        "    def bayes_likelihood(self,freqs,preprocessed_X):\n",
        "        '''\n",
        "          Input:\n",
        "              freqs: dictionary from (word, label) to how often the word appears\n",
        "          Output:\n",
        "              loglikelihood: the log likelihood of you Naive bayes equation.\n",
        "        '''\n",
        "        likelihood = {}\n",
        "        preprocessed_X = preprocessed_X.copy()\n",
        "        train_y = preprocessed_X.sentiment.to_list()\n",
        "        preprocessed_tweets = preprocessed_X.preprocessed_texts.to_list()\n",
        "        #train_x = [list(text.values()) for text in preprocessed_tweets ]\n",
        "    \n",
        "\n",
        "        # calculate V, the number of unique words in the vocabulary\n",
        "        vocab = set([pair[0] for pair in freqs.keys()])\n",
        "        vocabs_ = list(vocab)\n",
        "\n",
        "        V = len(vocab)\n",
        "\n",
        "        # calculate N_pos and N_neg\n",
        "        N_pos = N_neg = N_neu = 0\n",
        "        for pair in freqs.keys():\n",
        "          # if the label is positive (greater than zero)\n",
        "            if pair[1] ==1:\n",
        "\n",
        "                # Increment the number of positive words by the count for this (word, label) pair\n",
        "                  N_pos += freqs[pair]\n",
        "            elif pair[1] ==0:\n",
        "                  N_neu += freqs[pair]\n",
        "            # else, the label is negative\n",
        "            else:\n",
        "                # increment the number of negative words by the count for this (word,label) pair\n",
        "                  N_neg += freqs[pair]\n",
        "\n",
        "          # Calculate D, the number of documents\n",
        "        D = len(train_y)\n",
        "\n",
        "        for word in vocab:\n",
        "          # get the positive and negative frequency of the word\n",
        "            freq_pos = freqs.get((word,1),0)\n",
        "            freq_neu = freqs.get((word,0),0)\n",
        "            freq_neg = freqs.get((word,-1),0)\n",
        "        \n",
        "\n",
        "          # calculate the probability that each word is positive, and negative , neutral\n",
        "            p_w_pos = (freq_pos + self.k) / (N_pos + self.k*V)\n",
        "            p_w_neu = (freq_neu + self.k) / (N_neu + self.k*V)\n",
        "            p_w_neg = (freq_neg + self.k) / (N_neg + self.k*V)\n",
        "\n",
        "          # calculate the log likelihood of the word\n",
        "            #likelihood[word] = [np.log(p_w_neg),np.log(p_w_neu),np.log(p_w_pos)]\n",
        "            likelihood[word] = [p_w_neg,p_w_neu,p_w_pos]\n",
        "        return vocabs_, likelihood\n",
        "\n",
        "    def lexical_sentiment_score(self,preprocessed_y_ex,x_likelihood):\n",
        "        y_freqs = self.count_tweets(preprocessed_y_ex) # Dùng làm trọng số rút trích\n",
        "        #vocabs_,y_likelihood = self.bayes_likelihood(y_freqs,preprocessed_y_ex)\n",
        "        N_pos = N_neg = N_neu = 0\n",
        "        for pair in y_freqs.keys():\n",
        "          # if the label is positive (greater than zero)\n",
        "            if pair[1] ==1:\n",
        "\n",
        "                # Increment the number of positive words by the count for this (word, label) pair\n",
        "                  N_pos += y_freqs[pair]\n",
        "            elif pair[1] ==0:\n",
        "                  N_neu += y_freqs[pair]\n",
        "            # else, the label is negative\n",
        "            else:\n",
        "                # increment the number of negative words by the count for this (word,label) pair\n",
        "                  N_neg += y_freqs[pair]\n",
        "\n",
        "        new_x_likelihood = x_likelihood.copy()\n",
        "        for w,l in x_likelihood.items():\n",
        "            if y_freqs.get((w,-1),0)!=0:\n",
        "                #new_x_likelihood[w][0] = np.log((1/(-new_x_likelihood[w][0]- math.pow(10,-10))) * y_freqs[(w,-1)] )\n",
        "                new_x_likelihood[w][0] = new_x_likelihood[w][0]*(y_freqs[(w,-1)])*self.w\n",
        "            if y_freqs.get((w,0),0)!=0:\n",
        "                #new_x_likelihood[w][0] = np.log((1/(-new_x_likelihood[w][1] - math.pow(10,-10)  ))* y_freqs[(w,0)]  )\n",
        "                new_x_likelihood[w][1] = new_x_likelihood[w][1]*(y_freqs[(w,0)])*self.w\n",
        "            if y_freqs.get((w,1),0)!=0:\n",
        "                #new_x_likelihood[w][0] = np.log((1/(-new_x_likelihood[w][2]- math.pow(10,-10))) * y_freqs[(w,1)] )\n",
        "                new_x_likelihood[w][2] = new_x_likelihood[w][2]*(y_freqs[(w,1)])*self.w\n",
        "        return new_x_likelihood\n",
        "           \n",
        "    def sentiment_word_net(self,likelihood):\n",
        "          # word_net = np.zeros(shape = (len(likelihood),3))\n",
        "          # list_of_score = list(likelihood.values())\n",
        "          # for i in range(len(list_of_score)):\n",
        "          #       word_net[i] = np.array(list_of_score[i])\n",
        "          # preds_sentiment = model._predict(word_net)\n",
        "          # word2sentiment = {}\n",
        "          # words = list(likelihood.keys())\n",
        "          # for w,p in zip(words,list(preds_sentiment)):\n",
        "          #       word2sentiment[w] = p\n",
        "          # return word2sentiment\n",
        "          word2sentiment = {}\n",
        "          for w,score in likelihood.items():\n",
        "             max_prob = max(score)\n",
        "             word2sentiment[w] = score.index(max_prob) -1\n",
        "          return word2sentiment\n",
        "\n",
        "    def Extract_Sentiment_Tweet(self,x_class,tweet):\n",
        "          '''input:\n",
        "                tweet: list of word'''\n",
        "          selected_tweet = []\n",
        "          s = x_class +1\n",
        "          \n",
        "          if s==1:\n",
        "            for word in tweet:\n",
        "              if self.likelihood.get(word,0) !=0:\n",
        "                    neg_prob,neu_prob,pos_prob = self.likelihood[word]\n",
        "                    threshold = 1+self.z_neu\n",
        "                    if ((neg_prob/neu_prob) < 1 + self.z_neu) or ((pos_prob/neu_prob) < 1+ self.z_neu):\n",
        "                      selected_tweet.append(word)\n",
        "              else:\n",
        "                  selected_tweet.append(word)\n",
        "          elif s==2:\n",
        "              # for word in tweet:\n",
        "              #       if self.likelihood.get(word,0) !=0:\n",
        "              #           # word2emb = np.array(self.likelihood[word]).reshape(1,3)\n",
        "              #           # _sentiment = int(self.sentiment_tool._predict(word2emb)[0])\n",
        "              #           if self.word2sentiment[word] == x_class:\n",
        "              #                 selected_tweet.append(word)\n",
        "            for word in tweet:\n",
        "              if self.likelihood.get(word,0) !=0:\n",
        "                neg_prob,neu_prob,pos_prob = self.likelihood[word]\n",
        "                max_prob = max(self.likelihood[word])\n",
        "                if self.likelihood[word].index(max_prob) == s:\n",
        "                    if abs(max_prob -neu_prob) > self.z_pos:\n",
        "                    #if max_prob/neu_prob > self.z_pos:\n",
        "                        selected_tweet.append(word)\n",
        "          else:\n",
        "              for word_pos in range(len(tweet)):\n",
        "                if self.likelihood.get(tweet[word_pos],0) !=0:\n",
        "                    max_prob = max(self.likelihood[tweet[word_pos]])\n",
        "                    neg_prob,neu_prob,pos_prob = self.likelihood[tweet[word_pos]]\n",
        "                    if word_pos <len(tweet) -1:\n",
        "                      if tweet[word_pos] in negative_form and self.word2sentiment.get(tweet[word_pos+1] ,-2)== 1:\n",
        "                        selected_tweet.append(tweet[word_pos])\n",
        "                        selected_tweet.append(tweet[word_pos +1])\n",
        "\n",
        "                    if self.word2sentiment[tweet[word_pos]] == -1:\n",
        "                          if abs(max_prob -neu_prob) > self.z_neg:\n",
        "                    #if max_prob/neu_prob > self.z_pos:\n",
        "                              selected_tweet.append(tweet[word_pos])\n",
        "\n",
        "                \n",
        "          return selected_tweet\n",
        "\n",
        "    # def Extract_Sentiment_Tweet_Log(self,x_class,tweet):\n",
        "    #     '''input:\n",
        "    #       tweet: list of word'''\n",
        "    #     selected_tweet = []\n",
        "    #     s = x_class +1\n",
        "    #     if s == 0:\n",
        "    #       z = self.z_neg\n",
        "    #     elif s==1:\n",
        "    #       z = self.z_neu\n",
        "    #     elif s ==2:\n",
        "    #       z = self.z_pos\n",
        "    #     sentiment_score = 0\n",
        "    #     word_sentiment_score = {}\n",
        "    #     word_sentiment_percent = {}\n",
        "    #     for word in tweet:\n",
        "    #       if self.likelihood.get(word,0)!=0:\n",
        "    #             word_sentiment_score[word] = self.likelihood[word][s]\n",
        "    #             sentiment_score += self.likelihood[word][s]\n",
        "    #     # Tính phần trăm đóng góp sentiment của từng từ trong câu theo tỉ lệ phần trăm:\n",
        "    #     for w,score in word_sentiment_score.items():\n",
        "    #         percentage = (abs(score) / abs(sentiment_score))*100\n",
        "    #         word_sentiment_percent[w] = percentage\n",
        "    #     #print(word_sentiment_percent)\n",
        "    #     #threshold = sorted(list(word_sentiment_percent.values()),reverse= True)[0]\n",
        "    #     #len(list(word_sentiment_percent.values()))\n",
        "    #     data = np.array(list(word_sentiment_percent.values()))\n",
        "    #     if data.shape[0] !=0:\n",
        "    #         threshold = data.mean() + z*(data.std()/math.sqrt(data.shape[0]))\n",
        "    #     else:\n",
        "    #         threshold = 0\n",
        "    #     for w,percent in word_sentiment_percent.items():\n",
        "    #         if percent < threshold:\n",
        "    #             selected_tweet.append(w)\n",
        "\n",
        "    #     return selected_tweet\n",
        "    \n",
        "    def Predict_Extract_text(self,Preprocessed_X):\n",
        "        selected = []\n",
        "        preprocessed_X = Preprocessed_X.copy()\n",
        "        y_s = preprocessed_X.sentiment.to_list()\n",
        "        preprocessed_tweets = preprocessed_X.preprocessed_texts.to_list()\n",
        "        tweets = [list(text.values()) for text in preprocessed_tweets ]\n",
        "        for y, tweet in zip(y_s,tweets):\n",
        "            #selected_predict = Extract_Sentiment_Tweet(y,tweet,likelihood)\n",
        "            selected_predict = self.Extract_Sentiment_Tweet(y,tweet)\n",
        "            selected.append(selected_predict)\n",
        "        return selected\n",
        "    def Map_Extracted(self,Preprocessed_X,extracted_text):\n",
        "        # extracted_text = self.Predict_Extract_text(Preprocessed_X)\n",
        "        index2word = Preprocessed_X.index2word.to_list()\n",
        "        preprocessed_texts = Preprocessed_X.preprocessed_texts.to_list()\n",
        "        Selected_text = []\n",
        "        for e,i,p in zip(extracted_text,index2word,preprocessed_texts):\n",
        "            Text = {}\n",
        "            for j in p.items():\n",
        "              for w in e:\n",
        "                if w == j[1]:\n",
        "                  Text[j[0]] = i[j[0]]\n",
        "          \n",
        "            Selected_text.append(\" \".join(list(Text.values())))\n",
        "        \n",
        "        return Selected_text\n",
        "\n",
        "    def jaccard(self,str1, str2): \n",
        "        a = set(str1.lower().split()) \n",
        "        b = set(str2.lower().split())\n",
        "        c = a.intersection(b)\n",
        "        return float(len(c)) / (len(a) + len(b) - len(c))\n",
        "\n",
        "    def fit(self, preprocessed_X_df, preprocessed_y_ex):\n",
        "        #preprocessed_train_X_y = pd.concat([preprocessed_X_df.loc[:,['preprocessed_texts','sentiment']],preprocessed_y_ex ],ignore_index= True)\n",
        "        self.freqs = self.count_tweets(preprocessed_X_df)\n",
        "        self.vocabs, self.init_likelihood = self.bayes_likelihood(self.freqs,preprocessed_X_df)\n",
        "        \n",
        "        #self.vocabs, self.likelihood = self.score_representation(self.freqs,preprocessed_train_X_y)\n",
        "        #self.vocabs, self.likelihood = self.bayes_likelihood(self.freqs,preprocessed_X_df)\n",
        "        self.likelihood = self.lexical_sentiment_score(preprocessed_y_ex,self.init_likelihood)\n",
        "        #self.sentiment_tool = Sentiment_Classification(_max_depth = self._max_depth)._fit(preprocessed_y_ex,self.likelihood)\n",
        "        #self.word2sentiment = self.sentiment_word_net(self.sentiment_tool,self.likelihood)\n",
        "        self.word2sentiment = self.sentiment_word_net(self.likelihood)\n",
        "        return self\n",
        "\n",
        "    def transform(self, preprocessed_X_df):\n",
        "        self.extracted_text = self.Predict_Extract_text(preprocessed_X_df)\n",
        "        selected_text = self.Map_Extracted(preprocessed_X_df,self.extracted_text)\n",
        "        return selected_text\n",
        "\n",
        "    def score(self,selected_text,y_ex):\n",
        "        score = 0\n",
        "        y_true_s = y_ex.copy().to_list()\n",
        "        for y_pred, y_true in zip(selected_text,y_true_s):\n",
        "            score += self.jaccard(str(y_true),y_pred)\n",
        "        return score/len(y_true_s)"
      ],
      "id": "cpTYLpZBJuUj"
    },
    {
      "cell_type": "code",
      "execution_count": null,
      "metadata": {
        "id": "EK8uiwX0s2Re"
      },
      "outputs": [],
      "source": [
        "#tse_st.count_tweets(preprocessed_train_y_ex)"
      ],
      "id": "EK8uiwX0s2Re"
    },
    {
      "cell_type": "markdown",
      "metadata": {
        "id": "hqomATfa9FWv"
      },
      "source": [
        "##### 2.2.2.1 Training"
      ],
      "id": "hqomATfa9FWv"
    },
    {
      "cell_type": "code",
      "execution_count": null,
      "metadata": {
        "colab": {
          "base_uri": "https://localhost:8080/"
        },
        "id": "MUSFMkrxizuV",
        "outputId": "161f5a5b-f697-421b-b4e6-406a4137550a"
      },
      "outputs": [
        {
          "output_type": "execute_result",
          "data": {
            "text/plain": [
              "0.626736030813986"
            ]
          },
          "metadata": {},
          "execution_count": 32
        }
      ],
      "source": [
        "# Training\n",
        "tse_st = bayes_extraction(z_pos= 0.00003,z_neu=4,z_neg = 0.00003,vob_threshold=1,k = 10)\n",
        "selected_train_X = tse_st.fit_transform(preprocessed_train_X,preprocessed_train_y_ex)\n",
        "#selected_train_X = tse_st.extract(preprocessed_train_X)\n",
        "tse_st.score(selected_train_X,train_y_ex)\n"
      ],
      "id": "MUSFMkrxizuV"
    },
    {
      "cell_type": "code",
      "execution_count": null,
      "metadata": {
        "colab": {
          "base_uri": "https://localhost:8080/"
        },
        "id": "ol2tdubvCCzo",
        "outputId": "981f928b-8142-437a-87c7-d1448c083f45"
      },
      "outputs": [
        {
          "output_type": "execute_result",
          "data": {
            "text/plain": [
              "[0.0001504271689164377, 0.00047943660155998197, 6.907747038303457e-05]"
            ]
          },
          "metadata": {},
          "execution_count": 39
        }
      ],
      "source": [
        "tse_st.likelihood['slowli']"
      ],
      "id": "ol2tdubvCCzo"
    },
    {
      "cell_type": "code",
      "execution_count": null,
      "metadata": {
        "colab": {
          "base_uri": "https://localhost:8080/"
        },
        "id": "Zq5j68gJnEqu",
        "outputId": "fdc0011f-cc67-46d6-954e-7a4dfe9a54bb"
      },
      "outputs": [
        {
          "output_type": "execute_result",
          "data": {
            "text/plain": [
              "0.0"
            ]
          },
          "metadata": {},
          "execution_count": 40
        }
      ],
      "source": [
        "afinn.score('traffic')"
      ],
      "id": "Zq5j68gJnEqu"
    },
    {
      "cell_type": "code",
      "execution_count": null,
      "metadata": {
        "id": "XhXvMuwArPsz"
      },
      "outputs": [],
      "source": [
        "# afinn_wl_url = ('https://raw.githubusercontent.com'\n",
        "#                 '/fnielsen/afinn/master/afinn/data/AFINN-111.txt')\n",
        "\n",
        "# afinn_wl_df = pd.read_csv(afinn_wl_url,\n",
        "#                           header=None, # no column names\n",
        "#                           sep='\\t',  # tab sepeated\n",
        "#                           names=['term', 'value'])"
      ],
      "id": "XhXvMuwArPsz"
    },
    {
      "cell_type": "code",
      "execution_count": null,
      "metadata": {
        "id": "SzDq8Nl0sgT7"
      },
      "outputs": [],
      "source": [
        ""
      ],
      "id": "SzDq8Nl0sgT7"
    },
    {
      "cell_type": "markdown",
      "metadata": {
        "id": "84yreD1VMHvT"
      },
      "source": [
        "##### 2.2.2.2 Error Analysis"
      ],
      "id": "84yreD1VMHvT"
    },
    {
      "cell_type": "code",
      "execution_count": null,
      "metadata": {
        "colab": {
          "base_uri": "https://localhost:8080/"
        },
        "id": "K1QiYAhzZTbT",
        "outputId": "cc7d5fb8-f858-4653-ab86-c1d57576a3a9"
      },
      "outputs": [
        {
          "output_type": "execute_result",
          "data": {
            "text/plain": [
              "0.35881986999655163"
            ]
          },
          "metadata": {},
          "execution_count": 42
        }
      ],
      "source": [
        "score_df = pd.DataFrame(data ={'selected_text':selected_train_X ,'true_text':train_y_ex, 'sentiment':train_X_df.sentiment})\n",
        "check_df = score_df.loc[score_df.sentiment== 'negative',:]\n",
        "tse_st.score(check_df.selected_text.to_list(),check_df.true_text)"
      ],
      "id": "K1QiYAhzZTbT"
    },
    {
      "cell_type": "code",
      "execution_count": null,
      "metadata": {
        "id": "JD925xy5MX8k"
      },
      "outputs": [],
      "source": [
        "pd.set_option('display.max_rows', df.shape[0]+1)\n",
        "compare_df = pd.DataFrame(data ={'origin':train_X_df.text,'preprocessed_text':preprocessed_train_X.preprocessed_texts,'selected_text':selected_train_X ,'true_text':train_y_ex, 'sentiment':train_X_df.sentiment})\n",
        "index_check = compare_df.loc[compare_df.sentiment == 'negative',['true_text']].true_text.str.split().apply(len)\n",
        "index_1 = index_check.loc[index_check == 1].index\n",
        "compare_df.loc[index_1,:]"
      ],
      "id": "JD925xy5MX8k"
    },
    {
      "cell_type": "code",
      "execution_count": null,
      "metadata": {
        "colab": {
          "base_uri": "https://localhost:8080/"
        },
        "id": "OCR7BXfvNi0E",
        "outputId": "c270dd54-9af5-4c9b-edcc-b197e414cd4b"
      },
      "outputs": [
        {
          "data": {
            "text/plain": [
              "[0.17689682404067741, 0.4299969001080773, 0.16722788947212042]"
            ]
          },
          "execution_count": 53,
          "metadata": {},
          "output_type": "execute_result"
        }
      ],
      "source": [
        "tse_st.likelihood['like']"
      ],
      "id": "OCR7BXfvNi0E"
    },
    {
      "cell_type": "code",
      "execution_count": null,
      "metadata": {
        "colab": {
          "base_uri": "https://localhost:8080/"
        },
        "id": "dPZYn2czo7za",
        "outputId": "81203f2d-0df4-4658-84b6-51e4b0d4c3e7"
      },
      "outputs": [
        {
          "data": {
            "text/plain": [
              "0.12331351067287812"
            ]
          },
          "execution_count": 137,
          "metadata": {},
          "output_type": "execute_result"
        }
      ],
      "source": [
        "np.array(tse_st.likelihood['like']).std()"
      ],
      "id": "dPZYn2czo7za"
    },
    {
      "cell_type": "code",
      "execution_count": null,
      "metadata": {
        "colab": {
          "base_uri": "https://localhost:8080/"
        },
        "id": "AnVpyPmVk-PC",
        "outputId": "19722281-6312-423e-c47b-fc673e95cd9c"
      },
      "outputs": [
        {
          "data": {
            "text/plain": [
              "-1"
            ]
          },
          "execution_count": 80,
          "metadata": {},
          "output_type": "execute_result"
        }
      ],
      "source": [
        "tse_st.word2sentiment['reducul']"
      ],
      "id": "AnVpyPmVk-PC"
    },
    {
      "cell_type": "markdown",
      "metadata": {
        "id": "OjewiSa78vMf"
      },
      "source": [
        "##### 2.2.3 Draf"
      ],
      "id": "OjewiSa78vMf"
    },
    {
      "cell_type": "code",
      "execution_count": null,
      "metadata": {
        "id": "9nmTqUSngSsn"
      },
      "outputs": [],
      "source": [
        "y_freqs = tse_st.count_tweets(preprocessed_train_y_ex)\n",
        "y_vobs, y_likelihood = tse_st.bayes_likelihood(y_freqs,preprocessed_train_y_ex)"
      ],
      "id": "9nmTqUSngSsn"
    },
    {
      "cell_type": "code",
      "execution_count": null,
      "metadata": {
        "colab": {
          "base_uri": "https://localhost:8080/"
        },
        "id": "Kkps4osglnzI",
        "outputId": "f7c36ed2-74d0-4e29-f315-299437285aa5"
      },
      "outputs": [
        {
          "name": "stdout",
          "output_type": "stream",
          "text": [
            "  (0, 0)\t1.0\n",
            "  (1, 2)\t0.47107781233161794\n",
            "  (1, 1)\t0.47107781233161794\n",
            "  (1, 3)\t0.47107781233161794\n",
            "  (1, 4)\t0.47107781233161794\n",
            "  (1, 0)\t0.33517574332792605\n"
          ]
        }
      ],
      "source": [
        "corpus = ['haha','The party is normal haha']#cleaned_train_X.Cleaned_texts.to_list()\n",
        "vectorizer = TfidfVectorizer()\n",
        "X = vectorizer.fit_transform(corpus)\n",
        "#vectorizer.get_feature_names_out()\n",
        "print(X)"
      ],
      "id": "Kkps4osglnzI"
    },
    {
      "cell_type": "code",
      "execution_count": null,
      "metadata": {
        "colab": {
          "base_uri": "https://localhost:8080/"
        },
        "id": "uZvJ3jXdpk-w",
        "outputId": "b08449bc-d46c-4981-a396-26de0416ef02"
      },
      "outputs": [
        {
          "data": {
            "text/plain": [
              "array([0.00168338, 0.13157643, 0.05351695])"
            ]
          },
          "execution_count": 158,
          "metadata": {},
          "output_type": "execute_result"
        }
      ],
      "source": [
        "a = np.array(tse_st.likelihood['haha'])\n",
        "a"
      ],
      "id": "uZvJ3jXdpk-w"
    },
    {
      "cell_type": "code",
      "execution_count": null,
      "metadata": {
        "colab": {
          "base_uri": "https://localhost:8080/"
        },
        "id": "q5YyzopVmi0_",
        "outputId": "ada6a1ca-cee4-4947-b9e6-2ded04be09c7"
      },
      "outputs": [
        {
          "data": {
            "text/plain": [
              "<19236x15200 sparse matrix of type '<class 'numpy.float64'>'\n",
              "\twith 220401 stored elements in Compressed Sparse Row format>"
            ]
          },
          "execution_count": 89,
          "metadata": {},
          "output_type": "execute_result"
        }
      ],
      "source": [
        "# from scipy.sparse import csr_matrix, vstack\n",
        "# sparse_csr_mat = csr_matrix(X)\n",
        "# sparse_csr_mat"
      ],
      "id": "q5YyzopVmi0_"
    },
    {
      "cell_type": "code",
      "execution_count": null,
      "metadata": {
        "id": "6joAB736nDu3"
      },
      "outputs": [],
      "source": [
        ""
      ],
      "id": "6joAB736nDu3"
    },
    {
      "cell_type": "code",
      "execution_count": null,
      "metadata": {
        "colab": {
          "base_uri": "https://localhost:8080/"
        },
        "id": "d7nfcq-OhBXg",
        "outputId": "a4f36cd5-16a7-4264-8d06-c7f8852bac84"
      },
      "outputs": [
        {
          "data": {
            "text/plain": [
              "54"
            ]
          },
          "execution_count": 80,
          "metadata": {},
          "output_type": "execute_result"
        }
      ],
      "source": [
        "y_freqs[('haha',1)]"
      ],
      "id": "d7nfcq-OhBXg"
    },
    {
      "cell_type": "code",
      "execution_count": null,
      "metadata": {
        "colab": {
          "base_uri": "https://localhost:8080/"
        },
        "id": "fPjcHh2Ig8m-",
        "outputId": "30fec461-1f19-4dbf-f4cb-e7a8370e5511"
      },
      "outputs": [
        {
          "data": {
            "text/plain": [
              "[0.00018684836632245047, 0.001125978684961638, 0.0008027292795504716]"
            ]
          },
          "execution_count": 157,
          "metadata": {},
          "output_type": "execute_result"
        }
      ],
      "source": [
        "y_likelihood['haha']"
      ],
      "id": "fPjcHh2Ig8m-"
    },
    {
      "cell_type": "code",
      "execution_count": null,
      "metadata": {
        "colab": {
          "base_uri": "https://localhost:8080/"
        },
        "id": "fY4LO735f3h_",
        "outputId": "431d8605-9fa3-4896-e119-55e36d6eab54"
      },
      "outputs": [
        {
          "data": {
            "text/plain": [
              "160"
            ]
          },
          "execution_count": 77,
          "metadata": {},
          "output_type": "execute_result"
        }
      ],
      "source": [
        "tse_st.freqs[('haha',0)]"
      ],
      "id": "fY4LO735f3h_"
    },
    {
      "cell_type": "code",
      "execution_count": null,
      "metadata": {
        "colab": {
          "base_uri": "https://localhost:8080/"
        },
        "id": "_FaeAnnsU7Zp",
        "outputId": "6cd90112-c001-4ea0-cd57-03cc68ba5c26"
      },
      "outputs": [
        {
          "data": {
            "text/plain": [
              "[0.22009052868968537, 0.5406386760181168, 0.2876652622403022]"
            ]
          },
          "execution_count": 107,
          "metadata": {},
          "output_type": "execute_result"
        }
      ],
      "source": [
        "tse_st.likelihood['like']"
      ],
      "id": "_FaeAnnsU7Zp"
    },
    {
      "cell_type": "code",
      "execution_count": null,
      "metadata": {
        "id": "B_ErF_0LPaSs"
      },
      "outputs": [],
      "source": [
        "def extract_features(tweet, likelihood):\n",
        "    '''\n",
        "    Input: \n",
        "        tweet: a dictionary of words for one tweet\n",
        "        likelihood: a dictionary corresponding to the score representation of each word\n",
        "    Output: \n",
        "        x: a feature vector of dimension (1,3)\n",
        "    '''\n",
        "    word_l = list(tweet.values())\n",
        "    # 3 elements in the form of a 1 x 3 vector\n",
        "    x = np.zeros((1, 3))   \n",
        "    # loop through each word in the list of words\n",
        "    for word in word_l:\n",
        "        if likelihood.get(word,0)!=0:\n",
        "          # increment the word count for the positive label 1\n",
        "          x[0,0] += likelihood[word][0]\n",
        "        \n",
        "          # increment the word count for the negative label 0\n",
        "          x[0,1] += likelihood[word][1]\n",
        "\n",
        "          x[0,2] += likelihood[word][2]\n",
        "    assert(x.shape == (1, 3))\n",
        "    return x"
      ],
      "id": "B_ErF_0LPaSs"
    },
    {
      "cell_type": "code",
      "execution_count": null,
      "metadata": {
        "id": "wt724e4HF5Hi"
      },
      "outputs": [],
      "source": [
        "# Phân lớp để tìm trọng số rút trích\n",
        "def sentence_embeddings(preprocessed_X_df,likelihood):\n",
        "    sentences = preprocessed_X_df.preprocessed_texts.to_list()\n",
        "    X = np.zeros(shape = (len(sentences),3))\n",
        "    for i in range(len(sentences)):\n",
        "      X[i, :]= extract_features(sentences[i], likelihood)\n",
        "    assert(X.shape == (len(sentences), 3))\n",
        "    return X\n",
        "           \n",
        "      \n"
      ],
      "id": "wt724e4HF5Hi"
    },
    {
      "cell_type": "code",
      "execution_count": null,
      "metadata": {
        "colab": {
          "base_uri": "https://localhost:8080/",
          "height": 217
        },
        "id": "A8mpUpIMNyG3",
        "outputId": "de756516-b927-4d17-8cff-37bda573ef39"
      },
      "outputs": [
        {
          "ename": "NameError",
          "evalue": "ignored",
          "output_type": "error",
          "traceback": [
            "\u001b[0;31m---------------------------------------------------------------------------\u001b[0m",
            "\u001b[0;31mNameError\u001b[0m                                 Traceback (most recent call last)",
            "\u001b[0;32m<ipython-input-66-0df806be07f6>\u001b[0m in \u001b[0;36m<module>\u001b[0;34m()\u001b[0m\n\u001b[0;32m----> 1\u001b[0;31m \u001b[0mtrain_X_TC\u001b[0m  \u001b[0;34m=\u001b[0m \u001b[0msentence_embeddings\u001b[0m\u001b[0;34m(\u001b[0m\u001b[0mpreprocessed_train_y_ex\u001b[0m\u001b[0;34m,\u001b[0m\u001b[0mtse_st\u001b[0m\u001b[0;34m.\u001b[0m\u001b[0mlikelihood\u001b[0m\u001b[0;34m)\u001b[0m\u001b[0;34m\u001b[0m\u001b[0;34m\u001b[0m\u001b[0m\n\u001b[0m\u001b[1;32m      2\u001b[0m \u001b[0mtrain_y_TC\u001b[0m  \u001b[0;34m=\u001b[0m \u001b[0mnp\u001b[0m\u001b[0;34m.\u001b[0m\u001b[0marray\u001b[0m\u001b[0;34m(\u001b[0m\u001b[0mpreprocessed_train_y_ex\u001b[0m\u001b[0;34m.\u001b[0m\u001b[0msentiment\u001b[0m\u001b[0;34m.\u001b[0m\u001b[0mto_list\u001b[0m\u001b[0;34m(\u001b[0m\u001b[0;34m)\u001b[0m\u001b[0;34m)\u001b[0m\u001b[0;34m\u001b[0m\u001b[0;34m\u001b[0m\u001b[0m\n\u001b[1;32m      3\u001b[0m \u001b[0mval_X_TC\u001b[0m \u001b[0;34m=\u001b[0m \u001b[0msentence_embeddings\u001b[0m\u001b[0;34m(\u001b[0m\u001b[0mpreprocessed_val_y_ex\u001b[0m\u001b[0;34m,\u001b[0m\u001b[0mtse_st\u001b[0m\u001b[0;34m.\u001b[0m\u001b[0mlikelihood\u001b[0m\u001b[0;34m)\u001b[0m\u001b[0;34m\u001b[0m\u001b[0;34m\u001b[0m\u001b[0m\n\u001b[1;32m      4\u001b[0m \u001b[0mval_y_TC\u001b[0m \u001b[0;34m=\u001b[0m \u001b[0mnp\u001b[0m\u001b[0;34m.\u001b[0m\u001b[0marray\u001b[0m\u001b[0;34m(\u001b[0m\u001b[0mpreprocessed_val_y_ex\u001b[0m\u001b[0;34m.\u001b[0m\u001b[0msentiment\u001b[0m\u001b[0;34m.\u001b[0m\u001b[0mto_list\u001b[0m\u001b[0;34m(\u001b[0m\u001b[0;34m)\u001b[0m\u001b[0;34m)\u001b[0m\u001b[0;34m\u001b[0m\u001b[0;34m\u001b[0m\u001b[0m\n",
            "\u001b[0;31mNameError\u001b[0m: name 'sentence_embeddings' is not defined"
          ]
        }
      ],
      "source": [
        "train_X_TC  = sentence_embeddings(preprocessed_train_y_ex,tse_st.likelihood)\n",
        "train_y_TC  = np.array(preprocessed_train_y_ex.sentiment.to_list())\n",
        "val_X_TC = sentence_embeddings(preprocessed_val_y_ex,tse_st.likelihood)\n",
        "val_y_TC = np.array(preprocessed_val_y_ex.sentiment.to_list())"
      ],
      "id": "A8mpUpIMNyG3"
    },
    {
      "cell_type": "code",
      "execution_count": null,
      "metadata": {
        "colab": {
          "base_uri": "https://localhost:8080/"
        },
        "id": "CLC2whaDVOf5",
        "outputId": "aec8a728-576c-4ab1-e52e-ac25070a7563"
      },
      "outputs": [
        {
          "data": {
            "text/plain": [
              "0.7142337284258682"
            ]
          },
          "execution_count": 112,
          "metadata": {},
          "output_type": "execute_result"
        }
      ],
      "source": [
        "# from sklearn.svm import SVC\n",
        "# clf = SVC(gamma='auto',probability = True,random_state=42)\n",
        "# clf.fit(train_X_TC,train_y_TC)\n",
        "# clf.score(train_X_TC,train_y_TC)"
      ],
      "id": "CLC2whaDVOf5"
    },
    {
      "cell_type": "code",
      "execution_count": null,
      "metadata": {
        "id": "mtwL6wc_1O0L"
      },
      "outputs": [],
      "source": [
        ""
      ],
      "id": "mtwL6wc_1O0L"
    },
    {
      "cell_type": "code",
      "execution_count": null,
      "metadata": {
        "colab": {
          "base_uri": "https://localhost:8080/"
        },
        "id": "O-TYRnWhz2AD",
        "outputId": "e336aceb-f0d7-4421-cf1f-014307b9f717"
      },
      "outputs": [
        {
          "data": {
            "text/plain": [
              "0.8509045539613225"
            ]
          },
          "execution_count": 171,
          "metadata": {},
          "output_type": "execute_result"
        }
      ],
      "source": [
        "from sklearn.ensemble import RandomForestClassifier\n",
        "clf_RT = RandomForestClassifier(max_depth=12, random_state=30)\n",
        "clf_RT.fit(train_X_TC,train_y_TC)\n",
        "clf_RT.score(train_X_TC,train_y_TC)\n"
      ],
      "id": "O-TYRnWhz2AD"
    },
    {
      "cell_type": "code",
      "execution_count": null,
      "metadata": {
        "id": "q3DFgw3f1q0U"
      },
      "outputs": [],
      "source": [
        ""
      ],
      "id": "q3DFgw3f1q0U"
    },
    {
      "cell_type": "code",
      "execution_count": null,
      "metadata": {
        "colab": {
          "base_uri": "https://localhost:8080/"
        },
        "id": "8I9P-EQazH8T",
        "outputId": "048589b2-ae1d-4af9-a82b-c7be87414c39"
      },
      "outputs": [
        {
          "data": {
            "text/plain": [
              "0.7680737506065017"
            ]
          },
          "execution_count": 172,
          "metadata": {},
          "output_type": "execute_result"
        }
      ],
      "source": [
        "clf_RT.predict(val_X_TC)\n",
        "clf_RT.score(val_X_TC,val_y_TC)"
      ],
      "id": "8I9P-EQazH8T"
    },
    {
      "cell_type": "code",
      "execution_count": null,
      "metadata": {
        "id": "mWBRMFIyXTz-"
      },
      "outputs": [],
      "source": [
        "# probs_TC = clf.predict_proba(train_X_TC)\n"
      ],
      "id": "mWBRMFIyXTz-"
    },
    {
      "cell_type": "code",
      "execution_count": null,
      "metadata": {
        "id": "CH5TQgcebXiy"
      },
      "outputs": [],
      "source": [
        "predict_word_temp = np.array(tse_st.likelihood['haha']).reshape(1,3)\n",
        "predict_tweet_temp = extract_features({0: 'thank', 1: 'you',2:'for'}\t\t, tse_st.likelihood)"
      ],
      "id": "CH5TQgcebXiy"
    },
    {
      "cell_type": "code",
      "execution_count": null,
      "metadata": {
        "colab": {
          "base_uri": "https://localhost:8080/",
          "height": 166
        },
        "id": "byImlAPYaG4B",
        "outputId": "a4693d9e-2367-45d6-add8-3ef5a21bb85f"
      },
      "outputs": [
        {
          "ename": "AttributeError",
          "evalue": "ignored",
          "output_type": "error",
          "traceback": [
            "\u001b[0;31m---------------------------------------------------------------------------\u001b[0m",
            "\u001b[0;31mAttributeError\u001b[0m                            Traceback (most recent call last)",
            "\u001b[0;32m<ipython-input-189-ae8036163537>\u001b[0m in \u001b[0;36m<module>\u001b[0;34m()\u001b[0m\n\u001b[0;32m----> 1\u001b[0;31m \u001b[0mclf_RT\u001b[0m\u001b[0;34m.\u001b[0m\u001b[0mpredict\u001b[0m\u001b[0;34m(\u001b[0m\u001b[0mpredict_word_temp\u001b[0m\u001b[0;34m)\u001b[0m\u001b[0;34m.\u001b[0m\u001b[0mto_list\u001b[0m\u001b[0;34m(\u001b[0m\u001b[0;34m)\u001b[0m\u001b[0;34m\u001b[0m\u001b[0;34m\u001b[0m\u001b[0m\n\u001b[0m",
            "\u001b[0;31mAttributeError\u001b[0m: 'numpy.ndarray' object has no attribute 'to_list'"
          ]
        }
      ],
      "source": [
        "clf_RT.predict(predict_word_temp)"
      ],
      "id": "byImlAPYaG4B"
    },
    {
      "cell_type": "code",
      "execution_count": null,
      "metadata": {
        "colab": {
          "base_uri": "https://localhost:8080/"
        },
        "id": "QxXWYWyV2gQt",
        "outputId": "05f9245a-c5d4-4759-b4b6-a2c93a5a2a62"
      },
      "outputs": [
        {
          "data": {
            "text/plain": [
              "array([[0.00448348, 0.02526129, 0.97025523]])"
            ]
          },
          "execution_count": 156,
          "metadata": {},
          "output_type": "execute_result"
        }
      ],
      "source": [
        "clf_RT.predict_proba(predict_word_temp)"
      ],
      "id": "QxXWYWyV2gQt"
    },
    {
      "cell_type": "code",
      "execution_count": null,
      "metadata": {
        "id": "eQyS45WY8mee"
      },
      "outputs": [],
      "source": [
        "s_temp = Sentiment_Classification()\n",
        "result_temp = s_temp._fit(preprocessed_train_y_ex,tse_st.likelihood)"
      ],
      "id": "eQyS45WY8mee"
    },
    {
      "cell_type": "code",
      "execution_count": null,
      "metadata": {
        "colab": {
          "base_uri": "https://localhost:8080/"
        },
        "id": "AwwkVqT69bqC",
        "outputId": "5a06231e-46a3-4688-8d47-4f7544b93e98"
      },
      "outputs": [
        {
          "data": {
            "text/plain": [
              "11343"
            ]
          },
          "execution_count": 182,
          "metadata": {},
          "output_type": "execute_result"
        }
      ],
      "source": [
        "len(tse_st.likelihood)"
      ],
      "id": "AwwkVqT69bqC"
    },
    {
      "cell_type": "code",
      "execution_count": null,
      "metadata": {
        "id": "IpqizTu99_CB"
      },
      "outputs": [],
      "source": [
        "def sentiment_word_net(model,likelihood):\n",
        "  word_net = np.zeros(shape = (len(likelihood),3))\n",
        "  list_of_score = list(likelihood.values())\n",
        "  for i in range(len(list_of_score)):\n",
        "      word_net[i] = np.array(list_of_score[i])\n",
        "  preds_sentiment = model.predict(word_net)\n",
        "  word2sentiment = {}\n",
        "  words = list(likelihood.keys())\n",
        "  for w,p in zip(words,list(preds_sentiment)):\n",
        "     word2sentiment[w] = p\n",
        "  return word2sentiment"
      ],
      "id": "IpqizTu99_CB"
    },
    {
      "cell_type": "code",
      "execution_count": null,
      "metadata": {
        "id": "gRwoyYBSA4Sg"
      },
      "outputs": [],
      "source": [
        "model_temp = sentiment_word_net(clf_RT,tse_st.likelihood)"
      ],
      "id": "gRwoyYBSA4Sg"
    },
    {
      "cell_type": "code",
      "execution_count": null,
      "metadata": {
        "colab": {
          "base_uri": "https://localhost:8080/"
        },
        "id": "f16baWSjCUWh",
        "outputId": "a1607104-6229-4c53-beee-5173d9836526"
      },
      "outputs": [
        {
          "data": {
            "text/plain": [
              "[0.002778920816788957, 0.17323752556041813, 2.8097797887133935]"
            ]
          },
          "execution_count": 211,
          "metadata": {},
          "output_type": "execute_result"
        }
      ],
      "source": [
        "tse_st.likelihood['love']"
      ],
      "id": "f16baWSjCUWh"
    },
    {
      "cell_type": "code",
      "execution_count": null,
      "metadata": {
        "colab": {
          "base_uri": "https://localhost:8080/"
        },
        "id": "ZVdMNZaj9FHO",
        "outputId": "0136eb32-b4fd-4ce2-9405-070f268d8b5d"
      },
      "outputs": [
        {
          "data": {
            "text/plain": [
              "1"
            ]
          },
          "execution_count": 215,
          "metadata": {},
          "output_type": "execute_result"
        }
      ],
      "source": [
        "model_temp['you']"
      ],
      "id": "ZVdMNZaj9FHO"
    },
    {
      "cell_type": "code",
      "execution_count": null,
      "metadata": {
        "colab": {
          "base_uri": "https://localhost:8080/"
        },
        "id": "lNlMtoMAeW-p",
        "outputId": "ad146e39-fb05-4938-9a6e-71b11ca3ce54"
      },
      "outputs": [
        {
          "data": {
            "text/plain": [
              "0.8739342898731545"
            ]
          },
          "execution_count": 197,
          "metadata": {},
          "output_type": "execute_result"
        }
      ],
      "source": [
        "# freqs_temp = tse_st.count_tweets(preprocessed_train_y_ex)\n",
        "# vob_temp, likelihood_temp = tse_st.score_representation(freqs_temp,preprocessed_train_y_ex)\n",
        "# X_temp = sentence_embeddings(preprocessed_train_y_ex,likelihood_temp)\n",
        "# clf_temp = SVC(gamma='auto',probability = True,random_state=1)\n",
        "# clf_temp.fit(X_temp,train_y_TC)\n",
        "# clf_temp.score(X_temp,train_y_TC)"
      ],
      "id": "lNlMtoMAeW-p"
    },
    {
      "cell_type": "code",
      "execution_count": null,
      "metadata": {
        "colab": {
          "base_uri": "https://localhost:8080/",
          "height": 293
        },
        "id": "Gyfk-95kjD2S",
        "outputId": "86a371ff-8ddb-4bd9-c41c-6a822d87505e"
      },
      "outputs": [
        {
          "data": {
            "text/html": [
              "<div>\n",
              "<style scoped>\n",
              "    .dataframe tbody tr th:only-of-type {\n",
              "        vertical-align: middle;\n",
              "    }\n",
              "\n",
              "    .dataframe tbody tr th {\n",
              "        vertical-align: top;\n",
              "    }\n",
              "\n",
              "    .dataframe thead th {\n",
              "        text-align: right;\n",
              "    }\n",
              "</style>\n",
              "<table border=\"1\" class=\"dataframe\">\n",
              "  <thead>\n",
              "    <tr style=\"text-align: right;\">\n",
              "      <th></th>\n",
              "      <th>textID</th>\n",
              "      <th>index2word</th>\n",
              "      <th>preprocessed_texts</th>\n",
              "      <th>sentiment</th>\n",
              "    </tr>\n",
              "  </thead>\n",
              "  <tbody>\n",
              "    <tr>\n",
              "      <th>21628</th>\n",
              "      <td>148582dfe6</td>\n",
              "      <td>{0: 'THE', 1: 'best', 2: 'job', 3: 'in', 4: 'the', 5: 'world', 6: '&amp;', 7: 'yes', 8: 'its', 9: 'in', 10: 'Australia', 11: 'http://tinyurl.com/clxl4l'}</td>\n",
              "      <td>{0: 'the', 1: 'best', 2: 'job', 3: 'in', 4: 'the', 5: 'world', 6: '&lt;Special_Character&gt;', 7: 'ye', 8: 'it', 9: 'in', 10: 'australia', 11: '&lt;URL&gt;'}</td>\n",
              "      <td>1</td>\n",
              "    </tr>\n",
              "    <tr>\n",
              "      <th>24747</th>\n",
              "      <td>9ed3b39ceb</td>\n",
              "      <td>{0: 'Yeah', 1: 'he`s', 2: 'also', 3: 'partial', 4: 'to', 5: 'JT', 6: 'and', 7: 'TI', 8: 'Dead', 9: 'and', 10: 'Gone', 11: 'and', 12: 'Pink`s', 13: 'Sobre'}</td>\n",
              "      <td>{0: 'yeah', 1: 'he', 2: 'also', 3: 'partial', 4: 'to', 5: 'jt', 6: 'and', 7: 'ti', 8: 'dead', 9: 'and', 10: 'gone', 11: 'and', 12: 'pink', 13: 'sobr'}</td>\n",
              "      <td>0</td>\n",
              "    </tr>\n",
              "    <tr>\n",
              "      <th>18164</th>\n",
              "      <td>b2ccc6e924</td>\n",
              "      <td>{0: 'Oui,', 1: 'I', 2: 'figured', 3: 'that', 4: 'since', 5: 'its', 6: 'a', 7: 'day', 8: 'off,', 9: 'I`d', 10: 'better', 11: 'start', 12: 'brushing', 13: 'up', 14: 'on', 15: 'my', 16: 'french;', 17...</td>\n",
              "      <td>{0: 'oui', 1: 'i', 2: 'figur', 3: 'that', 4: 'sinc', 5: 'it', 6: 'a', 7: 'day', 8: 'off', 9: 'id', 10: 'better', 11: 'start', 12: 'brush', 13: 'up', 14: 'on', 15: 'my', 16: 'french', 17: 'so', 18:...</td>\n",
              "      <td>0</td>\n",
              "    </tr>\n",
              "    <tr>\n",
              "      <th>10041</th>\n",
              "      <td>5652d8ae75</td>\n",
              "      <td>{0: 'if', 1: 'i', 2: 'can', 3: 'get', 4: 'a', 5: 'ticket,', 6: 'but', 7: 'the', 8: 'pickings', 9: 'are', 10: 'lookin', 11: 'slim', 12: 'soo', 13: 'prob', 14: 'not'}</td>\n",
              "      <td>{0: 'if', 1: 'i', 2: 'can', 3: 'get', 4: 'a', 5: 'ticket', 6: 'but', 7: 'the', 8: 'pick', 9: 'are', 10: 'lokin', 11: 'slim', 12: 'so', 13: 'prob', 14: 'not'}</td>\n",
              "      <td>0</td>\n",
              "    </tr>\n",
              "    <tr>\n",
              "      <th>12238</th>\n",
              "      <td>49360765cf</td>\n",
              "      <td>{0: 'thank', 1: 'you', 2: 'make', 3: 'sure', 4: 'u', 5: 'read', 6: 'the', 7: 'groups', 8: 'description', 9: 'to', 10: 'better', 11: 'understand', 12: 'this', 13: 'project'}</td>\n",
              "      <td>{0: 'thank', 1: 'you', 2: 'make', 3: 'sure', 4: 'u', 5: 'read', 6: 'the', 7: 'group', 8: 'descript', 9: 'to', 10: 'better', 11: 'understand', 12: 'thi', 13: 'project'}</td>\n",
              "      <td>1</td>\n",
              "    </tr>\n",
              "  </tbody>\n",
              "</table>\n",
              "</div>"
            ],
            "text/plain": [
              "           textID  ... sentiment\n",
              "21628  148582dfe6  ...         1\n",
              "24747  9ed3b39ceb  ...         0\n",
              "18164  b2ccc6e924  ...         0\n",
              "10041  5652d8ae75  ...         0\n",
              "12238  49360765cf  ...         1\n",
              "\n",
              "[5 rows x 4 columns]"
            ]
          },
          "execution_count": 216,
          "metadata": {},
          "output_type": "execute_result"
        }
      ],
      "source": [
        "# preprocessed_train_X.tail(5)"
      ],
      "id": "Gyfk-95kjD2S"
    },
    {
      "cell_type": "code",
      "execution_count": null,
      "metadata": {
        "colab": {
          "base_uri": "https://localhost:8080/",
          "height": 206
        },
        "id": "Y828SUP7jJBH",
        "outputId": "f9e3172c-95b0-4c6e-ed6e-61d3bf0de646"
      },
      "outputs": [
        {
          "data": {
            "text/html": [
              "<div>\n",
              "<style scoped>\n",
              "    .dataframe tbody tr th:only-of-type {\n",
              "        vertical-align: middle;\n",
              "    }\n",
              "\n",
              "    .dataframe tbody tr th {\n",
              "        vertical-align: top;\n",
              "    }\n",
              "\n",
              "    .dataframe thead th {\n",
              "        text-align: right;\n",
              "    }\n",
              "</style>\n",
              "<table border=\"1\" class=\"dataframe\">\n",
              "  <thead>\n",
              "    <tr style=\"text-align: right;\">\n",
              "      <th></th>\n",
              "      <th>preprocessed_texts</th>\n",
              "      <th>sentiment</th>\n",
              "    </tr>\n",
              "  </thead>\n",
              "  <tbody>\n",
              "    <tr>\n",
              "      <th>21628</th>\n",
              "      <td>{0: 'best'}</td>\n",
              "      <td>1</td>\n",
              "    </tr>\n",
              "    <tr>\n",
              "      <th>24747</th>\n",
              "      <td>{0: 'yeah', 1: 'he', 2: 'also', 3: 'partial', 4: 'to', 5: 'jt', 6: 'and', 7: 'ti', 8: 'dead', 9: 'and', 10: 'gone', 11: 'and', 12: 'pink', 13: 'sobr'}</td>\n",
              "      <td>0</td>\n",
              "    </tr>\n",
              "    <tr>\n",
              "      <th>18164</th>\n",
              "      <td>{0: 'oui', 1: 'i', 2: 'figur', 3: 'that', 4: 'sinc', 5: 'it', 6: 'a', 7: 'day', 8: 'off', 9: 'id', 10: 'better', 11: 'start', 12: 'brush', 13: 'up', 14: 'on', 15: 'my', 16: 'french', 17: 'so', 18:...</td>\n",
              "      <td>0</td>\n",
              "    </tr>\n",
              "    <tr>\n",
              "      <th>10041</th>\n",
              "      <td>{0: 'if', 1: 'i', 2: 'can', 3: 'get', 4: 'a', 5: 'ticket', 6: 'but', 7: 'the', 8: 'pick', 9: 'are', 10: 'lokin', 11: 'slim', 12: 'so', 13: 'prob', 14: 'not'}</td>\n",
              "      <td>0</td>\n",
              "    </tr>\n",
              "    <tr>\n",
              "      <th>12238</th>\n",
              "      <td>{0: 'thank', 1: 'you', 2: 'make', 3: 'sure', 4: 'u', 5: 'read', 6: 'the', 7: 'group', 8: 'descript', 9: 'to', 10: 'better', 11: 'understand', 12: 'thi', 13: 'project'}</td>\n",
              "      <td>1</td>\n",
              "    </tr>\n",
              "  </tbody>\n",
              "</table>\n",
              "</div>"
            ],
            "text/plain": [
              "                                                                                                                                                                                            preprocessed_texts  sentiment\n",
              "21628                                                                                                                                                                                              {0: 'best'}          1\n",
              "24747                                                   {0: 'yeah', 1: 'he', 2: 'also', 3: 'partial', 4: 'to', 5: 'jt', 6: 'and', 7: 'ti', 8: 'dead', 9: 'and', 10: 'gone', 11: 'and', 12: 'pink', 13: 'sobr'}          0\n",
              "18164  {0: 'oui', 1: 'i', 2: 'figur', 3: 'that', 4: 'sinc', 5: 'it', 6: 'a', 7: 'day', 8: 'off', 9: 'id', 10: 'better', 11: 'start', 12: 'brush', 13: 'up', 14: 'on', 15: 'my', 16: 'french', 17: 'so', 18:...          0\n",
              "10041                                            {0: 'if', 1: 'i', 2: 'can', 3: 'get', 4: 'a', 5: 'ticket', 6: 'but', 7: 'the', 8: 'pick', 9: 'are', 10: 'lokin', 11: 'slim', 12: 'so', 13: 'prob', 14: 'not'}          0\n",
              "12238                                  {0: 'thank', 1: 'you', 2: 'make', 3: 'sure', 4: 'u', 5: 'read', 6: 'the', 7: 'group', 8: 'descript', 9: 'to', 10: 'better', 11: 'understand', 12: 'thi', 13: 'project'}          1"
            ]
          },
          "execution_count": 215,
          "metadata": {},
          "output_type": "execute_result"
        }
      ],
      "source": [
        "# preprocessed_train_y_ex.tail(5)"
      ],
      "id": "Y828SUP7jJBH"
    },
    {
      "cell_type": "code",
      "execution_count": null,
      "metadata": {
        "colab": {
          "base_uri": "https://localhost:8080/"
        },
        "id": "aa8v13fskPEI",
        "outputId": "4f4a97d7-7f36-49c4-860e-a4e264203f92"
      },
      "outputs": [
        {
          "data": {
            "text/plain": [
              "38472"
            ]
          },
          "execution_count": 212,
          "metadata": {},
          "output_type": "execute_result"
        }
      ],
      "source": [
        "# preprocessed_train_X.shape[0] + preprocessed_train_y_ex.shape[0]"
      ],
      "id": "aa8v13fskPEI"
    },
    {
      "cell_type": "code",
      "execution_count": null,
      "metadata": {
        "colab": {
          "base_uri": "https://localhost:8080/",
          "height": 423
        },
        "id": "m3-IQ4zGkZQY",
        "outputId": "b3c1caa7-b3c9-40ea-a7c7-1a7e48d96fbb"
      },
      "outputs": [
        {
          "data": {
            "text/html": [
              "<div>\n",
              "<style scoped>\n",
              "    .dataframe tbody tr th:only-of-type {\n",
              "        vertical-align: middle;\n",
              "    }\n",
              "\n",
              "    .dataframe tbody tr th {\n",
              "        vertical-align: top;\n",
              "    }\n",
              "\n",
              "    .dataframe thead th {\n",
              "        text-align: right;\n",
              "    }\n",
              "</style>\n",
              "<table border=\"1\" class=\"dataframe\">\n",
              "  <thead>\n",
              "    <tr style=\"text-align: right;\">\n",
              "      <th></th>\n",
              "      <th>preprocessed_texts</th>\n",
              "      <th>sentiment</th>\n",
              "    </tr>\n",
              "  </thead>\n",
              "  <tbody>\n",
              "    <tr>\n",
              "      <th>0</th>\n",
              "      <td>{0: 'st', 1: 'present', 2: 'for', 3: 'senior', 4: 'board', 5: 'fml'}</td>\n",
              "      <td>-1</td>\n",
              "    </tr>\n",
              "    <tr>\n",
              "      <th>1</th>\n",
              "      <td>{0: 'yummi', 1: 'curri', 2: 'save', 3: 'me', 4: 'some', 5: 'pleas', 6: 'lol'}</td>\n",
              "      <td>1</td>\n",
              "    </tr>\n",
              "    <tr>\n",
              "      <th>2</th>\n",
              "      <td>{0: 'i', 1: 'wish', 2: 'i', 3: 'knew', 4: 'someon', 5: 'down', 6: 'there', 7: 'who', 8: 'could', 9: 'hook', 10: 'us', 11: 'up', 12: 'a', 13: 'friend', 14: 'told', 15: 'me', 16: 'onc', 17: 'that', ...</td>\n",
              "      <td>-1</td>\n",
              "    </tr>\n",
              "    <tr>\n",
              "      <th>3</th>\n",
              "      <td>{0: 'lucki', 1: 'u', 2: 'im', 3: 'stuck', 4: 'in', 5: 'the', 6: 'rain'}</td>\n",
              "      <td>0</td>\n",
              "    </tr>\n",
              "    <tr>\n",
              "      <th>4</th>\n",
              "      <td>{0: 'he', 1: 'just', 2: 'not', 3: 'that', 4: 'into', 5: 'you'}</td>\n",
              "      <td>0</td>\n",
              "    </tr>\n",
              "    <tr>\n",
              "      <th>...</th>\n",
              "      <td>...</td>\n",
              "      <td>...</td>\n",
              "    </tr>\n",
              "    <tr>\n",
              "      <th>38467</th>\n",
              "      <td>{0: 'best'}</td>\n",
              "      <td>1</td>\n",
              "    </tr>\n",
              "    <tr>\n",
              "      <th>38468</th>\n",
              "      <td>{0: 'yeah', 1: 'he', 2: 'also', 3: 'partial', 4: 'to', 5: 'jt', 6: 'and', 7: 'ti', 8: 'dead', 9: 'and', 10: 'gone', 11: 'and', 12: 'pink', 13: 'sobr'}</td>\n",
              "      <td>0</td>\n",
              "    </tr>\n",
              "    <tr>\n",
              "      <th>38469</th>\n",
              "      <td>{0: 'oui', 1: 'i', 2: 'figur', 3: 'that', 4: 'sinc', 5: 'it', 6: 'a', 7: 'day', 8: 'off', 9: 'id', 10: 'better', 11: 'start', 12: 'brush', 13: 'up', 14: 'on', 15: 'my', 16: 'french', 17: 'so', 18:...</td>\n",
              "      <td>0</td>\n",
              "    </tr>\n",
              "    <tr>\n",
              "      <th>38470</th>\n",
              "      <td>{0: 'if', 1: 'i', 2: 'can', 3: 'get', 4: 'a', 5: 'ticket', 6: 'but', 7: 'the', 8: 'pick', 9: 'are', 10: 'lokin', 11: 'slim', 12: 'so', 13: 'prob', 14: 'not'}</td>\n",
              "      <td>0</td>\n",
              "    </tr>\n",
              "    <tr>\n",
              "      <th>38471</th>\n",
              "      <td>{0: 'thank', 1: 'you', 2: 'make', 3: 'sure', 4: 'u', 5: 'read', 6: 'the', 7: 'group', 8: 'descript', 9: 'to', 10: 'better', 11: 'understand', 12: 'thi', 13: 'project'}</td>\n",
              "      <td>1</td>\n",
              "    </tr>\n",
              "  </tbody>\n",
              "</table>\n",
              "<p>38472 rows × 2 columns</p>\n",
              "</div>"
            ],
            "text/plain": [
              "                                                                                                                                                                                            preprocessed_texts  sentiment\n",
              "0                                                                                                                                         {0: 'st', 1: 'present', 2: 'for', 3: 'senior', 4: 'board', 5: 'fml'}         -1\n",
              "1                                                                                                                                {0: 'yummi', 1: 'curri', 2: 'save', 3: 'me', 4: 'some', 5: 'pleas', 6: 'lol'}          1\n",
              "2      {0: 'i', 1: 'wish', 2: 'i', 3: 'knew', 4: 'someon', 5: 'down', 6: 'there', 7: 'who', 8: 'could', 9: 'hook', 10: 'us', 11: 'up', 12: 'a', 13: 'friend', 14: 'told', 15: 'me', 16: 'onc', 17: 'that', ...         -1\n",
              "3                                                                                                                                      {0: 'lucki', 1: 'u', 2: 'im', 3: 'stuck', 4: 'in', 5: 'the', 6: 'rain'}          0\n",
              "4                                                                                                                                               {0: 'he', 1: 'just', 2: 'not', 3: 'that', 4: 'into', 5: 'you'}          0\n",
              "...                                                                                                                                                                                                        ...        ...\n",
              "38467                                                                                                                                                                                              {0: 'best'}          1\n",
              "38468                                                   {0: 'yeah', 1: 'he', 2: 'also', 3: 'partial', 4: 'to', 5: 'jt', 6: 'and', 7: 'ti', 8: 'dead', 9: 'and', 10: 'gone', 11: 'and', 12: 'pink', 13: 'sobr'}          0\n",
              "38469  {0: 'oui', 1: 'i', 2: 'figur', 3: 'that', 4: 'sinc', 5: 'it', 6: 'a', 7: 'day', 8: 'off', 9: 'id', 10: 'better', 11: 'start', 12: 'brush', 13: 'up', 14: 'on', 15: 'my', 16: 'french', 17: 'so', 18:...          0\n",
              "38470                                            {0: 'if', 1: 'i', 2: 'can', 3: 'get', 4: 'a', 5: 'ticket', 6: 'but', 7: 'the', 8: 'pick', 9: 'are', 10: 'lokin', 11: 'slim', 12: 'so', 13: 'prob', 14: 'not'}          0\n",
              "38471                                  {0: 'thank', 1: 'you', 2: 'make', 3: 'sure', 4: 'u', 5: 'read', 6: 'the', 7: 'group', 8: 'descript', 9: 'to', 10: 'better', 11: 'understand', 12: 'thi', 13: 'project'}          1\n",
              "\n",
              "[38472 rows x 2 columns]"
            ]
          },
          "execution_count": 68,
          "metadata": {},
          "output_type": "execute_result"
        }
      ],
      "source": [
        "preprocessed_train_X_y = pd.concat([preprocessed_train_X.loc[:,['preprocessed_texts','sentiment']],preprocessed_train_y_ex ],ignore_index= True)\n",
        "preprocessed_train_X_y"
      ],
      "id": "m3-IQ4zGkZQY"
    },
    {
      "cell_type": "code",
      "execution_count": null,
      "metadata": {
        "colab": {
          "base_uri": "https://localhost:8080/"
        },
        "id": "TQBK3UUciLb-",
        "outputId": "c90cd9bf-0eaa-4ede-8c21-bf598d5afb06"
      },
      "outputs": [
        {
          "data": {
            "text/plain": [
              "0.8282907049282595"
            ]
          },
          "execution_count": 79,
          "metadata": {},
          "output_type": "execute_result"
        }
      ],
      "source": [
        "freqs_temp_train = tse_st.count_tweets(preprocessed_train_X_y)\n",
        "vob_temp_train, likelihood_temp_train = tse_st.score_representation(freqs_temp_train,preprocessed_train_X_y)\n",
        "X_temp_train = sentence_embeddings(preprocessed_train_X,likelihood_temp_train)\n",
        "clf_temp_train = SVC(gamma='auto',probability = True,random_state=1)\n",
        "clf_temp_train.fit(X_temp_train,np.array(preprocessed_train_X.sentiment.to_list()))\n",
        "clf_temp_train.score(X_temp_train,np.array(preprocessed_train_X.sentiment.to_list()))"
      ],
      "id": "TQBK3UUciLb-"
    },
    {
      "cell_type": "code",
      "execution_count": null,
      "metadata": {
        "id": "HEJhzr1BHzca"
      },
      "outputs": [],
      "source": [
        ""
      ],
      "id": "HEJhzr1BHzca"
    },
    {
      "cell_type": "code",
      "execution_count": null,
      "metadata": {
        "id": "q8t-X223XX2n"
      },
      "outputs": [],
      "source": [
        "# predict_word_temp = np.array(likelihood_temp['on']).reshape(1,3)\n",
        "# predict_tweet_temp = extract_features({0: 'happi'}\t\t,likelihood_temp)\n",
        "# a =clf_temp_train.predict(predict_tweet_temp)"
      ],
      "id": "q8t-X223XX2n"
    },
    {
      "cell_type": "code",
      "execution_count": null,
      "metadata": {
        "colab": {
          "base_uri": "https://localhost:8080/"
        },
        "id": "fpYkxXz4xx2B",
        "outputId": "5821e796-2135-484b-9e71-dcff279f4aa7"
      },
      "outputs": [
        {
          "data": {
            "text/plain": [
              "1"
            ]
          },
          "execution_count": 250,
          "metadata": {},
          "output_type": "execute_result"
        }
      ],
      "source": [
        "# int(a[0])\n"
      ],
      "id": "fpYkxXz4xx2B"
    },
    {
      "cell_type": "code",
      "execution_count": null,
      "metadata": {
        "colab": {
          "base_uri": "https://localhost:8080/"
        },
        "id": "lLoXkJ9_prO4",
        "outputId": "df4dd86c-109b-4972-e305-8e8844834250"
      },
      "outputs": [
        {
          "data": {
            "text/plain": [
              "0.6709121785540999"
            ]
          },
          "execution_count": 80,
          "metadata": {},
          "output_type": "execute_result"
        }
      ],
      "source": [
        "X_temp_val = sentence_embeddings(preprocessed_val_X,likelihood_temp_train)\n",
        "clf_temp_train.predict(X_temp_val)\n",
        "clf_temp_train.score(X_temp_val,np.array(preprocessed_val_X.sentiment.to_list()))"
      ],
      "id": "lLoXkJ9_prO4"
    },
    {
      "cell_type": "code",
      "execution_count": null,
      "metadata": {
        "id": "xteqGb-24zBY"
      },
      "outputs": [],
      "source": [
        "# vectorizer = TfidfVectorizer()\n",
        "# X = vectorizer.fit_transform(cleaned_train_X.Cleaned_texts.to_list())"
      ],
      "id": "xteqGb-24zBY"
    },
    {
      "cell_type": "code",
      "execution_count": null,
      "metadata": {
        "id": "oIkz-rWz5r8x"
      },
      "outputs": [],
      "source": [
        "#vectorizer.get_feature_names_out()"
      ],
      "id": "oIkz-rWz5r8x"
    },
    {
      "cell_type": "code",
      "execution_count": null,
      "metadata": {
        "id": "uznWTkw66n3j"
      },
      "outputs": [],
      "source": [
        "#word2freq = sorted(tse_st.word2freqs(preprocessed_train_X))\n",
        "#word2freq\n"
      ],
      "id": "uznWTkw66n3j"
    },
    {
      "cell_type": "code",
      "execution_count": null,
      "metadata": {
        "colab": {
          "base_uri": "https://localhost:8080/"
        },
        "id": "thtNP13Cxn2P",
        "outputId": "c9e9ad81-0003-49ef-be50-0e070cfb8859"
      },
      "outputs": [
        {
          "data": {
            "text/plain": [
              "array([[0.00021675, 0.00024867, 0.0003306 ]])"
            ]
          },
          "execution_count": 124,
          "metadata": {},
          "output_type": "execute_result"
        }
      ],
      "source": [
        "temp = np.array(likelihood_y['help']).reshape(1,3)\n",
        "temp"
      ],
      "id": "thtNP13Cxn2P"
    },
    {
      "cell_type": "code",
      "execution_count": null,
      "metadata": {
        "colab": {
          "base_uri": "https://localhost:8080/"
        },
        "id": "Ju_KpM1XDgF4",
        "outputId": "0a9956be-f56e-4c3d-d9d3-c9d20ec72217"
      },
      "outputs": [
        {
          "data": {
            "text/plain": [
              "array([0])"
            ]
          },
          "execution_count": 125,
          "metadata": {},
          "output_type": "execute_result"
        }
      ],
      "source": [
        "clf_temp_train.predict(temp)"
      ],
      "id": "Ju_KpM1XDgF4"
    },
    {
      "cell_type": "code",
      "execution_count": null,
      "metadata": {
        "id": "h_BPI_VKUitY"
      },
      "outputs": [],
      "source": [
        ""
      ],
      "id": "h_BPI_VKUitY"
    },
    {
      "cell_type": "code",
      "execution_count": null,
      "metadata": {
        "id": "NvUTK74Nkn7O"
      },
      "outputs": [],
      "source": [
        ""
      ],
      "id": "NvUTK74Nkn7O"
    },
    {
      "cell_type": "code",
      "execution_count": null,
      "metadata": {
        "id": "gxTGGWLx64zY"
      },
      "outputs": [],
      "source": [
        "#tse_st.likelihood['tweepl']"
      ],
      "id": "gxTGGWLx64zY"
    },
    {
      "cell_type": "code",
      "execution_count": null,
      "metadata": {
        "id": "oMJEgWZR6UX7"
      },
      "outputs": [],
      "source": [
        "#pd.DataFrame(data ={'origin':train_X_df.text,'preds':selected_train_X,'selected_text_True':train_y_ex,'sentiment':train_X_df.sentiment})\n",
        "#word2freq = tse_st.word2freqs(preprocessed_train_X)\n"
      ],
      "id": "oMJEgWZR6UX7"
    },
    {
      "cell_type": "code",
      "execution_count": null,
      "metadata": {
        "id": "RatEI0SPxV23"
      },
      "outputs": [],
      "source": [
        "#word2freq['bestest']"
      ],
      "id": "RatEI0SPxV23"
    },
    {
      "cell_type": "code",
      "execution_count": null,
      "metadata": {
        "id": "f06ZHJaJpQq2"
      },
      "outputs": [],
      "source": [
        "#preprocessed_train_X.loc[25753,:]"
      ],
      "id": "f06ZHJaJpQq2"
    },
    {
      "cell_type": "code",
      "execution_count": null,
      "metadata": {
        "id": "MX_kDcYctA53"
      },
      "outputs": [],
      "source": [
        "#compare_df.loc[25753,:]"
      ],
      "id": "MX_kDcYctA53"
    },
    {
      "cell_type": "markdown",
      "metadata": {
        "id": "z8By9glY82lX"
      },
      "source": [
        "##### 2.2.4 Test on val"
      ],
      "id": "z8By9glY82lX"
    },
    {
      "cell_type": "code",
      "execution_count": null,
      "metadata": {
        "colab": {
          "base_uri": "https://localhost:8080/"
        },
        "id": "TKciMayZnRKD",
        "outputId": "2b562b0e-6184-4fd8-f57d-c5a3dca49293"
      },
      "outputs": [
        {
          "output_type": "execute_result",
          "data": {
            "text/plain": [
              "0.6166152525649129"
            ]
          },
          "metadata": {},
          "execution_count": 33
        }
      ],
      "source": [
        "# Test on val\n",
        "selected_val_X = tse_st.transform(preprocessed_val_X)\n",
        "tse_st.score(selected_val_X,val_y_ex)"
      ],
      "id": "TKciMayZnRKD"
    },
    {
      "cell_type": "code",
      "execution_count": null,
      "metadata": {
        "id": "yVquaeBt_c66"
      },
      "outputs": [],
      "source": [
        "#tse_st.likelihood['argi']"
      ],
      "id": "yVquaeBt_c66"
    },
    {
      "cell_type": "code",
      "execution_count": null,
      "metadata": {
        "colab": {
          "base_uri": "https://localhost:8080/"
        },
        "id": "cC-3HOoSGxEJ",
        "outputId": "385bc14e-e4a0-4398-82c1-272626c6c89f"
      },
      "outputs": [
        {
          "output_type": "execute_result",
          "data": {
            "text/plain": [
              "14283"
            ]
          },
          "metadata": {},
          "execution_count": 80
        }
      ],
      "source": [
        "len(tse_st.vocabs)"
      ],
      "id": "cC-3HOoSGxEJ"
    },
    {
      "cell_type": "code",
      "execution_count": null,
      "metadata": {
        "colab": {
          "base_uri": "https://localhost:8080/"
        },
        "id": "3r0MiMSQKYSs",
        "outputId": "9cf268dc-d9d7-4aac-ac79-d3355330d326"
      },
      "outputs": [
        {
          "output_type": "execute_result",
          "data": {
            "text/plain": [
              "[5.541880452402174e-05, 0.0002345864157709096, 0.0001350536162856654]"
            ]
          },
          "metadata": {},
          "execution_count": 50
        }
      ],
      "source": [
        "tse_st.likelihood['crush']"
      ],
      "id": "3r0MiMSQKYSs"
    },
    {
      "cell_type": "markdown",
      "metadata": {
        "id": "xCCzLRAhtn8y"
      },
      "source": [
        "#### 2.3 Tunning"
      ],
      "id": "xCCzLRAhtn8y"
    },
    {
      "cell_type": "code",
      "execution_count": null,
      "metadata": {
        "colab": {
          "base_uri": "https://localhost:8080/"
        },
        "id": "z5KtP1666NXW",
        "outputId": "8bdb230d-3000-4f68-9d08-ccf5a6a5e666"
      },
      "outputs": [
        {
          "name": "stdout",
          "output_type": "stream",
          "text": [
            "best_train_score:  0.6281233127775028\n",
            "best_val_score:  0.6180062267115272\n",
            "best_k: 10 \n",
            " nbest_z_pos: 6\n"
          ]
        }
      ],
      "source": [
        "# Tunning\n",
        "#z_pos_s = [0.0001,0.0002,0.00003,0.00006,0.0004]\n",
        "vob_thresholds = [2,3,4,5,6]\n",
        "k_s = [1,2,5,7,10,12,15]\n",
        "Val_score = {}\n",
        "Train_score = {}\n",
        "\n",
        "for k in k_s:\n",
        "    #for z3 in z_pos_s:\n",
        "    for thres in vob_thresholds:\n",
        "      #model = bayes_extraction(z_pos=z3,k=k )\n",
        "      model = bayes_extraction(k=k,vob_threshold = thres,z_pos = 0.00003,z_neg = 0.00003, z_neu=4 )\n",
        "      selected_train_text= model.fit_transform(preprocessed_train_X,preprocessed_train_y_ex)\n",
        "      #selected_train_text = model.extract(preprocessed_train_X)\n",
        "      score_train = model.score(selected_train_text,train_y_ex)\n",
        "      #Train_score[score_train] = (k,z3)\n",
        "      Train_score[score_train] = (k,thres)\n",
        "      selected_val_X = model.transform(preprocessed_val_X)\n",
        "      score_val = model.score(selected_val_X,val_y_ex)\n",
        "      #Val_score[score_val] = (k,z3)\n",
        "      Val_score[score_val] = (k,thres)\n",
        "\n",
        "best_train_score = max(list(Train_score.keys()))\n",
        "best_val_score = max(list(Val_score.keys()))\n",
        "best_k,best_vob_thres = Val_score[best_val_score]\n",
        "print('best_train_score: ',best_train_score)\n",
        "print('best_val_score: ',best_val_score)\n",
        "print(f'best_k: {best_k} \\n nbest_z_pos: {best_vob_thres }')\n",
        "# best_val_score = max(Val_score)\n",
        "# best_z = z[Val_score.index(best_val_score)]\n",
        "# print('best_conf: ',best_z)\n",
        "# print('best_train_score: ',max(Train_score))\n",
        "# print('best_val_score: ',best_val_score)"
      ],
      "id": "z5KtP1666NXW"
    },
    {
      "cell_type": "code",
      "execution_count": null,
      "metadata": {
        "id": "wXoLlQLbXXYF"
      },
      "outputs": [],
      "source": [
        "#cleaned_train_X"
      ],
      "id": "wXoLlQLbXXYF"
    },
    {
      "cell_type": "markdown",
      "metadata": {
        "id": "3C2rmJblwyM4"
      },
      "source": [
        "# 2. Deep learning"
      ],
      "id": "3C2rmJblwyM4"
    },
    {
      "cell_type": "markdown",
      "source": [
        "## 2.1 BERT"
      ],
      "metadata": {
        "id": "ew_4s15yErei"
      },
      "id": "ew_4s15yErei"
    },
    {
      "cell_type": "code",
      "source": [
        "!pip install transformers"
      ],
      "metadata": {
        "colab": {
          "base_uri": "https://localhost:8080/"
        },
        "id": "p4pUtFwNePn-",
        "outputId": "61d37d69-374d-472a-f192-48d66cc88338"
      },
      "id": "p4pUtFwNePn-",
      "execution_count": null,
      "outputs": [
        {
          "output_type": "stream",
          "name": "stdout",
          "text": [
            "Collecting transformers\n",
            "  Downloading transformers-4.13.0-py3-none-any.whl (3.3 MB)\n",
            "\u001b[K     |████████████████████████████████| 3.3 MB 5.0 MB/s \n",
            "\u001b[?25hRequirement already satisfied: importlib-metadata in /usr/local/lib/python3.7/dist-packages (from transformers) (4.8.2)\n",
            "Collecting pyyaml>=5.1\n",
            "  Downloading PyYAML-6.0-cp37-cp37m-manylinux_2_5_x86_64.manylinux1_x86_64.manylinux_2_12_x86_64.manylinux2010_x86_64.whl (596 kB)\n",
            "\u001b[K     |████████████████████████████████| 596 kB 30.1 MB/s \n",
            "\u001b[?25hRequirement already satisfied: regex!=2019.12.17 in /usr/local/lib/python3.7/dist-packages (from transformers) (2019.12.20)\n",
            "Collecting huggingface-hub<1.0,>=0.1.0\n",
            "  Downloading huggingface_hub-0.2.1-py3-none-any.whl (61 kB)\n",
            "\u001b[K     |████████████████████████████████| 61 kB 220 kB/s \n",
            "\u001b[?25hCollecting sacremoses\n",
            "  Downloading sacremoses-0.0.46-py3-none-any.whl (895 kB)\n",
            "\u001b[K     |████████████████████████████████| 895 kB 36.5 MB/s \n",
            "\u001b[?25hRequirement already satisfied: requests in /usr/local/lib/python3.7/dist-packages (from transformers) (2.23.0)\n",
            "Collecting tokenizers<0.11,>=0.10.1\n",
            "  Downloading tokenizers-0.10.3-cp37-cp37m-manylinux_2_5_x86_64.manylinux1_x86_64.manylinux_2_12_x86_64.manylinux2010_x86_64.whl (3.3 MB)\n",
            "\u001b[K     |████████████████████████████████| 3.3 MB 42.8 MB/s \n",
            "\u001b[?25hRequirement already satisfied: filelock in /usr/local/lib/python3.7/dist-packages (from transformers) (3.4.0)\n",
            "Requirement already satisfied: tqdm>=4.27 in /usr/local/lib/python3.7/dist-packages (from transformers) (4.62.3)\n",
            "Requirement already satisfied: numpy>=1.17 in /usr/local/lib/python3.7/dist-packages (from transformers) (1.19.5)\n",
            "Requirement already satisfied: packaging>=20.0 in /usr/local/lib/python3.7/dist-packages (from transformers) (21.3)\n",
            "Requirement already satisfied: typing-extensions>=3.7.4.3 in /usr/local/lib/python3.7/dist-packages (from huggingface-hub<1.0,>=0.1.0->transformers) (3.10.0.2)\n",
            "Requirement already satisfied: pyparsing!=3.0.5,>=2.0.2 in /usr/local/lib/python3.7/dist-packages (from packaging>=20.0->transformers) (3.0.6)\n",
            "Requirement already satisfied: zipp>=0.5 in /usr/local/lib/python3.7/dist-packages (from importlib-metadata->transformers) (3.6.0)\n",
            "Requirement already satisfied: idna<3,>=2.5 in /usr/local/lib/python3.7/dist-packages (from requests->transformers) (2.10)\n",
            "Requirement already satisfied: certifi>=2017.4.17 in /usr/local/lib/python3.7/dist-packages (from requests->transformers) (2021.10.8)\n",
            "Requirement already satisfied: chardet<4,>=3.0.2 in /usr/local/lib/python3.7/dist-packages (from requests->transformers) (3.0.4)\n",
            "Requirement already satisfied: urllib3!=1.25.0,!=1.25.1,<1.26,>=1.21.1 in /usr/local/lib/python3.7/dist-packages (from requests->transformers) (1.24.3)\n",
            "Requirement already satisfied: click in /usr/local/lib/python3.7/dist-packages (from sacremoses->transformers) (7.1.2)\n",
            "Requirement already satisfied: joblib in /usr/local/lib/python3.7/dist-packages (from sacremoses->transformers) (1.1.0)\n",
            "Requirement already satisfied: six in /usr/local/lib/python3.7/dist-packages (from sacremoses->transformers) (1.15.0)\n",
            "Installing collected packages: pyyaml, tokenizers, sacremoses, huggingface-hub, transformers\n",
            "  Attempting uninstall: pyyaml\n",
            "    Found existing installation: PyYAML 3.13\n",
            "    Uninstalling PyYAML-3.13:\n",
            "      Successfully uninstalled PyYAML-3.13\n",
            "Successfully installed huggingface-hub-0.2.1 pyyaml-6.0 sacremoses-0.0.46 tokenizers-0.10.3 transformers-4.13.0\n"
          ]
        }
      ]
    },
    {
      "cell_type": "code",
      "source": [
        "#preprocessed_train_X.preprocessed_texts.apply((lambda x: list(x.values()))).to_list()"
      ],
      "metadata": {
        "id": "lwRbLhkyxvkr"
      },
      "id": "lwRbLhkyxvkr",
      "execution_count": null,
      "outputs": []
    },
    {
      "cell_type": "code",
      "source": [
        "preprocessed_X_df, cleaned_X_df = preprocess_tweets(X_df)"
      ],
      "metadata": {
        "id": "iL7rZihI2PXq"
      },
      "id": "iL7rZihI2PXq",
      "execution_count": null,
      "outputs": []
    },
    {
      "cell_type": "code",
      "source": [
        ""
      ],
      "metadata": {
        "id": "R4ZW4V8KxKho",
        "outputId": "889b4f39-93a6-4c29-dd99-882627ae391e",
        "colab": {
          "base_uri": "https://localhost:8080/"
        }
      },
      "id": "R4ZW4V8KxKho",
      "execution_count": null,
      "outputs": [
        {
          "output_type": "stream",
          "name": "stdout",
          "text": [
            "Model summary: Word2Vec(vocab=18768, size=300, alpha=0.025)\n"
          ]
        }
      ]
    },
    {
      "cell_type": "code",
      "source": [
        ""
      ],
      "metadata": {
        "id": "eBqoD1c_4i2T"
      },
      "id": "eBqoD1c_4i2T",
      "execution_count": null,
      "outputs": []
    },
    {
      "cell_type": "code",
      "source": [
        "# # Calculate the cosine similarity between the word bank \n",
        "# # in \"bank robber\" vs \"river bank\" (different meanings).\n",
        "# from scipy.spatial.distance import cosine\n",
        "# diff_bank =1- cosine(model['happi'], model['like'])\n",
        "\n",
        "# # Calculate the cosine similarity between the word bank\n",
        "# # in \"bank robber\" vs \"bank vault\" (same meaning).\n",
        "# same_bank = 1- cosine(model['happi'], model['crush'])\n",
        "\n",
        "# print('Vector similarity for  *similar*  meanings:  %.2f' % same_bank)\n",
        "# print('Vector similarity for *different* meanings:  %.2f' % diff_bank)"
      ],
      "metadata": {
        "id": "TW5xjrGl2W7x"
      },
      "id": "TW5xjrGl2W7x",
      "execution_count": null,
      "outputs": []
    },
    {
      "cell_type": "code",
      "source": [
        "# from sklearn.decomposition import PCA\n",
        "# pca = PCA(n_components=2)\n",
        "# result = pca.fit_transform(X)"
      ],
      "metadata": {
        "id": "ElUz_paGzPzp"
      },
      "id": "ElUz_paGzPzp",
      "execution_count": null,
      "outputs": []
    },
    {
      "cell_type": "code",
      "source": [
        "# from matplotlib import pyplot\n",
        "# from matplotlib.pyplot import figure\n",
        "# figure(num=None, figsize=(15, 15), dpi=80, facecolor='w', edgecolor='k')\n",
        "# # create a scatter plot of the projection\n",
        "# pyplot.scatter(result[:, 0], result[:, 1])\n",
        "# words = list(['happy','crush','like','sad','excited','fun','sorrow'])\n",
        "# for i, word in enumerate(words):\n",
        "# \tpyplot.annotate(word, xy=(result[i, 0], result[i, 1]))\n",
        "# pyplot.show()"
      ],
      "metadata": {
        "id": "PucVHVvFzRQi"
      },
      "id": "PucVHVvFzRQi",
      "execution_count": null,
      "outputs": []
    },
    {
      "cell_type": "code",
      "source": [
        ""
      ],
      "metadata": {
        "id": "vCL-pykAy3qL"
      },
      "id": "vCL-pykAy3qL",
      "execution_count": null,
      "outputs": []
    },
    {
      "cell_type": "code",
      "source": [
        "import torch\n",
        "from transformers import BertTokenizer, BertModel\n",
        "from transformers import AutoTokenizer\n",
        "from keras.models import Model\n",
        "from keras.callbacks import ModelCheckpoint\n",
        "tokenizer = BertTokenizer.from_pretrained('bert-base-uncased')\n",
        "model = BertModel.from_pretrained('bert-base-uncased',\n",
        "                                  output_hidden_states = True, # Whether the model returns all hidden-states.\n",
        "                                  )"
      ],
      "metadata": {
        "colab": {
          "base_uri": "https://localhost:8080/"
        },
        "id": "CuD4QKjCefZP",
        "outputId": "ec23ba5e-8ea3-4811-be1f-75e37497eea5"
      },
      "id": "CuD4QKjCefZP",
      "execution_count": null,
      "outputs": [
        {
          "output_type": "stream",
          "name": "stderr",
          "text": [
            "Some weights of the model checkpoint at bert-base-uncased were not used when initializing BertModel: ['cls.predictions.transform.dense.weight', 'cls.predictions.decoder.weight', 'cls.predictions.bias', 'cls.predictions.transform.LayerNorm.bias', 'cls.seq_relationship.weight', 'cls.seq_relationship.bias', 'cls.predictions.transform.LayerNorm.weight', 'cls.predictions.transform.dense.bias']\n",
            "- This IS expected if you are initializing BertModel from the checkpoint of a model trained on another task or with another architecture (e.g. initializing a BertForSequenceClassification model from a BertForPreTraining model).\n",
            "- This IS NOT expected if you are initializing BertModel from the checkpoint of a model that you expect to be exactly identical (initializing a BertForSequenceClassification model from a BertForSequenceClassification model).\n"
          ]
        }
      ]
    },
    {
      "cell_type": "code",
      "source": [
        "train_text = cleaned_train_X.Cleaned_texts.apply((lambda x: \"[CLS] \" + x + \" [SEP]\"))\n",
        "val_text = cleaned_val_X.Cleaned_texts.apply((lambda x: \"[CLS] \" + x + \" [SEP]\"))"
      ],
      "metadata": {
        "id": "JHFFuDtdyc49"
      },
      "id": "JHFFuDtdyc49",
      "execution_count": null,
      "outputs": []
    },
    {
      "cell_type": "code",
      "source": [
        "train_text"
      ],
      "metadata": {
        "colab": {
          "base_uri": "https://localhost:8080/"
        },
        "id": "qLf5MJpd1k53",
        "outputId": "f36cd2f6-fd2b-4da4-a6c4-41f522705b11"
      },
      "id": "qLf5MJpd1k53",
      "execution_count": null,
      "outputs": [
        {
          "output_type": "execute_result",
          "data": {
            "text/plain": [
              "652                                                                                         [CLS] st presentation for senior boards fml [SEP]\n",
              "24883                                                                                         [CLS] yummy curry save me some please lol [SEP]\n",
              "15385    [CLS] i wish i knew someone down there who could hook us up a friend told me once that they got crappy seats for a show in chi [SEP]\n",
              "16753                                                                                                [CLS] lucky u im stuck in the rain [SEP]\n",
              "19                                                                                                     [CLS] hes just not that into you [SEP]\n",
              "                                                                         ...                                                                 \n",
              "21628                                                                  [CLS] the best job in the world Special yes its in australia URL [SEP]\n",
              "24747                                                            [CLS] yeah hes also partial to jt and ti dead and gone and pinks sobre [SEP]\n",
              "18164        [CLS] oui i figured that since its a day off id better start brushing up on my french so far i have learnt bonjour and oui [SEP]\n",
              "10041                                                           [CLS] if i can get a ticket but the pickings are lokin slim so prob not [SEP]\n",
              "12238                                         [CLS] thank you make sure u read the groups description to better understand this project [SEP]\n",
              "Name: Cleaned_texts, Length: 19236, dtype: object"
            ]
          },
          "metadata": {},
          "execution_count": 31
        }
      ]
    },
    {
      "cell_type": "code",
      "source": [
        "train_tokenized = train_text.apply((lambda x: tokenizer.tokenize(x)))\n",
        "indexed_train_tokens = train_tokenized.apply((lambda x:tokenizer.convert_tokens_to_ids(x))) \n",
        "val_tokenized = val_text.apply((lambda x: tokenizer.tokenize(x)))\n",
        "indexed_val_tokens = val_tokenized.apply((lambda x:tokenizer.convert_tokens_to_ids(x))) "
      ],
      "metadata": {
        "id": "CfpSPMadeH3J"
      },
      "id": "CfpSPMadeH3J",
      "execution_count": null,
      "outputs": []
    },
    {
      "cell_type": "code",
      "source": [
        "train_tokenized"
      ],
      "metadata": {
        "colab": {
          "base_uri": "https://localhost:8080/"
        },
        "id": "AZ5BYcdmkvn8",
        "outputId": "d0d3c15c-2f6a-4beb-f22e-43067e107217"
      },
      "id": "AZ5BYcdmkvn8",
      "execution_count": null,
      "outputs": [
        {
          "output_type": "execute_result",
          "data": {
            "text/plain": [
              "652                                                                                                                    [[CLS], st, presentation, for, senior, boards, fm, ##l, [SEP]]\n",
              "24883                                                                                                               [[CLS], yu, ##mmy, curry, save, me, some, please, lo, ##l, [SEP]]\n",
              "15385          [[CLS], i, wish, i, knew, someone, down, there, who, could, hook, us, up, a, friend, told, me, once, that, they, got, crap, ##py, seats, for, a, show, in, chi, [SEP]]\n",
              "16753                                                                                                                              [[CLS], lucky, u, im, stuck, in, the, rain, [SEP]]\n",
              "19                                                                                                                                [[CLS], he, ##s, just, not, that, into, you, [SEP]]\n",
              "                                                                                             ...                                                                                     \n",
              "21628                                                                                       [[CLS], the, best, job, in, the, world, special, yes, its, in, australia, ur, ##l, [SEP]]\n",
              "24747                                                                   [[CLS], yeah, he, ##s, also, partial, to, j, ##t, and, ti, dead, and, gone, and, pink, ##s, sob, ##re, [SEP]]\n",
              "18164    [[CLS], ou, ##i, i, figured, that, since, its, a, day, off, id, better, start, brushing, up, on, my, french, so, far, i, have, learnt, bon, ##jou, ##r, and, ou, ##i, [SEP]]\n",
              "10041                                                                     [[CLS], if, i, can, get, a, ticket, but, the, picking, ##s, are, loki, ##n, slim, so, pro, ##b, not, [SEP]]\n",
              "12238                                                                [[CLS], thank, you, make, sure, u, read, the, groups, description, to, better, understand, this, project, [SEP]]\n",
              "Name: Cleaned_texts, Length: 19236, dtype: object"
            ]
          },
          "metadata": {},
          "execution_count": 33
        }
      ]
    },
    {
      "cell_type": "code",
      "source": [
        "indexed_train_tokens"
      ],
      "metadata": {
        "colab": {
          "base_uri": "https://localhost:8080/"
        },
        "id": "S1IKcbb_6Cz9",
        "outputId": "a2f4e7a8-ccba-4092-fcec-80d14754af69"
      },
      "id": "S1IKcbb_6Cz9",
      "execution_count": null,
      "outputs": [
        {
          "output_type": "execute_result",
          "data": {
            "text/plain": [
              "652                                                                                                                                                [101, 2358, 8312, 2005, 3026, 7923, 4718, 2140, 102]\n",
              "24883                                                                                                                                [101, 9805, 18879, 15478, 3828, 2033, 2070, 3531, 8840, 2140, 102]\n",
              "15385               [101, 1045, 4299, 1045, 2354, 2619, 2091, 2045, 2040, 2071, 8103, 2149, 2039, 1037, 2767, 2409, 2033, 2320, 2008, 2027, 2288, 10231, 7685, 4272, 2005, 1037, 2265, 1999, 9610, 102]\n",
              "16753                                                                                                                                             [101, 5341, 1057, 10047, 5881, 1999, 1996, 4542, 102]\n",
              "19                                                                                                                                                 [101, 2002, 2015, 2074, 2025, 2008, 2046, 2017, 102]\n",
              "                                                                                                      ...                                                                                              \n",
              "21628                                                                                                         [101, 1996, 2190, 3105, 1999, 1996, 2088, 2569, 2748, 2049, 1999, 2660, 24471, 2140, 102]\n",
              "24747                                                                          [101, 3398, 2002, 2015, 2036, 7704, 2000, 1046, 2102, 1998, 14841, 2757, 1998, 2908, 1998, 5061, 2015, 17540, 2890, 102]\n",
              "18164    [101, 15068, 2072, 1045, 6618, 2008, 2144, 2049, 1037, 2154, 2125, 8909, 2488, 2707, 12766, 2039, 2006, 2026, 2413, 2061, 2521, 1045, 2031, 20215, 14753, 23099, 2099, 1998, 15068, 2072, 102]\n",
              "10041                                                                          [101, 2065, 1045, 2064, 2131, 1037, 7281, 2021, 1996, 8130, 2015, 2024, 24143, 2078, 11754, 2061, 4013, 2497, 2025, 102]\n",
              "12238                                                                                                    [101, 4067, 2017, 2191, 2469, 1057, 3191, 1996, 2967, 6412, 2000, 2488, 3305, 2023, 2622, 102]\n",
              "Name: Cleaned_texts, Length: 19236, dtype: object"
            ]
          },
          "metadata": {},
          "execution_count": 34
        }
      ]
    },
    {
      "cell_type": "code",
      "source": [
        "max_len = 0\n",
        "for i in indexed_train_tokens.values:\n",
        "    if len(i) > max_len:\n",
        "        max_len = len(i)\n",
        "\n",
        "def padding(max_len,tokenized):\n",
        "\n",
        "    return np.array([i + [0]*(max_len-len(i)) for i in tokenized.values])\n",
        "def attention_mask(padded):\n",
        "    return np.where(padded != 0, 1, 0)"
      ],
      "metadata": {
        "id": "W-H6s7iDeF1k"
      },
      "id": "W-H6s7iDeF1k",
      "execution_count": null,
      "outputs": []
    },
    {
      "cell_type": "code",
      "source": [
        "train_padded = padding(max_len,indexed_train_tokens)\n",
        "val_padded = padding(max_len, indexed_val_tokens)"
      ],
      "metadata": {
        "id": "rwsaCjwokWPw"
      },
      "id": "rwsaCjwokWPw",
      "execution_count": null,
      "outputs": []
    },
    {
      "cell_type": "code",
      "source": [
        "max_len"
      ],
      "metadata": {
        "colab": {
          "base_uri": "https://localhost:8080/"
        },
        "id": "zPdrvKlkq5xR",
        "outputId": "3a70f72a-227f-447f-da45-12dcb4d6a80d"
      },
      "id": "zPdrvKlkq5xR",
      "execution_count": null,
      "outputs": [
        {
          "output_type": "execute_result",
          "data": {
            "text/plain": [
              "45"
            ]
          },
          "metadata": {},
          "execution_count": 37
        }
      ]
    },
    {
      "cell_type": "code",
      "source": [
        "train_padded"
      ],
      "metadata": {
        "colab": {
          "base_uri": "https://localhost:8080/"
        },
        "id": "UaNadHLDotbc",
        "outputId": "033feb48-58c0-4852-9a74-ca41c76bafc1"
      },
      "id": "UaNadHLDotbc",
      "execution_count": null,
      "outputs": [
        {
          "output_type": "execute_result",
          "data": {
            "text/plain": [
              "array([[  101,  2358,  8312, ...,     0,     0,     0],\n",
              "       [  101,  9805, 18879, ...,     0,     0,     0],\n",
              "       [  101,  1045,  4299, ...,     0,     0,     0],\n",
              "       ...,\n",
              "       [  101, 15068,  2072, ...,     0,     0,     0],\n",
              "       [  101,  2065,  1045, ...,     0,     0,     0],\n",
              "       [  101,  4067,  2017, ...,     0,     0,     0]])"
            ]
          },
          "metadata": {},
          "execution_count": 38
        }
      ]
    },
    {
      "cell_type": "code",
      "source": [
        "train_attention_mask = np.where(train_padded != 0, 1, 0)"
      ],
      "metadata": {
        "id": "bMEC5bdr-SMJ"
      },
      "id": "bMEC5bdr-SMJ",
      "execution_count": null,
      "outputs": []
    },
    {
      "cell_type": "code",
      "source": [
        "train_attention_mask"
      ],
      "metadata": {
        "colab": {
          "base_uri": "https://localhost:8080/"
        },
        "id": "L8fOunMk-4A2",
        "outputId": "50e3eef9-3500-45a1-fd47-476318d7c8a7"
      },
      "id": "L8fOunMk-4A2",
      "execution_count": null,
      "outputs": [
        {
          "output_type": "execute_result",
          "data": {
            "text/plain": [
              "array([[1, 1, 1, ..., 0, 0, 0],\n",
              "       [1, 1, 1, ..., 0, 0, 0],\n",
              "       [1, 1, 1, ..., 0, 0, 0],\n",
              "       ...,\n",
              "       [1, 1, 1, ..., 0, 0, 0],\n",
              "       [1, 1, 1, ..., 0, 0, 0],\n",
              "       [1, 1, 1, ..., 0, 0, 0]])"
            ]
          },
          "metadata": {},
          "execution_count": 40
        }
      ]
    },
    {
      "cell_type": "code",
      "source": [
        "train_tokens_tensor = torch.tensor(train_padded)\n",
        "#train_attention_mask = torch.tensor(train_attention_mask)"
      ],
      "metadata": {
        "id": "yCHwhZ407B2t"
      },
      "id": "yCHwhZ407B2t",
      "execution_count": null,
      "outputs": []
    },
    {
      "cell_type": "code",
      "source": [
        "train_attention_mask = torch.tensor(train_attention_mask)"
      ],
      "metadata": {
        "id": "g8DygygT-xed"
      },
      "id": "g8DygygT-xed",
      "execution_count": null,
      "outputs": []
    },
    {
      "cell_type": "code",
      "source": [
        "model.eval()\n",
        "with torch.no_grad():\n",
        "    outputs = model(train_tokens_tensor, attention_mask=train_attention_mask)"
      ],
      "metadata": {
        "id": "kzCvboG1_Sbi"
      },
      "id": "kzCvboG1_Sbi",
      "execution_count": null,
      "outputs": []
    },
    {
      "cell_type": "code",
      "execution_count": null,
      "metadata": {
        "colab": {
          "base_uri": "https://localhost:8080/"
        },
        "id": "fmSgep-ffViA",
        "outputId": "b353ede4-8d0f-41f8-92f7-8223f0b35f86"
      },
      "outputs": [
        {
          "output_type": "stream",
          "name": "stdout",
          "text": [
            "[CLS]           101\n",
            "after         2,044\n",
            "excited       7,568\n",
            "money         2,769\n",
            "from          2,013\n",
            "the           1,996\n",
            "bank          2,924\n",
            "vault        11,632\n",
            ",             1,010\n",
            "the           1,996\n",
            "bank          2,924\n",
            "robber       27,307\n",
            "was           2,001\n",
            "seen          2,464\n",
            "fishing       5,645\n",
            "on            2,006\n",
            "the           1,996\n",
            "mississippi   5,900\n",
            "river         2,314\n",
            "bank          2,924\n",
            ".             1,012\n",
            "[SEP]           102\n"
          ]
        }
      ],
      "source": [
        "# Define a new example sentence with multiple meanings of the word \"bank\"\n",
        "text = \"After excited money from the bank vault, the bank robber was seen fishing on the Mississippi river bank.\"\n",
        "#texts = [\"After stealing money from the bank vault, the bank robber was seen fishing on the Mississippi river bank.\", \"I love the mouse that is moving around me\",\\\n",
        "#         \"I buy a mouse that is compatible with my computer.\"]\n",
        "# Add the special tokens.\n",
        "marked_text = \"[CLS] \" + text + \" [SEP]\"\n",
        "#marked_texts = [\"[CLS] \" + text + \" [SEP]\" for text in texts]\n",
        "# Split the sentence into tokens.\n",
        "tokenized_text = tokenizer.tokenize(marked_text)\n",
        "\n",
        "# Map the token strings to their vocabulary indeces.\n",
        "indexed_tokens = tokenizer.convert_tokens_to_ids(tokenized_text)\n",
        "\n",
        "# Display the words with their indeces.\n",
        "for tup in zip(tokenized_text, indexed_tokens):\n",
        "    print('{:<12} {:>6,}'.format(tup[0], tup[1]))"
      ],
      "id": "fmSgep-ffViA"
    },
    {
      "cell_type": "code",
      "source": [
        "tokenized_text"
      ],
      "metadata": {
        "colab": {
          "base_uri": "https://localhost:8080/"
        },
        "id": "qvi-f7mTCDBK",
        "outputId": "efdb0b01-c05d-4fc2-90d4-0426dbfae580"
      },
      "id": "qvi-f7mTCDBK",
      "execution_count": null,
      "outputs": [
        {
          "output_type": "execute_result",
          "data": {
            "text/plain": [
              "['[CLS]',\n",
              " 'after',\n",
              " 'excited',\n",
              " 'money',\n",
              " 'from',\n",
              " 'the',\n",
              " 'bank',\n",
              " 'vault',\n",
              " ',',\n",
              " 'the',\n",
              " 'bank',\n",
              " 'robber',\n",
              " 'was',\n",
              " 'seen',\n",
              " 'fishing',\n",
              " 'on',\n",
              " 'the',\n",
              " 'mississippi',\n",
              " 'river',\n",
              " 'bank',\n",
              " '.',\n",
              " '[SEP]']"
            ]
          },
          "metadata": {},
          "execution_count": 92
        }
      ]
    },
    {
      "cell_type": "code",
      "source": [
        "indexed_tokens"
      ],
      "metadata": {
        "colab": {
          "base_uri": "https://localhost:8080/"
        },
        "id": "vPrfyvb-5K3l",
        "outputId": "0733c7a3-cbdb-472d-8bdb-6b5d8e117da2"
      },
      "id": "vPrfyvb-5K3l",
      "execution_count": null,
      "outputs": [
        {
          "output_type": "execute_result",
          "data": {
            "text/plain": [
              "[101,\n",
              " 2044,\n",
              " 7568,\n",
              " 2769,\n",
              " 2013,\n",
              " 1996,\n",
              " 2924,\n",
              " 11632,\n",
              " 1010,\n",
              " 1996,\n",
              " 2924,\n",
              " 27307,\n",
              " 2001,\n",
              " 2464,\n",
              " 5645,\n",
              " 2006,\n",
              " 1996,\n",
              " 5900,\n",
              " 2314,\n",
              " 2924,\n",
              " 1012,\n",
              " 102]"
            ]
          },
          "metadata": {},
          "execution_count": 93
        }
      ]
    },
    {
      "cell_type": "code",
      "source": [
        "tokens_tensor = torch.tensor([indexed_tokens])"
      ],
      "metadata": {
        "id": "L9jf14AgAtvS"
      },
      "id": "L9jf14AgAtvS",
      "execution_count": null,
      "outputs": []
    },
    {
      "cell_type": "code",
      "source": [
        ""
      ],
      "metadata": {
        "id": "qdv4Oo53CJM-"
      },
      "id": "qdv4Oo53CJM-",
      "execution_count": null,
      "outputs": []
    },
    {
      "cell_type": "code",
      "source": [
        "model.eval()"
      ],
      "metadata": {
        "id": "zF-GWXlDCdTa"
      },
      "id": "zF-GWXlDCdTa",
      "execution_count": null,
      "outputs": []
    },
    {
      "cell_type": "code",
      "source": [
        "with torch.no_grad():\n",
        "\n",
        "    outputs = model(tokens_tensor)"
      ],
      "metadata": {
        "id": "MgzFOB71Cg2H"
      },
      "id": "MgzFOB71Cg2H",
      "execution_count": null,
      "outputs": []
    },
    {
      "cell_type": "code",
      "source": [
        "outputs #[# layers, # batches, # tokens, # features]"
      ],
      "metadata": {
        "id": "QZaYWj71CzRr"
      },
      "id": "QZaYWj71CzRr",
      "execution_count": null,
      "outputs": []
    },
    {
      "cell_type": "code",
      "source": [
        "hidden_states = outputs[2]"
      ],
      "metadata": {
        "id": "HMB0zRhaDfGS"
      },
      "id": "HMB0zRhaDfGS",
      "execution_count": null,
      "outputs": []
    },
    {
      "cell_type": "code",
      "source": [
        "print (\"Number of layers:\", len(hidden_states), \"  (initial embeddings + 12 BERT layers)\")\n",
        "layer_i = 0\n",
        "\n",
        "print (\"Number of batches:\", len(hidden_states[layer_i]))\n",
        "batch_i = 0\n",
        "\n",
        "print (\"Number of tokens:\", len(hidden_states[layer_i][batch_i]))\n",
        "token_i = 0\n",
        "\n",
        "print (\"Number of hidden units:\", len(hidden_states[layer_i][batch_i][token_i]))"
      ],
      "metadata": {
        "colab": {
          "base_uri": "https://localhost:8080/"
        },
        "id": "mfpDCZm3DoZ6",
        "outputId": "8b1a7e20-c9fc-4d69-aa2e-e511036532c6"
      },
      "id": "mfpDCZm3DoZ6",
      "execution_count": null,
      "outputs": [
        {
          "output_type": "stream",
          "name": "stdout",
          "text": [
            "Number of layers: 13   (initial embeddings + 12 BERT layers)\n",
            "Number of batches: 1\n",
            "Number of tokens: 22\n",
            "Number of hidden units: 768\n"
          ]
        }
      ]
    },
    {
      "cell_type": "code",
      "source": [
        "hidden_states[layer_i][0]"
      ],
      "metadata": {
        "colab": {
          "base_uri": "https://localhost:8080/"
        },
        "id": "UiEilomxETEp",
        "outputId": "8e8968ea-c663-40b7-8597-bc923cb2a6e3"
      },
      "id": "UiEilomxETEp",
      "execution_count": null,
      "outputs": [
        {
          "output_type": "execute_result",
          "data": {
            "text/plain": [
              "tensor([[ 0.1686, -0.2858, -0.3261,  ..., -0.0276,  0.0383,  0.1640],\n",
              "        [ 0.2329,  0.1390,  0.2979,  ..., -0.0655,  0.8885,  0.5109],\n",
              "        [ 0.2257, -0.7165, -0.7255,  ...,  0.4844,  0.6030, -0.0957],\n",
              "        ...,\n",
              "        [-0.0374, -0.6155, -1.4419,  ...,  0.0793, -0.0811, -0.3802],\n",
              "        [-0.0228,  0.4207, -0.3288,  ...,  0.4464,  0.5178,  0.5501],\n",
              "        [-0.2350,  0.1566, -0.0462,  ..., -0.4206,  0.3074, -0.2288]])"
            ]
          },
          "metadata": {},
          "execution_count": 77
        }
      ]
    },
    {
      "cell_type": "code",
      "source": [
        "#Desired dimensions:\n",
        "\n",
        "#[# tokens, # layers, # features]\n",
        "# `hidden_states` is a Python list.\n",
        "print('      Type of hidden_states: ', type(hidden_states))\n",
        "\n",
        "# Each layer in the list is a torch tensor.\n",
        "print('Tensor shape for each layer: ', hidden_states[0].size())"
      ],
      "metadata": {
        "colab": {
          "base_uri": "https://localhost:8080/"
        },
        "id": "zl_3rhxSFrxk",
        "outputId": "572e475d-a432-4cf8-e3e9-3e00fb0a9e8a"
      },
      "id": "zl_3rhxSFrxk",
      "execution_count": null,
      "outputs": [
        {
          "output_type": "stream",
          "name": "stdout",
          "text": [
            "      Type of hidden_states:  <class 'tuple'>\n",
            "Tensor shape for each layer:  torch.Size([1, 22, 768])\n"
          ]
        }
      ]
    },
    {
      "cell_type": "code",
      "source": [
        "token_embeddings = torch.stack(hidden_states, dim=0)\n",
        "\n",
        "token_embeddings.size()"
      ],
      "metadata": {
        "colab": {
          "base_uri": "https://localhost:8080/"
        },
        "id": "VobNecQFIhLI",
        "outputId": "1ab6cc45-a371-4389-fea0-bae0e644fd99"
      },
      "id": "VobNecQFIhLI",
      "execution_count": null,
      "outputs": [
        {
          "output_type": "execute_result",
          "data": {
            "text/plain": [
              "torch.Size([13, 1, 22, 768])"
            ]
          },
          "metadata": {},
          "execution_count": 79
        }
      ]
    },
    {
      "cell_type": "code",
      "source": [
        "# Remove dimension 1, the \"batches\".\n",
        "token_embeddings = torch.squeeze(token_embeddings, dim=1)\n",
        "\n",
        "token_embeddings.size()"
      ],
      "metadata": {
        "colab": {
          "base_uri": "https://localhost:8080/"
        },
        "id": "A2WD-VKhJCtZ",
        "outputId": "e2b9779f-3802-4cce-bd34-cefca1b93f12"
      },
      "execution_count": null,
      "outputs": [
        {
          "output_type": "execute_result",
          "data": {
            "text/plain": [
              "torch.Size([13, 22, 768])"
            ]
          },
          "metadata": {},
          "execution_count": 83
        }
      ],
      "id": "A2WD-VKhJCtZ"
    },
    {
      "cell_type": "code",
      "source": [
        "# Swap dimensions 0 and 1.\n",
        "token_embeddings = token_embeddings.permute(1,0,2)\n",
        "token_embeddings.size()"
      ],
      "metadata": {
        "colab": {
          "base_uri": "https://localhost:8080/"
        },
        "id": "twBCihaFKhX_",
        "outputId": "0527b718-9cdf-40bb-a7dc-8d40ea073563"
      },
      "id": "twBCihaFKhX_",
      "execution_count": null,
      "outputs": [
        {
          "output_type": "execute_result",
          "data": {
            "text/plain": [
              "torch.Size([22, 13, 768])"
            ]
          },
          "metadata": {},
          "execution_count": 86
        }
      ]
    },
    {
      "cell_type": "code",
      "source": [
        "#lấy luôn 4 tầng cuối\n",
        "# Stores the token vectors, with shape [22 x 3,072]\n",
        "token_vecs_cat = []\n",
        "\n",
        "# `token_embeddings` is a [22 x 12 x 768] tensor.\n",
        "\n",
        "# For each token in the sentence...\n",
        "for token in token_embeddings:\n",
        "    \n",
        "    # `token` is a [12 x 768] tensor\n",
        "\n",
        "    # Concatenate the vectors (that is, append them together) from the last \n",
        "    # four layers.\n",
        "    # Each layer vector is 768 values, so `cat_vec` is length 3,072.\n",
        "    cat_vec = torch.cat((token[-1], token[-2], token[-3], token[-4]), dim=0)\n",
        "    \n",
        "    # Use `cat_vec` to represent `token`.\n",
        "    token_vecs_cat.append(cat_vec)\n",
        "\n",
        "print ('Shape is: %d x %d' % (len(token_vecs_cat), len(token_vecs_cat[0])))\n"
      ],
      "metadata": {
        "colab": {
          "base_uri": "https://localhost:8080/"
        },
        "id": "HtmlX9rAKu6B",
        "outputId": "28da2331-5f23-4eb4-f901-3ebd570478c4"
      },
      "id": "HtmlX9rAKu6B",
      "execution_count": null,
      "outputs": [
        {
          "output_type": "stream",
          "name": "stdout",
          "text": [
            "Shape is: 22 x 3072\n"
          ]
        }
      ]
    },
    {
      "cell_type": "code",
      "source": [
        "#Sum 4 tầng cuối\n",
        "# Stores the token vectors, with shape [22 x 768]\n",
        "token_vecs_sum = []\n",
        "\n",
        "# `token_embeddings` is a [22 x 12 x 768] tensor.\n",
        "\n",
        "# For each token in the sentence...\n",
        "for token in token_embeddings:\n",
        "\n",
        "    # `token` is a [12 x 768] tensor\n",
        "\n",
        "    # Sum the vectors from the last four layers.\n",
        "    sum_vec = torch.sum(token[-4:], dim=0)\n",
        "    \n",
        "    # Use `sum_vec` to represent `token`.\n",
        "    token_vecs_sum.append(sum_vec)\n",
        "\n",
        "print ('Shape is: %d x %d' % (len(token_vecs_sum), len(token_vecs_sum[0])))"
      ],
      "metadata": {
        "colab": {
          "base_uri": "https://localhost:8080/"
        },
        "id": "VhaCl4NrND0R",
        "outputId": "922941aa-c188-41f0-86dd-e417e547cc60"
      },
      "id": "VhaCl4NrND0R",
      "execution_count": null,
      "outputs": [
        {
          "output_type": "stream",
          "name": "stdout",
          "text": [
            "Shape is: 22 x 768\n"
          ]
        }
      ]
    },
    {
      "cell_type": "code",
      "source": [
        "for i, token_str in enumerate(tokenized_text):\n",
        "  print (i, token_str)"
      ],
      "metadata": {
        "colab": {
          "base_uri": "https://localhost:8080/"
        },
        "id": "R40uq5m9QJUG",
        "outputId": "8fc1bb44-a214-485f-b30a-a8c710f44c3a"
      },
      "execution_count": null,
      "outputs": [
        {
          "output_type": "stream",
          "name": "stdout",
          "text": [
            "0 [CLS]\n",
            "1 after\n",
            "2 stealing\n",
            "3 money\n",
            "4 from\n",
            "5 the\n",
            "6 bank\n",
            "7 vault\n",
            "8 ,\n",
            "9 the\n",
            "10 bank\n",
            "11 robber\n",
            "12 was\n",
            "13 seen\n",
            "14 fishing\n",
            "15 on\n",
            "16 the\n",
            "17 mississippi\n",
            "18 river\n",
            "19 bank\n",
            "20 .\n",
            "21 [SEP]\n"
          ]
        }
      ],
      "id": "R40uq5m9QJUG"
    },
    {
      "cell_type": "code",
      "source": [
        "print('First 5 vector values for each instance of \"bank\".')\n",
        "print('')\n",
        "print(\"bank vault   \", str(token_vecs_sum[6][:5]))\n",
        "print(\"bank robber  \", str(token_vecs_sum[10][:5]))\n",
        "print(\"river bank   \", str(token_vecs_sum[19][:5]))"
      ],
      "metadata": {
        "colab": {
          "base_uri": "https://localhost:8080/"
        },
        "id": "Hm2LopM0QLPs",
        "outputId": "9e1036af-3674-43d9-9840-6fb2ba659191"
      },
      "execution_count": null,
      "outputs": [
        {
          "output_type": "stream",
          "name": "stdout",
          "text": [
            "First 5 vector values for each instance of \"bank\".\n",
            "\n",
            "bank vault    tensor([ 3.3596, -2.9805, -1.5421,  0.7065,  2.0031])\n",
            "bank robber   tensor([ 2.7359, -2.5577, -1.3094,  0.6797,  1.6633])\n",
            "river bank    tensor([ 1.5266, -0.8895, -0.5152, -0.9298,  2.8334])\n"
          ]
        }
      ],
      "id": "Hm2LopM0QLPs"
    },
    {
      "cell_type": "markdown",
      "source": [
        "## 2.2 Attention"
      ],
      "metadata": {
        "id": "cyJceKQnEzDi"
      },
      "id": "cyJceKQnEzDi"
    },
    {
      "cell_type": "code",
      "source": [
        "preprocessed_X_df, cleaned_X_df = preprocess_tweets(X_df)"
      ],
      "metadata": {
        "id": "Y77b3CshcazV"
      },
      "id": "Y77b3CshcazV",
      "execution_count": null,
      "outputs": []
    },
    {
      "cell_type": "code",
      "source": [
        "#word embeddings: Skip-gram: sg=1 ; CBOW: sg = 0\n",
        "from gensim.models import Word2Vec\n",
        "train_sentences = preprocessed_X_df.preprocessed_texts.apply((lambda x: list(x.values()))).to_list()\n",
        "# train model\n",
        "sg_model = Word2Vec(train_sentences, min_count=1,sg=1,size = 300)\n",
        "# summarize the loaded model\n",
        "print(\"Model summary:\",sg_model)\n",
        "# summarize vocabulary\n",
        "words = list(sg_model.wv.vocab)\n",
        "#print(\"List words in vocabulary:\",words)\n",
        "# access vector for one word\n",
        "#print(\"Vector for word 'sentence':\",model['sentence'])\n",
        "# save model\n",
        "sg_model.save('model.bin')\n",
        "# load model\n",
        "new_model = Word2Vec.load('model.bin')"
      ],
      "metadata": {
        "id": "NU7xEiggE7fc",
        "outputId": "72091d99-7b3f-4ca7-98ff-598ad850b0f9",
        "colab": {
          "base_uri": "https://localhost:8080/"
        }
      },
      "id": "NU7xEiggE7fc",
      "execution_count": null,
      "outputs": [
        {
          "output_type": "stream",
          "name": "stdout",
          "text": [
            "Model summary: Word2Vec(vocab=18768, size=300, alpha=0.025)\n"
          ]
        }
      ]
    },
    {
      "cell_type": "code",
      "source": [
        ""
      ],
      "metadata": {
        "id": "4JRxn5pxFDTk"
      },
      "id": "4JRxn5pxFDTk",
      "execution_count": null,
      "outputs": []
    },
    {
      "cell_type": "code",
      "source": [
        "train_index_neutral = cleaned_train_X.loc[cleaned_train_X.sentiment == 0].index\n",
        "cleaned_train_X_pos_neg = cleaned_train_X.drop(train_index_neutral)\n",
        "preprocessed_train_y_ex_pos_neg = preprocessed_train_y_ex.drop(train_index_neutral)\n",
        "\n",
        "val_index_neutral = cleaned_val_X.loc[cleaned_val_X.sentiment == 0].index\n",
        "cleaned_val_X_pos_neg = cleaned_val_X.drop(val_index_neutral)\n",
        "preprocessed_val_y_ex_pos_neg = preprocessed_val_y_ex.drop(val_index_neutral)"
      ],
      "metadata": {
        "id": "Z9n5TOZ1TRqj"
      },
      "id": "Z9n5TOZ1TRqj",
      "execution_count": null,
      "outputs": []
    },
    {
      "cell_type": "code",
      "execution_count": null,
      "metadata": {
        "id": "omckpDxeSn1z"
      },
      "outputs": [],
      "source": [
        "#### Tiền xử lý cho deep learning\n",
        "#0. Sử dụng lại clean text ở mô hình thống kê trên\n",
        "#1. Tạo dictionary word2 index\n",
        "#2. Chuyển câu về vector vs các con số đại diện cho từ (từ bước 1), padding cho các câu bằng nhau\n",
        "\n",
        "vocab_size = len(tse_st.vocabs)\n",
        "embedding_dim = 300\n",
        "max_length = 35\n",
        "trunc_type='post'\n",
        "oov_tok = \"<OOV>\"\n",
        "\n",
        "tokenizer = Tokenizer(num_words = vocab_size, oov_token=oov_tok)\n",
        "tokenizer.fit_on_texts(cleaned_train_X.Cleaned_texts.to_list())\n",
        "word_index = tokenizer.word_index\n",
        "train_sequences = tokenizer.texts_to_sequences(cleaned_train_X.Cleaned_texts.to_list())\n",
        "train_padded = pad_sequences(train_sequences,maxlen=max_length,padding='post',truncating=trunc_type)\n",
        "\n",
        "val_sequences = tokenizer.texts_to_sequences(cleaned_val_X.Cleaned_texts.to_list())\n",
        "val_padded = pad_sequences(val_sequences,maxlen=max_length,padding='post',truncating=trunc_type)"
      ],
      "id": "omckpDxeSn1z"
    },
    {
      "cell_type": "code",
      "source": [
        "train_padded[0]"
      ],
      "metadata": {
        "colab": {
          "base_uri": "https://localhost:8080/"
        },
        "id": "GDisVClqQV8z",
        "outputId": "4e5cd2e4-f48e-422c-d067-a31191525360"
      },
      "id": "GDisVClqQV8z",
      "execution_count": null,
      "outputs": [
        {
          "output_type": "execute_result",
          "data": {
            "text/plain": [
              "array([ 549,  623,   13, 1247, 1191, 1248,    0,    0,    0,    0,    0,\n",
              "          0,    0,    0,    0,    0,    0,    0,    0,    0,    0,    0,\n",
              "          0,    0,    0,    0,    0,    0,    0,    0,    0,    0,    0,\n",
              "          0,    0], dtype=int32)"
            ]
          },
          "metadata": {},
          "execution_count": 37
        }
      ]
    },
    {
      "cell_type": "code",
      "execution_count": null,
      "metadata": {
        "id": "ZfcDIV_7Y0_9"
      },
      "outputs": [],
      "source": [
        ""
      ],
      "id": "ZfcDIV_7Y0_9"
    },
    {
      "cell_type": "code",
      "source": [
        "sg_word2vec = {}\n",
        "for w in words:\n",
        "    try:\n",
        "      sg_word2vec[w]= new_model[w]\n",
        "    except:\n",
        "      continue"
      ],
      "metadata": {
        "id": "_F9VOHwk8yZp",
        "outputId": "b356d2c5-87c4-4377-bccf-d37aae8407ac",
        "colab": {
          "base_uri": "https://localhost:8080/"
        }
      },
      "id": "_F9VOHwk8yZp",
      "execution_count": null,
      "outputs": [
        {
          "output_type": "stream",
          "name": "stderr",
          "text": [
            "/usr/local/lib/python3.7/dist-packages/ipykernel_launcher.py:4: DeprecationWarning: Call to deprecated `__getitem__` (Method will be removed in 4.0.0, use self.wv.__getitem__() instead).\n",
            "  after removing the cwd from sys.path.\n"
          ]
        }
      ]
    },
    {
      "cell_type": "code",
      "source": [
        "len(sg_word2vec)"
      ],
      "metadata": {
        "id": "I1Gntd3O945B",
        "outputId": "0a5c3308-4df0-4d2c-8548-6cdc9c3c341b",
        "colab": {
          "base_uri": "https://localhost:8080/"
        }
      },
      "id": "I1Gntd3O945B",
      "execution_count": null,
      "outputs": [
        {
          "output_type": "execute_result",
          "data": {
            "text/plain": [
              "18768"
            ]
          },
          "metadata": {},
          "execution_count": 39
        }
      ]
    },
    {
      "cell_type": "code",
      "execution_count": null,
      "metadata": {
        "id": "rULqmibjejSY"
      },
      "outputs": [],
      "source": [
        "#word_index\n",
        "#len(tse_st.likelihood)"
      ],
      "id": "rULqmibjejSY"
    },
    {
      "cell_type": "code",
      "execution_count": null,
      "metadata": {
        "colab": {
          "base_uri": "https://localhost:8080/"
        },
        "id": "RQip4IMDjh1x",
        "outputId": "4bd80cbb-8f87-4540-e29c-06039cbfabe9"
      },
      "outputs": [
        {
          "data": {
            "text/plain": [
              "[7.078299261644908e-05, 0.0002255990460383196, 0.00012950907426913713]"
            ]
          },
          "execution_count": 32,
          "metadata": {},
          "output_type": "execute_result"
        }
      ],
      "source": [
        "# tse_st.likelihood['crush']"
      ],
      "id": "RQip4IMDjh1x"
    },
    {
      "cell_type": "code",
      "source": [
        ""
      ],
      "metadata": {
        "id": "1Y53xe7T-c6B"
      },
      "id": "1Y53xe7T-c6B",
      "execution_count": null,
      "outputs": []
    },
    {
      "cell_type": "code",
      "execution_count": null,
      "metadata": {
        "id": "oWxj5oA9cqDx"
      },
      "outputs": [],
      "source": [
        "# word embeddings with score representation\n",
        "def word2vec_statistic(word_index,likelihood):\n",
        "  embeds = np.zeros(shape = (vocab_size,300),dtype = 'float32')\n",
        "  embeds[0] = np.zeros(300,dtype = 'float32')\n",
        "  count_in = 0\n",
        "  count_out = 0\n",
        "  for word in list(word_index.keys())[0:vocab_size-1]:\n",
        "    i = word_index[word]\n",
        "    if word in likelihood:\n",
        "      embeds[i]= likelihood[word]\n",
        "      count_in += 1\n",
        "    else:\n",
        "      embeds[i] = np.random.uniform(-0.25,0.25,300)\n",
        "      count_out += 1\n",
        "  print(count_in,count_out)\n",
        "  return embeds\n"
      ],
      "id": "oWxj5oA9cqDx"
    },
    {
      "cell_type": "code",
      "execution_count": null,
      "metadata": {
        "colab": {
          "base_uri": "https://localhost:8080/"
        },
        "id": "lp5BLiUqi_rB",
        "outputId": "323d59d2-a720-49f8-90b3-bb52b46ac5a9"
      },
      "outputs": [
        {
          "output_type": "stream",
          "name": "stdout",
          "text": [
            "15224 1\n"
          ]
        }
      ],
      "source": [
        "embs = word2vec_statistic(word_index,sg_word2vec)"
      ],
      "id": "lp5BLiUqi_rB"
    },
    {
      "cell_type": "code",
      "source": [
        "len(embs)"
      ],
      "metadata": {
        "colab": {
          "base_uri": "https://localhost:8080/"
        },
        "id": "SZv1svvFZs06",
        "outputId": "8acf5ebd-90b6-4cef-fd7e-33044f512e8c"
      },
      "id": "SZv1svvFZs06",
      "execution_count": null,
      "outputs": [
        {
          "output_type": "execute_result",
          "data": {
            "text/plain": [
              "15233"
            ]
          },
          "metadata": {},
          "execution_count": 42
        }
      ]
    },
    {
      "cell_type": "code",
      "execution_count": null,
      "metadata": {
        "colab": {
          "base_uri": "https://localhost:8080/"
        },
        "id": "3HhKRLDckudm",
        "outputId": "6c520254-3881-4305-dafd-32da3ac94329"
      },
      "outputs": [
        {
          "output_type": "execute_result",
          "data": {
            "text/plain": [
              "1351"
            ]
          },
          "metadata": {},
          "execution_count": 43
        }
      ],
      "source": [
        "word_index['crush']"
      ],
      "id": "3HhKRLDckudm"
    },
    {
      "cell_type": "code",
      "execution_count": null,
      "metadata": {
        "colab": {
          "base_uri": "https://localhost:8080/"
        },
        "id": "ltLBc0JEjUSn",
        "outputId": "23c38a52-6711-4c8a-d070-7912eafb34a5"
      },
      "outputs": [
        {
          "output_type": "execute_result",
          "data": {
            "text/plain": [
              "(15233, 300)"
            ]
          },
          "metadata": {},
          "execution_count": 44
        }
      ],
      "source": [
        "embs.shape"
      ],
      "id": "ltLBc0JEjUSn"
    },
    {
      "cell_type": "code",
      "execution_count": null,
      "metadata": {
        "id": "ilLbKMloZwzV"
      },
      "outputs": [],
      "source": [
        "#Xử lý nhãn:\n",
        "def convert_labels_to_matrix(input_padded,preprocessed_y_ex):\n",
        "    train_labl = [' '.join(list(words.values())) for words in preprocessed_y_ex.preprocessed_texts]\n",
        "    train_labl_sequences = tokenizer.texts_to_sequences(train_labl)\n",
        "    label_matrix = []\n",
        "    for sentence,lable in zip(input_padded, train_labl_sequences):\n",
        "      label_temp = np.zeros(36)\n",
        "      for i,w in enumerate(sentence):\n",
        "            for s in lable:\n",
        "                if s==w:\n",
        "                    label_temp[i] = 1\n",
        "      label_matrix.append(label_temp)\n",
        "    return np.array(label_matrix)\n",
        "\n",
        "def convert_label_matrix_to_ind(input_padded,output_matrix):\n",
        "    extracted_inds = []\n",
        "    for tweet,extracted in zip( input_padded, output_matrix):\n",
        "          words = []\n",
        "          for i,w in enumerate(extracted):\n",
        "              if w==1:\n",
        "                  try:\n",
        "                    words.append(tweet[i])\n",
        "                  except:\n",
        "                    continue\n",
        "          extracted_inds.append(words)\n",
        "    return extracted_inds\n",
        "\n",
        "        \n",
        "\n",
        "\n"
      ],
      "id": "ilLbKMloZwzV"
    },
    {
      "cell_type": "markdown",
      "metadata": {
        "id": "4kb3mVZfLvmk"
      },
      "source": [
        "I am happy -> [0,0,1]\n",
        "I am not happy -> [0,0,1,1]"
      ],
      "id": "4kb3mVZfLvmk"
    },
    {
      "cell_type": "code",
      "execution_count": null,
      "metadata": {
        "id": "0HLsuaQ3kRgW"
      },
      "outputs": [],
      "source": [
        "label_train = convert_labels_to_matrix(train_padded,preprocessed_train_y_ex)\n",
        "label_val = convert_labels_to_matrix(val_padded,preprocessed_val_y_ex)\n",
        "#convert_label_matrix_to_ind(padded,label_train_one_hot)"
      ],
      "id": "0HLsuaQ3kRgW"
    },
    {
      "cell_type": "code",
      "source": [
        "preprocessed_train_y_ex"
      ],
      "metadata": {
        "id": "VJe43Paes2I9",
        "outputId": "1b4f7ba5-379c-44a9-e5fa-dd8d4410b589",
        "colab": {
          "base_uri": "https://localhost:8080/",
          "height": 493
        }
      },
      "id": "VJe43Paes2I9",
      "execution_count": null,
      "outputs": [
        {
          "output_type": "execute_result",
          "data": {
            "text/html": [
              "<div>\n",
              "<style scoped>\n",
              "    .dataframe tbody tr th:only-of-type {\n",
              "        vertical-align: middle;\n",
              "    }\n",
              "\n",
              "    .dataframe tbody tr th {\n",
              "        vertical-align: top;\n",
              "    }\n",
              "\n",
              "    .dataframe thead th {\n",
              "        text-align: right;\n",
              "    }\n",
              "</style>\n",
              "<table border=\"1\" class=\"dataframe\">\n",
              "  <thead>\n",
              "    <tr style=\"text-align: right;\">\n",
              "      <th></th>\n",
              "      <th>preprocessed_texts</th>\n",
              "      <th>Cleaned_text</th>\n",
              "      <th>sentiment</th>\n",
              "    </tr>\n",
              "  </thead>\n",
              "  <tbody>\n",
              "    <tr>\n",
              "      <th>652</th>\n",
              "      <td>{0: 'fml'}</td>\n",
              "      <td>fml</td>\n",
              "      <td>-1</td>\n",
              "    </tr>\n",
              "    <tr>\n",
              "      <th>24883</th>\n",
              "      <td>{0: 'yummi'}</td>\n",
              "      <td>yummi</td>\n",
              "      <td>1</td>\n",
              "    </tr>\n",
              "    <tr>\n",
              "      <th>15385</th>\n",
              "      <td>{0: 'p', 1: 'a', 2: 'friend', 3: 'told', 4: 'me', 5: 'onc', 6: 'that', 7: 'they', 8: 'got', 9: 'crappi', 10: 'seat', 11: 'for', 12: 'a', 13: 'show', 14: 'in'}</td>\n",
              "      <td>p a friend told me onc that they got crappi seat for a show in</td>\n",
              "      <td>-1</td>\n",
              "    </tr>\n",
              "    <tr>\n",
              "      <th>16753</th>\n",
              "      <td>{0: 'lucki', 1: 'u', 2: 'im', 3: 'stuck', 4: 'in', 5: 'the', 6: 'rain'}</td>\n",
              "      <td>lucki u im stuck in the rain</td>\n",
              "      <td>0</td>\n",
              "    </tr>\n",
              "    <tr>\n",
              "      <th>19</th>\n",
              "      <td>{0: 'he', 1: 'just', 2: 'not', 3: 'that', 4: 'into', 5: 'you'}</td>\n",
              "      <td>he just not that into you</td>\n",
              "      <td>0</td>\n",
              "    </tr>\n",
              "    <tr>\n",
              "      <th>...</th>\n",
              "      <td>...</td>\n",
              "      <td>...</td>\n",
              "      <td>...</td>\n",
              "    </tr>\n",
              "    <tr>\n",
              "      <th>21628</th>\n",
              "      <td>{0: 'best'}</td>\n",
              "      <td>best</td>\n",
              "      <td>1</td>\n",
              "    </tr>\n",
              "    <tr>\n",
              "      <th>24747</th>\n",
              "      <td>{0: 'yeah', 1: 'he', 2: 'also', 3: 'partial', 4: 'to', 5: 'jt', 6: 'and', 7: 'ti', 8: 'dead', 9: 'and', 10: 'gone', 11: 'and', 12: 'pink', 13: 'sobr'}</td>\n",
              "      <td>yeah he also partial to jt and ti dead and gone and pink sobr</td>\n",
              "      <td>0</td>\n",
              "    </tr>\n",
              "    <tr>\n",
              "      <th>18164</th>\n",
              "      <td>{0: 'oui', 1: 'i', 2: 'figur', 3: 'that', 4: 'sinc', 5: 'it', 6: 'a', 7: 'day', 8: 'off', 9: 'id', 10: 'better', 11: 'start', 12: 'brush', 13: 'up', 14: 'on', 15: 'my', 16: 'french', 17: 'so', 18:...</td>\n",
              "      <td>oui i figur that sinc it a day off id better start brush up on my french so far i have learnt bonjour and oui</td>\n",
              "      <td>0</td>\n",
              "    </tr>\n",
              "    <tr>\n",
              "      <th>10041</th>\n",
              "      <td>{0: 'if', 1: 'i', 2: 'can', 3: 'get', 4: 'a', 5: 'ticket', 6: 'but', 7: 'the', 8: 'pick', 9: 'are', 10: 'lokin', 11: 'slim', 12: 'so', 13: 'prob', 14: 'not'}</td>\n",
              "      <td>if i can get a ticket but the pick are lokin slim so prob not</td>\n",
              "      <td>0</td>\n",
              "    </tr>\n",
              "    <tr>\n",
              "      <th>12238</th>\n",
              "      <td>{0: 'thank', 1: 'you', 2: 'make', 3: 'sure', 4: 'u', 5: 'read', 6: 'the', 7: 'group', 8: 'descript', 9: 'to', 10: 'better', 11: 'understand', 12: 'thi', 13: 'project'}</td>\n",
              "      <td>thank you make sure u read the group descript to better understand thi project</td>\n",
              "      <td>1</td>\n",
              "    </tr>\n",
              "  </tbody>\n",
              "</table>\n",
              "<p>19236 rows × 3 columns</p>\n",
              "</div>"
            ],
            "text/plain": [
              "                                                                                                                                                                                            preprocessed_texts  ... sentiment\n",
              "652                                                                                                                                                                                                 {0: 'fml'}  ...        -1\n",
              "24883                                                                                                                                                                                             {0: 'yummi'}  ...         1\n",
              "15385                                           {0: 'p', 1: 'a', 2: 'friend', 3: 'told', 4: 'me', 5: 'onc', 6: 'that', 7: 'they', 8: 'got', 9: 'crappi', 10: 'seat', 11: 'for', 12: 'a', 13: 'show', 14: 'in'}  ...        -1\n",
              "16753                                                                                                                                  {0: 'lucki', 1: 'u', 2: 'im', 3: 'stuck', 4: 'in', 5: 'the', 6: 'rain'}  ...         0\n",
              "19                                                                                                                                              {0: 'he', 1: 'just', 2: 'not', 3: 'that', 4: 'into', 5: 'you'}  ...         0\n",
              "...                                                                                                                                                                                                        ...  ...       ...\n",
              "21628                                                                                                                                                                                              {0: 'best'}  ...         1\n",
              "24747                                                   {0: 'yeah', 1: 'he', 2: 'also', 3: 'partial', 4: 'to', 5: 'jt', 6: 'and', 7: 'ti', 8: 'dead', 9: 'and', 10: 'gone', 11: 'and', 12: 'pink', 13: 'sobr'}  ...         0\n",
              "18164  {0: 'oui', 1: 'i', 2: 'figur', 3: 'that', 4: 'sinc', 5: 'it', 6: 'a', 7: 'day', 8: 'off', 9: 'id', 10: 'better', 11: 'start', 12: 'brush', 13: 'up', 14: 'on', 15: 'my', 16: 'french', 17: 'so', 18:...  ...         0\n",
              "10041                                            {0: 'if', 1: 'i', 2: 'can', 3: 'get', 4: 'a', 5: 'ticket', 6: 'but', 7: 'the', 8: 'pick', 9: 'are', 10: 'lokin', 11: 'slim', 12: 'so', 13: 'prob', 14: 'not'}  ...         0\n",
              "12238                                  {0: 'thank', 1: 'you', 2: 'make', 3: 'sure', 4: 'u', 5: 'read', 6: 'the', 7: 'group', 8: 'descript', 9: 'to', 10: 'better', 11: 'understand', 12: 'thi', 13: 'project'}  ...         1\n",
              "\n",
              "[19236 rows x 3 columns]"
            ]
          },
          "metadata": {},
          "execution_count": 47
        }
      ]
    },
    {
      "cell_type": "code",
      "source": [
        "label_train[0]"
      ],
      "metadata": {
        "id": "Nc1zl-A9syYu",
        "outputId": "b1c12fa0-43e2-41c1-87f2-054d355f13b3",
        "colab": {
          "base_uri": "https://localhost:8080/"
        }
      },
      "id": "Nc1zl-A9syYu",
      "execution_count": null,
      "outputs": [
        {
          "output_type": "execute_result",
          "data": {
            "text/plain": [
              "array([0., 0., 0., 0., 0., 1., 0., 0., 0., 0., 0., 0., 0., 0., 0., 0., 0.,\n",
              "       0., 0., 0., 0., 0., 0., 0., 0., 0., 0., 0., 0., 0., 0., 0., 0., 0.,\n",
              "       0., 0.])"
            ]
          },
          "metadata": {},
          "execution_count": 48
        }
      ]
    },
    {
      "cell_type": "code",
      "execution_count": null,
      "metadata": {
        "id": "Ah9IRlf_xLgS"
      },
      "outputs": [],
      "source": [
        "from tensorflow.keras.utils import to_categorical\n",
        "#train_sentiment = to_categorical(cleaned_train_X_pos_neg.sentiment)\n",
        "#val_sentiment = to_categorical(cleaned_train_X_pos_neg.sentiment)"
      ],
      "id": "Ah9IRlf_xLgS"
    },
    {
      "cell_type": "code",
      "source": [
        "from tensorflow.keras.preprocessing.text import Tokenizer\n",
        "tokenizer_sentiment = Tokenizer(lower=True,split=' ',filters='!\"#$%&()*+,-./:;<=>?@[\\\\]^_{|}~\\t\\n')\n",
        "tokenizer_sentiment.fit_on_texts(cleaned_train_X.sentiment.map({-1:'negative',1:'positive',0:'neutral'}).to_list())\n",
        "train_sentiment=tokenizer_sentiment.texts_to_sequences(cleaned_train_X.sentiment.map({-1:'negative',1:'positive',0:'neutral'}).to_list())\n",
        "val_sentiment=tokenizer_sentiment.texts_to_sequences(cleaned_val_X.sentiment.map({-1:'negative',1:'positive',0:'neutral'}).to_list())\n",
        "print(len(train_sentiment),len(cleaned_val_X.sentiment.map({-1:'negative',1:'positive',0:'neutral'}).to_list()))\n",
        "print(tokenizer_sentiment.word_index)\n",
        "vocab_size_sentiment=len(tokenizer_sentiment.word_index)\n",
        "print(vocab_size_sentiment)"
      ],
      "metadata": {
        "id": "ygaNMS1Zhlk0",
        "outputId": "1155bcc7-eedf-4d0d-c31f-0614916222e4",
        "colab": {
          "base_uri": "https://localhost:8080/"
        }
      },
      "id": "ygaNMS1Zhlk0",
      "execution_count": null,
      "outputs": [
        {
          "output_type": "stream",
          "name": "stdout",
          "text": [
            "19236 8244\n",
            "{'neutral': 1, 'positive': 2, 'negative': 3}\n",
            "3\n"
          ]
        }
      ]
    },
    {
      "cell_type": "code",
      "source": [
        "max_length_sentiment=1\n",
        "from tensorflow.keras.preprocessing.sequence import pad_sequences\n",
        "train_sentiment = pad_sequences(train_sentiment,maxlen=max_length_sentiment,padding='post')\n",
        "val_sentiment = pad_sequences(val_sentiment,maxlen=max_length_sentiment,padding='post')\n",
        "print(train_sentiment.shape,val_sentiment.shape)"
      ],
      "metadata": {
        "id": "zAaQGgKliP0s",
        "outputId": "e5d1164c-9f96-419b-b91a-e9a5defbd47c",
        "colab": {
          "base_uri": "https://localhost:8080/"
        }
      },
      "id": "zAaQGgKliP0s",
      "execution_count": null,
      "outputs": [
        {
          "output_type": "stream",
          "name": "stdout",
          "text": [
            "(19236, 1) (8244, 1)\n"
          ]
        }
      ]
    },
    {
      "cell_type": "code",
      "source": [
        ""
      ],
      "metadata": {
        "id": "TTqnHUwUibzj"
      },
      "id": "TTqnHUwUibzj",
      "execution_count": null,
      "outputs": []
    },
    {
      "cell_type": "code",
      "execution_count": null,
      "metadata": {
        "id": "JNwOJC6U06yF"
      },
      "outputs": [],
      "source": [
        "# input_train_sentiment = np.array(cleaned_train_X_pos_neg.sentiment).reshape(-1,1)\n",
        "# input_val_sentiment = np.array(cleaned_val_X_pos_neg.sentiment).reshape(-1,1)"
      ],
      "id": "JNwOJC6U06yF"
    },
    {
      "cell_type": "code",
      "source": [
        "#cleaned_train_X_pos_neg.sentiment.map({-1:'negative',1:'positive'})"
      ],
      "metadata": {
        "id": "_alF-b50fU6L",
        "outputId": "6cf80f13-bbed-43a6-80f9-b6bd421dcb58",
        "colab": {
          "base_uri": "https://localhost:8080/"
        }
      },
      "id": "_alF-b50fU6L",
      "execution_count": null,
      "outputs": [
        {
          "output_type": "execute_result",
          "data": {
            "text/plain": [
              "652      negative\n",
              "24883    positive\n",
              "15385    negative\n",
              "23126    negative\n",
              "27051    negative\n",
              "           ...   \n",
              "5556     positive\n",
              "444      positive\n",
              "17113    negative\n",
              "21628    positive\n",
              "12238    positive\n",
              "Name: sentiment, Length: 11454, dtype: object"
            ]
          },
          "metadata": {},
          "execution_count": 93
        }
      ]
    },
    {
      "cell_type": "code",
      "source": [
        "train_sentiment[1]"
      ],
      "metadata": {
        "id": "EWP9Xq1F7WpY",
        "outputId": "41ffea47-3d07-4a61-e6e6-3bcd3ebf1f5e",
        "colab": {
          "base_uri": "https://localhost:8080/"
        }
      },
      "id": "EWP9Xq1F7WpY",
      "execution_count": null,
      "outputs": [
        {
          "output_type": "execute_result",
          "data": {
            "text/plain": [
              "array([0., 1.], dtype=float32)"
            ]
          },
          "metadata": {},
          "execution_count": 98
        }
      ]
    },
    {
      "cell_type": "code",
      "execution_count": null,
      "metadata": {
        "id": "YB8s3-s1oMXu"
      },
      "outputs": [],
      "source": [
        ""
      ],
      "id": "YB8s3-s1oMXu"
    },
    {
      "cell_type": "code",
      "execution_count": null,
      "metadata": {
        "id": "UPEZltN5rWJh"
      },
      "outputs": [],
      "source": [
        "# input_layer = Input(shape=(300,))\n",
        "# emb_layer = Embedding(5000,100)(input_layer)\n",
        "\n",
        "# lstm_layer1 = Bidirectional(LSTM(50, activation=\"sigmoid\", return_sequences=False))(emb_layer)\n",
        "\n",
        "# hidden_dense_layer = Dense(50,activation=\"sigmoid\")(lstm_layer1)\n",
        "# dense_layer = Dense(1,activation=\"sigmoid\")(hidden_dense_layer)\n",
        "\n",
        "# model = Model(inputs=input_layer, outputs=dense_layer)\n"
      ],
      "id": "UPEZltN5rWJh"
    },
    {
      "cell_type": "code",
      "execution_count": null,
      "metadata": {
        "id": "is856m1I2qQi"
      },
      "outputs": [],
      "source": [
        "def my_loss(true,pred):\n",
        "  #print(true.shape,pred.shape)\n",
        "  loss_obj = tf.keras.losses.BinaryCrossentropy(reduction=tf.keras.losses.Reduction.SUM)\n",
        "  loss = loss_obj (true,pred)\n",
        "  return loss/128 #batch size"
      ],
      "id": "is856m1I2qQi"
    },
    {
      "cell_type": "code",
      "execution_count": null,
      "metadata": {
        "colab": {
          "base_uri": "https://localhost:8080/",
          "height": 1000
        },
        "id": "DeCU7CCRyV9Z",
        "outputId": "91e9d123-de29-4b08-b722-457c32c8a811"
      },
      "outputs": [
        {
          "output_type": "stream",
          "name": "stdout",
          "text": [
            "Model: \"model\"\n",
            "__________________________________________________________________________________________________\n",
            " Layer (type)                   Output Shape         Param #     Connected to                     \n",
            "==================================================================================================\n",
            " input_1 (InputLayer)           [(None, 35)]         0           []                               \n",
            "                                                                                                  \n",
            " input_2 (InputLayer)           [(None, 1)]          0           []                               \n",
            "                                                                                                  \n",
            " embedding (Embedding)          (None, 35, 300)      4569900     ['input_1[0][0]']                \n",
            "                                                                                                  \n",
            " embedding_1 (Embedding)        (None, 1, 300)       1200        ['input_2[0][0]']                \n",
            "                                                                                                  \n",
            " concatenate (Concatenate)      (None, 36, 300)      0           ['embedding[0][0]',              \n",
            "                                                                  'embedding_1[0][0]']            \n",
            "                                                                                                  \n",
            " bidirectional (Bidirectional)  (None, 36, 24)       30048       ['concatenate[0][0]']            \n",
            "                                                                                                  \n",
            " attention (attention)          (None, 36, 24)       60          ['bidirectional[0][0]']          \n",
            "                                                                                                  \n",
            " dense (Dense)                  (None, 36, 4)        100         ['attention[0][0]']              \n",
            "                                                                                                  \n",
            " dropout (Dropout)              (None, 36, 4)        0           ['dense[0][0]']                  \n",
            "                                                                                                  \n",
            " dense_1 (Dense)                (None, 36, 2)        10          ['dropout[0][0]']                \n",
            "                                                                                                  \n",
            " time_distributed (TimeDistribu  (None, 36, 1)       3           ['dense_1[0][0]']                \n",
            " ted)                                                                                             \n",
            "                                                                                                  \n",
            "==================================================================================================\n",
            "Total params: 4,601,321\n",
            "Trainable params: 4,601,321\n",
            "Non-trainable params: 0\n",
            "__________________________________________________________________________________________________\n",
            "None\n"
          ]
        },
        {
          "output_type": "execute_result",
          "data": {
            "image/png": "[encoded data removed]",
            "text/plain": [
              "<IPython.core.display.Image object>"
            ]
          },
          "metadata": {},
          "execution_count": 53
        }
      ],
      "source": [
        "maxlen = 300\n",
        "max_features = 5000\n",
        "embedding_dims = 100\n",
        "rnn_dims = 50\n",
        "batch_size = 1000\n",
        "input_text_layer = Input(shape = (35,))\n",
        "emb_layer_text = Embedding(vocab_size,300,input_length=max_length,weights=[embs])(input_text_layer)\n",
        "#pool_text_layer = GlobalAveragePooling1D()(emb_layer_text)\n",
        "\n",
        "input_sentiment_layer = Input(shape =(1,))\n",
        "emb_layer_sentiment= Embedding(4,300,input_length=1 )(input_sentiment_layer)\n",
        "#flat_layer = Flatten()(input_sentiment_layer)\n",
        "\n",
        "concat_layer= Concatenate(axis = 1)([emb_layer_text,emb_layer_sentiment])\n",
        "lstm_layer1 = Bidirectional(LSTM(12, activation=\"sigmoid\", return_sequences=True))(concat_layer)\n",
        "\n",
        "#Attention\n",
        "from tensorflow.keras.activations import  tanh\n",
        "from tensorflow.keras.backend import dot\n",
        "from tensorflow.keras.activations import softmax\n",
        "from tensorflow.keras.backend import sum\n",
        "import tensorflow as tf\n",
        "from tensorflow.keras.models import Model\n",
        "from tensorflow.keras.layers import Embedding,Dense,Dropout,Concatenate,Flatten,TimeDistributed,Input,GRU,BatchNormalization,Bidirectional,SpatialDropout1D,LSTM,LayerNormalization\n",
        "from tensorflow.keras.regularizers import l2\n",
        "class attention(tf.keras.layers.Layer):\n",
        "    \n",
        "    def __init__(self, return_sequences=True):\n",
        "        self.return_sequences = return_sequences\n",
        "        super().__init__()\n",
        "        \n",
        "    def build(self, input_shape):\n",
        "        \n",
        "        self.W=self.add_weight(name=\"att_weight\", shape=(input_shape[-1],1),\n",
        "                               initializer=\"normal\")\n",
        "        self.b=self.add_weight(name=\"att_bias\", shape=(input_shape[1],1),\n",
        "                               initializer=\"zeros\")\n",
        "        \n",
        "        super(attention,self).build(input_shape)\n",
        "        \n",
        "    def call(self, x):\n",
        "        \n",
        "        e = tanh(dot(x,self.W)+self.b)\n",
        "        a =  tf.nn.softmax(e, axis=1)\n",
        "        output = x*a\n",
        "        \n",
        "        if self.return_sequences:\n",
        "            return output\n",
        "        \n",
        "        return  tf.reduce_sum(output, axis=1)\n",
        "\n",
        "#End attention\n",
        "\n",
        "att = attention(return_sequences=True)(lstm_layer1)\n",
        "dense1 = Dense(4,activation='relu',kernel_regularizer=l2(0.0001))(att)\n",
        "dp = Dropout(0.5)(dense1)\n",
        "dense1 = Dense(2,activation='relu',kernel_regularizer=l2(0.0001))(dp)\n",
        "output=TimeDistributed(Dense(1,activation='sigmoid'))(dense1)\n",
        "\n",
        "\n",
        "model = Model(inputs=[input_text_layer,input_sentiment_layer], outputs=[output])\n",
        "\n",
        "model.compile(loss= my_loss, optimizer=\"adam\",metrics=[\"accuracy\"])\n",
        "\n",
        "#for each in model.layers:\n",
        "#  if(type(each) == tf.keras.layers.Embedding):\n",
        "#    each.trainable = False\n",
        "print (model.summary())\n",
        "mc = ModelCheckpoint(\"best_checkpoint.h5\", monitor=\"val_accuracy\" , save_best_only=True, save_weights_only=True)\n",
        "#mc = ModelCheckpoint(\"best_checkpoint.h5\", monitor=\"val_accuracy\" , save_best_only=True, save_weights_only=True)\n",
        "tf.keras.utils.plot_model(model, show_shapes=True)\n",
        "#model.fit(X_train,y_train,validation_data=(X_val,y_val), epochs= 20, batch_size=50, callbacks=[mc])"
      ],
      "id": "DeCU7CCRyV9Z"
    },
    {
      "cell_type": "code",
      "execution_count": null,
      "metadata": {
        "id": "NSLXO87BXwMp",
        "outputId": "704b6273-e685-431f-abd2-bd373e01e2d6",
        "colab": {
          "base_uri": "https://localhost:8080/"
        }
      },
      "outputs": [
        {
          "output_type": "stream",
          "name": "stdout",
          "text": [
            "WARNING:tensorflow:From <ipython-input-54-9b7e5e30d1f7>:1: experimental_run_functions_eagerly (from tensorflow.python.eager.def_function) is deprecated and will be removed in a future version.\n",
            "Instructions for updating:\n",
            "Use `tf.config.run_functions_eagerly` instead of the experimental version.\n"
          ]
        }
      ],
      "source": [
        "tf.config.experimental_run_functions_eagerly(True)\n",
        "tf.config.run_functions_eagerly(True)"
      ],
      "id": "NSLXO87BXwMp"
    },
    {
      "cell_type": "code",
      "execution_count": null,
      "metadata": {
        "colab": {
          "base_uri": "https://localhost:8080/"
        },
        "id": "46963nxbof9x",
        "outputId": "92ddb8a7-9c6a-42e6-8bb6-0e4fe409958b"
      },
      "outputs": [
        {
          "output_type": "execute_result",
          "data": {
            "text/plain": [
              "(19236, 36)"
            ]
          },
          "metadata": {},
          "execution_count": 55
        }
      ],
      "source": [
        "label_train.shape"
      ],
      "id": "46963nxbof9x"
    },
    {
      "cell_type": "code",
      "execution_count": null,
      "metadata": {
        "colab": {
          "base_uri": "https://localhost:8080/"
        },
        "id": "SAIF3ngyVJxQ",
        "outputId": "16d72e5d-9f96-430f-acc9-15130487d751"
      },
      "outputs": [
        {
          "metadata": {
            "tags": null
          },
          "name": "stderr",
          "output_type": "stream",
          "text": [
            "/usr/local/lib/python3.7/dist-packages/tensorflow/python/data/ops/dataset_ops.py:4527: UserWarning: Even though the `tf.config.experimental_run_functions_eagerly` option is set, this option does not apply to tf.data functions. To force eager execution of tf.data functions, please use `tf.data.experimental.enable_debug_mode()`.\n",
            "  \"Even though the `tf.config.experimental_run_functions_eagerly` \"\n"
          ]
        },
        {
          "output_type": "stream",
          "name": "stdout",
          "text": [
            "Epoch 1/20\n",
            "151/151 [==============================] - 64s 424ms/step - loss: 0.6202 - accuracy: 0.8017 - val_loss: 0.5341 - val_accuracy: 0.8011\n",
            "Epoch 2/20\n",
            "151/151 [==============================] - 61s 403ms/step - loss: 0.5051 - accuracy: 0.8017 - val_loss: 0.4460 - val_accuracy: 0.8011\n",
            "Epoch 3/20\n",
            "151/151 [==============================] - 61s 402ms/step - loss: 0.4517 - accuracy: 0.8017 - val_loss: 0.3937 - val_accuracy: 0.8011\n",
            "Epoch 4/20\n",
            "151/151 [==============================] - 61s 404ms/step - loss: 0.4019 - accuracy: 0.8017 - val_loss: 0.3412 - val_accuracy: 0.8011\n",
            "Epoch 5/20\n",
            "151/151 [==============================] - 60s 399ms/step - loss: 0.3689 - accuracy: 0.8017 - val_loss: 0.3192 - val_accuracy: 0.8011\n",
            "Epoch 6/20\n",
            "151/151 [==============================] - 62s 409ms/step - loss: 0.3539 - accuracy: 0.8017 - val_loss: 0.3093 - val_accuracy: 0.8011\n",
            "Epoch 7/20\n",
            "151/151 [==============================] - 58s 387ms/step - loss: 0.3462 - accuracy: 0.8017 - val_loss: 0.3029 - val_accuracy: 0.8011\n",
            "Epoch 8/20\n",
            "151/151 [==============================] - 59s 388ms/step - loss: 0.3421 - accuracy: 0.8017 - val_loss: 0.2981 - val_accuracy: 0.8011\n",
            "Epoch 9/20\n",
            "151/151 [==============================] - 59s 390ms/step - loss: 0.3394 - accuracy: 0.8017 - val_loss: 0.2953 - val_accuracy: 0.8011\n",
            "Epoch 10/20\n",
            "151/151 [==============================] - 60s 396ms/step - loss: 0.3369 - accuracy: 0.8017 - val_loss: 0.2923 - val_accuracy: 0.8011\n",
            "Epoch 11/20\n",
            "151/151 [==============================] - 57s 380ms/step - loss: 0.3346 - accuracy: 0.8017 - val_loss: 0.2905 - val_accuracy: 0.8011\n",
            "Epoch 12/20\n",
            "151/151 [==============================] - 61s 402ms/step - loss: 0.3322 - accuracy: 0.8017 - val_loss: 0.2905 - val_accuracy: 0.8011\n",
            "Epoch 13/20\n",
            "151/151 [==============================] - 62s 410ms/step - loss: 0.3300 - accuracy: 0.8076 - val_loss: 0.2875 - val_accuracy: 0.8011\n",
            "Epoch 14/20\n",
            "151/151 [==============================] - 63s 414ms/step - loss: 0.3269 - accuracy: 0.8570 - val_loss: 0.2849 - val_accuracy: 0.8011\n",
            "Epoch 15/20\n",
            "151/151 [==============================] - 63s 418ms/step - loss: 0.3244 - accuracy: 0.8628 - val_loss: 0.2809 - val_accuracy: 0.8011\n",
            "Epoch 16/20\n",
            "151/151 [==============================] - 64s 424ms/step - loss: 0.3215 - accuracy: 0.8623 - val_loss: 0.2777 - val_accuracy: 0.8011\n",
            "Epoch 17/20\n",
            "151/151 [==============================] - 60s 399ms/step - loss: 0.3197 - accuracy: 0.8605 - val_loss: 0.2749 - val_accuracy: 0.8011\n",
            "Epoch 18/20\n",
            "151/151 [==============================] - 61s 404ms/step - loss: 0.3180 - accuracy: 0.8591 - val_loss: 0.2744 - val_accuracy: 0.8011\n",
            "Epoch 19/20\n",
            "151/151 [==============================] - 58s 383ms/step - loss: 0.3154 - accuracy: 0.8600 - val_loss: 0.2720 - val_accuracy: 0.8011\n",
            "Epoch 20/20\n",
            "151/151 [==============================] - 58s 385ms/step - loss: 0.3135 - accuracy: 0.8601 - val_loss: 0.2713 - val_accuracy: 0.8011\n"
          ]
        },
        {
          "output_type": "execute_result",
          "data": {
            "text/plain": [
              "<keras.callbacks.History at 0x7f53acac4890>"
            ]
          },
          "metadata": {},
          "execution_count": 56
        }
      ],
      "source": [
        "model.fit([train_padded,train_sentiment],label_train,validation_data=([val_padded,val_sentiment],label_val), epochs= 20, batch_size=128,callbacks=[mc])"
      ],
      "id": "SAIF3ngyVJxQ"
    },
    {
      "cell_type": "code",
      "execution_count": null,
      "metadata": {
        "colab": {
          "base_uri": "https://localhost:8080/"
        },
        "id": "HnJrXkWzVq96",
        "outputId": "f0cd6fe6-0302-42d6-ebe7-97e611469459"
      },
      "outputs": [
        {
          "output_type": "stream",
          "name": "stderr",
          "text": [
            "/usr/local/lib/python3.7/dist-packages/tensorflow/python/data/ops/dataset_ops.py:4527: UserWarning: Even though the `tf.config.experimental_run_functions_eagerly` option is set, this option does not apply to tf.data functions. To force eager execution of tf.data functions, please use `tf.data.experimental.enable_debug_mode()`.\n",
            "  \"Even though the `tf.config.experimental_run_functions_eagerly` \"\n"
          ]
        }
      ],
      "source": [
        "train_pred = model.predict([train_padded,train_sentiment])"
      ],
      "id": "HnJrXkWzVq96"
    },
    {
      "cell_type": "code",
      "execution_count": null,
      "metadata": {
        "colab": {
          "base_uri": "https://localhost:8080/"
        },
        "id": "7QPKfpp1fX8A",
        "outputId": "d95a0bf3-91a0-4ac2-afcc-279eb9ca2920"
      },
      "outputs": [
        {
          "output_type": "execute_result",
          "data": {
            "text/plain": [
              "array([[4.2103004e-01],\n",
              "       [3.8363233e-01],\n",
              "       [3.6796674e-01],\n",
              "       [3.5314298e-01],\n",
              "       [3.4257853e-01],\n",
              "       [4.1066560e-01],\n",
              "       [2.2805035e-03],\n",
              "       [2.2640824e-03],\n",
              "       [2.2595823e-03],\n",
              "       [2.2572875e-03],\n",
              "       [2.2582412e-03],\n",
              "       [2.2568703e-03],\n",
              "       [2.2552907e-03],\n",
              "       [2.2549033e-03],\n",
              "       [2.2557974e-03],\n",
              "       [2.2544563e-03],\n",
              "       [2.2505224e-03],\n",
              "       [2.2545457e-03],\n",
              "       [2.2515953e-03],\n",
              "       [2.2512376e-03],\n",
              "       [2.2519529e-03],\n",
              "       [2.2513568e-03],\n",
              "       [2.2494197e-03],\n",
              "       [2.2448003e-03],\n",
              "       [2.2464991e-03],\n",
              "       [2.2478700e-03],\n",
              "       [2.2512674e-03],\n",
              "       [2.2528768e-03],\n",
              "       [2.2577941e-03],\n",
              "       [2.2873878e-03],\n",
              "       [2.3180544e-03],\n",
              "       [2.3494661e-03],\n",
              "       [2.4155378e-03],\n",
              "       [2.5438666e-03],\n",
              "       [2.4707913e-03],\n",
              "       [7.2574971e-05]], dtype=float32)"
            ]
          },
          "metadata": {},
          "execution_count": 58
        }
      ],
      "source": [
        "train_pred[0]"
      ],
      "id": "7QPKfpp1fX8A"
    },
    {
      "cell_type": "code",
      "execution_count": null,
      "metadata": {
        "id": "YvZUxe3zf5J5"
      },
      "outputs": [],
      "source": [
        "def ind2word(preds):\n",
        "  index2word = {i:w for w,i in word_index.items()}\n",
        "  selected_text = []\n",
        "  for s in preds:\n",
        "    words = []\n",
        "    for j in s:\n",
        "      try:\n",
        "        word = index2word[j]\n",
        "        words.append(word)\n",
        "      except:\n",
        "        continue\n",
        "    selected_text.append(words)\n",
        "  return selected_text "
      ],
      "id": "YvZUxe3zf5J5"
    },
    {
      "cell_type": "code",
      "execution_count": null,
      "metadata": {
        "colab": {
          "base_uri": "https://localhost:8080/"
        },
        "id": "zCCMJKnqAOke",
        "outputId": "f71800c8-6b1c-4d2c-a314-a5e1598cef59"
      },
      "outputs": [
        {
          "output_type": "execute_result",
          "data": {
            "text/plain": [
              "0.586870934442255"
            ]
          },
          "metadata": {},
          "execution_count": 68
        }
      ],
      "source": [
        "train_pred1 = np.squeeze(train_pred)\n",
        "train_pred1 = np.where(train_pred1>0.2,1,0)\n",
        "train_preds_ind =convert_label_matrix_to_ind(train_padded,train_pred1)\n",
        "train_extracted_text = ind2word(train_preds_ind)\n",
        "train_selected_text = tse_st.Map_Extracted(preprocessed_train_X,train_extracted_text)\n",
        "tse_st.score(train_selected_text,train_y_ex)"
      ],
      "id": "zCCMJKnqAOke"
    },
    {
      "cell_type": "code",
      "execution_count": null,
      "metadata": {
        "colab": {
          "base_uri": "https://localhost:8080/"
        },
        "id": "SEz67aI0toR5",
        "outputId": "5289284b-a34c-41f0-87dd-b6f7f5065ed0"
      },
      "outputs": [
        {
          "output_type": "stream",
          "name": "stderr",
          "text": [
            "/usr/local/lib/python3.7/dist-packages/tensorflow/python/data/ops/dataset_ops.py:4527: UserWarning: Even though the `tf.config.experimental_run_functions_eagerly` option is set, this option does not apply to tf.data functions. To force eager execution of tf.data functions, please use `tf.data.experimental.enable_debug_mode()`.\n",
            "  \"Even though the `tf.config.experimental_run_functions_eagerly` \"\n"
          ]
        }
      ],
      "source": [
        "val_pred = model.predict([val_padded,val_sentiment])\n"
      ],
      "id": "SEz67aI0toR5"
    },
    {
      "cell_type": "code",
      "execution_count": null,
      "metadata": {
        "colab": {
          "base_uri": "https://localhost:8080/"
        },
        "id": "zsmcF2Kkwe_V",
        "outputId": "3b60fbc4-7a63-437c-ee5d-df2007a4fc50"
      },
      "outputs": [
        {
          "output_type": "execute_result",
          "data": {
            "text/plain": [
              "0.5552476343798777"
            ]
          },
          "metadata": {},
          "execution_count": 67
        }
      ],
      "source": [
        "val_pred1 = np.squeeze(val_pred)\n",
        "val_pred2 = np.where(val_pred1>0.2,1,0)\n",
        "val_preds_ind =convert_label_matrix_to_ind(val_padded,val_pred2)\n",
        "val_extracted_text = ind2word(val_preds_ind)\n",
        "val_selected_text = tse_st.Map_Extracted(preprocessed_val_X,val_extracted_text)\n",
        "tse_st.score(val_selected_text,val_y_ex)"
      ],
      "id": "zsmcF2Kkwe_V"
    },
    {
      "cell_type": "code",
      "execution_count": null,
      "metadata": {
        "id": "3vmd4PqG_y_v"
      },
      "outputs": [],
      "source": [
        ""
      ],
      "id": "3vmd4PqG_y_v"
    },
    {
      "cell_type": "code",
      "execution_count": null,
      "metadata": {
        "colab": {
          "base_uri": "https://localhost:8080/"
        },
        "id": "v6f4JOodA_tO",
        "outputId": "b15c6c50-4414-4f18-a1dd-8b234542574f"
      },
      "outputs": [
        {
          "output_type": "execute_result",
          "data": {
            "text/plain": [
              "[[549, 623, 13, 1247, 1248],\n",
              " [689],\n",
              " [2,\n",
              "  101,\n",
              "  2,\n",
              "  600,\n",
              "  261,\n",
              "  178,\n",
              "  174,\n",
              "  212,\n",
              "  42,\n",
              "  5,\n",
              "  141,\n",
              "  518,\n",
              "  19,\n",
              "  499,\n",
              "  15,\n",
              "  94,\n",
              "  49,\n",
              "  1980,\n",
              "  1138,\n",
              "  13,\n",
              "  5,\n",
              "  162,\n",
              "  12],\n",
              " [479, 62, 16, 458, 12, 4, 204],\n",
              " [93, 25, 31, 15, 251, 10]]"
            ]
          },
          "metadata": {},
          "execution_count": 79
        }
      ],
      "source": [
        "train_preds_ind[0:5]"
      ],
      "id": "v6f4JOodA_tO"
    },
    {
      "cell_type": "code",
      "execution_count": null,
      "metadata": {
        "id": "h2AB7SCdBJ8W"
      },
      "outputs": [],
      "source": [
        "\n",
        "    "
      ],
      "id": "h2AB7SCdBJ8W"
    },
    {
      "cell_type": "code",
      "execution_count": null,
      "metadata": {
        "colab": {
          "base_uri": "https://localhost:8080/"
        },
        "id": "N8wOAIn5CQ2d",
        "outputId": "58cbe6e6-e7e8-4cb2-91b9-6a96e06fd02d"
      },
      "outputs": [
        {
          "output_type": "execute_result",
          "data": {
            "text/plain": [
              "[['st', 'present', 'for', 'senior', 'board', 'fml'],\n",
              " ['yummi', 'save', 'me', 'some', 'pleas', 'lol'],\n",
              " ['i',\n",
              "  'wish',\n",
              "  'i',\n",
              "  'knew',\n",
              "  'someon',\n",
              "  'down',\n",
              "  'there',\n",
              "  'who',\n",
              "  'could',\n",
              "  'hook',\n",
              "  'us',\n",
              "  'up',\n",
              "  'a',\n",
              "  'friend',\n",
              "  'told',\n",
              "  'me',\n",
              "  'onc',\n",
              "  'that',\n",
              "  'they',\n",
              "  'got',\n",
              "  'crappi',\n",
              "  'seat',\n",
              "  'for',\n",
              "  'a',\n",
              "  'show',\n",
              "  'in'],\n",
              " ['lucki', 'u', 'im', 'stuck', 'in', 'the', 'rain'],\n",
              " ['he', 'just', 'not', 'that', 'into', 'you']]"
            ]
          },
          "metadata": {},
          "execution_count": 69
        }
      ],
      "source": [
        "train_extracted_text = ind2word(train_preds_ind)\n",
        "train_extracted_text[0:5]"
      ],
      "id": "N8wOAIn5CQ2d"
    },
    {
      "cell_type": "code",
      "execution_count": null,
      "metadata": {
        "id": "378apqRrLBnW"
      },
      "outputs": [],
      "source": [
        "#val_padded = pad_sequences(val_sequences,maxlen=max_length,padding='post',truncating=trunc_type)"
      ],
      "id": "378apqRrLBnW"
    },
    {
      "cell_type": "code",
      "execution_count": null,
      "metadata": {
        "id": "iChegaUUET_P"
      },
      "outputs": [],
      "source": [
        "pd.set_option('display.max_rows', df.shape[0]+1)\n",
        "compare_df = pd.DataFrame(data ={'origin':train_X_df.text,'selected_text':train_selected_text ,'true_text':train_y_ex, 'sentiment':train_X_df.sentiment})\n",
        "compare_df\n",
        "#compare_df.loc[compare_df.sentiment == 'positive',:]"
      ],
      "id": "iChegaUUET_P"
    },
    {
      "cell_type": "code",
      "execution_count": null,
      "metadata": {
        "colab": {
          "base_uri": "https://localhost:8080/",
          "height": 166
        },
        "id": "oMjgDiY8HiKg",
        "outputId": "b3f1e976-a8ab-47f5-89ce-c768b97e2757"
      },
      "outputs": [
        {
          "output_type": "error",
          "ename": "NameError",
          "evalue": "ignored",
          "traceback": [
            "\u001b[0;31m---------------------------------------------------------------------------\u001b[0m",
            "\u001b[0;31mNameError\u001b[0m                                 Traceback (most recent call last)",
            "\u001b[0;32m<ipython-input-91-e89da694f208>\u001b[0m in \u001b[0;36m<module>\u001b[0;34m()\u001b[0m\n\u001b[0;32m----> 1\u001b[0;31m \u001b[0mlabel_train\u001b[0m\u001b[0;34m[\u001b[0m\u001b[0;36m0\u001b[0m\u001b[0;34m]\u001b[0m\u001b[0;34m\u001b[0m\u001b[0;34m\u001b[0m\u001b[0m\n\u001b[0m",
            "\u001b[0;31mNameError\u001b[0m: name 'label_train' is not defined"
          ]
        }
      ],
      "source": [
        "label_train[0]"
      ],
      "id": "oMjgDiY8HiKg"
    },
    {
      "cell_type": "code",
      "execution_count": null,
      "metadata": {
        "colab": {
          "base_uri": "https://localhost:8080/"
        },
        "id": "dmjm7M_NJ5xG",
        "outputId": "97fc7641-38b7-45f4-a741-495f81c85baa"
      },
      "outputs": [
        {
          "output_type": "execute_result",
          "data": {
            "text/plain": [
              "['I hope she was okay. I never her heard her say her tummy hurt.',\n",
              " 'aww shock mother`s day',\n",
              " 'hospital. Doc says I`ll',\n",
              " 'boo you can come over and we`ll watch and braid each others hair.',\n",
              " 'Lost at bowling again why do i suck',\n",
              " 'Bonjour Twitterland',\n",
              " 'i ill never have it but the sad thing is that u didn`t put an Alternate e-mail!! cause if u dont remember ur secret',\n",
              " 'watching matilda with a bowl of noodles',\n",
              " 'Thanks Amy! That video is so awesome! you He`s amazing that too!!',\n",
              " 'im sad about missing out on the to be in new video.']"
            ]
          },
          "metadata": {},
          "execution_count": 81
        }
      ],
      "source": [
        "val_selected_text[0:10]"
      ],
      "id": "dmjm7M_NJ5xG"
    },
    {
      "cell_type": "markdown",
      "metadata": {
        "id": "bsedpFqzdyUX"
      },
      "source": [
        "## BERT"
      ],
      "id": "bsedpFqzdyUX"
    },
    {
      "cell_type": "code",
      "execution_count": null,
      "metadata": {
        "colab": {
          "base_uri": "https://localhost:8080/"
        },
        "id": "v7iMsAHaNA41",
        "outputId": "47138100-48e0-4c5c-a0ef-409962c5d3e3"
      },
      "outputs": [
        {
          "name": "stdout",
          "output_type": "stream",
          "text": [
            "Collecting transformers\n",
            "  Downloading transformers-4.13.0-py3-none-any.whl (3.3 MB)\n",
            "\u001b[K     |████████████████████████████████| 3.3 MB 5.1 MB/s \n",
            "\u001b[?25hCollecting pyyaml>=5.1\n",
            "  Downloading PyYAML-6.0-cp37-cp37m-manylinux_2_5_x86_64.manylinux1_x86_64.manylinux_2_12_x86_64.manylinux2010_x86_64.whl (596 kB)\n",
            "\u001b[K     |████████████████████████████████| 596 kB 59.5 MB/s \n",
            "\u001b[?25hRequirement already satisfied: filelock in /usr/local/lib/python3.7/dist-packages (from transformers) (3.4.0)\n",
            "Collecting tokenizers<0.11,>=0.10.1\n",
            "  Downloading tokenizers-0.10.3-cp37-cp37m-manylinux_2_5_x86_64.manylinux1_x86_64.manylinux_2_12_x86_64.manylinux2010_x86_64.whl (3.3 MB)\n",
            "\u001b[K     |████████████████████████████████| 3.3 MB 36.0 MB/s \n",
            "\u001b[?25hRequirement already satisfied: importlib-metadata in /usr/local/lib/python3.7/dist-packages (from transformers) (4.8.2)\n",
            "Collecting sacremoses\n",
            "  Downloading sacremoses-0.0.46-py3-none-any.whl (895 kB)\n",
            "\u001b[K     |████████████████████████████████| 895 kB 35.6 MB/s \n",
            "\u001b[?25hRequirement already satisfied: tqdm>=4.27 in /usr/local/lib/python3.7/dist-packages (from transformers) (4.62.3)\n",
            "Requirement already satisfied: regex!=2019.12.17 in /usr/local/lib/python3.7/dist-packages (from transformers) (2019.12.20)\n",
            "Requirement already satisfied: packaging>=20.0 in /usr/local/lib/python3.7/dist-packages (from transformers) (21.3)\n",
            "Requirement already satisfied: numpy>=1.17 in /usr/local/lib/python3.7/dist-packages (from transformers) (1.19.5)\n",
            "Requirement already satisfied: requests in /usr/local/lib/python3.7/dist-packages (from transformers) (2.23.0)\n",
            "Collecting huggingface-hub<1.0,>=0.1.0\n",
            "  Downloading huggingface_hub-0.2.1-py3-none-any.whl (61 kB)\n",
            "\u001b[K     |████████████████████████████████| 61 kB 412 kB/s \n",
            "\u001b[?25hRequirement already satisfied: typing-extensions>=3.7.4.3 in /usr/local/lib/python3.7/dist-packages (from huggingface-hub<1.0,>=0.1.0->transformers) (3.10.0.2)\n",
            "Requirement already satisfied: pyparsing!=3.0.5,>=2.0.2 in /usr/local/lib/python3.7/dist-packages (from packaging>=20.0->transformers) (3.0.6)\n",
            "Requirement already satisfied: zipp>=0.5 in /usr/local/lib/python3.7/dist-packages (from importlib-metadata->transformers) (3.6.0)\n",
            "Requirement already satisfied: certifi>=2017.4.17 in /usr/local/lib/python3.7/dist-packages (from requests->transformers) (2021.10.8)\n",
            "Requirement already satisfied: chardet<4,>=3.0.2 in /usr/local/lib/python3.7/dist-packages (from requests->transformers) (3.0.4)\n",
            "Requirement already satisfied: urllib3!=1.25.0,!=1.25.1,<1.26,>=1.21.1 in /usr/local/lib/python3.7/dist-packages (from requests->transformers) (1.24.3)\n",
            "Requirement already satisfied: idna<3,>=2.5 in /usr/local/lib/python3.7/dist-packages (from requests->transformers) (2.10)\n",
            "Requirement already satisfied: joblib in /usr/local/lib/python3.7/dist-packages (from sacremoses->transformers) (1.1.0)\n",
            "Requirement already satisfied: click in /usr/local/lib/python3.7/dist-packages (from sacremoses->transformers) (7.1.2)\n",
            "Requirement already satisfied: six in /usr/local/lib/python3.7/dist-packages (from sacremoses->transformers) (1.15.0)\n",
            "Installing collected packages: pyyaml, tokenizers, sacremoses, huggingface-hub, transformers\n",
            "  Attempting uninstall: pyyaml\n",
            "    Found existing installation: PyYAML 3.13\n",
            "    Uninstalling PyYAML-3.13:\n",
            "      Successfully uninstalled PyYAML-3.13\n",
            "Successfully installed huggingface-hub-0.2.1 pyyaml-6.0 sacremoses-0.0.46 tokenizers-0.10.3 transformers-4.13.0\n"
          ]
        }
      ],
      "source": [
        "!pip install transformers"
      ],
      "id": "v7iMsAHaNA41"
    },
    {
      "cell_type": "code",
      "execution_count": null,
      "metadata": {
        "colab": {
          "background_save": true,
          "referenced_widgets": [
            "27f9b4c3d89344398b63d6add1619a70",
            "8eb0955763174a5aae1b8260b2e945c6",
            "61d7015da86e4d2fb95245e10a98b9ce",
            "975ff6c8a2584df1a12397c872e894a3"
          ]
        },
        "id": "-jaRxBV3MZRH",
        "outputId": "9e59d0f5-e705-4b3f-86de-095e91d8568e"
      },
      "outputs": [
        {
          "data": {
            "application/vnd.jupyter.widget-view+json": {
              "model_id": "27f9b4c3d89344398b63d6add1619a70",
              "version_major": 2,
              "version_minor": 0
            },
            "text/plain": [
              "Downloading:   0%|          | 0.00/28.0 [00:00<?, ?B/s]"
            ]
          },
          "metadata": {},
          "output_type": "display_data"
        },
        {
          "data": {
            "application/vnd.jupyter.widget-view+json": {
              "model_id": "8eb0955763174a5aae1b8260b2e945c6",
              "version_major": 2,
              "version_minor": 0
            },
            "text/plain": [
              "Downloading:   0%|          | 0.00/483 [00:00<?, ?B/s]"
            ]
          },
          "metadata": {},
          "output_type": "display_data"
        },
        {
          "data": {
            "application/vnd.jupyter.widget-view+json": {
              "model_id": "61d7015da86e4d2fb95245e10a98b9ce",
              "version_major": 2,
              "version_minor": 0
            },
            "text/plain": [
              "Downloading:   0%|          | 0.00/226k [00:00<?, ?B/s]"
            ]
          },
          "metadata": {},
          "output_type": "display_data"
        },
        {
          "data": {
            "application/vnd.jupyter.widget-view+json": {
              "model_id": "975ff6c8a2584df1a12397c872e894a3",
              "version_major": 2,
              "version_minor": 0
            },
            "text/plain": [
              "Downloading:   0%|          | 0.00/455k [00:00<?, ?B/s]"
            ]
          },
          "metadata": {},
          "output_type": "display_data"
        }
      ],
      "source": [
        "from transformers import AutoTokenizer\n",
        "from keras.models import Model\n",
        "from keras.callbacks import ModelCheckpoint\n",
        "tokenizer = AutoTokenizer.from_pretrained(\"distilbert-base-uncased\")"
      ],
      "id": "-jaRxBV3MZRH"
    },
    {
      "cell_type": "code",
      "execution_count": null,
      "metadata": {
        "id": "xNJeEvicfHr-"
      },
      "outputs": [],
      "source": [
        "from transformers import TFAutoModelForSequenceClassification\n",
        "model = TFAutoModelForSequenceClassification.from_pretrained(\"distilbert-base-uncased\", num_labels=2)"
      ],
      "id": "xNJeEvicfHr-"
    },
    {
      "cell_type": "code",
      "execution_count": null,
      "metadata": {
        "id": "8G8MC-ZfL3Ue"
      },
      "outputs": [],
      "source": [
        "\n",
        "import tensorflow as tf\n",
        "import pandas as pd"
      ],
      "id": "8G8MC-ZfL3Ue"
    },
    {
      "cell_type": "code",
      "execution_count": null,
      "metadata": {
        "colab": {
          "base_uri": "https://localhost:8080/",
          "height": 166
        },
        "id": "lk8LQeXMgUUb",
        "outputId": "a8e90aff-b7b2-4b64-c679-bd3f3d314ff8"
      },
      "outputs": [
        {
          "ename": "AttributeError",
          "evalue": "ignored",
          "output_type": "error",
          "traceback": [
            "\u001b[0;31m---------------------------------------------------------------------------\u001b[0m",
            "\u001b[0;31mAttributeError\u001b[0m                            Traceback (most recent call last)",
            "\u001b[0;32m<ipython-input-60-21c03ddb9250>\u001b[0m in \u001b[0;36m<module>\u001b[0;34m()\u001b[0m\n\u001b[0;32m----> 1\u001b[0;31m \u001b[0mmodel\u001b[0m \u001b[0;34m=\u001b[0m \u001b[0mtf\u001b[0m\u001b[0;34m.\u001b[0m\u001b[0mkeras\u001b[0m\u001b[0;34m.\u001b[0m\u001b[0mload_weights\u001b[0m\u001b[0;34m(\u001b[0m\u001b[0;34m'my_checkpoint.h5'\u001b[0m\u001b[0;34m)\u001b[0m\u001b[0;34m\u001b[0m\u001b[0;34m\u001b[0m\u001b[0m\n\u001b[0m",
            "\u001b[0;31mAttributeError\u001b[0m: module 'keras.api._v2.keras' has no attribute 'load_weights'"
          ]
        }
      ],
      "source": [
        "model = tf.keras.load_weights('my_checkpoint.h5')"
      ],
      "id": "lk8LQeXMgUUb"
    },
    {
      "cell_type": "markdown",
      "metadata": {
        "id": "qpXM76vvtwIa"
      },
      "source": [
        "### 2.4 Huấn luyện trên train + val"
      ],
      "id": "qpXM76vvtwIa"
    },
    {
      "cell_type": "code",
      "execution_count": null,
      "metadata": {
        "id": "YFaKZWmXD8At"
      },
      "outputs": [],
      "source": [
        "model_full = bayes_extraction(k=15, z_pos = 0.00003 )"
      ],
      "id": "YFaKZWmXD8At"
    },
    {
      "cell_type": "code",
      "execution_count": null,
      "metadata": {
        "colab": {
          "base_uri": "https://localhost:8080/"
        },
        "id": "edHKhFkHajya",
        "outputId": "ab217759-3e10-4250-fe89-366534508686"
      },
      "outputs": [
        {
          "data": {
            "text/plain": [
              "bayes_extraction(k=15, z_pos=3e-05)"
            ]
          },
          "execution_count": 31,
          "metadata": {},
          "output_type": "execute_result"
        }
      ],
      "source": [
        "preprocessed_X_df, cleaned_X_df = preprocess_tweets(X_df)\n",
        "preprocessed_y_ex = _preprocessed_y_ex(X_df,y_ex)\n",
        "model_full.fit(preprocessed_X_df,preprocessed_y_ex)"
      ],
      "id": "edHKhFkHajya"
    },
    {
      "cell_type": "markdown",
      "metadata": {
        "id": "qLcsECC8GwG6"
      },
      "source": [
        "## 3. Rút trích text trên tập test:"
      ],
      "id": "qLcsECC8GwG6"
    },
    {
      "cell_type": "code",
      "execution_count": null,
      "metadata": {
        "colab": {
          "base_uri": "https://localhost:8080/",
          "height": 423
        },
        "id": "044ff513",
        "outputId": "215e6d76-452c-47f1-bfaa-9080ab55bcc3"
      },
      "outputs": [
        {
          "data": {
            "text/html": [
              "<div>\n",
              "<style scoped>\n",
              "    .dataframe tbody tr th:only-of-type {\n",
              "        vertical-align: middle;\n",
              "    }\n",
              "\n",
              "    .dataframe tbody tr th {\n",
              "        vertical-align: top;\n",
              "    }\n",
              "\n",
              "    .dataframe thead th {\n",
              "        text-align: right;\n",
              "    }\n",
              "</style>\n",
              "<table border=\"1\" class=\"dataframe\">\n",
              "  <thead>\n",
              "    <tr style=\"text-align: right;\">\n",
              "      <th></th>\n",
              "      <th>textID</th>\n",
              "      <th>text</th>\n",
              "      <th>sentiment</th>\n",
              "    </tr>\n",
              "  </thead>\n",
              "  <tbody>\n",
              "    <tr>\n",
              "      <th>0</th>\n",
              "      <td>f87dea47db</td>\n",
              "      <td>Last session of the day  http://twitpic.com/67ezh</td>\n",
              "      <td>neutral</td>\n",
              "    </tr>\n",
              "    <tr>\n",
              "      <th>1</th>\n",
              "      <td>96d74cb729</td>\n",
              "      <td>Shanghai is also really exciting (precisely -- skyscrapers galore). Good tweeps in China:  (SH)  (BJ).</td>\n",
              "      <td>positive</td>\n",
              "    </tr>\n",
              "    <tr>\n",
              "      <th>2</th>\n",
              "      <td>eee518ae67</td>\n",
              "      <td>Recession hit Veronique Branquinho, she has to quit her company, such a shame!</td>\n",
              "      <td>negative</td>\n",
              "    </tr>\n",
              "    <tr>\n",
              "      <th>3</th>\n",
              "      <td>01082688c6</td>\n",
              "      <td>happy bday!</td>\n",
              "      <td>positive</td>\n",
              "    </tr>\n",
              "    <tr>\n",
              "      <th>4</th>\n",
              "      <td>33987a8ee5</td>\n",
              "      <td>http://twitpic.com/4w75p - I like it!!</td>\n",
              "      <td>positive</td>\n",
              "    </tr>\n",
              "    <tr>\n",
              "      <th>...</th>\n",
              "      <td>...</td>\n",
              "      <td>...</td>\n",
              "      <td>...</td>\n",
              "    </tr>\n",
              "    <tr>\n",
              "      <th>3529</th>\n",
              "      <td>e5f0e6ef4b</td>\n",
              "      <td>its at 3 am, im very tired but i can`t sleep  but i try it</td>\n",
              "      <td>negative</td>\n",
              "    </tr>\n",
              "    <tr>\n",
              "      <th>3530</th>\n",
              "      <td>416863ce47</td>\n",
              "      <td>All alone in this old house again.  Thanks for the net which keeps me alive and kicking! Whoever invented the net, i wanna kiss your hair!</td>\n",
              "      <td>positive</td>\n",
              "    </tr>\n",
              "    <tr>\n",
              "      <th>3531</th>\n",
              "      <td>6332da480c</td>\n",
              "      <td>I know what you mean. My little dog is sinking into depression... he wants to move someplace tropical</td>\n",
              "      <td>negative</td>\n",
              "    </tr>\n",
              "    <tr>\n",
              "      <th>3532</th>\n",
              "      <td>df1baec676</td>\n",
              "      <td>_sutra what is your next youtube video gonna be about? I love your videos!</td>\n",
              "      <td>positive</td>\n",
              "    </tr>\n",
              "    <tr>\n",
              "      <th>3533</th>\n",
              "      <td>469e15c5a8</td>\n",
              "      <td>http://twitpic.com/4woj2 - omgssh  ang cute ng bby.!</td>\n",
              "      <td>positive</td>\n",
              "    </tr>\n",
              "  </tbody>\n",
              "</table>\n",
              "<p>3534 rows × 3 columns</p>\n",
              "</div>"
            ],
            "text/plain": [
              "          textID  ... sentiment\n",
              "0     f87dea47db  ...   neutral\n",
              "1     96d74cb729  ...  positive\n",
              "2     eee518ae67  ...  negative\n",
              "3     01082688c6  ...  positive\n",
              "4     33987a8ee5  ...  positive\n",
              "...          ...  ...       ...\n",
              "3529  e5f0e6ef4b  ...  negative\n",
              "3530  416863ce47  ...  positive\n",
              "3531  6332da480c  ...  negative\n",
              "3532  df1baec676  ...  positive\n",
              "3533  469e15c5a8  ...  positive\n",
              "\n",
              "[3534 rows x 3 columns]"
            ]
          },
          "execution_count": 32,
          "metadata": {},
          "output_type": "execute_result"
        }
      ],
      "source": [
        "test_df = pd.read_csv('Applied-Data-Science-Group-7/test.csv')\n",
        "test_df"
      ],
      "id": "044ff513"
    },
    {
      "cell_type": "code",
      "execution_count": null,
      "metadata": {
        "id": "4b0c227d"
      },
      "outputs": [],
      "source": [
        "test_preprocessed,cleaned_test_df = preprocess_tweets(test_df)"
      ],
      "id": "4b0c227d"
    },
    {
      "cell_type": "code",
      "execution_count": null,
      "metadata": {
        "colab": {
          "base_uri": "https://localhost:8080/"
        },
        "id": "WGJoIHWiGP-N",
        "outputId": "df5ede1b-4f67-41c4-87fd-88bbe3f046a8"
      },
      "outputs": [
        {
          "data": {
            "text/plain": [
              "['Last session of the day http://twitpic.com/67ezh',\n",
              " 'exciting Good',\n",
              " 'Recession shame!',\n",
              " 'happy',\n",
              " '']"
            ]
          },
          "execution_count": 34,
          "metadata": {},
          "output_type": "execute_result"
        }
      ],
      "source": [
        "preds_extracted_text = model_full.extract(test_preprocessed)\n",
        "preds_extracted_text[0:5]"
      ],
      "id": "WGJoIHWiGP-N"
    },
    {
      "cell_type": "markdown",
      "metadata": {
        "id": "k7-jDX0EG5lg"
      },
      "source": [
        "## 4. Submission"
      ],
      "id": "k7-jDX0EG5lg"
    },
    {
      "cell_type": "code",
      "execution_count": null,
      "metadata": {
        "id": "2e7a7fbe"
      },
      "outputs": [],
      "source": [
        "submission_df = pd.DataFrame(data = {'textID': test_df.textID,'selected_text':pd.Series(preds_extracted_text)})"
      ],
      "id": "2e7a7fbe"
    },
    {
      "cell_type": "code",
      "execution_count": null,
      "metadata": {
        "id": "5e419516"
      },
      "outputs": [],
      "source": [
        "submission_df.to_csv(\"submission.csv\", index=False)"
      ],
      "id": "5e419516"
    },
    {
      "cell_type": "code",
      "execution_count": null,
      "metadata": {
        "colab": {
          "base_uri": "https://localhost:8080/",
          "height": 206
        },
        "id": "15374961",
        "outputId": "1951a3cc-373f-4cdb-f154-938b10756d11"
      },
      "outputs": [
        {
          "data": {
            "text/html": [
              "<div>\n",
              "<style scoped>\n",
              "    .dataframe tbody tr th:only-of-type {\n",
              "        vertical-align: middle;\n",
              "    }\n",
              "\n",
              "    .dataframe tbody tr th {\n",
              "        vertical-align: top;\n",
              "    }\n",
              "\n",
              "    .dataframe thead th {\n",
              "        text-align: right;\n",
              "    }\n",
              "</style>\n",
              "<table border=\"1\" class=\"dataframe\">\n",
              "  <thead>\n",
              "    <tr style=\"text-align: right;\">\n",
              "      <th></th>\n",
              "      <th>textID</th>\n",
              "      <th>selected_text</th>\n",
              "    </tr>\n",
              "  </thead>\n",
              "  <tbody>\n",
              "    <tr>\n",
              "      <th>0</th>\n",
              "      <td>f87dea47db</td>\n",
              "      <td>Last session of the day http://twitpic.com/67ezh</td>\n",
              "    </tr>\n",
              "    <tr>\n",
              "      <th>1</th>\n",
              "      <td>96d74cb729</td>\n",
              "      <td>exciting Good</td>\n",
              "    </tr>\n",
              "    <tr>\n",
              "      <th>2</th>\n",
              "      <td>eee518ae67</td>\n",
              "      <td>Recession shame!</td>\n",
              "    </tr>\n",
              "    <tr>\n",
              "      <th>3</th>\n",
              "      <td>01082688c6</td>\n",
              "      <td>happy</td>\n",
              "    </tr>\n",
              "    <tr>\n",
              "      <th>4</th>\n",
              "      <td>33987a8ee5</td>\n",
              "      <td></td>\n",
              "    </tr>\n",
              "  </tbody>\n",
              "</table>\n",
              "</div>"
            ],
            "text/plain": [
              "       textID                                     selected_text\n",
              "0  f87dea47db  Last session of the day http://twitpic.com/67ezh\n",
              "1  96d74cb729                                     exciting Good\n",
              "2  eee518ae67                                  Recession shame!\n",
              "3  01082688c6                                             happy\n",
              "4  33987a8ee5                                                  "
            ]
          },
          "execution_count": 37,
          "metadata": {},
          "output_type": "execute_result"
        }
      ],
      "source": [
        "submission_df.head(5)"
      ],
      "id": "15374961"
    },
    {
      "cell_type": "code",
      "execution_count": null,
      "metadata": {
        "id": "dc856b24"
      },
      "outputs": [],
      "source": [
        "# y_test = test_df.sentiment.map({'positive':1,'neutral':0,'negative':-1}).to_list()\n",
        "# tweets_test = test_df.text.to_list()"
      ],
      "id": "dc856b24"
    },
    {
      "cell_type": "code",
      "execution_count": null,
      "metadata": {
        "id": "f524c5ee"
      },
      "outputs": [],
      "source": [
        "#Extract_text(y_test,preprocessing(tweets_test),likelihood)"
      ],
      "id": "f524c5ee"
    },
    {
      "cell_type": "code",
      "execution_count": null,
      "metadata": {
        "id": "17d994b6"
      },
      "outputs": [],
      "source": [
        "# submission = pd.DataFrame(data ={'textID': test_df.textID,'selected_text':pd.Series(extracted_text)})\n",
        "# predict"
      ],
      "id": "17d994b6"
    },
    {
      "cell_type": "code",
      "execution_count": null,
      "metadata": {
        "id": "bc5ef3e4"
      },
      "outputs": [],
      "source": [
        ""
      ],
      "id": "bc5ef3e4"
    }
  ],
  "metadata": {
    "colab": {
      "collapsed_sections": [
        "lvBSxcg5B1Jv",
        "8Weea1SUCBmz",
        "qLIRG_m1CdvD",
        "b6ca4fc3",
        "awyk6UXcC5gA",
        "cQnfsTiR4bMI",
        "EqYF-DBe4inR",
        "84yreD1VMHvT",
        "OjewiSa78vMf",
        "xCCzLRAhtn8y",
        "qpXM76vvtwIa",
        "qLcsECC8GwG6",
        "k7-jDX0EG5lg"
      ],
      "name": "Bản sao của Attention15_12_Report_TSE.ipynb",
      "provenance": [],
      "include_colab_link": true
    },
    "kernelspec": {
      "display_name": "Python 3",
      "language": "python",
      "name": "python3"
    },
    "language_info": {
      "codemirror_mode": {
        "name": "ipython",
        "version": 3
      },
      "file_extension": ".py",
      "mimetype": "text/x-python",
      "name": "python",
      "nbconvert_exporter": "python",
      "pygments_lexer": "ipython3",
      "version": "3.7.10"
    },
    "papermill": {
      "default_parameters": {},
      "duration": 123.060019,
      "end_time": "2021-10-20T19:02:58.579178",
      "environment_variables": {},
      "exception": null,
      "input_path": "__notebook__.ipynb",
      "output_path": "__notebook__.ipynb",
      "parameters": {},
      "start_time": "2021-10-20T19:00:55.519159",
      "version": "2.3.3"
    },
    "accelerator": "TPU"
  },
  "nbformat": 4,
  "nbformat_minor": 5
}