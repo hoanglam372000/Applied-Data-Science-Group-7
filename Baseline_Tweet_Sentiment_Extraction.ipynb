{
  "nbformat": 4,
  "nbformat_minor": 5,
  "metadata": {
    "kernelspec": {
      "display_name": "Python 3",
      "language": "python",
      "name": "python3"
    },
    "language_info": {
      "codemirror_mode": {
        "name": "ipython",
        "version": 3
      },
      "file_extension": ".py",
      "mimetype": "text/x-python",
      "name": "python",
      "nbconvert_exporter": "python",
      "pygments_lexer": "ipython3",
      "version": "3.7.10"
    },
    "papermill": {
      "default_parameters": {},
      "duration": 123.060019,
      "end_time": "2021-10-20T19:02:58.579178",
      "environment_variables": {},
      "exception": null,
      "input_path": "__notebook__.ipynb",
      "output_path": "__notebook__.ipynb",
      "parameters": {},
      "start_time": "2021-10-20T19:00:55.519159",
      "version": "2.3.3"
    },
    "colab": {
      "name": "Baseline-Tweet-Sentiment-Extraction.ipynb",
      "provenance": [],
      "include_colab_link": true
    }
  },
  "cells": [
    {
      "cell_type": "markdown",
      "metadata": {
        "id": "view-in-github",
        "colab_type": "text"
      },
      "source": [
        "<a href=\"https://colab.research.google.com/github/hoanglam372000/Applied-Data-Science-Group-7/blob/main/Baseline_Tweet_Sentiment_Extraction.ipynb\" target=\"_parent\"><img src=\"https://colab.research.google.com/assets/colab-badge.svg\" alt=\"Open In Colab\"/></a>"
      ]
    },
    {
      "cell_type": "code",
      "metadata": {
        "execution": {
          "iopub.execute_input": "2021-10-20T19:01:05.711080Z",
          "iopub.status.busy": "2021-10-20T19:01:05.709811Z",
          "iopub.status.idle": "2021-10-20T19:01:05.712966Z",
          "shell.execute_reply": "2021-10-20T19:01:05.713505Z",
          "shell.execute_reply.started": "2021-10-20T18:55:02.236174Z"
        },
        "id": "b0c2dbd1",
        "papermill": {
          "duration": 0.05292,
          "end_time": "2021-10-20T19:01:05.713836",
          "exception": false,
          "start_time": "2021-10-20T19:01:05.660916",
          "status": "completed"
        },
        "tags": []
      },
      "source": [
        "#!git clone https://github.com/hoanglam372000/Applied-Data-Science-Group-7.git"
      ],
      "id": "b0c2dbd1",
      "execution_count": null,
      "outputs": []
    },
    {
      "cell_type": "code",
      "metadata": {
        "execution": {
          "iopub.execute_input": "2021-10-20T19:01:05.799619Z",
          "iopub.status.busy": "2021-10-20T19:01:05.798867Z",
          "iopub.status.idle": "2021-10-20T19:01:36.347459Z",
          "shell.execute_reply": "2021-10-20T19:01:36.346709Z",
          "shell.execute_reply.started": "2021-10-20T18:55:02.243151Z"
        },
        "id": "eff8fbcf",
        "papermill": {
          "duration": 30.592473,
          "end_time": "2021-10-20T19:01:36.347624",
          "exception": false,
          "start_time": "2021-10-20T19:01:05.755151",
          "status": "completed"
        },
        "tags": [],
        "outputId": "3d1da1ea-baa4-46c9-f410-f8d8d0bed614"
      },
      "source": [
        "!pip install emoji"
      ],
      "id": "eff8fbcf",
      "execution_count": null,
      "outputs": [
        {
          "name": "stdout",
          "output_type": "stream",
          "text": [
            "Requirement already satisfied: emoji in /opt/conda/lib/python3.7/site-packages (1.6.1)\r\n",
            "\u001b[33mWARNING: Running pip as the 'root' user can result in broken permissions and conflicting behaviour with the system package manager. It is recommended to use a virtual environment instead: https://pip.pypa.io/warnings/venv\u001b[0m\r\n"
          ]
        }
      ]
    },
    {
      "cell_type": "code",
      "metadata": {
        "execution": {
          "iopub.execute_input": "2021-10-20T19:01:36.440628Z",
          "iopub.status.busy": "2021-10-20T19:01:36.439872Z",
          "iopub.status.idle": "2021-10-20T19:01:38.454775Z",
          "shell.execute_reply": "2021-10-20T19:01:38.454041Z",
          "shell.execute_reply.started": "2021-10-20T18:55:11.353568Z"
        },
        "id": "9b92498d",
        "papermill": {
          "duration": 2.064979,
          "end_time": "2021-10-20T19:01:38.454947",
          "exception": false,
          "start_time": "2021-10-20T19:01:36.389968",
          "status": "completed"
        },
        "tags": []
      },
      "source": [
        "\n",
        "import pandas as pd\n",
        "import nltk\n",
        "import numpy as np\n",
        "import emoji\n",
        "import re\n",
        "import string\n",
        "from nltk.stem import PorterStemmer\n",
        "from nltk.tokenize import TweetTokenizer\n",
        "from sklearn.model_selection import train_test_split\n",
        "from sklearn.preprocessing import OneHotEncoder, StandardScaler\n",
        "from sklearn.impute import SimpleImputer\n",
        "from sklearn.base import BaseEstimator, TransformerMixin\n",
        "from sklearn.pipeline import Pipeline, make_pipeline\n",
        "from sklearn.compose import ColumnTransformer, make_column_transformer\n",
        "import matplotlib.pyplot as plt\n",
        "pd.set_option('display.max_colwidth', 200)"
      ],
      "id": "9b92498d",
      "execution_count": null,
      "outputs": []
    },
    {
      "cell_type": "code",
      "metadata": {
        "execution": {
          "iopub.execute_input": "2021-10-20T19:01:38.545557Z",
          "iopub.status.busy": "2021-10-20T19:01:38.544875Z",
          "iopub.status.idle": "2021-10-20T19:01:58.587844Z",
          "shell.execute_reply": "2021-10-20T19:01:58.588401Z",
          "shell.execute_reply.started": "2021-10-20T18:55:11.365067Z"
        },
        "id": "6f1a5540",
        "papermill": {
          "duration": 20.091596,
          "end_time": "2021-10-20T19:01:58.588616",
          "exception": false,
          "start_time": "2021-10-20T19:01:38.497020",
          "status": "completed"
        },
        "tags": [],
        "outputId": "5d600c95-9b7d-462b-867f-dcc587ec864e"
      },
      "source": [
        "nltk.download('averaged_perceptron_tagger')"
      ],
      "id": "6f1a5540",
      "execution_count": null,
      "outputs": [
        {
          "name": "stdout",
          "output_type": "stream",
          "text": [
            "[nltk_data] Error loading averaged_perceptron_tagger: <urlopen error\n",
            "[nltk_data]     [Errno -3] Temporary failure in name resolution>\n"
          ]
        },
        {
          "data": {
            "text/plain": [
              "False"
            ]
          },
          "execution_count": 4,
          "metadata": {},
          "output_type": "execute_result"
        }
      ]
    },
    {
      "cell_type": "code",
      "metadata": {
        "execution": {
          "iopub.execute_input": "2021-10-20T19:01:58.676476Z",
          "iopub.status.busy": "2021-10-20T19:01:58.675736Z",
          "iopub.status.idle": "2021-10-20T19:01:58.820534Z",
          "shell.execute_reply": "2021-10-20T19:01:58.819804Z",
          "shell.execute_reply.started": "2021-10-20T18:55:11.380749Z"
        },
        "id": "cae6a810",
        "papermill": {
          "duration": 0.190356,
          "end_time": "2021-10-20T19:01:58.820700",
          "exception": false,
          "start_time": "2021-10-20T19:01:58.630344",
          "status": "completed"
        },
        "tags": []
      },
      "source": [
        "df = pd.read_csv('../input/tweet-sentiment-extraction/train.csv')"
      ],
      "id": "cae6a810",
      "execution_count": null,
      "outputs": []
    },
    {
      "cell_type": "code",
      "metadata": {
        "execution": {
          "iopub.execute_input": "2021-10-20T19:01:58.911044Z",
          "iopub.status.busy": "2021-10-20T19:01:58.910029Z",
          "iopub.status.idle": "2021-10-20T19:01:58.933921Z",
          "shell.execute_reply": "2021-10-20T19:01:58.934603Z",
          "shell.execute_reply.started": "2021-10-20T18:55:11.489620Z"
        },
        "id": "004d834b",
        "papermill": {
          "duration": 0.071154,
          "end_time": "2021-10-20T19:01:58.934817",
          "exception": false,
          "start_time": "2021-10-20T19:01:58.863663",
          "status": "completed"
        },
        "tags": [],
        "outputId": "2a38aaa5-e5cc-4b7a-c182-0f32a0f58ba8"
      },
      "source": [
        "df"
      ],
      "id": "004d834b",
      "execution_count": null,
      "outputs": [
        {
          "data": {
            "text/html": [
              "<div>\n",
              "<style scoped>\n",
              "    .dataframe tbody tr th:only-of-type {\n",
              "        vertical-align: middle;\n",
              "    }\n",
              "\n",
              "    .dataframe tbody tr th {\n",
              "        vertical-align: top;\n",
              "    }\n",
              "\n",
              "    .dataframe thead th {\n",
              "        text-align: right;\n",
              "    }\n",
              "</style>\n",
              "<table border=\"1\" class=\"dataframe\">\n",
              "  <thead>\n",
              "    <tr style=\"text-align: right;\">\n",
              "      <th></th>\n",
              "      <th>textID</th>\n",
              "      <th>text</th>\n",
              "      <th>selected_text</th>\n",
              "      <th>sentiment</th>\n",
              "    </tr>\n",
              "  </thead>\n",
              "  <tbody>\n",
              "    <tr>\n",
              "      <th>0</th>\n",
              "      <td>cb774db0d1</td>\n",
              "      <td>I`d have responded, if I were going</td>\n",
              "      <td>I`d have responded, if I were going</td>\n",
              "      <td>neutral</td>\n",
              "    </tr>\n",
              "    <tr>\n",
              "      <th>1</th>\n",
              "      <td>549e992a42</td>\n",
              "      <td>Sooo SAD I will miss you here in San Diego!!!</td>\n",
              "      <td>Sooo SAD</td>\n",
              "      <td>negative</td>\n",
              "    </tr>\n",
              "    <tr>\n",
              "      <th>2</th>\n",
              "      <td>088c60f138</td>\n",
              "      <td>my boss is bullying me...</td>\n",
              "      <td>bullying me</td>\n",
              "      <td>negative</td>\n",
              "    </tr>\n",
              "    <tr>\n",
              "      <th>3</th>\n",
              "      <td>9642c003ef</td>\n",
              "      <td>what interview! leave me alone</td>\n",
              "      <td>leave me alone</td>\n",
              "      <td>negative</td>\n",
              "    </tr>\n",
              "    <tr>\n",
              "      <th>4</th>\n",
              "      <td>358bd9e861</td>\n",
              "      <td>Sons of ****, why couldn`t they put them on the releases we already bought</td>\n",
              "      <td>Sons of ****,</td>\n",
              "      <td>negative</td>\n",
              "    </tr>\n",
              "    <tr>\n",
              "      <th>...</th>\n",
              "      <td>...</td>\n",
              "      <td>...</td>\n",
              "      <td>...</td>\n",
              "      <td>...</td>\n",
              "    </tr>\n",
              "    <tr>\n",
              "      <th>27476</th>\n",
              "      <td>4eac33d1c0</td>\n",
              "      <td>wish we could come see u on Denver  husband lost his job and can`t afford it</td>\n",
              "      <td>d lost</td>\n",
              "      <td>negative</td>\n",
              "    </tr>\n",
              "    <tr>\n",
              "      <th>27477</th>\n",
              "      <td>4f4c4fc327</td>\n",
              "      <td>I`ve wondered about rake to.  The client has made it clear .NET only, don`t force devs to learn a new lang  #agile #ccnet</td>\n",
              "      <td>, don`t force</td>\n",
              "      <td>negative</td>\n",
              "    </tr>\n",
              "    <tr>\n",
              "      <th>27478</th>\n",
              "      <td>f67aae2310</td>\n",
              "      <td>Yay good for both of you. Enjoy the break - you probably need it after such hectic weekend  Take care hun xxxx</td>\n",
              "      <td>Yay good for both of you.</td>\n",
              "      <td>positive</td>\n",
              "    </tr>\n",
              "    <tr>\n",
              "      <th>27479</th>\n",
              "      <td>ed167662a5</td>\n",
              "      <td>But it was worth it  ****.</td>\n",
              "      <td>But it was worth it  ****.</td>\n",
              "      <td>positive</td>\n",
              "    </tr>\n",
              "    <tr>\n",
              "      <th>27480</th>\n",
              "      <td>6f7127d9d7</td>\n",
              "      <td>All this flirting going on - The ATG smiles. Yay.  ((hugs))</td>\n",
              "      <td>All this flirting going on - The ATG smiles. Yay.  ((hugs)</td>\n",
              "      <td>neutral</td>\n",
              "    </tr>\n",
              "  </tbody>\n",
              "</table>\n",
              "<p>27481 rows × 4 columns</p>\n",
              "</div>"
            ],
            "text/plain": [
              "           textID  \\\n",
              "0      cb774db0d1   \n",
              "1      549e992a42   \n",
              "2      088c60f138   \n",
              "3      9642c003ef   \n",
              "4      358bd9e861   \n",
              "...           ...   \n",
              "27476  4eac33d1c0   \n",
              "27477  4f4c4fc327   \n",
              "27478  f67aae2310   \n",
              "27479  ed167662a5   \n",
              "27480  6f7127d9d7   \n",
              "\n",
              "                                                                                                                             text  \\\n",
              "0                                                                                             I`d have responded, if I were going   \n",
              "1                                                                                   Sooo SAD I will miss you here in San Diego!!!   \n",
              "2                                                                                                       my boss is bullying me...   \n",
              "3                                                                                                  what interview! leave me alone   \n",
              "4                                                      Sons of ****, why couldn`t they put them on the releases we already bought   \n",
              "...                                                                                                                           ...   \n",
              "27476                                                wish we could come see u on Denver  husband lost his job and can`t afford it   \n",
              "27477   I`ve wondered about rake to.  The client has made it clear .NET only, don`t force devs to learn a new lang  #agile #ccnet   \n",
              "27478              Yay good for both of you. Enjoy the break - you probably need it after such hectic weekend  Take care hun xxxx   \n",
              "27479                                                                                                  But it was worth it  ****.   \n",
              "27480                                                                 All this flirting going on - The ATG smiles. Yay.  ((hugs))   \n",
              "\n",
              "                                                    selected_text sentiment  \n",
              "0                             I`d have responded, if I were going   neutral  \n",
              "1                                                        Sooo SAD  negative  \n",
              "2                                                     bullying me  negative  \n",
              "3                                                  leave me alone  negative  \n",
              "4                                                   Sons of ****,  negative  \n",
              "...                                                           ...       ...  \n",
              "27476                                                      d lost  negative  \n",
              "27477                                               , don`t force  negative  \n",
              "27478                                   Yay good for both of you.  positive  \n",
              "27479                                  But it was worth it  ****.  positive  \n",
              "27480  All this flirting going on - The ATG smiles. Yay.  ((hugs)   neutral  \n",
              "\n",
              "[27481 rows x 4 columns]"
            ]
          },
          "execution_count": 6,
          "metadata": {},
          "output_type": "execute_result"
        }
      ]
    },
    {
      "cell_type": "code",
      "metadata": {
        "execution": {
          "iopub.execute_input": "2021-10-20T19:01:59.134148Z",
          "iopub.status.busy": "2021-10-20T19:01:59.115086Z",
          "iopub.status.idle": "2021-10-20T19:01:59.170218Z",
          "shell.execute_reply": "2021-10-20T19:01:59.171025Z",
          "shell.execute_reply.started": "2021-10-20T18:55:11.509869Z"
        },
        "id": "33751737",
        "papermill": {
          "duration": 0.19369,
          "end_time": "2021-10-20T19:01:59.171262",
          "exception": false,
          "start_time": "2021-10-20T19:01:58.977572",
          "status": "completed"
        },
        "tags": [],
        "outputId": "caf4a50a-57c8-44f7-fa3d-d15f54b67231"
      },
      "source": [
        "df.info()"
      ],
      "id": "33751737",
      "execution_count": null,
      "outputs": [
        {
          "name": "stdout",
          "output_type": "stream",
          "text": [
            "<class 'pandas.core.frame.DataFrame'>\n",
            "RangeIndex: 27481 entries, 0 to 27480\n",
            "Data columns (total 4 columns):\n",
            " #   Column         Non-Null Count  Dtype \n",
            "---  ------         --------------  ----- \n",
            " 0   textID         27481 non-null  object\n",
            " 1   text           27480 non-null  object\n",
            " 2   selected_text  27480 non-null  object\n",
            " 3   sentiment      27481 non-null  object\n",
            "dtypes: object(4)\n",
            "memory usage: 858.9+ KB\n"
          ]
        }
      ]
    },
    {
      "cell_type": "code",
      "metadata": {
        "execution": {
          "iopub.execute_input": "2021-10-20T19:01:59.273217Z",
          "iopub.status.busy": "2021-10-20T19:01:59.272502Z",
          "iopub.status.idle": "2021-10-20T19:01:59.296063Z",
          "shell.execute_reply": "2021-10-20T19:01:59.296620Z",
          "shell.execute_reply.started": "2021-10-20T18:55:11.538660Z"
        },
        "id": "35c68f84",
        "papermill": {
          "duration": 0.072166,
          "end_time": "2021-10-20T19:01:59.296850",
          "exception": false,
          "start_time": "2021-10-20T19:01:59.224684",
          "status": "completed"
        },
        "tags": []
      },
      "source": [
        "df.dropna(inplace = True)"
      ],
      "id": "35c68f84",
      "execution_count": null,
      "outputs": []
    },
    {
      "cell_type": "code",
      "metadata": {
        "execution": {
          "iopub.execute_input": "2021-10-20T19:01:59.402474Z",
          "iopub.status.busy": "2021-10-20T19:01:59.386898Z",
          "iopub.status.idle": "2021-10-20T19:01:59.413794Z",
          "shell.execute_reply": "2021-10-20T19:01:59.413063Z",
          "shell.execute_reply.started": "2021-10-20T18:55:11.565742Z"
        },
        "id": "6639f1f6",
        "papermill": {
          "duration": 0.073414,
          "end_time": "2021-10-20T19:01:59.413964",
          "exception": false,
          "start_time": "2021-10-20T19:01:59.340550",
          "status": "completed"
        },
        "tags": [],
        "outputId": "81294452-49a8-48d0-ef5c-8018e5a25f32"
      },
      "source": [
        "df.info()"
      ],
      "id": "6639f1f6",
      "execution_count": null,
      "outputs": [
        {
          "name": "stdout",
          "output_type": "stream",
          "text": [
            "<class 'pandas.core.frame.DataFrame'>\n",
            "Int64Index: 27480 entries, 0 to 27480\n",
            "Data columns (total 4 columns):\n",
            " #   Column         Non-Null Count  Dtype \n",
            "---  ------         --------------  ----- \n",
            " 0   textID         27480 non-null  object\n",
            " 1   text           27480 non-null  object\n",
            " 2   selected_text  27480 non-null  object\n",
            " 3   sentiment      27480 non-null  object\n",
            "dtypes: object(4)\n",
            "memory usage: 1.0+ MB\n"
          ]
        }
      ]
    },
    {
      "cell_type": "markdown",
      "metadata": {
        "id": "b6ca4fc3",
        "papermill": {
          "duration": 0.043237,
          "end_time": "2021-10-20T19:01:59.502540",
          "exception": false,
          "start_time": "2021-10-20T19:01:59.459303",
          "status": "completed"
        },
        "tags": []
      },
      "source": [
        "# Tách tập dữ liệu"
      ],
      "id": "b6ca4fc3"
    },
    {
      "cell_type": "code",
      "metadata": {
        "execution": {
          "iopub.execute_input": "2021-10-20T19:01:59.600568Z",
          "iopub.status.busy": "2021-10-20T19:01:59.599815Z",
          "iopub.status.idle": "2021-10-20T19:01:59.660384Z",
          "shell.execute_reply": "2021-10-20T19:01:59.659640Z",
          "shell.execute_reply.started": "2021-10-20T18:55:11.597383Z"
        },
        "id": "75d8621d",
        "papermill": {
          "duration": 0.113855,
          "end_time": "2021-10-20T19:01:59.660553",
          "exception": false,
          "start_time": "2021-10-20T19:01:59.546698",
          "status": "completed"
        },
        "tags": []
      },
      "source": [
        "# Tách tập huấn luyện và tập validation theo tỉ lệ 70%:30%\n",
        "X_df = df.drop(labels = 'selected_text',axis = 1)\n",
        "y_ex = df.selected_text\n",
        "y_class = df.sentiment\n",
        "train_X_df, val_X_df, train_y_ex, val_y_ex = train_test_split(X_df, y_ex, test_size=0.3, \n",
        "                                                              stratify=y_class, random_state=0)"
      ],
      "id": "75d8621d",
      "execution_count": null,
      "outputs": []
    },
    {
      "cell_type": "code",
      "metadata": {
        "execution": {
          "iopub.execute_input": "2021-10-20T19:01:59.755009Z",
          "iopub.status.busy": "2021-10-20T19:01:59.754214Z",
          "iopub.status.idle": "2021-10-20T19:01:59.759040Z",
          "shell.execute_reply": "2021-10-20T19:01:59.758396Z",
          "shell.execute_reply.started": "2021-10-20T18:55:11.665113Z"
        },
        "id": "e3af4df9",
        "papermill": {
          "duration": 0.054449,
          "end_time": "2021-10-20T19:01:59.759199",
          "exception": false,
          "start_time": "2021-10-20T19:01:59.704750",
          "status": "completed"
        },
        "tags": [],
        "outputId": "9cd84b13-55ec-430f-b286-b381a2227ce1"
      },
      "source": [
        "print('train_X: ',train_X_df.shape)\n",
        "print('train_y: ',train_y_ex.shape)\n",
        "print('val_X: ',val_X_df.shape)\n",
        "print('val_y: ',val_y_ex.shape)\n"
      ],
      "id": "e3af4df9",
      "execution_count": null,
      "outputs": [
        {
          "name": "stdout",
          "output_type": "stream",
          "text": [
            "train_X:  (19236, 3)\n",
            "train_y:  (19236,)\n",
            "val_X:  (8244, 3)\n",
            "val_y:  (8244,)\n"
          ]
        }
      ]
    },
    {
      "cell_type": "markdown",
      "metadata": {
        "id": "b05a364e",
        "papermill": {
          "duration": 0.043708,
          "end_time": "2021-10-20T19:01:59.847249",
          "exception": false,
          "start_time": "2021-10-20T19:01:59.803541",
          "status": "completed"
        },
        "tags": []
      },
      "source": [
        "# Tiền xử lý + Khám phá tập train"
      ],
      "id": "b05a364e"
    },
    {
      "cell_type": "code",
      "metadata": {
        "execution": {
          "iopub.execute_input": "2021-10-20T19:01:59.941687Z",
          "iopub.status.busy": "2021-10-20T19:01:59.941002Z",
          "iopub.status.idle": "2021-10-20T19:02:00.195675Z",
          "shell.execute_reply": "2021-10-20T19:02:00.195094Z",
          "shell.execute_reply.started": "2021-10-20T18:55:11.674278Z"
        },
        "id": "b5c6f4b6",
        "papermill": {
          "duration": 0.304495,
          "end_time": "2021-10-20T19:02:00.195820",
          "exception": false,
          "start_time": "2021-10-20T19:01:59.891325",
          "status": "completed"
        },
        "tags": [],
        "outputId": "595a6556-afda-4097-bc08-9aacc51ad7b8"
      },
      "source": [
        "#Phân bố của các lớp:\n",
        "train_X_df.sentiment.value_counts(normalize= True).plot(kind=\"pie\",labels = None, legend='auto', figsize=(8,6), autopct=\"%.1f%%\");"
      ],
      "id": "b5c6f4b6",
      "execution_count": null,
      "outputs": [
        {
          "data": {
            "image/png": "[encoded data removed]",
            "text/plain": [
              "<Figure size 576x432 with 1 Axes>"
            ]
          },
          "metadata": {},
          "output_type": "display_data"
        }
      ]
    },
    {
      "cell_type": "code",
      "metadata": {
        "execution": {
          "iopub.execute_input": "2021-10-20T19:02:00.304902Z",
          "iopub.status.busy": "2021-10-20T19:02:00.298908Z",
          "iopub.status.idle": "2021-10-20T19:02:00.309110Z",
          "shell.execute_reply": "2021-10-20T19:02:00.308583Z",
          "shell.execute_reply.started": "2021-10-20T18:55:11.970109Z"
        },
        "id": "d8e5df71",
        "papermill": {
          "duration": 0.068104,
          "end_time": "2021-10-20T19:02:00.309244",
          "exception": false,
          "start_time": "2021-10-20T19:02:00.241140",
          "status": "completed"
        },
        "tags": [],
        "outputId": "c75ac957-b399-4817-c27c-46bc5cbfad08"
      },
      "source": [
        "train_X_df.info()"
      ],
      "id": "d8e5df71",
      "execution_count": null,
      "outputs": [
        {
          "name": "stdout",
          "output_type": "stream",
          "text": [
            "<class 'pandas.core.frame.DataFrame'>\n",
            "Int64Index: 19236 entries, 652 to 12238\n",
            "Data columns (total 3 columns):\n",
            " #   Column     Non-Null Count  Dtype \n",
            "---  ------     --------------  ----- \n",
            " 0   textID     19236 non-null  object\n",
            " 1   text       19236 non-null  object\n",
            " 2   sentiment  19236 non-null  object\n",
            "dtypes: object(3)\n",
            "memory usage: 601.1+ KB\n"
          ]
        }
      ]
    },
    {
      "cell_type": "code",
      "metadata": {
        "execution": {
          "iopub.execute_input": "2021-10-20T19:02:00.403699Z",
          "iopub.status.busy": "2021-10-20T19:02:00.403064Z",
          "iopub.status.idle": "2021-10-20T19:02:00.425978Z",
          "shell.execute_reply": "2021-10-20T19:02:00.426505Z",
          "shell.execute_reply.started": "2021-10-20T18:55:11.994074Z"
        },
        "id": "64ae1685",
        "papermill": {
          "duration": 0.071182,
          "end_time": "2021-10-20T19:02:00.426676",
          "exception": false,
          "start_time": "2021-10-20T19:02:00.355494",
          "status": "completed"
        },
        "tags": [],
        "outputId": "da344096-57c2-4585-ff3a-b51b4e9258e3"
      },
      "source": [
        "train_X_df.duplicated().sum()"
      ],
      "id": "64ae1685",
      "execution_count": null,
      "outputs": [
        {
          "data": {
            "text/plain": [
              "0"
            ]
          },
          "execution_count": 14,
          "metadata": {},
          "output_type": "execute_result"
        }
      ]
    },
    {
      "cell_type": "code",
      "metadata": {
        "execution": {
          "iopub.execute_input": "2021-10-20T19:02:00.527175Z",
          "iopub.status.busy": "2021-10-20T19:02:00.526509Z",
          "iopub.status.idle": "2021-10-20T19:02:00.530414Z",
          "shell.execute_reply": "2021-10-20T19:02:00.529885Z",
          "shell.execute_reply.started": "2021-10-20T18:55:12.027909Z"
        },
        "id": "76b2e318",
        "papermill": {
          "duration": 0.058618,
          "end_time": "2021-10-20T19:02:00.530567",
          "exception": false,
          "start_time": "2021-10-20T19:02:00.471949",
          "status": "completed"
        },
        "tags": [],
        "outputId": "abd043ce-e1fe-412f-b268-2857fd96ff99"
      },
      "source": [
        "train_y_ex.isnull().sum()"
      ],
      "id": "76b2e318",
      "execution_count": null,
      "outputs": [
        {
          "data": {
            "text/plain": [
              "0"
            ]
          },
          "execution_count": 15,
          "metadata": {},
          "output_type": "execute_result"
        }
      ]
    },
    {
      "cell_type": "markdown",
      "metadata": {
        "id": "ee0725cc",
        "papermill": {
          "duration": 0.045092,
          "end_time": "2021-10-20T19:02:00.621758",
          "exception": false,
          "start_time": "2021-10-20T19:02:00.576666",
          "status": "completed"
        },
        "tags": []
      },
      "source": [
        "# Tiền xử lý text"
      ],
      "id": "ee0725cc"
    },
    {
      "cell_type": "code",
      "metadata": {
        "execution": {
          "iopub.execute_input": "2021-10-20T19:02:00.721047Z",
          "iopub.status.busy": "2021-10-20T19:02:00.720306Z",
          "iopub.status.idle": "2021-10-20T19:02:00.729533Z",
          "shell.execute_reply": "2021-10-20T19:02:00.728806Z",
          "shell.execute_reply.started": "2021-10-20T18:55:12.043990Z"
        },
        "id": "2cceeb36",
        "papermill": {
          "duration": 0.062598,
          "end_time": "2021-10-20T19:02:00.729685",
          "exception": false,
          "start_time": "2021-10-20T19:02:00.667087",
          "status": "completed"
        },
        "tags": []
      },
      "source": [
        "def preprocessing(tweet):\n",
        "    '''\n",
        "    input: a tweet (str)\n",
        "    output: a list of words (list)\n",
        "    '''\n",
        "    tweet = str(tweet).strip()\n",
        "    new_tweet = tweet.split()\n",
        "    index2word = { w:new_tweet[w] for w in range(len(new_tweet))}\n",
        "    #word2index = { new_tweet[w]:w for w in range(len(new_tweet))} # Biễu diễn mỗi từ là 1 index để sau này phục hồi\n",
        "    #print('origin: ',word2index)\n",
        "    preprocess_tweet = dict({i[0]:i[1].lower()  for i in index2word.items()})\n",
        "    #preprocess_tweet = {re.sub(r'i[`\\'\"][\\w]+', 'i',w[0]):w[1] for w in preprocess_tweet.items()}\n",
        "    preprocess_tweet = {w[0]:re.sub(r'https?:\\/\\/.*[\\r\\n]*', '<URL>',w[1]) for w in preprocess_tweet.items()}\n",
        "    preprocess_tweet = {w[0]:re.sub(r'\\*+', '<HIDDEN>',w[1]) for w in preprocess_tweet.items()}\n",
        "    preprocess_tweet = {w[0]:re.sub(r'@\\w+', '<tag>',w[1]) for w in preprocess_tweet.items()}\n",
        "    preprocess_tweet = {w[0]:re.sub(r'@\\w+', '<tag>',w[1]) for w in preprocess_tweet.items()}\n",
        "    preprocessed_tweet = {}\n",
        "    for w in preprocess_tweet.items():\n",
        "      if emoji.get_emoji_regexp().search(w[1]) or w[1].isalpha() or w[1]=='<URL>':\n",
        "        preprocessed_tweet[w[0]] = w[1]\n",
        "      elif w[1].isdigit():\n",
        "        preprocessed_tweet[w[0]] = w[1].replace(w[1],'<NUMBER>')\n",
        "      \n",
        "      else:\n",
        "        \n",
        "          r = re.sub(r\"[#!\\\"$%&\\'*+,-\\.?@\\[\\]`{|}]*\",'',w[1])\n",
        "          preprocessed_tweet[w[0]] = r\n",
        "    stemmer = PorterStemmer()\n",
        "    preprocessed_tweet = {w[0]:stemmer.stem(w[1]) for w in preprocessed_tweet.items()}\n",
        "    return index2word,preprocessed_tweet\n",
        "    \n",
        "\n",
        "    \n",
        "    #new_tweets = [str(tweet).split(\" \") for tweet in tweets]\n",
        "    \n",
        "    #for tweet in new_tweets:\n",
        "    #    if \"\" in tweet:\n",
        "    #        tweet.pop(tweet.index(\"\"))\n",
        "    #return new_tweets"
      ],
      "id": "2cceeb36",
      "execution_count": null,
      "outputs": []
    },
    {
      "cell_type": "code",
      "metadata": {
        "execution": {
          "iopub.execute_input": "2021-10-20T19:02:00.835222Z",
          "iopub.status.busy": "2021-10-20T19:02:00.834502Z",
          "iopub.status.idle": "2021-10-20T19:02:00.930910Z",
          "shell.execute_reply": "2021-10-20T19:02:00.931456Z",
          "shell.execute_reply.started": "2021-10-20T18:55:12.063911Z"
        },
        "id": "cad376e3",
        "papermill": {
          "duration": 0.156305,
          "end_time": "2021-10-20T19:02:00.931650",
          "exception": false,
          "start_time": "2021-10-20T19:02:00.775345",
          "status": "completed"
        },
        "tags": []
      },
      "source": [
        "tweet = ' My mom just texted me and told me that Rodney was *** chasing?? and fireflies... in their :)) backyard. Awwwww I`m miss him!!! @hoanglam 123 ://    http://twitpic.com/66pn1'\n",
        "tweet2 = 'their :)) <3'\n",
        "index2word_temp,preprocessed_tweet_temp = preprocessing(tweet)"
      ],
      "id": "cad376e3",
      "execution_count": null,
      "outputs": []
    },
    {
      "cell_type": "code",
      "metadata": {
        "execution": {
          "iopub.execute_input": "2021-10-20T19:02:01.029110Z",
          "iopub.status.busy": "2021-10-20T19:02:01.028456Z",
          "iopub.status.idle": "2021-10-20T19:02:01.031106Z",
          "shell.execute_reply": "2021-10-20T19:02:01.031639Z",
          "shell.execute_reply.started": "2021-10-20T18:55:12.198472Z"
        },
        "id": "15cff149",
        "papermill": {
          "duration": 0.054478,
          "end_time": "2021-10-20T19:02:01.031807",
          "exception": false,
          "start_time": "2021-10-20T19:02:00.977329",
          "status": "completed"
        },
        "tags": [],
        "outputId": "42b111cb-a828-4543-f3ae-bbfaa2210909"
      },
      "source": [
        "print('index2word: ',index2word_temp)\n",
        "print('preprocessed_tweet: ',preprocessed_tweet_temp)"
      ],
      "id": "15cff149",
      "execution_count": null,
      "outputs": [
        {
          "name": "stdout",
          "output_type": "stream",
          "text": [
            "index2word:  {0: 'My', 1: 'mom', 2: 'just', 3: 'texted', 4: 'me', 5: 'and', 6: 'told', 7: 'me', 8: 'that', 9: 'Rodney', 10: 'was', 11: '***', 12: 'chasing??', 13: 'and', 14: 'fireflies...', 15: 'in', 16: 'their', 17: ':))', 18: 'backyard.', 19: 'Awwwww', 20: 'I`m', 21: 'miss', 22: 'him!!!', 23: '@hoanglam', 24: '123', 25: '://', 26: 'http://twitpic.com/66pn1'}\n",
            "preprocessed_tweet:  {0: 'my', 1: 'mom', 2: 'just', 3: 'text', 4: 'me', 5: 'and', 6: 'told', 7: 'me', 8: 'that', 9: 'rodney', 10: 'wa', 11: '<hidden>', 12: 'chase', 13: 'and', 14: 'firefli', 15: 'in', 16: 'their', 17: ':))', 18: 'backyard', 19: 'awwwww', 20: 'im', 21: 'miss', 22: 'him', 23: '<tag>', 24: '<number>', 25: '://', 26: '<url>'}\n"
          ]
        }
      ]
    },
    {
      "cell_type": "code",
      "metadata": {
        "execution": {
          "iopub.execute_input": "2021-10-20T19:02:01.128516Z",
          "iopub.status.busy": "2021-10-20T19:02:01.127793Z",
          "iopub.status.idle": "2021-10-20T19:02:01.134053Z",
          "shell.execute_reply": "2021-10-20T19:02:01.134592Z",
          "shell.execute_reply.started": "2021-10-20T18:55:12.209372Z"
        },
        "id": "49c6777d",
        "papermill": {
          "duration": 0.055631,
          "end_time": "2021-10-20T19:02:01.134796",
          "exception": false,
          "start_time": "2021-10-20T19:02:01.079165",
          "status": "completed"
        },
        "tags": []
      },
      "source": [
        "def preprocess_tweets(X_df):\n",
        "  X_df = X_df.copy()\n",
        "  raw_tweets = X_df.text.to_list()\n",
        "  X_df.sentiment = X_df.sentiment.map({'negative':-1,'neutral':0,'positive':1}).to_list()\n",
        "  index2word_tweets = [] #list of dictionaries\n",
        "  preprocessed_tweets = [] #list of dictionaries\n",
        "  for tweet in raw_tweets:\n",
        "    index2word, preprocessed = preprocessing(tweet)\n",
        "    index2word_tweets.append(index2word)\n",
        "    preprocessed_tweets.append(preprocessed)\n",
        "  \n",
        "  preprocessed_X_df = pd.DataFrame(data={'textID':X_df.textID,'index2word':index2word_tweets, 'preprocessed_texts':preprocessed_tweets,'sentiment':X_df.sentiment})\n",
        "  return preprocessed_X_df\n",
        "\n"
      ],
      "id": "49c6777d",
      "execution_count": null,
      "outputs": []
    },
    {
      "cell_type": "code",
      "metadata": {
        "execution": {
          "iopub.execute_input": "2021-10-20T19:02:01.232225Z",
          "iopub.status.busy": "2021-10-20T19:02:01.231535Z",
          "iopub.status.idle": "2021-10-20T19:02:01.238176Z",
          "shell.execute_reply": "2021-10-20T19:02:01.238774Z",
          "shell.execute_reply.started": "2021-10-20T18:55:12.225541Z"
        },
        "id": "08bddf5c",
        "papermill": {
          "duration": 0.056619,
          "end_time": "2021-10-20T19:02:01.238952",
          "exception": false,
          "start_time": "2021-10-20T19:02:01.182333",
          "status": "completed"
        },
        "tags": []
      },
      "source": [
        "\n",
        "def count_tweets(preprocessed_X):\n",
        "    '''\n",
        "    Input:\n",
        "      \n",
        "        tweets: a list of tweets\n",
        "        ys: a list corresponding to the sentiment of each tweet (either 0 or 1)\n",
        "    Output:\n",
        "        result: a dictionary mapping each pair to its frequency\n",
        "    '''\n",
        "    preprocessed_X = preprocessed_X.copy()\n",
        "    y_s = preprocessed_X.sentiment.to_list()\n",
        "    preprocessed_tweets = preprocessed_X.preprocessed_texts.to_list()\n",
        "    processed_tweets = [list(text.values()) for text in preprocessed_tweets ]\n",
        "    result = {}\n",
        "\n",
        "    for y, tweet in zip(y_s, processed_tweets):\n",
        "        for word in tweet:\n",
        "            # define the key, which is the word and label tuple\n",
        "            pair = (word,y)\n",
        "\n",
        "            # if the key exists in the dictionary, increment the count\n",
        "            if pair in result:\n",
        "                result[pair] += 1\n",
        "\n",
        "            # else, if the key is new, add it to the dictionary and set the count to 1\n",
        "            else:\n",
        "                result[pair] = 1\n",
        "    ### END CODE HERE ###\n",
        "\n",
        "    return result"
      ],
      "id": "08bddf5c",
      "execution_count": null,
      "outputs": []
    },
    {
      "cell_type": "code",
      "metadata": {
        "execution": {
          "iopub.execute_input": "2021-10-20T19:02:01.336427Z",
          "iopub.status.busy": "2021-10-20T19:02:01.335252Z",
          "iopub.status.idle": "2021-10-20T19:02:01.347868Z",
          "shell.execute_reply": "2021-10-20T19:02:01.348427Z",
          "shell.execute_reply.started": "2021-10-20T18:55:12.238714Z"
        },
        "id": "7a891bf9",
        "papermill": {
          "duration": 0.063522,
          "end_time": "2021-10-20T19:02:01.348609",
          "exception": false,
          "start_time": "2021-10-20T19:02:01.285087",
          "status": "completed"
        },
        "tags": []
      },
      "source": [
        "\n",
        "def naive_bayes(freqs,preprocessed_X ):\n",
        "    '''\n",
        "    Input:\n",
        "        freqs: dictionary from (word, label) to how often the word appears\n",
        "        train_x: a list of tweets\n",
        "        train_y: a list of labels correponding to the tweets (0,1)\n",
        "    Output:\n",
        "        logprior: the log prior. (equation 3 above)\n",
        "        loglikelihood: the log likelihood of you Naive bayes equation. (equation 6 above)\n",
        "    '''\n",
        "    likelihood = {}\n",
        "    #prior = {}\n",
        "    preprocessed_X = preprocessed_X.copy()\n",
        "    train_y = preprocessed_X.sentiment.to_list()\n",
        "    preprocessed_tweets = preprocessed_X.preprocessed_texts.to_list()\n",
        "    train_x = [list(text.values()) for text in preprocessed_tweets ]\n",
        "\n",
        "\n",
        "    # calculate V, the number of unique words in the vocabulary\n",
        "    vocab = set([pair[0] for pair in freqs.keys()])\n",
        "    V = len(vocab)\n",
        "\n",
        "    # calculate N_pos and N_neg\n",
        "    N_pos = N_neg = N_neu = 0\n",
        "    for pair in freqs.keys():\n",
        "        # if the label is positive (greater than zero)\n",
        "        if pair[1] ==1:\n",
        "\n",
        "            # Increment the number of positive words by the count for this (word, label) pair\n",
        "            N_pos += freqs[pair]\n",
        "        elif pair[1] ==0:\n",
        "            N_neu +=freqs[pair]\n",
        "        # else, the label is negative\n",
        "        else:\n",
        "            # increment the number of negative words by the count for this (word,label) pair\n",
        "            N_neg += freqs[pair]\n",
        "\n",
        "    # Calculate D, the number of documents\n",
        "    D = len(train_y)\n",
        "\n",
        "    # Calculate D_pos, the number of positive documents \n",
        "    # D_pos = D_c['positive']\n",
        "\n",
        "    # # Calculate D_neg, the number of negative documents\n",
        "    # D_neg = D_c['negative']\n",
        "    \n",
        "    # D_neu = D_c['neutral']\n",
        "\n",
        "    # Calculate logprior\n",
        "    #logprior = np.log(D_pos) - np.log(D_neg)\n",
        "    # prior['neg'] = np.log(D_neg / D)\n",
        "    # prior['neu'] = np.log(D_neu / D)\n",
        "    # prior['pos'] = np.log(D_pos / D)\n",
        "    \n",
        "    \n",
        "    \n",
        "    \n",
        "    # For each word in the vocabulary...\n",
        "    for word in vocab:\n",
        "        # get the positive and negative frequency of the word\n",
        "        freq_pos = freqs.get((word,1),0)\n",
        "        freq_neu = freqs.get((word,0),0)\n",
        "        freq_neg = freqs.get((word,-1),0)\n",
        "        \n",
        "\n",
        "        # calculate the probability that each word is positive, and negative , neutral\n",
        "        p_w_pos = (freq_pos + 1) / (N_pos + V)\n",
        "        p_w_neu = (freq_neu + 1) / (N_neu + V)\n",
        "        p_w_neg = (freq_neg + 1) / (N_neg + V)\n",
        "\n",
        "        # calculate the log likelihood of the word\n",
        "        likelihood[word] = [np.log(p_w_neg),np.log(p_w_neu),np.log(p_w_pos)] \n",
        "\n",
        "    ### END CODE HERE ###\n",
        "\n",
        "    return likelihood\n"
      ],
      "id": "7a891bf9",
      "execution_count": null,
      "outputs": []
    },
    {
      "cell_type": "markdown",
      "metadata": {
        "id": "63dded98",
        "papermill": {
          "duration": 0.045327,
          "end_time": "2021-10-20T19:02:01.439819",
          "exception": false,
          "start_time": "2021-10-20T19:02:01.394492",
          "status": "completed"
        },
        "tags": []
      },
      "source": [
        "# Hàm Training:"
      ],
      "id": "63dded98"
    },
    {
      "cell_type": "code",
      "metadata": {
        "execution": {
          "iopub.execute_input": "2021-10-20T19:02:01.538035Z",
          "iopub.status.busy": "2021-10-20T19:02:01.537306Z",
          "iopub.status.idle": "2021-10-20T19:02:01.539634Z",
          "shell.execute_reply": "2021-10-20T19:02:01.540113Z",
          "shell.execute_reply.started": "2021-10-20T18:55:12.254839Z"
        },
        "id": "37de6cad",
        "papermill": {
          "duration": 0.054043,
          "end_time": "2021-10-20T19:02:01.540307",
          "exception": false,
          "start_time": "2021-10-20T19:02:01.486264",
          "status": "completed"
        },
        "tags": []
      },
      "source": [
        "def Training_Extracted_Sentiment(train_X_df,train_y_ex):\n",
        "  preprocessed_train_X= preprocess_tweets(train_X_df)\n",
        "  freqs_tw = count_tweets(preprocessed_train_X)\n",
        "  likelihood = naive_bayes(freqs_tw,preprocessed_train_X)\n",
        "  return preprocessed_train_X,freqs_tw,likelihood"
      ],
      "id": "37de6cad",
      "execution_count": null,
      "outputs": []
    },
    {
      "cell_type": "code",
      "metadata": {
        "execution": {
          "iopub.execute_input": "2021-10-20T19:02:01.643215Z",
          "iopub.status.busy": "2021-10-20T19:02:01.636022Z",
          "iopub.status.idle": "2021-10-20T19:02:17.795768Z",
          "shell.execute_reply": "2021-10-20T19:02:17.796255Z",
          "shell.execute_reply.started": "2021-10-20T18:55:12.272124Z"
        },
        "id": "1d3d1132",
        "papermill": {
          "duration": 16.209379,
          "end_time": "2021-10-20T19:02:17.796463",
          "exception": false,
          "start_time": "2021-10-20T19:02:01.587084",
          "status": "completed"
        },
        "tags": []
      },
      "source": [
        "preprocessed_train_X,freqs_tw,likelihood = Training_Extracted_Sentiment(train_X_df,train_y_ex)"
      ],
      "id": "1d3d1132",
      "execution_count": null,
      "outputs": []
    },
    {
      "cell_type": "code",
      "metadata": {
        "execution": {
          "iopub.execute_input": "2021-10-20T19:02:17.902365Z",
          "iopub.status.busy": "2021-10-20T19:02:17.901340Z",
          "iopub.status.idle": "2021-10-20T19:02:17.905488Z",
          "shell.execute_reply": "2021-10-20T19:02:17.904776Z",
          "shell.execute_reply.started": "2021-10-20T18:55:28.649452Z"
        },
        "id": "92a89db1",
        "papermill": {
          "duration": 0.063483,
          "end_time": "2021-10-20T19:02:17.905652",
          "exception": false,
          "start_time": "2021-10-20T19:02:17.842169",
          "status": "completed"
        },
        "tags": [],
        "outputId": "fccc24e2-5a11-4922-dc66-a70e419ecd9a"
      },
      "source": [
        "preprocessed_train_X.head(3)"
      ],
      "id": "92a89db1",
      "execution_count": null,
      "outputs": [
        {
          "data": {
            "text/html": [
              "<div>\n",
              "<style scoped>\n",
              "    .dataframe tbody tr th:only-of-type {\n",
              "        vertical-align: middle;\n",
              "    }\n",
              "\n",
              "    .dataframe tbody tr th {\n",
              "        vertical-align: top;\n",
              "    }\n",
              "\n",
              "    .dataframe thead th {\n",
              "        text-align: right;\n",
              "    }\n",
              "</style>\n",
              "<table border=\"1\" class=\"dataframe\">\n",
              "  <thead>\n",
              "    <tr style=\"text-align: right;\">\n",
              "      <th></th>\n",
              "      <th>textID</th>\n",
              "      <th>index2word</th>\n",
              "      <th>preprocessed_texts</th>\n",
              "      <th>sentiment</th>\n",
              "    </tr>\n",
              "  </thead>\n",
              "  <tbody>\n",
              "    <tr>\n",
              "      <th>652</th>\n",
              "      <td>a834cef9c6</td>\n",
              "      <td>{0: '1st', 1: 'presentation', 2: 'for', 3: 'senior', 4: 'boards?', 5: 'FML'}</td>\n",
              "      <td>{0: '1st', 1: 'present', 2: 'for', 3: 'senior', 4: 'board', 5: 'fml'}</td>\n",
              "      <td>-1</td>\n",
              "    </tr>\n",
              "    <tr>\n",
              "      <th>24883</th>\n",
              "      <td>5bfad683d5</td>\n",
              "      <td>{0: 'yummy', 1: 'curry', 2: 'save', 3: 'me', 4: 'some', 5: 'please', 6: 'lol'}</td>\n",
              "      <td>{0: 'yummi', 1: 'curri', 2: 'save', 3: 'me', 4: 'some', 5: 'pleas', 6: 'lol'}</td>\n",
              "      <td>1</td>\n",
              "    </tr>\n",
              "    <tr>\n",
              "      <th>15385</th>\n",
              "      <td>08a8d660b1</td>\n",
              "      <td>{0: 'I', 1: 'wish', 2: 'I', 3: 'knew', 4: 'someone', 5: 'down', 6: 'there', 7: 'who', 8: 'could', 9: 'hook', 10: 'us', 11: 'up.', 12: 'a', 13: 'friend', 14: 'told', 15: 'me', 16: 'once', 17: 'that...</td>\n",
              "      <td>{0: 'i', 1: 'wish', 2: 'i', 3: 'knew', 4: 'someon', 5: 'down', 6: 'there', 7: 'who', 8: 'could', 9: 'hook', 10: 'us', 11: 'up', 12: 'a', 13: 'friend', 14: 'told', 15: 'me', 16: 'onc', 17: 'that', ...</td>\n",
              "      <td>-1</td>\n",
              "    </tr>\n",
              "  </tbody>\n",
              "</table>\n",
              "</div>"
            ],
            "text/plain": [
              "           textID  \\\n",
              "652    a834cef9c6   \n",
              "24883  5bfad683d5   \n",
              "15385  08a8d660b1   \n",
              "\n",
              "                                                                                                                                                                                                    index2word  \\\n",
              "652                                                                                                                               {0: '1st', 1: 'presentation', 2: 'for', 3: 'senior', 4: 'boards?', 5: 'FML'}   \n",
              "24883                                                                                                                           {0: 'yummy', 1: 'curry', 2: 'save', 3: 'me', 4: 'some', 5: 'please', 6: 'lol'}   \n",
              "15385  {0: 'I', 1: 'wish', 2: 'I', 3: 'knew', 4: 'someone', 5: 'down', 6: 'there', 7: 'who', 8: 'could', 9: 'hook', 10: 'us', 11: 'up.', 12: 'a', 13: 'friend', 14: 'told', 15: 'me', 16: 'once', 17: 'that...   \n",
              "\n",
              "                                                                                                                                                                                            preprocessed_texts  \\\n",
              "652                                                                                                                                      {0: '1st', 1: 'present', 2: 'for', 3: 'senior', 4: 'board', 5: 'fml'}   \n",
              "24883                                                                                                                            {0: 'yummi', 1: 'curri', 2: 'save', 3: 'me', 4: 'some', 5: 'pleas', 6: 'lol'}   \n",
              "15385  {0: 'i', 1: 'wish', 2: 'i', 3: 'knew', 4: 'someon', 5: 'down', 6: 'there', 7: 'who', 8: 'could', 9: 'hook', 10: 'us', 11: 'up', 12: 'a', 13: 'friend', 14: 'told', 15: 'me', 16: 'onc', 17: 'that', ...   \n",
              "\n",
              "       sentiment  \n",
              "652           -1  \n",
              "24883          1  \n",
              "15385         -1  "
            ]
          },
          "execution_count": 24,
          "metadata": {},
          "output_type": "execute_result"
        }
      ]
    },
    {
      "cell_type": "code",
      "metadata": {
        "execution": {
          "iopub.execute_input": "2021-10-20T19:02:18.007893Z",
          "iopub.status.busy": "2021-10-20T19:02:18.007176Z",
          "iopub.status.idle": "2021-10-20T19:02:18.009833Z",
          "shell.execute_reply": "2021-10-20T19:02:18.009101Z",
          "shell.execute_reply.started": "2021-10-20T18:55:28.666891Z"
        },
        "id": "9cf5e8da",
        "papermill": {
          "duration": 0.057146,
          "end_time": "2021-10-20T19:02:18.009983",
          "exception": false,
          "start_time": "2021-10-20T19:02:17.952837",
          "status": "completed"
        },
        "tags": []
      },
      "source": [
        "def Extract_Sentiment_Tweet(y,tweet,likelihood):\n",
        "    '''input:\n",
        "        tweet: list of word'''\n",
        "    selected_tweet = []\n",
        "    s = y +1\n",
        "    for word in tweet:\n",
        "      if likelihood.get(word,0)!=0:\n",
        "            if max(likelihood[word]) == likelihood[word][s] and abs((abs(max(likelihood[word])) - abs(min(likelihood[word]))))>0.2:\n",
        "                max(likelihood[word]) \n",
        "                selected_tweet.append(word)\n",
        "                \n",
        "    return selected_tweet"
      ],
      "id": "9cf5e8da",
      "execution_count": null,
      "outputs": []
    },
    {
      "cell_type": "code",
      "metadata": {
        "execution": {
          "iopub.execute_input": "2021-10-20T19:02:18.109851Z",
          "iopub.status.busy": "2021-10-20T19:02:18.109095Z",
          "iopub.status.idle": "2021-10-20T19:02:18.111740Z",
          "shell.execute_reply": "2021-10-20T19:02:18.111150Z",
          "shell.execute_reply.started": "2021-10-20T18:55:28.680027Z"
        },
        "id": "a0f4a068",
        "papermill": {
          "duration": 0.054777,
          "end_time": "2021-10-20T19:02:18.111892",
          "exception": false,
          "start_time": "2021-10-20T19:02:18.057115",
          "status": "completed"
        },
        "tags": []
      },
      "source": [
        "def jaccard(str1, str2): \n",
        "    a = set(str1.lower().split()) \n",
        "    b = set(str2.lower().split())\n",
        "    c = a.intersection(b)\n",
        "    return float(len(c)) / (len(a) + len(b) - len(c))"
      ],
      "id": "a0f4a068",
      "execution_count": null,
      "outputs": []
    },
    {
      "cell_type": "code",
      "metadata": {
        "execution": {
          "iopub.execute_input": "2021-10-20T19:02:18.212425Z",
          "iopub.status.busy": "2021-10-20T19:02:18.211715Z",
          "iopub.status.idle": "2021-10-20T19:02:18.214655Z",
          "shell.execute_reply": "2021-10-20T19:02:18.214053Z",
          "shell.execute_reply.started": "2021-10-20T18:55:28.697215Z"
        },
        "id": "3dc6eb65",
        "papermill": {
          "duration": 0.055811,
          "end_time": "2021-10-20T19:02:18.214807",
          "exception": false,
          "start_time": "2021-10-20T19:02:18.158996",
          "status": "completed"
        },
        "tags": []
      },
      "source": [
        "def Predict_Extract_text(Preprocessed_X,likelihood):\n",
        "    selected = []\n",
        "    preprocessed_X = Preprocessed_X.copy()\n",
        "    y_s = preprocessed_X.sentiment.to_list()\n",
        "    preprocessed_tweets = preprocessed_X.preprocessed_texts.to_list()\n",
        "    tweets = [list(text.values()) for text in preprocessed_tweets ]\n",
        "    for y, tweet in zip(y_s,tweets):\n",
        "        selected_predict = Extract_Sentiment_Tweet(y,tweet,likelihood)\n",
        "        selected.append(selected_predict)\n",
        "    return selected"
      ],
      "id": "3dc6eb65",
      "execution_count": null,
      "outputs": []
    },
    {
      "cell_type": "code",
      "metadata": {
        "execution": {
          "iopub.execute_input": "2021-10-20T19:02:18.474284Z",
          "iopub.status.busy": "2021-10-20T19:02:18.312155Z",
          "iopub.status.idle": "2021-10-20T19:02:19.038045Z",
          "shell.execute_reply": "2021-10-20T19:02:19.037366Z",
          "shell.execute_reply.started": "2021-10-20T18:55:28.712817Z"
        },
        "id": "b4bc22c0",
        "papermill": {
          "duration": 0.776576,
          "end_time": "2021-10-20T19:02:19.038191",
          "exception": false,
          "start_time": "2021-10-20T19:02:18.261615",
          "status": "completed"
        },
        "tags": [],
        "outputId": "7b7f2d78-0be2-414d-e47a-c52632f5e39d"
      },
      "source": [
        "Predict_Extract_text(preprocessed_train_X,likelihood)[0:5]"
      ],
      "id": "b4bc22c0",
      "execution_count": null,
      "outputs": [
        {
          "data": {
            "text/plain": [
              "[['senior', 'fml'],\n",
              " ['yummi', 'curri', 'save', 'pleas'],\n",
              " ['i', 'i', 'someon', 'down', 'hook', 'told', 'me', 'that', 'crappi', 'seat'],\n",
              " ['u', 'in', 'rain'],\n",
              " ['into']]"
            ]
          },
          "execution_count": 28,
          "metadata": {},
          "output_type": "execute_result"
        }
      ]
    },
    {
      "cell_type": "code",
      "metadata": {
        "execution": {
          "iopub.execute_input": "2021-10-20T19:02:19.141143Z",
          "iopub.status.busy": "2021-10-20T19:02:19.140389Z",
          "iopub.status.idle": "2021-10-20T19:02:19.143637Z",
          "shell.execute_reply": "2021-10-20T19:02:19.142952Z",
          "shell.execute_reply.started": "2021-10-20T18:55:29.477080Z"
        },
        "id": "edad6635",
        "papermill": {
          "duration": 0.057243,
          "end_time": "2021-10-20T19:02:19.143785",
          "exception": false,
          "start_time": "2021-10-20T19:02:19.086542",
          "status": "completed"
        },
        "tags": []
      },
      "source": [
        "def Map_Extracted(Preprocessed_X,likelihood):\n",
        "  extracted_text = Predict_Extract_text(Preprocessed_X,likelihood)\n",
        "  index2word = Preprocessed_X.index2word.to_list()\n",
        "  preprocessed_texts = Preprocessed_X.preprocessed_texts.to_list()\n",
        "  Selected_text = []\n",
        "  for e,i,p in zip(extracted_text,index2word,preprocessed_texts):\n",
        "    Text = {}\n",
        "    for j in p.items():\n",
        "      for w in e:\n",
        "        if w == j[1]:\n",
        "          Text[j[0]] = i[j[0]]\n",
        "          \n",
        "    Selected_text.append(\" \".join(list(Text.values())))\n",
        "\n",
        "  return Selected_text"
      ],
      "id": "edad6635",
      "execution_count": null,
      "outputs": []
    },
    {
      "cell_type": "code",
      "metadata": {
        "execution": {
          "iopub.execute_input": "2021-10-20T19:02:19.264338Z",
          "iopub.status.busy": "2021-10-20T19:02:19.259028Z",
          "iopub.status.idle": "2021-10-20T19:02:20.053824Z",
          "shell.execute_reply": "2021-10-20T19:02:20.054468Z",
          "shell.execute_reply.started": "2021-10-20T18:55:29.487471Z"
        },
        "id": "3a6e29eb",
        "papermill": {
          "duration": 0.863805,
          "end_time": "2021-10-20T19:02:20.054669",
          "exception": false,
          "start_time": "2021-10-20T19:02:19.190864",
          "status": "completed"
        },
        "tags": [],
        "outputId": "86f9b1a1-78d9-4fcf-a17d-d7b4044718f2"
      },
      "source": [
        "Map_Extracted(preprocessed_train_X,likelihood)[0:5]"
      ],
      "id": "3a6e29eb",
      "execution_count": null,
      "outputs": [
        {
          "data": {
            "text/plain": [
              "['senior FML',\n",
              " 'yummy curry save please',\n",
              " 'I I someone down hook told me that crappy seats',\n",
              " 'u in rain...',\n",
              " 'into']"
            ]
          },
          "execution_count": 30,
          "metadata": {},
          "output_type": "execute_result"
        }
      ]
    },
    {
      "cell_type": "code",
      "metadata": {
        "execution": {
          "iopub.execute_input": "2021-10-20T19:02:20.156474Z",
          "iopub.status.busy": "2021-10-20T19:02:20.155768Z",
          "iopub.status.idle": "2021-10-20T19:02:20.161021Z",
          "shell.execute_reply": "2021-10-20T19:02:20.161550Z",
          "shell.execute_reply.started": "2021-10-20T18:55:30.312402Z"
        },
        "id": "125dc321",
        "papermill": {
          "duration": 0.05669,
          "end_time": "2021-10-20T19:02:20.161748",
          "exception": false,
          "start_time": "2021-10-20T19:02:20.105058",
          "status": "completed"
        },
        "tags": []
      },
      "source": [
        "def Score_Predict_Extract(Preprocessed_X,likelihood,y_ex):\n",
        "    score = 0\n",
        "    predict_selected = Map_Extracted(Preprocessed_X,likelihood)\n",
        "    y_true_s = y_ex.copy().to_list()\n",
        "    for y_pred, y_true in zip(predict_selected,y_true_s):\n",
        "        score += jaccard(str(y_true),y_pred)\n",
        "    return score/len(y_true_s)\n",
        "    "
      ],
      "id": "125dc321",
      "execution_count": null,
      "outputs": []
    },
    {
      "cell_type": "code",
      "metadata": {
        "execution": {
          "iopub.execute_input": "2021-10-20T19:02:20.260898Z",
          "iopub.status.busy": "2021-10-20T19:02:20.260219Z",
          "iopub.status.idle": "2021-10-20T19:02:21.317693Z",
          "shell.execute_reply": "2021-10-20T19:02:21.318210Z",
          "shell.execute_reply.started": "2021-10-20T18:55:30.322138Z"
        },
        "id": "0d00bc45",
        "papermill": {
          "duration": 1.108937,
          "end_time": "2021-10-20T19:02:21.318451",
          "exception": false,
          "start_time": "2021-10-20T19:02:20.209514",
          "status": "completed"
        },
        "tags": [],
        "outputId": "fa56600b-42c3-4693-cac4-06bda1c9293b"
      },
      "source": [
        "score = Score_Predict_Extract(preprocessed_train_X,likelihood,train_y_ex)\n",
        "score"
      ],
      "id": "0d00bc45",
      "execution_count": null,
      "outputs": [
        {
          "data": {
            "text/plain": [
              "0.3569733820782971"
            ]
          },
          "execution_count": 32,
          "metadata": {},
          "output_type": "execute_result"
        }
      ]
    },
    {
      "cell_type": "code",
      "metadata": {
        "execution": {
          "iopub.execute_input": "2021-10-20T19:02:21.423898Z",
          "iopub.status.busy": "2021-10-20T19:02:21.422970Z",
          "iopub.status.idle": "2021-10-20T19:02:28.083287Z",
          "shell.execute_reply": "2021-10-20T19:02:28.083814Z",
          "shell.execute_reply.started": "2021-10-20T18:55:31.216598Z"
        },
        "id": "7ffd22ce",
        "papermill": {
          "duration": 6.714002,
          "end_time": "2021-10-20T19:02:28.084052",
          "exception": false,
          "start_time": "2021-10-20T19:02:21.370050",
          "status": "completed"
        },
        "tags": []
      },
      "source": [
        "preprocessed_val_X = preprocess_tweets(val_X_df)"
      ],
      "id": "7ffd22ce",
      "execution_count": null,
      "outputs": []
    },
    {
      "cell_type": "code",
      "metadata": {
        "execution": {
          "iopub.execute_input": "2021-10-20T19:02:28.184645Z",
          "iopub.status.busy": "2021-10-20T19:02:28.183571Z",
          "iopub.status.idle": "2021-10-20T19:02:28.549219Z",
          "shell.execute_reply": "2021-10-20T19:02:28.548612Z",
          "shell.execute_reply.started": "2021-10-20T18:55:37.940722Z"
        },
        "id": "a293d880",
        "papermill": {
          "duration": 0.417161,
          "end_time": "2021-10-20T19:02:28.549411",
          "exception": false,
          "start_time": "2021-10-20T19:02:28.132250",
          "status": "completed"
        },
        "tags": [],
        "outputId": "0e6b3aa1-cab6-428d-f9f0-330d05fca337"
      },
      "source": [
        "score_val = Score_Predict_Extract(preprocessed_val_X,likelihood,val_y_ex)\n",
        "score_val"
      ],
      "id": "a293d880",
      "execution_count": null,
      "outputs": [
        {
          "data": {
            "text/plain": [
              "0.32215676153662715"
            ]
          },
          "execution_count": 34,
          "metadata": {},
          "output_type": "execute_result"
        }
      ]
    },
    {
      "cell_type": "code",
      "metadata": {
        "execution": {
          "iopub.execute_input": "2021-10-20T19:02:28.649750Z",
          "iopub.status.busy": "2021-10-20T19:02:28.648989Z",
          "iopub.status.idle": "2021-10-20T19:02:51.613007Z",
          "shell.execute_reply": "2021-10-20T19:02:51.612364Z",
          "shell.execute_reply.started": "2021-10-20T18:55:38.452979Z"
        },
        "id": "d0c8694b",
        "papermill": {
          "duration": 23.015057,
          "end_time": "2021-10-20T19:02:51.613172",
          "exception": false,
          "start_time": "2021-10-20T19:02:28.598115",
          "status": "completed"
        },
        "tags": []
      },
      "source": [
        "preprocessed_full_X,freqs_tw_full,likelihood_full = Training_Extracted_Sentiment(X_df,y_ex)"
      ],
      "id": "d0c8694b",
      "execution_count": null,
      "outputs": []
    },
    {
      "cell_type": "code",
      "metadata": {
        "execution": {
          "iopub.execute_input": "2021-10-20T19:02:51.716002Z",
          "iopub.status.busy": "2021-10-20T19:02:51.715317Z",
          "iopub.status.idle": "2021-10-20T19:02:52.938148Z",
          "shell.execute_reply": "2021-10-20T19:02:52.938654Z",
          "shell.execute_reply.started": "2021-10-20T18:56:01.637749Z"
        },
        "id": "70b0e2f3",
        "papermill": {
          "duration": 1.276042,
          "end_time": "2021-10-20T19:02:52.938852",
          "exception": false,
          "start_time": "2021-10-20T19:02:51.662810",
          "status": "completed"
        },
        "tags": [],
        "outputId": "e85aa448-234f-45e2-9242-4e144e3e131e"
      },
      "source": [
        "score_full = Score_Predict_Extract(preprocessed_full_X,likelihood_full,y_ex)\n",
        "score_full"
      ],
      "id": "70b0e2f3",
      "execution_count": null,
      "outputs": [
        {
          "data": {
            "text/plain": [
              "0.34474342725456364"
            ]
          },
          "execution_count": 36,
          "metadata": {},
          "output_type": "execute_result"
        }
      ]
    },
    {
      "cell_type": "code",
      "metadata": {
        "id": "caf34e30",
        "papermill": {
          "duration": 0.047671,
          "end_time": "2021-10-20T19:02:53.034679",
          "exception": false,
          "start_time": "2021-10-20T19:02:52.987008",
          "status": "completed"
        },
        "tags": []
      },
      "source": [
        ""
      ],
      "id": "caf34e30",
      "execution_count": null,
      "outputs": []
    },
    {
      "cell_type": "code",
      "metadata": {
        "execution": {
          "iopub.execute_input": "2021-10-20T19:02:53.150711Z",
          "iopub.status.busy": "2021-10-20T19:02:53.149169Z",
          "iopub.status.idle": "2021-10-20T19:02:53.153119Z",
          "shell.execute_reply": "2021-10-20T19:02:53.153858Z",
          "shell.execute_reply.started": "2021-10-20T18:56:03.036651Z"
        },
        "id": "d9cf16c1",
        "papermill": {
          "duration": 0.066187,
          "end_time": "2021-10-20T19:02:53.154077",
          "exception": false,
          "start_time": "2021-10-20T19:02:53.087890",
          "status": "completed"
        },
        "tags": []
      },
      "source": [
        "# predict = pd.DataFrame(data ={'textID': df.textID,'selected_text':pd.Series(extracted_text)})\n",
        "# predict"
      ],
      "id": "d9cf16c1",
      "execution_count": null,
      "outputs": []
    },
    {
      "cell_type": "code",
      "metadata": {
        "execution": {
          "iopub.execute_input": "2021-10-20T19:02:53.267026Z",
          "iopub.status.busy": "2021-10-20T19:02:53.266292Z",
          "iopub.status.idle": "2021-10-20T19:02:53.308907Z",
          "shell.execute_reply": "2021-10-20T19:02:53.309717Z",
          "shell.execute_reply.started": "2021-10-20T18:56:20.272071Z"
        },
        "id": "044ff513",
        "papermill": {
          "duration": 0.103789,
          "end_time": "2021-10-20T19:02:53.309958",
          "exception": false,
          "start_time": "2021-10-20T19:02:53.206169",
          "status": "completed"
        },
        "tags": [],
        "outputId": "113be2b0-0fc5-459a-be56-9398a81ce78c"
      },
      "source": [
        "test_df = pd.read_csv('../input/tweet-sentiment-extraction/test.csv')\n",
        "test_df"
      ],
      "id": "044ff513",
      "execution_count": null,
      "outputs": [
        {
          "data": {
            "text/html": [
              "<div>\n",
              "<style scoped>\n",
              "    .dataframe tbody tr th:only-of-type {\n",
              "        vertical-align: middle;\n",
              "    }\n",
              "\n",
              "    .dataframe tbody tr th {\n",
              "        vertical-align: top;\n",
              "    }\n",
              "\n",
              "    .dataframe thead th {\n",
              "        text-align: right;\n",
              "    }\n",
              "</style>\n",
              "<table border=\"1\" class=\"dataframe\">\n",
              "  <thead>\n",
              "    <tr style=\"text-align: right;\">\n",
              "      <th></th>\n",
              "      <th>textID</th>\n",
              "      <th>text</th>\n",
              "      <th>sentiment</th>\n",
              "    </tr>\n",
              "  </thead>\n",
              "  <tbody>\n",
              "    <tr>\n",
              "      <th>0</th>\n",
              "      <td>f87dea47db</td>\n",
              "      <td>Last session of the day  http://twitpic.com/67ezh</td>\n",
              "      <td>neutral</td>\n",
              "    </tr>\n",
              "    <tr>\n",
              "      <th>1</th>\n",
              "      <td>96d74cb729</td>\n",
              "      <td>Shanghai is also really exciting (precisely -- skyscrapers galore). Good tweeps in China:  (SH)  (BJ).</td>\n",
              "      <td>positive</td>\n",
              "    </tr>\n",
              "    <tr>\n",
              "      <th>2</th>\n",
              "      <td>eee518ae67</td>\n",
              "      <td>Recession hit Veronique Branquinho, she has to quit her company, such a shame!</td>\n",
              "      <td>negative</td>\n",
              "    </tr>\n",
              "    <tr>\n",
              "      <th>3</th>\n",
              "      <td>01082688c6</td>\n",
              "      <td>happy bday!</td>\n",
              "      <td>positive</td>\n",
              "    </tr>\n",
              "    <tr>\n",
              "      <th>4</th>\n",
              "      <td>33987a8ee5</td>\n",
              "      <td>http://twitpic.com/4w75p - I like it!!</td>\n",
              "      <td>positive</td>\n",
              "    </tr>\n",
              "    <tr>\n",
              "      <th>...</th>\n",
              "      <td>...</td>\n",
              "      <td>...</td>\n",
              "      <td>...</td>\n",
              "    </tr>\n",
              "    <tr>\n",
              "      <th>3529</th>\n",
              "      <td>e5f0e6ef4b</td>\n",
              "      <td>its at 3 am, im very tired but i can`t sleep  but i try it</td>\n",
              "      <td>negative</td>\n",
              "    </tr>\n",
              "    <tr>\n",
              "      <th>3530</th>\n",
              "      <td>416863ce47</td>\n",
              "      <td>All alone in this old house again.  Thanks for the net which keeps me alive and kicking! Whoever invented the net, i wanna kiss your hair!</td>\n",
              "      <td>positive</td>\n",
              "    </tr>\n",
              "    <tr>\n",
              "      <th>3531</th>\n",
              "      <td>6332da480c</td>\n",
              "      <td>I know what you mean. My little dog is sinking into depression... he wants to move someplace tropical</td>\n",
              "      <td>negative</td>\n",
              "    </tr>\n",
              "    <tr>\n",
              "      <th>3532</th>\n",
              "      <td>df1baec676</td>\n",
              "      <td>_sutra what is your next youtube video gonna be about? I love your videos!</td>\n",
              "      <td>positive</td>\n",
              "    </tr>\n",
              "    <tr>\n",
              "      <th>3533</th>\n",
              "      <td>469e15c5a8</td>\n",
              "      <td>http://twitpic.com/4woj2 - omgssh  ang cute ng bby.!</td>\n",
              "      <td>positive</td>\n",
              "    </tr>\n",
              "  </tbody>\n",
              "</table>\n",
              "<p>3534 rows × 3 columns</p>\n",
              "</div>"
            ],
            "text/plain": [
              "          textID  \\\n",
              "0     f87dea47db   \n",
              "1     96d74cb729   \n",
              "2     eee518ae67   \n",
              "3     01082688c6   \n",
              "4     33987a8ee5   \n",
              "...          ...   \n",
              "3529  e5f0e6ef4b   \n",
              "3530  416863ce47   \n",
              "3531  6332da480c   \n",
              "3532  df1baec676   \n",
              "3533  469e15c5a8   \n",
              "\n",
              "                                                                                                                                            text  \\\n",
              "0                                                                                              Last session of the day  http://twitpic.com/67ezh   \n",
              "1                                         Shanghai is also really exciting (precisely -- skyscrapers galore). Good tweeps in China:  (SH)  (BJ).   \n",
              "2                                                                 Recession hit Veronique Branquinho, she has to quit her company, such a shame!   \n",
              "3                                                                                                                                    happy bday!   \n",
              "4                                                                                                         http://twitpic.com/4w75p - I like it!!   \n",
              "...                                                                                                                                          ...   \n",
              "3529                                                                                  its at 3 am, im very tired but i can`t sleep  but i try it   \n",
              "3530  All alone in this old house again.  Thanks for the net which keeps me alive and kicking! Whoever invented the net, i wanna kiss your hair!   \n",
              "3531                                       I know what you mean. My little dog is sinking into depression... he wants to move someplace tropical   \n",
              "3532                                                                  _sutra what is your next youtube video gonna be about? I love your videos!   \n",
              "3533                                                                                        http://twitpic.com/4woj2 - omgssh  ang cute ng bby.!   \n",
              "\n",
              "     sentiment  \n",
              "0      neutral  \n",
              "1     positive  \n",
              "2     negative  \n",
              "3     positive  \n",
              "4     positive  \n",
              "...        ...  \n",
              "3529  negative  \n",
              "3530  positive  \n",
              "3531  negative  \n",
              "3532  positive  \n",
              "3533  positive  \n",
              "\n",
              "[3534 rows x 3 columns]"
            ]
          },
          "execution_count": 38,
          "metadata": {},
          "output_type": "execute_result"
        }
      ]
    },
    {
      "cell_type": "code",
      "metadata": {
        "execution": {
          "iopub.execute_input": "2021-10-20T19:02:53.432022Z",
          "iopub.status.busy": "2021-10-20T19:02:53.431254Z",
          "iopub.status.idle": "2021-10-20T19:02:56.318645Z",
          "shell.execute_reply": "2021-10-20T19:02:56.317992Z",
          "shell.execute_reply.started": "2021-10-20T18:56:22.986430Z"
        },
        "id": "4b0c227d",
        "papermill": {
          "duration": 2.951609,
          "end_time": "2021-10-20T19:02:56.318792",
          "exception": false,
          "start_time": "2021-10-20T19:02:53.367183",
          "status": "completed"
        },
        "tags": []
      },
      "source": [
        "test_preprocessed = preprocess_tweets(test_df)"
      ],
      "id": "4b0c227d",
      "execution_count": null,
      "outputs": []
    },
    {
      "cell_type": "code",
      "metadata": {
        "execution": {
          "iopub.execute_input": "2021-10-20T19:02:56.422918Z",
          "iopub.status.busy": "2021-10-20T19:02:56.422152Z",
          "iopub.status.idle": "2021-10-20T19:02:56.555029Z",
          "shell.execute_reply": "2021-10-20T19:02:56.555653Z",
          "shell.execute_reply.started": "2021-10-20T18:56:27.694038Z"
        },
        "id": "060be7d7",
        "papermill": {
          "duration": 0.1881,
          "end_time": "2021-10-20T19:02:56.555839",
          "exception": false,
          "start_time": "2021-10-20T19:02:56.367739",
          "status": "completed"
        },
        "tags": [],
        "outputId": "c6037e3e-77a7-4892-a6ee-dcb3912762ec"
      },
      "source": [
        "preds_extracted_text = Map_Extracted(test_preprocessed,likelihood_full)\n",
        "preds_extracted_text[0:5]"
      ],
      "id": "060be7d7",
      "execution_count": null,
      "outputs": [
        {
          "data": {
            "text/plain": [
              "['Last http://twitpic.com/67ezh',\n",
              " 'exciting -- Good tweeps',\n",
              " 'Recession hit she has shame!',\n",
              " 'happy bday!',\n",
              " '-']"
            ]
          },
          "execution_count": 40,
          "metadata": {},
          "output_type": "execute_result"
        }
      ]
    },
    {
      "cell_type": "code",
      "metadata": {
        "execution": {
          "iopub.execute_input": "2021-10-20T19:02:56.657311Z",
          "iopub.status.busy": "2021-10-20T19:02:56.656600Z",
          "iopub.status.idle": "2021-10-20T19:02:56.663057Z",
          "shell.execute_reply": "2021-10-20T19:02:56.662493Z",
          "shell.execute_reply.started": "2021-10-20T18:56:29.994126Z"
        },
        "id": "2e7a7fbe",
        "papermill": {
          "duration": 0.058349,
          "end_time": "2021-10-20T19:02:56.663194",
          "exception": false,
          "start_time": "2021-10-20T19:02:56.604845",
          "status": "completed"
        },
        "tags": []
      },
      "source": [
        "submission_df = pd.DataFrame(data = {'textID': test_df.textID,'selected_text':pd.Series(preds_extracted_text)})"
      ],
      "id": "2e7a7fbe",
      "execution_count": null,
      "outputs": []
    },
    {
      "cell_type": "code",
      "metadata": {
        "execution": {
          "iopub.execute_input": "2021-10-20T19:02:56.766122Z",
          "iopub.status.busy": "2021-10-20T19:02:56.765473Z",
          "iopub.status.idle": "2021-10-20T19:02:56.783559Z",
          "shell.execute_reply": "2021-10-20T19:02:56.784100Z",
          "shell.execute_reply.started": "2021-10-20T18:56:32.214390Z"
        },
        "id": "5e419516",
        "papermill": {
          "duration": 0.070412,
          "end_time": "2021-10-20T19:02:56.784295",
          "exception": false,
          "start_time": "2021-10-20T19:02:56.713883",
          "status": "completed"
        },
        "tags": []
      },
      "source": [
        "submission_df.to_csv(\"submission.csv\", index=False)"
      ],
      "id": "5e419516",
      "execution_count": null,
      "outputs": []
    },
    {
      "cell_type": "code",
      "metadata": {
        "execution": {
          "iopub.execute_input": "2021-10-20T19:02:56.885823Z",
          "iopub.status.busy": "2021-10-20T19:02:56.885109Z",
          "iopub.status.idle": "2021-10-20T19:02:56.893355Z",
          "shell.execute_reply": "2021-10-20T19:02:56.893943Z",
          "shell.execute_reply.started": "2021-10-20T18:56:37.193054Z"
        },
        "id": "15374961",
        "papermill": {
          "duration": 0.060603,
          "end_time": "2021-10-20T19:02:56.894123",
          "exception": false,
          "start_time": "2021-10-20T19:02:56.833520",
          "status": "completed"
        },
        "tags": [],
        "outputId": "68d32ef2-5077-4eef-d01f-f8950b0a6427"
      },
      "source": [
        "submission_df.head(5)"
      ],
      "id": "15374961",
      "execution_count": null,
      "outputs": [
        {
          "data": {
            "text/html": [
              "<div>\n",
              "<style scoped>\n",
              "    .dataframe tbody tr th:only-of-type {\n",
              "        vertical-align: middle;\n",
              "    }\n",
              "\n",
              "    .dataframe tbody tr th {\n",
              "        vertical-align: top;\n",
              "    }\n",
              "\n",
              "    .dataframe thead th {\n",
              "        text-align: right;\n",
              "    }\n",
              "</style>\n",
              "<table border=\"1\" class=\"dataframe\">\n",
              "  <thead>\n",
              "    <tr style=\"text-align: right;\">\n",
              "      <th></th>\n",
              "      <th>textID</th>\n",
              "      <th>selected_text</th>\n",
              "    </tr>\n",
              "  </thead>\n",
              "  <tbody>\n",
              "    <tr>\n",
              "      <th>0</th>\n",
              "      <td>f87dea47db</td>\n",
              "      <td>Last http://twitpic.com/67ezh</td>\n",
              "    </tr>\n",
              "    <tr>\n",
              "      <th>1</th>\n",
              "      <td>96d74cb729</td>\n",
              "      <td>exciting -- Good tweeps</td>\n",
              "    </tr>\n",
              "    <tr>\n",
              "      <th>2</th>\n",
              "      <td>eee518ae67</td>\n",
              "      <td>Recession hit she has shame!</td>\n",
              "    </tr>\n",
              "    <tr>\n",
              "      <th>3</th>\n",
              "      <td>01082688c6</td>\n",
              "      <td>happy bday!</td>\n",
              "    </tr>\n",
              "    <tr>\n",
              "      <th>4</th>\n",
              "      <td>33987a8ee5</td>\n",
              "      <td>-</td>\n",
              "    </tr>\n",
              "  </tbody>\n",
              "</table>\n",
              "</div>"
            ],
            "text/plain": [
              "       textID                  selected_text\n",
              "0  f87dea47db  Last http://twitpic.com/67ezh\n",
              "1  96d74cb729        exciting -- Good tweeps\n",
              "2  eee518ae67   Recession hit she has shame!\n",
              "3  01082688c6                    happy bday!\n",
              "4  33987a8ee5                              -"
            ]
          },
          "execution_count": 43,
          "metadata": {},
          "output_type": "execute_result"
        }
      ]
    },
    {
      "cell_type": "code",
      "metadata": {
        "execution": {
          "iopub.execute_input": "2021-10-20T19:02:56.996301Z",
          "iopub.status.busy": "2021-10-20T19:02:56.995643Z",
          "iopub.status.idle": "2021-10-20T19:02:56.998259Z",
          "shell.execute_reply": "2021-10-20T19:02:56.998906Z",
          "shell.execute_reply.started": "2021-10-20T18:56:03.047289Z"
        },
        "id": "dc856b24",
        "papermill": {
          "duration": 0.055404,
          "end_time": "2021-10-20T19:02:56.999088",
          "exception": false,
          "start_time": "2021-10-20T19:02:56.943684",
          "status": "completed"
        },
        "tags": []
      },
      "source": [
        "# y_test = test_df.sentiment.map({'positive':1,'neutral':0,'negative':-1}).to_list()\n",
        "# tweets_test = test_df.text.to_list()"
      ],
      "id": "dc856b24",
      "execution_count": null,
      "outputs": []
    },
    {
      "cell_type": "code",
      "metadata": {
        "execution": {
          "iopub.execute_input": "2021-10-20T19:02:57.103215Z",
          "iopub.status.busy": "2021-10-20T19:02:57.102587Z",
          "iopub.status.idle": "2021-10-20T19:02:57.105306Z",
          "shell.execute_reply": "2021-10-20T19:02:57.105928Z",
          "shell.execute_reply.started": "2021-10-20T18:56:03.048475Z"
        },
        "id": "f524c5ee",
        "papermill": {
          "duration": 0.056803,
          "end_time": "2021-10-20T19:02:57.106101",
          "exception": false,
          "start_time": "2021-10-20T19:02:57.049298",
          "status": "completed"
        },
        "tags": []
      },
      "source": [
        "#Extract_text(y_test,preprocessing(tweets_test),likelihood)"
      ],
      "id": "f524c5ee",
      "execution_count": null,
      "outputs": []
    },
    {
      "cell_type": "code",
      "metadata": {
        "execution": {
          "iopub.execute_input": "2021-10-20T19:02:57.209768Z",
          "iopub.status.busy": "2021-10-20T19:02:57.209123Z",
          "iopub.status.idle": "2021-10-20T19:02:57.211750Z",
          "shell.execute_reply": "2021-10-20T19:02:57.212366Z",
          "shell.execute_reply.started": "2021-10-20T18:56:03.049881Z"
        },
        "id": "17d994b6",
        "papermill": {
          "duration": 0.055216,
          "end_time": "2021-10-20T19:02:57.212540",
          "exception": false,
          "start_time": "2021-10-20T19:02:57.157324",
          "status": "completed"
        },
        "tags": []
      },
      "source": [
        "# submission = pd.DataFrame(data ={'textID': test_df.textID,'selected_text':pd.Series(extracted_text)})\n",
        "# predict"
      ],
      "id": "17d994b6",
      "execution_count": null,
      "outputs": []
    },
    {
      "cell_type": "code",
      "metadata": {
        "id": "bc5ef3e4",
        "papermill": {
          "duration": 0.050324,
          "end_time": "2021-10-20T19:02:57.313400",
          "exception": false,
          "start_time": "2021-10-20T19:02:57.263076",
          "status": "completed"
        },
        "tags": []
      },
      "source": [
        ""
      ],
      "id": "bc5ef3e4",
      "execution_count": null,
      "outputs": []
    }
  ]
}